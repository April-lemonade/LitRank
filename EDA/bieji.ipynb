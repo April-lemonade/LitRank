{
 "cells": [
  {
   "cell_type": "code",
   "execution_count": 1,
   "id": "initial_id",
   "metadata": {
    "collapsed": true,
    "ExecuteTime": {
     "end_time": "2024-12-08T09:16:34.194674Z",
     "start_time": "2024-12-08T09:16:33.710811Z"
    }
   },
   "outputs": [],
   "source": [
    "import pyarrow as pa\n",
    "import pyarrow.parquet as pq\n",
    "import pyarrow.compute as pc\n",
    "import pyarrow.dataset as ds\n",
    "import pandas as pd\n",
    "import duckdb\n",
    "import numpy as np\n",
    "import altair as alt\n",
    "import json\n",
    "from urllib.request import urlopen\n",
    "import time\n",
    "import os\n",
    "import plotly.express as px"
   ]
  },
  {
   "cell_type": "code",
   "outputs": [],
   "source": [
    "poet = pd.read_csv('../../CCGIV/datasets/WomenWriting/poet.csv')\n",
    "poem = pd.read_csv('../../CCGIV/datasets/WomenWriting/poem.csv')\n",
    "poempoetlinks = pd.read_csv('../../CCGIV/datasets/WomenWriting/poempoetlinks.csv')\n",
    "subwork = pd.read_csv('../../CCGIV/datasets/WomenWriting/subwork.csv')\n",
    "subworkpoemlinks = pd.read_csv('../../CCGIV/datasets/WomenWriting/subworkpoemlinks.csv')\n",
    "subworkpoetlinks = pd.read_csv('../../CCGIV/datasets/WomenWriting/subworkpoetlinks.csv')\n",
    "work = pd.read_csv('../../CCGIV/datasets/WomenWriting/work.csv')\n",
    "workpoemlinks = pd.read_csv('../../CCGIV/datasets/WomenWriting/workpoemlinks.csv')\n",
    "workpoetlinks = pd.read_csv('../../CCGIV/datasets/WomenWriting/workpoetlinks.csv')\n",
    "poetregionlinks = pd.read_csv('../../CCGIV/datasets/WomenWriting/poetregionlinks.csv')\n",
    "relation = pd.read_csv('../../CCGIV/datasets/WomenWriting/poetregionlinks.csv')"
   ],
   "metadata": {
    "collapsed": false,
    "ExecuteTime": {
     "end_time": "2024-12-08T09:16:35.090409Z",
     "start_time": "2024-12-08T09:16:34.937227Z"
    }
   },
   "id": "3fa41f5ed4c8e9",
   "execution_count": 2
  },
  {
   "cell_type": "code",
   "outputs": [],
   "source": [
    "work = work[work['worktype'] == '別集']\n",
    "work"
   ],
   "metadata": {
    "collapsed": false
   },
   "id": "94b918482a5f51df",
   "execution_count": null
  },
  {
   "cell_type": "code",
   "outputs": [],
   "source": [
    "workpoetlinks = workpoetlinks[workpoetlinks['workID'].isin(work['workID'])]\n",
    "workpoetlinks"
   ],
   "metadata": {
    "collapsed": false
   },
   "id": "1112198e82bc2a1b",
   "execution_count": null
  },
  {
   "cell_type": "code",
   "outputs": [],
   "source": [
    "workpoemlinks = workpoemlinks[workpoemlinks['workID'].isin(work['workID'])]\n",
    "workpoemlinks"
   ],
   "metadata": {
    "collapsed": false
   },
   "id": "922fe5583969fff9",
   "execution_count": null
  },
  {
   "cell_type": "code",
   "outputs": [],
   "source": [
    "poet = poet[poet['poetID'].isin(workpoetlinks['poetID'])]\n",
    "# poet = poet.drop_duplicates(subset='poetID')\n",
    "\n",
    "poet"
   ],
   "metadata": {
    "collapsed": false
   },
   "id": "6b808022b51e8b84",
   "execution_count": null
  },
  {
   "cell_type": "code",
   "outputs": [],
   "source": [
    "# poem = poem.merge(workpoemlinks, on='poemID',how='inner')\n",
    "poem = poem[poem['poemID'].isin(workpoemlinks['poemID'])]\n",
    "\n",
    "# poem = poem.drop_duplicates(subset='poemID')\n",
    "\n",
    "poem"
   ],
   "metadata": {
    "collapsed": false
   },
   "id": "2ab1fe98155ad0fa",
   "execution_count": null
  },
  {
   "cell_type": "code",
   "outputs": [],
   "source": [
    "con = duckdb.connect()\n",
    "con.register('poet', poet)\n",
    "con.register('poem', poem)\n",
    "con.register('poempoetlinks', poempoetlinks)\n",
    "con.register('subwork', subwork)\n",
    "con.register('subworkpoemlinks', subworkpoemlinks)\n",
    "con.register('subworkpoetlinks', subworkpoetlinks)\n",
    "con.register('work', work)\n",
    "con.register('workpoemlinks', workpoemlinks)\n",
    "con.register('workpoetlinks', workpoetlinks)\n",
    "con.register('poetregionlinks', poetregionlinks)\n",
    "con.register('relation', relation)"
   ],
   "metadata": {
    "collapsed": false
   },
   "id": "afec1da4511784ce",
   "execution_count": null
  },
  {
   "cell_type": "code",
   "outputs": [],
   "source": [
    "ticiSQL = '''\n",
    "SELECT workID,count(DISTINCT poetID) as ticicount\n",
    "FROM workpoetlinks \n",
    "WHERE role IN ('題辭')\n",
    "Group By workID\n",
    "ORDER BY ticicount DESC\n",
    "'''\n",
    "tici = duckdb.query(ticiSQL).df()\n",
    "tici.set_index('workID', inplace=True)\n",
    "\n",
    "xuSQL = '''\n",
    "SELECT workID,count(DISTINCT poetID) as xucount\n",
    "FROM workpoetlinks \n",
    "WHERE role IN ('序作者')\n",
    "Group By workID\n",
    "ORDER BY xucount DESC\n",
    "'''\n",
    "xu = duckdb.query(xuSQL).df()\n",
    "xu.set_index('workID', inplace=True)\n",
    "\n",
    "baSQL = '''\n",
    "SELECT workID,count(DISTINCT poetID) as bacount\n",
    "FROM workpoetlinks \n",
    "WHERE role IN ('跋作者')\n",
    "Group By workID\n",
    "ORDER BY bacount DESC\n",
    "'''\n",
    "ba = duckdb.query(baSQL).df()\n",
    "ba.set_index('workID', inplace=True)\n",
    "\n",
    "from functools import reduce\n",
    "\n",
    "TiciXuBa = reduce(lambda left, right: pd.merge(left, right, on='workID', how='outer'), [tici, xu, ba]).fillna(0)\n",
    "TiciXuBa\n",
    "\n",
    "includedWorkSQL = '''\n",
    "SELECT workID,count(poemID) as includedcount\n",
    "FROM workpoemlinks \n",
    "Group By workID\n",
    "ORDER BY includedcount DESC\n",
    "'''\n",
    "includedWork = duckdb.query(includedWorkSQL).df()\n",
    "includedWork.set_index('workID', inplace=True)\n",
    "\n",
    "jiRawData = reduce(lambda left, right: pd.merge(left, right, on='workID', how='outer'),\n",
    "                   [tici, xu, ba, includedWork]).fillna(0)\n",
    "\n",
    "ji_combine_normalize = jiRawData.copy()\n",
    "\n",
    "all_counts = np.concatenate(\n",
    "    (ji_combine_normalize['ticicount'], ji_combine_normalize['xucount'], ji_combine_normalize['bacount']))\n",
    "\n",
    "min_val = all_counts.min()\n",
    "max_val = all_counts.max()\n",
    "ji_combine_normalize['normalized_bacount'] = (ji_combine_normalize['bacount'] - min_val) / (max_val - min_val)\n",
    "ji_combine_normalize['normalized_ticicount'] = (ji_combine_normalize['ticicount'] - min_val) / (max_val - min_val)\n",
    "ji_combine_normalize['normalized_xucount'] = (ji_combine_normalize['xucount'] - min_val) / (max_val - min_val)\n",
    "\n",
    "\n",
    "def min_max_normalize_ori(series):\n",
    "    return (series - series.min()) / (series.max() - series.min())\n",
    "\n",
    "\n",
    "# 收录的作品数单独归一化\n",
    "if ji_combine_normalize['includedcount'].dtype in ['float64', 'int64']:  # 检查数据类型是否为数值类型\n",
    "    ji_combine_normalize['includedcount'] = min_max_normalize_ori(ji_combine_normalize['includedcount'])\n",
    "\n",
    "xuweight = 0.25\n",
    "baweight = 0.25\n",
    "ticiweight = 0.25\n",
    "includedweight = 0.25\n",
    "\n",
    "ji_combine = ji_combine_normalize.copy()\n",
    "\n",
    "ji_combine['totalWeight'] = xuweight * ji_combine['normalized_xucount'] + baweight * ji_combine[\n",
    "    'normalized_bacount'] + ticiweight * ji_combine['normalized_ticicount'] + includedweight * ji_combine[\n",
    "                                'includedcount']\n",
    "\n",
    "ji_combine"
   ],
   "metadata": {
    "collapsed": false
   },
   "id": "20f6fdc3d96d2c7f",
   "execution_count": null
  },
  {
   "cell_type": "code",
   "outputs": [],
   "source": [
    "PoetParticipateWorkSQL = '''SELECT poetID, COUNT(DISTINCT workID) AS participate_count\n",
    "    FROM workpoetlinks\n",
    "    GROUP BY poetID\n",
    "    ORDER BY participate_count DESC'''\n",
    "\n",
    "PoetParticipateWork = duckdb.query(PoetParticipateWorkSQL).df()\n",
    "PoetParticipateWork.set_index('poetID', inplace=True)\n",
    "\n",
    "xiangzanauthorSQL = '''\n",
    "SELECT poempoetlinks.poetID,COUNT(DISTINCT poem.poemID) AS xiangzanauthor_count\n",
    "FROM poem,poempoetlinks\n",
    "WHERE poem.GenreHZ='文﹕像贊' AND poem.poemID = poempoetlinks.poemID\n",
    "GROUP BY poempoetlinks.poetID\n",
    "ORDER BY xiangzanauthor_count\n",
    "'''\n",
    "xiangzanauthor = duckdb.query(xiangzanauthorSQL).df()\n",
    "xiangzanauthor.set_index('poetID', inplace=True)\n",
    "\n",
    "bexiangzanSQL = '''\n",
    "SELECT poetassubjectID AS poetID,COUNT(DISTINCT poemID) AS bexiangzansubjectCount\n",
    "FROM poem\n",
    "WHERE poem.GenreHZ='文﹕像贊' AND poetassubjectID !=0\n",
    "GROUP BY poetassubjectID\n",
    "'''\n",
    "bexiangzan = duckdb.query(bexiangzanSQL).df()\n",
    "bexiangzan.set_index('poetID', inplace=True)\n",
    "\n",
    "discussedSQL = '''\n",
    "SELECT poetassubjectID AS poetID, COUNT(DISTINCT poemID) AS discussedCount\n",
    "FROM poem\n",
    "WHERE GenreHZ!='文﹕像贊' AND poetassubjectID != 0\n",
    "GROUP BY poetassubjectID\n",
    "'''\n",
    "discussed = duckdb.query(discussedSQL).df()\n",
    "discussed.set_index('poetID', inplace=True)\n",
    "\n",
    "changheshiSQL = '''\n",
    "SELECT changheshuxinpoetID AS poetID, COUNT(DISTINCT poemID) AS changheshiCount\n",
    "FROM poem\n",
    "WHERE changheshuxinpoetID !=0\n",
    "GROUP BY changheshuxinpoetID\n",
    "'''\n",
    "changheshi = duckdb.query(changheshiSQL).df()\n",
    "changheshi.set_index('poetID', inplace=True)\n",
    "\n",
    "poetRawData = reduce(lambda left, right: pd.merge(left, right, on='poetID', how='outer'),\n",
    "                     [PoetParticipateWork, xiangzanauthor, bexiangzan, discussed, changheshi]).fillna(0)\n",
    "\n",
    "poet_log_normalize = poetRawData.copy()\n",
    "\n",
    "for column in poet_log_normalize.columns:\n",
    "    if poet_log_normalize[column].dtype in ['float64', 'int64']:\n",
    "        # 对数据加1以避免对0取对数的问题\n",
    "        max_val = poet_log_normalize[column].max()\n",
    "        if max_val > 0:\n",
    "            # 应用对数归一化\n",
    "            poet_log_normalize[column] = np.log(poet_log_normalize[column] + 1) / np.log(max_val + 1)\n",
    "\n",
    "participateWeight = 0.4\n",
    "writeXZWeight = 0.3\n",
    "inXZWeight = 0.1\n",
    "bediscussedWeight = 0.2\n",
    "changheWeight = 0.1\n",
    "\n",
    "poet_log = poet_log_normalize.copy()\n",
    "\n",
    "poet_log['totalWeight'] = participateWeight * poet_log['participate_count'] + writeXZWeight * poet_log[\n",
    "    'xiangzanauthor_count'] + inXZWeight * poet_log['bexiangzansubjectCount'] + bediscussedWeight * poet_log[\n",
    "                              'discussedCount'] + changheWeight * poet_log['changheshiCount']\n",
    "\n",
    "poet_log"
   ],
   "metadata": {
    "collapsed": false
   },
   "id": "e2daff28fe8e5459",
   "execution_count": null
  },
  {
   "cell_type": "code",
   "outputs": [],
   "source": [
    "workpoetlinks.groupby(['workID'])\n",
    "workpoetlinks"
   ],
   "metadata": {
    "collapsed": false
   },
   "id": "f210d36269bd0caf",
   "execution_count": null
  },
  {
   "cell_type": "code",
   "outputs": [],
   "source": [
    "workpoetinfo = workpoetlinks.copy()\n",
    "workpoetinfo = workpoetinfo.merge(poet, on='poetID', how='inner')\n",
    "workpoetinfo = workpoetinfo.merge(work, on='workID', how='inner')\n",
    "workpoetinfo"
   ],
   "metadata": {
    "collapsed": false
   },
   "id": "f52af0c0c9f53463",
   "execution_count": null
  },
  {
   "cell_type": "code",
   "outputs": [],
   "source": [
    "worktogether = workpoetinfo[['workID', 'TitleHZ', 'poetID', 'NameHZ', 'role', 'Sex']]\n",
    "worktogether"
   ],
   "metadata": {
    "collapsed": false
   },
   "id": "7a51526b7822eb8f",
   "execution_count": null
  },
  {
   "cell_type": "code",
   "outputs": [],
   "source": [
    "role_priority = ['主要作者', '作者', '其他作者']\n",
    "\n",
    "\n",
    "def find_primary_author(group):\n",
    "    # 移除分组键 `workID`，以避免未来版本的警告\n",
    "    group = group.drop(columns='workID')\n",
    "    for role in role_priority:\n",
    "        primary_authors = group[group['role'] == role]\n",
    "        if not primary_authors.empty:\n",
    "            return primary_authors.iloc[0]\n",
    "    return group.iloc[0]\n",
    "\n",
    "\n",
    "# 使用 groupby 并应用函数\n",
    "primary_authors = (\n",
    "    worktogether.groupby('workID', group_keys=False)\n",
    "    .apply(find_primary_author)\n",
    ")\n",
    "\n",
    "# 将分组键 `workID` 重新设为索引\n",
    "primary_authors['workID'] = primary_authors.index\n",
    "primary_authors = primary_authors.set_index('workID')\n",
    "\n",
    "# 转换为字典\n",
    "primary_authors_dict = primary_authors['NameHZ'].to_dict()\n",
    "primary_authors_dict"
   ],
   "metadata": {
    "collapsed": false
   },
   "id": "93c202444c04e065",
   "execution_count": null
  },
  {
   "cell_type": "code",
   "outputs": [],
   "source": [
    "primary_authors_dict.get(9, None)"
   ],
   "metadata": {
    "collapsed": false
   },
   "id": "2c9a7c4c6030b45d",
   "execution_count": null
  },
  {
   "cell_type": "code",
   "outputs": [],
   "source": [
    "import requests\n",
    "from zhconv import convert\n",
    "\n",
    "\n",
    "def find_person_with_specific_source(data, target_source=\"明清婦女著作數據庫\"):\n",
    "    \"\"\"在 JSON 数据中查找包含特定来源的 Person 项，若无匹配则返回第一个 Person 项\"\"\"\n",
    "\n",
    "    # 安全地获取 'PersonInfo'，确保它是字典\n",
    "    person_info = data.get(\"Package\", {}).get(\"PersonAuthority\", {}).get(\"PersonInfo\", {})\n",
    "\n",
    "    if not isinstance(person_info, dict):\n",
    "        print(\"Warning: 'PersonInfo' 不是字典或为空字符串。\")\n",
    "        return None\n",
    "\n",
    "    # 获取 'Person' 数据\n",
    "    persons = person_info.get(\"Person\", [])\n",
    "\n",
    "    # 如果 `persons` 是字典，将其转换为列表以统一处理\n",
    "    if isinstance(persons, dict):\n",
    "        persons = [persons]\n",
    "\n",
    "    first_person = None\n",
    "\n",
    "    # 遍历每个 Person，查找包含目标来源的项\n",
    "    for person in persons:\n",
    "        if first_person is None:\n",
    "            first_person = person\n",
    "        # 检查 `PersonSources` 是否存在并且非空\n",
    "        if isinstance(person, dict) and \"PersonSources\" in person and person[\"PersonSources\"]:\n",
    "            person_sources = person[\"PersonSources\"]\n",
    "            if isinstance(person_sources, dict) and \"Source\" in person_sources and person_sources[\"Source\"]:\n",
    "                person_sources = person_sources[\"Source\"]\n",
    "\n",
    "            # 如果 `person_sources` 是单个字典，将其转换为列表\n",
    "            if isinstance(person_sources, dict):\n",
    "                person_sources = [person_sources]\n",
    "\n",
    "            # 检查是否包含目标来源\n",
    "            for source in person_sources:\n",
    "                if isinstance(source, dict) and source.get(\"Source\") == target_source:\n",
    "                    return person  # 返回包含目标来源的 Person 数据\n",
    "\n",
    "    # 若未找到目标来源的 Person，则返回第一个 Person\n",
    "    return first_person\n",
    "\n",
    "\n",
    "def find_kinship(data):\n",
    "    # 如果当前层级是字典并且包含 \"Kinship\"，直接返回\n",
    "    if isinstance(data, dict):\n",
    "        if \"Kinship\" in data:\n",
    "            return data[\"Kinship\"]\n",
    "        # 递归地在子层级中查找\n",
    "        for key, value in data.items():\n",
    "            result = find_kinship(value)\n",
    "            if result is not None:\n",
    "                return result\n",
    "    # 如果当前层级是列表，检查每个元素\n",
    "    elif isinstance(data, list):\n",
    "        for item in data:\n",
    "            result = find_kinship(item)\n",
    "            if result is not None:\n",
    "                return result\n",
    "    return None\n",
    "\n",
    "\n",
    "# 获取每行 poet 与主要作者的关系 \n",
    "def get_relationship(row):\n",
    "    # print(row)\n",
    "    primary_author = primary_authors_dict.get(row['workID'], None)\n",
    "    if primary_author == row['NameHZ']:\n",
    "        if row['role'] == '序作者':\n",
    "            return '自序'\n",
    "        return 'own'\n",
    "    # print(primary_author)\n",
    "    if not primary_author:\n",
    "        return None  # 没有主要作者则返回 None\n",
    "\n",
    "    # 发送请求到 CBDB API\n",
    "    url = f'https://cbdb.fas.harvard.edu/cbdbapi/person.php?name={primary_author}&o=json'\n",
    "    # print(url)\n",
    "    try:\n",
    "        response = requests.get(url)\n",
    "        response.raise_for_status()  # 检查请求是否成功\n",
    "        rawData = response.json()\n",
    "        person_with_target_source = find_person_with_specific_source(rawData)\n",
    "        # print(person_with_target_source)\n",
    "        if not person_with_target_source:\n",
    "            return None\n",
    "        # print(rawData)\n",
    "        # if not (rawData.get('Package') and\n",
    "        # rawData['Package'].get('PersonAuthority') and\n",
    "        # rawData['Package']['PersonAuthority'].get('PersonInfo') and\n",
    "        # rawData['Package']['PersonAuthority']['PersonInfo'].get('Person')):\n",
    "        #     return \"None\"\n",
    "\n",
    "        # person_kinship_info = response.json()\n",
    "        # 解析响应数据\n",
    "        # person_kinship_info = rawData['Package']['PersonAuthority']['PersonInfo']['Person']\n",
    "\n",
    "        # if person_kinship_info['package']:\n",
    "        #     person_kinship_info = person_kinship_info['package']\n",
    "        #     if person_kinship_info['PersonAuthority']:\n",
    "        #         person_kinship_info = person_kinship_info['PersonAuthority']\n",
    "        #         if person_kinship_info['PersonInfo']:\n",
    "        #             PersonInfo =  person_kinship_info['PersonInfo']\n",
    "        person_kinship_info = find_kinship(person_with_target_source)\n",
    "        print(person_kinship_info)\n",
    "        if person_kinship_info is None:\n",
    "            return None\n",
    "        # print(person_kinship_info)\n",
    "        # if isinstance(person_kinship_info, list):\n",
    "        #     person_kinship_info = person_kinship_info[0]\n",
    "        # \n",
    "        # person_kinship_info = person_kinship_info.get(\"PersonKinshipInfo\", {}).get(\"Kinship\", [])\n",
    "\n",
    "        # print(person_kinship_info)\n",
    "\n",
    "        if isinstance(person_kinship_info, dict):\n",
    "            person_kinship_info = [person_kinship_info]\n",
    "\n",
    "        # 获取主要作者及 kinship 列表中的所有姓氏\n",
    "        primary_surname = convert(primary_author[0], 'zh-cn')\n",
    "        kinship_surnames = {primary_surname}\n",
    "\n",
    "        # 遍历列表中的每个 kin 信息\n",
    "        for kin in person_kinship_info:\n",
    "            kin_name = kin.get(\"KinPersonName\")\n",
    "            if kin_name:\n",
    "                kinship_surnames.add(convert(kin_name[0], 'zh-cn'))\n",
    "            # print(kin.get(\"KinPersonName\"), row['NameHZ'])  # 调试输出\n",
    "            # 使用简体化后进行比较\n",
    "            if convert(kin.get(\"KinPersonName\"), 'zh-cn') == convert(row['NameHZ'], 'zh-cn'):\n",
    "                return kin.get(\"KinRelName\")  # 找到匹配关系时返回 KinRelName\n",
    "\n",
    "        if convert(row['NameHZ'][0], 'zh-cn') in kinship_surnames:\n",
    "            return 'suspicious'\n",
    "\n",
    "        return None\n",
    "\n",
    "\n",
    "    except requests.RequestException as e:\n",
    "        print(f\"Failed to retrieve data from the API for {primary_author}: {e}\")\n",
    "        return None\n",
    "\n"
   ],
   "metadata": {
    "collapsed": false
   },
   "id": "9ba8367a6b0de7d5",
   "execution_count": null
  },
  {
   "cell_type": "code",
   "outputs": [],
   "source": [
    "# 创建 DataFrame 切片\n",
    "primary_authors_dict = {k: ('吳繡珠' if v == '吳秀珠' else v) for k, v in primary_authors_dict.items()}\n",
    "\n",
    "test = worktogether[worktogether[\"workID\"] == 15].copy()  # 使用 .copy() 避免 SettingWithCopyWarning\n",
    "\n",
    "# 使用 .loc 替换 'NameHZ' 列中的值\n",
    "test.loc[:, 'NameHZ'] = test['NameHZ'].replace('吳秀珠', '吳繡珠')\n",
    "\n",
    "# 使用 .loc 给新列 'relation' 赋值\n",
    "test.loc[:, 'relation'] = test.apply(get_relationship, axis=1)\n",
    "\n",
    "# 查看结果\n",
    "print(test)"
   ],
   "metadata": {
    "collapsed": false
   },
   "id": "1448ca435aaa4365",
   "execution_count": null
  },
  {
   "cell_type": "code",
   "outputs": [],
   "source": [
    "worktogetherraltion = worktogether.copy()\n",
    "# worktogetherraltion['NameHZ'] = worktogetherraltion['NameHZ'].replace('吳秀珠', '吳繡珠')\n",
    "worktogetherraltion['relation'] = worktogetherraltion.apply(get_relationship, axis=1)\n",
    "worktogetherraltion"
   ],
   "metadata": {
    "collapsed": false
   },
   "id": "8177ee4b4db7b3d0",
   "execution_count": null
  },
  {
   "cell_type": "code",
   "outputs": [],
   "source": [
    "# 记录work和poet之间的关系，以及poet和poet之间的亲属关系\n",
    "import json\n",
    "\n",
    "# 初始化节点和链接列表\n",
    "nodes = []\n",
    "links = []\n",
    "\n",
    "work_nodes = {}\n",
    "poet_nodes = {}\n",
    "\n",
    "# 将 NaN 替换为 None\n",
    "data = worktogetherraltion.replace({np.nan: None})\n",
    "\n",
    "# Step 1: 构建 is_zixu_dict 字典，记录每个 poet 是否为 自序\n",
    "is_zixu_dict = {}\n",
    "\n",
    "# 按 workID 分组，构建 is_zixu 字典\n",
    "for work_id, group in data.groupby(\"workID\"):\n",
    "    for _, row in group.iterrows():\n",
    "        poet_id_str = f\"poet_{row['poetID']}\"\n",
    "        # 将 relation 中的 \"自序\" 标记为 True，不覆盖已经存在的 True 值\n",
    "        if poet_id_str not in is_zixu_dict:\n",
    "            is_zixu_dict[poet_id_str] = row['relation'] == \"自序\"\n",
    "        elif row['relation'] == \"自序\":\n",
    "            is_zixu_dict[poet_id_str] = True\n",
    "\n",
    "# Step 2: 构建节点和链接列表\n",
    "for _, row in data.iterrows():\n",
    "    work_id = f\"work_{row['workID']}\"\n",
    "    poet_id = f\"poet_{row['poetID']}\"\n",
    "\n",
    "    # 添加 work 节点\n",
    "    if work_id not in work_nodes:\n",
    "        work_nodes[work_id] = {\n",
    "            \"id\": work_id,\n",
    "            \"titleHZ\": row['TitleHZ'],\n",
    "            \"group\": \"work\"\n",
    "        }\n",
    "\n",
    "    # 添加 poet 节点\n",
    "    if poet_id not in poet_nodes:\n",
    "        poet_nodes[poet_id] = {\n",
    "            \"id\": poet_id,\n",
    "            \"nameHZ\": row['NameHZ'],\n",
    "            \"sex\": row['Sex'],\n",
    "            \"is_main_author\": primary_authors_dict.get(row['workID']) == row['NameHZ'],\n",
    "            \"is_zixu\": is_zixu_dict.get(poet_id, False),  # 使用字典中的值作为 is_zixu 的标记\n",
    "            \"is_suspicious\": row['relation'] == \"suspicious\",\n",
    "            \"group\": \"poet\"\n",
    "        }\n",
    "\n",
    "    # 添加 work-poet 链接\n",
    "    links.append({\n",
    "        \"source\": work_id,\n",
    "        \"target\": poet_id,\n",
    "        \"group\": \"workpoet\"\n",
    "    })\n",
    "\n",
    "# 添加 poet-poet 链接（非空、非自序、非 suspicious 的关系）\n",
    "for work_id, group in data.groupby(\"workID\"):\n",
    "    valid_poets = group[\n",
    "        (group['relation'].notnull()) & (group['relation'] != 'own') & (group['relation'] != 'suspicious')]\n",
    "\n",
    "    # 按 poet 顺序将节点依次相连形成链状\n",
    "    for i in range(len(valid_poets) - 1):\n",
    "        source_poet = f\"poet_{valid_poets.iloc[i]['poetID']}\"\n",
    "        target_poet = f\"poet_{valid_poets.iloc[i + 1]['poetID']}\"\n",
    "        links.append({\n",
    "            \"source\": source_poet,\n",
    "            \"target\": target_poet,\n",
    "            \"relation\": valid_poets.iloc[i + 1]['relation'],\n",
    "            \"group\": \"poetpoet\"\n",
    "        })\n",
    "\n",
    "# Step 3: 组合 work_nodes 和 poet_nodes 到 nodes 列表中\n",
    "nodes.extend(work_nodes.values())\n",
    "nodes.extend(poet_nodes.values())\n",
    "\n",
    "# Step 4: 检查 links 中引用的节点是否都在 nodes 中，如果缺失则补充\n",
    "work_ids_in_links = {link['source'] for link in links if link['source'].startswith(\"work_\")}\n",
    "work_ids_in_links.update(link['target'] for link in links if link['target'].startswith(\"work_\"))\n",
    "poet_ids_in_links = {link['source'] for link in links if link['source'].startswith(\"poet_\")}\n",
    "poet_ids_in_links.update(link['target'] for link in links if link['target'].startswith(\"poet_\"))\n",
    "\n",
    "# 确保所有 workID 都在节点中\n",
    "for work_id in work_ids_in_links:\n",
    "    if not any(node['id'] == work_id for node in nodes):\n",
    "        nodes.append({\"id\": work_id, \"group\": \"work\", \"titleHZ\": \"Unknown Title\"})  # 占位符\n",
    "\n",
    "# 确保所有 poetID 都在节点中\n",
    "for poet_id in poet_ids_in_links:\n",
    "    if not any(node['id'] == poet_id for node in nodes):\n",
    "        nodes.append({\"id\": poet_id, \"group\": \"poet\", \"nameHZ\": \"Unknown Name\"})  # 占位符\n",
    "\n",
    "# Step 5: 保存为 JSON 文件\n",
    "output = {\"nodes\": nodes, \"links\": links}\n",
    "with open(\"output_fixed.json\", \"w\", encoding=\"utf-8\") as f:\n",
    "    json.dump(output, f, ensure_ascii=False, indent=4)\n",
    "\n",
    "print(\"Output saved to output_fixed.json\")"
   ],
   "metadata": {
    "collapsed": false
   },
   "id": "50b0fe4a44146c5a",
   "execution_count": null
  },
  {
   "cell_type": "code",
   "outputs": [],
   "source": [
    "is_zixu_dict"
   ],
   "metadata": {
    "collapsed": false
   },
   "id": "97bc3cd6c5e99f4b",
   "execution_count": null
  },
  {
   "cell_type": "code",
   "outputs": [],
   "source": [
    "# worktogetherraltionnotnone = worktogetherraltion[worktogetherraltion['relation'] != 'None']\n",
    "# worktogetherraltionnotnone = worktogetherraltionnotnone[worktogetherraltionnotnone['relation'] != 'own']\n",
    "worktogetherraltionnotnone = worktogetherraltion[\n",
    "    worktogetherraltion['relation'].notna() & (worktogetherraltion['relation'] != \"None\")]\n",
    "worktogetherraltionnotnone"
   ],
   "metadata": {
    "collapsed": false
   },
   "id": "e705c4532314417",
   "execution_count": null
  },
  {
   "cell_type": "code",
   "outputs": [],
   "source": [
    "worktogetherraltionnotnone['relation'].unique()"
   ],
   "metadata": {
    "collapsed": false
   },
   "id": "d42c52fd6e19196d",
   "execution_count": null
  },
  {
   "cell_type": "code",
   "outputs": [],
   "source": [
    "worktogetherraltionnotnone_filtered = worktogetherraltionnotnone[worktogetherraltionnotnone['relation'].notna()]\n",
    "worktogetherraltionnotnone_filtered"
   ],
   "metadata": {
    "collapsed": false
   },
   "id": "deb4c8431ad2f59b",
   "execution_count": null
  },
  {
   "cell_type": "code",
   "outputs": [],
   "source": [
    "worktogetherraltionnotnone_filtered['workID'].value_counts()"
   ],
   "metadata": {
    "collapsed": false
   },
   "id": "747b1e7438b7de30",
   "execution_count": null
  },
  {
   "cell_type": "code",
   "outputs": [],
   "source": [
    "worktogetherraltionnotnone_filtered['poetID'].value_counts()"
   ],
   "metadata": {
    "collapsed": false
   },
   "id": "19be7f0f4cf344fc",
   "execution_count": null
  },
  {
   "cell_type": "code",
   "outputs": [],
   "source": [
    "owndata = worktogetherraltionnotnone_filtered[worktogetherraltionnotnone['relation'] == 'own']"
   ],
   "metadata": {
    "collapsed": false
   },
   "id": "e56aeff6197bdf8f",
   "execution_count": null
  },
  {
   "cell_type": "code",
   "outputs": [],
   "source": [
    "owndata.value_counts('role')"
   ],
   "metadata": {
    "collapsed": false
   },
   "id": "67eab3c3a2c24b8b",
   "execution_count": null
  },
  {
   "cell_type": "code",
   "outputs": [],
   "source": [
    "import pandas as pd\n",
    "import json\n",
    "\n",
    "\n",
    "def classify_relation(rel):\n",
    "    if rel is None:\n",
    "        return 'unknown'\n",
    "    elif rel == 'suspicious':\n",
    "        return 'suspicious'\n",
    "    else:\n",
    "        return 'relative'\n",
    "\n",
    "\n",
    "# 假设df是已经加载的DataFrame\n",
    "df = worktogetherraltion.copy()\n",
    "\n",
    "# 应用分类函数\n",
    "df['relation'] = df['relation'].apply(classify_relation)\n",
    "\n",
    "df.fillna('unknown', inplace=True)  # 替换 NaN 为 'unknown'\n",
    "\n",
    "nodes = df[['poetID', 'NameHZ', 'Sex']].drop_duplicates().to_dict(orient='records')\n",
    "links = []\n",
    "\n",
    "for work_id, group in df.groupby('workID'):\n",
    "    poets = group['poetID'].tolist()\n",
    "    # 循环以形成闭环\n",
    "    for i in range(len(poets)):\n",
    "        next_poet = poets[(i + 1) % len(poets)]  # 使用模运算确保闭环\n",
    "        current_poet = poets[i]\n",
    "\n",
    "        relation_current = group[group['poetID'] == current_poet]['relation'].iloc[0]\n",
    "        relation_next = group[group['poetID'] == next_poet]['relation'].iloc[0]\n",
    "\n",
    "        # 根据两者关系决定链接的关系\n",
    "        if 'unknown' in [relation_current, relation_next]:\n",
    "            final_relation = 'unknown'\n",
    "        elif 'suspicious' in [relation_current, relation_next]:\n",
    "            final_relation = 'suspicious'\n",
    "        else:\n",
    "            final_relation = 'relative'\n",
    "\n",
    "        link = {\n",
    "            'source': int(current_poet),\n",
    "            'target': int(next_poet),\n",
    "            'workID': int(group['workID'].iloc[0]),\n",
    "            'workTitle': group['TitleHZ'].iloc[0],\n",
    "            'relation': final_relation\n",
    "        }\n",
    "        links.append(link)\n",
    "\n",
    "graph = {\n",
    "    'nodes': nodes,\n",
    "    'links': links\n",
    "}\n",
    "\n",
    "# 保存JSON数据\n",
    "with open(\"graph_json.json\", \"w\", encoding=\"utf-8\") as f:\n",
    "    json.dump(graph, f, ensure_ascii=False, indent=4)\n",
    "\n",
    "print(\"Output saved to graph_json.json\")"
   ],
   "metadata": {
    "collapsed": false
   },
   "id": "65f12ceaae466e25",
   "execution_count": null
  },
  {
   "cell_type": "code",
   "outputs": [],
   "source": [
    "len(poet[poet['EndYear'] != 0])"
   ],
   "metadata": {
    "collapsed": false
   },
   "id": "5a4f540d068def54",
   "execution_count": null
  },
  {
   "cell_type": "code",
   "outputs": [],
   "source": [
    "len(poet[poet['StartYear'] != 0])"
   ],
   "metadata": {
    "collapsed": false
   },
   "id": "e31ad5d96747ba8a",
   "execution_count": null
  },
  {
   "cell_type": "code",
   "outputs": [],
   "source": [
    "len(work[work['PubStartYear'] != 0])"
   ],
   "metadata": {
    "collapsed": false
   },
   "id": "d9ab44a78da69f81",
   "execution_count": null
  },
  {
   "cell_type": "code",
   "outputs": [],
   "source": [
    "len(work[work['PubEndYear'] != 0])"
   ],
   "metadata": {
    "collapsed": false
   },
   "id": "2b75eb97f92d9770",
   "execution_count": null
  },
  {
   "cell_type": "code",
   "outputs": [],
   "source": [
    "work['PubEndYear'].max()"
   ],
   "metadata": {
    "collapsed": false
   },
   "id": "d3cc2b90eaff6a47",
   "execution_count": null
  },
  {
   "cell_type": "code",
   "outputs": [],
   "source": [
    "work['PubStartYear'].min()"
   ],
   "metadata": {
    "collapsed": false
   },
   "id": "8de97ad21d77df02",
   "execution_count": null
  },
  {
   "cell_type": "code",
   "outputs": [],
   "source": [
    "work[work['PubStartYear'] != 0]['PubStartYear'].min()"
   ],
   "metadata": {
    "collapsed": false
   },
   "id": "b70ad654cb90659a",
   "execution_count": null
  },
  {
   "cell_type": "code",
   "outputs": [],
   "source": [
    "yearcal = work.copy()\n",
    "yearcal['span'] = yearcal['PubEndYear'] - yearcal['PubStartYear']\n",
    "yearcal['span'].value_counts()"
   ],
   "metadata": {
    "collapsed": false
   },
   "id": "a8b652abd42a90dc",
   "execution_count": null
  },
  {
   "cell_type": "code",
   "outputs": [],
   "source": [
    "import pandas as pd\n",
    "import json\n",
    "\n",
    "df = worktogetherraltion.copy()\n",
    "df.fillna('unknown', inplace=True)  # 替换 NaN 为 'unknown'\n",
    "\n",
    "# 示例 DataFrame 和 primary_authors_dict\n",
    "# 你需要确保 df 和 primary_authors_dict 已经正确定义\n",
    "\n",
    "# 初始化节点和链接列表\n",
    "nodes = []\n",
    "links = []\n",
    "added_poet_ids = set()  # 用于跟踪已添加的作者ID\n",
    "\n",
    "# 遍历每个作品的作者\n",
    "for work_id, group in df.groupby('workID'):\n",
    "    # 从字典获取主要作者的名字\n",
    "    main_author_name = primary_authors_dict.get(work_id)\n",
    "    if main_author_name is None:\n",
    "        continue  # 如果找不到主要作者，则跳过这个作品\n",
    "\n",
    "    # 获取主要作者的行信息\n",
    "    main_author_df = group[group['NameHZ'] == main_author_name]\n",
    "    if main_author_df.empty:\n",
    "        print(f\"No main author found for workID {work_id} with name {main_author_name}\")\n",
    "        continue  # 如果找不到对应的主要作者数据，输出错误信息并跳过\n",
    "\n",
    "    main_author = main_author_df.iloc[0]\n",
    "    main_node = {'id': int(main_author['poetID']), 'name': main_author['NameHZ']}\n",
    "\n",
    "    # 添加主要作者节点，检查是否已添加过\n",
    "    if main_author['poetID'] not in added_poet_ids:\n",
    "        nodes.append(main_node)\n",
    "        added_poet_ids.add(main_author['poetID'])\n",
    "\n",
    "    # 添加其他作者作为节点，并创建链接\n",
    "    for _, row in group.iterrows():\n",
    "        if row['NameHZ'] != main_author_name:\n",
    "            co_author = {'id': row['poetID'], 'name': row['NameHZ']}\n",
    "            if row['poetID'] not in added_poet_ids:\n",
    "                nodes.append(co_author)\n",
    "                added_poet_ids.add(row['poetID'])\n",
    "            # 链接主要作者和其他作者\n",
    "            links.append(\n",
    "                {'source': int(main_author['poetID']), 'target': int(row['poetID']), 'relation': row['relation']})\n",
    "\n",
    "    # 在其他作者之间创建闭合链\n",
    "    co_authors = group[group['NameHZ'] != main_author_name]\n",
    "    if not co_authors.empty:\n",
    "        first_co_author = co_authors.iloc[0]['poetID']\n",
    "        last_co_author = None\n",
    "        for i, row in enumerate(co_authors.iterrows()):\n",
    "            current_author_id = row[1]['poetID']\n",
    "            if last_co_author is not None:\n",
    "                # 创建闭合链接\n",
    "                links.append({'source': int(last_co_author), 'target': int(current_author_id), 'relation': 'co-author'})\n",
    "            last_co_author = current_author_id\n",
    "        # 最后一个和第一个闭合\n",
    "        if len(co_authors) > 1:\n",
    "            links.append({'source': int(last_co_author), 'target': int(first_co_author), 'relation': 'co-author'})\n",
    "\n",
    "# 转换为JSON\n",
    "graph = {\n",
    "    'nodes': nodes,\n",
    "    'links': links\n",
    "}\n",
    "# 保存JSON数据\n",
    "with open(\"graph_mainauthor.json\", \"w\", encoding=\"utf-8\") as f:\n",
    "    json.dump(graph, f, ensure_ascii=False, indent=4)\n",
    "\n",
    "print(\"Output saved to graph_mainauthor.json\")"
   ],
   "metadata": {
    "collapsed": false
   },
   "id": "ed675b6cfe02d74e",
   "execution_count": null
  },
  {
   "cell_type": "code",
   "outputs": [],
   "source": [
    "duckdb.query(\n",
    "    \"SELECT workID, COUNT(DISTINCT poetID) AS ticicount FROM workpoetlinks WHERE role='題辭' GROUP BY workID\").df()"
   ],
   "metadata": {
    "collapsed": false
   },
   "id": "b1171c3ef5f4fe9",
   "execution_count": null
  },
  {
   "cell_type": "code",
   "outputs": [],
   "source": [
    "poet['StartYear'].value_counts()"
   ],
   "metadata": {
    "collapsed": false
   },
   "id": "fa60975049f1d98c",
   "execution_count": null
  },
  {
   "cell_type": "code",
   "outputs": [],
   "source": [
    "poet['EndYear'].value_counts()"
   ],
   "metadata": {
    "collapsed": false
   },
   "id": "f3867f1062515824",
   "execution_count": null
  },
  {
   "cell_type": "markdown",
   "source": [],
   "metadata": {
    "collapsed": false
   },
   "id": "3f77df837d663fd"
  },
  {
   "cell_type": "code",
   "outputs": [],
   "source": [
    "poet[(poet[\"StartYear\"] == 0) & (poet[\"EndYear\"] == 0)]\n"
   ],
   "metadata": {
    "collapsed": false
   },
   "id": "8c55124bbe857916",
   "execution_count": null
  },
  {
   "cell_type": "code",
   "outputs": [],
   "source": [
    "work['PubPlaceHZ'].value_counts()"
   ],
   "metadata": {
    "collapsed": false
   },
   "id": "4132b59eb1e062ed",
   "execution_count": null
  },
  {
   "cell_type": "code",
   "outputs": [],
   "source": [
    "work['PubStartYear'].value_counts()"
   ],
   "metadata": {
    "collapsed": false
   },
   "id": "2feed581d406ffba",
   "execution_count": null
  },
  {
   "cell_type": "code",
   "outputs": [],
   "source": [
    "work['PubNameHZ'].value_counts()"
   ],
   "metadata": {
    "collapsed": false
   },
   "id": "cd1e380902bbfbac",
   "execution_count": null
  },
  {
   "cell_type": "code",
   "outputs": [],
   "source": [
    "cycle = pd.read_csv('../../CCGIV/datasets/WomenWriting/cycle.csv')\n",
    "cycle.to_parquet('cycle.parquet')"
   ],
   "metadata": {
    "collapsed": false
   },
   "id": "2af3a8ef1474855f",
   "execution_count": null
  },
  {
   "cell_type": "code",
   "outputs": [],
   "source": [
    "poet['LifeSpan'].value_counts()"
   ],
   "metadata": {
    "collapsed": false
   },
   "id": "fbd05d3f8d46420b",
   "execution_count": null
  },
  {
   "cell_type": "code",
   "outputs": [],
   "source": [
    "workpoemlinks['poemID'].value_counts(sort=True, ascending=False)"
   ],
   "metadata": {
    "collapsed": false
   },
   "id": "258f2b83c5dd2fd6",
   "execution_count": null
  },
  {
   "cell_type": "code",
   "outputs": [],
   "source": [
    "qury = '''\n",
    "    SELECT \n",
    "        wpl.workID,\n",
    "        work.worktype,\n",
    "        wpl.poetID,\n",
    "        wpl.role,\n",
    "        COUNT(wp.poemID) AS poemCount\n",
    "    FROM \n",
    "        workpoetlinks AS wpl\n",
    "    LEFT JOIN \n",
    "        poempoetlinks AS pp\n",
    "    ON \n",
    "        wpl.poetID = pp.poetID\n",
    "    LEFT JOIN work ON wpl.workID = work.workID\n",
    "    LEFT JOIN\n",
    "            workpoemlinks as wp\n",
    "    ON pp.poemID = wp.poemID AND wpl.workID = wp.workID\n",
    "    GROUP BY \n",
    "        wpl.workID, wpl.poetID, wpl.role, work.worktype\n",
    "    ORDER BY \n",
    "        wpl.workID, wpl.poetID;\n",
    "'''\n",
    "result = duckdb.query(qury).df()\n",
    "result"
   ],
   "metadata": {
    "collapsed": false
   },
   "id": "beaba067b5f38bf1",
   "execution_count": null
  },
  {
   "cell_type": "code",
   "outputs": [],
   "source": [
    "test = workpoemlinks.merge(poempoetlinks, on='poemID', how=\"outer\").merge(poem, on='poemID', how=\"outer\").merge(work,\n",
    "                                                                                                                on='workID',\n",
    "                                                                                                                how=\"outer\")\n",
    "test = test.fillna('unknown')\n",
    "test1 = test[test['workID'].astype(str) == '9.0']\n",
    "test1[['workID', 'poetID', 'poemID', 'GenreHZ']]"
   ],
   "metadata": {
    "collapsed": false
   },
   "id": "1ce083540c941e5",
   "execution_count": null
  },
  {
   "cell_type": "code",
   "outputs": [],
   "source": [
    "filtered_test = test[(test['workID'].astype(str) == '10.0')]\n",
    "filtered_test"
   ],
   "metadata": {
    "collapsed": false
   },
   "id": "a7e547943a88c80d",
   "execution_count": null
  },
  {
   "cell_type": "code",
   "outputs": [],
   "source": [
    "test.groupby(['workID', 'poetID', 'GenreHZ'])['poemID'].nunique().reset_index(name='genre_count')"
   ],
   "metadata": {
    "collapsed": false
   },
   "id": "e37000b4e8504ac7",
   "execution_count": null
  },
  {
   "cell_type": "code",
   "outputs": [],
   "source": [
    "if 'workID' in test.columns and 'GenreHZ' in test.columns and 'poemID' in test.columns:\n",
    "    # 删除空值，确保统计不受影响\n",
    "    test_cleaned = test.dropna(subset=['workID', 'GenreHZ', 'poemID', 'worktype'])\n",
    "\n",
    "    # 确保每个 workID 和 GenreHZ 的 poemID 唯一性，避免重复计数\n",
    "    test_unique = test_cleaned.drop_duplicates(subset=['workID', 'GenreHZ', 'poemID', 'worktype'])\n",
    "\n",
    "    # 统计每个 workID 和 GenreHZ 的唯一 poemID 数量\n",
    "    genre_count = test_unique.groupby(['workID', 'GenreHZ', 'worktype'])['poemID'].nunique().reset_index(name='count')\n",
    "\n",
    "    # 对每个 workID 找到出现次数最多的 GenreHZ\n",
    "    top_genre = genre_count.loc[genre_count.groupby('workID')['count'].idxmax()]\n",
    "\n",
    "    # 统计每个 workID 的 poem 总数（基于唯一 poemID）\n",
    "    poem_count = test_cleaned.groupby('workID')['poemID'].nunique().reset_index(name='poem_total')\n",
    "\n",
    "    # 合并结果\n",
    "    result = top_genre.merge(poem_count, on='workID')\n",
    "\n",
    "result"
   ],
   "metadata": {
    "collapsed": false
   },
   "id": "3da4d92bb0e4682e",
   "execution_count": null
  },
  {
   "cell_type": "code",
   "outputs": [],
   "source": [
    "genre_count"
   ],
   "metadata": {
    "collapsed": false
   },
   "id": "38acdeac1cb80ad2",
   "execution_count": null
  },
  {
   "cell_type": "code",
   "outputs": [],
   "source": [
    "test_unique[test_unique['workID'].astype(str) == '37.0']"
   ],
   "metadata": {
    "collapsed": false
   },
   "id": "5ee0875dbeb19bc4",
   "execution_count": null
  },
  {
   "cell_type": "code",
   "outputs": [],
   "source": [
    "test[test['workID'].astype(str) == '67.0']"
   ],
   "metadata": {
    "collapsed": false
   },
   "id": "53873d36ce74de81",
   "execution_count": null
  },
  {
   "cell_type": "code",
   "outputs": [],
   "source": [
    "poem[poem['poetassubjectID'] != 0]['GenreHZ'].value_counts()"
   ],
   "metadata": {
    "collapsed": false
   },
   "id": "356016f9b55cf3a1",
   "execution_count": null
  },
  {
   "cell_type": "code",
   "outputs": [],
   "source": [
    "poem[(poem['poetassubjectID'] != 0) & (poem['GenreHZ'] == '圖')]"
   ],
   "metadata": {
    "collapsed": false
   },
   "id": "4c458d0441ff3ac9",
   "execution_count": null
  },
  {
   "cell_type": "code",
   "outputs": [],
   "source": [
    "poem[(poem['poetassubjectID'] != 0) & (poem['GenreHZ'] == '詩')]"
   ],
   "metadata": {
    "collapsed": false
   },
   "id": "69705a568178931f",
   "execution_count": null
  },
  {
   "cell_type": "code",
   "outputs": [],
   "source": [
    "workpoetlinks.groupby('workID')['poetID'].count()"
   ],
   "metadata": {
    "collapsed": false
   },
   "id": "3218486e576ecef8",
   "execution_count": null
  },
  {
   "cell_type": "code",
   "outputs": [],
   "source": [
    "workpoetlinks['role'].value_counts()"
   ],
   "metadata": {
    "collapsed": false
   },
   "id": "dfb5b1b195379724",
   "execution_count": null
  },
  {
   "cell_type": "code",
   "outputs": [
    {
     "data": {
      "text/plain": "        participate_count  bexiangzansubjectCount  discussedCount  totalWeight\npoetID                                                                        \n911              0.307692                     0.2        1.000000     0.497538\n199              0.692308                     0.3        0.224490     0.401543\n43               0.153846                     1.0        0.061224     0.400973\n202              0.538462                     0.5        0.040816     0.356162\n167              0.538462                     0.4        0.122449     0.350100\n...                   ...                     ...             ...          ...\n8452             0.076923                     0.0        0.000000     0.025385\n6211             0.076923                     0.0        0.000000     0.025385\n6196             0.076923                     0.0        0.000000     0.025385\n6991             0.076923                     0.0        0.000000     0.025385\n8108             0.076923                     0.0        0.000000     0.025385\n\n[2767 rows x 4 columns]",
      "text/html": "<div>\n<style scoped>\n    .dataframe tbody tr th:only-of-type {\n        vertical-align: middle;\n    }\n\n    .dataframe tbody tr th {\n        vertical-align: top;\n    }\n\n    .dataframe thead th {\n        text-align: right;\n    }\n</style>\n<table border=\"1\" class=\"dataframe\">\n  <thead>\n    <tr style=\"text-align: right;\">\n      <th></th>\n      <th>participate_count</th>\n      <th>bexiangzansubjectCount</th>\n      <th>discussedCount</th>\n      <th>totalWeight</th>\n    </tr>\n    <tr>\n      <th>poetID</th>\n      <th></th>\n      <th></th>\n      <th></th>\n      <th></th>\n    </tr>\n  </thead>\n  <tbody>\n    <tr>\n      <th>911</th>\n      <td>0.307692</td>\n      <td>0.2</td>\n      <td>1.000000</td>\n      <td>0.497538</td>\n    </tr>\n    <tr>\n      <th>199</th>\n      <td>0.692308</td>\n      <td>0.3</td>\n      <td>0.224490</td>\n      <td>0.401543</td>\n    </tr>\n    <tr>\n      <th>43</th>\n      <td>0.153846</td>\n      <td>1.0</td>\n      <td>0.061224</td>\n      <td>0.400973</td>\n    </tr>\n    <tr>\n      <th>202</th>\n      <td>0.538462</td>\n      <td>0.5</td>\n      <td>0.040816</td>\n      <td>0.356162</td>\n    </tr>\n    <tr>\n      <th>167</th>\n      <td>0.538462</td>\n      <td>0.4</td>\n      <td>0.122449</td>\n      <td>0.350100</td>\n    </tr>\n    <tr>\n      <th>...</th>\n      <td>...</td>\n      <td>...</td>\n      <td>...</td>\n      <td>...</td>\n    </tr>\n    <tr>\n      <th>8452</th>\n      <td>0.076923</td>\n      <td>0.0</td>\n      <td>0.000000</td>\n      <td>0.025385</td>\n    </tr>\n    <tr>\n      <th>6211</th>\n      <td>0.076923</td>\n      <td>0.0</td>\n      <td>0.000000</td>\n      <td>0.025385</td>\n    </tr>\n    <tr>\n      <th>6196</th>\n      <td>0.076923</td>\n      <td>0.0</td>\n      <td>0.000000</td>\n      <td>0.025385</td>\n    </tr>\n    <tr>\n      <th>6991</th>\n      <td>0.076923</td>\n      <td>0.0</td>\n      <td>0.000000</td>\n      <td>0.025385</td>\n    </tr>\n    <tr>\n      <th>8108</th>\n      <td>0.076923</td>\n      <td>0.0</td>\n      <td>0.000000</td>\n      <td>0.025385</td>\n    </tr>\n  </tbody>\n</table>\n<p>2767 rows × 4 columns</p>\n</div>"
     },
     "execution_count": 21,
     "metadata": {},
     "output_type": "execute_result"
    }
   ],
   "source": [
    "# def min_max_normalize(series):\n",
    "#     return (series - series.min()) / (series.max() - series.min()) * 100\n",
    "\n",
    "def min_max_normalize(series):\n",
    "    return series / series.max()\n",
    "\n",
    "\n",
    "PoetParticipateWork = duckdb.query(\n",
    "    \"SELECT poetID, COUNT(DISTINCT workID) AS participate_count FROM workpoetlinks GROUP BY poetID ORDER BY \"\n",
    "    \"participate_count DESC\").df()\n",
    "\n",
    "xiangzanauthor = duckdb.query(\n",
    "    \"SELECT poempoetlinks.poetID,COUNT(DISTINCT poem.poemID) AS xiangzanauthor_count FROM poem,poempoetlinks \"\n",
    "    \"WHERE poem.GenreHZ='文﹕像贊' AND poem.poemID = poempoetlinks.poemID GROUP BY poempoetlinks.poetID ORDER BY \"\n",
    "    \"xiangzanauthor_count\").df()\n",
    "\n",
    "bexiangzan = duckdb.query(\n",
    "    '''SELECT p.poetassubjectID AS poetID, COUNT(DISTINCT p.poemID) AS bexiangzansubjectCount\n",
    "        FROM poem p\n",
    "        WHERE p.GenreHZ IN ('文﹕年譜', '文﹕略傳', '文﹕傳') AND p.poetassubjectID != 0\n",
    "        GROUP BY p.poetassubjectID;''').df()\n",
    "\n",
    "discussed = duckdb.query(\n",
    "    '''SELECT p.poetassubjectID AS poetID, COUNT(DISTINCT p.poemID) AS discussedCount\n",
    "        FROM poem p\n",
    "        WHERE p.GenreHZ IN ('文﹕詩話', '文﹕詞話', '文﹕案語') AND p.poetassubjectID != 0\n",
    "        GROUP BY p.poetassubjectID;''').df()\n",
    "\n",
    "changheshi = duckdb.query(\n",
    "    \"SELECT changheshuxinpoetID AS poetID, COUNT(DISTINCT poemID) AS changheshiCount FROM poem WHERE \"\n",
    "    \"changheshuxinpoetID !=0 GROUP BY changheshuxinpoetID\").df()\n",
    "\n",
    "PoetParticipateWork.set_index('poetID', inplace=True)\n",
    "xiangzanauthor.set_index('poetID', inplace=True)\n",
    "bexiangzan.set_index('poetID', inplace=True)\n",
    "discussed.set_index('poetID', inplace=True)\n",
    "changheshi.set_index('poetID', inplace=True)\n",
    "\n",
    "# 合并数据\n",
    "poetRawData = pd.concat([PoetParticipateWork, bexiangzan, discussed], axis=1).fillna(0)\n",
    "poetRawData = poetRawData[poetRawData['participate_count'] > 0]\n",
    "poetRawData = poetRawData.loc[\n",
    "    (poetRawData.index != 6461) & (poetRawData.index != 6467) & (poetRawData.index != 6468)]\n",
    "# 归一化\n",
    "for column in poetRawData.columns:\n",
    "    poetRawData[column] = min_max_normalize(poetRawData[column])\n",
    "\n",
    "participateWeight = 0.33\n",
    "writeXZWeight = 0\n",
    "inXZWeight = 0.33\n",
    "bediscussedWeight = 0.33\n",
    "changheWeight = 0\n",
    "poet_min_max = poetRawData.copy()\n",
    "poet_min_max['participateCalc'] = participateWeight * poet_min_max['participate_count']\n",
    "# poet_min_max['writeXZCalc'] = writeXZWeight * poet_min_max['xiangzanauthor_count']\n",
    "poet_min_max['inXZCalc'] = inXZWeight * poet_min_max['bexiangzansubjectCount']\n",
    "poet_min_max['bediscussedCalc'] = bediscussedWeight * poet_min_max['discussedCount']\n",
    "# poet_min_max['changheCalc'] = changheWeight * poet_min_max['changheshiCount']\n",
    "\n",
    "poet_min_max['totalWeight'] = poet_min_max['participateCalc'] + poet_min_max['inXZCalc'] + poet_min_max[\n",
    "    'bediscussedCalc']\n",
    "# ji_min_max['totalWeight'] = xuweight * ji_min_max['xucount'] + baweight * ji_min_max['bacount'] + ticiweight * \\\n",
    "#                             ji_min_max['ticicount'] + includedweight * ji_min_max['includedcount']\n",
    "poet_min_max_sorted = poet_min_max.sort_values('totalWeight', ascending=False)\n",
    "\n",
    "poet_min_max_sorted[['participate_count', 'bexiangzansubjectCount', 'discussedCount', 'totalWeight']]"
   ],
   "metadata": {
    "collapsed": false,
    "ExecuteTime": {
     "end_time": "2024-12-08T07:22:20.362111Z",
     "start_time": "2024-12-08T07:22:20.322973Z"
    }
   },
   "id": "20a4d426b260737f",
   "execution_count": 21
  },
  {
   "cell_type": "code",
   "outputs": [
    {
     "data": {
      "text/plain": "      poetID NameHZ  StartYear  EndYear  totalWeight  normalized_totalWeight  \\\n0        911    顧太清       1799     1877     0.497538                1.000000   \n1        199     吳藻       1799     1862     0.401543                0.807060   \n2         43    顧若璞       1592     1681     0.400973                0.805914   \n3        202    席佩蘭       1762     1842     0.356162                0.715848   \n4        167    歸懋儀       1762     1832     0.350100                0.703665   \n...      ...    ...        ...      ...          ...                     ...   \n2762    8452    冒國柱       1740     1820     0.025385                0.051020   \n2763    6211    江芳孫          0        0     0.025385                0.051020   \n2764    6196    黃彭年       1824     1890     0.025385                0.051020   \n2765    6991    楊振鎬          0        0     0.025385                0.051020   \n2766    8108    曹龍樹       1749     1814     0.025385                0.051020   \n\n      ln_normalized_totalWeight  MissingFields  \n0                      0.009950              2  \n1                     -0.202043              0  \n2                     -0.203446              4  \n3                     -0.320415              0  \n4                     -0.337341              2  \n...                         ...            ...  \n2762                  -2.796547              8  \n2763                  -2.796547              7  \n2764                  -2.796547              1  \n2765                  -2.796547              8  \n2766                  -2.796547              5  \n\n[2767 rows x 8 columns]",
      "text/html": "<div>\n<style scoped>\n    .dataframe tbody tr th:only-of-type {\n        vertical-align: middle;\n    }\n\n    .dataframe tbody tr th {\n        vertical-align: top;\n    }\n\n    .dataframe thead th {\n        text-align: right;\n    }\n</style>\n<table border=\"1\" class=\"dataframe\">\n  <thead>\n    <tr style=\"text-align: right;\">\n      <th></th>\n      <th>poetID</th>\n      <th>NameHZ</th>\n      <th>StartYear</th>\n      <th>EndYear</th>\n      <th>totalWeight</th>\n      <th>normalized_totalWeight</th>\n      <th>ln_normalized_totalWeight</th>\n      <th>MissingFields</th>\n    </tr>\n  </thead>\n  <tbody>\n    <tr>\n      <th>0</th>\n      <td>911</td>\n      <td>顧太清</td>\n      <td>1799</td>\n      <td>1877</td>\n      <td>0.497538</td>\n      <td>1.000000</td>\n      <td>0.009950</td>\n      <td>2</td>\n    </tr>\n    <tr>\n      <th>1</th>\n      <td>199</td>\n      <td>吳藻</td>\n      <td>1799</td>\n      <td>1862</td>\n      <td>0.401543</td>\n      <td>0.807060</td>\n      <td>-0.202043</td>\n      <td>0</td>\n    </tr>\n    <tr>\n      <th>2</th>\n      <td>43</td>\n      <td>顧若璞</td>\n      <td>1592</td>\n      <td>1681</td>\n      <td>0.400973</td>\n      <td>0.805914</td>\n      <td>-0.203446</td>\n      <td>4</td>\n    </tr>\n    <tr>\n      <th>3</th>\n      <td>202</td>\n      <td>席佩蘭</td>\n      <td>1762</td>\n      <td>1842</td>\n      <td>0.356162</td>\n      <td>0.715848</td>\n      <td>-0.320415</td>\n      <td>0</td>\n    </tr>\n    <tr>\n      <th>4</th>\n      <td>167</td>\n      <td>歸懋儀</td>\n      <td>1762</td>\n      <td>1832</td>\n      <td>0.350100</td>\n      <td>0.703665</td>\n      <td>-0.337341</td>\n      <td>2</td>\n    </tr>\n    <tr>\n      <th>...</th>\n      <td>...</td>\n      <td>...</td>\n      <td>...</td>\n      <td>...</td>\n      <td>...</td>\n      <td>...</td>\n      <td>...</td>\n      <td>...</td>\n    </tr>\n    <tr>\n      <th>2762</th>\n      <td>8452</td>\n      <td>冒國柱</td>\n      <td>1740</td>\n      <td>1820</td>\n      <td>0.025385</td>\n      <td>0.051020</td>\n      <td>-2.796547</td>\n      <td>8</td>\n    </tr>\n    <tr>\n      <th>2763</th>\n      <td>6211</td>\n      <td>江芳孫</td>\n      <td>0</td>\n      <td>0</td>\n      <td>0.025385</td>\n      <td>0.051020</td>\n      <td>-2.796547</td>\n      <td>7</td>\n    </tr>\n    <tr>\n      <th>2764</th>\n      <td>6196</td>\n      <td>黃彭年</td>\n      <td>1824</td>\n      <td>1890</td>\n      <td>0.025385</td>\n      <td>0.051020</td>\n      <td>-2.796547</td>\n      <td>1</td>\n    </tr>\n    <tr>\n      <th>2765</th>\n      <td>6991</td>\n      <td>楊振鎬</td>\n      <td>0</td>\n      <td>0</td>\n      <td>0.025385</td>\n      <td>0.051020</td>\n      <td>-2.796547</td>\n      <td>8</td>\n    </tr>\n    <tr>\n      <th>2766</th>\n      <td>8108</td>\n      <td>曹龍樹</td>\n      <td>1749</td>\n      <td>1814</td>\n      <td>0.025385</td>\n      <td>0.051020</td>\n      <td>-2.796547</td>\n      <td>5</td>\n    </tr>\n  </tbody>\n</table>\n<p>2767 rows × 8 columns</p>\n</div>"
     },
     "execution_count": 22,
     "metadata": {},
     "output_type": "execute_result"
    }
   ],
   "source": [
    "poet_min_max_sorted.reset_index()\n",
    "max_importance = poet_min_max_sorted['totalWeight'].max()\n",
    "poet_min_max_sorted['normalized_totalWeight'] = poet_min_max_sorted['totalWeight'] / max_importance\n",
    "poet_min_max_sorted['ln_normalized_totalWeight'] = np.log(poet_min_max_sorted['normalized_totalWeight'] + 0.01)\n",
    "columns_to_exclude = ['HuWenKai', 'xuZuoZhe', 'baZuoZhe']\n",
    "poet['MissingFields'] = poet.drop(columns=columns_to_exclude).isnull().sum(axis=1)\n",
    "\n",
    "poet_min_max_sorted = poet_min_max_sorted.merge(poet, on='poetID', how=\"inner\")[\n",
    "    ['poetID', 'NameHZ', 'StartYear', 'EndYear', 'totalWeight', 'normalized_totalWeight', 'ln_normalized_totalWeight',\n",
    "     'MissingFields']]\n",
    "# poet_min_max_sorted[['poetID','NameHZ','participate_count','bexiangzansubjectCount','discussedCount']]\n",
    "poet_min_max_sorted"
   ],
   "metadata": {
    "collapsed": false,
    "ExecuteTime": {
     "end_time": "2024-12-08T07:22:22.383456Z",
     "start_time": "2024-12-08T07:22:22.352644Z"
    }
   },
   "id": "9ff9902a7bef921e",
   "execution_count": 22
  },
  {
   "cell_type": "code",
   "outputs": [
    {
     "data": {
      "text/plain": "StartYear\n0       452\n1796    220\n1644    170\n1821    143\n1850    131\n       ... \n1727      1\n1623      1\n1616      1\n1582      1\n1580      1\nName: count, Length: 258, dtype: int64"
     },
     "execution_count": 23,
     "metadata": {},
     "output_type": "execute_result"
    }
   ],
   "source": [
    "poet_min_max_sorted['StartYear'].value_counts()"
   ],
   "metadata": {
    "collapsed": false,
    "ExecuteTime": {
     "end_time": "2024-12-08T07:22:42.224840Z",
     "start_time": "2024-12-08T07:22:42.203111Z"
    }
   },
   "id": "b91f090db640c23e",
   "execution_count": 23
  },
  {
   "cell_type": "code",
   "outputs": [
    {
     "data": {
      "text/plain": "      poetID NameHZ_x  StartYear_x  EndYear_x  totalWeight  \\\n0        911      顧太清         1799       1877     0.497538   \n1        199       吳藻         1799       1862     0.401543   \n2         43      顧若璞         1592       1681     0.400973   \n3        202      席佩蘭         1762       1842     0.356162   \n4        167      歸懋儀         1762       1832     0.350100   \n...      ...      ...          ...        ...          ...   \n2762    6971      劉卿采            0          0     0.025385   \n2763    7068      于齊慶         1856       1904     0.025385   \n2764    5788      武麟仁         1821       1908     0.025385   \n2765    6707      趙掌宣         1796       1820     0.025385   \n2766    6427       劉釗         1870       1930     0.025385   \n\n      normalized_totalWeight  ln_normalized_totalWeight  MissingFields_x  \\\n0                   1.000000                   0.009950                2   \n1                   0.807060                  -0.202043                0   \n2                   0.805914                  -0.203446                4   \n3                   0.715848                  -0.320415                0   \n4                   0.703665                  -0.337341                2   \n...                      ...                        ...              ...   \n2762                0.051020                  -2.796547                8   \n2763                0.051020                  -2.796547                1   \n2764                0.051020                  -2.796547                7   \n2765                0.051020                  -2.796547                7   \n2766                0.051020                  -2.796547                6   \n\n     NameHZ_y          NamePY  ... StartYear_y EndYear_y EthnicGroup  \\\n0         顧太清      Gu Taiqing  ...        1799      1877           漢   \n1          吳藻          Wu Zao  ...        1799      1862           漢   \n2         顧若璞        Gu Ruopu  ...        1592      1681           漢   \n3         席佩蘭       Xi Peilan  ...        1762      1842           漢   \n4         歸懋儀       Gui Maoyi  ...        1762      1832           漢   \n...       ...             ...  ...         ...       ...         ...   \n2762      劉卿采     Liu Qingcai  ...           0         0           漢   \n2763      于齊慶       Yu Qiqing  ...        1856      1904           漢   \n2764      武麟仁       Wu Linren  ...        1821      1908           漢   \n2765      趙掌宣  Zhao Zhangxuan  ...        1796      1820           漢   \n2766       劉釗        Liu Zhao  ...        1870      1930           漢   \n\n                                              MainWorks ispoet HuWenKai  \\\n0                                     子春集﹐天游閣集五卷﹐東海漁歌四卷      1      800   \n1                     《花簾詞一卷》、《香南雪北詞一卷》、《花簾書屋詩詞》、《讀騷圖曲》      1      317   \n2                                              《臥月軒集六卷》      1      206   \n3                          《長真閣詩集》, 《傍杏樓調琴草》, 《長真閣詩餘一卷》      1      469   \n4     《繡餘小草一卷》﹐《繡餘續草五卷》﹐《再續草一卷》﹐《三續草一卷》﹐《四續草一卷》﹐《五續草...      1      784   \n...                                                 ...    ...      ...   \n2762                                                NaN      0      NaN   \n2763                                          《小尋暢樓詩文鈔》      0      NaN   \n2764                                                NaN      0      NaN   \n2765                                                NaN      0      NaN   \n2766                                            《鴻雪留題集》      0      NaN   \n\n                                                  zhuLu  \\\n0     清史稿藝文志﹐國朝閨秀正始集﹐風雨樓叢書﹐(沈善寶)名媛詩話﹐漁歌﹐(沈湘佩)名媛詩話﹐（徐...   \n1     杭州府志﹐國朝閨秀正始續集﹐國朝正雅集﹐小檀欒室彙刻閨秀詞﹐碧城仙館女弟子詩﹐崑山徐氏書目﹐...   \n2     翠樓集﹐宮閨氏籍藝文考略﹐國朝閨閣詩鈔﹐（徐乃昌）閨秀詞鈔﹐國朝閨秀正始集﹐全清詞﹐小黛軒論...   \n3     蘇州府志﹐清史稿藝文志﹐擷芳集﹐正始集﹐國朝閨閣詩鈔﹐小檀欒室彙刻百家閨秀詞, 隨園女弟子詩...   \n4     清史稿藝文志﹐松江府續志﹐崑山胡氏書目﹐常昭合志﹐蘇州府志﹐閨籍經眼錄﹐販書偶記澤存書庫書目...   \n...                                                 ...   \n2762                                                NaN   \n2763                     《晚晴簃詩匯·卷一七五》《清人詩文集總目提要》(1874頁)   \n2764                                                NaN   \n2765                                                NaN   \n2766                                                NaN   \n\n                                  xuZuoZhe baZuoZhe MissingFields_y  \n0     鈍宦案語﹐況周頤﹐王佳﹐壽森序﹐徐德培﹐慶珍﹐伊既明﹐張潤普﹐梁啟勳題詞      NaN               2  \n1                    張景祁﹐陳文述﹐魏謙升﹐趙慶熺序﹐吳藻自序      NaN               0  \n2       吳本泰序﹐力墨子﹐包鴻嘉小傳﹐馬元調序﹐顧若群總序詩稿序﹐顧若璞自序      NaN               4  \n3                                      袁枚序      NaN               0  \n4                          戈載﹐段驤﹐陶澍﹐陳鑾﹐魏文瀛      諸以敦               2  \n...                                    ...      ...             ...  \n2762                                   NaN      NaN               8  \n2763                                   NaN      NaN               1  \n2764                                   NaN      NaN               7  \n2765                                   NaN      NaN               7  \n2766                                   NaN      NaN               6  \n\n[2767 rows x 30 columns]",
      "text/html": "<div>\n<style scoped>\n    .dataframe tbody tr th:only-of-type {\n        vertical-align: middle;\n    }\n\n    .dataframe tbody tr th {\n        vertical-align: top;\n    }\n\n    .dataframe thead th {\n        text-align: right;\n    }\n</style>\n<table border=\"1\" class=\"dataframe\">\n  <thead>\n    <tr style=\"text-align: right;\">\n      <th></th>\n      <th>poetID</th>\n      <th>NameHZ_x</th>\n      <th>StartYear_x</th>\n      <th>EndYear_x</th>\n      <th>totalWeight</th>\n      <th>normalized_totalWeight</th>\n      <th>ln_normalized_totalWeight</th>\n      <th>MissingFields_x</th>\n      <th>NameHZ_y</th>\n      <th>NamePY</th>\n      <th>...</th>\n      <th>StartYear_y</th>\n      <th>EndYear_y</th>\n      <th>EthnicGroup</th>\n      <th>MainWorks</th>\n      <th>ispoet</th>\n      <th>HuWenKai</th>\n      <th>zhuLu</th>\n      <th>xuZuoZhe</th>\n      <th>baZuoZhe</th>\n      <th>MissingFields_y</th>\n    </tr>\n  </thead>\n  <tbody>\n    <tr>\n      <th>0</th>\n      <td>911</td>\n      <td>顧太清</td>\n      <td>1799</td>\n      <td>1877</td>\n      <td>0.497538</td>\n      <td>1.000000</td>\n      <td>0.009950</td>\n      <td>2</td>\n      <td>顧太清</td>\n      <td>Gu Taiqing</td>\n      <td>...</td>\n      <td>1799</td>\n      <td>1877</td>\n      <td>漢</td>\n      <td>子春集﹐天游閣集五卷﹐東海漁歌四卷</td>\n      <td>1</td>\n      <td>800</td>\n      <td>清史稿藝文志﹐國朝閨秀正始集﹐風雨樓叢書﹐(沈善寶)名媛詩話﹐漁歌﹐(沈湘佩)名媛詩話﹐（徐...</td>\n      <td>鈍宦案語﹐況周頤﹐王佳﹐壽森序﹐徐德培﹐慶珍﹐伊既明﹐張潤普﹐梁啟勳題詞</td>\n      <td>NaN</td>\n      <td>2</td>\n    </tr>\n    <tr>\n      <th>1</th>\n      <td>199</td>\n      <td>吳藻</td>\n      <td>1799</td>\n      <td>1862</td>\n      <td>0.401543</td>\n      <td>0.807060</td>\n      <td>-0.202043</td>\n      <td>0</td>\n      <td>吳藻</td>\n      <td>Wu Zao</td>\n      <td>...</td>\n      <td>1799</td>\n      <td>1862</td>\n      <td>漢</td>\n      <td>《花簾詞一卷》、《香南雪北詞一卷》、《花簾書屋詩詞》、《讀騷圖曲》</td>\n      <td>1</td>\n      <td>317</td>\n      <td>杭州府志﹐國朝閨秀正始續集﹐國朝正雅集﹐小檀欒室彙刻閨秀詞﹐碧城仙館女弟子詩﹐崑山徐氏書目﹐...</td>\n      <td>張景祁﹐陳文述﹐魏謙升﹐趙慶熺序﹐吳藻自序</td>\n      <td>NaN</td>\n      <td>0</td>\n    </tr>\n    <tr>\n      <th>2</th>\n      <td>43</td>\n      <td>顧若璞</td>\n      <td>1592</td>\n      <td>1681</td>\n      <td>0.400973</td>\n      <td>0.805914</td>\n      <td>-0.203446</td>\n      <td>4</td>\n      <td>顧若璞</td>\n      <td>Gu Ruopu</td>\n      <td>...</td>\n      <td>1592</td>\n      <td>1681</td>\n      <td>漢</td>\n      <td>《臥月軒集六卷》</td>\n      <td>1</td>\n      <td>206</td>\n      <td>翠樓集﹐宮閨氏籍藝文考略﹐國朝閨閣詩鈔﹐（徐乃昌）閨秀詞鈔﹐國朝閨秀正始集﹐全清詞﹐小黛軒論...</td>\n      <td>吳本泰序﹐力墨子﹐包鴻嘉小傳﹐馬元調序﹐顧若群總序詩稿序﹐顧若璞自序</td>\n      <td>NaN</td>\n      <td>4</td>\n    </tr>\n    <tr>\n      <th>3</th>\n      <td>202</td>\n      <td>席佩蘭</td>\n      <td>1762</td>\n      <td>1842</td>\n      <td>0.356162</td>\n      <td>0.715848</td>\n      <td>-0.320415</td>\n      <td>0</td>\n      <td>席佩蘭</td>\n      <td>Xi Peilan</td>\n      <td>...</td>\n      <td>1762</td>\n      <td>1842</td>\n      <td>漢</td>\n      <td>《長真閣詩集》, 《傍杏樓調琴草》, 《長真閣詩餘一卷》</td>\n      <td>1</td>\n      <td>469</td>\n      <td>蘇州府志﹐清史稿藝文志﹐擷芳集﹐正始集﹐國朝閨閣詩鈔﹐小檀欒室彙刻百家閨秀詞, 隨園女弟子詩...</td>\n      <td>袁枚序</td>\n      <td>NaN</td>\n      <td>0</td>\n    </tr>\n    <tr>\n      <th>4</th>\n      <td>167</td>\n      <td>歸懋儀</td>\n      <td>1762</td>\n      <td>1832</td>\n      <td>0.350100</td>\n      <td>0.703665</td>\n      <td>-0.337341</td>\n      <td>2</td>\n      <td>歸懋儀</td>\n      <td>Gui Maoyi</td>\n      <td>...</td>\n      <td>1762</td>\n      <td>1832</td>\n      <td>漢</td>\n      <td>《繡餘小草一卷》﹐《繡餘續草五卷》﹐《再續草一卷》﹐《三續草一卷》﹐《四續草一卷》﹐《五續草...</td>\n      <td>1</td>\n      <td>784</td>\n      <td>清史稿藝文志﹐松江府續志﹐崑山胡氏書目﹐常昭合志﹐蘇州府志﹐閨籍經眼錄﹐販書偶記澤存書庫書目...</td>\n      <td>戈載﹐段驤﹐陶澍﹐陳鑾﹐魏文瀛</td>\n      <td>諸以敦</td>\n      <td>2</td>\n    </tr>\n    <tr>\n      <th>...</th>\n      <td>...</td>\n      <td>...</td>\n      <td>...</td>\n      <td>...</td>\n      <td>...</td>\n      <td>...</td>\n      <td>...</td>\n      <td>...</td>\n      <td>...</td>\n      <td>...</td>\n      <td>...</td>\n      <td>...</td>\n      <td>...</td>\n      <td>...</td>\n      <td>...</td>\n      <td>...</td>\n      <td>...</td>\n      <td>...</td>\n      <td>...</td>\n      <td>...</td>\n      <td>...</td>\n    </tr>\n    <tr>\n      <th>2762</th>\n      <td>6971</td>\n      <td>劉卿采</td>\n      <td>0</td>\n      <td>0</td>\n      <td>0.025385</td>\n      <td>0.051020</td>\n      <td>-2.796547</td>\n      <td>8</td>\n      <td>劉卿采</td>\n      <td>Liu Qingcai</td>\n      <td>...</td>\n      <td>0</td>\n      <td>0</td>\n      <td>漢</td>\n      <td>NaN</td>\n      <td>0</td>\n      <td>NaN</td>\n      <td>NaN</td>\n      <td>NaN</td>\n      <td>NaN</td>\n      <td>8</td>\n    </tr>\n    <tr>\n      <th>2763</th>\n      <td>7068</td>\n      <td>于齊慶</td>\n      <td>1856</td>\n      <td>1904</td>\n      <td>0.025385</td>\n      <td>0.051020</td>\n      <td>-2.796547</td>\n      <td>1</td>\n      <td>于齊慶</td>\n      <td>Yu Qiqing</td>\n      <td>...</td>\n      <td>1856</td>\n      <td>1904</td>\n      <td>漢</td>\n      <td>《小尋暢樓詩文鈔》</td>\n      <td>0</td>\n      <td>NaN</td>\n      <td>《晚晴簃詩匯·卷一七五》《清人詩文集總目提要》(1874頁)</td>\n      <td>NaN</td>\n      <td>NaN</td>\n      <td>1</td>\n    </tr>\n    <tr>\n      <th>2764</th>\n      <td>5788</td>\n      <td>武麟仁</td>\n      <td>1821</td>\n      <td>1908</td>\n      <td>0.025385</td>\n      <td>0.051020</td>\n      <td>-2.796547</td>\n      <td>7</td>\n      <td>武麟仁</td>\n      <td>Wu Linren</td>\n      <td>...</td>\n      <td>1821</td>\n      <td>1908</td>\n      <td>漢</td>\n      <td>NaN</td>\n      <td>0</td>\n      <td>NaN</td>\n      <td>NaN</td>\n      <td>NaN</td>\n      <td>NaN</td>\n      <td>7</td>\n    </tr>\n    <tr>\n      <th>2765</th>\n      <td>6707</td>\n      <td>趙掌宣</td>\n      <td>1796</td>\n      <td>1820</td>\n      <td>0.025385</td>\n      <td>0.051020</td>\n      <td>-2.796547</td>\n      <td>7</td>\n      <td>趙掌宣</td>\n      <td>Zhao Zhangxuan</td>\n      <td>...</td>\n      <td>1796</td>\n      <td>1820</td>\n      <td>漢</td>\n      <td>NaN</td>\n      <td>0</td>\n      <td>NaN</td>\n      <td>NaN</td>\n      <td>NaN</td>\n      <td>NaN</td>\n      <td>7</td>\n    </tr>\n    <tr>\n      <th>2766</th>\n      <td>6427</td>\n      <td>劉釗</td>\n      <td>1870</td>\n      <td>1930</td>\n      <td>0.025385</td>\n      <td>0.051020</td>\n      <td>-2.796547</td>\n      <td>6</td>\n      <td>劉釗</td>\n      <td>Liu Zhao</td>\n      <td>...</td>\n      <td>1870</td>\n      <td>1930</td>\n      <td>漢</td>\n      <td>《鴻雪留題集》</td>\n      <td>0</td>\n      <td>NaN</td>\n      <td>NaN</td>\n      <td>NaN</td>\n      <td>NaN</td>\n      <td>6</td>\n    </tr>\n  </tbody>\n</table>\n<p>2767 rows × 30 columns</p>\n</div>"
     },
     "execution_count": 7,
     "metadata": {},
     "output_type": "execute_result"
    }
   ],
   "source": [
    "poet_min_max_sorted_detail = poet_min_max_sorted.copy()\n",
    "poet_min_max_sorted_detail = poet_min_max_sorted_detail.merge(poet, on='poetID', how=\"inner\")\n",
    "poet_min_max_sorted_detail"
   ],
   "metadata": {
    "collapsed": false,
    "ExecuteTime": {
     "end_time": "2024-12-08T07:11:46.038872Z",
     "start_time": "2024-12-08T07:11:45.995073Z"
    }
   },
   "id": "ffda7c90a2f0b687",
   "execution_count": 7
  },
  {
   "cell_type": "code",
   "outputs": [
    {
     "data": {
      "text/plain": "poemID\n91773    4\n91768    4\n91771    4\n89719    4\n89695    3\n        ..\n35357    1\n35358    1\n35359    1\n35360    1\n97257    1\nName: count, Length: 74015, dtype: int64"
     },
     "execution_count": 11,
     "metadata": {},
     "output_type": "execute_result"
    }
   ],
   "source": [
    "poem_filter = poempoetlinks[poempoetlinks['poetID'].isin(poet_min_max_sorted_detail['poetID'])]\n",
    "poem_filter['poemID'].value_counts()"
   ],
   "metadata": {
    "collapsed": false,
    "ExecuteTime": {
     "end_time": "2024-12-08T07:18:35.381406Z",
     "start_time": "2024-12-08T07:18:35.366344Z"
    }
   },
   "id": "cc361cd4bbcad146",
   "execution_count": 11
  },
  {
   "cell_type": "code",
   "outputs": [
    {
     "data": {
      "text/plain": "regionID\n110     102\n10       82\n64       47\n18       44\n48       43\n       ... \n1377      1\n1383      1\n1387      1\n1386      1\n1441      1\nName: count, Length: 456, dtype: int64"
     },
     "execution_count": 13,
     "metadata": {},
     "output_type": "execute_result"
    }
   ],
   "source": [
    "poetregionlinks[poetregionlinks['poetID'].isin(poet_min_max_sorted_detail['poetID'])]['regionID'].value_counts()"
   ],
   "metadata": {
    "collapsed": false,
    "ExecuteTime": {
     "end_time": "2024-12-08T07:20:36.966874Z",
     "start_time": "2024-12-08T07:20:36.950594Z"
    }
   },
   "id": "8c44e06c507eec6b",
   "execution_count": 13
  },
  {
   "cell_type": "code",
   "outputs": [
    {
     "data": {
      "text/html": "\n<style>\n  #altair-viz-dc4a533e1f1948cc94658e4aa9e92413.vega-embed {\n    width: 100%;\n    display: flex;\n  }\n\n  #altair-viz-dc4a533e1f1948cc94658e4aa9e92413.vega-embed details,\n  #altair-viz-dc4a533e1f1948cc94658e4aa9e92413.vega-embed details summary {\n    position: relative;\n  }\n</style>\n<div id=\"altair-viz-dc4a533e1f1948cc94658e4aa9e92413\"></div>\n<script type=\"text/javascript\">\n  var VEGA_DEBUG = (typeof VEGA_DEBUG == \"undefined\") ? {} : VEGA_DEBUG;\n  (function(spec, embedOpt){\n    let outputDiv = document.currentScript.previousElementSibling;\n    if (outputDiv.id !== \"altair-viz-dc4a533e1f1948cc94658e4aa9e92413\") {\n      outputDiv = document.getElementById(\"altair-viz-dc4a533e1f1948cc94658e4aa9e92413\");\n    }\n    const paths = {\n      \"vega\": \"https://cdn.jsdelivr.net/npm/vega@5?noext\",\n      \"vega-lib\": \"https://cdn.jsdelivr.net/npm/vega-lib?noext\",\n      \"vega-lite\": \"https://cdn.jsdelivr.net/npm/vega-lite@5.20.1?noext\",\n      \"vega-embed\": \"https://cdn.jsdelivr.net/npm/vega-embed@6?noext\",\n    };\n\n    function maybeLoadScript(lib, version) {\n      var key = `${lib.replace(\"-\", \"\")}_version`;\n      return (VEGA_DEBUG[key] == version) ?\n        Promise.resolve(paths[lib]) :\n        new Promise(function(resolve, reject) {\n          var s = document.createElement('script');\n          document.getElementsByTagName(\"head\")[0].appendChild(s);\n          s.async = true;\n          s.onload = () => {\n            VEGA_DEBUG[key] = version;\n            return resolve(paths[lib]);\n          };\n          s.onerror = () => reject(`Error loading script: ${paths[lib]}`);\n          s.src = paths[lib];\n        });\n    }\n\n    function showError(err) {\n      outputDiv.innerHTML = `<div class=\"error\" style=\"color:red;\">${err}</div>`;\n      throw err;\n    }\n\n    function displayChart(vegaEmbed) {\n      vegaEmbed(outputDiv, spec, embedOpt)\n        .catch(err => showError(`Javascript Error: ${err.message}<br>This usually means there's a typo in your chart specification. See the javascript console for the full traceback.`));\n    }\n\n    if(typeof define === \"function\" && define.amd) {\n      requirejs.config({paths});\n      require([\"vega-embed\"], displayChart, err => showError(`Error loading script: ${err.message}`));\n    } else {\n      maybeLoadScript(\"vega\", \"5\")\n        .then(() => maybeLoadScript(\"vega-lite\", \"5.20.1\"))\n        .then(() => maybeLoadScript(\"vega-embed\", \"6\"))\n        .catch(showError)\n        .then(() => displayChart(vegaEmbed));\n    }\n  })({\"$schema\": \"https://vega.github.io/schema/vega/v5.json\", \"data\": [{\"name\": \"param_33_store\"}, {\"name\": \"source_0\", \"values\": [{\"StartYear\": \"1799\", \"__count\": 1, \"bin_step_0_05_ln_normalized_totalWeight\": 0.0, \"bin_step_0_05_ln_normalized_totalWeight_end\": 0.05, \"bin_step_5_StartYear\": 1795.0, \"bin_step_5_StartYear_range\": \"1795 \\u2013 1800\", \"ln_normalized_totalWeight\": 0.009950330853168092}, {\"StartYear\": \"1799\", \"__count\": 1, \"bin_step_0_05_ln_normalized_totalWeight\": -0.25, \"bin_step_0_05_ln_normalized_totalWeight_end\": -0.2, \"bin_step_5_StartYear\": 1795.0, \"bin_step_5_StartYear_range\": \"1795 \\u2013 1800\", \"ln_normalized_totalWeight\": -0.20204328773717642}, {\"StartYear\": \"1592\", \"__count\": 1, \"bin_step_0_05_ln_normalized_totalWeight\": -0.25, \"bin_step_0_05_ln_normalized_totalWeight_end\": -0.2, \"bin_step_5_StartYear\": 1590.0, \"bin_step_5_StartYear_range\": \"1590 \\u2013 1595\", \"ln_normalized_totalWeight\": -0.20344607364451395}, {\"StartYear\": \"1762\", \"__count\": 1, \"bin_step_0_05_ln_normalized_totalWeight\": -0.3500000000000001, \"bin_step_0_05_ln_normalized_totalWeight_end\": -0.3000000000000001, \"bin_step_5_StartYear\": 1760.0, \"bin_step_5_StartYear_range\": \"1760 \\u2013 1765\", \"ln_normalized_totalWeight\": -0.3204152538135403}, {\"StartYear\": \"1762\", \"__count\": 1, \"bin_step_0_05_ln_normalized_totalWeight\": -0.3500000000000001, \"bin_step_0_05_ln_normalized_totalWeight_end\": -0.3000000000000001, \"bin_step_5_StartYear\": 1760.0, \"bin_step_5_StartYear_range\": \"1760 \\u2013 1765\", \"ln_normalized_totalWeight\": -0.3373414189154489}, {\"StartYear\": \"1616\", \"__count\": 1, \"bin_step_0_05_ln_normalized_totalWeight\": -0.3500000000000001, \"bin_step_0_05_ln_normalized_totalWeight_end\": -0.3000000000000001, \"bin_step_5_StartYear\": 1615.0, \"bin_step_5_StartYear_range\": \"1615 \\u2013 1620\", \"ln_normalized_totalWeight\": -0.3395323074518466}, {\"StartYear\": \"1716\", \"__count\": 1, \"bin_step_0_05_ln_normalized_totalWeight\": -0.3999999999999999, \"bin_step_0_05_ln_normalized_totalWeight_end\": -0.3499999999999999, \"bin_step_5_StartYear\": 1715.0, \"bin_step_5_StartYear_range\": \"1715 \\u2013 1720\", \"ln_normalized_totalWeight\": -0.3956158128701366}, {\"StartYear\": \"1621\", \"__count\": 1, \"bin_step_0_05_ln_normalized_totalWeight\": -0.4500000000000002, \"bin_step_0_05_ln_normalized_totalWeight_end\": -0.4000000000000002, \"bin_step_5_StartYear\": 1620.0, \"bin_step_5_StartYear_range\": \"1620 \\u2013 1625\", \"ln_normalized_totalWeight\": -0.41861238047219906}, {\"StartYear\": \"1764\", \"__count\": 1, \"bin_step_0_05_ln_normalized_totalWeight\": -0.5, \"bin_step_0_05_ln_normalized_totalWeight_end\": -0.45, \"bin_step_5_StartYear\": 1760.0, \"bin_step_5_StartYear_range\": \"1760 \\u2013 1765\", \"ln_normalized_totalWeight\": -0.47760596494567725}, {\"StartYear\": \"1793\", \"__count\": 1, \"bin_step_0_05_ln_normalized_totalWeight\": -0.5500000000000003, \"bin_step_0_05_ln_normalized_totalWeight_end\": -0.5000000000000002, \"bin_step_5_StartYear\": 1790.0, \"bin_step_5_StartYear_range\": \"1790 \\u2013 1795\", \"ln_normalized_totalWeight\": -0.5369090754001675}, {\"StartYear\": \"1662\", \"__count\": 1, \"bin_step_0_05_ln_normalized_totalWeight\": -0.6000000000000001, \"bin_step_0_05_ln_normalized_totalWeight_end\": -0.55, \"bin_step_5_StartYear\": 1660.0, \"bin_step_5_StartYear_range\": \"1660 \\u2013 1665\", \"ln_normalized_totalWeight\": -0.575588150739758}, {\"StartYear\": \"1764\", \"__count\": 1, \"bin_step_0_05_ln_normalized_totalWeight\": -0.6500000000000004, \"bin_step_0_05_ln_normalized_totalWeight_end\": -0.6000000000000003, \"bin_step_5_StartYear\": 1760.0, \"bin_step_5_StartYear_range\": \"1760 \\u2013 1765\", \"ln_normalized_totalWeight\": -0.6031823738775896}, {\"StartYear\": \"1771\", \"__count\": 1, \"bin_step_0_05_ln_normalized_totalWeight\": -0.6500000000000004, \"bin_step_0_05_ln_normalized_totalWeight_end\": -0.6000000000000003, \"bin_step_5_StartYear\": 1770.0, \"bin_step_5_StartYear_range\": \"1770 \\u2013 1775\", \"ln_normalized_totalWeight\": -0.6315596983372529}, {\"StartYear\": \"1753\", \"__count\": 1, \"bin_step_0_05_ln_normalized_totalWeight\": -0.7000000000000002, \"bin_step_0_05_ln_normalized_totalWeight_end\": -0.6500000000000001, \"bin_step_5_StartYear\": 1750.0, \"bin_step_5_StartYear_range\": \"1750 \\u2013 1755\", \"ln_normalized_totalWeight\": -0.6505361999746437}, {\"StartYear\": \"1610\", \"__count\": 1, \"bin_step_0_05_ln_normalized_totalWeight\": -0.7000000000000002, \"bin_step_0_05_ln_normalized_totalWeight_end\": -0.6500000000000001, \"bin_step_5_StartYear\": 1610.0, \"bin_step_5_StartYear_range\": \"1610 \\u2013 1615\", \"ln_normalized_totalWeight\": -0.667238335277613}, {\"StartYear\": \"1808\", \"__count\": 1, \"bin_step_0_05_ln_normalized_totalWeight\": -0.7000000000000002, \"bin_step_0_05_ln_normalized_totalWeight_end\": -0.6500000000000001, \"bin_step_5_StartYear\": 1805.0, \"bin_step_5_StartYear_range\": \"1805 \\u2013 1810\", \"ln_normalized_totalWeight\": -0.6776411999013465}, {\"StartYear\": \"1756\", \"__count\": 1, \"bin_step_0_05_ln_normalized_totalWeight\": -0.75, \"bin_step_0_05_ln_normalized_totalWeight_end\": -0.7, \"bin_step_5_StartYear\": 1755.0, \"bin_step_5_StartYear_range\": \"1755 \\u2013 1760\", \"ln_normalized_totalWeight\": -0.7109981941267568}, {\"StartYear\": \"1662\", \"__count\": 1, \"bin_step_0_05_ln_normalized_totalWeight\": -0.75, \"bin_step_0_05_ln_normalized_totalWeight_end\": -0.7, \"bin_step_5_StartYear\": 1660.0, \"bin_step_5_StartYear_range\": \"1660 \\u2013 1665\", \"ln_normalized_totalWeight\": -0.7214403949911194}, {\"StartYear\": \"1620\", \"__count\": 1, \"bin_step_0_05_ln_normalized_totalWeight\": -0.75, \"bin_step_0_05_ln_normalized_totalWeight_end\": -0.7, \"bin_step_5_StartYear\": 1620.0, \"bin_step_5_StartYear_range\": \"1620 \\u2013 1625\", \"ln_normalized_totalWeight\": -0.7214403949911194}, {\"StartYear\": \"1662\", \"__count\": 1, \"bin_step_0_05_ln_normalized_totalWeight\": -0.75, \"bin_step_0_05_ln_normalized_totalWeight_end\": -0.7, \"bin_step_5_StartYear\": 1660.0, \"bin_step_5_StartYear_range\": \"1660 \\u2013 1665\", \"ln_normalized_totalWeight\": -0.7250888278530189}, {\"StartYear\": \"1792\", \"__count\": 1, \"bin_step_0_05_ln_normalized_totalWeight\": -0.75, \"bin_step_0_05_ln_normalized_totalWeight_end\": -0.7, \"bin_step_5_StartYear\": 1790.0, \"bin_step_5_StartYear_range\": \"1790 \\u2013 1795\", \"ln_normalized_totalWeight\": -0.7259492205893167}, {\"StartYear\": \"1736\", \"__count\": 1, \"bin_step_0_05_ln_normalized_totalWeight\": -0.75, \"bin_step_0_05_ln_normalized_totalWeight_end\": -0.7, \"bin_step_5_StartYear\": 1735.0, \"bin_step_5_StartYear_range\": \"1735 \\u2013 1740\", \"ln_normalized_totalWeight\": -0.7287506205345444}, {\"StartYear\": \"1662\", \"__count\": 1, \"bin_step_0_05_ln_normalized_totalWeight\": -0.75, \"bin_step_0_05_ln_normalized_totalWeight_end\": -0.7, \"bin_step_5_StartYear\": 1660.0, \"bin_step_5_StartYear_range\": \"1660 \\u2013 1665\", \"ln_normalized_totalWeight\": -0.7496844775844966}, {\"StartYear\": \"1655\", \"__count\": 1, \"bin_step_0_05_ln_normalized_totalWeight\": -0.8000000000000003, \"bin_step_0_05_ln_normalized_totalWeight_end\": -0.7500000000000002, \"bin_step_5_StartYear\": 1655.0, \"bin_step_5_StartYear_range\": \"1655 \\u2013 1660\", \"ln_normalized_totalWeight\": -0.7534376224855901}, {\"StartYear\": \"1821\", \"__count\": 1, \"bin_step_0_05_ln_normalized_totalWeight\": -0.8000000000000003, \"bin_step_0_05_ln_normalized_totalWeight_end\": -0.7500000000000002, \"bin_step_5_StartYear\": 1820.0, \"bin_step_5_StartYear_range\": \"1820 \\u2013 1825\", \"ln_normalized_totalWeight\": -0.7567609593355366}, {\"StartYear\": \"1796\", \"__count\": 1, \"bin_step_0_05_ln_normalized_totalWeight\": -0.8000000000000003, \"bin_step_0_05_ln_normalized_totalWeight_end\": -0.7500000000000002, \"bin_step_5_StartYear\": 1795.0, \"bin_step_5_StartYear_range\": \"1795 \\u2013 1800\", \"ln_normalized_totalWeight\": -0.7864926111988291}, {\"StartYear\": \"1582\", \"__count\": 1, \"bin_step_0_05_ln_normalized_totalWeight\": -0.8000000000000003, \"bin_step_0_05_ln_normalized_totalWeight_end\": -0.7500000000000002, \"bin_step_5_StartYear\": 1580.0, \"bin_step_5_StartYear_range\": \"1580 \\u2013 1585\", \"ln_normalized_totalWeight\": -0.7864926111988291}, {\"StartYear\": \"1766\", \"__count\": 1, \"bin_step_0_05_ln_normalized_totalWeight\": -0.8000000000000003, \"bin_step_0_05_ln_normalized_totalWeight_end\": -0.7500000000000002, \"bin_step_5_StartYear\": 1765.0, \"bin_step_5_StartYear_range\": \"1765 \\u2013 1770\", \"ln_normalized_totalWeight\": -0.7903867506369704}, {\"StartYear\": \"1783\", \"__count\": 1, \"bin_step_0_05_ln_normalized_totalWeight\": -0.9000000000000001, \"bin_step_0_05_ln_normalized_totalWeight_end\": -0.8500000000000001, \"bin_step_5_StartYear\": 1780.0, \"bin_step_5_StartYear_range\": \"1780 \\u2013 1785\", \"ln_normalized_totalWeight\": -0.8723814629124391}, {\"StartYear\": \"1650\", \"__count\": 1, \"bin_step_0_05_ln_normalized_totalWeight\": -0.9500000000000002, \"bin_step_0_05_ln_normalized_totalWeight_end\": -0.9000000000000001, \"bin_step_5_StartYear\": 1650.0, \"bin_step_5_StartYear_range\": \"1650 \\u2013 1655\", \"ln_normalized_totalWeight\": -0.9053038293217851}, {\"StartYear\": \"1764\", \"__count\": 1, \"bin_step_0_05_ln_normalized_totalWeight\": -0.9500000000000002, \"bin_step_0_05_ln_normalized_totalWeight_end\": -0.9000000000000001, \"bin_step_5_StartYear\": 1760.0, \"bin_step_5_StartYear_range\": \"1760 \\u2013 1765\", \"ln_normalized_totalWeight\": -0.9096903218514775}, {\"StartYear\": \"1769\", \"__count\": 1, \"bin_step_0_05_ln_normalized_totalWeight\": -0.9500000000000002, \"bin_step_0_05_ln_normalized_totalWeight_end\": -0.9000000000000001, \"bin_step_5_StartYear\": 1765.0, \"bin_step_5_StartYear_range\": \"1765 \\u2013 1770\", \"ln_normalized_totalWeight\": -0.9096903218514775}, {\"StartYear\": \"1821\", \"__count\": 1, \"bin_step_0_05_ln_normalized_totalWeight\": -0.9500000000000002, \"bin_step_0_05_ln_normalized_totalWeight_end\": -0.9000000000000001, \"bin_step_5_StartYear\": 1820.0, \"bin_step_5_StartYear_range\": \"1820 \\u2013 1825\", \"ln_normalized_totalWeight\": -0.9185214563249801}, {\"StartYear\": \"1563\", \"__count\": 1, \"bin_step_0_05_ln_normalized_totalWeight\": -0.9500000000000002, \"bin_step_0_05_ln_normalized_totalWeight_end\": -0.9000000000000001, \"bin_step_5_StartYear\": 1560.0, \"bin_step_5_StartYear_range\": \"1560 \\u2013 1565\", \"ln_normalized_totalWeight\": -0.9348288528730662}, {\"StartYear\": \"1736\", \"__count\": 2, \"bin_step_0_05_ln_normalized_totalWeight\": -0.9500000000000002, \"bin_step_0_05_ln_normalized_totalWeight_end\": -0.9000000000000001, \"bin_step_5_StartYear\": 1735.0, \"bin_step_5_StartYear_range\": \"1735 \\u2013 1740\", \"ln_normalized_totalWeight\": -0.9393470849504448}, {\"StartYear\": \"1695\", \"__count\": 1, \"bin_step_0_05_ln_normalized_totalWeight\": -0.9500000000000002, \"bin_step_0_05_ln_normalized_totalWeight_end\": -0.9000000000000001, \"bin_step_5_StartYear\": 1695.0, \"bin_step_5_StartYear_range\": \"1695 \\u2013 1700\", \"ln_normalized_totalWeight\": -0.9393470849504448}, {\"StartYear\": \"1766\", \"__count\": 1, \"bin_step_0_05_ln_normalized_totalWeight\": -0.9500000000000002, \"bin_step_0_05_ln_normalized_totalWeight_end\": -0.9000000000000001, \"bin_step_5_StartYear\": 1765.0, \"bin_step_5_StartYear_range\": \"1765 \\u2013 1770\", \"ln_normalized_totalWeight\": -0.943885824139865}, {\"StartYear\": \"1628\", \"__count\": 1, \"bin_step_0_05_ln_normalized_totalWeight\": -0.9500000000000002, \"bin_step_0_05_ln_normalized_totalWeight_end\": -0.9000000000000001, \"bin_step_5_StartYear\": 1625.0, \"bin_step_5_StartYear_range\": \"1625 \\u2013 1630\", \"ln_normalized_totalWeight\": -0.943885824139865}, {\"StartYear\": \"1760\", \"__count\": 1, \"bin_step_0_05_ln_normalized_totalWeight\": -0.9500000000000002, \"bin_step_0_05_ln_normalized_totalWeight_end\": -0.9000000000000001, \"bin_step_5_StartYear\": 1760.0, \"bin_step_5_StartYear_range\": \"1760 \\u2013 1765\", \"ln_normalized_totalWeight\": -0.9484452574435893}, {\"StartYear\": \"1866\", \"__count\": 1, \"bin_step_0_05_ln_normalized_totalWeight\": -1.0000000000000002, \"bin_step_0_05_ln_normalized_totalWeight_end\": -0.9500000000000002, \"bin_step_5_StartYear\": 1865.0, \"bin_step_5_StartYear_range\": \"1865 \\u2013 1870\", \"ln_normalized_totalWeight\": -0.974590252711593}, {\"StartYear\": \"1800\", \"__count\": 1, \"bin_step_0_05_ln_normalized_totalWeight\": -1.0000000000000002, \"bin_step_0_05_ln_normalized_totalWeight_end\": -0.9500000000000002, \"bin_step_5_StartYear\": 1800.0, \"bin_step_5_StartYear_range\": \"1800 \\u2013 1805\", \"ln_normalized_totalWeight\": -0.9792921869509926}, {\"StartYear\": \"1796\", \"__count\": 1, \"bin_step_0_05_ln_normalized_totalWeight\": -1.0000000000000002, \"bin_step_0_05_ln_normalized_totalWeight_end\": -0.9500000000000002, \"bin_step_5_StartYear\": 1795.0, \"bin_step_5_StartYear_range\": \"1795 \\u2013 1800\", \"ln_normalized_totalWeight\": -0.9792921869509926}, {\"StartYear\": \"1766\", \"__count\": 1, \"bin_step_0_05_ln_normalized_totalWeight\": -1.0000000000000002, \"bin_step_0_05_ln_normalized_totalWeight_end\": -0.9500000000000002, \"bin_step_5_StartYear\": 1765.0, \"bin_step_5_StartYear_range\": \"1765 \\u2013 1770\", \"ln_normalized_totalWeight\": -0.9792921869509926}, {\"StartYear\": \"1771\", \"__count\": 1, \"bin_step_0_05_ln_normalized_totalWeight\": -1.0000000000000002, \"bin_step_0_05_ln_normalized_totalWeight_end\": -0.9500000000000002, \"bin_step_5_StartYear\": 1770.0, \"bin_step_5_StartYear_range\": \"1770 \\u2013 1775\", \"ln_normalized_totalWeight\": -0.9840163338596103}, {\"StartYear\": \"1800\", \"__count\": 1, \"bin_step_0_05_ln_normalized_totalWeight\": -1.0000000000000002, \"bin_step_0_05_ln_normalized_totalWeight_end\": -0.9500000000000002, \"bin_step_5_StartYear\": 1800.0, \"bin_step_5_StartYear_range\": \"1800 \\u2013 1805\", \"ln_normalized_totalWeight\": -0.9840163338596103}, {\"StartYear\": \"1807\", \"__count\": 1, \"bin_step_0_05_ln_normalized_totalWeight\": -1.0500000000000003, \"bin_step_0_05_ln_normalized_totalWeight_end\": -1.0000000000000002, \"bin_step_5_StartYear\": 1805.0, \"bin_step_5_StartYear_range\": \"1805 \\u2013 1810\", \"ln_normalized_totalWeight\": -1.0020042501481847}, {\"StartYear\": \"1785\", \"__count\": 1, \"bin_step_0_05_ln_normalized_totalWeight\": -1.0500000000000003, \"bin_step_0_05_ln_normalized_totalWeight_end\": -1.0000000000000002, \"bin_step_5_StartYear\": 1785.0, \"bin_step_5_StartYear_range\": \"1785 \\u2013 1790\", \"ln_normalized_totalWeight\": -1.002571619611695}, {\"StartYear\": \"1604\", \"__count\": 1, \"bin_step_0_05_ln_normalized_totalWeight\": -1.0500000000000003, \"bin_step_0_05_ln_normalized_totalWeight_end\": -1.0000000000000002, \"bin_step_5_StartYear\": 1600.0, \"bin_step_5_StartYear_range\": \"1600 \\u2013 1605\", \"ln_normalized_totalWeight\": -1.002571619611695}, {\"StartYear\": \"1862\", \"__count\": 1, \"bin_step_0_05_ln_normalized_totalWeight\": -1.0500000000000003, \"bin_step_0_05_ln_normalized_totalWeight_end\": -1.0000000000000002, \"bin_step_5_StartYear\": 1860.0, \"bin_step_5_StartYear_range\": \"1860 \\u2013 1865\", \"ln_normalized_totalWeight\": -1.0258248762949098}, {\"StartYear\": \"1735\", \"__count\": 1, \"bin_step_0_05_ln_normalized_totalWeight\": -1.0500000000000003, \"bin_step_0_05_ln_normalized_totalWeight_end\": -1.0000000000000002, \"bin_step_5_StartYear\": 1735.0, \"bin_step_5_StartYear_range\": \"1735 \\u2013 1740\", \"ln_normalized_totalWeight\": -1.0401587261125904}, {\"StartYear\": \"1680\", \"__count\": 1, \"bin_step_0_05_ln_normalized_totalWeight\": -1.0500000000000003, \"bin_step_0_05_ln_normalized_totalWeight_end\": -1.0000000000000002, \"bin_step_5_StartYear\": 1680.0, \"bin_step_5_StartYear_range\": \"1680 \\u2013 1685\", \"ln_normalized_totalWeight\": -1.0401587261125904}, {\"StartYear\": \"1752\", \"__count\": 1, \"bin_step_0_05_ln_normalized_totalWeight\": -1.1, \"bin_step_0_05_ln_normalized_totalWeight_end\": -1.05, \"bin_step_5_StartYear\": 1750.0, \"bin_step_5_StartYear_range\": \"1750 \\u2013 1755\", \"ln_normalized_totalWeight\": -1.079213986430276}, {\"StartYear\": \"1610\", \"__count\": 1, \"bin_step_0_05_ln_normalized_totalWeight\": -1.1, \"bin_step_0_05_ln_normalized_totalWeight_end\": -1.05, \"bin_step_5_StartYear\": 1610.0, \"bin_step_5_StartYear_range\": \"1610 \\u2013 1615\", \"ln_normalized_totalWeight\": -1.079213986430276}, {\"StartYear\": \"1768\", \"__count\": 1, \"bin_step_0_05_ln_normalized_totalWeight\": -1.1, \"bin_step_0_05_ln_normalized_totalWeight_end\": -1.05, \"bin_step_5_StartYear\": 1765.0, \"bin_step_5_StartYear_range\": \"1765 \\u2013 1770\", \"ln_normalized_totalWeight\": -1.0844358662504259}, {\"StartYear\": \"1798\", \"__count\": 1, \"bin_step_0_05_ln_normalized_totalWeight\": -1.1, \"bin_step_0_05_ln_normalized_totalWeight_end\": -1.05, \"bin_step_5_StartYear\": 1795.0, \"bin_step_5_StartYear_range\": \"1795 \\u2013 1800\", \"ln_normalized_totalWeight\": -1.0844358662504259}, {\"StartYear\": \"1638\", \"__count\": 1, \"bin_step_0_05_ln_normalized_totalWeight\": -1.1, \"bin_step_0_05_ln_normalized_totalWeight_end\": -1.05, \"bin_step_5_StartYear\": 1635.0, \"bin_step_5_StartYear_range\": \"1635 \\u2013 1640\", \"ln_normalized_totalWeight\": -1.0844358662504259}, {\"StartYear\": \"1757\", \"__count\": 1, \"bin_step_0_05_ln_normalized_totalWeight\": -1.1, \"bin_step_0_05_ln_normalized_totalWeight_end\": -1.05, \"bin_step_5_StartYear\": 1755.0, \"bin_step_5_StartYear_range\": \"1755 \\u2013 1760\", \"ln_normalized_totalWeight\": -1.0896851573001927}, {\"StartYear\": \"1831\", \"__count\": 1, \"bin_step_0_05_ln_normalized_totalWeight\": -1.1, \"bin_step_0_05_ln_normalized_totalWeight_end\": -1.05, \"bin_step_5_StartYear\": 1830.0, \"bin_step_5_StartYear_range\": \"1830 \\u2013 1835\", \"ln_normalized_totalWeight\": -1.0896851573001927}, {\"StartYear\": \"missing\", \"__count\": 1, \"bin_step_0_05_ln_normalized_totalWeight\": -1.1500000000000001, \"bin_step_0_05_ln_normalized_totalWeight_end\": -1.1, \"bin_step_5_StartYear\": null, \"bin_step_5_StartYear_range\": \"null\", \"ln_normalized_totalWeight\": -1.1198567712647636}, {\"StartYear\": \"1705\", \"__count\": 1, \"bin_step_0_05_ln_normalized_totalWeight\": -1.1500000000000001, \"bin_step_0_05_ln_normalized_totalWeight_end\": -1.1, \"bin_step_5_StartYear\": 1705.0, \"bin_step_5_StartYear_range\": \"1705 \\u2013 1710\", \"ln_normalized_totalWeight\": -1.1252958448040458}, {\"StartYear\": \"1734\", \"__count\": 1, \"bin_step_0_05_ln_normalized_totalWeight\": -1.1500000000000001, \"bin_step_0_05_ln_normalized_totalWeight_end\": -1.1, \"bin_step_5_StartYear\": 1730.0, \"bin_step_5_StartYear_range\": \"1730 \\u2013 1735\", \"ln_normalized_totalWeight\": -1.1252958448040458}, {\"StartYear\": \"1662\", \"__count\": 1, \"bin_step_0_05_ln_normalized_totalWeight\": -1.1500000000000001, \"bin_step_0_05_ln_normalized_totalWeight_end\": -1.1, \"bin_step_5_StartYear\": 1660.0, \"bin_step_5_StartYear_range\": \"1660 \\u2013 1665\", \"ln_normalized_totalWeight\": -1.1252958448040458}, {\"StartYear\": \"1828\", \"__count\": 1, \"bin_step_0_05_ln_normalized_totalWeight\": -1.1500000000000001, \"bin_step_0_05_ln_normalized_totalWeight_end\": -1.1, \"bin_step_5_StartYear\": 1825.0, \"bin_step_5_StartYear_range\": \"1825 \\u2013 1830\", \"ln_normalized_totalWeight\": -1.130764663725346}, {\"StartYear\": \"1796\", \"__count\": 1, \"bin_step_0_05_ln_normalized_totalWeight\": -1.2000000000000002, \"bin_step_0_05_ln_normalized_totalWeight_end\": -1.1500000000000001, \"bin_step_5_StartYear\": 1795.0, \"bin_step_5_StartYear_range\": \"1795 \\u2013 1800\", \"ln_normalized_totalWeight\": -1.1516256436818495}, {\"StartYear\": \"1767\", \"__count\": 1, \"bin_step_0_05_ln_normalized_totalWeight\": -1.2000000000000002, \"bin_step_0_05_ln_normalized_totalWeight_end\": -1.1500000000000001, \"bin_step_5_StartYear\": 1765.0, \"bin_step_5_StartYear_range\": \"1765 \\u2013 1770\", \"ln_normalized_totalWeight\": -1.1516256436818495}, {\"StartYear\": \"1790\", \"__count\": 1, \"bin_step_0_05_ln_normalized_totalWeight\": -1.2500000000000002, \"bin_step_0_05_ln_normalized_totalWeight_end\": -1.2000000000000002, \"bin_step_5_StartYear\": 1790.0, \"bin_step_5_StartYear_range\": \"1790 \\u2013 1795\", \"ln_normalized_totalWeight\": -1.2019479225611676}, {\"StartYear\": \"1723\", \"__count\": 1, \"bin_step_0_05_ln_normalized_totalWeight\": -1.2500000000000002, \"bin_step_0_05_ln_normalized_totalWeight_end\": -1.2000000000000002, \"bin_step_5_StartYear\": 1720.0, \"bin_step_5_StartYear_range\": \"1720 \\u2013 1725\", \"ln_normalized_totalWeight\": -1.2019479225611676}, {\"StartYear\": \"1622\", \"__count\": 1, \"bin_step_0_05_ln_normalized_totalWeight\": -1.2500000000000002, \"bin_step_0_05_ln_normalized_totalWeight_end\": -1.2000000000000002, \"bin_step_5_StartYear\": 1620.0, \"bin_step_5_StartYear_range\": \"1620 \\u2013 1625\", \"ln_normalized_totalWeight\": -1.2019479225611676}, {\"StartYear\": \"1644\", \"__count\": 1, \"bin_step_0_05_ln_normalized_totalWeight\": -1.2500000000000002, \"bin_step_0_05_ln_normalized_totalWeight_end\": -1.2000000000000002, \"bin_step_5_StartYear\": 1640.0, \"bin_step_5_StartYear_range\": \"1640 \\u2013 1645\", \"ln_normalized_totalWeight\": -1.2019479225611676}, {\"StartYear\": \"1668\", \"__count\": 1, \"bin_step_0_05_ln_normalized_totalWeight\": -1.2500000000000002, \"bin_step_0_05_ln_normalized_totalWeight_end\": -1.2000000000000002, \"bin_step_5_StartYear\": 1665.0, \"bin_step_5_StartYear_range\": \"1665 \\u2013 1670\", \"ln_normalized_totalWeight\": -1.2019479225611676}, {\"StartYear\": \"1767\", \"__count\": 1, \"bin_step_0_05_ln_normalized_totalWeight\": -1.2500000000000002, \"bin_step_0_05_ln_normalized_totalWeight_end\": -1.2000000000000002, \"bin_step_5_StartYear\": 1765.0, \"bin_step_5_StartYear_range\": \"1765 \\u2013 1770\", \"ln_normalized_totalWeight\": -1.2078537114023702}, {\"StartYear\": \"1644\", \"__count\": 1, \"bin_step_0_05_ln_normalized_totalWeight\": -1.2500000000000002, \"bin_step_0_05_ln_normalized_totalWeight_end\": -1.2000000000000002, \"bin_step_5_StartYear\": 1640.0, \"bin_step_5_StartYear_range\": \"1640 \\u2013 1645\", \"ln_normalized_totalWeight\": -1.2480220378988371}, {\"StartYear\": \"1736\", \"__count\": 1, \"bin_step_0_05_ln_normalized_totalWeight\": -1.2500000000000002, \"bin_step_0_05_ln_normalized_totalWeight_end\": -1.2000000000000002, \"bin_step_5_StartYear\": 1735.0, \"bin_step_5_StartYear_range\": \"1735 \\u2013 1740\", \"ln_normalized_totalWeight\": -1.2480220378988371}, {\"StartYear\": \"1766\", \"__count\": 2, \"bin_step_0_05_ln_normalized_totalWeight\": -1.2500000000000002, \"bin_step_0_05_ln_normalized_totalWeight_end\": -1.2000000000000002, \"bin_step_5_StartYear\": 1765.0, \"bin_step_5_StartYear_range\": \"1765 \\u2013 1770\", \"ln_normalized_totalWeight\": -1.2480220378988371}, {\"StartYear\": \"1780\", \"__count\": 1, \"bin_step_0_05_ln_normalized_totalWeight\": -1.2500000000000002, \"bin_step_0_05_ln_normalized_totalWeight_end\": -1.2000000000000002, \"bin_step_5_StartYear\": 1780.0, \"bin_step_5_StartYear_range\": \"1780 \\u2013 1785\", \"ln_normalized_totalWeight\": -1.2480220378988371}, {\"StartYear\": \"1808\", \"__count\": 1, \"bin_step_0_05_ln_normalized_totalWeight\": -1.2500000000000002, \"bin_step_0_05_ln_normalized_totalWeight_end\": -1.2000000000000002, \"bin_step_5_StartYear\": 1805.0, \"bin_step_5_StartYear_range\": \"1805 \\u2013 1810\", \"ln_normalized_totalWeight\": -1.2480220378988371}, {\"StartYear\": \"1655\", \"__count\": 1, \"bin_step_0_05_ln_normalized_totalWeight\": -1.2500000000000002, \"bin_step_0_05_ln_normalized_totalWeight_end\": -1.2000000000000002, \"bin_step_5_StartYear\": 1655.0, \"bin_step_5_StartYear_range\": \"1655 \\u2013 1660\", \"ln_normalized_totalWeight\": -1.2480220378988371}, {\"StartYear\": \"1711\", \"__count\": 1, \"bin_step_0_05_ln_normalized_totalWeight\": -1.2500000000000002, \"bin_step_0_05_ln_normalized_totalWeight_end\": -1.2000000000000002, \"bin_step_5_StartYear\": 1710.0, \"bin_step_5_StartYear_range\": \"1710 \\u2013 1715\", \"ln_normalized_totalWeight\": -1.2480220378988371}, {\"StartYear\": \"1662\", \"__count\": 1, \"bin_step_0_05_ln_normalized_totalWeight\": -1.2500000000000002, \"bin_step_0_05_ln_normalized_totalWeight_end\": -1.2000000000000002, \"bin_step_5_StartYear\": 1660.0, \"bin_step_5_StartYear_range\": \"1660 \\u2013 1665\", \"ln_normalized_totalWeight\": -1.2480220378988371}, {\"StartYear\": \"1590\", \"__count\": 1, \"bin_step_0_05_ln_normalized_totalWeight\": -1.2500000000000002, \"bin_step_0_05_ln_normalized_totalWeight_end\": -1.2000000000000002, \"bin_step_5_StartYear\": 1590.0, \"bin_step_5_StartYear_range\": \"1590 \\u2013 1595\", \"ln_normalized_totalWeight\": -1.2480220378988371}, {\"StartYear\": \"1645\", \"__count\": 1, \"bin_step_0_05_ln_normalized_totalWeight\": -1.2500000000000002, \"bin_step_0_05_ln_normalized_totalWeight_end\": -1.2000000000000002, \"bin_step_5_StartYear\": 1645.0, \"bin_step_5_StartYear_range\": \"1645 \\u2013 1650\", \"ln_normalized_totalWeight\": -1.2480220378988371}, {\"StartYear\": \"1772\", \"__count\": 1, \"bin_step_0_05_ln_normalized_totalWeight\": -1.3000000000000003, \"bin_step_0_05_ln_normalized_totalWeight_end\": -1.2500000000000002, \"bin_step_5_StartYear\": 1770.0, \"bin_step_5_StartYear_range\": \"1770 \\u2013 1775\", \"ln_normalized_totalWeight\": -1.2542071595254396}, {\"StartYear\": \"1762\", \"__count\": 1, \"bin_step_0_05_ln_normalized_totalWeight\": -1.3000000000000003, \"bin_step_0_05_ln_normalized_totalWeight_end\": -1.2500000000000002, \"bin_step_5_StartYear\": 1760.0, \"bin_step_5_StartYear_range\": \"1760 \\u2013 1765\", \"ln_normalized_totalWeight\": -1.2542071595254396}, {\"StartYear\": \"1739\", \"__count\": 1, \"bin_step_0_05_ln_normalized_totalWeight\": -1.3000000000000003, \"bin_step_0_05_ln_normalized_totalWeight_end\": -1.2500000000000002, \"bin_step_5_StartYear\": 1735.0, \"bin_step_5_StartYear_range\": \"1735 \\u2013 1740\", \"ln_normalized_totalWeight\": -1.2542071595254396}, {\"StartYear\": \"1644\", \"__count\": 1, \"bin_step_0_05_ln_normalized_totalWeight\": -1.3000000000000003, \"bin_step_0_05_ln_normalized_totalWeight_end\": -1.2500000000000002, \"bin_step_5_StartYear\": 1640.0, \"bin_step_5_StartYear_range\": \"1640 \\u2013 1645\", \"ln_normalized_totalWeight\": -1.2604307750947772}, {\"StartYear\": \"1628\", \"__count\": 1, \"bin_step_0_05_ln_normalized_totalWeight\": -1.3000000000000003, \"bin_step_0_05_ln_normalized_totalWeight_end\": -1.2500000000000002, \"bin_step_5_StartYear\": 1625.0, \"bin_step_5_StartYear_range\": \"1625 \\u2013 1630\", \"ln_normalized_totalWeight\": -1.296321941277426}, {\"StartYear\": \"1662\", \"__count\": 2, \"bin_step_0_05_ln_normalized_totalWeight\": -1.3000000000000003, \"bin_step_0_05_ln_normalized_totalWeight_end\": -1.2500000000000002, \"bin_step_5_StartYear\": 1660.0, \"bin_step_5_StartYear_range\": \"1660 \\u2013 1665\", \"ln_normalized_totalWeight\": -1.296321941277426}, {\"StartYear\": \"1614\", \"__count\": 1, \"bin_step_0_05_ln_normalized_totalWeight\": -1.3000000000000003, \"bin_step_0_05_ln_normalized_totalWeight_end\": -1.2500000000000002, \"bin_step_5_StartYear\": 1610.0, \"bin_step_5_StartYear_range\": \"1610 \\u2013 1615\", \"ln_normalized_totalWeight\": -1.296321941277426}, {\"StartYear\": \"1743\", \"__count\": 1, \"bin_step_0_05_ln_normalized_totalWeight\": -1.3000000000000003, \"bin_step_0_05_ln_normalized_totalWeight_end\": -1.2500000000000002, \"bin_step_5_StartYear\": 1740.0, \"bin_step_5_StartYear_range\": \"1740 \\u2013 1745\", \"ln_normalized_totalWeight\": -1.296321941277426}, {\"StartYear\": \"1766\", \"__count\": 1, \"bin_step_0_05_ln_normalized_totalWeight\": -1.3000000000000003, \"bin_step_0_05_ln_normalized_totalWeight_end\": -1.2500000000000002, \"bin_step_5_StartYear\": 1765.0, \"bin_step_5_StartYear_range\": \"1765 \\u2013 1770\", \"ln_normalized_totalWeight\": -1.296321941277426}, {\"StartYear\": \"1620\", \"__count\": 1, \"bin_step_0_05_ln_normalized_totalWeight\": -1.3000000000000003, \"bin_step_0_05_ln_normalized_totalWeight_end\": -1.2500000000000002, \"bin_step_5_StartYear\": 1620.0, \"bin_step_5_StartYear_range\": \"1620 \\u2013 1625\", \"ln_normalized_totalWeight\": -1.296321941277426}, {\"StartYear\": \"1797\", \"__count\": 1, \"bin_step_0_05_ln_normalized_totalWeight\": -1.35, \"bin_step_0_05_ln_normalized_totalWeight_end\": -1.3, \"bin_step_5_StartYear\": 1795.0, \"bin_step_5_StartYear_range\": \"1795 \\u2013 1800\", \"ln_normalized_totalWeight\": -1.3028141314713435}, {\"StartYear\": \"1702\", \"__count\": 1, \"bin_step_0_05_ln_normalized_totalWeight\": -1.35, \"bin_step_0_05_ln_normalized_totalWeight_end\": -1.3, \"bin_step_5_StartYear\": 1700.0, \"bin_step_5_StartYear_range\": \"1700 \\u2013 1705\", \"ln_normalized_totalWeight\": -1.3028141314713435}, {\"StartYear\": \"1766\", \"__count\": 1, \"bin_step_0_05_ln_normalized_totalWeight\": -1.35, \"bin_step_0_05_ln_normalized_totalWeight_end\": -1.3, \"bin_step_5_StartYear\": 1765.0, \"bin_step_5_StartYear_range\": \"1765 \\u2013 1770\", \"ln_normalized_totalWeight\": -1.3028141314713435}, {\"StartYear\": \"1736\", \"__count\": 1, \"bin_step_0_05_ln_normalized_totalWeight\": -1.35, \"bin_step_0_05_ln_normalized_totalWeight_end\": -1.3, \"bin_step_5_StartYear\": 1735.0, \"bin_step_5_StartYear_range\": \"1735 \\u2013 1740\", \"ln_normalized_totalWeight\": -1.3028141314713435}, {\"StartYear\": \"1774\", \"__count\": 1, \"bin_step_0_05_ln_normalized_totalWeight\": -1.35, \"bin_step_0_05_ln_normalized_totalWeight_end\": -1.3, \"bin_step_5_StartYear\": 1770.0, \"bin_step_5_StartYear_range\": \"1770 \\u2013 1775\", \"ln_normalized_totalWeight\": -1.3028141314713435}, {\"StartYear\": \"1838\", \"__count\": 1, \"bin_step_0_05_ln_normalized_totalWeight\": -1.35, \"bin_step_0_05_ln_normalized_totalWeight_end\": -1.3, \"bin_step_5_StartYear\": 1835.0, \"bin_step_5_StartYear_range\": \"1835 \\u2013 1840\", \"ln_normalized_totalWeight\": -1.3028141314713435}, {\"StartYear\": \"1814\", \"__count\": 1, \"bin_step_0_05_ln_normalized_totalWeight\": -1.35, \"bin_step_0_05_ln_normalized_totalWeight_end\": -1.3, \"bin_step_5_StartYear\": 1810.0, \"bin_step_5_StartYear_range\": \"1810 \\u2013 1815\", \"ln_normalized_totalWeight\": -1.3028141314713435}, {\"StartYear\": \"1788\", \"__count\": 1, \"bin_step_0_05_ln_normalized_totalWeight\": -1.35, \"bin_step_0_05_ln_normalized_totalWeight_end\": -1.3, \"bin_step_5_StartYear\": 1785.0, \"bin_step_5_StartYear_range\": \"1785 \\u2013 1790\", \"ln_normalized_totalWeight\": -1.3028141314713435}, {\"StartYear\": \"1728\", \"__count\": 1, \"bin_step_0_05_ln_normalized_totalWeight\": -1.35, \"bin_step_0_05_ln_normalized_totalWeight_end\": -1.3, \"bin_step_5_StartYear\": 1725.0, \"bin_step_5_StartYear_range\": \"1725 \\u2013 1730\", \"ln_normalized_totalWeight\": -1.3028141314713435}, {\"StartYear\": \"1764\", \"__count\": 1, \"bin_step_0_05_ln_normalized_totalWeight\": -1.35, \"bin_step_0_05_ln_normalized_totalWeight_end\": -1.3, \"bin_step_5_StartYear\": 1760.0, \"bin_step_5_StartYear_range\": \"1760 \\u2013 1765\", \"ln_normalized_totalWeight\": -1.3276404674281184}, {\"StartYear\": \"1781\", \"__count\": 1, \"bin_step_0_05_ln_normalized_totalWeight\": -1.35, \"bin_step_0_05_ln_normalized_totalWeight_end\": -1.3, \"bin_step_5_StartYear\": 1780.0, \"bin_step_5_StartYear_range\": \"1780 \\u2013 1785\", \"ln_normalized_totalWeight\": -1.3418809890873147}, {\"StartYear\": \"1723\", \"__count\": 1, \"bin_step_0_05_ln_normalized_totalWeight\": -1.35, \"bin_step_0_05_ln_normalized_totalWeight_end\": -1.3, \"bin_step_5_StartYear\": 1720.0, \"bin_step_5_StartYear_range\": \"1720 \\u2013 1725\", \"ln_normalized_totalWeight\": -1.3470736479666092}, {\"StartYear\": \"1847\", \"__count\": 1, \"bin_step_0_05_ln_normalized_totalWeight\": -1.4000000000000001, \"bin_step_0_05_ln_normalized_totalWeight_end\": -1.35, \"bin_step_5_StartYear\": 1845.0, \"bin_step_5_StartYear_range\": \"1845 \\u2013 1850\", \"ln_normalized_totalWeight\": -1.3539049892799293}, {\"StartYear\": \"1709\", \"__count\": 1, \"bin_step_0_05_ln_normalized_totalWeight\": -1.4000000000000001, \"bin_step_0_05_ln_normalized_totalWeight_end\": -1.35, \"bin_step_5_StartYear\": 1705.0, \"bin_step_5_StartYear_range\": \"1705 \\u2013 1710\", \"ln_normalized_totalWeight\": -1.3539049892799293}, {\"StartYear\": \"1766\", \"__count\": 1, \"bin_step_0_05_ln_normalized_totalWeight\": -1.4000000000000001, \"bin_step_0_05_ln_normalized_totalWeight_end\": -1.35, \"bin_step_5_StartYear\": 1765.0, \"bin_step_5_StartYear_range\": \"1765 \\u2013 1770\", \"ln_normalized_totalWeight\": -1.3539049892799293}, {\"StartYear\": \"1724\", \"__count\": 1, \"bin_step_0_05_ln_normalized_totalWeight\": -1.4000000000000001, \"bin_step_0_05_ln_normalized_totalWeight_end\": -1.35, \"bin_step_5_StartYear\": 1720.0, \"bin_step_5_StartYear_range\": \"1720 \\u2013 1725\", \"ln_normalized_totalWeight\": -1.3607833189951914}, {\"StartYear\": \"1843\", \"__count\": 1, \"bin_step_0_05_ln_normalized_totalWeight\": -1.4000000000000001, \"bin_step_0_05_ln_normalized_totalWeight_end\": -1.35, \"bin_step_5_StartYear\": 1840.0, \"bin_step_5_StartYear_range\": \"1840 \\u2013 1845\", \"ln_normalized_totalWeight\": -1.3607833189951914}, {\"StartYear\": \"1790\", \"__count\": 1, \"bin_step_0_05_ln_normalized_totalWeight\": -1.4000000000000001, \"bin_step_0_05_ln_normalized_totalWeight_end\": -1.35, \"bin_step_5_StartYear\": 1790.0, \"bin_step_5_StartYear_range\": \"1790 \\u2013 1795\", \"ln_normalized_totalWeight\": -1.3607833189951914}, {\"StartYear\": \"1644\", \"__count\": 1, \"bin_step_0_05_ln_normalized_totalWeight\": -1.4000000000000001, \"bin_step_0_05_ln_normalized_totalWeight_end\": -1.35, \"bin_step_5_StartYear\": 1640.0, \"bin_step_5_StartYear_range\": \"1640 \\u2013 1645\", \"ln_normalized_totalWeight\": -1.3607833189951914}, {\"StartYear\": \"1637\", \"__count\": 1, \"bin_step_0_05_ln_normalized_totalWeight\": -1.4000000000000001, \"bin_step_0_05_ln_normalized_totalWeight_end\": -1.35, \"bin_step_5_StartYear\": 1635.0, \"bin_step_5_StartYear_range\": \"1635 \\u2013 1640\", \"ln_normalized_totalWeight\": -1.3950623840941656}, {\"StartYear\": \"1770\", \"__count\": 1, \"bin_step_0_05_ln_normalized_totalWeight\": -1.4000000000000001, \"bin_step_0_05_ln_normalized_totalWeight_end\": -1.35, \"bin_step_5_StartYear\": 1770.0, \"bin_step_5_StartYear_range\": \"1770 \\u2013 1775\", \"ln_normalized_totalWeight\": -1.3950623840941656}, {\"StartYear\": \"1795\", \"__count\": 1, \"bin_step_0_05_ln_normalized_totalWeight\": -1.4500000000000002, \"bin_step_0_05_ln_normalized_totalWeight_end\": -1.4000000000000001, \"bin_step_5_StartYear\": 1795.0, \"bin_step_5_StartYear_range\": \"1795 \\u2013 1800\", \"ln_normalized_totalWeight\": -1.4022307526631437}, {\"StartYear\": \"1857\", \"__count\": 1, \"bin_step_0_05_ln_normalized_totalWeight\": -1.4500000000000002, \"bin_step_0_05_ln_normalized_totalWeight_end\": -1.4000000000000001, \"bin_step_5_StartYear\": 1855.0, \"bin_step_5_StartYear_range\": \"1855 \\u2013 1860\", \"ln_normalized_totalWeight\": -1.4150075401602207}, {\"StartYear\": \"1821\", \"__count\": 1, \"bin_step_0_05_ln_normalized_totalWeight\": -1.4500000000000002, \"bin_step_0_05_ln_normalized_totalWeight_end\": -1.4000000000000001, \"bin_step_5_StartYear\": 1820.0, \"bin_step_5_StartYear_range\": \"1820 \\u2013 1825\", \"ln_normalized_totalWeight\": -1.4150075401602207}, {\"StartYear\": \"1796\", \"__count\": 1, \"bin_step_0_05_ln_normalized_totalWeight\": -1.5000000000000002, \"bin_step_0_05_ln_normalized_totalWeight_end\": -1.4500000000000002, \"bin_step_5_StartYear\": 1795.0, \"bin_step_5_StartYear_range\": \"1795 \\u2013 1800\", \"ln_normalized_totalWeight\": -1.451231684522923}, {\"StartYear\": \"1728\", \"__count\": 1, \"bin_step_0_05_ln_normalized_totalWeight\": -1.5000000000000002, \"bin_step_0_05_ln_normalized_totalWeight_end\": -1.4500000000000002, \"bin_step_5_StartYear\": 1725.0, \"bin_step_5_StartYear_range\": \"1725 \\u2013 1730\", \"ln_normalized_totalWeight\": -1.451231684522923}, {\"StartYear\": \"1644\", \"__count\": 2, \"bin_step_0_05_ln_normalized_totalWeight\": -1.5000000000000002, \"bin_step_0_05_ln_normalized_totalWeight_end\": -1.4500000000000002, \"bin_step_5_StartYear\": 1640.0, \"bin_step_5_StartYear_range\": \"1640 \\u2013 1645\", \"ln_normalized_totalWeight\": -1.451231684522923}, {\"StartYear\": \"1751\", \"__count\": 1, \"bin_step_0_05_ln_normalized_totalWeight\": -1.5000000000000002, \"bin_step_0_05_ln_normalized_totalWeight_end\": -1.4500000000000002, \"bin_step_5_StartYear\": 1750.0, \"bin_step_5_StartYear_range\": \"1750 \\u2013 1755\", \"ln_normalized_totalWeight\": -1.451231684522923}, {\"StartYear\": \"1777\", \"__count\": 1, \"bin_step_0_05_ln_normalized_totalWeight\": -1.5000000000000002, \"bin_step_0_05_ln_normalized_totalWeight_end\": -1.4500000000000002, \"bin_step_5_StartYear\": 1775.0, \"bin_step_5_StartYear_range\": \"1775 \\u2013 1780\", \"ln_normalized_totalWeight\": -1.451231684522923}, {\"StartYear\": \"1745\", \"__count\": 1, \"bin_step_0_05_ln_normalized_totalWeight\": -1.5000000000000002, \"bin_step_0_05_ln_normalized_totalWeight_end\": -1.4500000000000002, \"bin_step_5_StartYear\": 1745.0, \"bin_step_5_StartYear_range\": \"1745 \\u2013 1750\", \"ln_normalized_totalWeight\": -1.451231684522923}, {\"StartYear\": \"1773\", \"__count\": 1, \"bin_step_0_05_ln_normalized_totalWeight\": -1.5000000000000002, \"bin_step_0_05_ln_normalized_totalWeight_end\": -1.4500000000000002, \"bin_step_5_StartYear\": 1770.0, \"bin_step_5_StartYear_range\": \"1770 \\u2013 1775\", \"ln_normalized_totalWeight\": -1.4588157925400627}, {\"StartYear\": \"1737\", \"__count\": 1, \"bin_step_0_05_ln_normalized_totalWeight\": -1.5000000000000002, \"bin_step_0_05_ln_normalized_totalWeight_end\": -1.4500000000000002, \"bin_step_5_StartYear\": 1735.0, \"bin_step_5_StartYear_range\": \"1735 \\u2013 1740\", \"ln_normalized_totalWeight\": -1.480087990510406}, {\"StartYear\": \"1824\", \"__count\": 1, \"bin_step_0_05_ln_normalized_totalWeight\": -1.5000000000000002, \"bin_step_0_05_ln_normalized_totalWeight_end\": -1.4500000000000002, \"bin_step_5_StartYear\": 1820.0, \"bin_step_5_StartYear_range\": \"1820 \\u2013 1825\", \"ln_normalized_totalWeight\": -1.480087990510406}, {\"StartYear\": \"1770\", \"__count\": 1, \"bin_step_0_05_ln_normalized_totalWeight\": -1.5500000000000003, \"bin_step_0_05_ln_normalized_totalWeight_end\": -1.5000000000000002, \"bin_step_5_StartYear\": 1770.0, \"bin_step_5_StartYear_range\": \"1770 \\u2013 1775\", \"ln_normalized_totalWeight\": -1.5107447219285546}, {\"StartYear\": \"1827\", \"__count\": 1, \"bin_step_0_05_ln_normalized_totalWeight\": -1.5500000000000003, \"bin_step_0_05_ln_normalized_totalWeight_end\": -1.5000000000000002, \"bin_step_5_StartYear\": 1825.0, \"bin_step_5_StartYear_range\": \"1825 \\u2013 1830\", \"ln_normalized_totalWeight\": -1.5107447219285546}, {\"StartYear\": \"1763\", \"__count\": 1, \"bin_step_0_05_ln_normalized_totalWeight\": -1.5500000000000003, \"bin_step_0_05_ln_normalized_totalWeight_end\": -1.5000000000000002, \"bin_step_5_StartYear\": 1760.0, \"bin_step_5_StartYear_range\": \"1760 \\u2013 1765\", \"ln_normalized_totalWeight\": -1.5107447219285546}, {\"StartYear\": \"1736\", \"__count\": 3, \"bin_step_0_05_ln_normalized_totalWeight\": -1.5500000000000003, \"bin_step_0_05_ln_normalized_totalWeight_end\": -1.5000000000000002, \"bin_step_5_StartYear\": 1735.0, \"bin_step_5_StartYear_range\": \"1735 \\u2013 1740\", \"ln_normalized_totalWeight\": -1.5107447219285546}, {\"StartYear\": \"1715\", \"__count\": 1, \"bin_step_0_05_ln_normalized_totalWeight\": -1.5500000000000003, \"bin_step_0_05_ln_normalized_totalWeight_end\": -1.5000000000000002, \"bin_step_5_StartYear\": 1715.0, \"bin_step_5_StartYear_range\": \"1715 \\u2013 1720\", \"ln_normalized_totalWeight\": -1.5107447219285546}, {\"StartYear\": \"1804\", \"__count\": 1, \"bin_step_0_05_ln_normalized_totalWeight\": -1.5500000000000003, \"bin_step_0_05_ln_normalized_totalWeight_end\": -1.5000000000000002, \"bin_step_5_StartYear\": 1800.0, \"bin_step_5_StartYear_range\": \"1800 \\u2013 1805\", \"ln_normalized_totalWeight\": -1.5107447219285546}, {\"StartYear\": \"1644\", \"__count\": 4, \"bin_step_0_05_ln_normalized_totalWeight\": -1.5500000000000003, \"bin_step_0_05_ln_normalized_totalWeight_end\": -1.5000000000000002, \"bin_step_5_StartYear\": 1640.0, \"bin_step_5_StartYear_range\": \"1640 \\u2013 1645\", \"ln_normalized_totalWeight\": -1.5107447219285546}, {\"StartYear\": \"1697\", \"__count\": 1, \"bin_step_0_05_ln_normalized_totalWeight\": -1.5500000000000003, \"bin_step_0_05_ln_normalized_totalWeight_end\": -1.5000000000000002, \"bin_step_5_StartYear\": 1695.0, \"bin_step_5_StartYear_range\": \"1695 \\u2013 1700\", \"ln_normalized_totalWeight\": -1.5107447219285546}, {\"StartYear\": \"1692\", \"__count\": 3, \"bin_step_0_05_ln_normalized_totalWeight\": -1.5500000000000003, \"bin_step_0_05_ln_normalized_totalWeight_end\": -1.5000000000000002, \"bin_step_5_StartYear\": 1690.0, \"bin_step_5_StartYear_range\": \"1690 \\u2013 1695\", \"ln_normalized_totalWeight\": -1.5107447219285546}, {\"StartYear\": \"1812\", \"__count\": 1, \"bin_step_0_05_ln_normalized_totalWeight\": -1.5500000000000003, \"bin_step_0_05_ln_normalized_totalWeight_end\": -1.5000000000000002, \"bin_step_5_StartYear\": 1810.0, \"bin_step_5_StartYear_range\": \"1810 \\u2013 1815\", \"ln_normalized_totalWeight\": -1.5107447219285546}, {\"StartYear\": \"1831\", \"__count\": 1, \"bin_step_0_05_ln_normalized_totalWeight\": -1.5500000000000003, \"bin_step_0_05_ln_normalized_totalWeight_end\": -1.5000000000000002, \"bin_step_5_StartYear\": 1830.0, \"bin_step_5_StartYear_range\": \"1830 \\u2013 1835\", \"ln_normalized_totalWeight\": -1.5107447219285546}, {\"StartYear\": \"1831\", \"__count\": 1, \"bin_step_0_05_ln_normalized_totalWeight\": -1.5500000000000003, \"bin_step_0_05_ln_normalized_totalWeight_end\": -1.5000000000000002, \"bin_step_5_StartYear\": 1830.0, \"bin_step_5_StartYear_range\": \"1830 \\u2013 1835\", \"ln_normalized_totalWeight\": -1.51879576137235}, {\"StartYear\": \"1796\", \"__count\": 1, \"bin_step_0_05_ln_normalized_totalWeight\": -1.5500000000000003, \"bin_step_0_05_ln_normalized_totalWeight_end\": -1.5000000000000002, \"bin_step_5_StartYear\": 1795.0, \"bin_step_5_StartYear_range\": \"1795 \\u2013 1800\", \"ln_normalized_totalWeight\": -1.51879576137235}, {\"StartYear\": \"1757\", \"__count\": 1, \"bin_step_0_05_ln_normalized_totalWeight\": -1.5500000000000003, \"bin_step_0_05_ln_normalized_totalWeight_end\": -1.5000000000000002, \"bin_step_5_StartYear\": 1755.0, \"bin_step_5_StartYear_range\": \"1755 \\u2013 1760\", \"ln_normalized_totalWeight\": -1.51879576137235}, {\"StartYear\": \"1733\", \"__count\": 1, \"bin_step_0_05_ln_normalized_totalWeight\": -1.5500000000000003, \"bin_step_0_05_ln_normalized_totalWeight_end\": -1.5000000000000002, \"bin_step_5_StartYear\": 1730.0, \"bin_step_5_StartYear_range\": \"1730 \\u2013 1735\", \"ln_normalized_totalWeight\": -1.5413978757024207}, {\"StartYear\": \"1829\", \"__count\": 1, \"bin_step_0_05_ln_normalized_totalWeight\": -1.5500000000000003, \"bin_step_0_05_ln_normalized_totalWeight_end\": -1.5000000000000002, \"bin_step_5_StartYear\": 1825.0, \"bin_step_5_StartYear_range\": \"1825 \\u2013 1830\", \"ln_normalized_totalWeight\": -1.5413978757024207}, {\"StartYear\": \"1848\", \"__count\": 1, \"bin_step_0_05_ln_normalized_totalWeight\": -1.5500000000000003, \"bin_step_0_05_ln_normalized_totalWeight_end\": -1.5000000000000002, \"bin_step_5_StartYear\": 1845.0, \"bin_step_5_StartYear_range\": \"1845 \\u2013 1850\", \"ln_normalized_totalWeight\": -1.5413978757024207}, {\"StartYear\": \"1755\", \"__count\": 1, \"bin_step_0_05_ln_normalized_totalWeight\": -1.5500000000000003, \"bin_step_0_05_ln_normalized_totalWeight_end\": -1.5000000000000002, \"bin_step_5_StartYear\": 1755.0, \"bin_step_5_StartYear_range\": \"1755 \\u2013 1760\", \"ln_normalized_totalWeight\": -1.5413978757024207}, {\"StartYear\": \"1859\", \"__count\": 1, \"bin_step_0_05_ln_normalized_totalWeight\": -1.5500000000000003, \"bin_step_0_05_ln_normalized_totalWeight_end\": -1.5000000000000002, \"bin_step_5_StartYear\": 1855.0, \"bin_step_5_StartYear_range\": \"1855 \\u2013 1860\", \"ln_normalized_totalWeight\": -1.5413978757024207}, {\"StartYear\": \"1873\", \"__count\": 1, \"bin_step_0_05_ln_normalized_totalWeight\": -1.5500000000000003, \"bin_step_0_05_ln_normalized_totalWeight_end\": -1.5000000000000002, \"bin_step_5_StartYear\": 1870.0, \"bin_step_5_StartYear_range\": \"1870 \\u2013 1875\", \"ln_normalized_totalWeight\": -1.5413978757024207}, {\"StartYear\": \"1846\", \"__count\": 1, \"bin_step_0_05_ln_normalized_totalWeight\": -1.5500000000000003, \"bin_step_0_05_ln_normalized_totalWeight_end\": -1.5000000000000002, \"bin_step_5_StartYear\": 1845.0, \"bin_step_5_StartYear_range\": \"1845 \\u2013 1850\", \"ln_normalized_totalWeight\": -1.5413978757024207}, {\"StartYear\": \"1796\", \"__count\": 1, \"bin_step_0_05_ln_normalized_totalWeight\": -1.6, \"bin_step_0_05_ln_normalized_totalWeight_end\": -1.55, \"bin_step_5_StartYear\": 1795.0, \"bin_step_5_StartYear_range\": \"1795 \\u2013 1800\", \"ln_normalized_totalWeight\": -1.5740249393221055}, {\"StartYear\": \"1741\", \"__count\": 1, \"bin_step_0_05_ln_normalized_totalWeight\": -1.6, \"bin_step_0_05_ln_normalized_totalWeight_end\": -1.55, \"bin_step_5_StartYear\": 1740.0, \"bin_step_5_StartYear_range\": \"1740 \\u2013 1745\", \"ln_normalized_totalWeight\": -1.5740249393221055}, {\"StartYear\": \"1761\", \"__count\": 1, \"bin_step_0_05_ln_normalized_totalWeight\": -1.6, \"bin_step_0_05_ln_normalized_totalWeight_end\": -1.55, \"bin_step_5_StartYear\": 1760.0, \"bin_step_5_StartYear_range\": \"1760 \\u2013 1765\", \"ln_normalized_totalWeight\": -1.5740249393221055}, {\"StartYear\": \"1735\", \"__count\": 1, \"bin_step_0_05_ln_normalized_totalWeight\": -1.6, \"bin_step_0_05_ln_normalized_totalWeight_end\": -1.55, \"bin_step_5_StartYear\": 1735.0, \"bin_step_5_StartYear_range\": \"1735 \\u2013 1740\", \"ln_normalized_totalWeight\": -1.5740249393221055}, {\"StartYear\": \"1728\", \"__count\": 1, \"bin_step_0_05_ln_normalized_totalWeight\": -1.6, \"bin_step_0_05_ln_normalized_totalWeight_end\": -1.55, \"bin_step_5_StartYear\": 1725.0, \"bin_step_5_StartYear_range\": \"1725 \\u2013 1730\", \"ln_normalized_totalWeight\": -1.5740249393221055}, {\"StartYear\": \"1754\", \"__count\": 1, \"bin_step_0_05_ln_normalized_totalWeight\": -1.6, \"bin_step_0_05_ln_normalized_totalWeight_end\": -1.55, \"bin_step_5_StartYear\": 1750.0, \"bin_step_5_StartYear_range\": \"1750 \\u2013 1755\", \"ln_normalized_totalWeight\": -1.5740249393221055}, {\"StartYear\": \"1729\", \"__count\": 1, \"bin_step_0_05_ln_normalized_totalWeight\": -1.6, \"bin_step_0_05_ln_normalized_totalWeight_end\": -1.55, \"bin_step_5_StartYear\": 1725.0, \"bin_step_5_StartYear_range\": \"1725 \\u2013 1730\", \"ln_normalized_totalWeight\": -1.5740249393221055}, {\"StartYear\": \"1736\", \"__count\": 2, \"bin_step_0_05_ln_normalized_totalWeight\": -1.6, \"bin_step_0_05_ln_normalized_totalWeight_end\": -1.55, \"bin_step_5_StartYear\": 1735.0, \"bin_step_5_StartYear_range\": \"1735 \\u2013 1740\", \"ln_normalized_totalWeight\": -1.5740249393221055}, {\"StartYear\": \"1726\", \"__count\": 1, \"bin_step_0_05_ln_normalized_totalWeight\": -1.6, \"bin_step_0_05_ln_normalized_totalWeight_end\": -1.55, \"bin_step_5_StartYear\": 1725.0, \"bin_step_5_StartYear_range\": \"1725 \\u2013 1730\", \"ln_normalized_totalWeight\": -1.5740249393221055}, {\"StartYear\": \"1720\", \"__count\": 1, \"bin_step_0_05_ln_normalized_totalWeight\": -1.6, \"bin_step_0_05_ln_normalized_totalWeight_end\": -1.55, \"bin_step_5_StartYear\": 1720.0, \"bin_step_5_StartYear_range\": \"1720 \\u2013 1725\", \"ln_normalized_totalWeight\": -1.5740249393221055}, {\"StartYear\": \"1706\", \"__count\": 1, \"bin_step_0_05_ln_normalized_totalWeight\": -1.6, \"bin_step_0_05_ln_normalized_totalWeight_end\": -1.55, \"bin_step_5_StartYear\": 1705.0, \"bin_step_5_StartYear_range\": \"1705 \\u2013 1710\", \"ln_normalized_totalWeight\": -1.5740249393221055}, {\"StartYear\": \"1644\", \"__count\": 4, \"bin_step_0_05_ln_normalized_totalWeight\": -1.6, \"bin_step_0_05_ln_normalized_totalWeight_end\": -1.55, \"bin_step_5_StartYear\": 1640.0, \"bin_step_5_StartYear_range\": \"1640 \\u2013 1645\", \"ln_normalized_totalWeight\": -1.5740249393221055}, {\"StartYear\": \"1662\", \"__count\": 1, \"bin_step_0_05_ln_normalized_totalWeight\": -1.6, \"bin_step_0_05_ln_normalized_totalWeight_end\": -1.55, \"bin_step_5_StartYear\": 1660.0, \"bin_step_5_StartYear_range\": \"1660 \\u2013 1665\", \"ln_normalized_totalWeight\": -1.5740249393221055}, {\"StartYear\": \"1763\", \"__count\": 1, \"bin_step_0_05_ln_normalized_totalWeight\": -1.6, \"bin_step_0_05_ln_normalized_totalWeight_end\": -1.55, \"bin_step_5_StartYear\": 1760.0, \"bin_step_5_StartYear_range\": \"1760 \\u2013 1765\", \"ln_normalized_totalWeight\": -1.5740249393221055}, {\"StartYear\": \"1697\", \"__count\": 1, \"bin_step_0_05_ln_normalized_totalWeight\": -1.6, \"bin_step_0_05_ln_normalized_totalWeight_end\": -1.55, \"bin_step_5_StartYear\": 1695.0, \"bin_step_5_StartYear_range\": \"1695 \\u2013 1700\", \"ln_normalized_totalWeight\": -1.5740249393221055}, {\"StartYear\": \"missing\", \"__count\": 1, \"bin_step_0_05_ln_normalized_totalWeight\": -1.6, \"bin_step_0_05_ln_normalized_totalWeight_end\": -1.55, \"bin_step_5_StartYear\": null, \"bin_step_5_StartYear_range\": \"null\", \"ln_normalized_totalWeight\": -1.5740249393221055}, {\"StartYear\": \"1755\", \"__count\": 1, \"bin_step_0_05_ln_normalized_totalWeight\": -1.6, \"bin_step_0_05_ln_normalized_totalWeight_end\": -1.55, \"bin_step_5_StartYear\": 1755.0, \"bin_step_5_StartYear_range\": \"1755 \\u2013 1760\", \"ln_normalized_totalWeight\": -1.5740249393221055}, {\"StartYear\": \"1750\", \"__count\": 1, \"bin_step_0_05_ln_normalized_totalWeight\": -1.6, \"bin_step_0_05_ln_normalized_totalWeight_end\": -1.55, \"bin_step_5_StartYear\": 1750.0, \"bin_step_5_StartYear_range\": \"1750 \\u2013 1755\", \"ln_normalized_totalWeight\": -1.5740249393221055}, {\"StartYear\": \"1751\", \"__count\": 1, \"bin_step_0_05_ln_normalized_totalWeight\": -1.6, \"bin_step_0_05_ln_normalized_totalWeight_end\": -1.55, \"bin_step_5_StartYear\": 1750.0, \"bin_step_5_StartYear_range\": \"1750 \\u2013 1755\", \"ln_normalized_totalWeight\": -1.5740249393221055}, {\"StartYear\": \"1793\", \"__count\": 1, \"bin_step_0_05_ln_normalized_totalWeight\": -1.6, \"bin_step_0_05_ln_normalized_totalWeight_end\": -1.55, \"bin_step_5_StartYear\": 1790.0, \"bin_step_5_StartYear_range\": \"1790 \\u2013 1795\", \"ln_normalized_totalWeight\": -1.5826041778291562}, {\"StartYear\": \"1766\", \"__count\": 1, \"bin_step_0_05_ln_normalized_totalWeight\": -1.6, \"bin_step_0_05_ln_normalized_totalWeight_end\": -1.55, \"bin_step_5_StartYear\": 1765.0, \"bin_step_5_StartYear_range\": \"1765 \\u2013 1770\", \"ln_normalized_totalWeight\": -1.5826041778291562}, {\"StartYear\": \"1778\", \"__count\": 1, \"bin_step_0_05_ln_normalized_totalWeight\": -1.6, \"bin_step_0_05_ln_normalized_totalWeight_end\": -1.55, \"bin_step_5_StartYear\": 1775.0, \"bin_step_5_StartYear_range\": \"1775 \\u2013 1780\", \"ln_normalized_totalWeight\": -1.5826041778291562}, {\"StartYear\": \"1864\", \"__count\": 1, \"bin_step_0_05_ln_normalized_totalWeight\": -1.6, \"bin_step_0_05_ln_normalized_totalWeight_end\": -1.55, \"bin_step_5_StartYear\": 1860.0, \"bin_step_5_StartYear_range\": \"1860 \\u2013 1865\", \"ln_normalized_totalWeight\": -1.5826041778291562}, {\"StartYear\": \"1755\", \"__count\": 1, \"bin_step_0_05_ln_normalized_totalWeight\": -1.6, \"bin_step_0_05_ln_normalized_totalWeight_end\": -1.55, \"bin_step_5_StartYear\": 1755.0, \"bin_step_5_StartYear_range\": \"1755 \\u2013 1760\", \"ln_normalized_totalWeight\": -1.5826041778291562}, {\"StartYear\": \"1644\", \"__count\": 1, \"bin_step_0_05_ln_normalized_totalWeight\": -1.6, \"bin_step_0_05_ln_normalized_totalWeight_end\": -1.55, \"bin_step_5_StartYear\": 1640.0, \"bin_step_5_StartYear_range\": \"1640 \\u2013 1645\", \"ln_normalized_totalWeight\": -1.5826041778291562}, {\"StartYear\": \"1736\", \"__count\": 2, \"bin_step_0_05_ln_normalized_totalWeight\": -1.6500000000000001, \"bin_step_0_05_ln_normalized_totalWeight_end\": -1.6, \"bin_step_5_StartYear\": 1735.0, \"bin_step_5_StartYear_range\": \"1735 \\u2013 1740\", \"ln_normalized_totalWeight\": -1.64158168548879}, {\"StartYear\": \"1743\", \"__count\": 1, \"bin_step_0_05_ln_normalized_totalWeight\": -1.6500000000000001, \"bin_step_0_05_ln_normalized_totalWeight_end\": -1.6, \"bin_step_5_StartYear\": 1740.0, \"bin_step_5_StartYear_range\": \"1740 \\u2013 1745\", \"ln_normalized_totalWeight\": -1.64158168548879}, {\"StartYear\": \"1781\", \"__count\": 1, \"bin_step_0_05_ln_normalized_totalWeight\": -1.6500000000000001, \"bin_step_0_05_ln_normalized_totalWeight_end\": -1.6, \"bin_step_5_StartYear\": 1780.0, \"bin_step_5_StartYear_range\": \"1780 \\u2013 1785\", \"ln_normalized_totalWeight\": -1.64158168548879}, {\"StartYear\": \"1821\", \"__count\": 1, \"bin_step_0_05_ln_normalized_totalWeight\": -1.6500000000000001, \"bin_step_0_05_ln_normalized_totalWeight_end\": -1.6, \"bin_step_5_StartYear\": 1820.0, \"bin_step_5_StartYear_range\": \"1820 \\u2013 1825\", \"ln_normalized_totalWeight\": -1.64158168548879}, {\"StartYear\": \"1852\", \"__count\": 1, \"bin_step_0_05_ln_normalized_totalWeight\": -1.6500000000000001, \"bin_step_0_05_ln_normalized_totalWeight_end\": -1.6, \"bin_step_5_StartYear\": 1850.0, \"bin_step_5_StartYear_range\": \"1850 \\u2013 1855\", \"ln_normalized_totalWeight\": -1.64158168548879}, {\"StartYear\": \"1766\", \"__count\": 1, \"bin_step_0_05_ln_normalized_totalWeight\": -1.6500000000000001, \"bin_step_0_05_ln_normalized_totalWeight_end\": -1.6, \"bin_step_5_StartYear\": 1765.0, \"bin_step_5_StartYear_range\": \"1765 \\u2013 1770\", \"ln_normalized_totalWeight\": -1.64158168548879}, {\"StartYear\": \"1796\", \"__count\": 1, \"bin_step_0_05_ln_normalized_totalWeight\": -1.6500000000000001, \"bin_step_0_05_ln_normalized_totalWeight_end\": -1.6, \"bin_step_5_StartYear\": 1795.0, \"bin_step_5_StartYear_range\": \"1795 \\u2013 1800\", \"ln_normalized_totalWeight\": -1.64158168548879}, {\"StartYear\": \"1853\", \"__count\": 1, \"bin_step_0_05_ln_normalized_totalWeight\": -1.7000000000000002, \"bin_step_0_05_ln_normalized_totalWeight_end\": -1.6500000000000001, \"bin_step_5_StartYear\": 1850.0, \"bin_step_5_StartYear_range\": \"1850 \\u2013 1855\", \"ln_normalized_totalWeight\": -1.6507632961629477}, {\"StartYear\": \"1644\", \"__count\": 1, \"bin_step_0_05_ln_normalized_totalWeight\": -1.7000000000000002, \"bin_step_0_05_ln_normalized_totalWeight_end\": -1.6500000000000001, \"bin_step_5_StartYear\": 1640.0, \"bin_step_5_StartYear_range\": \"1640 \\u2013 1645\", \"ln_normalized_totalWeight\": -1.6507632961629477}, {\"StartYear\": \"1827\", \"__count\": 1, \"bin_step_0_05_ln_normalized_totalWeight\": -1.7000000000000002, \"bin_step_0_05_ln_normalized_totalWeight_end\": -1.6500000000000001, \"bin_step_5_StartYear\": 1825.0, \"bin_step_5_StartYear_range\": \"1825 \\u2013 1830\", \"ln_normalized_totalWeight\": -1.6507632961629477}, {\"StartYear\": \"1801\", \"__count\": 1, \"bin_step_0_05_ln_normalized_totalWeight\": -1.7000000000000002, \"bin_step_0_05_ln_normalized_totalWeight_end\": -1.6500000000000001, \"bin_step_5_StartYear\": 1800.0, \"bin_step_5_StartYear_range\": \"1800 \\u2013 1805\", \"ln_normalized_totalWeight\": -1.6507632961629477}, {\"StartYear\": \"1832\", \"__count\": 1, \"bin_step_0_05_ln_normalized_totalWeight\": -1.7000000000000002, \"bin_step_0_05_ln_normalized_totalWeight_end\": -1.6500000000000001, \"bin_step_5_StartYear\": 1830.0, \"bin_step_5_StartYear_range\": \"1830 \\u2013 1835\", \"ln_normalized_totalWeight\": -1.6507632961629477}, {\"StartYear\": \"1800\", \"__count\": 1, \"bin_step_0_05_ln_normalized_totalWeight\": -1.7000000000000002, \"bin_step_0_05_ln_normalized_totalWeight_end\": -1.6500000000000001, \"bin_step_5_StartYear\": 1800.0, \"bin_step_5_StartYear_range\": \"1800 \\u2013 1805\", \"ln_normalized_totalWeight\": -1.6507632961629477}, {\"StartYear\": \"1766\", \"__count\": 1, \"bin_step_0_05_ln_normalized_totalWeight\": -1.7500000000000002, \"bin_step_0_05_ln_normalized_totalWeight_end\": -1.7000000000000002, \"bin_step_5_StartYear\": 1765.0, \"bin_step_5_StartYear_range\": \"1765 \\u2013 1770\", \"ln_normalized_totalWeight\": -1.7065489631458342}, {\"StartYear\": \"1644\", \"__count\": 2, \"bin_step_0_05_ln_normalized_totalWeight\": -1.7500000000000002, \"bin_step_0_05_ln_normalized_totalWeight_end\": -1.7000000000000002, \"bin_step_5_StartYear\": 1640.0, \"bin_step_5_StartYear_range\": \"1640 \\u2013 1645\", \"ln_normalized_totalWeight\": -1.7239101084431825}, {\"StartYear\": \"1797\", \"__count\": 1, \"bin_step_0_05_ln_normalized_totalWeight\": -1.7500000000000002, \"bin_step_0_05_ln_normalized_totalWeight_end\": -1.7000000000000002, \"bin_step_5_StartYear\": 1795.0, \"bin_step_5_StartYear_range\": \"1795 \\u2013 1800\", \"ln_normalized_totalWeight\": -1.7239101084431825}, {\"StartYear\": \"1764\", \"__count\": 1, \"bin_step_0_05_ln_normalized_totalWeight\": -1.7500000000000002, \"bin_step_0_05_ln_normalized_totalWeight_end\": -1.7000000000000002, \"bin_step_5_StartYear\": 1760.0, \"bin_step_5_StartYear_range\": \"1760 \\u2013 1765\", \"ln_normalized_totalWeight\": -1.7239101084431825}, {\"StartYear\": \"1796\", \"__count\": 1, \"bin_step_0_05_ln_normalized_totalWeight\": -1.7500000000000002, \"bin_step_0_05_ln_normalized_totalWeight_end\": -1.7000000000000002, \"bin_step_5_StartYear\": 1795.0, \"bin_step_5_StartYear_range\": \"1795 \\u2013 1800\", \"ln_normalized_totalWeight\": -1.7239101084431825}, {\"StartYear\": \"1851\", \"__count\": 1, \"bin_step_0_05_ln_normalized_totalWeight\": -1.7500000000000002, \"bin_step_0_05_ln_normalized_totalWeight_end\": -1.7000000000000002, \"bin_step_5_StartYear\": 1850.0, \"bin_step_5_StartYear_range\": \"1850 \\u2013 1855\", \"ln_normalized_totalWeight\": -1.7239101084431825}, {\"StartYear\": \"1810\", \"__count\": 1, \"bin_step_0_05_ln_normalized_totalWeight\": -1.7500000000000002, \"bin_step_0_05_ln_normalized_totalWeight_end\": -1.7000000000000002, \"bin_step_5_StartYear\": 1810.0, \"bin_step_5_StartYear_range\": \"1810 \\u2013 1815\", \"ln_normalized_totalWeight\": -1.7239101084431825}, {\"StartYear\": \"1800\", \"__count\": 1, \"bin_step_0_05_ln_normalized_totalWeight\": -1.7500000000000002, \"bin_step_0_05_ln_normalized_totalWeight_end\": -1.7000000000000002, \"bin_step_5_StartYear\": 1800.0, \"bin_step_5_StartYear_range\": \"1800 \\u2013 1805\", \"ln_normalized_totalWeight\": -1.7338835563617545}, {\"StartYear\": \"1821\", \"__count\": 1, \"bin_step_0_05_ln_normalized_totalWeight\": -1.7500000000000002, \"bin_step_0_05_ln_normalized_totalWeight_end\": -1.7000000000000002, \"bin_step_5_StartYear\": 1820.0, \"bin_step_5_StartYear_range\": \"1820 \\u2013 1825\", \"ln_normalized_totalWeight\": -1.7338835563617545}, {\"StartYear\": \"1644\", \"__count\": 1, \"bin_step_0_05_ln_normalized_totalWeight\": -1.8000000000000003, \"bin_step_0_05_ln_normalized_totalWeight_end\": -1.7500000000000002, \"bin_step_5_StartYear\": 1640.0, \"bin_step_5_StartYear_range\": \"1640 \\u2013 1645\", \"ln_normalized_totalWeight\": -1.7840590810113237}, {\"StartYear\": \"1796\", \"__count\": 2, \"bin_step_0_05_ln_normalized_totalWeight\": -1.8000000000000003, \"bin_step_0_05_ln_normalized_totalWeight_end\": -1.7500000000000002, \"bin_step_5_StartYear\": 1795.0, \"bin_step_5_StartYear_range\": \"1795 \\u2013 1800\", \"ln_normalized_totalWeight\": -1.7840590810113237}, {\"StartYear\": \"1759\", \"__count\": 1, \"bin_step_0_05_ln_normalized_totalWeight\": -1.8000000000000003, \"bin_step_0_05_ln_normalized_totalWeight_end\": -1.7500000000000002, \"bin_step_5_StartYear\": 1755.0, \"bin_step_5_StartYear_range\": \"1755 \\u2013 1760\", \"ln_normalized_totalWeight\": -1.7840590810113237}, {\"StartYear\": \"1756\", \"__count\": 1, \"bin_step_0_05_ln_normalized_totalWeight\": -1.8000000000000003, \"bin_step_0_05_ln_normalized_totalWeight_end\": -1.7500000000000002, \"bin_step_5_StartYear\": 1755.0, \"bin_step_5_StartYear_range\": \"1755 \\u2013 1760\", \"ln_normalized_totalWeight\": -1.7840590810113237}, {\"StartYear\": \"1736\", \"__count\": 1, \"bin_step_0_05_ln_normalized_totalWeight\": -1.8000000000000003, \"bin_step_0_05_ln_normalized_totalWeight_end\": -1.7500000000000002, \"bin_step_5_StartYear\": 1735.0, \"bin_step_5_StartYear_range\": \"1735 \\u2013 1740\", \"ln_normalized_totalWeight\": -1.7840590810113237}, {\"StartYear\": \"1731\", \"__count\": 1, \"bin_step_0_05_ln_normalized_totalWeight\": -1.8000000000000003, \"bin_step_0_05_ln_normalized_totalWeight_end\": -1.7500000000000002, \"bin_step_5_StartYear\": 1730.0, \"bin_step_5_StartYear_range\": \"1730 \\u2013 1735\", \"ln_normalized_totalWeight\": -1.7840590810113237}, {\"StartYear\": \"1766\", \"__count\": 1, \"bin_step_0_05_ln_normalized_totalWeight\": -1.8000000000000003, \"bin_step_0_05_ln_normalized_totalWeight_end\": -1.7500000000000002, \"bin_step_5_StartYear\": 1765.0, \"bin_step_5_StartYear_range\": \"1765 \\u2013 1770\", \"ln_normalized_totalWeight\": -1.7840590810113237}, {\"StartYear\": \"1827\", \"__count\": 1, \"bin_step_0_05_ln_normalized_totalWeight\": -1.85, \"bin_step_0_05_ln_normalized_totalWeight_end\": -1.8, \"bin_step_5_StartYear\": 1825.0, \"bin_step_5_StartYear_range\": \"1825 \\u2013 1830\", \"ln_normalized_totalWeight\": -1.8136295383324434}, {\"StartYear\": \"missing\", \"__count\": 3, \"bin_step_0_05_ln_normalized_totalWeight\": -1.85, \"bin_step_0_05_ln_normalized_totalWeight_end\": -1.8, \"bin_step_5_StartYear\": null, \"bin_step_5_StartYear_range\": \"null\", \"ln_normalized_totalWeight\": -1.8136295383324434}, {\"StartYear\": \"1752\", \"__count\": 1, \"bin_step_0_05_ln_normalized_totalWeight\": -1.85, \"bin_step_0_05_ln_normalized_totalWeight_end\": -1.8, \"bin_step_5_StartYear\": 1750.0, \"bin_step_5_StartYear_range\": \"1750 \\u2013 1755\", \"ln_normalized_totalWeight\": -1.8136295383324434}, {\"StartYear\": \"1833\", \"__count\": 1, \"bin_step_0_05_ln_normalized_totalWeight\": -1.85, \"bin_step_0_05_ln_normalized_totalWeight_end\": -1.8, \"bin_step_5_StartYear\": 1830.0, \"bin_step_5_StartYear_range\": \"1830 \\u2013 1835\", \"ln_normalized_totalWeight\": -1.8136295383324434}, {\"StartYear\": \"1899\", \"__count\": 1, \"bin_step_0_05_ln_normalized_totalWeight\": -1.85, \"bin_step_0_05_ln_normalized_totalWeight_end\": -1.8, \"bin_step_5_StartYear\": 1895.0, \"bin_step_5_StartYear_range\": \"1895 \\u2013 1900\", \"ln_normalized_totalWeight\": -1.8136295383324434}, {\"StartYear\": \"1748\", \"__count\": 1, \"bin_step_0_05_ln_normalized_totalWeight\": -1.85, \"bin_step_0_05_ln_normalized_totalWeight_end\": -1.8, \"bin_step_5_StartYear\": 1745.0, \"bin_step_5_StartYear_range\": \"1745 \\u2013 1750\", \"ln_normalized_totalWeight\": -1.8136295383324434}, {\"StartYear\": \"1830\", \"__count\": 1, \"bin_step_0_05_ln_normalized_totalWeight\": -1.85, \"bin_step_0_05_ln_normalized_totalWeight_end\": -1.8, \"bin_step_5_StartYear\": 1830.0, \"bin_step_5_StartYear_range\": \"1830 \\u2013 1835\", \"ln_normalized_totalWeight\": -1.8136295383324434}, {\"StartYear\": \"1858\", \"__count\": 2, \"bin_step_0_05_ln_normalized_totalWeight\": -1.85, \"bin_step_0_05_ln_normalized_totalWeight_end\": -1.8, \"bin_step_5_StartYear\": 1855.0, \"bin_step_5_StartYear_range\": \"1855 \\u2013 1860\", \"ln_normalized_totalWeight\": -1.8136295383324434}, {\"StartYear\": \"1691\", \"__count\": 1, \"bin_step_0_05_ln_normalized_totalWeight\": -1.85, \"bin_step_0_05_ln_normalized_totalWeight_end\": -1.8, \"bin_step_5_StartYear\": 1690.0, \"bin_step_5_StartYear_range\": \"1690 \\u2013 1695\", \"ln_normalized_totalWeight\": -1.8136295383324434}, {\"StartYear\": \"1821\", \"__count\": 3, \"bin_step_0_05_ln_normalized_totalWeight\": -1.85, \"bin_step_0_05_ln_normalized_totalWeight_end\": -1.8, \"bin_step_5_StartYear\": 1820.0, \"bin_step_5_StartYear_range\": \"1820 \\u2013 1825\", \"ln_normalized_totalWeight\": -1.8136295383324434}, {\"StartYear\": \"1673\", \"__count\": 1, \"bin_step_0_05_ln_normalized_totalWeight\": -1.85, \"bin_step_0_05_ln_normalized_totalWeight_end\": -1.8, \"bin_step_5_StartYear\": 1670.0, \"bin_step_5_StartYear_range\": \"1670 \\u2013 1675\", \"ln_normalized_totalWeight\": -1.8136295383324434}, {\"StartYear\": \"1800\", \"__count\": 1, \"bin_step_0_05_ln_normalized_totalWeight\": -1.85, \"bin_step_0_05_ln_normalized_totalWeight_end\": -1.8, \"bin_step_5_StartYear\": 1800.0, \"bin_step_5_StartYear_range\": \"1800 \\u2013 1805\", \"ln_normalized_totalWeight\": -1.8136295383324434}, {\"StartYear\": \"1763\", \"__count\": 1, \"bin_step_0_05_ln_normalized_totalWeight\": -1.85, \"bin_step_0_05_ln_normalized_totalWeight_end\": -1.8, \"bin_step_5_StartYear\": 1760.0, \"bin_step_5_StartYear_range\": \"1760 \\u2013 1765\", \"ln_normalized_totalWeight\": -1.8136295383324434}, {\"StartYear\": \"1832\", \"__count\": 1, \"bin_step_0_05_ln_normalized_totalWeight\": -1.85, \"bin_step_0_05_ln_normalized_totalWeight_end\": -1.8, \"bin_step_5_StartYear\": 1830.0, \"bin_step_5_StartYear_range\": \"1830 \\u2013 1835\", \"ln_normalized_totalWeight\": -1.8136295383324434}, {\"StartYear\": \"1733\", \"__count\": 1, \"bin_step_0_05_ln_normalized_totalWeight\": -1.85, \"bin_step_0_05_ln_normalized_totalWeight_end\": -1.8, \"bin_step_5_StartYear\": 1730.0, \"bin_step_5_StartYear_range\": \"1730 \\u2013 1735\", \"ln_normalized_totalWeight\": -1.8136295383324434}, {\"StartYear\": \"1884\", \"__count\": 1, \"bin_step_0_05_ln_normalized_totalWeight\": -1.85, \"bin_step_0_05_ln_normalized_totalWeight_end\": -1.8, \"bin_step_5_StartYear\": 1880.0, \"bin_step_5_StartYear_range\": \"1880 \\u2013 1885\", \"ln_normalized_totalWeight\": -1.8136295383324434}, {\"StartYear\": \"1844\", \"__count\": 2, \"bin_step_0_05_ln_normalized_totalWeight\": -1.85, \"bin_step_0_05_ln_normalized_totalWeight_end\": -1.8, \"bin_step_5_StartYear\": 1840.0, \"bin_step_5_StartYear_range\": \"1840 \\u2013 1845\", \"ln_normalized_totalWeight\": -1.8136295383324434}, {\"StartYear\": \"1879\", \"__count\": 1, \"bin_step_0_05_ln_normalized_totalWeight\": -1.85, \"bin_step_0_05_ln_normalized_totalWeight_end\": -1.8, \"bin_step_5_StartYear\": 1875.0, \"bin_step_5_StartYear_range\": \"1875 \\u2013 1880\", \"ln_normalized_totalWeight\": -1.8136295383324434}, {\"StartYear\": \"1831\", \"__count\": 1, \"bin_step_0_05_ln_normalized_totalWeight\": -1.85, \"bin_step_0_05_ln_normalized_totalWeight_end\": -1.8, \"bin_step_5_StartYear\": 1830.0, \"bin_step_5_StartYear_range\": \"1830 \\u2013 1835\", \"ln_normalized_totalWeight\": -1.8136295383324434}, {\"StartYear\": \"1771\", \"__count\": 1, \"bin_step_0_05_ln_normalized_totalWeight\": -1.85, \"bin_step_0_05_ln_normalized_totalWeight_end\": -1.8, \"bin_step_5_StartYear\": 1770.0, \"bin_step_5_StartYear_range\": \"1770 \\u2013 1775\", \"ln_normalized_totalWeight\": -1.8136295383324434}, {\"StartYear\": \"1823\", \"__count\": 1, \"bin_step_0_05_ln_normalized_totalWeight\": -1.85, \"bin_step_0_05_ln_normalized_totalWeight_end\": -1.8, \"bin_step_5_StartYear\": 1820.0, \"bin_step_5_StartYear_range\": \"1820 \\u2013 1825\", \"ln_normalized_totalWeight\": -1.8136295383324434}, {\"StartYear\": \"1852\", \"__count\": 2, \"bin_step_0_05_ln_normalized_totalWeight\": -1.85, \"bin_step_0_05_ln_normalized_totalWeight_end\": -1.8, \"bin_step_5_StartYear\": 1850.0, \"bin_step_5_StartYear_range\": \"1850 \\u2013 1855\", \"ln_normalized_totalWeight\": -1.8136295383324434}, {\"StartYear\": \"1857\", \"__count\": 1, \"bin_step_0_05_ln_normalized_totalWeight\": -1.85, \"bin_step_0_05_ln_normalized_totalWeight_end\": -1.8, \"bin_step_5_StartYear\": 1855.0, \"bin_step_5_StartYear_range\": \"1855 \\u2013 1860\", \"ln_normalized_totalWeight\": -1.8136295383324434}, {\"StartYear\": \"1790\", \"__count\": 1, \"bin_step_0_05_ln_normalized_totalWeight\": -1.85, \"bin_step_0_05_ln_normalized_totalWeight_end\": -1.8, \"bin_step_5_StartYear\": 1790.0, \"bin_step_5_StartYear_range\": \"1790 \\u2013 1795\", \"ln_normalized_totalWeight\": -1.8136295383324434}, {\"StartYear\": \"1785\", \"__count\": 1, \"bin_step_0_05_ln_normalized_totalWeight\": -1.85, \"bin_step_0_05_ln_normalized_totalWeight_end\": -1.8, \"bin_step_5_StartYear\": 1785.0, \"bin_step_5_StartYear_range\": \"1785 \\u2013 1790\", \"ln_normalized_totalWeight\": -1.8136295383324434}, {\"StartYear\": \"1853\", \"__count\": 1, \"bin_step_0_05_ln_normalized_totalWeight\": -1.85, \"bin_step_0_05_ln_normalized_totalWeight_end\": -1.8, \"bin_step_5_StartYear\": 1850.0, \"bin_step_5_StartYear_range\": \"1850 \\u2013 1855\", \"ln_normalized_totalWeight\": -1.8136295383324434}, {\"StartYear\": \"1818\", \"__count\": 1, \"bin_step_0_05_ln_normalized_totalWeight\": -1.85, \"bin_step_0_05_ln_normalized_totalWeight_end\": -1.8, \"bin_step_5_StartYear\": 1815.0, \"bin_step_5_StartYear_range\": \"1815 \\u2013 1820\", \"ln_normalized_totalWeight\": -1.8136295383324434}, {\"StartYear\": \"1725\", \"__count\": 1, \"bin_step_0_05_ln_normalized_totalWeight\": -1.85, \"bin_step_0_05_ln_normalized_totalWeight_end\": -1.8, \"bin_step_5_StartYear\": 1725.0, \"bin_step_5_StartYear_range\": \"1725 \\u2013 1730\", \"ln_normalized_totalWeight\": -1.8136295383324434}, {\"StartYear\": \"1877\", \"__count\": 1, \"bin_step_0_05_ln_normalized_totalWeight\": -1.85, \"bin_step_0_05_ln_normalized_totalWeight_end\": -1.8, \"bin_step_5_StartYear\": 1875.0, \"bin_step_5_StartYear_range\": \"1875 \\u2013 1880\", \"ln_normalized_totalWeight\": -1.8136295383324434}, {\"StartYear\": \"1801\", \"__count\": 1, \"bin_step_0_05_ln_normalized_totalWeight\": -1.85, \"bin_step_0_05_ln_normalized_totalWeight_end\": -1.8, \"bin_step_5_StartYear\": 1800.0, \"bin_step_5_StartYear_range\": \"1800 \\u2013 1805\", \"ln_normalized_totalWeight\": -1.8136295383324434}, {\"StartYear\": \"1773\", \"__count\": 1, \"bin_step_0_05_ln_normalized_totalWeight\": -1.85, \"bin_step_0_05_ln_normalized_totalWeight_end\": -1.8, \"bin_step_5_StartYear\": 1770.0, \"bin_step_5_StartYear_range\": \"1770 \\u2013 1775\", \"ln_normalized_totalWeight\": -1.8136295383324434}, {\"StartYear\": \"1736\", \"__count\": 3, \"bin_step_0_05_ln_normalized_totalWeight\": -1.9000000000000004, \"bin_step_0_05_ln_normalized_totalWeight_end\": -1.8500000000000003, \"bin_step_5_StartYear\": 1735.0, \"bin_step_5_StartYear_range\": \"1735 \\u2013 1740\", \"ln_normalized_totalWeight\": -1.8680856432136212}, {\"StartYear\": \"1777\", \"__count\": 1, \"bin_step_0_05_ln_normalized_totalWeight\": -1.9000000000000004, \"bin_step_0_05_ln_normalized_totalWeight_end\": -1.8500000000000003, \"bin_step_5_StartYear\": 1775.0, \"bin_step_5_StartYear_range\": \"1775 \\u2013 1780\", \"ln_normalized_totalWeight\": -1.8680856432136212}, {\"StartYear\": \"1700\", \"__count\": 1, \"bin_step_0_05_ln_normalized_totalWeight\": -1.9000000000000004, \"bin_step_0_05_ln_normalized_totalWeight_end\": -1.8500000000000003, \"bin_step_5_StartYear\": 1700.0, \"bin_step_5_StartYear_range\": \"1700 \\u2013 1705\", \"ln_normalized_totalWeight\": -1.8680856432136212}, {\"StartYear\": \"1821\", \"__count\": 4, \"bin_step_0_05_ln_normalized_totalWeight\": -1.9000000000000004, \"bin_step_0_05_ln_normalized_totalWeight_end\": -1.8500000000000003, \"bin_step_5_StartYear\": 1820.0, \"bin_step_5_StartYear_range\": \"1820 \\u2013 1825\", \"ln_normalized_totalWeight\": -1.8680856432136212}, {\"StartYear\": \"1796\", \"__count\": 2, \"bin_step_0_05_ln_normalized_totalWeight\": -1.9000000000000004, \"bin_step_0_05_ln_normalized_totalWeight_end\": -1.8500000000000003, \"bin_step_5_StartYear\": 1795.0, \"bin_step_5_StartYear_range\": \"1795 \\u2013 1800\", \"ln_normalized_totalWeight\": -1.8680856432136212}, {\"StartYear\": \"1794\", \"__count\": 1, \"bin_step_0_05_ln_normalized_totalWeight\": -1.9000000000000004, \"bin_step_0_05_ln_normalized_totalWeight_end\": -1.8500000000000003, \"bin_step_5_StartYear\": 1790.0, \"bin_step_5_StartYear_range\": \"1790 \\u2013 1795\", \"ln_normalized_totalWeight\": -1.8680856432136212}, {\"StartYear\": \"1775\", \"__count\": 1, \"bin_step_0_05_ln_normalized_totalWeight\": -1.9000000000000004, \"bin_step_0_05_ln_normalized_totalWeight_end\": -1.8500000000000003, \"bin_step_5_StartYear\": 1775.0, \"bin_step_5_StartYear_range\": \"1775 \\u2013 1780\", \"ln_normalized_totalWeight\": -1.8680856432136212}, {\"StartYear\": \"1740\", \"__count\": 1, \"bin_step_0_05_ln_normalized_totalWeight\": -1.9000000000000004, \"bin_step_0_05_ln_normalized_totalWeight_end\": -1.8500000000000003, \"bin_step_5_StartYear\": 1740.0, \"bin_step_5_StartYear_range\": \"1740 \\u2013 1745\", \"ln_normalized_totalWeight\": -1.8680856432136212}, {\"StartYear\": \"1766\", \"__count\": 2, \"bin_step_0_05_ln_normalized_totalWeight\": -1.9000000000000004, \"bin_step_0_05_ln_normalized_totalWeight_end\": -1.8500000000000003, \"bin_step_5_StartYear\": 1765.0, \"bin_step_5_StartYear_range\": \"1765 \\u2013 1770\", \"ln_normalized_totalWeight\": -1.8680856432136212}, {\"StartYear\": \"1652\", \"__count\": 1, \"bin_step_0_05_ln_normalized_totalWeight\": -1.9000000000000004, \"bin_step_0_05_ln_normalized_totalWeight_end\": -1.8500000000000003, \"bin_step_5_StartYear\": 1650.0, \"bin_step_5_StartYear_range\": \"1650 \\u2013 1655\", \"ln_normalized_totalWeight\": -1.8680856432136212}, {\"StartYear\": \"1773\", \"__count\": 1, \"bin_step_0_05_ln_normalized_totalWeight\": -1.9000000000000004, \"bin_step_0_05_ln_normalized_totalWeight_end\": -1.8500000000000003, \"bin_step_5_StartYear\": 1770.0, \"bin_step_5_StartYear_range\": \"1770 \\u2013 1775\", \"ln_normalized_totalWeight\": -1.8680856432136212}, {\"StartYear\": \"1662\", \"__count\": 1, \"bin_step_0_05_ln_normalized_totalWeight\": -1.9000000000000004, \"bin_step_0_05_ln_normalized_totalWeight_end\": -1.8500000000000003, \"bin_step_5_StartYear\": 1660.0, \"bin_step_5_StartYear_range\": \"1660 \\u2013 1665\", \"ln_normalized_totalWeight\": -1.8680856432136212}, {\"StartYear\": \"1750\", \"__count\": 1, \"bin_step_0_05_ln_normalized_totalWeight\": -1.9000000000000004, \"bin_step_0_05_ln_normalized_totalWeight_end\": -1.8500000000000003, \"bin_step_5_StartYear\": 1750.0, \"bin_step_5_StartYear_range\": \"1750 \\u2013 1755\", \"ln_normalized_totalWeight\": -1.8680856432136212}, {\"StartYear\": \"1809\", \"__count\": 1, \"bin_step_0_05_ln_normalized_totalWeight\": -1.9000000000000004, \"bin_step_0_05_ln_normalized_totalWeight_end\": -1.8500000000000003, \"bin_step_5_StartYear\": 1805.0, \"bin_step_5_StartYear_range\": \"1805 \\u2013 1810\", \"ln_normalized_totalWeight\": -1.8680856432136212}, {\"StartYear\": \"1832\", \"__count\": 1, \"bin_step_0_05_ln_normalized_totalWeight\": -1.9000000000000004, \"bin_step_0_05_ln_normalized_totalWeight_end\": -1.8500000000000003, \"bin_step_5_StartYear\": 1830.0, \"bin_step_5_StartYear_range\": \"1830 \\u2013 1835\", \"ln_normalized_totalWeight\": -1.8680856432136212}, {\"StartYear\": \"1644\", \"__count\": 2, \"bin_step_0_05_ln_normalized_totalWeight\": -1.9000000000000004, \"bin_step_0_05_ln_normalized_totalWeight_end\": -1.8500000000000003, \"bin_step_5_StartYear\": 1640.0, \"bin_step_5_StartYear_range\": \"1640 \\u2013 1645\", \"ln_normalized_totalWeight\": -1.8680856432136212}, {\"StartYear\": \"missing\", \"__count\": 1, \"bin_step_0_05_ln_normalized_totalWeight\": -1.9000000000000004, \"bin_step_0_05_ln_normalized_totalWeight_end\": -1.8500000000000003, \"bin_step_5_StartYear\": null, \"bin_step_5_StartYear_range\": \"null\", \"ln_normalized_totalWeight\": -1.8680856432136212}, {\"StartYear\": \"1766\", \"__count\": 5, \"bin_step_0_05_ln_normalized_totalWeight\": -2.0, \"bin_step_0_05_ln_normalized_totalWeight_end\": -1.95, \"bin_step_5_StartYear\": 1765.0, \"bin_step_5_StartYear_range\": \"1765 \\u2013 1770\", \"ln_normalized_totalWeight\": -1.9598257656753573}, {\"StartYear\": \"1796\", \"__count\": 3, \"bin_step_0_05_ln_normalized_totalWeight\": -2.0, \"bin_step_0_05_ln_normalized_totalWeight_end\": -1.95, \"bin_step_5_StartYear\": 1795.0, \"bin_step_5_StartYear_range\": \"1795 \\u2013 1800\", \"ln_normalized_totalWeight\": -1.9598257656753573}, {\"StartYear\": \"1750\", \"__count\": 3, \"bin_step_0_05_ln_normalized_totalWeight\": -2.0, \"bin_step_0_05_ln_normalized_totalWeight_end\": -1.95, \"bin_step_5_StartYear\": 1750.0, \"bin_step_5_StartYear_range\": \"1750 \\u2013 1755\", \"ln_normalized_totalWeight\": -1.9598257656753573}, {\"StartYear\": \"1644\", \"__count\": 13, \"bin_step_0_05_ln_normalized_totalWeight\": -2.0, \"bin_step_0_05_ln_normalized_totalWeight_end\": -1.95, \"bin_step_5_StartYear\": 1640.0, \"bin_step_5_StartYear_range\": \"1640 \\u2013 1645\", \"ln_normalized_totalWeight\": -1.9598257656753573}, {\"StartYear\": \"1736\", \"__count\": 3, \"bin_step_0_05_ln_normalized_totalWeight\": -2.0, \"bin_step_0_05_ln_normalized_totalWeight_end\": -1.95, \"bin_step_5_StartYear\": 1735.0, \"bin_step_5_StartYear_range\": \"1735 \\u2013 1740\", \"ln_normalized_totalWeight\": -1.9598257656753573}, {\"StartYear\": \"missing\", \"__count\": 2, \"bin_step_0_05_ln_normalized_totalWeight\": -2.0, \"bin_step_0_05_ln_normalized_totalWeight_end\": -1.95, \"bin_step_5_StartYear\": null, \"bin_step_5_StartYear_range\": \"null\", \"ln_normalized_totalWeight\": -1.9598257656753573}, {\"StartYear\": \"1761\", \"__count\": 1, \"bin_step_0_05_ln_normalized_totalWeight\": -2.0, \"bin_step_0_05_ln_normalized_totalWeight_end\": -1.95, \"bin_step_5_StartYear\": 1760.0, \"bin_step_5_StartYear_range\": \"1760 \\u2013 1765\", \"ln_normalized_totalWeight\": -1.9598257656753573}, {\"StartYear\": \"1851\", \"__count\": 1, \"bin_step_0_05_ln_normalized_totalWeight\": -2.0, \"bin_step_0_05_ln_normalized_totalWeight_end\": -1.95, \"bin_step_5_StartYear\": 1850.0, \"bin_step_5_StartYear_range\": \"1850 \\u2013 1855\", \"ln_normalized_totalWeight\": -1.9598257656753573}, {\"StartYear\": \"1865\", \"__count\": 1, \"bin_step_0_05_ln_normalized_totalWeight\": -2.0, \"bin_step_0_05_ln_normalized_totalWeight_end\": -1.95, \"bin_step_5_StartYear\": 1865.0, \"bin_step_5_StartYear_range\": \"1865 \\u2013 1870\", \"ln_normalized_totalWeight\": -1.9598257656753573}, {\"StartYear\": \"1805\", \"__count\": 1, \"bin_step_0_05_ln_normalized_totalWeight\": -2.0, \"bin_step_0_05_ln_normalized_totalWeight_end\": -1.95, \"bin_step_5_StartYear\": 1805.0, \"bin_step_5_StartYear_range\": \"1805 \\u2013 1810\", \"ln_normalized_totalWeight\": -1.9598257656753573}, {\"StartYear\": \"1873\", \"__count\": 1, \"bin_step_0_05_ln_normalized_totalWeight\": -2.0, \"bin_step_0_05_ln_normalized_totalWeight_end\": -1.95, \"bin_step_5_StartYear\": 1870.0, \"bin_step_5_StartYear_range\": \"1870 \\u2013 1875\", \"ln_normalized_totalWeight\": -1.9598257656753573}, {\"StartYear\": \"1823\", \"__count\": 1, \"bin_step_0_05_ln_normalized_totalWeight\": -2.0, \"bin_step_0_05_ln_normalized_totalWeight_end\": -1.95, \"bin_step_5_StartYear\": 1820.0, \"bin_step_5_StartYear_range\": \"1820 \\u2013 1825\", \"ln_normalized_totalWeight\": -1.9598257656753573}, {\"StartYear\": \"1816\", \"__count\": 1, \"bin_step_0_05_ln_normalized_totalWeight\": -2.0, \"bin_step_0_05_ln_normalized_totalWeight_end\": -1.95, \"bin_step_5_StartYear\": 1815.0, \"bin_step_5_StartYear_range\": \"1815 \\u2013 1820\", \"ln_normalized_totalWeight\": -1.9598257656753573}, {\"StartYear\": \"1730\", \"__count\": 1, \"bin_step_0_05_ln_normalized_totalWeight\": -2.0, \"bin_step_0_05_ln_normalized_totalWeight_end\": -1.95, \"bin_step_5_StartYear\": 1730.0, \"bin_step_5_StartYear_range\": \"1730 \\u2013 1735\", \"ln_normalized_totalWeight\": -1.9598257656753573}, {\"StartYear\": \"1775\", \"__count\": 2, \"bin_step_0_05_ln_normalized_totalWeight\": -2.0, \"bin_step_0_05_ln_normalized_totalWeight_end\": -1.95, \"bin_step_5_StartYear\": 1775.0, \"bin_step_5_StartYear_range\": \"1775 \\u2013 1780\", \"ln_normalized_totalWeight\": -1.9598257656753573}, {\"StartYear\": \"1801\", \"__count\": 1, \"bin_step_0_05_ln_normalized_totalWeight\": -2.0, \"bin_step_0_05_ln_normalized_totalWeight_end\": -1.95, \"bin_step_5_StartYear\": 1800.0, \"bin_step_5_StartYear_range\": \"1800 \\u2013 1805\", \"ln_normalized_totalWeight\": -1.9598257656753573}, {\"StartYear\": \"1760\", \"__count\": 1, \"bin_step_0_05_ln_normalized_totalWeight\": -2.0, \"bin_step_0_05_ln_normalized_totalWeight_end\": -1.95, \"bin_step_5_StartYear\": 1760.0, \"bin_step_5_StartYear_range\": \"1760 \\u2013 1765\", \"ln_normalized_totalWeight\": -1.9598257656753573}, {\"StartYear\": \"1735\", \"__count\": 1, \"bin_step_0_05_ln_normalized_totalWeight\": -2.0, \"bin_step_0_05_ln_normalized_totalWeight_end\": -1.95, \"bin_step_5_StartYear\": 1735.0, \"bin_step_5_StartYear_range\": \"1735 \\u2013 1740\", \"ln_normalized_totalWeight\": -1.9598257656753573}, {\"StartYear\": \"1785\", \"__count\": 1, \"bin_step_0_05_ln_normalized_totalWeight\": -2.0, \"bin_step_0_05_ln_normalized_totalWeight_end\": -1.95, \"bin_step_5_StartYear\": 1785.0, \"bin_step_5_StartYear_range\": \"1785 \\u2013 1790\", \"ln_normalized_totalWeight\": -1.9598257656753573}, {\"StartYear\": \"1790\", \"__count\": 1, \"bin_step_0_05_ln_normalized_totalWeight\": -2.0, \"bin_step_0_05_ln_normalized_totalWeight_end\": -1.95, \"bin_step_5_StartYear\": 1790.0, \"bin_step_5_StartYear_range\": \"1790 \\u2013 1795\", \"ln_normalized_totalWeight\": -1.9598257656753573}, {\"StartYear\": \"1727\", \"__count\": 1, \"bin_step_0_05_ln_normalized_totalWeight\": -2.0, \"bin_step_0_05_ln_normalized_totalWeight_end\": -1.95, \"bin_step_5_StartYear\": 1725.0, \"bin_step_5_StartYear_range\": \"1725 \\u2013 1730\", \"ln_normalized_totalWeight\": -1.9598257656753573}, {\"StartYear\": \"1821\", \"__count\": 2, \"bin_step_0_05_ln_normalized_totalWeight\": -2.0, \"bin_step_0_05_ln_normalized_totalWeight_end\": -1.95, \"bin_step_5_StartYear\": 1820.0, \"bin_step_5_StartYear_range\": \"1820 \\u2013 1825\", \"ln_normalized_totalWeight\": -1.9598257656753573}, {\"StartYear\": \"1855\", \"__count\": 1, \"bin_step_0_05_ln_normalized_totalWeight\": -2.0, \"bin_step_0_05_ln_normalized_totalWeight_end\": -1.95, \"bin_step_5_StartYear\": 1855.0, \"bin_step_5_StartYear_range\": \"1855 \\u2013 1860\", \"ln_normalized_totalWeight\": -1.9598257656753573}, {\"StartYear\": \"1789\", \"__count\": 1, \"bin_step_0_05_ln_normalized_totalWeight\": -2.0, \"bin_step_0_05_ln_normalized_totalWeight_end\": -1.95, \"bin_step_5_StartYear\": 1785.0, \"bin_step_5_StartYear_range\": \"1785 \\u2013 1790\", \"ln_normalized_totalWeight\": -1.9598257656753573}, {\"StartYear\": \"1677\", \"__count\": 1, \"bin_step_0_05_ln_normalized_totalWeight\": -2.0, \"bin_step_0_05_ln_normalized_totalWeight_end\": -1.95, \"bin_step_5_StartYear\": 1675.0, \"bin_step_5_StartYear_range\": \"1675 \\u2013 1680\", \"ln_normalized_totalWeight\": -1.9598257656753573}, {\"StartYear\": \"1808\", \"__count\": 1, \"bin_step_0_05_ln_normalized_totalWeight\": -2.0, \"bin_step_0_05_ln_normalized_totalWeight_end\": -1.95, \"bin_step_5_StartYear\": 1805.0, \"bin_step_5_StartYear_range\": \"1805 \\u2013 1810\", \"ln_normalized_totalWeight\": -1.9598257656753573}, {\"StartYear\": \"1819\", \"__count\": 1, \"bin_step_0_05_ln_normalized_totalWeight\": -2.0, \"bin_step_0_05_ln_normalized_totalWeight_end\": -1.95, \"bin_step_5_StartYear\": 1815.0, \"bin_step_5_StartYear_range\": \"1815 \\u2013 1820\", \"ln_normalized_totalWeight\": -1.9598257656753573}, {\"StartYear\": \"1743\", \"__count\": 1, \"bin_step_0_05_ln_normalized_totalWeight\": -2.0, \"bin_step_0_05_ln_normalized_totalWeight_end\": -1.95, \"bin_step_5_StartYear\": 1740.0, \"bin_step_5_StartYear_range\": \"1740 \\u2013 1745\", \"ln_normalized_totalWeight\": -1.9598257656753573}, {\"StartYear\": \"1810\", \"__count\": 1, \"bin_step_0_05_ln_normalized_totalWeight\": -2.0, \"bin_step_0_05_ln_normalized_totalWeight_end\": -1.95, \"bin_step_5_StartYear\": 1810.0, \"bin_step_5_StartYear_range\": \"1810 \\u2013 1815\", \"ln_normalized_totalWeight\": -1.9724696635729888}, {\"StartYear\": \"1796\", \"__count\": 1, \"bin_step_0_05_ln_normalized_totalWeight\": -2.0, \"bin_step_0_05_ln_normalized_totalWeight_end\": -1.95, \"bin_step_5_StartYear\": 1795.0, \"bin_step_5_StartYear_range\": \"1795 \\u2013 1800\", \"ln_normalized_totalWeight\": -1.9724696635729888}, {\"StartYear\": \"1849\", \"__count\": 1, \"bin_step_0_05_ln_normalized_totalWeight\": -2.0, \"bin_step_0_05_ln_normalized_totalWeight_end\": -1.95, \"bin_step_5_StartYear\": 1845.0, \"bin_step_5_StartYear_range\": \"1845 \\u2013 1850\", \"ln_normalized_totalWeight\": -1.9724696635729888}, {\"StartYear\": \"1803\", \"__count\": 1, \"bin_step_0_05_ln_normalized_totalWeight\": -2.0, \"bin_step_0_05_ln_normalized_totalWeight_end\": -1.95, \"bin_step_5_StartYear\": 1800.0, \"bin_step_5_StartYear_range\": \"1800 \\u2013 1805\", \"ln_normalized_totalWeight\": -1.9724696635729888}, {\"StartYear\": \"1877\", \"__count\": 1, \"bin_step_0_05_ln_normalized_totalWeight\": -2.0, \"bin_step_0_05_ln_normalized_totalWeight_end\": -1.95, \"bin_step_5_StartYear\": 1875.0, \"bin_step_5_StartYear_range\": \"1875 \\u2013 1880\", \"ln_normalized_totalWeight\": -1.9724696635729888}, {\"StartYear\": \"1773\", \"__count\": 1, \"bin_step_0_05_ln_normalized_totalWeight\": -2.0, \"bin_step_0_05_ln_normalized_totalWeight_end\": -1.95, \"bin_step_5_StartYear\": 1770.0, \"bin_step_5_StartYear_range\": \"1770 \\u2013 1775\", \"ln_normalized_totalWeight\": -1.9724696635729888}, {\"StartYear\": \"1644\", \"__count\": 15, \"bin_step_0_05_ln_normalized_totalWeight\": -2.1, \"bin_step_0_05_ln_normalized_totalWeight_end\": -2.0500000000000003, \"bin_step_5_StartYear\": 1640.0, \"bin_step_5_StartYear_range\": \"1640 \\u2013 1645\", \"ln_normalized_totalWeight\": -2.0608401157292904}, {\"StartYear\": \"1615\", \"__count\": 1, \"bin_step_0_05_ln_normalized_totalWeight\": -2.1, \"bin_step_0_05_ln_normalized_totalWeight_end\": -2.0500000000000003, \"bin_step_5_StartYear\": 1615.0, \"bin_step_5_StartYear_range\": \"1615 \\u2013 1620\", \"ln_normalized_totalWeight\": -2.0608401157292904}, {\"StartYear\": \"1841\", \"__count\": 2, \"bin_step_0_05_ln_normalized_totalWeight\": -2.1, \"bin_step_0_05_ln_normalized_totalWeight_end\": -2.0500000000000003, \"bin_step_5_StartYear\": 1840.0, \"bin_step_5_StartYear_range\": \"1840 \\u2013 1845\", \"ln_normalized_totalWeight\": -2.0608401157292904}, {\"StartYear\": \"1826\", \"__count\": 1, \"bin_step_0_05_ln_normalized_totalWeight\": -2.1, \"bin_step_0_05_ln_normalized_totalWeight_end\": -2.0500000000000003, \"bin_step_5_StartYear\": 1825.0, \"bin_step_5_StartYear_range\": \"1825 \\u2013 1830\", \"ln_normalized_totalWeight\": -2.0608401157292904}, {\"StartYear\": \"1814\", \"__count\": 1, \"bin_step_0_05_ln_normalized_totalWeight\": -2.1, \"bin_step_0_05_ln_normalized_totalWeight_end\": -2.0500000000000003, \"bin_step_5_StartYear\": 1810.0, \"bin_step_5_StartYear_range\": \"1810 \\u2013 1815\", \"ln_normalized_totalWeight\": -2.0608401157292904}, {\"StartYear\": \"1836\", \"__count\": 1, \"bin_step_0_05_ln_normalized_totalWeight\": -2.1, \"bin_step_0_05_ln_normalized_totalWeight_end\": -2.0500000000000003, \"bin_step_5_StartYear\": 1835.0, \"bin_step_5_StartYear_range\": \"1835 \\u2013 1840\", \"ln_normalized_totalWeight\": -2.0608401157292904}, {\"StartYear\": \"1821\", \"__count\": 4, \"bin_step_0_05_ln_normalized_totalWeight\": -2.1, \"bin_step_0_05_ln_normalized_totalWeight_end\": -2.0500000000000003, \"bin_step_5_StartYear\": 1820.0, \"bin_step_5_StartYear_range\": \"1820 \\u2013 1825\", \"ln_normalized_totalWeight\": -2.0608401157292904}, {\"StartYear\": \"1802\", \"__count\": 1, \"bin_step_0_05_ln_normalized_totalWeight\": -2.1, \"bin_step_0_05_ln_normalized_totalWeight_end\": -2.0500000000000003, \"bin_step_5_StartYear\": 1800.0, \"bin_step_5_StartYear_range\": \"1800 \\u2013 1805\", \"ln_normalized_totalWeight\": -2.0608401157292904}, {\"StartYear\": \"1857\", \"__count\": 1, \"bin_step_0_05_ln_normalized_totalWeight\": -2.1, \"bin_step_0_05_ln_normalized_totalWeight_end\": -2.0500000000000003, \"bin_step_5_StartYear\": 1855.0, \"bin_step_5_StartYear_range\": \"1855 \\u2013 1860\", \"ln_normalized_totalWeight\": -2.0608401157292904}, {\"StartYear\": \"1748\", \"__count\": 1, \"bin_step_0_05_ln_normalized_totalWeight\": -2.1, \"bin_step_0_05_ln_normalized_totalWeight_end\": -2.0500000000000003, \"bin_step_5_StartYear\": 1745.0, \"bin_step_5_StartYear_range\": \"1745 \\u2013 1750\", \"ln_normalized_totalWeight\": -2.0608401157292904}, {\"StartYear\": \"1808\", \"__count\": 2, \"bin_step_0_05_ln_normalized_totalWeight\": -2.1, \"bin_step_0_05_ln_normalized_totalWeight_end\": -2.0500000000000003, \"bin_step_5_StartYear\": 1805.0, \"bin_step_5_StartYear_range\": \"1805 \\u2013 1810\", \"ln_normalized_totalWeight\": -2.0608401157292904}, {\"StartYear\": \"1738\", \"__count\": 1, \"bin_step_0_05_ln_normalized_totalWeight\": -2.1, \"bin_step_0_05_ln_normalized_totalWeight_end\": -2.0500000000000003, \"bin_step_5_StartYear\": 1735.0, \"bin_step_5_StartYear_range\": \"1735 \\u2013 1740\", \"ln_normalized_totalWeight\": -2.0608401157292904}, {\"StartYear\": \"missing\", \"__count\": 3, \"bin_step_0_05_ln_normalized_totalWeight\": -2.1, \"bin_step_0_05_ln_normalized_totalWeight_end\": -2.0500000000000003, \"bin_step_5_StartYear\": null, \"bin_step_5_StartYear_range\": \"null\", \"ln_normalized_totalWeight\": -2.0608401157292904}, {\"StartYear\": \"1809\", \"__count\": 1, \"bin_step_0_05_ln_normalized_totalWeight\": -2.1, \"bin_step_0_05_ln_normalized_totalWeight_end\": -2.0500000000000003, \"bin_step_5_StartYear\": 1805.0, \"bin_step_5_StartYear_range\": \"1805 \\u2013 1810\", \"ln_normalized_totalWeight\": -2.0608401157292904}, {\"StartYear\": \"1796\", \"__count\": 7, \"bin_step_0_05_ln_normalized_totalWeight\": -2.1, \"bin_step_0_05_ln_normalized_totalWeight_end\": -2.0500000000000003, \"bin_step_5_StartYear\": 1795.0, \"bin_step_5_StartYear_range\": \"1795 \\u2013 1800\", \"ln_normalized_totalWeight\": -2.0608401157292904}, {\"StartYear\": \"1736\", \"__count\": 2, \"bin_step_0_05_ln_normalized_totalWeight\": -2.1, \"bin_step_0_05_ln_normalized_totalWeight_end\": -2.0500000000000003, \"bin_step_5_StartYear\": 1735.0, \"bin_step_5_StartYear_range\": \"1735 \\u2013 1740\", \"ln_normalized_totalWeight\": -2.0608401157292904}, {\"StartYear\": \"1735\", \"__count\": 1, \"bin_step_0_05_ln_normalized_totalWeight\": -2.1, \"bin_step_0_05_ln_normalized_totalWeight_end\": -2.0500000000000003, \"bin_step_5_StartYear\": 1735.0, \"bin_step_5_StartYear_range\": \"1735 \\u2013 1740\", \"ln_normalized_totalWeight\": -2.0608401157292904}, {\"StartYear\": \"1751\", \"__count\": 1, \"bin_step_0_05_ln_normalized_totalWeight\": -2.1, \"bin_step_0_05_ln_normalized_totalWeight_end\": -2.0500000000000003, \"bin_step_5_StartYear\": 1750.0, \"bin_step_5_StartYear_range\": \"1750 \\u2013 1755\", \"ln_normalized_totalWeight\": -2.0608401157292904}, {\"StartYear\": \"1851\", \"__count\": 3, \"bin_step_0_05_ln_normalized_totalWeight\": -2.1, \"bin_step_0_05_ln_normalized_totalWeight_end\": -2.0500000000000003, \"bin_step_5_StartYear\": 1850.0, \"bin_step_5_StartYear_range\": \"1850 \\u2013 1855\", \"ln_normalized_totalWeight\": -2.0608401157292904}, {\"StartYear\": \"1885\", \"__count\": 1, \"bin_step_0_05_ln_normalized_totalWeight\": -2.1, \"bin_step_0_05_ln_normalized_totalWeight_end\": -2.0500000000000003, \"bin_step_5_StartYear\": 1885.0, \"bin_step_5_StartYear_range\": \"1885 \\u2013 1890\", \"ln_normalized_totalWeight\": -2.0608401157292904}, {\"StartYear\": \"1769\", \"__count\": 1, \"bin_step_0_05_ln_normalized_totalWeight\": -2.1, \"bin_step_0_05_ln_normalized_totalWeight_end\": -2.0500000000000003, \"bin_step_5_StartYear\": 1765.0, \"bin_step_5_StartYear_range\": \"1765 \\u2013 1770\", \"ln_normalized_totalWeight\": -2.0608401157292904}, {\"StartYear\": \"1780\", \"__count\": 2, \"bin_step_0_05_ln_normalized_totalWeight\": -2.1, \"bin_step_0_05_ln_normalized_totalWeight_end\": -2.0500000000000003, \"bin_step_5_StartYear\": 1780.0, \"bin_step_5_StartYear_range\": \"1780 \\u2013 1785\", \"ln_normalized_totalWeight\": -2.0608401157292904}, {\"StartYear\": \"1833\", \"__count\": 1, \"bin_step_0_05_ln_normalized_totalWeight\": -2.1, \"bin_step_0_05_ln_normalized_totalWeight_end\": -2.0500000000000003, \"bin_step_5_StartYear\": 1830.0, \"bin_step_5_StartYear_range\": \"1830 \\u2013 1835\", \"ln_normalized_totalWeight\": -2.0608401157292904}, {\"StartYear\": \"1752\", \"__count\": 1, \"bin_step_0_05_ln_normalized_totalWeight\": -2.1, \"bin_step_0_05_ln_normalized_totalWeight_end\": -2.0500000000000003, \"bin_step_5_StartYear\": 1750.0, \"bin_step_5_StartYear_range\": \"1750 \\u2013 1755\", \"ln_normalized_totalWeight\": -2.0608401157292904}, {\"StartYear\": \"1667\", \"__count\": 1, \"bin_step_0_05_ln_normalized_totalWeight\": -2.1, \"bin_step_0_05_ln_normalized_totalWeight_end\": -2.0500000000000003, \"bin_step_5_StartYear\": 1665.0, \"bin_step_5_StartYear_range\": \"1665 \\u2013 1670\", \"ln_normalized_totalWeight\": -2.0608401157292904}, {\"StartYear\": \"1723\", \"__count\": 1, \"bin_step_0_05_ln_normalized_totalWeight\": -2.1, \"bin_step_0_05_ln_normalized_totalWeight_end\": -2.0500000000000003, \"bin_step_5_StartYear\": 1720.0, \"bin_step_5_StartYear_range\": \"1720 \\u2013 1725\", \"ln_normalized_totalWeight\": -2.0608401157292904}, {\"StartYear\": \"1652\", \"__count\": 1, \"bin_step_0_05_ln_normalized_totalWeight\": -2.1, \"bin_step_0_05_ln_normalized_totalWeight_end\": -2.0500000000000003, \"bin_step_5_StartYear\": 1650.0, \"bin_step_5_StartYear_range\": \"1650 \\u2013 1655\", \"ln_normalized_totalWeight\": -2.0608401157292904}, {\"StartYear\": \"1839\", \"__count\": 1, \"bin_step_0_05_ln_normalized_totalWeight\": -2.1, \"bin_step_0_05_ln_normalized_totalWeight_end\": -2.0500000000000003, \"bin_step_5_StartYear\": 1835.0, \"bin_step_5_StartYear_range\": \"1835 \\u2013 1840\", \"ln_normalized_totalWeight\": -2.0608401157292904}, {\"StartYear\": \"1776\", \"__count\": 1, \"bin_step_0_05_ln_normalized_totalWeight\": -2.1, \"bin_step_0_05_ln_normalized_totalWeight_end\": -2.0500000000000003, \"bin_step_5_StartYear\": 1775.0, \"bin_step_5_StartYear_range\": \"1775 \\u2013 1780\", \"ln_normalized_totalWeight\": -2.0608401157292904}, {\"StartYear\": \"1662\", \"__count\": 1, \"bin_step_0_05_ln_normalized_totalWeight\": -2.1, \"bin_step_0_05_ln_normalized_totalWeight_end\": -2.0500000000000003, \"bin_step_5_StartYear\": 1660.0, \"bin_step_5_StartYear_range\": \"1660 \\u2013 1665\", \"ln_normalized_totalWeight\": -2.0608401157292904}, {\"StartYear\": \"1736\", \"__count\": 1, \"bin_step_0_05_ln_normalized_totalWeight\": -2.1, \"bin_step_0_05_ln_normalized_totalWeight_end\": -2.0500000000000003, \"bin_step_5_StartYear\": 1735.0, \"bin_step_5_StartYear_range\": \"1735 \\u2013 1740\", \"ln_normalized_totalWeight\": -2.074837413108188}, {\"StartYear\": \"1774\", \"__count\": 1, \"bin_step_0_05_ln_normalized_totalWeight\": -2.1, \"bin_step_0_05_ln_normalized_totalWeight_end\": -2.0500000000000003, \"bin_step_5_StartYear\": 1770.0, \"bin_step_5_StartYear_range\": \"1770 \\u2013 1775\", \"ln_normalized_totalWeight\": -2.074837413108188}, {\"StartYear\": \"1821\", \"__count\": 1, \"bin_step_0_05_ln_normalized_totalWeight\": -2.1, \"bin_step_0_05_ln_normalized_totalWeight_end\": -2.0500000000000003, \"bin_step_5_StartYear\": 1820.0, \"bin_step_5_StartYear_range\": \"1820 \\u2013 1825\", \"ln_normalized_totalWeight\": -2.074837413108188}, {\"StartYear\": \"1858\", \"__count\": 1, \"bin_step_0_05_ln_normalized_totalWeight\": -2.1, \"bin_step_0_05_ln_normalized_totalWeight_end\": -2.0500000000000003, \"bin_step_5_StartYear\": 1855.0, \"bin_step_5_StartYear_range\": \"1855 \\u2013 1860\", \"ln_normalized_totalWeight\": -2.074837413108188}, {\"StartYear\": \"1796\", \"__count\": 1, \"bin_step_0_05_ln_normalized_totalWeight\": -2.1, \"bin_step_0_05_ln_normalized_totalWeight_end\": -2.0500000000000003, \"bin_step_5_StartYear\": 1795.0, \"bin_step_5_StartYear_range\": \"1795 \\u2013 1800\", \"ln_normalized_totalWeight\": -2.074837413108188}, {\"StartYear\": \"1878\", \"__count\": 1, \"bin_step_0_05_ln_normalized_totalWeight\": -2.1, \"bin_step_0_05_ln_normalized_totalWeight_end\": -2.0500000000000003, \"bin_step_5_StartYear\": 1875.0, \"bin_step_5_StartYear_range\": \"1875 \\u2013 1880\", \"ln_normalized_totalWeight\": -2.074837413108188}, {\"StartYear\": \"1825\", \"__count\": 1, \"bin_step_0_05_ln_normalized_totalWeight\": -2.1, \"bin_step_0_05_ln_normalized_totalWeight_end\": -2.0500000000000003, \"bin_step_5_StartYear\": 1825.0, \"bin_step_5_StartYear_range\": \"1825 \\u2013 1830\", \"ln_normalized_totalWeight\": -2.074837413108188}, {\"StartYear\": \"1795\", \"__count\": 1, \"bin_step_0_05_ln_normalized_totalWeight\": -2.1, \"bin_step_0_05_ln_normalized_totalWeight_end\": -2.0500000000000003, \"bin_step_5_StartYear\": 1795.0, \"bin_step_5_StartYear_range\": \"1795 \\u2013 1800\", \"ln_normalized_totalWeight\": -2.074837413108188}, {\"StartYear\": \"1811\", \"__count\": 1, \"bin_step_0_05_ln_normalized_totalWeight\": -2.1, \"bin_step_0_05_ln_normalized_totalWeight_end\": -2.0500000000000003, \"bin_step_5_StartYear\": 1810.0, \"bin_step_5_StartYear_range\": \"1810 \\u2013 1815\", \"ln_normalized_totalWeight\": -2.074837413108188}, {\"StartYear\": \"1868\", \"__count\": 2, \"bin_step_0_05_ln_normalized_totalWeight\": -2.2, \"bin_step_0_05_ln_normalized_totalWeight_end\": -2.1500000000000004, \"bin_step_5_StartYear\": 1865.0, \"bin_step_5_StartYear_range\": \"1865 \\u2013 1870\", \"ln_normalized_totalWeight\": -2.1888920425891873}, {\"StartYear\": \"1768\", \"__count\": 1, \"bin_step_0_05_ln_normalized_totalWeight\": -2.2, \"bin_step_0_05_ln_normalized_totalWeight_end\": -2.1500000000000004, \"bin_step_5_StartYear\": 1765.0, \"bin_step_5_StartYear_range\": \"1765 \\u2013 1770\", \"ln_normalized_totalWeight\": -2.1888920425891873}, {\"StartYear\": \"1839\", \"__count\": 1, \"bin_step_0_05_ln_normalized_totalWeight\": -2.2, \"bin_step_0_05_ln_normalized_totalWeight_end\": -2.1500000000000004, \"bin_step_5_StartYear\": 1835.0, \"bin_step_5_StartYear_range\": \"1835 \\u2013 1840\", \"ln_normalized_totalWeight\": -2.1888920425891873}, {\"StartYear\": \"1813\", \"__count\": 3, \"bin_step_0_05_ln_normalized_totalWeight\": -2.2, \"bin_step_0_05_ln_normalized_totalWeight_end\": -2.1500000000000004, \"bin_step_5_StartYear\": 1810.0, \"bin_step_5_StartYear_range\": \"1810 \\u2013 1815\", \"ln_normalized_totalWeight\": -2.1888920425891873}, {\"StartYear\": \"1797\", \"__count\": 2, \"bin_step_0_05_ln_normalized_totalWeight\": -2.2, \"bin_step_0_05_ln_normalized_totalWeight_end\": -2.1500000000000004, \"bin_step_5_StartYear\": 1795.0, \"bin_step_5_StartYear_range\": \"1795 \\u2013 1800\", \"ln_normalized_totalWeight\": -2.1888920425891873}, {\"StartYear\": \"1796\", \"__count\": 9, \"bin_step_0_05_ln_normalized_totalWeight\": -2.2, \"bin_step_0_05_ln_normalized_totalWeight_end\": -2.1500000000000004, \"bin_step_5_StartYear\": 1795.0, \"bin_step_5_StartYear_range\": \"1795 \\u2013 1800\", \"ln_normalized_totalWeight\": -2.1888920425891873}, {\"StartYear\": \"missing\", \"__count\": 12, \"bin_step_0_05_ln_normalized_totalWeight\": -2.2, \"bin_step_0_05_ln_normalized_totalWeight_end\": -2.1500000000000004, \"bin_step_5_StartYear\": null, \"bin_step_5_StartYear_range\": \"null\", \"ln_normalized_totalWeight\": -2.1888920425891873}, {\"StartYear\": \"1760\", \"__count\": 3, \"bin_step_0_05_ln_normalized_totalWeight\": -2.2, \"bin_step_0_05_ln_normalized_totalWeight_end\": -2.1500000000000004, \"bin_step_5_StartYear\": 1760.0, \"bin_step_5_StartYear_range\": \"1760 \\u2013 1765\", \"ln_normalized_totalWeight\": -2.1888920425891873}, {\"StartYear\": \"1866\", \"__count\": 2, \"bin_step_0_05_ln_normalized_totalWeight\": -2.2, \"bin_step_0_05_ln_normalized_totalWeight_end\": -2.1500000000000004, \"bin_step_5_StartYear\": 1865.0, \"bin_step_5_StartYear_range\": \"1865 \\u2013 1870\", \"ln_normalized_totalWeight\": -2.1888920425891873}, {\"StartYear\": \"1851\", \"__count\": 2, \"bin_step_0_05_ln_normalized_totalWeight\": -2.2, \"bin_step_0_05_ln_normalized_totalWeight_end\": -2.1500000000000004, \"bin_step_5_StartYear\": 1850.0, \"bin_step_5_StartYear_range\": \"1850 \\u2013 1855\", \"ln_normalized_totalWeight\": -2.1888920425891873}, {\"StartYear\": \"1771\", \"__count\": 1, \"bin_step_0_05_ln_normalized_totalWeight\": -2.2, \"bin_step_0_05_ln_normalized_totalWeight_end\": -2.1500000000000004, \"bin_step_5_StartYear\": 1770.0, \"bin_step_5_StartYear_range\": \"1770 \\u2013 1775\", \"ln_normalized_totalWeight\": -2.1888920425891873}, {\"StartYear\": \"1820\", \"__count\": 1, \"bin_step_0_05_ln_normalized_totalWeight\": -2.2, \"bin_step_0_05_ln_normalized_totalWeight_end\": -2.1500000000000004, \"bin_step_5_StartYear\": 1820.0, \"bin_step_5_StartYear_range\": \"1820 \\u2013 1825\", \"ln_normalized_totalWeight\": -2.1888920425891873}, {\"StartYear\": \"1753\", \"__count\": 2, \"bin_step_0_05_ln_normalized_totalWeight\": -2.2, \"bin_step_0_05_ln_normalized_totalWeight_end\": -2.1500000000000004, \"bin_step_5_StartYear\": 1750.0, \"bin_step_5_StartYear_range\": \"1750 \\u2013 1755\", \"ln_normalized_totalWeight\": -2.1888920425891873}, {\"StartYear\": \"1855\", \"__count\": 3, \"bin_step_0_05_ln_normalized_totalWeight\": -2.2, \"bin_step_0_05_ln_normalized_totalWeight_end\": -2.1500000000000004, \"bin_step_5_StartYear\": 1855.0, \"bin_step_5_StartYear_range\": \"1855 \\u2013 1860\", \"ln_normalized_totalWeight\": -2.1888920425891873}, {\"StartYear\": \"1837\", \"__count\": 2, \"bin_step_0_05_ln_normalized_totalWeight\": -2.2, \"bin_step_0_05_ln_normalized_totalWeight_end\": -2.1500000000000004, \"bin_step_5_StartYear\": 1835.0, \"bin_step_5_StartYear_range\": \"1835 \\u2013 1840\", \"ln_normalized_totalWeight\": -2.1888920425891873}, {\"StartYear\": \"1756\", \"__count\": 1, \"bin_step_0_05_ln_normalized_totalWeight\": -2.2, \"bin_step_0_05_ln_normalized_totalWeight_end\": -2.1500000000000004, \"bin_step_5_StartYear\": 1755.0, \"bin_step_5_StartYear_range\": \"1755 \\u2013 1760\", \"ln_normalized_totalWeight\": -2.1888920425891873}, {\"StartYear\": \"1856\", \"__count\": 2, \"bin_step_0_05_ln_normalized_totalWeight\": -2.2, \"bin_step_0_05_ln_normalized_totalWeight_end\": -2.1500000000000004, \"bin_step_5_StartYear\": 1855.0, \"bin_step_5_StartYear_range\": \"1855 \\u2013 1860\", \"ln_normalized_totalWeight\": -2.1888920425891873}, {\"StartYear\": \"1840\", \"__count\": 2, \"bin_step_0_05_ln_normalized_totalWeight\": -2.2, \"bin_step_0_05_ln_normalized_totalWeight_end\": -2.1500000000000004, \"bin_step_5_StartYear\": 1840.0, \"bin_step_5_StartYear_range\": \"1840 \\u2013 1845\", \"ln_normalized_totalWeight\": -2.1888920425891873}, {\"StartYear\": \"1836\", \"__count\": 1, \"bin_step_0_05_ln_normalized_totalWeight\": -2.2, \"bin_step_0_05_ln_normalized_totalWeight_end\": -2.1500000000000004, \"bin_step_5_StartYear\": 1835.0, \"bin_step_5_StartYear_range\": \"1835 \\u2013 1840\", \"ln_normalized_totalWeight\": -2.1888920425891873}, {\"StartYear\": \"1821\", \"__count\": 9, \"bin_step_0_05_ln_normalized_totalWeight\": -2.2, \"bin_step_0_05_ln_normalized_totalWeight_end\": -2.1500000000000004, \"bin_step_5_StartYear\": 1820.0, \"bin_step_5_StartYear_range\": \"1820 \\u2013 1825\", \"ln_normalized_totalWeight\": -2.1888920425891873}, {\"StartYear\": \"1775\", \"__count\": 1, \"bin_step_0_05_ln_normalized_totalWeight\": -2.2, \"bin_step_0_05_ln_normalized_totalWeight_end\": -2.1500000000000004, \"bin_step_5_StartYear\": 1775.0, \"bin_step_5_StartYear_range\": \"1775 \\u2013 1780\", \"ln_normalized_totalWeight\": -2.1888920425891873}, {\"StartYear\": \"1784\", \"__count\": 1, \"bin_step_0_05_ln_normalized_totalWeight\": -2.2, \"bin_step_0_05_ln_normalized_totalWeight_end\": -2.1500000000000004, \"bin_step_5_StartYear\": 1780.0, \"bin_step_5_StartYear_range\": \"1780 \\u2013 1785\", \"ln_normalized_totalWeight\": -2.1888920425891873}, {\"StartYear\": \"1819\", \"__count\": 2, \"bin_step_0_05_ln_normalized_totalWeight\": -2.2, \"bin_step_0_05_ln_normalized_totalWeight_end\": -2.1500000000000004, \"bin_step_5_StartYear\": 1815.0, \"bin_step_5_StartYear_range\": \"1815 \\u2013 1820\", \"ln_normalized_totalWeight\": -2.1888920425891873}, {\"StartYear\": \"1875\", \"__count\": 4, \"bin_step_0_05_ln_normalized_totalWeight\": -2.2, \"bin_step_0_05_ln_normalized_totalWeight_end\": -2.1500000000000004, \"bin_step_5_StartYear\": 1875.0, \"bin_step_5_StartYear_range\": \"1875 \\u2013 1880\", \"ln_normalized_totalWeight\": -2.1888920425891873}, {\"StartYear\": \"1831\", \"__count\": 1, \"bin_step_0_05_ln_normalized_totalWeight\": -2.2, \"bin_step_0_05_ln_normalized_totalWeight_end\": -2.1500000000000004, \"bin_step_5_StartYear\": 1830.0, \"bin_step_5_StartYear_range\": \"1830 \\u2013 1835\", \"ln_normalized_totalWeight\": -2.1888920425891873}, {\"StartYear\": \"1861\", \"__count\": 1, \"bin_step_0_05_ln_normalized_totalWeight\": -2.2, \"bin_step_0_05_ln_normalized_totalWeight_end\": -2.1500000000000004, \"bin_step_5_StartYear\": 1860.0, \"bin_step_5_StartYear_range\": \"1860 \\u2013 1865\", \"ln_normalized_totalWeight\": -2.1888920425891873}, {\"StartYear\": \"1772\", \"__count\": 1, \"bin_step_0_05_ln_normalized_totalWeight\": -2.2, \"bin_step_0_05_ln_normalized_totalWeight_end\": -2.1500000000000004, \"bin_step_5_StartYear\": 1770.0, \"bin_step_5_StartYear_range\": \"1770 \\u2013 1775\", \"ln_normalized_totalWeight\": -2.1888920425891873}, {\"StartYear\": \"1841\", \"__count\": 2, \"bin_step_0_05_ln_normalized_totalWeight\": -2.2, \"bin_step_0_05_ln_normalized_totalWeight_end\": -2.1500000000000004, \"bin_step_5_StartYear\": 1840.0, \"bin_step_5_StartYear_range\": \"1840 \\u2013 1845\", \"ln_normalized_totalWeight\": -2.1888920425891873}, {\"StartYear\": \"1879\", \"__count\": 1, \"bin_step_0_05_ln_normalized_totalWeight\": -2.2, \"bin_step_0_05_ln_normalized_totalWeight_end\": -2.1500000000000004, \"bin_step_5_StartYear\": 1875.0, \"bin_step_5_StartYear_range\": \"1875 \\u2013 1880\", \"ln_normalized_totalWeight\": -2.1888920425891873}, {\"StartYear\": \"1770\", \"__count\": 1, \"bin_step_0_05_ln_normalized_totalWeight\": -2.2, \"bin_step_0_05_ln_normalized_totalWeight_end\": -2.1500000000000004, \"bin_step_5_StartYear\": 1770.0, \"bin_step_5_StartYear_range\": \"1770 \\u2013 1775\", \"ln_normalized_totalWeight\": -2.1888920425891873}, {\"StartYear\": \"1891\", \"__count\": 1, \"bin_step_0_05_ln_normalized_totalWeight\": -2.2, \"bin_step_0_05_ln_normalized_totalWeight_end\": -2.1500000000000004, \"bin_step_5_StartYear\": 1890.0, \"bin_step_5_StartYear_range\": \"1890 \\u2013 1895\", \"ln_normalized_totalWeight\": -2.1888920425891873}, {\"StartYear\": \"1740\", \"__count\": 1, \"bin_step_0_05_ln_normalized_totalWeight\": -2.2, \"bin_step_0_05_ln_normalized_totalWeight_end\": -2.1500000000000004, \"bin_step_5_StartYear\": 1740.0, \"bin_step_5_StartYear_range\": \"1740 \\u2013 1745\", \"ln_normalized_totalWeight\": -2.1888920425891873}, {\"StartYear\": \"1725\", \"__count\": 1, \"bin_step_0_05_ln_normalized_totalWeight\": -2.2, \"bin_step_0_05_ln_normalized_totalWeight_end\": -2.1500000000000004, \"bin_step_5_StartYear\": 1725.0, \"bin_step_5_StartYear_range\": \"1725 \\u2013 1730\", \"ln_normalized_totalWeight\": -2.1888920425891873}, {\"StartYear\": \"1795\", \"__count\": 1, \"bin_step_0_05_ln_normalized_totalWeight\": -2.2, \"bin_step_0_05_ln_normalized_totalWeight_end\": -2.1500000000000004, \"bin_step_5_StartYear\": 1795.0, \"bin_step_5_StartYear_range\": \"1795 \\u2013 1800\", \"ln_normalized_totalWeight\": -2.1888920425891873}, {\"StartYear\": \"1850\", \"__count\": 3, \"bin_step_0_05_ln_normalized_totalWeight\": -2.2, \"bin_step_0_05_ln_normalized_totalWeight_end\": -2.1500000000000004, \"bin_step_5_StartYear\": 1850.0, \"bin_step_5_StartYear_range\": \"1850 \\u2013 1855\", \"ln_normalized_totalWeight\": -2.1888920425891873}, {\"StartYear\": \"1785\", \"__count\": 1, \"bin_step_0_05_ln_normalized_totalWeight\": -2.2, \"bin_step_0_05_ln_normalized_totalWeight_end\": -2.1500000000000004, \"bin_step_5_StartYear\": 1785.0, \"bin_step_5_StartYear_range\": \"1785 \\u2013 1790\", \"ln_normalized_totalWeight\": -2.1888920425891873}, {\"StartYear\": \"1802\", \"__count\": 1, \"bin_step_0_05_ln_normalized_totalWeight\": -2.2, \"bin_step_0_05_ln_normalized_totalWeight_end\": -2.1500000000000004, \"bin_step_5_StartYear\": 1800.0, \"bin_step_5_StartYear_range\": \"1800 \\u2013 1805\", \"ln_normalized_totalWeight\": -2.1888920425891873}, {\"StartYear\": \"1830\", \"__count\": 1, \"bin_step_0_05_ln_normalized_totalWeight\": -2.2, \"bin_step_0_05_ln_normalized_totalWeight_end\": -2.1500000000000004, \"bin_step_5_StartYear\": 1830.0, \"bin_step_5_StartYear_range\": \"1830 \\u2013 1835\", \"ln_normalized_totalWeight\": -2.1888920425891873}, {\"StartYear\": \"1747\", \"__count\": 1, \"bin_step_0_05_ln_normalized_totalWeight\": -2.2, \"bin_step_0_05_ln_normalized_totalWeight_end\": -2.1500000000000004, \"bin_step_5_StartYear\": 1745.0, \"bin_step_5_StartYear_range\": \"1745 \\u2013 1750\", \"ln_normalized_totalWeight\": -2.1888920425891873}, {\"StartYear\": \"1762\", \"__count\": 1, \"bin_step_0_05_ln_normalized_totalWeight\": -2.2, \"bin_step_0_05_ln_normalized_totalWeight_end\": -2.1500000000000004, \"bin_step_5_StartYear\": 1760.0, \"bin_step_5_StartYear_range\": \"1760 \\u2013 1765\", \"ln_normalized_totalWeight\": -2.1888920425891873}, {\"StartYear\": \"1902\", \"__count\": 1, \"bin_step_0_05_ln_normalized_totalWeight\": -2.2, \"bin_step_0_05_ln_normalized_totalWeight_end\": -2.1500000000000004, \"bin_step_5_StartYear\": 1900.0, \"bin_step_5_StartYear_range\": \"1900 \\u2013 1905\", \"ln_normalized_totalWeight\": -2.1888920425891873}, {\"StartYear\": \"1800\", \"__count\": 1, \"bin_step_0_05_ln_normalized_totalWeight\": -2.2, \"bin_step_0_05_ln_normalized_totalWeight_end\": -2.1500000000000004, \"bin_step_5_StartYear\": 1800.0, \"bin_step_5_StartYear_range\": \"1800 \\u2013 1805\", \"ln_normalized_totalWeight\": -2.1888920425891873}, {\"StartYear\": \"1910\", \"__count\": 1, \"bin_step_0_05_ln_normalized_totalWeight\": -2.2, \"bin_step_0_05_ln_normalized_totalWeight_end\": -2.1500000000000004, \"bin_step_5_StartYear\": 1905.0, \"bin_step_5_StartYear_range\": \"1905 \\u2013 1910\", \"ln_normalized_totalWeight\": -2.1888920425891873}, {\"StartYear\": \"1730\", \"__count\": 1, \"bin_step_0_05_ln_normalized_totalWeight\": -2.2, \"bin_step_0_05_ln_normalized_totalWeight_end\": -2.1500000000000004, \"bin_step_5_StartYear\": 1730.0, \"bin_step_5_StartYear_range\": \"1730 \\u2013 1735\", \"ln_normalized_totalWeight\": -2.1888920425891873}, {\"StartYear\": \"1809\", \"__count\": 1, \"bin_step_0_05_ln_normalized_totalWeight\": -2.2, \"bin_step_0_05_ln_normalized_totalWeight_end\": -2.1500000000000004, \"bin_step_5_StartYear\": 1805.0, \"bin_step_5_StartYear_range\": \"1805 \\u2013 1810\", \"ln_normalized_totalWeight\": -2.1888920425891873}, {\"StartYear\": \"1777\", \"__count\": 1, \"bin_step_0_05_ln_normalized_totalWeight\": -2.2, \"bin_step_0_05_ln_normalized_totalWeight_end\": -2.1500000000000004, \"bin_step_5_StartYear\": 1775.0, \"bin_step_5_StartYear_range\": \"1775 \\u2013 1780\", \"ln_normalized_totalWeight\": -2.1888920425891873}, {\"StartYear\": \"1811\", \"__count\": 1, \"bin_step_0_05_ln_normalized_totalWeight\": -2.2, \"bin_step_0_05_ln_normalized_totalWeight_end\": -2.1500000000000004, \"bin_step_5_StartYear\": 1810.0, \"bin_step_5_StartYear_range\": \"1810 \\u2013 1815\", \"ln_normalized_totalWeight\": -2.1888920425891873}, {\"StartYear\": \"1782\", \"__count\": 2, \"bin_step_0_05_ln_normalized_totalWeight\": -2.2, \"bin_step_0_05_ln_normalized_totalWeight_end\": -2.1500000000000004, \"bin_step_5_StartYear\": 1780.0, \"bin_step_5_StartYear_range\": \"1780 \\u2013 1785\", \"ln_normalized_totalWeight\": -2.1888920425891873}, {\"StartYear\": \"1735\", \"__count\": 1, \"bin_step_0_05_ln_normalized_totalWeight\": -2.2, \"bin_step_0_05_ln_normalized_totalWeight_end\": -2.1500000000000004, \"bin_step_5_StartYear\": 1735.0, \"bin_step_5_StartYear_range\": \"1735 \\u2013 1740\", \"ln_normalized_totalWeight\": -2.1888920425891873}, {\"StartYear\": \"1881\", \"__count\": 1, \"bin_step_0_05_ln_normalized_totalWeight\": -2.2, \"bin_step_0_05_ln_normalized_totalWeight_end\": -2.1500000000000004, \"bin_step_5_StartYear\": 1880.0, \"bin_step_5_StartYear_range\": \"1880 \\u2013 1885\", \"ln_normalized_totalWeight\": -2.1888920425891873}, {\"StartYear\": \"1746\", \"__count\": 2, \"bin_step_0_05_ln_normalized_totalWeight\": -2.2, \"bin_step_0_05_ln_normalized_totalWeight_end\": -2.1500000000000004, \"bin_step_5_StartYear\": 1745.0, \"bin_step_5_StartYear_range\": \"1745 \\u2013 1750\", \"ln_normalized_totalWeight\": -2.1888920425891873}, {\"StartYear\": \"1792\", \"__count\": 2, \"bin_step_0_05_ln_normalized_totalWeight\": -2.2, \"bin_step_0_05_ln_normalized_totalWeight_end\": -2.1500000000000004, \"bin_step_5_StartYear\": 1790.0, \"bin_step_5_StartYear_range\": \"1790 \\u2013 1795\", \"ln_normalized_totalWeight\": -2.1888920425891873}, {\"StartYear\": \"1736\", \"__count\": 4, \"bin_step_0_05_ln_normalized_totalWeight\": -2.2, \"bin_step_0_05_ln_normalized_totalWeight_end\": -2.1500000000000004, \"bin_step_5_StartYear\": 1735.0, \"bin_step_5_StartYear_range\": \"1735 \\u2013 1740\", \"ln_normalized_totalWeight\": -2.1888920425891873}, {\"StartYear\": \"1780\", \"__count\": 1, \"bin_step_0_05_ln_normalized_totalWeight\": -2.2, \"bin_step_0_05_ln_normalized_totalWeight_end\": -2.1500000000000004, \"bin_step_5_StartYear\": 1780.0, \"bin_step_5_StartYear_range\": \"1780 \\u2013 1785\", \"ln_normalized_totalWeight\": -2.1888920425891873}, {\"StartYear\": \"1862\", \"__count\": 1, \"bin_step_0_05_ln_normalized_totalWeight\": -2.2, \"bin_step_0_05_ln_normalized_totalWeight_end\": -2.1500000000000004, \"bin_step_5_StartYear\": 1860.0, \"bin_step_5_StartYear_range\": \"1860 \\u2013 1865\", \"ln_normalized_totalWeight\": -2.1888920425891873}, {\"StartYear\": \"1834\", \"__count\": 1, \"bin_step_0_05_ln_normalized_totalWeight\": -2.2, \"bin_step_0_05_ln_normalized_totalWeight_end\": -2.1500000000000004, \"bin_step_5_StartYear\": 1830.0, \"bin_step_5_StartYear_range\": \"1830 \\u2013 1835\", \"ln_normalized_totalWeight\": -2.1888920425891873}, {\"StartYear\": \"1860\", \"__count\": 1, \"bin_step_0_05_ln_normalized_totalWeight\": -2.2, \"bin_step_0_05_ln_normalized_totalWeight_end\": -2.1500000000000004, \"bin_step_5_StartYear\": 1860.0, \"bin_step_5_StartYear_range\": \"1860 \\u2013 1865\", \"ln_normalized_totalWeight\": -2.1888920425891873}, {\"StartYear\": \"1764\", \"__count\": 1, \"bin_step_0_05_ln_normalized_totalWeight\": -2.2, \"bin_step_0_05_ln_normalized_totalWeight_end\": -2.1500000000000004, \"bin_step_5_StartYear\": 1760.0, \"bin_step_5_StartYear_range\": \"1760 \\u2013 1765\", \"ln_normalized_totalWeight\": -2.1888920425891873}, {\"StartYear\": \"1822\", \"__count\": 1, \"bin_step_0_05_ln_normalized_totalWeight\": -2.2, \"bin_step_0_05_ln_normalized_totalWeight_end\": -2.1500000000000004, \"bin_step_5_StartYear\": 1820.0, \"bin_step_5_StartYear_range\": \"1820 \\u2013 1825\", \"ln_normalized_totalWeight\": -2.1888920425891873}, {\"StartYear\": \"1733\", \"__count\": 1, \"bin_step_0_05_ln_normalized_totalWeight\": -2.2, \"bin_step_0_05_ln_normalized_totalWeight_end\": -2.1500000000000004, \"bin_step_5_StartYear\": 1730.0, \"bin_step_5_StartYear_range\": \"1730 \\u2013 1735\", \"ln_normalized_totalWeight\": -2.1888920425891873}, {\"StartYear\": \"1731\", \"__count\": 1, \"bin_step_0_05_ln_normalized_totalWeight\": -2.2, \"bin_step_0_05_ln_normalized_totalWeight_end\": -2.1500000000000004, \"bin_step_5_StartYear\": 1730.0, \"bin_step_5_StartYear_range\": \"1730 \\u2013 1735\", \"ln_normalized_totalWeight\": -2.1888920425891873}, {\"StartYear\": \"1843\", \"__count\": 1, \"bin_step_0_05_ln_normalized_totalWeight\": -2.2, \"bin_step_0_05_ln_normalized_totalWeight_end\": -2.1500000000000004, \"bin_step_5_StartYear\": 1840.0, \"bin_step_5_StartYear_range\": \"1840 \\u2013 1845\", \"ln_normalized_totalWeight\": -2.1888920425891873}, {\"StartYear\": \"1897\", \"__count\": 2, \"bin_step_0_05_ln_normalized_totalWeight\": -2.2, \"bin_step_0_05_ln_normalized_totalWeight_end\": -2.1500000000000004, \"bin_step_5_StartYear\": 1895.0, \"bin_step_5_StartYear_range\": \"1895 \\u2013 1900\", \"ln_normalized_totalWeight\": -2.1888920425891873}, {\"StartYear\": \"1665\", \"__count\": 1, \"bin_step_0_05_ln_normalized_totalWeight\": -2.2, \"bin_step_0_05_ln_normalized_totalWeight_end\": -2.1500000000000004, \"bin_step_5_StartYear\": 1665.0, \"bin_step_5_StartYear_range\": \"1665 \\u2013 1670\", \"ln_normalized_totalWeight\": -2.1888920425891873}, {\"StartYear\": \"1783\", \"__count\": 1, \"bin_step_0_05_ln_normalized_totalWeight\": -2.2, \"bin_step_0_05_ln_normalized_totalWeight_end\": -2.1500000000000004, \"bin_step_5_StartYear\": 1780.0, \"bin_step_5_StartYear_range\": \"1780 \\u2013 1785\", \"ln_normalized_totalWeight\": -2.1888920425891873}, {\"StartYear\": \"1852\", \"__count\": 1, \"bin_step_0_05_ln_normalized_totalWeight\": -2.2, \"bin_step_0_05_ln_normalized_totalWeight_end\": -2.1500000000000004, \"bin_step_5_StartYear\": 1850.0, \"bin_step_5_StartYear_range\": \"1850 \\u2013 1855\", \"ln_normalized_totalWeight\": -2.1888920425891873}, {\"StartYear\": \"1805\", \"__count\": 1, \"bin_step_0_05_ln_normalized_totalWeight\": -2.2, \"bin_step_0_05_ln_normalized_totalWeight_end\": -2.1500000000000004, \"bin_step_5_StartYear\": 1805.0, \"bin_step_5_StartYear_range\": \"1805 \\u2013 1810\", \"ln_normalized_totalWeight\": -2.1888920425891873}, {\"StartYear\": \"1858\", \"__count\": 1, \"bin_step_0_05_ln_normalized_totalWeight\": -2.2, \"bin_step_0_05_ln_normalized_totalWeight_end\": -2.1500000000000004, \"bin_step_5_StartYear\": 1855.0, \"bin_step_5_StartYear_range\": \"1855 \\u2013 1860\", \"ln_normalized_totalWeight\": -2.1888920425891873}, {\"StartYear\": \"1865\", \"__count\": 1, \"bin_step_0_05_ln_normalized_totalWeight\": -2.2, \"bin_step_0_05_ln_normalized_totalWeight_end\": -2.1500000000000004, \"bin_step_5_StartYear\": 1865.0, \"bin_step_5_StartYear_range\": \"1865 \\u2013 1870\", \"ln_normalized_totalWeight\": -2.1888920425891873}, {\"StartYear\": \"1883\", \"__count\": 1, \"bin_step_0_05_ln_normalized_totalWeight\": -2.2, \"bin_step_0_05_ln_normalized_totalWeight_end\": -2.1500000000000004, \"bin_step_5_StartYear\": 1880.0, \"bin_step_5_StartYear_range\": \"1880 \\u2013 1885\", \"ln_normalized_totalWeight\": -2.1888920425891873}, {\"StartYear\": \"1754\", \"__count\": 1, \"bin_step_0_05_ln_normalized_totalWeight\": -2.2, \"bin_step_0_05_ln_normalized_totalWeight_end\": -2.1500000000000004, \"bin_step_5_StartYear\": 1750.0, \"bin_step_5_StartYear_range\": \"1750 \\u2013 1755\", \"ln_normalized_totalWeight\": -2.1888920425891873}, {\"StartYear\": \"1833\", \"__count\": 1, \"bin_step_0_05_ln_normalized_totalWeight\": -2.2, \"bin_step_0_05_ln_normalized_totalWeight_end\": -2.1500000000000004, \"bin_step_5_StartYear\": 1830.0, \"bin_step_5_StartYear_range\": \"1830 \\u2013 1835\", \"ln_normalized_totalWeight\": -2.1888920425891873}, {\"StartYear\": \"1791\", \"__count\": 1, \"bin_step_0_05_ln_normalized_totalWeight\": -2.2, \"bin_step_0_05_ln_normalized_totalWeight_end\": -2.1500000000000004, \"bin_step_5_StartYear\": 1790.0, \"bin_step_5_StartYear_range\": \"1790 \\u2013 1795\", \"ln_normalized_totalWeight\": -2.1888920425891873}, {\"StartYear\": \"1846\", \"__count\": 1, \"bin_step_0_05_ln_normalized_totalWeight\": -2.2, \"bin_step_0_05_ln_normalized_totalWeight_end\": -2.1500000000000004, \"bin_step_5_StartYear\": 1845.0, \"bin_step_5_StartYear_range\": \"1845 \\u2013 1850\", \"ln_normalized_totalWeight\": -2.1888920425891873}, {\"StartYear\": \"1826\", \"__count\": 1, \"bin_step_0_05_ln_normalized_totalWeight\": -2.2, \"bin_step_0_05_ln_normalized_totalWeight_end\": -2.1500000000000004, \"bin_step_5_StartYear\": 1825.0, \"bin_step_5_StartYear_range\": \"1825 \\u2013 1830\", \"ln_normalized_totalWeight\": -2.1888920425891873}, {\"StartYear\": \"1847\", \"__count\": 1, \"bin_step_0_05_ln_normalized_totalWeight\": -2.2, \"bin_step_0_05_ln_normalized_totalWeight_end\": -2.1500000000000004, \"bin_step_5_StartYear\": 1845.0, \"bin_step_5_StartYear_range\": \"1845 \\u2013 1850\", \"ln_normalized_totalWeight\": -2.1888920425891873}, {\"StartYear\": \"1815\", \"__count\": 1, \"bin_step_0_05_ln_normalized_totalWeight\": -2.2, \"bin_step_0_05_ln_normalized_totalWeight_end\": -2.1500000000000004, \"bin_step_5_StartYear\": 1815.0, \"bin_step_5_StartYear_range\": \"1815 \\u2013 1820\", \"ln_normalized_totalWeight\": -2.1888920425891873}, {\"StartYear\": \"1873\", \"__count\": 1, \"bin_step_0_05_ln_normalized_totalWeight\": -2.2, \"bin_step_0_05_ln_normalized_totalWeight_end\": -2.1500000000000004, \"bin_step_5_StartYear\": 1870.0, \"bin_step_5_StartYear_range\": \"1870 \\u2013 1875\", \"ln_normalized_totalWeight\": -2.1888920425891873}, {\"StartYear\": \"1864\", \"__count\": 1, \"bin_step_0_05_ln_normalized_totalWeight\": -2.2, \"bin_step_0_05_ln_normalized_totalWeight_end\": -2.1500000000000004, \"bin_step_5_StartYear\": 1860.0, \"bin_step_5_StartYear_range\": \"1860 \\u2013 1865\", \"ln_normalized_totalWeight\": -2.1888920425891873}, {\"StartYear\": \"1867\", \"__count\": 1, \"bin_step_0_05_ln_normalized_totalWeight\": -2.2, \"bin_step_0_05_ln_normalized_totalWeight_end\": -2.1500000000000004, \"bin_step_5_StartYear\": 1865.0, \"bin_step_5_StartYear_range\": \"1865 \\u2013 1870\", \"ln_normalized_totalWeight\": -2.1888920425891873}, {\"StartYear\": \"1790\", \"__count\": 1, \"bin_step_0_05_ln_normalized_totalWeight\": -2.2, \"bin_step_0_05_ln_normalized_totalWeight_end\": -2.1500000000000004, \"bin_step_5_StartYear\": 1790.0, \"bin_step_5_StartYear_range\": \"1790 \\u2013 1795\", \"ln_normalized_totalWeight\": -2.1888920425891873}, {\"StartYear\": \"1663\", \"__count\": 1, \"bin_step_0_05_ln_normalized_totalWeight\": -2.2, \"bin_step_0_05_ln_normalized_totalWeight_end\": -2.1500000000000004, \"bin_step_5_StartYear\": 1660.0, \"bin_step_5_StartYear_range\": \"1660 \\u2013 1665\", \"ln_normalized_totalWeight\": -2.1888920425891873}, {\"StartYear\": \"1763\", \"__count\": 1, \"bin_step_0_05_ln_normalized_totalWeight\": -2.2, \"bin_step_0_05_ln_normalized_totalWeight_end\": -2.1500000000000004, \"bin_step_5_StartYear\": 1760.0, \"bin_step_5_StartYear_range\": \"1760 \\u2013 1765\", \"ln_normalized_totalWeight\": -2.1888920425891873}, {\"StartYear\": \"1892\", \"__count\": 1, \"bin_step_0_05_ln_normalized_totalWeight\": -2.2, \"bin_step_0_05_ln_normalized_totalWeight_end\": -2.1500000000000004, \"bin_step_5_StartYear\": 1890.0, \"bin_step_5_StartYear_range\": \"1890 \\u2013 1895\", \"ln_normalized_totalWeight\": -2.1888920425891873}, {\"StartYear\": \"1880\", \"__count\": 1, \"bin_step_0_05_ln_normalized_totalWeight\": -2.2, \"bin_step_0_05_ln_normalized_totalWeight_end\": -2.1500000000000004, \"bin_step_5_StartYear\": 1880.0, \"bin_step_5_StartYear_range\": \"1880 \\u2013 1885\", \"ln_normalized_totalWeight\": -2.1888920425891873}, {\"StartYear\": \"1849\", \"__count\": 1, \"bin_step_0_05_ln_normalized_totalWeight\": -2.2, \"bin_step_0_05_ln_normalized_totalWeight_end\": -2.1500000000000004, \"bin_step_5_StartYear\": 1845.0, \"bin_step_5_StartYear_range\": \"1845 \\u2013 1850\", \"ln_normalized_totalWeight\": -2.1888920425891873}, {\"StartYear\": \"1900\", \"__count\": 1, \"bin_step_0_05_ln_normalized_totalWeight\": -2.2, \"bin_step_0_05_ln_normalized_totalWeight_end\": -2.1500000000000004, \"bin_step_5_StartYear\": 1900.0, \"bin_step_5_StartYear_range\": \"1900 \\u2013 1905\", \"ln_normalized_totalWeight\": -2.1888920425891873}, {\"StartYear\": \"1796\", \"__count\": 2, \"bin_step_0_05_ln_normalized_totalWeight\": -2.3000000000000003, \"bin_step_0_05_ln_normalized_totalWeight_end\": -2.2500000000000004, \"bin_step_5_StartYear\": 1795.0, \"bin_step_5_StartYear_range\": \"1795 \\u2013 1800\", \"ln_normalized_totalWeight\": -2.286431388161299}, {\"StartYear\": \"1836\", \"__count\": 3, \"bin_step_0_05_ln_normalized_totalWeight\": -2.45, \"bin_step_0_05_ln_normalized_totalWeight_end\": -2.4000000000000004, \"bin_step_5_StartYear\": 1835.0, \"bin_step_5_StartYear_range\": \"1835 \\u2013 1840\", \"ln_normalized_totalWeight\": -2.42936831752877}, {\"StartYear\": \"1875\", \"__count\": 1, \"bin_step_0_05_ln_normalized_totalWeight\": -2.45, \"bin_step_0_05_ln_normalized_totalWeight_end\": -2.4000000000000004, \"bin_step_5_StartYear\": 1875.0, \"bin_step_5_StartYear_range\": \"1875 \\u2013 1880\", \"ln_normalized_totalWeight\": -2.42936831752877}, {\"StartYear\": \"1883\", \"__count\": 1, \"bin_step_0_05_ln_normalized_totalWeight\": -2.45, \"bin_step_0_05_ln_normalized_totalWeight_end\": -2.4000000000000004, \"bin_step_5_StartYear\": 1880.0, \"bin_step_5_StartYear_range\": \"1880 \\u2013 1885\", \"ln_normalized_totalWeight\": -2.42936831752877}, {\"StartYear\": \"1796\", \"__count\": 4, \"bin_step_0_05_ln_normalized_totalWeight\": -2.45, \"bin_step_0_05_ln_normalized_totalWeight_end\": -2.4000000000000004, \"bin_step_5_StartYear\": 1795.0, \"bin_step_5_StartYear_range\": \"1795 \\u2013 1800\", \"ln_normalized_totalWeight\": -2.42936831752877}, {\"StartYear\": \"1851\", \"__count\": 1, \"bin_step_0_05_ln_normalized_totalWeight\": -2.45, \"bin_step_0_05_ln_normalized_totalWeight_end\": -2.4000000000000004, \"bin_step_5_StartYear\": 1850.0, \"bin_step_5_StartYear_range\": \"1850 \\u2013 1855\", \"ln_normalized_totalWeight\": -2.42936831752877}, {\"StartYear\": \"1644\", \"__count\": 2, \"bin_step_0_05_ln_normalized_totalWeight\": -2.45, \"bin_step_0_05_ln_normalized_totalWeight_end\": -2.4000000000000004, \"bin_step_5_StartYear\": 1640.0, \"bin_step_5_StartYear_range\": \"1640 \\u2013 1645\", \"ln_normalized_totalWeight\": -2.42936831752877}, {\"StartYear\": \"1850\", \"__count\": 1, \"bin_step_0_05_ln_normalized_totalWeight\": -2.45, \"bin_step_0_05_ln_normalized_totalWeight_end\": -2.4000000000000004, \"bin_step_5_StartYear\": 1850.0, \"bin_step_5_StartYear_range\": \"1850 \\u2013 1855\", \"ln_normalized_totalWeight\": -2.42936831752877}, {\"StartYear\": \"1820\", \"__count\": 1, \"bin_step_0_05_ln_normalized_totalWeight\": -2.45, \"bin_step_0_05_ln_normalized_totalWeight_end\": -2.4000000000000004, \"bin_step_5_StartYear\": 1820.0, \"bin_step_5_StartYear_range\": \"1820 \\u2013 1825\", \"ln_normalized_totalWeight\": -2.42936831752877}, {\"StartYear\": \"1826\", \"__count\": 1, \"bin_step_0_05_ln_normalized_totalWeight\": -2.45, \"bin_step_0_05_ln_normalized_totalWeight_end\": -2.4000000000000004, \"bin_step_5_StartYear\": 1825.0, \"bin_step_5_StartYear_range\": \"1825 \\u2013 1830\", \"ln_normalized_totalWeight\": -2.42936831752877}, {\"StartYear\": \"1797\", \"__count\": 2, \"bin_step_0_05_ln_normalized_totalWeight\": -2.45, \"bin_step_0_05_ln_normalized_totalWeight_end\": -2.4000000000000004, \"bin_step_5_StartYear\": 1795.0, \"bin_step_5_StartYear_range\": \"1795 \\u2013 1800\", \"ln_normalized_totalWeight\": -2.42936831752877}, {\"StartYear\": \"1821\", \"__count\": 1, \"bin_step_0_05_ln_normalized_totalWeight\": -2.45, \"bin_step_0_05_ln_normalized_totalWeight_end\": -2.4000000000000004, \"bin_step_5_StartYear\": 1820.0, \"bin_step_5_StartYear_range\": \"1820 \\u2013 1825\", \"ln_normalized_totalWeight\": -2.42936831752877}, {\"StartYear\": \"1766\", \"__count\": 2, \"bin_step_0_05_ln_normalized_totalWeight\": -2.45, \"bin_step_0_05_ln_normalized_totalWeight_end\": -2.4000000000000004, \"bin_step_5_StartYear\": 1765.0, \"bin_step_5_StartYear_range\": \"1765 \\u2013 1770\", \"ln_normalized_totalWeight\": -2.42936831752877}, {\"StartYear\": \"1829\", \"__count\": 1, \"bin_step_0_05_ln_normalized_totalWeight\": -2.45, \"bin_step_0_05_ln_normalized_totalWeight_end\": -2.4000000000000004, \"bin_step_5_StartYear\": 1825.0, \"bin_step_5_StartYear_range\": \"1825 \\u2013 1830\", \"ln_normalized_totalWeight\": -2.42936831752877}, {\"StartYear\": \"1628\", \"__count\": 1, \"bin_step_0_05_ln_normalized_totalWeight\": -2.45, \"bin_step_0_05_ln_normalized_totalWeight_end\": -2.4000000000000004, \"bin_step_5_StartYear\": 1625.0, \"bin_step_5_StartYear_range\": \"1625 \\u2013 1630\", \"ln_normalized_totalWeight\": -2.42936831752877}, {\"StartYear\": \"1862\", \"__count\": 2, \"bin_step_0_05_ln_normalized_totalWeight\": -2.6, \"bin_step_0_05_ln_normalized_totalWeight_end\": -2.5500000000000003, \"bin_step_5_StartYear\": 1860.0, \"bin_step_5_StartYear_range\": \"1860 \\u2013 1865\", \"ln_normalized_totalWeight\": -2.596198926019153}, {\"StartYear\": \"1644\", \"__count\": 12, \"bin_step_0_05_ln_normalized_totalWeight\": -2.6, \"bin_step_0_05_ln_normalized_totalWeight_end\": -2.5500000000000003, \"bin_step_5_StartYear\": 1640.0, \"bin_step_5_StartYear_range\": \"1640 \\u2013 1645\", \"ln_normalized_totalWeight\": -2.596198926019153}, {\"StartYear\": \"1796\", \"__count\": 2, \"bin_step_0_05_ln_normalized_totalWeight\": -2.6, \"bin_step_0_05_ln_normalized_totalWeight_end\": -2.5500000000000003, \"bin_step_5_StartYear\": 1795.0, \"bin_step_5_StartYear_range\": \"1795 \\u2013 1800\", \"ln_normalized_totalWeight\": -2.596198926019153}, {\"StartYear\": \"1816\", \"__count\": 1, \"bin_step_0_05_ln_normalized_totalWeight\": -2.6, \"bin_step_0_05_ln_normalized_totalWeight_end\": -2.5500000000000003, \"bin_step_5_StartYear\": 1815.0, \"bin_step_5_StartYear_range\": \"1815 \\u2013 1820\", \"ln_normalized_totalWeight\": -2.596198926019153}, {\"StartYear\": \"1851\", \"__count\": 2, \"bin_step_0_05_ln_normalized_totalWeight\": -2.6, \"bin_step_0_05_ln_normalized_totalWeight_end\": -2.5500000000000003, \"bin_step_5_StartYear\": 1850.0, \"bin_step_5_StartYear_range\": \"1850 \\u2013 1855\", \"ln_normalized_totalWeight\": -2.596198926019153}, {\"StartYear\": \"1736\", \"__count\": 3, \"bin_step_0_05_ln_normalized_totalWeight\": -2.6, \"bin_step_0_05_ln_normalized_totalWeight_end\": -2.5500000000000003, \"bin_step_5_StartYear\": 1735.0, \"bin_step_5_StartYear_range\": \"1735 \\u2013 1740\", \"ln_normalized_totalWeight\": -2.596198926019153}, {\"StartYear\": \"missing\", \"__count\": 3, \"bin_step_0_05_ln_normalized_totalWeight\": -2.6, \"bin_step_0_05_ln_normalized_totalWeight_end\": -2.5500000000000003, \"bin_step_5_StartYear\": null, \"bin_step_5_StartYear_range\": \"null\", \"ln_normalized_totalWeight\": -2.596198926019153}, {\"StartYear\": \"1827\", \"__count\": 1, \"bin_step_0_05_ln_normalized_totalWeight\": -2.6, \"bin_step_0_05_ln_normalized_totalWeight_end\": -2.5500000000000003, \"bin_step_5_StartYear\": 1825.0, \"bin_step_5_StartYear_range\": \"1825 \\u2013 1830\", \"ln_normalized_totalWeight\": -2.596198926019153}, {\"StartYear\": \"1821\", \"__count\": 3, \"bin_step_0_05_ln_normalized_totalWeight\": -2.6, \"bin_step_0_05_ln_normalized_totalWeight_end\": -2.5500000000000003, \"bin_step_5_StartYear\": 1820.0, \"bin_step_5_StartYear_range\": \"1820 \\u2013 1825\", \"ln_normalized_totalWeight\": -2.596198926019153}, {\"StartYear\": \"1820\", \"__count\": 2, \"bin_step_0_05_ln_normalized_totalWeight\": -2.6, \"bin_step_0_05_ln_normalized_totalWeight_end\": -2.5500000000000003, \"bin_step_5_StartYear\": 1820.0, \"bin_step_5_StartYear_range\": \"1820 \\u2013 1825\", \"ln_normalized_totalWeight\": -2.596198926019153}, {\"StartYear\": \"1825\", \"__count\": 1, \"bin_step_0_05_ln_normalized_totalWeight\": -2.6, \"bin_step_0_05_ln_normalized_totalWeight_end\": -2.5500000000000003, \"bin_step_5_StartYear\": 1825.0, \"bin_step_5_StartYear_range\": \"1825 \\u2013 1830\", \"ln_normalized_totalWeight\": -2.596198926019153}, {\"StartYear\": \"1662\", \"__count\": 1, \"bin_step_0_05_ln_normalized_totalWeight\": -2.6, \"bin_step_0_05_ln_normalized_totalWeight_end\": -2.5500000000000003, \"bin_step_5_StartYear\": 1660.0, \"bin_step_5_StartYear_range\": \"1660 \\u2013 1665\", \"ln_normalized_totalWeight\": -2.596198926019153}, {\"StartYear\": \"1809\", \"__count\": 1, \"bin_step_0_05_ln_normalized_totalWeight\": -2.6, \"bin_step_0_05_ln_normalized_totalWeight_end\": -2.5500000000000003, \"bin_step_5_StartYear\": 1805.0, \"bin_step_5_StartYear_range\": \"1805 \\u2013 1810\", \"ln_normalized_totalWeight\": -2.596198926019153}, {\"StartYear\": \"1750\", \"__count\": 1, \"bin_step_0_05_ln_normalized_totalWeight\": -2.6, \"bin_step_0_05_ln_normalized_totalWeight_end\": -2.5500000000000003, \"bin_step_5_StartYear\": 1750.0, \"bin_step_5_StartYear_range\": \"1750 \\u2013 1755\", \"ln_normalized_totalWeight\": -2.596198926019153}, {\"StartYear\": \"1756\", \"__count\": 1, \"bin_step_0_05_ln_normalized_totalWeight\": -2.6, \"bin_step_0_05_ln_normalized_totalWeight_end\": -2.5500000000000003, \"bin_step_5_StartYear\": 1755.0, \"bin_step_5_StartYear_range\": \"1755 \\u2013 1760\", \"ln_normalized_totalWeight\": -2.596198926019153}, {\"StartYear\": \"1858\", \"__count\": 1, \"bin_step_0_05_ln_normalized_totalWeight\": -2.6, \"bin_step_0_05_ln_normalized_totalWeight_end\": -2.5500000000000003, \"bin_step_5_StartYear\": 1855.0, \"bin_step_5_StartYear_range\": \"1855 \\u2013 1860\", \"ln_normalized_totalWeight\": -2.596198926019153}, {\"StartYear\": \"1755\", \"__count\": 1, \"bin_step_0_05_ln_normalized_totalWeight\": -2.6, \"bin_step_0_05_ln_normalized_totalWeight_end\": -2.5500000000000003, \"bin_step_5_StartYear\": 1755.0, \"bin_step_5_StartYear_range\": \"1755 \\u2013 1760\", \"ln_normalized_totalWeight\": -2.596198926019153}, {\"StartYear\": \"1810\", \"__count\": 1, \"bin_step_0_05_ln_normalized_totalWeight\": -2.6, \"bin_step_0_05_ln_normalized_totalWeight_end\": -2.5500000000000003, \"bin_step_5_StartYear\": 1810.0, \"bin_step_5_StartYear_range\": \"1810 \\u2013 1815\", \"ln_normalized_totalWeight\": -2.596198926019153}, {\"StartYear\": \"1866\", \"__count\": 1, \"bin_step_0_05_ln_normalized_totalWeight\": -2.6, \"bin_step_0_05_ln_normalized_totalWeight_end\": -2.5500000000000003, \"bin_step_5_StartYear\": 1865.0, \"bin_step_5_StartYear_range\": \"1865 \\u2013 1870\", \"ln_normalized_totalWeight\": -2.596198926019153}, {\"StartYear\": \"1834\", \"__count\": 1, \"bin_step_0_05_ln_normalized_totalWeight\": -2.6, \"bin_step_0_05_ln_normalized_totalWeight_end\": -2.5500000000000003, \"bin_step_5_StartYear\": 1830.0, \"bin_step_5_StartYear_range\": \"1830 \\u2013 1835\", \"ln_normalized_totalWeight\": -2.596198926019153}, {\"StartYear\": \"1790\", \"__count\": 1, \"bin_step_0_05_ln_normalized_totalWeight\": -2.6, \"bin_step_0_05_ln_normalized_totalWeight_end\": -2.5500000000000003, \"bin_step_5_StartYear\": 1790.0, \"bin_step_5_StartYear_range\": \"1790 \\u2013 1795\", \"ln_normalized_totalWeight\": -2.596198926019153}, {\"StartYear\": \"1800\", \"__count\": 1, \"bin_step_0_05_ln_normalized_totalWeight\": -2.6, \"bin_step_0_05_ln_normalized_totalWeight_end\": -2.5500000000000003, \"bin_step_5_StartYear\": 1800.0, \"bin_step_5_StartYear_range\": \"1800 \\u2013 1805\", \"ln_normalized_totalWeight\": -2.596198926019153}, {\"StartYear\": \"1819\", \"__count\": 1, \"bin_step_0_05_ln_normalized_totalWeight\": -2.6, \"bin_step_0_05_ln_normalized_totalWeight_end\": -2.5500000000000003, \"bin_step_5_StartYear\": 1815.0, \"bin_step_5_StartYear_range\": \"1815 \\u2013 1820\", \"ln_normalized_totalWeight\": -2.596198926019153}, {\"StartYear\": \"1831\", \"__count\": 1, \"bin_step_0_05_ln_normalized_totalWeight\": -2.6, \"bin_step_0_05_ln_normalized_totalWeight_end\": -2.5500000000000003, \"bin_step_5_StartYear\": 1830.0, \"bin_step_5_StartYear_range\": \"1830 \\u2013 1835\", \"ln_normalized_totalWeight\": -2.596198926019153}, {\"StartYear\": \"1840\", \"__count\": 1, \"bin_step_0_05_ln_normalized_totalWeight\": -2.6, \"bin_step_0_05_ln_normalized_totalWeight_end\": -2.5500000000000003, \"bin_step_5_StartYear\": 1840.0, \"bin_step_5_StartYear_range\": \"1840 \\u2013 1845\", \"ln_normalized_totalWeight\": -2.596198926019153}, {\"StartYear\": \"1644\", \"__count\": 107, \"bin_step_0_05_ln_normalized_totalWeight\": -2.8000000000000003, \"bin_step_0_05_ln_normalized_totalWeight_end\": -2.7500000000000004, \"bin_step_5_StartYear\": 1640.0, \"bin_step_5_StartYear_range\": \"1640 \\u2013 1645\", \"ln_normalized_totalWeight\": -2.7965469107080314}, {\"StartYear\": \"missing\", \"__count\": 426, \"bin_step_0_05_ln_normalized_totalWeight\": -2.8000000000000003, \"bin_step_0_05_ln_normalized_totalWeight_end\": -2.7500000000000004, \"bin_step_5_StartYear\": null, \"bin_step_5_StartYear_range\": \"null\", \"ln_normalized_totalWeight\": -2.7965469107080314}, {\"StartYear\": \"1855\", \"__count\": 9, \"bin_step_0_05_ln_normalized_totalWeight\": -2.8000000000000003, \"bin_step_0_05_ln_normalized_totalWeight_end\": -2.7500000000000004, \"bin_step_5_StartYear\": 1855.0, \"bin_step_5_StartYear_range\": \"1855 \\u2013 1860\", \"ln_normalized_totalWeight\": -2.7965469107080314}, {\"StartYear\": \"1856\", \"__count\": 7, \"bin_step_0_05_ln_normalized_totalWeight\": -2.8000000000000003, \"bin_step_0_05_ln_normalized_totalWeight_end\": -2.7500000000000004, \"bin_step_5_StartYear\": 1855.0, \"bin_step_5_StartYear_range\": \"1855 \\u2013 1860\", \"ln_normalized_totalWeight\": -2.7965469107080314}, {\"StartYear\": \"1890\", \"__count\": 8, \"bin_step_0_05_ln_normalized_totalWeight\": -2.8000000000000003, \"bin_step_0_05_ln_normalized_totalWeight_end\": -2.7500000000000004, \"bin_step_5_StartYear\": 1890.0, \"bin_step_5_StartYear_range\": \"1890 \\u2013 1895\", \"ln_normalized_totalWeight\": -2.7965469107080314}, {\"StartYear\": \"1796\", \"__count\": 179, \"bin_step_0_05_ln_normalized_totalWeight\": -2.8000000000000003, \"bin_step_0_05_ln_normalized_totalWeight_end\": -2.7500000000000004, \"bin_step_5_StartYear\": 1795.0, \"bin_step_5_StartYear_range\": \"1795 \\u2013 1800\", \"ln_normalized_totalWeight\": -2.7965469107080314}, {\"StartYear\": \"1875\", \"__count\": 41, \"bin_step_0_05_ln_normalized_totalWeight\": -2.8000000000000003, \"bin_step_0_05_ln_normalized_totalWeight_end\": -2.7500000000000004, \"bin_step_5_StartYear\": 1875.0, \"bin_step_5_StartYear_range\": \"1875 \\u2013 1880\", \"ln_normalized_totalWeight\": -2.7965469107080314}, {\"StartYear\": \"1901\", \"__count\": 6, \"bin_step_0_05_ln_normalized_totalWeight\": -2.8000000000000003, \"bin_step_0_05_ln_normalized_totalWeight_end\": -2.7500000000000004, \"bin_step_5_StartYear\": 1900.0, \"bin_step_5_StartYear_range\": \"1900 \\u2013 1905\", \"ln_normalized_totalWeight\": -2.7965469107080314}, {\"StartYear\": \"1750\", \"__count\": 11, \"bin_step_0_05_ln_normalized_totalWeight\": -2.8000000000000003, \"bin_step_0_05_ln_normalized_totalWeight_end\": -2.7500000000000004, \"bin_step_5_StartYear\": 1750.0, \"bin_step_5_StartYear_range\": \"1750 \\u2013 1755\", \"ln_normalized_totalWeight\": -2.7965469107080314}, {\"StartYear\": \"1821\", \"__count\": 111, \"bin_step_0_05_ln_normalized_totalWeight\": -2.8000000000000003, \"bin_step_0_05_ln_normalized_totalWeight_end\": -2.7500000000000004, \"bin_step_5_StartYear\": 1820.0, \"bin_step_5_StartYear_range\": \"1820 \\u2013 1825\", \"ln_normalized_totalWeight\": -2.7965469107080314}, {\"StartYear\": \"1785\", \"__count\": 9, \"bin_step_0_05_ln_normalized_totalWeight\": -2.8000000000000003, \"bin_step_0_05_ln_normalized_totalWeight_end\": -2.7500000000000004, \"bin_step_5_StartYear\": 1785.0, \"bin_step_5_StartYear_range\": \"1785 \\u2013 1790\", \"ln_normalized_totalWeight\": -2.7965469107080314}, {\"StartYear\": \"1798\", \"__count\": 4, \"bin_step_0_05_ln_normalized_totalWeight\": -2.8000000000000003, \"bin_step_0_05_ln_normalized_totalWeight_end\": -2.7500000000000004, \"bin_step_5_StartYear\": 1795.0, \"bin_step_5_StartYear_range\": \"1795 \\u2013 1800\", \"ln_normalized_totalWeight\": -2.7965469107080314}, {\"StartYear\": \"1758\", \"__count\": 2, \"bin_step_0_05_ln_normalized_totalWeight\": -2.8000000000000003, \"bin_step_0_05_ln_normalized_totalWeight_end\": -2.7500000000000004, \"bin_step_5_StartYear\": 1755.0, \"bin_step_5_StartYear_range\": \"1755 \\u2013 1760\", \"ln_normalized_totalWeight\": -2.7965469107080314}, {\"StartYear\": \"1849\", \"__count\": 18, \"bin_step_0_05_ln_normalized_totalWeight\": -2.8000000000000003, \"bin_step_0_05_ln_normalized_totalWeight_end\": -2.7500000000000004, \"bin_step_5_StartYear\": 1845.0, \"bin_step_5_StartYear_range\": \"1845 \\u2013 1850\", \"ln_normalized_totalWeight\": -2.7965469107080314}, {\"StartYear\": \"1735\", \"__count\": 9, \"bin_step_0_05_ln_normalized_totalWeight\": -2.8000000000000003, \"bin_step_0_05_ln_normalized_totalWeight_end\": -2.7500000000000004, \"bin_step_5_StartYear\": 1735.0, \"bin_step_5_StartYear_range\": \"1735 \\u2013 1740\", \"ln_normalized_totalWeight\": -2.7965469107080314}, {\"StartYear\": \"1850\", \"__count\": 127, \"bin_step_0_05_ln_normalized_totalWeight\": -2.8000000000000003, \"bin_step_0_05_ln_normalized_totalWeight_end\": -2.7500000000000004, \"bin_step_5_StartYear\": 1850.0, \"bin_step_5_StartYear_range\": \"1850 \\u2013 1855\", \"ln_normalized_totalWeight\": -2.7965469107080314}, {\"StartYear\": \"1801\", \"__count\": 5, \"bin_step_0_05_ln_normalized_totalWeight\": -2.8000000000000003, \"bin_step_0_05_ln_normalized_totalWeight_end\": -2.7500000000000004, \"bin_step_5_StartYear\": 1800.0, \"bin_step_5_StartYear_range\": \"1800 \\u2013 1805\", \"ln_normalized_totalWeight\": -2.7965469107080314}, {\"StartYear\": \"1787\", \"__count\": 3, \"bin_step_0_05_ln_normalized_totalWeight\": -2.8000000000000003, \"bin_step_0_05_ln_normalized_totalWeight_end\": -2.7500000000000004, \"bin_step_5_StartYear\": 1785.0, \"bin_step_5_StartYear_range\": \"1785 \\u2013 1790\", \"ln_normalized_totalWeight\": -2.7965469107080314}, {\"StartYear\": \"1738\", \"__count\": 1, \"bin_step_0_05_ln_normalized_totalWeight\": -2.8000000000000003, \"bin_step_0_05_ln_normalized_totalWeight_end\": -2.7500000000000004, \"bin_step_5_StartYear\": 1735.0, \"bin_step_5_StartYear_range\": \"1735 \\u2013 1740\", \"ln_normalized_totalWeight\": -2.7965469107080314}, {\"StartYear\": \"1869\", \"__count\": 5, \"bin_step_0_05_ln_normalized_totalWeight\": -2.8000000000000003, \"bin_step_0_05_ln_normalized_totalWeight_end\": -2.7500000000000004, \"bin_step_5_StartYear\": 1865.0, \"bin_step_5_StartYear_range\": \"1865 \\u2013 1870\", \"ln_normalized_totalWeight\": -2.7965469107080314}, {\"StartYear\": \"1721\", \"__count\": 1, \"bin_step_0_05_ln_normalized_totalWeight\": -2.8000000000000003, \"bin_step_0_05_ln_normalized_totalWeight_end\": -2.7500000000000004, \"bin_step_5_StartYear\": 1720.0, \"bin_step_5_StartYear_range\": \"1720 \\u2013 1725\", \"ln_normalized_totalWeight\": -2.7965469107080314}, {\"StartYear\": \"1825\", \"__count\": 7, \"bin_step_0_05_ln_normalized_totalWeight\": -2.8000000000000003, \"bin_step_0_05_ln_normalized_totalWeight_end\": -2.7500000000000004, \"bin_step_5_StartYear\": 1825.0, \"bin_step_5_StartYear_range\": \"1825 \\u2013 1830\", \"ln_normalized_totalWeight\": -2.7965469107080314}, {\"StartYear\": \"1870\", \"__count\": 15, \"bin_step_0_05_ln_normalized_totalWeight\": -2.8000000000000003, \"bin_step_0_05_ln_normalized_totalWeight_end\": -2.7500000000000004, \"bin_step_5_StartYear\": 1870.0, \"bin_step_5_StartYear_range\": \"1870 \\u2013 1875\", \"ln_normalized_totalWeight\": -2.7965469107080314}, {\"StartYear\": \"1835\", \"__count\": 4, \"bin_step_0_05_ln_normalized_totalWeight\": -2.8000000000000003, \"bin_step_0_05_ln_normalized_totalWeight_end\": -2.7500000000000004, \"bin_step_5_StartYear\": 1835.0, \"bin_step_5_StartYear_range\": \"1835 \\u2013 1840\", \"ln_normalized_totalWeight\": -2.7965469107080314}, {\"StartYear\": \"1755\", \"__count\": 8, \"bin_step_0_05_ln_normalized_totalWeight\": -2.8000000000000003, \"bin_step_0_05_ln_normalized_totalWeight_end\": -2.7500000000000004, \"bin_step_5_StartYear\": 1755.0, \"bin_step_5_StartYear_range\": \"1755 \\u2013 1760\", \"ln_normalized_totalWeight\": -2.7965469107080314}, {\"StartYear\": \"1881\", \"__count\": 7, \"bin_step_0_05_ln_normalized_totalWeight\": -2.8000000000000003, \"bin_step_0_05_ln_normalized_totalWeight_end\": -2.7500000000000004, \"bin_step_5_StartYear\": 1880.0, \"bin_step_5_StartYear_range\": \"1880 \\u2013 1885\", \"ln_normalized_totalWeight\": -2.7965469107080314}, {\"StartYear\": \"1845\", \"__count\": 7, \"bin_step_0_05_ln_normalized_totalWeight\": -2.8000000000000003, \"bin_step_0_05_ln_normalized_totalWeight_end\": -2.7500000000000004, \"bin_step_5_StartYear\": 1845.0, \"bin_step_5_StartYear_range\": \"1845 \\u2013 1850\", \"ln_normalized_totalWeight\": -2.7965469107080314}, {\"StartYear\": \"1829\", \"__count\": 2, \"bin_step_0_05_ln_normalized_totalWeight\": -2.8000000000000003, \"bin_step_0_05_ln_normalized_totalWeight_end\": -2.7500000000000004, \"bin_step_5_StartYear\": 1825.0, \"bin_step_5_StartYear_range\": \"1825 \\u2013 1830\", \"ln_normalized_totalWeight\": -2.7965469107080314}, {\"StartYear\": \"1765\", \"__count\": 5, \"bin_step_0_05_ln_normalized_totalWeight\": -2.8000000000000003, \"bin_step_0_05_ln_normalized_totalWeight_end\": -2.7500000000000004, \"bin_step_5_StartYear\": 1765.0, \"bin_step_5_StartYear_range\": \"1765 \\u2013 1770\", \"ln_normalized_totalWeight\": -2.7965469107080314}, {\"StartYear\": \"1620\", \"__count\": 1, \"bin_step_0_05_ln_normalized_totalWeight\": -2.8000000000000003, \"bin_step_0_05_ln_normalized_totalWeight_end\": -2.7500000000000004, \"bin_step_5_StartYear\": 1620.0, \"bin_step_5_StartYear_range\": \"1620 \\u2013 1625\", \"ln_normalized_totalWeight\": -2.7965469107080314}, {\"StartYear\": \"1854\", \"__count\": 4, \"bin_step_0_05_ln_normalized_totalWeight\": -2.8000000000000003, \"bin_step_0_05_ln_normalized_totalWeight_end\": -2.7500000000000004, \"bin_step_5_StartYear\": 1850.0, \"bin_step_5_StartYear_range\": \"1850 \\u2013 1855\", \"ln_normalized_totalWeight\": -2.7965469107080314}, {\"StartYear\": \"1723\", \"__count\": 6, \"bin_step_0_05_ln_normalized_totalWeight\": -2.8000000000000003, \"bin_step_0_05_ln_normalized_totalWeight_end\": -2.7500000000000004, \"bin_step_5_StartYear\": 1720.0, \"bin_step_5_StartYear_range\": \"1720 \\u2013 1725\", \"ln_normalized_totalWeight\": -2.7965469107080314}, {\"StartYear\": \"1790\", \"__count\": 27, \"bin_step_0_05_ln_normalized_totalWeight\": -2.8000000000000003, \"bin_step_0_05_ln_normalized_totalWeight_end\": -2.7500000000000004, \"bin_step_5_StartYear\": 1790.0, \"bin_step_5_StartYear_range\": \"1790 \\u2013 1795\", \"ln_normalized_totalWeight\": -2.7965469107080314}, {\"StartYear\": \"1662\", \"__count\": 17, \"bin_step_0_05_ln_normalized_totalWeight\": -2.8000000000000003, \"bin_step_0_05_ln_normalized_totalWeight_end\": -2.7500000000000004, \"bin_step_5_StartYear\": 1660.0, \"bin_step_5_StartYear_range\": \"1660 \\u2013 1665\", \"ln_normalized_totalWeight\": -2.7965469107080314}, {\"StartYear\": \"1740\", \"__count\": 9, \"bin_step_0_05_ln_normalized_totalWeight\": -2.8000000000000003, \"bin_step_0_05_ln_normalized_totalWeight_end\": -2.7500000000000004, \"bin_step_5_StartYear\": 1740.0, \"bin_step_5_StartYear_range\": \"1740 \\u2013 1745\", \"ln_normalized_totalWeight\": -2.7965469107080314}, {\"StartYear\": \"1775\", \"__count\": 3, \"bin_step_0_05_ln_normalized_totalWeight\": -2.8000000000000003, \"bin_step_0_05_ln_normalized_totalWeight_end\": -2.7500000000000004, \"bin_step_5_StartYear\": 1775.0, \"bin_step_5_StartYear_range\": \"1775 \\u2013 1780\", \"ln_normalized_totalWeight\": -2.7965469107080314}, {\"StartYear\": \"1851\", \"__count\": 37, \"bin_step_0_05_ln_normalized_totalWeight\": -2.8000000000000003, \"bin_step_0_05_ln_normalized_totalWeight_end\": -2.7500000000000004, \"bin_step_5_StartYear\": 1850.0, \"bin_step_5_StartYear_range\": \"1850 \\u2013 1855\", \"ln_normalized_totalWeight\": -2.7965469107080314}, {\"StartYear\": \"1776\", \"__count\": 6, \"bin_step_0_05_ln_normalized_totalWeight\": -2.8000000000000003, \"bin_step_0_05_ln_normalized_totalWeight_end\": -2.7500000000000004, \"bin_step_5_StartYear\": 1775.0, \"bin_step_5_StartYear_range\": \"1775 \\u2013 1780\", \"ln_normalized_totalWeight\": -2.7965469107080314}, {\"StartYear\": \"1844\", \"__count\": 6, \"bin_step_0_05_ln_normalized_totalWeight\": -2.8000000000000003, \"bin_step_0_05_ln_normalized_totalWeight_end\": -2.7500000000000004, \"bin_step_5_StartYear\": 1840.0, \"bin_step_5_StartYear_range\": \"1840 \\u2013 1845\", \"ln_normalized_totalWeight\": -2.7965469107080314}, {\"StartYear\": \"1600\", \"__count\": 5, \"bin_step_0_05_ln_normalized_totalWeight\": -2.8000000000000003, \"bin_step_0_05_ln_normalized_totalWeight_end\": -2.7500000000000004, \"bin_step_5_StartYear\": 1600.0, \"bin_step_5_StartYear_range\": \"1600 \\u2013 1605\", \"ln_normalized_totalWeight\": -2.7965469107080314}, {\"StartYear\": \"1774\", \"__count\": 3, \"bin_step_0_05_ln_normalized_totalWeight\": -2.8000000000000003, \"bin_step_0_05_ln_normalized_totalWeight_end\": -2.7500000000000004, \"bin_step_5_StartYear\": 1770.0, \"bin_step_5_StartYear_range\": \"1770 \\u2013 1775\", \"ln_normalized_totalWeight\": -2.7965469107080314}, {\"StartYear\": \"1795\", \"__count\": 8, \"bin_step_0_05_ln_normalized_totalWeight\": -2.8000000000000003, \"bin_step_0_05_ln_normalized_totalWeight_end\": -2.7500000000000004, \"bin_step_5_StartYear\": 1795.0, \"bin_step_5_StartYear_range\": \"1795 \\u2013 1800\", \"ln_normalized_totalWeight\": -2.7965469107080314}, {\"StartYear\": \"1692\", \"__count\": 2, \"bin_step_0_05_ln_normalized_totalWeight\": -2.8000000000000003, \"bin_step_0_05_ln_normalized_totalWeight_end\": -2.7500000000000004, \"bin_step_5_StartYear\": 1690.0, \"bin_step_5_StartYear_range\": \"1690 \\u2013 1695\", \"ln_normalized_totalWeight\": -2.7965469107080314}, {\"StartYear\": \"1867\", \"__count\": 7, \"bin_step_0_05_ln_normalized_totalWeight\": -2.8000000000000003, \"bin_step_0_05_ln_normalized_totalWeight_end\": -2.7500000000000004, \"bin_step_5_StartYear\": 1865.0, \"bin_step_5_StartYear_range\": \"1865 \\u2013 1870\", \"ln_normalized_totalWeight\": -2.7965469107080314}, {\"StartYear\": \"1862\", \"__count\": 23, \"bin_step_0_05_ln_normalized_totalWeight\": -2.8000000000000003, \"bin_step_0_05_ln_normalized_totalWeight_end\": -2.7500000000000004, \"bin_step_5_StartYear\": 1860.0, \"bin_step_5_StartYear_range\": \"1860 \\u2013 1865\", \"ln_normalized_totalWeight\": -2.7965469107080314}, {\"StartYear\": \"1711\", \"__count\": 22, \"bin_step_0_05_ln_normalized_totalWeight\": -2.8000000000000003, \"bin_step_0_05_ln_normalized_totalWeight_end\": -2.7500000000000004, \"bin_step_5_StartYear\": 1710.0, \"bin_step_5_StartYear_range\": \"1710 \\u2013 1715\", \"ln_normalized_totalWeight\": -2.7965469107080314}, {\"StartYear\": \"1815\", \"__count\": 11, \"bin_step_0_05_ln_normalized_totalWeight\": -2.8000000000000003, \"bin_step_0_05_ln_normalized_totalWeight_end\": -2.7500000000000004, \"bin_step_5_StartYear\": 1815.0, \"bin_step_5_StartYear_range\": \"1815 \\u2013 1820\", \"ln_normalized_totalWeight\": -2.7965469107080314}, {\"StartYear\": \"1809\", \"__count\": 2, \"bin_step_0_05_ln_normalized_totalWeight\": -2.8000000000000003, \"bin_step_0_05_ln_normalized_totalWeight_end\": -2.7500000000000004, \"bin_step_5_StartYear\": 1805.0, \"bin_step_5_StartYear_range\": \"1805 \\u2013 1810\", \"ln_normalized_totalWeight\": -2.7965469107080314}, {\"StartYear\": \"1817\", \"__count\": 6, \"bin_step_0_05_ln_normalized_totalWeight\": -2.8000000000000003, \"bin_step_0_05_ln_normalized_totalWeight_end\": -2.7500000000000004, \"bin_step_5_StartYear\": 1815.0, \"bin_step_5_StartYear_range\": \"1815 \\u2013 1820\", \"ln_normalized_totalWeight\": -2.7965469107080314}, {\"StartYear\": \"1670\", \"__count\": 1, \"bin_step_0_05_ln_normalized_totalWeight\": -2.8000000000000003, \"bin_step_0_05_ln_normalized_totalWeight_end\": -2.7500000000000004, \"bin_step_5_StartYear\": 1670.0, \"bin_step_5_StartYear_range\": \"1670 \\u2013 1675\", \"ln_normalized_totalWeight\": -2.7965469107080314}, {\"StartYear\": \"1744\", \"__count\": 2, \"bin_step_0_05_ln_normalized_totalWeight\": -2.8000000000000003, \"bin_step_0_05_ln_normalized_totalWeight_end\": -2.7500000000000004, \"bin_step_5_StartYear\": 1740.0, \"bin_step_5_StartYear_range\": \"1740 \\u2013 1745\", \"ln_normalized_totalWeight\": -2.7965469107080314}, {\"StartYear\": \"1826\", \"__count\": 9, \"bin_step_0_05_ln_normalized_totalWeight\": -2.8000000000000003, \"bin_step_0_05_ln_normalized_totalWeight_end\": -2.7500000000000004, \"bin_step_5_StartYear\": 1825.0, \"bin_step_5_StartYear_range\": \"1825 \\u2013 1830\", \"ln_normalized_totalWeight\": -2.7965469107080314}, {\"StartYear\": \"1879\", \"__count\": 3, \"bin_step_0_05_ln_normalized_totalWeight\": -2.8000000000000003, \"bin_step_0_05_ln_normalized_totalWeight_end\": -2.7500000000000004, \"bin_step_5_StartYear\": 1875.0, \"bin_step_5_StartYear_range\": \"1875 \\u2013 1880\", \"ln_normalized_totalWeight\": -2.7965469107080314}, {\"StartYear\": \"1831\", \"__count\": 2, \"bin_step_0_05_ln_normalized_totalWeight\": -2.8000000000000003, \"bin_step_0_05_ln_normalized_totalWeight_end\": -2.7500000000000004, \"bin_step_5_StartYear\": 1830.0, \"bin_step_5_StartYear_range\": \"1830 \\u2013 1835\", \"ln_normalized_totalWeight\": -2.7965469107080314}, {\"StartYear\": \"1865\", \"__count\": 7, \"bin_step_0_05_ln_normalized_totalWeight\": -2.8000000000000003, \"bin_step_0_05_ln_normalized_totalWeight_end\": -2.7500000000000004, \"bin_step_5_StartYear\": 1865.0, \"bin_step_5_StartYear_range\": \"1865 \\u2013 1870\", \"ln_normalized_totalWeight\": -2.7965469107080314}, {\"StartYear\": \"1808\", \"__count\": 7, \"bin_step_0_05_ln_normalized_totalWeight\": -2.8000000000000003, \"bin_step_0_05_ln_normalized_totalWeight_end\": -2.7500000000000004, \"bin_step_5_StartYear\": 1805.0, \"bin_step_5_StartYear_range\": \"1805 \\u2013 1810\", \"ln_normalized_totalWeight\": -2.7965469107080314}, {\"StartYear\": \"1830\", \"__count\": 9, \"bin_step_0_05_ln_normalized_totalWeight\": -2.8000000000000003, \"bin_step_0_05_ln_normalized_totalWeight_end\": -2.7500000000000004, \"bin_step_5_StartYear\": 1830.0, \"bin_step_5_StartYear_range\": \"1830 \\u2013 1835\", \"ln_normalized_totalWeight\": -2.7965469107080314}, {\"StartYear\": \"1861\", \"__count\": 11, \"bin_step_0_05_ln_normalized_totalWeight\": -2.8000000000000003, \"bin_step_0_05_ln_normalized_totalWeight_end\": -2.7500000000000004, \"bin_step_5_StartYear\": 1860.0, \"bin_step_5_StartYear_range\": \"1860 \\u2013 1865\", \"ln_normalized_totalWeight\": -2.7965469107080314}, {\"StartYear\": \"1770\", \"__count\": 100, \"bin_step_0_05_ln_normalized_totalWeight\": -2.8000000000000003, \"bin_step_0_05_ln_normalized_totalWeight_end\": -2.7500000000000004, \"bin_step_5_StartYear\": 1770.0, \"bin_step_5_StartYear_range\": \"1770 \\u2013 1775\", \"ln_normalized_totalWeight\": -2.7965469107080314}, {\"StartYear\": \"1743\", \"__count\": 2, \"bin_step_0_05_ln_normalized_totalWeight\": -2.8000000000000003, \"bin_step_0_05_ln_normalized_totalWeight_end\": -2.7500000000000004, \"bin_step_5_StartYear\": 1740.0, \"bin_step_5_StartYear_range\": \"1740 \\u2013 1745\", \"ln_normalized_totalWeight\": -2.7965469107080314}, {\"StartYear\": \"1800\", \"__count\": 33, \"bin_step_0_05_ln_normalized_totalWeight\": -2.8000000000000003, \"bin_step_0_05_ln_normalized_totalWeight_end\": -2.7500000000000004, \"bin_step_5_StartYear\": 1800.0, \"bin_step_5_StartYear_range\": \"1800 \\u2013 1805\", \"ln_normalized_totalWeight\": -2.7965469107080314}, {\"StartYear\": \"1864\", \"__count\": 7, \"bin_step_0_05_ln_normalized_totalWeight\": -2.8000000000000003, \"bin_step_0_05_ln_normalized_totalWeight_end\": -2.7500000000000004, \"bin_step_5_StartYear\": 1860.0, \"bin_step_5_StartYear_range\": \"1860 \\u2013 1865\", \"ln_normalized_totalWeight\": -2.7965469107080314}, {\"StartYear\": \"1860\", \"__count\": 12, \"bin_step_0_05_ln_normalized_totalWeight\": -2.8000000000000003, \"bin_step_0_05_ln_normalized_totalWeight_end\": -2.7500000000000004, \"bin_step_5_StartYear\": 1860.0, \"bin_step_5_StartYear_range\": \"1860 \\u2013 1865\", \"ln_normalized_totalWeight\": -2.7965469107080314}, {\"StartYear\": \"1777\", \"__count\": 3, \"bin_step_0_05_ln_normalized_totalWeight\": -2.8000000000000003, \"bin_step_0_05_ln_normalized_totalWeight_end\": -2.7500000000000004, \"bin_step_5_StartYear\": 1775.0, \"bin_step_5_StartYear_range\": \"1775 \\u2013 1780\", \"ln_normalized_totalWeight\": -2.7965469107080314}, {\"StartYear\": \"1782\", \"__count\": 3, \"bin_step_0_05_ln_normalized_totalWeight\": -2.8000000000000003, \"bin_step_0_05_ln_normalized_totalWeight_end\": -2.7500000000000004, \"bin_step_5_StartYear\": 1780.0, \"bin_step_5_StartYear_range\": \"1780 \\u2013 1785\", \"ln_normalized_totalWeight\": -2.7965469107080314}, {\"StartYear\": \"1871\", \"__count\": 4, \"bin_step_0_05_ln_normalized_totalWeight\": -2.8000000000000003, \"bin_step_0_05_ln_normalized_totalWeight_end\": -2.7500000000000004, \"bin_step_5_StartYear\": 1870.0, \"bin_step_5_StartYear_range\": \"1870 \\u2013 1875\", \"ln_normalized_totalWeight\": -2.7965469107080314}, {\"StartYear\": \"1690\", \"__count\": 2, \"bin_step_0_05_ln_normalized_totalWeight\": -2.8000000000000003, \"bin_step_0_05_ln_normalized_totalWeight_end\": -2.7500000000000004, \"bin_step_5_StartYear\": 1690.0, \"bin_step_5_StartYear_range\": \"1690 \\u2013 1695\", \"ln_normalized_totalWeight\": -2.7965469107080314}, {\"StartYear\": \"1760\", \"__count\": 5, \"bin_step_0_05_ln_normalized_totalWeight\": -2.8000000000000003, \"bin_step_0_05_ln_normalized_totalWeight_end\": -2.7500000000000004, \"bin_step_5_StartYear\": 1760.0, \"bin_step_5_StartYear_range\": \"1760 \\u2013 1765\", \"ln_normalized_totalWeight\": -2.7965469107080314}, {\"StartYear\": \"1804\", \"__count\": 6, \"bin_step_0_05_ln_normalized_totalWeight\": -2.8000000000000003, \"bin_step_0_05_ln_normalized_totalWeight_end\": -2.7500000000000004, \"bin_step_5_StartYear\": 1800.0, \"bin_step_5_StartYear_range\": \"1800 \\u2013 1805\", \"ln_normalized_totalWeight\": -2.7965469107080314}, {\"StartYear\": \"1816\", \"__count\": 4, \"bin_step_0_05_ln_normalized_totalWeight\": -2.8000000000000003, \"bin_step_0_05_ln_normalized_totalWeight_end\": -2.7500000000000004, \"bin_step_5_StartYear\": 1815.0, \"bin_step_5_StartYear_range\": \"1815 \\u2013 1820\", \"ln_normalized_totalWeight\": -2.7965469107080314}, {\"StartYear\": \"1736\", \"__count\": 71, \"bin_step_0_05_ln_normalized_totalWeight\": -2.8000000000000003, \"bin_step_0_05_ln_normalized_totalWeight_end\": -2.7500000000000004, \"bin_step_5_StartYear\": 1735.0, \"bin_step_5_StartYear_range\": \"1735 \\u2013 1740\", \"ln_normalized_totalWeight\": -2.7965469107080314}, {\"StartYear\": \"1803\", \"__count\": 2, \"bin_step_0_05_ln_normalized_totalWeight\": -2.8000000000000003, \"bin_step_0_05_ln_normalized_totalWeight_end\": -2.7500000000000004, \"bin_step_5_StartYear\": 1800.0, \"bin_step_5_StartYear_range\": \"1800 \\u2013 1805\", \"ln_normalized_totalWeight\": -2.7965469107080314}, {\"StartYear\": \"1833\", \"__count\": 6, \"bin_step_0_05_ln_normalized_totalWeight\": -2.8000000000000003, \"bin_step_0_05_ln_normalized_totalWeight_end\": -2.7500000000000004, \"bin_step_5_StartYear\": 1830.0, \"bin_step_5_StartYear_range\": \"1830 \\u2013 1835\", \"ln_normalized_totalWeight\": -2.7965469107080314}, {\"StartYear\": \"1791\", \"__count\": 3, \"bin_step_0_05_ln_normalized_totalWeight\": -2.8000000000000003, \"bin_step_0_05_ln_normalized_totalWeight_end\": -2.7500000000000004, \"bin_step_5_StartYear\": 1790.0, \"bin_step_5_StartYear_range\": \"1790 \\u2013 1795\", \"ln_normalized_totalWeight\": -2.7965469107080314}, {\"StartYear\": \"1784\", \"__count\": 6, \"bin_step_0_05_ln_normalized_totalWeight\": -2.8000000000000003, \"bin_step_0_05_ln_normalized_totalWeight_end\": -2.7500000000000004, \"bin_step_5_StartYear\": 1780.0, \"bin_step_5_StartYear_range\": \"1780 \\u2013 1785\", \"ln_normalized_totalWeight\": -2.7965469107080314}, {\"StartYear\": \"1843\", \"__count\": 6, \"bin_step_0_05_ln_normalized_totalWeight\": -2.8000000000000003, \"bin_step_0_05_ln_normalized_totalWeight_end\": -2.7500000000000004, \"bin_step_5_StartYear\": 1840.0, \"bin_step_5_StartYear_range\": \"1840 \\u2013 1845\", \"ln_normalized_totalWeight\": -2.7965469107080314}, {\"StartYear\": \"1761\", \"__count\": 2, \"bin_step_0_05_ln_normalized_totalWeight\": -2.8000000000000003, \"bin_step_0_05_ln_normalized_totalWeight_end\": -2.7500000000000004, \"bin_step_5_StartYear\": 1760.0, \"bin_step_5_StartYear_range\": \"1760 \\u2013 1765\", \"ln_normalized_totalWeight\": -2.7965469107080314}, {\"StartYear\": \"1880\", \"__count\": 18, \"bin_step_0_05_ln_normalized_totalWeight\": -2.8000000000000003, \"bin_step_0_05_ln_normalized_totalWeight_end\": -2.7500000000000004, \"bin_step_5_StartYear\": 1880.0, \"bin_step_5_StartYear_range\": \"1880 \\u2013 1885\", \"ln_normalized_totalWeight\": -2.7965469107080314}, {\"StartYear\": \"1873\", \"__count\": 5, \"bin_step_0_05_ln_normalized_totalWeight\": -2.8000000000000003, \"bin_step_0_05_ln_normalized_totalWeight_end\": -2.7500000000000004, \"bin_step_5_StartYear\": 1870.0, \"bin_step_5_StartYear_range\": \"1870 \\u2013 1875\", \"ln_normalized_totalWeight\": -2.7965469107080314}, {\"StartYear\": \"1859\", \"__count\": 4, \"bin_step_0_05_ln_normalized_totalWeight\": -2.8000000000000003, \"bin_step_0_05_ln_normalized_totalWeight_end\": -2.7500000000000004, \"bin_step_5_StartYear\": 1855.0, \"bin_step_5_StartYear_range\": \"1855 \\u2013 1860\", \"ln_normalized_totalWeight\": -2.7965469107080314}, {\"StartYear\": \"1767\", \"__count\": 4, \"bin_step_0_05_ln_normalized_totalWeight\": -2.8000000000000003, \"bin_step_0_05_ln_normalized_totalWeight_end\": -2.7500000000000004, \"bin_step_5_StartYear\": 1765.0, \"bin_step_5_StartYear_range\": \"1765 \\u2013 1770\", \"ln_normalized_totalWeight\": -2.7965469107080314}, {\"StartYear\": \"1822\", \"__count\": 5, \"bin_step_0_05_ln_normalized_totalWeight\": -2.8000000000000003, \"bin_step_0_05_ln_normalized_totalWeight_end\": -2.7500000000000004, \"bin_step_5_StartYear\": 1820.0, \"bin_step_5_StartYear_range\": \"1820 \\u2013 1825\", \"ln_normalized_totalWeight\": -2.7965469107080314}, {\"StartYear\": \"1894\", \"__count\": 3, \"bin_step_0_05_ln_normalized_totalWeight\": -2.8000000000000003, \"bin_step_0_05_ln_normalized_totalWeight_end\": -2.7500000000000004, \"bin_step_5_StartYear\": 1890.0, \"bin_step_5_StartYear_range\": \"1890 \\u2013 1895\", \"ln_normalized_totalWeight\": -2.7965469107080314}, {\"StartYear\": \"1799\", \"__count\": 9, \"bin_step_0_05_ln_normalized_totalWeight\": -2.8000000000000003, \"bin_step_0_05_ln_normalized_totalWeight_end\": -2.7500000000000004, \"bin_step_5_StartYear\": 1795.0, \"bin_step_5_StartYear_range\": \"1795 \\u2013 1800\", \"ln_normalized_totalWeight\": -2.7965469107080314}, {\"StartYear\": \"1872\", \"__count\": 4, \"bin_step_0_05_ln_normalized_totalWeight\": -2.8000000000000003, \"bin_step_0_05_ln_normalized_totalWeight_end\": -2.7500000000000004, \"bin_step_5_StartYear\": 1870.0, \"bin_step_5_StartYear_range\": \"1870 \\u2013 1875\", \"ln_normalized_totalWeight\": -2.7965469107080314}, {\"StartYear\": \"1696\", \"__count\": 1, \"bin_step_0_05_ln_normalized_totalWeight\": -2.8000000000000003, \"bin_step_0_05_ln_normalized_totalWeight_end\": -2.7500000000000004, \"bin_step_5_StartYear\": 1695.0, \"bin_step_5_StartYear_range\": \"1695 \\u2013 1700\", \"ln_normalized_totalWeight\": -2.7965469107080314}, {\"StartYear\": \"1891\", \"__count\": 4, \"bin_step_0_05_ln_normalized_totalWeight\": -2.8000000000000003, \"bin_step_0_05_ln_normalized_totalWeight_end\": -2.7500000000000004, \"bin_step_5_StartYear\": 1890.0, \"bin_step_5_StartYear_range\": \"1890 \\u2013 1895\", \"ln_normalized_totalWeight\": -2.7965469107080314}, {\"StartYear\": \"1697\", \"__count\": 1, \"bin_step_0_05_ln_normalized_totalWeight\": -2.8000000000000003, \"bin_step_0_05_ln_normalized_totalWeight_end\": -2.7500000000000004, \"bin_step_5_StartYear\": 1695.0, \"bin_step_5_StartYear_range\": \"1695 \\u2013 1700\", \"ln_normalized_totalWeight\": -2.7965469107080314}, {\"StartYear\": \"1700\", \"__count\": 7, \"bin_step_0_05_ln_normalized_totalWeight\": -2.8000000000000003, \"bin_step_0_05_ln_normalized_totalWeight_end\": -2.7500000000000004, \"bin_step_5_StartYear\": 1700.0, \"bin_step_5_StartYear_range\": \"1700 \\u2013 1705\", \"ln_normalized_totalWeight\": -2.7965469107080314}, {\"StartYear\": \"1868\", \"__count\": 10, \"bin_step_0_05_ln_normalized_totalWeight\": -2.8000000000000003, \"bin_step_0_05_ln_normalized_totalWeight_end\": -2.7500000000000004, \"bin_step_5_StartYear\": 1865.0, \"bin_step_5_StartYear_range\": \"1865 \\u2013 1870\", \"ln_normalized_totalWeight\": -2.7965469107080314}, {\"StartYear\": \"1848\", \"__count\": 8, \"bin_step_0_05_ln_normalized_totalWeight\": -2.8000000000000003, \"bin_step_0_05_ln_normalized_totalWeight_end\": -2.7500000000000004, \"bin_step_5_StartYear\": 1845.0, \"bin_step_5_StartYear_range\": \"1845 \\u2013 1850\", \"ln_normalized_totalWeight\": -2.7965469107080314}, {\"StartYear\": \"1888\", \"__count\": 5, \"bin_step_0_05_ln_normalized_totalWeight\": -2.8000000000000003, \"bin_step_0_05_ln_normalized_totalWeight_end\": -2.7500000000000004, \"bin_step_5_StartYear\": 1885.0, \"bin_step_5_StartYear_range\": \"1885 \\u2013 1890\", \"ln_normalized_totalWeight\": -2.7965469107080314}, {\"StartYear\": \"1846\", \"__count\": 3, \"bin_step_0_05_ln_normalized_totalWeight\": -2.8000000000000003, \"bin_step_0_05_ln_normalized_totalWeight_end\": -2.7500000000000004, \"bin_step_5_StartYear\": 1845.0, \"bin_step_5_StartYear_range\": \"1845 \\u2013 1850\", \"ln_normalized_totalWeight\": -2.7965469107080314}, {\"StartYear\": \"1731\", \"__count\": 4, \"bin_step_0_05_ln_normalized_totalWeight\": -2.8000000000000003, \"bin_step_0_05_ln_normalized_totalWeight_end\": -2.7500000000000004, \"bin_step_5_StartYear\": 1730.0, \"bin_step_5_StartYear_range\": \"1730 \\u2013 1735\", \"ln_normalized_totalWeight\": -2.7965469107080314}, {\"StartYear\": \"1668\", \"__count\": 1, \"bin_step_0_05_ln_normalized_totalWeight\": -2.8000000000000003, \"bin_step_0_05_ln_normalized_totalWeight_end\": -2.7500000000000004, \"bin_step_5_StartYear\": 1665.0, \"bin_step_5_StartYear_range\": \"1665 \\u2013 1670\", \"ln_normalized_totalWeight\": -2.7965469107080314}, {\"StartYear\": \"1823\", \"__count\": 5, \"bin_step_0_05_ln_normalized_totalWeight\": -2.8000000000000003, \"bin_step_0_05_ln_normalized_totalWeight_end\": -2.7500000000000004, \"bin_step_5_StartYear\": 1820.0, \"bin_step_5_StartYear_range\": \"1820 \\u2013 1825\", \"ln_normalized_totalWeight\": -2.7965469107080314}, {\"StartYear\": \"1837\", \"__count\": 4, \"bin_step_0_05_ln_normalized_totalWeight\": -2.8000000000000003, \"bin_step_0_05_ln_normalized_totalWeight_end\": -2.7500000000000004, \"bin_step_5_StartYear\": 1835.0, \"bin_step_5_StartYear_range\": \"1835 \\u2013 1840\", \"ln_normalized_totalWeight\": -2.7965469107080314}, {\"StartYear\": \"1783\", \"__count\": 2, \"bin_step_0_05_ln_normalized_totalWeight\": -2.8000000000000003, \"bin_step_0_05_ln_normalized_totalWeight_end\": -2.7500000000000004, \"bin_step_5_StartYear\": 1780.0, \"bin_step_5_StartYear_range\": \"1780 \\u2013 1785\", \"ln_normalized_totalWeight\": -2.7965469107080314}, {\"StartYear\": \"1874\", \"__count\": 8, \"bin_step_0_05_ln_normalized_totalWeight\": -2.8000000000000003, \"bin_step_0_05_ln_normalized_totalWeight_end\": -2.7500000000000004, \"bin_step_5_StartYear\": 1870.0, \"bin_step_5_StartYear_range\": \"1870 \\u2013 1875\", \"ln_normalized_totalWeight\": -2.7965469107080314}, {\"StartYear\": \"1762\", \"__count\": 4, \"bin_step_0_05_ln_normalized_totalWeight\": -2.8000000000000003, \"bin_step_0_05_ln_normalized_totalWeight_end\": -2.7500000000000004, \"bin_step_5_StartYear\": 1760.0, \"bin_step_5_StartYear_range\": \"1760 \\u2013 1765\", \"ln_normalized_totalWeight\": -2.7965469107080314}, {\"StartYear\": \"1766\", \"__count\": 5, \"bin_step_0_05_ln_normalized_totalWeight\": -2.8000000000000003, \"bin_step_0_05_ln_normalized_totalWeight_end\": -2.7500000000000004, \"bin_step_5_StartYear\": 1765.0, \"bin_step_5_StartYear_range\": \"1765 \\u2013 1770\", \"ln_normalized_totalWeight\": -2.7965469107080314}, {\"StartYear\": \"1630\", \"__count\": 2, \"bin_step_0_05_ln_normalized_totalWeight\": -2.8000000000000003, \"bin_step_0_05_ln_normalized_totalWeight_end\": -2.7500000000000004, \"bin_step_5_StartYear\": 1630.0, \"bin_step_5_StartYear_range\": \"1630 \\u2013 1635\", \"ln_normalized_totalWeight\": -2.7965469107080314}, {\"StartYear\": \"1686\", \"__count\": 1, \"bin_step_0_05_ln_normalized_totalWeight\": -2.8000000000000003, \"bin_step_0_05_ln_normalized_totalWeight_end\": -2.7500000000000004, \"bin_step_5_StartYear\": 1685.0, \"bin_step_5_StartYear_range\": \"1685 \\u2013 1690\", \"ln_normalized_totalWeight\": -2.7965469107080314}, {\"StartYear\": \"1824\", \"__count\": 4, \"bin_step_0_05_ln_normalized_totalWeight\": -2.8000000000000003, \"bin_step_0_05_ln_normalized_totalWeight_end\": -2.7500000000000004, \"bin_step_5_StartYear\": 1820.0, \"bin_step_5_StartYear_range\": \"1820 \\u2013 1825\", \"ln_normalized_totalWeight\": -2.7965469107080314}, {\"StartYear\": \"1847\", \"__count\": 4, \"bin_step_0_05_ln_normalized_totalWeight\": -2.8000000000000003, \"bin_step_0_05_ln_normalized_totalWeight_end\": -2.7500000000000004, \"bin_step_5_StartYear\": 1845.0, \"bin_step_5_StartYear_range\": \"1845 \\u2013 1850\", \"ln_normalized_totalWeight\": -2.7965469107080314}, {\"StartYear\": \"1820\", \"__count\": 14, \"bin_step_0_05_ln_normalized_totalWeight\": -2.8000000000000003, \"bin_step_0_05_ln_normalized_totalWeight_end\": -2.7500000000000004, \"bin_step_5_StartYear\": 1820.0, \"bin_step_5_StartYear_range\": \"1820 \\u2013 1825\", \"ln_normalized_totalWeight\": -2.7965469107080314}, {\"StartYear\": \"1884\", \"__count\": 4, \"bin_step_0_05_ln_normalized_totalWeight\": -2.8000000000000003, \"bin_step_0_05_ln_normalized_totalWeight_end\": -2.7500000000000004, \"bin_step_5_StartYear\": 1880.0, \"bin_step_5_StartYear_range\": \"1880 \\u2013 1885\", \"ln_normalized_totalWeight\": -2.7965469107080314}, {\"StartYear\": \"1759\", \"__count\": 1, \"bin_step_0_05_ln_normalized_totalWeight\": -2.8000000000000003, \"bin_step_0_05_ln_normalized_totalWeight_end\": -2.7500000000000004, \"bin_step_5_StartYear\": 1755.0, \"bin_step_5_StartYear_range\": \"1755 \\u2013 1760\", \"ln_normalized_totalWeight\": -2.7965469107080314}, {\"StartYear\": \"1840\", \"__count\": 11, \"bin_step_0_05_ln_normalized_totalWeight\": -2.8000000000000003, \"bin_step_0_05_ln_normalized_totalWeight_end\": -2.7500000000000004, \"bin_step_5_StartYear\": 1840.0, \"bin_step_5_StartYear_range\": \"1840 \\u2013 1845\", \"ln_normalized_totalWeight\": -2.7965469107080314}, {\"StartYear\": \"1702\", \"__count\": 1, \"bin_step_0_05_ln_normalized_totalWeight\": -2.8000000000000003, \"bin_step_0_05_ln_normalized_totalWeight_end\": -2.7500000000000004, \"bin_step_5_StartYear\": 1700.0, \"bin_step_5_StartYear_range\": \"1700 \\u2013 1705\", \"ln_normalized_totalWeight\": -2.7965469107080314}, {\"StartYear\": \"1805\", \"__count\": 9, \"bin_step_0_05_ln_normalized_totalWeight\": -2.8000000000000003, \"bin_step_0_05_ln_normalized_totalWeight_end\": -2.7500000000000004, \"bin_step_5_StartYear\": 1805.0, \"bin_step_5_StartYear_range\": \"1805 \\u2013 1810\", \"ln_normalized_totalWeight\": -2.7965469107080314}, {\"StartYear\": \"1747\", \"__count\": 3, \"bin_step_0_05_ln_normalized_totalWeight\": -2.8000000000000003, \"bin_step_0_05_ln_normalized_totalWeight_end\": -2.7500000000000004, \"bin_step_5_StartYear\": 1745.0, \"bin_step_5_StartYear_range\": \"1745 \\u2013 1750\", \"ln_normalized_totalWeight\": -2.7965469107080314}, {\"StartYear\": \"1792\", \"__count\": 3, \"bin_step_0_05_ln_normalized_totalWeight\": -2.8000000000000003, \"bin_step_0_05_ln_normalized_totalWeight_end\": -2.7500000000000004, \"bin_step_5_StartYear\": 1790.0, \"bin_step_5_StartYear_range\": \"1790 \\u2013 1795\", \"ln_normalized_totalWeight\": -2.7965469107080314}, {\"StartYear\": \"1842\", \"__count\": 8, \"bin_step_0_05_ln_normalized_totalWeight\": -2.8000000000000003, \"bin_step_0_05_ln_normalized_totalWeight_end\": -2.7500000000000004, \"bin_step_5_StartYear\": 1840.0, \"bin_step_5_StartYear_range\": \"1840 \\u2013 1845\", \"ln_normalized_totalWeight\": -2.7965469107080314}, {\"StartYear\": \"1789\", \"__count\": 7, \"bin_step_0_05_ln_normalized_totalWeight\": -2.8000000000000003, \"bin_step_0_05_ln_normalized_totalWeight_end\": -2.7500000000000004, \"bin_step_5_StartYear\": 1785.0, \"bin_step_5_StartYear_range\": \"1785 \\u2013 1790\", \"ln_normalized_totalWeight\": -2.7965469107080314}, {\"StartYear\": \"1794\", \"__count\": 5, \"bin_step_0_05_ln_normalized_totalWeight\": -2.8000000000000003, \"bin_step_0_05_ln_normalized_totalWeight_end\": -2.7500000000000004, \"bin_step_5_StartYear\": 1790.0, \"bin_step_5_StartYear_range\": \"1790 \\u2013 1795\", \"ln_normalized_totalWeight\": -2.7965469107080314}, {\"StartYear\": \"1832\", \"__count\": 3, \"bin_step_0_05_ln_normalized_totalWeight\": -2.8000000000000003, \"bin_step_0_05_ln_normalized_totalWeight_end\": -2.7500000000000004, \"bin_step_5_StartYear\": 1830.0, \"bin_step_5_StartYear_range\": \"1830 \\u2013 1835\", \"ln_normalized_totalWeight\": -2.7965469107080314}, {\"StartYear\": \"1720\", \"__count\": 4, \"bin_step_0_05_ln_normalized_totalWeight\": -2.8000000000000003, \"bin_step_0_05_ln_normalized_totalWeight_end\": -2.7500000000000004, \"bin_step_5_StartYear\": 1720.0, \"bin_step_5_StartYear_range\": \"1720 \\u2013 1725\", \"ln_normalized_totalWeight\": -2.7965469107080314}, {\"StartYear\": \"1661\", \"__count\": 2, \"bin_step_0_05_ln_normalized_totalWeight\": -2.8000000000000003, \"bin_step_0_05_ln_normalized_totalWeight_end\": -2.7500000000000004, \"bin_step_5_StartYear\": 1660.0, \"bin_step_5_StartYear_range\": \"1660 \\u2013 1665\", \"ln_normalized_totalWeight\": -2.7965469107080314}, {\"StartYear\": \"1883\", \"__count\": 3, \"bin_step_0_05_ln_normalized_totalWeight\": -2.8000000000000003, \"bin_step_0_05_ln_normalized_totalWeight_end\": -2.7500000000000004, \"bin_step_5_StartYear\": 1880.0, \"bin_step_5_StartYear_range\": \"1880 \\u2013 1885\", \"ln_normalized_totalWeight\": -2.7965469107080314}, {\"StartYear\": \"1866\", \"__count\": 8, \"bin_step_0_05_ln_normalized_totalWeight\": -2.8000000000000003, \"bin_step_0_05_ln_normalized_totalWeight_end\": -2.7500000000000004, \"bin_step_5_StartYear\": 1865.0, \"bin_step_5_StartYear_range\": \"1865 \\u2013 1870\", \"ln_normalized_totalWeight\": -2.7965469107080314}, {\"StartYear\": \"1628\", \"__count\": 1, \"bin_step_0_05_ln_normalized_totalWeight\": -2.8000000000000003, \"bin_step_0_05_ln_normalized_totalWeight_end\": -2.7500000000000004, \"bin_step_5_StartYear\": 1625.0, \"bin_step_5_StartYear_range\": \"1625 \\u2013 1630\", \"ln_normalized_totalWeight\": -2.7965469107080314}, {\"StartYear\": \"1574\", \"__count\": 1, \"bin_step_0_05_ln_normalized_totalWeight\": -2.8000000000000003, \"bin_step_0_05_ln_normalized_totalWeight_end\": -2.7500000000000004, \"bin_step_5_StartYear\": 1570.0, \"bin_step_5_StartYear_range\": \"1570 \\u2013 1575\", \"ln_normalized_totalWeight\": -2.7965469107080314}, {\"StartYear\": \"1634\", \"__count\": 1, \"bin_step_0_05_ln_normalized_totalWeight\": -2.8000000000000003, \"bin_step_0_05_ln_normalized_totalWeight_end\": -2.7500000000000004, \"bin_step_5_StartYear\": 1630.0, \"bin_step_5_StartYear_range\": \"1630 \\u2013 1635\", \"ln_normalized_totalWeight\": -2.7965469107080314}, {\"StartYear\": \"1818\", \"__count\": 5, \"bin_step_0_05_ln_normalized_totalWeight\": -2.8000000000000003, \"bin_step_0_05_ln_normalized_totalWeight_end\": -2.7500000000000004, \"bin_step_5_StartYear\": 1815.0, \"bin_step_5_StartYear_range\": \"1815 \\u2013 1820\", \"ln_normalized_totalWeight\": -2.7965469107080314}, {\"StartYear\": \"1885\", \"__count\": 5, \"bin_step_0_05_ln_normalized_totalWeight\": -2.8000000000000003, \"bin_step_0_05_ln_normalized_totalWeight_end\": -2.7500000000000004, \"bin_step_5_StartYear\": 1885.0, \"bin_step_5_StartYear_range\": \"1885 \\u2013 1890\", \"ln_normalized_totalWeight\": -2.7965469107080314}, {\"StartYear\": \"1771\", \"__count\": 4, \"bin_step_0_05_ln_normalized_totalWeight\": -2.8000000000000003, \"bin_step_0_05_ln_normalized_totalWeight_end\": -2.7500000000000004, \"bin_step_5_StartYear\": 1770.0, \"bin_step_5_StartYear_range\": \"1770 \\u2013 1775\", \"ln_normalized_totalWeight\": -2.7965469107080314}, {\"StartYear\": \"1722\", \"__count\": 1, \"bin_step_0_05_ln_normalized_totalWeight\": -2.8000000000000003, \"bin_step_0_05_ln_normalized_totalWeight_end\": -2.7500000000000004, \"bin_step_5_StartYear\": 1720.0, \"bin_step_5_StartYear_range\": \"1720 \\u2013 1725\", \"ln_normalized_totalWeight\": -2.7965469107080314}, {\"StartYear\": \"1681\", \"__count\": 2, \"bin_step_0_05_ln_normalized_totalWeight\": -2.8000000000000003, \"bin_step_0_05_ln_normalized_totalWeight_end\": -2.7500000000000004, \"bin_step_5_StartYear\": 1680.0, \"bin_step_5_StartYear_range\": \"1680 \\u2013 1685\", \"ln_normalized_totalWeight\": -2.7965469107080314}, {\"StartYear\": \"1857\", \"__count\": 6, \"bin_step_0_05_ln_normalized_totalWeight\": -2.8000000000000003, \"bin_step_0_05_ln_normalized_totalWeight_end\": -2.7500000000000004, \"bin_step_5_StartYear\": 1855.0, \"bin_step_5_StartYear_range\": \"1855 \\u2013 1860\", \"ln_normalized_totalWeight\": -2.7965469107080314}, {\"StartYear\": \"1841\", \"__count\": 4, \"bin_step_0_05_ln_normalized_totalWeight\": -2.8000000000000003, \"bin_step_0_05_ln_normalized_totalWeight_end\": -2.7500000000000004, \"bin_step_5_StartYear\": 1840.0, \"bin_step_5_StartYear_range\": \"1840 \\u2013 1845\", \"ln_normalized_totalWeight\": -2.7965469107080314}, {\"StartYear\": \"1895\", \"__count\": 2, \"bin_step_0_05_ln_normalized_totalWeight\": -2.8000000000000003, \"bin_step_0_05_ln_normalized_totalWeight_end\": -2.7500000000000004, \"bin_step_5_StartYear\": 1895.0, \"bin_step_5_StartYear_range\": \"1895 \\u2013 1900\", \"ln_normalized_totalWeight\": -2.7965469107080314}, {\"StartYear\": \"1653\", \"__count\": 1, \"bin_step_0_05_ln_normalized_totalWeight\": -2.8000000000000003, \"bin_step_0_05_ln_normalized_totalWeight_end\": -2.7500000000000004, \"bin_step_5_StartYear\": 1650.0, \"bin_step_5_StartYear_range\": \"1650 \\u2013 1655\", \"ln_normalized_totalWeight\": -2.7965469107080314}, {\"StartYear\": \"1666\", \"__count\": 2, \"bin_step_0_05_ln_normalized_totalWeight\": -2.8000000000000003, \"bin_step_0_05_ln_normalized_totalWeight_end\": -2.7500000000000004, \"bin_step_5_StartYear\": 1665.0, \"bin_step_5_StartYear_range\": \"1665 \\u2013 1670\", \"ln_normalized_totalWeight\": -2.7965469107080314}, {\"StartYear\": \"1573\", \"__count\": 4, \"bin_step_0_05_ln_normalized_totalWeight\": -2.8000000000000003, \"bin_step_0_05_ln_normalized_totalWeight_end\": -2.7500000000000004, \"bin_step_5_StartYear\": 1570.0, \"bin_step_5_StartYear_range\": \"1570 \\u2013 1575\", \"ln_normalized_totalWeight\": -2.7965469107080314}, {\"StartYear\": \"1827\", \"__count\": 3, \"bin_step_0_05_ln_normalized_totalWeight\": -2.8000000000000003, \"bin_step_0_05_ln_normalized_totalWeight_end\": -2.7500000000000004, \"bin_step_5_StartYear\": 1825.0, \"bin_step_5_StartYear_range\": \"1825 \\u2013 1830\", \"ln_normalized_totalWeight\": -2.7965469107080314}, {\"StartYear\": \"1793\", \"__count\": 2, \"bin_step_0_05_ln_normalized_totalWeight\": -2.8000000000000003, \"bin_step_0_05_ln_normalized_totalWeight_end\": -2.7500000000000004, \"bin_step_5_StartYear\": 1790.0, \"bin_step_5_StartYear_range\": \"1790 \\u2013 1795\", \"ln_normalized_totalWeight\": -2.7965469107080314}, {\"StartYear\": \"1878\", \"__count\": 4, \"bin_step_0_05_ln_normalized_totalWeight\": -2.8000000000000003, \"bin_step_0_05_ln_normalized_totalWeight_end\": -2.7500000000000004, \"bin_step_5_StartYear\": 1875.0, \"bin_step_5_StartYear_range\": \"1875 \\u2013 1880\", \"ln_normalized_totalWeight\": -2.7965469107080314}, {\"StartYear\": \"1778\", \"__count\": 7, \"bin_step_0_05_ln_normalized_totalWeight\": -2.8000000000000003, \"bin_step_0_05_ln_normalized_totalWeight_end\": -2.7500000000000004, \"bin_step_5_StartYear\": 1775.0, \"bin_step_5_StartYear_range\": \"1775 \\u2013 1780\", \"ln_normalized_totalWeight\": -2.7965469107080314}, {\"StartYear\": \"1694\", \"__count\": 1, \"bin_step_0_05_ln_normalized_totalWeight\": -2.8000000000000003, \"bin_step_0_05_ln_normalized_totalWeight_end\": -2.7500000000000004, \"bin_step_5_StartYear\": 1690.0, \"bin_step_5_StartYear_range\": \"1690 \\u2013 1695\", \"ln_normalized_totalWeight\": -2.7965469107080314}, {\"StartYear\": \"1524\", \"__count\": 1, \"bin_step_0_05_ln_normalized_totalWeight\": -2.8000000000000003, \"bin_step_0_05_ln_normalized_totalWeight_end\": -2.7500000000000004, \"bin_step_5_StartYear\": 1520.0, \"bin_step_5_StartYear_range\": \"1520 \\u2013 1525\", \"ln_normalized_totalWeight\": -2.7965469107080314}, {\"StartYear\": \"1780\", \"__count\": 3, \"bin_step_0_05_ln_normalized_totalWeight\": -2.8000000000000003, \"bin_step_0_05_ln_normalized_totalWeight_end\": -2.7500000000000004, \"bin_step_5_StartYear\": 1780.0, \"bin_step_5_StartYear_range\": \"1780 \\u2013 1785\", \"ln_normalized_totalWeight\": -2.7965469107080314}, {\"StartYear\": \"1730\", \"__count\": 2, \"bin_step_0_05_ln_normalized_totalWeight\": -2.8000000000000003, \"bin_step_0_05_ln_normalized_totalWeight_end\": -2.7500000000000004, \"bin_step_5_StartYear\": 1730.0, \"bin_step_5_StartYear_range\": \"1730 \\u2013 1735\", \"ln_normalized_totalWeight\": -2.7965469107080314}, {\"StartYear\": \"1853\", \"__count\": 9, \"bin_step_0_05_ln_normalized_totalWeight\": -2.8000000000000003, \"bin_step_0_05_ln_normalized_totalWeight_end\": -2.7500000000000004, \"bin_step_5_StartYear\": 1850.0, \"bin_step_5_StartYear_range\": \"1850 \\u2013 1855\", \"ln_normalized_totalWeight\": -2.7965469107080314}, {\"StartYear\": \"1812\", \"__count\": 2, \"bin_step_0_05_ln_normalized_totalWeight\": -2.8000000000000003, \"bin_step_0_05_ln_normalized_totalWeight_end\": -2.7500000000000004, \"bin_step_5_StartYear\": 1810.0, \"bin_step_5_StartYear_range\": \"1810 \\u2013 1815\", \"ln_normalized_totalWeight\": -2.7965469107080314}, {\"StartYear\": \"1764\", \"__count\": 5, \"bin_step_0_05_ln_normalized_totalWeight\": -2.8000000000000003, \"bin_step_0_05_ln_normalized_totalWeight_end\": -2.7500000000000004, \"bin_step_5_StartYear\": 1760.0, \"bin_step_5_StartYear_range\": \"1760 \\u2013 1765\", \"ln_normalized_totalWeight\": -2.7965469107080314}, {\"StartYear\": \"1749\", \"__count\": 3, \"bin_step_0_05_ln_normalized_totalWeight\": -2.8000000000000003, \"bin_step_0_05_ln_normalized_totalWeight_end\": -2.7500000000000004, \"bin_step_5_StartYear\": 1745.0, \"bin_step_5_StartYear_range\": \"1745 \\u2013 1750\", \"ln_normalized_totalWeight\": -2.7965469107080314}, {\"StartYear\": \"1905\", \"__count\": 1, \"bin_step_0_05_ln_normalized_totalWeight\": -2.8000000000000003, \"bin_step_0_05_ln_normalized_totalWeight_end\": -2.7500000000000004, \"bin_step_5_StartYear\": 1905.0, \"bin_step_5_StartYear_range\": \"1905 \\u2013 1910\", \"ln_normalized_totalWeight\": -2.7965469107080314}, {\"StartYear\": \"1863\", \"__count\": 3, \"bin_step_0_05_ln_normalized_totalWeight\": -2.8000000000000003, \"bin_step_0_05_ln_normalized_totalWeight_end\": -2.7500000000000004, \"bin_step_5_StartYear\": 1860.0, \"bin_step_5_StartYear_range\": \"1860 \\u2013 1865\", \"ln_normalized_totalWeight\": -2.7965469107080314}, {\"StartYear\": \"1623\", \"__count\": 1, \"bin_step_0_05_ln_normalized_totalWeight\": -2.8000000000000003, \"bin_step_0_05_ln_normalized_totalWeight_end\": -2.7500000000000004, \"bin_step_5_StartYear\": 1620.0, \"bin_step_5_StartYear_range\": \"1620 \\u2013 1625\", \"ln_normalized_totalWeight\": -2.7965469107080314}, {\"StartYear\": \"1898\", \"__count\": 4, \"bin_step_0_05_ln_normalized_totalWeight\": -2.8000000000000003, \"bin_step_0_05_ln_normalized_totalWeight_end\": -2.7500000000000004, \"bin_step_5_StartYear\": 1895.0, \"bin_step_5_StartYear_range\": \"1895 \\u2013 1900\", \"ln_normalized_totalWeight\": -2.7965469107080314}, {\"StartYear\": \"1889\", \"__count\": 2, \"bin_step_0_05_ln_normalized_totalWeight\": -2.8000000000000003, \"bin_step_0_05_ln_normalized_totalWeight_end\": -2.7500000000000004, \"bin_step_5_StartYear\": 1885.0, \"bin_step_5_StartYear_range\": \"1885 \\u2013 1890\", \"ln_normalized_totalWeight\": -2.7965469107080314}, {\"StartYear\": \"1797\", \"__count\": 8, \"bin_step_0_05_ln_normalized_totalWeight\": -2.8000000000000003, \"bin_step_0_05_ln_normalized_totalWeight_end\": -2.7500000000000004, \"bin_step_5_StartYear\": 1795.0, \"bin_step_5_StartYear_range\": \"1795 \\u2013 1800\", \"ln_normalized_totalWeight\": -2.7965469107080314}, {\"StartYear\": \"1781\", \"__count\": 3, \"bin_step_0_05_ln_normalized_totalWeight\": -2.8000000000000003, \"bin_step_0_05_ln_normalized_totalWeight_end\": -2.7500000000000004, \"bin_step_5_StartYear\": 1780.0, \"bin_step_5_StartYear_range\": \"1780 \\u2013 1785\", \"ln_normalized_totalWeight\": -2.7965469107080314}, {\"StartYear\": \"1769\", \"__count\": 1, \"bin_step_0_05_ln_normalized_totalWeight\": -2.8000000000000003, \"bin_step_0_05_ln_normalized_totalWeight_end\": -2.7500000000000004, \"bin_step_5_StartYear\": 1765.0, \"bin_step_5_StartYear_range\": \"1765 \\u2013 1770\", \"ln_normalized_totalWeight\": -2.7965469107080314}, {\"StartYear\": \"1839\", \"__count\": 3, \"bin_step_0_05_ln_normalized_totalWeight\": -2.8000000000000003, \"bin_step_0_05_ln_normalized_totalWeight_end\": -2.7500000000000004, \"bin_step_5_StartYear\": 1835.0, \"bin_step_5_StartYear_range\": \"1835 \\u2013 1840\", \"ln_normalized_totalWeight\": -2.7965469107080314}, {\"StartYear\": \"1748\", \"__count\": 2, \"bin_step_0_05_ln_normalized_totalWeight\": -2.8000000000000003, \"bin_step_0_05_ln_normalized_totalWeight_end\": -2.7500000000000004, \"bin_step_5_StartYear\": 1745.0, \"bin_step_5_StartYear_range\": \"1745 \\u2013 1750\", \"ln_normalized_totalWeight\": -2.7965469107080314}, {\"StartYear\": \"1737\", \"__count\": 2, \"bin_step_0_05_ln_normalized_totalWeight\": -2.8000000000000003, \"bin_step_0_05_ln_normalized_totalWeight_end\": -2.7500000000000004, \"bin_step_5_StartYear\": 1735.0, \"bin_step_5_StartYear_range\": \"1735 \\u2013 1740\", \"ln_normalized_totalWeight\": -2.7965469107080314}, {\"StartYear\": \"1754\", \"__count\": 3, \"bin_step_0_05_ln_normalized_totalWeight\": -2.8000000000000003, \"bin_step_0_05_ln_normalized_totalWeight_end\": -2.7500000000000004, \"bin_step_5_StartYear\": 1750.0, \"bin_step_5_StartYear_range\": \"1750 \\u2013 1755\", \"ln_normalized_totalWeight\": -2.7965469107080314}, {\"StartYear\": \"1810\", \"__count\": 4, \"bin_step_0_05_ln_normalized_totalWeight\": -2.8000000000000003, \"bin_step_0_05_ln_normalized_totalWeight_end\": -2.7500000000000004, \"bin_step_5_StartYear\": 1810.0, \"bin_step_5_StartYear_range\": \"1810 \\u2013 1815\", \"ln_normalized_totalWeight\": -2.7965469107080314}, {\"StartYear\": \"1734\", \"__count\": 2, \"bin_step_0_05_ln_normalized_totalWeight\": -2.8000000000000003, \"bin_step_0_05_ln_normalized_totalWeight_end\": -2.7500000000000004, \"bin_step_5_StartYear\": 1730.0, \"bin_step_5_StartYear_range\": \"1730 \\u2013 1735\", \"ln_normalized_totalWeight\": -2.7965469107080314}, {\"StartYear\": \"1852\", \"__count\": 4, \"bin_step_0_05_ln_normalized_totalWeight\": -2.8000000000000003, \"bin_step_0_05_ln_normalized_totalWeight_end\": -2.7500000000000004, \"bin_step_5_StartYear\": 1850.0, \"bin_step_5_StartYear_range\": \"1850 \\u2013 1855\", \"ln_normalized_totalWeight\": -2.7965469107080314}, {\"StartYear\": \"1828\", \"__count\": 3, \"bin_step_0_05_ln_normalized_totalWeight\": -2.8000000000000003, \"bin_step_0_05_ln_normalized_totalWeight_end\": -2.7500000000000004, \"bin_step_5_StartYear\": 1825.0, \"bin_step_5_StartYear_range\": \"1825 \\u2013 1830\", \"ln_normalized_totalWeight\": -2.7965469107080314}, {\"StartYear\": \"1678\", \"__count\": 1, \"bin_step_0_05_ln_normalized_totalWeight\": -2.8000000000000003, \"bin_step_0_05_ln_normalized_totalWeight_end\": -2.7500000000000004, \"bin_step_5_StartYear\": 1675.0, \"bin_step_5_StartYear_range\": \"1675 \\u2013 1680\", \"ln_normalized_totalWeight\": -2.7965469107080314}, {\"StartYear\": \"1806\", \"__count\": 1, \"bin_step_0_05_ln_normalized_totalWeight\": -2.8000000000000003, \"bin_step_0_05_ln_normalized_totalWeight_end\": -2.7500000000000004, \"bin_step_5_StartYear\": 1805.0, \"bin_step_5_StartYear_range\": \"1805 \\u2013 1810\", \"ln_normalized_totalWeight\": -2.7965469107080314}, {\"StartYear\": \"1672\", \"__count\": 1, \"bin_step_0_05_ln_normalized_totalWeight\": -2.8000000000000003, \"bin_step_0_05_ln_normalized_totalWeight_end\": -2.7500000000000004, \"bin_step_5_StartYear\": 1670.0, \"bin_step_5_StartYear_range\": \"1670 \\u2013 1675\", \"ln_normalized_totalWeight\": -2.7965469107080314}, {\"StartYear\": \"1802\", \"__count\": 4, \"bin_step_0_05_ln_normalized_totalWeight\": -2.8000000000000003, \"bin_step_0_05_ln_normalized_totalWeight_end\": -2.7500000000000004, \"bin_step_5_StartYear\": 1800.0, \"bin_step_5_StartYear_range\": \"1800 \\u2013 1805\", \"ln_normalized_totalWeight\": -2.7965469107080314}, {\"StartYear\": \"1834\", \"__count\": 2, \"bin_step_0_05_ln_normalized_totalWeight\": -2.8000000000000003, \"bin_step_0_05_ln_normalized_totalWeight_end\": -2.7500000000000004, \"bin_step_5_StartYear\": 1830.0, \"bin_step_5_StartYear_range\": \"1830 \\u2013 1835\", \"ln_normalized_totalWeight\": -2.7965469107080314}, {\"StartYear\": \"1779\", \"__count\": 2, \"bin_step_0_05_ln_normalized_totalWeight\": -2.8000000000000003, \"bin_step_0_05_ln_normalized_totalWeight_end\": -2.7500000000000004, \"bin_step_5_StartYear\": 1775.0, \"bin_step_5_StartYear_range\": \"1775 \\u2013 1780\", \"ln_normalized_totalWeight\": -2.7965469107080314}, {\"StartYear\": \"1712\", \"__count\": 2, \"bin_step_0_05_ln_normalized_totalWeight\": -2.8000000000000003, \"bin_step_0_05_ln_normalized_totalWeight_end\": -2.7500000000000004, \"bin_step_5_StartYear\": 1710.0, \"bin_step_5_StartYear_range\": \"1710 \\u2013 1715\", \"ln_normalized_totalWeight\": -2.7965469107080314}, {\"StartYear\": \"1896\", \"__count\": 1, \"bin_step_0_05_ln_normalized_totalWeight\": -2.8000000000000003, \"bin_step_0_05_ln_normalized_totalWeight_end\": -2.7500000000000004, \"bin_step_5_StartYear\": 1895.0, \"bin_step_5_StartYear_range\": \"1895 \\u2013 1900\", \"ln_normalized_totalWeight\": -2.7965469107080314}, {\"StartYear\": \"1838\", \"__count\": 3, \"bin_step_0_05_ln_normalized_totalWeight\": -2.8000000000000003, \"bin_step_0_05_ln_normalized_totalWeight_end\": -2.7500000000000004, \"bin_step_5_StartYear\": 1835.0, \"bin_step_5_StartYear_range\": \"1835 \\u2013 1840\", \"ln_normalized_totalWeight\": -2.7965469107080314}, {\"StartYear\": \"1807\", \"__count\": 4, \"bin_step_0_05_ln_normalized_totalWeight\": -2.8000000000000003, \"bin_step_0_05_ln_normalized_totalWeight_end\": -2.7500000000000004, \"bin_step_5_StartYear\": 1805.0, \"bin_step_5_StartYear_range\": \"1805 \\u2013 1810\", \"ln_normalized_totalWeight\": -2.7965469107080314}, {\"StartYear\": \"1819\", \"__count\": 3, \"bin_step_0_05_ln_normalized_totalWeight\": -2.8000000000000003, \"bin_step_0_05_ln_normalized_totalWeight_end\": -2.7500000000000004, \"bin_step_5_StartYear\": 1815.0, \"bin_step_5_StartYear_range\": \"1815 \\u2013 1820\", \"ln_normalized_totalWeight\": -2.7965469107080314}, {\"StartYear\": \"1763\", \"__count\": 4, \"bin_step_0_05_ln_normalized_totalWeight\": -2.8000000000000003, \"bin_step_0_05_ln_normalized_totalWeight_end\": -2.7500000000000004, \"bin_step_5_StartYear\": 1760.0, \"bin_step_5_StartYear_range\": \"1760 \\u2013 1765\", \"ln_normalized_totalWeight\": -2.7965469107080314}, {\"StartYear\": \"1637\", \"__count\": 1, \"bin_step_0_05_ln_normalized_totalWeight\": -2.8000000000000003, \"bin_step_0_05_ln_normalized_totalWeight_end\": -2.7500000000000004, \"bin_step_5_StartYear\": 1635.0, \"bin_step_5_StartYear_range\": \"1635 \\u2013 1640\", \"ln_normalized_totalWeight\": -2.7965469107080314}, {\"StartYear\": \"1836\", \"__count\": 6, \"bin_step_0_05_ln_normalized_totalWeight\": -2.8000000000000003, \"bin_step_0_05_ln_normalized_totalWeight_end\": -2.7500000000000004, \"bin_step_5_StartYear\": 1835.0, \"bin_step_5_StartYear_range\": \"1835 \\u2013 1840\", \"ln_normalized_totalWeight\": -2.7965469107080314}, {\"StartYear\": \"1882\", \"__count\": 2, \"bin_step_0_05_ln_normalized_totalWeight\": -2.8000000000000003, \"bin_step_0_05_ln_normalized_totalWeight_end\": -2.7500000000000004, \"bin_step_5_StartYear\": 1880.0, \"bin_step_5_StartYear_range\": \"1880 \\u2013 1885\", \"ln_normalized_totalWeight\": -2.7965469107080314}, {\"StartYear\": \"1768\", \"__count\": 3, \"bin_step_0_05_ln_normalized_totalWeight\": -2.8000000000000003, \"bin_step_0_05_ln_normalized_totalWeight_end\": -2.7500000000000004, \"bin_step_5_StartYear\": 1765.0, \"bin_step_5_StartYear_range\": \"1765 \\u2013 1770\", \"ln_normalized_totalWeight\": -2.7965469107080314}, {\"StartYear\": \"1788\", \"__count\": 5, \"bin_step_0_05_ln_normalized_totalWeight\": -2.8000000000000003, \"bin_step_0_05_ln_normalized_totalWeight_end\": -2.7500000000000004, \"bin_step_5_StartYear\": 1785.0, \"bin_step_5_StartYear_range\": \"1785 \\u2013 1790\", \"ln_normalized_totalWeight\": -2.7965469107080314}, {\"StartYear\": \"1899\", \"__count\": 2, \"bin_step_0_05_ln_normalized_totalWeight\": -2.8000000000000003, \"bin_step_0_05_ln_normalized_totalWeight_end\": -2.7500000000000004, \"bin_step_5_StartYear\": 1895.0, \"bin_step_5_StartYear_range\": \"1895 \\u2013 1900\", \"ln_normalized_totalWeight\": -2.7965469107080314}, {\"StartYear\": \"1893\", \"__count\": 4, \"bin_step_0_05_ln_normalized_totalWeight\": -2.8000000000000003, \"bin_step_0_05_ln_normalized_totalWeight_end\": -2.7500000000000004, \"bin_step_5_StartYear\": 1890.0, \"bin_step_5_StartYear_range\": \"1890 \\u2013 1895\", \"ln_normalized_totalWeight\": -2.7965469107080314}, {\"StartYear\": \"1632\", \"__count\": 1, \"bin_step_0_05_ln_normalized_totalWeight\": -2.8000000000000003, \"bin_step_0_05_ln_normalized_totalWeight_end\": -2.7500000000000004, \"bin_step_5_StartYear\": 1630.0, \"bin_step_5_StartYear_range\": \"1630 \\u2013 1635\", \"ln_normalized_totalWeight\": -2.7965469107080314}, {\"StartYear\": \"1772\", \"__count\": 4, \"bin_step_0_05_ln_normalized_totalWeight\": -2.8000000000000003, \"bin_step_0_05_ln_normalized_totalWeight_end\": -2.7500000000000004, \"bin_step_5_StartYear\": 1770.0, \"bin_step_5_StartYear_range\": \"1770 \\u2013 1775\", \"ln_normalized_totalWeight\": -2.7965469107080314}, {\"StartYear\": \"1751\", \"__count\": 1, \"bin_step_0_05_ln_normalized_totalWeight\": -2.8000000000000003, \"bin_step_0_05_ln_normalized_totalWeight_end\": -2.7500000000000004, \"bin_step_5_StartYear\": 1750.0, \"bin_step_5_StartYear_range\": \"1750 \\u2013 1755\", \"ln_normalized_totalWeight\": -2.7965469107080314}, {\"StartYear\": \"1719\", \"__count\": 1, \"bin_step_0_05_ln_normalized_totalWeight\": -2.8000000000000003, \"bin_step_0_05_ln_normalized_totalWeight_end\": -2.7500000000000004, \"bin_step_5_StartYear\": 1715.0, \"bin_step_5_StartYear_range\": \"1715 \\u2013 1720\", \"ln_normalized_totalWeight\": -2.7965469107080314}, {\"StartYear\": \"1892\", \"__count\": 2, \"bin_step_0_05_ln_normalized_totalWeight\": -2.8000000000000003, \"bin_step_0_05_ln_normalized_totalWeight_end\": -2.7500000000000004, \"bin_step_5_StartYear\": 1890.0, \"bin_step_5_StartYear_range\": \"1890 \\u2013 1895\", \"ln_normalized_totalWeight\": -2.7965469107080314}, {\"StartYear\": \"1786\", \"__count\": 4, \"bin_step_0_05_ln_normalized_totalWeight\": -2.8000000000000003, \"bin_step_0_05_ln_normalized_totalWeight_end\": -2.7500000000000004, \"bin_step_5_StartYear\": 1785.0, \"bin_step_5_StartYear_range\": \"1785 \\u2013 1790\", \"ln_normalized_totalWeight\": -2.7965469107080314}, {\"StartYear\": \"1707\", \"__count\": 1, \"bin_step_0_05_ln_normalized_totalWeight\": -2.8000000000000003, \"bin_step_0_05_ln_normalized_totalWeight_end\": -2.7500000000000004, \"bin_step_5_StartYear\": 1705.0, \"bin_step_5_StartYear_range\": \"1705 \\u2013 1710\", \"ln_normalized_totalWeight\": -2.7965469107080314}, {\"StartYear\": \"1887\", \"__count\": 3, \"bin_step_0_05_ln_normalized_totalWeight\": -2.8000000000000003, \"bin_step_0_05_ln_normalized_totalWeight_end\": -2.7500000000000004, \"bin_step_5_StartYear\": 1885.0, \"bin_step_5_StartYear_range\": \"1885 \\u2013 1890\", \"ln_normalized_totalWeight\": -2.7965469107080314}, {\"StartYear\": \"1569\", \"__count\": 1, \"bin_step_0_05_ln_normalized_totalWeight\": -2.8000000000000003, \"bin_step_0_05_ln_normalized_totalWeight_end\": -2.7500000000000004, \"bin_step_5_StartYear\": 1565.0, \"bin_step_5_StartYear_range\": \"1565 \\u2013 1570\", \"ln_normalized_totalWeight\": -2.7965469107080314}, {\"StartYear\": \"1858\", \"__count\": 2, \"bin_step_0_05_ln_normalized_totalWeight\": -2.8000000000000003, \"bin_step_0_05_ln_normalized_totalWeight_end\": -2.7500000000000004, \"bin_step_5_StartYear\": 1855.0, \"bin_step_5_StartYear_range\": \"1855 \\u2013 1860\", \"ln_normalized_totalWeight\": -2.7965469107080314}, {\"StartYear\": \"1593\", \"__count\": 1, \"bin_step_0_05_ln_normalized_totalWeight\": -2.8000000000000003, \"bin_step_0_05_ln_normalized_totalWeight_end\": -2.7500000000000004, \"bin_step_5_StartYear\": 1590.0, \"bin_step_5_StartYear_range\": \"1590 \\u2013 1595\", \"ln_normalized_totalWeight\": -2.7965469107080314}, {\"StartYear\": \"1752\", \"__count\": 2, \"bin_step_0_05_ln_normalized_totalWeight\": -2.8000000000000003, \"bin_step_0_05_ln_normalized_totalWeight_end\": -2.7500000000000004, \"bin_step_5_StartYear\": 1750.0, \"bin_step_5_StartYear_range\": \"1750 \\u2013 1755\", \"ln_normalized_totalWeight\": -2.7965469107080314}, {\"StartYear\": \"1757\", \"__count\": 3, \"bin_step_0_05_ln_normalized_totalWeight\": -2.8000000000000003, \"bin_step_0_05_ln_normalized_totalWeight_end\": -2.7500000000000004, \"bin_step_5_StartYear\": 1755.0, \"bin_step_5_StartYear_range\": \"1755 \\u2013 1760\", \"ln_normalized_totalWeight\": -2.7965469107080314}, {\"StartYear\": \"1897\", \"__count\": 4, \"bin_step_0_05_ln_normalized_totalWeight\": -2.8000000000000003, \"bin_step_0_05_ln_normalized_totalWeight_end\": -2.7500000000000004, \"bin_step_5_StartYear\": 1895.0, \"bin_step_5_StartYear_range\": \"1895 \\u2013 1900\", \"ln_normalized_totalWeight\": -2.7965469107080314}, {\"StartYear\": \"1580\", \"__count\": 1, \"bin_step_0_05_ln_normalized_totalWeight\": -2.8000000000000003, \"bin_step_0_05_ln_normalized_totalWeight_end\": -2.7500000000000004, \"bin_step_5_StartYear\": 1580.0, \"bin_step_5_StartYear_range\": \"1580 \\u2013 1585\", \"ln_normalized_totalWeight\": -2.7965469107080314}, {\"StartYear\": \"1638\", \"__count\": 1, \"bin_step_0_05_ln_normalized_totalWeight\": -2.8000000000000003, \"bin_step_0_05_ln_normalized_totalWeight_end\": -2.7500000000000004, \"bin_step_5_StartYear\": 1635.0, \"bin_step_5_StartYear_range\": \"1635 \\u2013 1640\", \"ln_normalized_totalWeight\": -2.7965469107080314}, {\"StartYear\": \"1708\", \"__count\": 2, \"bin_step_0_05_ln_normalized_totalWeight\": -2.8000000000000003, \"bin_step_0_05_ln_normalized_totalWeight_end\": -2.7500000000000004, \"bin_step_5_StartYear\": 1705.0, \"bin_step_5_StartYear_range\": \"1705 \\u2013 1710\", \"ln_normalized_totalWeight\": -2.7965469107080314}, {\"StartYear\": \"1813\", \"__count\": 4, \"bin_step_0_05_ln_normalized_totalWeight\": -2.8000000000000003, \"bin_step_0_05_ln_normalized_totalWeight_end\": -2.7500000000000004, \"bin_step_5_StartYear\": 1810.0, \"bin_step_5_StartYear_range\": \"1810 \\u2013 1815\", \"ln_normalized_totalWeight\": -2.7965469107080314}, {\"StartYear\": \"1811\", \"__count\": 2, \"bin_step_0_05_ln_normalized_totalWeight\": -2.8000000000000003, \"bin_step_0_05_ln_normalized_totalWeight_end\": -2.7500000000000004, \"bin_step_5_StartYear\": 1810.0, \"bin_step_5_StartYear_range\": \"1810 \\u2013 1815\", \"ln_normalized_totalWeight\": -2.7965469107080314}, {\"StartYear\": \"1746\", \"__count\": 2, \"bin_step_0_05_ln_normalized_totalWeight\": -2.8000000000000003, \"bin_step_0_05_ln_normalized_totalWeight_end\": -2.7500000000000004, \"bin_step_5_StartYear\": 1745.0, \"bin_step_5_StartYear_range\": \"1745 \\u2013 1750\", \"ln_normalized_totalWeight\": -2.7965469107080314}, {\"StartYear\": \"1877\", \"__count\": 1, \"bin_step_0_05_ln_normalized_totalWeight\": -2.8000000000000003, \"bin_step_0_05_ln_normalized_totalWeight_end\": -2.7500000000000004, \"bin_step_5_StartYear\": 1875.0, \"bin_step_5_StartYear_range\": \"1875 \\u2013 1880\", \"ln_normalized_totalWeight\": -2.7965469107080314}, {\"StartYear\": \"1904\", \"__count\": 2, \"bin_step_0_05_ln_normalized_totalWeight\": -2.8000000000000003, \"bin_step_0_05_ln_normalized_totalWeight_end\": -2.7500000000000004, \"bin_step_5_StartYear\": 1900.0, \"bin_step_5_StartYear_range\": \"1900 \\u2013 1905\", \"ln_normalized_totalWeight\": -2.7965469107080314}, {\"StartYear\": \"1609\", \"__count\": 1, \"bin_step_0_05_ln_normalized_totalWeight\": -2.8000000000000003, \"bin_step_0_05_ln_normalized_totalWeight_end\": -2.7500000000000004, \"bin_step_5_StartYear\": 1605.0, \"bin_step_5_StartYear_range\": \"1605 \\u2013 1610\", \"ln_normalized_totalWeight\": -2.7965469107080314}, {\"StartYear\": \"1645\", \"__count\": 2, \"bin_step_0_05_ln_normalized_totalWeight\": -2.8000000000000003, \"bin_step_0_05_ln_normalized_totalWeight_end\": -2.7500000000000004, \"bin_step_5_StartYear\": 1645.0, \"bin_step_5_StartYear_range\": \"1645 \\u2013 1650\", \"ln_normalized_totalWeight\": -2.7965469107080314}, {\"StartYear\": \"1663\", \"__count\": 1, \"bin_step_0_05_ln_normalized_totalWeight\": -2.8000000000000003, \"bin_step_0_05_ln_normalized_totalWeight_end\": -2.7500000000000004, \"bin_step_5_StartYear\": 1660.0, \"bin_step_5_StartYear_range\": \"1660 \\u2013 1665\", \"ln_normalized_totalWeight\": -2.7965469107080314}, {\"StartYear\": \"1677\", \"__count\": 1, \"bin_step_0_05_ln_normalized_totalWeight\": -2.8000000000000003, \"bin_step_0_05_ln_normalized_totalWeight_end\": -2.7500000000000004, \"bin_step_5_StartYear\": 1675.0, \"bin_step_5_StartYear_range\": \"1675 \\u2013 1680\", \"ln_normalized_totalWeight\": -2.7965469107080314}, {\"StartYear\": \"1886\", \"__count\": 1, \"bin_step_0_05_ln_normalized_totalWeight\": -2.8000000000000003, \"bin_step_0_05_ln_normalized_totalWeight_end\": -2.7500000000000004, \"bin_step_5_StartYear\": 1885.0, \"bin_step_5_StartYear_range\": \"1885 \\u2013 1890\", \"ln_normalized_totalWeight\": -2.7965469107080314}, {\"StartYear\": \"1814\", \"__count\": 1, \"bin_step_0_05_ln_normalized_totalWeight\": -2.8000000000000003, \"bin_step_0_05_ln_normalized_totalWeight_end\": -2.7500000000000004, \"bin_step_5_StartYear\": 1810.0, \"bin_step_5_StartYear_range\": \"1810 \\u2013 1815\", \"ln_normalized_totalWeight\": -2.7965469107080314}, {\"StartYear\": \"1745\", \"__count\": 1, \"bin_step_0_05_ln_normalized_totalWeight\": -2.8000000000000003, \"bin_step_0_05_ln_normalized_totalWeight_end\": -2.7500000000000004, \"bin_step_5_StartYear\": 1745.0, \"bin_step_5_StartYear_range\": \"1745 \\u2013 1750\", \"ln_normalized_totalWeight\": -2.7965469107080314}, {\"StartYear\": \"1739\", \"__count\": 1, \"bin_step_0_05_ln_normalized_totalWeight\": -2.8000000000000003, \"bin_step_0_05_ln_normalized_totalWeight_end\": -2.7500000000000004, \"bin_step_5_StartYear\": 1735.0, \"bin_step_5_StartYear_range\": \"1735 \\u2013 1740\", \"ln_normalized_totalWeight\": -2.7965469107080314}, {\"StartYear\": \"1706\", \"__count\": 1, \"bin_step_0_05_ln_normalized_totalWeight\": -2.8000000000000003, \"bin_step_0_05_ln_normalized_totalWeight_end\": -2.7500000000000004, \"bin_step_5_StartYear\": 1705.0, \"bin_step_5_StartYear_range\": \"1705 \\u2013 1710\", \"ln_normalized_totalWeight\": -2.7965469107080314}, {\"StartYear\": \"1726\", \"__count\": 1, \"bin_step_0_05_ln_normalized_totalWeight\": -2.8000000000000003, \"bin_step_0_05_ln_normalized_totalWeight_end\": -2.7500000000000004, \"bin_step_5_StartYear\": 1725.0, \"bin_step_5_StartYear_range\": \"1725 \\u2013 1730\", \"ln_normalized_totalWeight\": -2.7965469107080314}, {\"StartYear\": \"1602\", \"__count\": 2, \"bin_step_0_05_ln_normalized_totalWeight\": -2.8000000000000003, \"bin_step_0_05_ln_normalized_totalWeight_end\": -2.7500000000000004, \"bin_step_5_StartYear\": 1600.0, \"bin_step_5_StartYear_range\": \"1600 \\u2013 1605\", \"ln_normalized_totalWeight\": -2.7965469107080314}, {\"StartYear\": \"1753\", \"__count\": 4, \"bin_step_0_05_ln_normalized_totalWeight\": -2.8000000000000003, \"bin_step_0_05_ln_normalized_totalWeight_end\": -2.7500000000000004, \"bin_step_5_StartYear\": 1750.0, \"bin_step_5_StartYear_range\": \"1750 \\u2013 1755\", \"ln_normalized_totalWeight\": -2.7965469107080314}, {\"StartYear\": \"1732\", \"__count\": 1, \"bin_step_0_05_ln_normalized_totalWeight\": -2.8000000000000003, \"bin_step_0_05_ln_normalized_totalWeight_end\": -2.7500000000000004, \"bin_step_5_StartYear\": 1730.0, \"bin_step_5_StartYear_range\": \"1730 \\u2013 1735\", \"ln_normalized_totalWeight\": -2.7965469107080314}, {\"StartYear\": \"1646\", \"__count\": 1, \"bin_step_0_05_ln_normalized_totalWeight\": -2.8000000000000003, \"bin_step_0_05_ln_normalized_totalWeight_end\": -2.7500000000000004, \"bin_step_5_StartYear\": 1645.0, \"bin_step_5_StartYear_range\": \"1645 \\u2013 1650\", \"ln_normalized_totalWeight\": -2.7965469107080314}, {\"StartYear\": \"1729\", \"__count\": 1, \"bin_step_0_05_ln_normalized_totalWeight\": -2.8000000000000003, \"bin_step_0_05_ln_normalized_totalWeight_end\": -2.7500000000000004, \"bin_step_5_StartYear\": 1725.0, \"bin_step_5_StartYear_range\": \"1725 \\u2013 1730\", \"ln_normalized_totalWeight\": -2.7965469107080314}, {\"StartYear\": \"1564\", \"__count\": 1, \"bin_step_0_05_ln_normalized_totalWeight\": -2.8000000000000003, \"bin_step_0_05_ln_normalized_totalWeight_end\": -2.7500000000000004, \"bin_step_5_StartYear\": 1560.0, \"bin_step_5_StartYear_range\": \"1560 \\u2013 1565\", \"ln_normalized_totalWeight\": -2.7965469107080314}, {\"StartYear\": \"1900\", \"__count\": 1, \"bin_step_0_05_ln_normalized_totalWeight\": -2.8000000000000003, \"bin_step_0_05_ln_normalized_totalWeight_end\": -2.7500000000000004, \"bin_step_5_StartYear\": 1900.0, \"bin_step_5_StartYear_range\": \"1900 \\u2013 1905\", \"ln_normalized_totalWeight\": -2.7965469107080314}, {\"StartYear\": \"1660\", \"__count\": 1, \"bin_step_0_05_ln_normalized_totalWeight\": -2.8000000000000003, \"bin_step_0_05_ln_normalized_totalWeight_end\": -2.7500000000000004, \"bin_step_5_StartYear\": 1660.0, \"bin_step_5_StartYear_range\": \"1660 \\u2013 1665\", \"ln_normalized_totalWeight\": -2.7965469107080314}, {\"StartYear\": \"1674\", \"__count\": 1, \"bin_step_0_05_ln_normalized_totalWeight\": -2.8000000000000003, \"bin_step_0_05_ln_normalized_totalWeight_end\": -2.7500000000000004, \"bin_step_5_StartYear\": 1670.0, \"bin_step_5_StartYear_range\": \"1670 \\u2013 1675\", \"ln_normalized_totalWeight\": -2.7965469107080314}, {\"StartYear\": \"1625\", \"__count\": 1, \"bin_step_0_05_ln_normalized_totalWeight\": -2.8000000000000003, \"bin_step_0_05_ln_normalized_totalWeight_end\": -2.7500000000000004, \"bin_step_5_StartYear\": 1625.0, \"bin_step_5_StartYear_range\": \"1625 \\u2013 1630\", \"ln_normalized_totalWeight\": -2.7965469107080314}]}, {\"name\": \"source_0_x_domain_bin_step_5_StartYear_range\", \"values\": [{\"bin_step_5_StartYear_range\": \"1795 \\u2013 1800\", \"sort_field\": 1795.0}, {\"bin_step_5_StartYear_range\": \"1590 \\u2013 1595\", \"sort_field\": 1590.0}, {\"bin_step_5_StartYear_range\": \"1760 \\u2013 1765\", \"sort_field\": 1760.0}, {\"bin_step_5_StartYear_range\": \"1615 \\u2013 1620\", \"sort_field\": 1615.0}, {\"bin_step_5_StartYear_range\": \"1715 \\u2013 1720\", \"sort_field\": 1715.0}, {\"bin_step_5_StartYear_range\": \"1620 \\u2013 1625\", \"sort_field\": 1620.0}, {\"bin_step_5_StartYear_range\": \"1790 \\u2013 1795\", \"sort_field\": 1790.0}, {\"bin_step_5_StartYear_range\": \"1660 \\u2013 1665\", \"sort_field\": 1660.0}, {\"bin_step_5_StartYear_range\": \"1770 \\u2013 1775\", \"sort_field\": 1770.0}, {\"bin_step_5_StartYear_range\": \"1750 \\u2013 1755\", \"sort_field\": 1750.0}, {\"bin_step_5_StartYear_range\": \"1610 \\u2013 1615\", \"sort_field\": 1610.0}, {\"bin_step_5_StartYear_range\": \"1805 \\u2013 1810\", \"sort_field\": 1805.0}, {\"bin_step_5_StartYear_range\": \"1755 \\u2013 1760\", \"sort_field\": 1755.0}, {\"bin_step_5_StartYear_range\": \"1735 \\u2013 1740\", \"sort_field\": 1735.0}, {\"bin_step_5_StartYear_range\": \"1655 \\u2013 1660\", \"sort_field\": 1655.0}, {\"bin_step_5_StartYear_range\": \"1820 \\u2013 1825\", \"sort_field\": 1820.0}, {\"bin_step_5_StartYear_range\": \"1580 \\u2013 1585\", \"sort_field\": 1580.0}, {\"bin_step_5_StartYear_range\": \"1765 \\u2013 1770\", \"sort_field\": 1765.0}, {\"bin_step_5_StartYear_range\": \"1780 \\u2013 1785\", \"sort_field\": 1780.0}, {\"bin_step_5_StartYear_range\": \"1650 \\u2013 1655\", \"sort_field\": 1650.0}, {\"bin_step_5_StartYear_range\": \"1560 \\u2013 1565\", \"sort_field\": 1560.0}, {\"bin_step_5_StartYear_range\": \"1695 \\u2013 1700\", \"sort_field\": 1695.0}, {\"bin_step_5_StartYear_range\": \"1625 \\u2013 1630\", \"sort_field\": 1625.0}, {\"bin_step_5_StartYear_range\": \"1865 \\u2013 1870\", \"sort_field\": 1865.0}, {\"bin_step_5_StartYear_range\": \"1800 \\u2013 1805\", \"sort_field\": 1800.0}, {\"bin_step_5_StartYear_range\": \"1785 \\u2013 1790\", \"sort_field\": 1785.0}, {\"bin_step_5_StartYear_range\": \"1600 \\u2013 1605\", \"sort_field\": 1600.0}, {\"bin_step_5_StartYear_range\": \"1860 \\u2013 1865\", \"sort_field\": 1860.0}, {\"bin_step_5_StartYear_range\": \"1680 \\u2013 1685\", \"sort_field\": 1680.0}, {\"bin_step_5_StartYear_range\": \"1635 \\u2013 1640\", \"sort_field\": 1635.0}, {\"bin_step_5_StartYear_range\": \"1830 \\u2013 1835\", \"sort_field\": 1830.0}, {\"bin_step_5_StartYear_range\": \"null\", \"sort_field\": null}, {\"bin_step_5_StartYear_range\": \"1705 \\u2013 1710\", \"sort_field\": 1705.0}, {\"bin_step_5_StartYear_range\": \"1730 \\u2013 1735\", \"sort_field\": 1730.0}, {\"bin_step_5_StartYear_range\": \"1825 \\u2013 1830\", \"sort_field\": 1825.0}, {\"bin_step_5_StartYear_range\": \"1720 \\u2013 1725\", \"sort_field\": 1720.0}, {\"bin_step_5_StartYear_range\": \"1640 \\u2013 1645\", \"sort_field\": 1640.0}, {\"bin_step_5_StartYear_range\": \"1665 \\u2013 1670\", \"sort_field\": 1665.0}, {\"bin_step_5_StartYear_range\": \"1710 \\u2013 1715\", \"sort_field\": 1710.0}, {\"bin_step_5_StartYear_range\": \"1645 \\u2013 1650\", \"sort_field\": 1645.0}, {\"bin_step_5_StartYear_range\": \"1740 \\u2013 1745\", \"sort_field\": 1740.0}, {\"bin_step_5_StartYear_range\": \"1700 \\u2013 1705\", \"sort_field\": 1700.0}, {\"bin_step_5_StartYear_range\": \"1835 \\u2013 1840\", \"sort_field\": 1835.0}, {\"bin_step_5_StartYear_range\": \"1810 \\u2013 1815\", \"sort_field\": 1810.0}, {\"bin_step_5_StartYear_range\": \"1725 \\u2013 1730\", \"sort_field\": 1725.0}, {\"bin_step_5_StartYear_range\": \"1845 \\u2013 1850\", \"sort_field\": 1845.0}, {\"bin_step_5_StartYear_range\": \"1840 \\u2013 1845\", \"sort_field\": 1840.0}, {\"bin_step_5_StartYear_range\": \"1855 \\u2013 1860\", \"sort_field\": 1855.0}, {\"bin_step_5_StartYear_range\": \"1775 \\u2013 1780\", \"sort_field\": 1775.0}, {\"bin_step_5_StartYear_range\": \"1745 \\u2013 1750\", \"sort_field\": 1745.0}, {\"bin_step_5_StartYear_range\": \"1690 \\u2013 1695\", \"sort_field\": 1690.0}, {\"bin_step_5_StartYear_range\": \"1870 \\u2013 1875\", \"sort_field\": 1870.0}, {\"bin_step_5_StartYear_range\": \"1850 \\u2013 1855\", \"sort_field\": 1850.0}, {\"bin_step_5_StartYear_range\": \"1895 \\u2013 1900\", \"sort_field\": 1895.0}, {\"bin_step_5_StartYear_range\": \"1670 \\u2013 1675\", \"sort_field\": 1670.0}, {\"bin_step_5_StartYear_range\": \"1880 \\u2013 1885\", \"sort_field\": 1880.0}, {\"bin_step_5_StartYear_range\": \"1875 \\u2013 1880\", \"sort_field\": 1875.0}, {\"bin_step_5_StartYear_range\": \"1815 \\u2013 1820\", \"sort_field\": 1815.0}, {\"bin_step_5_StartYear_range\": \"1675 \\u2013 1680\", \"sort_field\": 1675.0}, {\"bin_step_5_StartYear_range\": \"1885 \\u2013 1890\", \"sort_field\": 1885.0}, {\"bin_step_5_StartYear_range\": \"1890 \\u2013 1895\", \"sort_field\": 1890.0}, {\"bin_step_5_StartYear_range\": \"1900 \\u2013 1905\", \"sort_field\": 1900.0}, {\"bin_step_5_StartYear_range\": \"1905 \\u2013 1910\", \"sort_field\": 1905.0}, {\"bin_step_5_StartYear_range\": \"1630 \\u2013 1635\", \"sort_field\": 1630.0}, {\"bin_step_5_StartYear_range\": \"1685 \\u2013 1690\", \"sort_field\": 1685.0}, {\"bin_step_5_StartYear_range\": \"1570 \\u2013 1575\", \"sort_field\": 1570.0}, {\"bin_step_5_StartYear_range\": \"1520 \\u2013 1525\", \"sort_field\": 1520.0}, {\"bin_step_5_StartYear_range\": \"1565 \\u2013 1570\", \"sort_field\": 1565.0}, {\"bin_step_5_StartYear_range\": \"1605 \\u2013 1610\", \"sort_field\": 1605.0}]}, {\"name\": \"source_0_color_domain___count\", \"values\": [{\"min\": 1, \"max\": 426}]}], \"signals\": [{\"name\": \"bin_step_0_05_ln_normalized_totalWeight_bins\", \"value\": {\"fields\": [\"ln_normalized_totalWeight\"], \"fname\": \"bin_ln_normalized_totalWeight\", \"start\": -2.8000000000000003, \"step\": 0.05, \"stop\": 0.05}}, {\"name\": \"unit\", \"value\": {}, \"on\": [{\"events\": \"pointermove\", \"update\": \"isTuple(group()) ? group() : unit\"}]}, {\"name\": \"param_33\", \"update\": \"vlSelectionResolve(\\\"param_33_store\\\", \\\"union\\\")\"}, {\"name\": \"param_33_StartYear\", \"on\": [{\"events\": [{\"source\": \"view\", \"type\": \"dblclick\"}], \"update\": \"null\"}, {\"events\": {\"signal\": \"param_33_translate_delta\"}, \"update\": \"panLinear(param_33_translate_anchor.extent_x, -param_33_translate_delta.x / width)\"}, {\"events\": {\"signal\": \"param_33_zoom_delta\"}, \"update\": \"zoomLinear(domain(\\\"x\\\"), param_33_zoom_anchor.x, param_33_zoom_delta)\"}]}, {\"name\": \"param_33_ln_normalized_totalWeight\", \"on\": [{\"events\": [{\"source\": \"view\", \"type\": \"dblclick\"}], \"update\": \"null\"}, {\"events\": {\"signal\": \"param_33_translate_delta\"}, \"update\": \"panLinear(param_33_translate_anchor.extent_y, param_33_translate_delta.y / height)\"}, {\"events\": {\"signal\": \"param_33_zoom_delta\"}, \"update\": \"zoomLinear(domain(\\\"y\\\"), param_33_zoom_anchor.y, param_33_zoom_delta)\"}]}, {\"name\": \"param_33_tuple\", \"on\": [{\"events\": [{\"signal\": \"param_33_StartYear || param_33_ln_normalized_totalWeight\"}], \"update\": \"param_33_StartYear && param_33_ln_normalized_totalWeight ? {unit: \\\"\\\", fields: param_33_tuple_fields, values: [param_33_StartYear,param_33_ln_normalized_totalWeight]} : null\"}]}, {\"name\": \"param_33_tuple_fields\", \"value\": [{\"field\": \"StartYear\", \"channel\": \"x\", \"type\": \"R-RE\"}, {\"field\": \"ln_normalized_totalWeight\", \"channel\": \"y\", \"type\": \"R\"}]}, {\"name\": \"param_33_translate_anchor\", \"value\": {}, \"on\": [{\"events\": [{\"source\": \"scope\", \"type\": \"pointerdown\"}], \"update\": \"{x: x(unit), y: y(unit), extent_x: domain(\\\"x\\\"), extent_y: domain(\\\"y\\\")}\"}]}, {\"name\": \"param_33_translate_delta\", \"value\": {}, \"on\": [{\"events\": [{\"source\": \"window\", \"between\": [{\"source\": \"scope\", \"type\": \"pointerdown\"}, {\"source\": \"window\", \"type\": \"pointerup\"}], \"type\": \"pointermove\", \"consume\": true}], \"update\": \"{x: param_33_translate_anchor.x - x(unit), y: param_33_translate_anchor.y - y(unit)}\"}]}, {\"name\": \"param_33_zoom_anchor\", \"on\": [{\"events\": [{\"source\": \"scope\", \"consume\": true, \"type\": \"wheel\"}], \"update\": \"{x: invert(\\\"x\\\", x(unit)), y: invert(\\\"y\\\", y(unit))}\"}]}, {\"name\": \"param_33_zoom_delta\", \"on\": [{\"events\": [{\"source\": \"scope\", \"consume\": true, \"type\": \"wheel\"}], \"update\": \"pow(1.001, event.deltaY * pow(16, event.deltaMode))\", \"force\": true}]}, {\"name\": \"param_33_modify\", \"on\": [{\"events\": {\"signal\": \"param_33_tuple\"}, \"update\": \"modify(\\\"param_33_store\\\", param_33_tuple, true)\"}]}], \"marks\": [{\"type\": \"rect\", \"name\": \"marks\", \"from\": {\"data\": \"source_0\"}, \"encode\": {\"update\": {\"y2\": {\"field\": \"bin_step_0_05_ln_normalized_totalWeight\", \"scale\": \"y\", \"offset\": {\"signal\": \"0.5 + (abs(scale(\\\"y\\\", datum[\\\"bin_step_0_05_ln_normalized_totalWeight_end\\\"]) - scale(\\\"y\\\", datum[\\\"bin_step_0_05_ln_normalized_totalWeight\\\"])) < 0.25 ? 0.5 * (0.25 - (abs(scale(\\\"y\\\", datum[\\\"bin_step_0_05_ln_normalized_totalWeight_end\\\"]) - scale(\\\"y\\\", datum[\\\"bin_step_0_05_ln_normalized_totalWeight\\\"])))) : 0)\"}}, \"width\": {\"signal\": \"max(0.25, bandwidth('x'))\"}, \"y\": {\"field\": \"bin_step_0_05_ln_normalized_totalWeight_end\", \"scale\": \"y\", \"offset\": {\"signal\": \"0.5 + (abs(scale(\\\"y\\\", datum[\\\"bin_step_0_05_ln_normalized_totalWeight_end\\\"]) - scale(\\\"y\\\", datum[\\\"bin_step_0_05_ln_normalized_totalWeight\\\"])) < 0.25 ? -0.5 * (0.25 - (abs(scale(\\\"y\\\", datum[\\\"bin_step_0_05_ln_normalized_totalWeight_end\\\"]) - scale(\\\"y\\\", datum[\\\"bin_step_0_05_ln_normalized_totalWeight\\\"])))) : 0)\"}}, \"fill\": {\"field\": \"__count\", \"scale\": \"color\"}, \"x\": {\"field\": \"bin_step_5_StartYear_range\", \"scale\": \"x\"}, \"tooltip\": {\"signal\": \"{\\\"Count of Records\\\": format(datum[\\\"__count\\\"], \\\"\\\"), \\\"StartYear\\\": format(datum[\\\"StartYear\\\"], \\\"\\\"), \\\"ln_normalized_totalWeight\\\": format(datum[\\\"ln_normalized_totalWeight\\\"], \\\"\\\")}\"}}}, \"style\": [\"rect\"], \"clip\": true, \"interactive\": true}], \"scales\": [{\"name\": \"x\", \"type\": \"band\", \"domain\": {\"data\": \"source_0_x_domain_bin_step_5_StartYear_range\", \"field\": \"bin_step_5_StartYear_range\", \"sort\": {\"op\": \"max\", \"field\": \"sort_field\"}}, \"range\": [0, {\"signal\": \"width\"}], \"paddingInner\": 0, \"paddingOuter\": 0}, {\"name\": \"y\", \"type\": \"linear\", \"domain\": {\"signal\": \"[bin_step_0_05_ln_normalized_totalWeight_bins.start, bin_step_0_05_ln_normalized_totalWeight_bins.stop]\"}, \"range\": [{\"signal\": \"height\"}, 0], \"bins\": {\"signal\": \"bin_step_0_05_ln_normalized_totalWeight_bins\"}, \"domainRaw\": {\"signal\": \"param_33[\\\"ln_normalized_totalWeight\\\"]\"}, \"zero\": false}, {\"name\": \"color\", \"type\": \"linear\", \"domain\": [{\"signal\": \"(data(\\\"source_0_color_domain___count\\\")[0] || {}).min\"}, {\"signal\": \"(data(\\\"source_0_color_domain___count\\\")[0] || {}).max\"}], \"range\": \"heatmap\", \"zero\": false, \"interpolate\": \"hcl\"}], \"axes\": [{\"scale\": \"x\", \"labelAlign\": \"right\", \"labelBaseline\": \"top\", \"zindex\": 1, \"orient\": \"bottom\", \"grid\": false, \"labelAngle\": 315, \"title\": \"Start Year\"}, {\"scale\": \"y\", \"title\": \"Normalized Total Weight\", \"zindex\": 1, \"orient\": \"left\", \"grid\": false, \"tickCount\": {\"signal\": \"ceil(height/10)\"}, \"labelOverlap\": true}], \"title\": {\"text\": \"Heatmap of Start Year vs Normalized Total Weight\", \"frame\": \"group\"}, \"padding\": 5, \"height\": 200, \"legends\": [{\"title\": \"Density\", \"fill\": \"color\", \"gradientLength\": {\"signal\": \"clamp(height, 64, 200)\"}}], \"style\": \"cell\", \"background\": \"white\", \"width\": 1000}, {\"mode\": \"vega\"});\n</script>",
      "text/plain": "alt.Chart(...)"
     },
     "metadata": {},
     "output_type": "display_data"
    }
   ],
   "source": [
    "alt.data_transformers.enable(\"vegafusion\")\n",
    "poet_min_max_sorted_heatmap = poet_min_max_sorted.copy()\n",
    "poet_min_max_sorted_heatmap['StartYear'] = poet_min_max_sorted_heatmap['StartYear'].replace(0, \"missing\")\n",
    "\n",
    "poet_min_max_sorted_heatmap['ln_normalized_totalWeight'] = poet_min_max_sorted_heatmap[\n",
    "    'ln_normalized_totalWeight'].fillna(0)\n",
    "# 创建热力图\n",
    "heatmap = alt.Chart(poet_min_max_sorted_heatmap).mark_rect().encode(\n",
    "    x=alt.X('StartYear:O', title='Start Year', bin=alt.Bin(step=5), axis=alt.Axis(labelAngle=-45)),  # 横轴分箱\n",
    "    y=alt.Y('ln_normalized_totalWeight:Q', title='Normalized Total Weight', bin=alt.Bin(step=0.05)),  # 纵轴分箱\n",
    "    color=alt.Color('count():Q', title='Density'),  # 用颜色显示计数\n",
    "    tooltip=['count()', 'StartYear', 'ln_normalized_totalWeight']\n",
    ").properties(\n",
    "    width=1000,\n",
    "    height=200,\n",
    "    title='Heatmap of Start Year vs Normalized Total Weight'\n",
    ").interactive()\n",
    "\n",
    "heatmap.display()"
   ],
   "metadata": {
    "collapsed": false,
    "ExecuteTime": {
     "end_time": "2024-12-03T08:07:29.013618Z",
     "start_time": "2024-12-03T08:07:28.941114Z"
    }
   },
   "id": "14fc5f7a81935618",
   "execution_count": 93
  },
  {
   "cell_type": "code",
   "outputs": [
    {
     "data": {
      "text/plain": "ln_normalized_totalWeight  MissingFields\n-2.796547                  0                  3\n                           1                 91\n                           2                 80\n                           3                186\n                           4                207\n                                           ... \n-0.337341                  2                  1\n-0.320415                  0                  1\n-0.203446                  4                  1\n-0.202043                  0                  1\n 0.009950                  2                  1\nLength: 199, dtype: int64"
     },
     "execution_count": 74,
     "metadata": {},
     "output_type": "execute_result"
    }
   ],
   "source": [
    "poet_min_max_sorted_heatmap_copy = poet_min_max_sorted_heatmap.copy()\n",
    "# poet_min_max_sorted_heatmap_copy['StartYear_filled'] = poet_min_max_sorted_heatmap_copy['StartYear'].fillna('Missing')\n",
    "\n",
    "duplicates = poet_min_max_sorted_heatmap_copy.groupby(['ln_normalized_totalWeight', 'MissingFields']).size()\n",
    "duplicates\n",
    "# poet_min_max_sorted_heatmap_copy[poet_min_max_sorted_heatmap_copy['StartYear']=='missing']"
   ],
   "metadata": {
    "collapsed": false,
    "ExecuteTime": {
     "end_time": "2024-12-03T07:51:23.689628Z",
     "start_time": "2024-12-03T07:51:23.666070Z"
    }
   },
   "id": "114c9eee31fe9d80",
   "execution_count": 74
  },
  {
   "cell_type": "code",
   "outputs": [
    {
     "data": {
      "text/plain": "      poetID NameHZ StartYear  EndYear  totalWeight  normalized_totalWeight  \\\n0        911    顧太清      1799     1877     0.497538                1.000000   \n1        199     吳藻      1799     1862     0.401543                0.807060   \n2         43    顧若璞      1592     1681     0.400973                0.805914   \n3        202    席佩蘭      1762     1842     0.356162                0.715848   \n4        167    歸懋儀      1762     1832     0.350100                0.703665   \n...      ...    ...       ...      ...          ...                     ...   \n2762     373    許庚身      1821     1893     0.025385                0.051020   \n2763     372    楊昌濬      1821     1897     0.025385                0.051020   \n2764     333    姚福增      1796     1850     0.025385                0.051020   \n2765    8408     董恂      1821     1908     0.025385                0.051020   \n2766    8460    俞彥文      1875     1950     0.025385                0.051020   \n\n      ln_normalized_totalWeight  MissingFields  \n0                      0.009950              2  \n1                     -0.202043              0  \n2                     -0.203446              4  \n3                     -0.320415              0  \n4                     -0.337341              2  \n...                         ...            ...  \n2762                  -2.796547              7  \n2763                  -2.796547              7  \n2764                  -2.796547              7  \n2765                  -2.796547              7  \n2766                  -2.796547              8  \n\n[2767 rows x 8 columns]",
      "text/html": "<div>\n<style scoped>\n    .dataframe tbody tr th:only-of-type {\n        vertical-align: middle;\n    }\n\n    .dataframe tbody tr th {\n        vertical-align: top;\n    }\n\n    .dataframe thead th {\n        text-align: right;\n    }\n</style>\n<table border=\"1\" class=\"dataframe\">\n  <thead>\n    <tr style=\"text-align: right;\">\n      <th></th>\n      <th>poetID</th>\n      <th>NameHZ</th>\n      <th>StartYear</th>\n      <th>EndYear</th>\n      <th>totalWeight</th>\n      <th>normalized_totalWeight</th>\n      <th>ln_normalized_totalWeight</th>\n      <th>MissingFields</th>\n    </tr>\n  </thead>\n  <tbody>\n    <tr>\n      <th>0</th>\n      <td>911</td>\n      <td>顧太清</td>\n      <td>1799</td>\n      <td>1877</td>\n      <td>0.497538</td>\n      <td>1.000000</td>\n      <td>0.009950</td>\n      <td>2</td>\n    </tr>\n    <tr>\n      <th>1</th>\n      <td>199</td>\n      <td>吳藻</td>\n      <td>1799</td>\n      <td>1862</td>\n      <td>0.401543</td>\n      <td>0.807060</td>\n      <td>-0.202043</td>\n      <td>0</td>\n    </tr>\n    <tr>\n      <th>2</th>\n      <td>43</td>\n      <td>顧若璞</td>\n      <td>1592</td>\n      <td>1681</td>\n      <td>0.400973</td>\n      <td>0.805914</td>\n      <td>-0.203446</td>\n      <td>4</td>\n    </tr>\n    <tr>\n      <th>3</th>\n      <td>202</td>\n      <td>席佩蘭</td>\n      <td>1762</td>\n      <td>1842</td>\n      <td>0.356162</td>\n      <td>0.715848</td>\n      <td>-0.320415</td>\n      <td>0</td>\n    </tr>\n    <tr>\n      <th>4</th>\n      <td>167</td>\n      <td>歸懋儀</td>\n      <td>1762</td>\n      <td>1832</td>\n      <td>0.350100</td>\n      <td>0.703665</td>\n      <td>-0.337341</td>\n      <td>2</td>\n    </tr>\n    <tr>\n      <th>...</th>\n      <td>...</td>\n      <td>...</td>\n      <td>...</td>\n      <td>...</td>\n      <td>...</td>\n      <td>...</td>\n      <td>...</td>\n      <td>...</td>\n    </tr>\n    <tr>\n      <th>2762</th>\n      <td>373</td>\n      <td>許庚身</td>\n      <td>1821</td>\n      <td>1893</td>\n      <td>0.025385</td>\n      <td>0.051020</td>\n      <td>-2.796547</td>\n      <td>7</td>\n    </tr>\n    <tr>\n      <th>2763</th>\n      <td>372</td>\n      <td>楊昌濬</td>\n      <td>1821</td>\n      <td>1897</td>\n      <td>0.025385</td>\n      <td>0.051020</td>\n      <td>-2.796547</td>\n      <td>7</td>\n    </tr>\n    <tr>\n      <th>2764</th>\n      <td>333</td>\n      <td>姚福增</td>\n      <td>1796</td>\n      <td>1850</td>\n      <td>0.025385</td>\n      <td>0.051020</td>\n      <td>-2.796547</td>\n      <td>7</td>\n    </tr>\n    <tr>\n      <th>2765</th>\n      <td>8408</td>\n      <td>董恂</td>\n      <td>1821</td>\n      <td>1908</td>\n      <td>0.025385</td>\n      <td>0.051020</td>\n      <td>-2.796547</td>\n      <td>7</td>\n    </tr>\n    <tr>\n      <th>2766</th>\n      <td>8460</td>\n      <td>俞彥文</td>\n      <td>1875</td>\n      <td>1950</td>\n      <td>0.025385</td>\n      <td>0.051020</td>\n      <td>-2.796547</td>\n      <td>8</td>\n    </tr>\n  </tbody>\n</table>\n<p>2767 rows × 8 columns</p>\n</div>"
     },
     "execution_count": 71,
     "metadata": {},
     "output_type": "execute_result"
    }
   ],
   "source": [
    "poet_min_max_sorted_heatmap_copy"
   ],
   "metadata": {
    "collapsed": false,
    "ExecuteTime": {
     "end_time": "2024-12-03T07:50:19.927238Z",
     "start_time": "2024-12-03T07:50:19.901362Z"
    }
   },
   "id": "b322e8c30d8c470e",
   "execution_count": 71
  },
  {
   "cell_type": "code",
   "outputs": [
    {
     "data": {
      "text/plain": "ln_normalized_totalWeight  MissingFields\n-2.796547                  0                  3\n                           1                 91\n                           2                 80\n                           3                186\n                           4                207\n                                           ... \n-0.337341                  2                  1\n-0.320415                  0                  1\n-0.203446                  4                  1\n-0.202043                  0                  1\n 0.009950                  2                  1\nLength: 199, dtype: int64"
     },
     "execution_count": 72,
     "metadata": {},
     "output_type": "execute_result"
    }
   ],
   "source": [
    "duplicates = poet_min_max_sorted.groupby(['ln_normalized_totalWeight', 'MissingFields']).size()\n",
    "duplicates"
   ],
   "metadata": {
    "collapsed": false,
    "ExecuteTime": {
     "end_time": "2024-12-03T07:50:21.000742Z",
     "start_time": "2024-12-03T07:50:20.992059Z"
    }
   },
   "id": "bab23e9b486a1712",
   "execution_count": 72
  },
  {
   "cell_type": "code",
   "outputs": [],
   "source": [
    "\n",
    "role_weights = {\n",
    "    '主要作者': 0.6, '作者': 0.6, '其他作者': 0.6,\n",
    "    '題辭': 0.3, '序作者': 0.3, '跋作者': 0.3, '附记作者': 0.3, '凡例作者': 0.3,\n",
    "    '墓志詺作者': 0.3, '輓詞作者': 0.3, '傳記作者': 0.3, '像赞作者': 0.3, '年譜作者': 0.3,\n",
    "    '编輯': 0.1, '校閲': 0.1, '校注者': 0.1\n",
    "}"
   ],
   "metadata": {
    "collapsed": false
   },
   "id": "993d8152f1a69e72",
   "execution_count": null
  },
  {
   "cell_type": "code",
   "outputs": [],
   "source": [
    "workpoet = workpoetlinks.copy()\n",
    "workpoet['RoleWeight'] = workpoet['role'].map(role_weights)\n",
    "workpoet"
   ],
   "metadata": {
    "collapsed": false
   },
   "id": "e98621b3e149055c",
   "execution_count": null
  },
  {
   "cell_type": "code",
   "outputs": [],
   "source": [
    "\n",
    "workpoet = workpoet.merge(poet_min_max_sorted, on='poetID', how='outer')"
   ],
   "metadata": {
    "collapsed": false
   },
   "id": "d4e8f0863deaab7e",
   "execution_count": null
  },
  {
   "cell_type": "code",
   "outputs": [],
   "source": [
    "workpoet['PoetImportance'] = workpoet['RoleWeight'] * workpoet['ln_normalized_totalWeight']\n",
    "workpoet"
   ],
   "metadata": {
    "collapsed": false
   },
   "id": "3c864956108835fa",
   "execution_count": null
  },
  {
   "cell_type": "code",
   "outputs": [],
   "source": [
    "# 计算每个作品的总重要性\n",
    "work_importance_total = workpoet.groupby('workID')['PoetImportance'].sum()\n",
    "\n",
    "# # 计算每个作品的参与诗人数\n",
    "# work_poet_count = workpoet.groupby('workID')['poetID'].nunique()\n",
    "# \n",
    "# # 计算标准化的工作重要性\n",
    "# work_importance = work_importance_total / work_poet_count\n",
    "# work_importance = work_importance.reset_index()\n",
    "# work_importance.columns = ['workID', 'StandardizedWorkImportance']\n",
    "\n",
    "# 归一化处理：每个作品的重要性除以所有作品重要性的最大值\n",
    "max_importance = work_importance_total.max()\n",
    "normalized_importance = work_importance_total / max_importance\n",
    "normalized_importance_df = normalized_importance.reset_index()\n",
    "raw_importance = normalized_importance_df.copy()\n",
    "normalized_importance_df = normalized_importance_df.merge(work, on='workID', how='outer')[\n",
    "    ['workID', 'TitleHZ', 'PubStartYear', 'PoetImportance']]\n",
    "normalized_importance_df"
   ],
   "metadata": {
    "collapsed": false
   },
   "id": "b21eb56eb732634b",
   "execution_count": null
  },
  {
   "cell_type": "code",
   "outputs": [],
   "source": [
    "columns_to_exclude = ['Summary', 'UniformTitle', 'VariantTitle']\n",
    "\n",
    "work['MissingFields'] = work.drop(columns=columns_to_exclude).isnull().sum(axis=1)\n",
    "\n",
    "work_importance_total_df = raw_importance.merge(work, on='workID', how='outer')[\n",
    "    ['workID', 'TitleHZ', 'PubStartYear', 'PubEndYear', 'PoetImportance', 'MissingFields']]\n",
    "\n",
    "# 将 X=0 的点放置在 X=1600 的左侧\n",
    "work_importance_total_df['AdjustedPubStartYear'] = work_importance_total_df['PubStartYear'].apply(\n",
    "    lambda x: 1590 if x == 0.0 else x\n",
    ")\n",
    "\n",
    "# 对数放大 Importance 值\n",
    "offset = 0.01  # 偏移量\n",
    "work_importance_total_df['LnPoetImportance'] = np.log(work_importance_total_df['PoetImportance'] + offset)\n",
    "\n",
    "# 拉大差距：通过指数放大或归一化处理\n",
    "scaling_factor = 5  # 放大因子\n",
    "work_importance_total_df['ScaledLnPoetImportance'] = work_importance_total_df['LnPoetImportance'] * scaling_factor\n",
    "\n",
    "import altair as alt\n",
    "\n",
    "# 绘制散点图，并设置 X 轴刻度\n",
    "scatter_plot = alt.Chart(work_importance_total_df).mark_circle(\n",
    "    stroke='white',  # 边框颜色设置为白色\n",
    "    strokeWidth=1.5  # 边框宽度\n",
    ").encode(\n",
    "    x=alt.X(\n",
    "        'AdjustedPubStartYear:Q',\n",
    "        title='Publication Start Year',\n",
    "        scale=alt.Scale(domain=[1600, 1959], nice=False),  # 定义刻度\n",
    "        axis=alt.Axis(values=[0, 1600, 1700, 1800, 1900, 1959])  # 显示特定刻度\n",
    "    ),\n",
    "    y=alt.Y('LnPoetImportance:Q', title='Normalized Poet Importance', scale=alt.Scale(zero=False)),\n",
    "    tooltip=['workID', 'TitleHZ', 'PubStartYear', 'PoetImportance']\n",
    ").properties(\n",
    "    title='Scatter Plot of Publication Year vs. Poet Importance',\n",
    "    width=100,\n",
    "    height=400\n",
    ")\n",
    "\n",
    "# 保存并展示图表\n",
    "scatter_plot.show()"
   ],
   "metadata": {
    "collapsed": false
   },
   "id": "9348f249ca07e6e7",
   "execution_count": null
  },
  {
   "cell_type": "code",
   "outputs": [],
   "source": [
    "work_importance_total_df['aggregate_value'] = work_importance_total_df['PoetImportance'] + work_importance_total_df[\n",
    "    'MissingFields']\n",
    "work_importance_total_df"
   ],
   "metadata": {
    "collapsed": false
   },
   "id": "9324076d130dca57",
   "execution_count": null
  },
  {
   "cell_type": "code",
   "outputs": [],
   "source": [
    "work_importance_total_df_nohead = work_importance_total_df[\n",
    "    (work_importance_total_df['workID'] != 37.0) & (work_importance_total_df['workID'] != 61.0)]\n",
    "work_importance_total_df_nohead\n"
   ],
   "metadata": {
    "collapsed": false
   },
   "id": "1013cc5ef3ecb91c",
   "execution_count": null
  },
  {
   "cell_type": "code",
   "outputs": [],
   "source": [
    "duplicates = work_importance_total_df.groupby(['PoetImportance', 'PubStartYear']).size()\n",
    "duplicates"
   ],
   "metadata": {
    "collapsed": false
   },
   "id": "e5ab4fd641128153",
   "execution_count": null
  },
  {
   "cell_type": "code",
   "outputs": [],
   "source": [],
   "metadata": {
    "collapsed": false
   },
   "id": "69a30cff7fb136c1"
  },
  {
   "cell_type": "code",
   "outputs": [],
   "source": [
    "scatter_plot = alt.Chart(poet_min_max_sorted).mark_circle(\n",
    "    stroke='white',  # 边框颜色设置为白色\n",
    "    strokeWidth=1.5  # 边框宽度\n",
    ").encode(\n",
    "    x=alt.X(\n",
    "        'StartYear:Q',\n",
    "        title='Poet Start Year',\n",
    "        # scale=alt.Scale(domain=[1600, 1959], nice=False),  # 定义刻度\n",
    "        # axis=alt.Axis(values=[0, 1600, 1700, 1800, 1900, 1959])  # 显示特定刻度\n",
    "    ),\n",
    "    y=alt.Y('normalized_totalWeight:Q', title='normalized_totalWeight Importance', scale=alt.Scale(zero=False)),\n",
    "    tooltip=['poetID', 'NameHZ', 'StartYear', 'normalized_totalWeight']\n",
    ").properties(\n",
    "    title='Scatter Plot of Publication Year vs. Poet Importance',\n",
    "    width=900,\n",
    "    height=400\n",
    ")\n",
    "\n",
    "# 保存并展示图表\n",
    "scatter_plot.show()"
   ],
   "metadata": {
    "collapsed": false
   },
   "id": "7200b0b4516a8b37",
   "execution_count": null
  },
  {
   "cell_type": "code",
   "outputs": [],
   "source": [
    "duplicates = poet_min_max_sorted.groupby(['StartYear', 'normalized_totalWeight']).size()\n",
    "duplicates"
   ],
   "metadata": {
    "collapsed": false
   },
   "id": "a3a97c4e363b3a09",
   "execution_count": null
  },
  {
   "cell_type": "code",
   "outputs": [],
   "source": [
    "duplicates = work_importance_total_df.groupby(['LnPoetImportance', 'MissingFields']).size()\n",
    "duplicates"
   ],
   "metadata": {
    "collapsed": false
   },
   "id": "a248f62e8ee21f92",
   "execution_count": null
  },
  {
   "cell_type": "code",
   "outputs": [],
   "source": [
    "from scipy.stats import linregress\n",
    "\n",
    "alt.data_transformers.enable(\"vegafusion\")\n",
    "\n",
    "# 共享配置\n",
    "base = alt.Chart().properties(\n",
    "    title='Missing Fields Count vs. Reversed Missing Fields',\n",
    "    width=900,\n",
    "    height=400\n",
    ").configure_axis(\n",
    "    grid=True,  # 显示网格\n",
    "    domain=True,  # 显示轴线\n",
    "    domainWidth=1.5  # 调整轴线宽度\n",
    ")\n",
    "\n",
    "offset = 0  # 偏移量\n",
    "work_importance_total_df['LnPoetImportance'] = np.log(work_importance_total_df['PoetImportance'] + offset)\n",
    "\n",
    "# 移除缺失值\n",
    "cleaned_df = work_importance_total_df.dropna(subset=['MissingFields', 'LnPoetImportance']).copy()\n",
    "\n",
    "# 执行回归分析\n",
    "y = cleaned_df['MissingFields']\n",
    "x = cleaned_df['LnPoetImportance']\n",
    "regression_result = linregress(x, y)\n",
    "\n",
    "# print(f\"Regression Slope: {regression_result.slope}\")\n",
    "# print(f\"Regression Intercept: {regression_result.intercept}\")\n",
    "# print(f\"Correlation Coefficient (r): {regression_result.rvalue}\")\n",
    "# print(f\"P-value: {regression_result.pvalue}\")\n",
    "# print(f\"Standard Error: {regression_result.stderr}\")\n",
    "\n",
    "# 添加回归预测值到 DataFrame\n",
    "cleaned_df['RegressionLine'] = regression_result.slope * cleaned_df['LnPoetImportance'] + regression_result.intercept\n",
    "\n",
    "# 绘制散点图，并设置 X 轴刻度\n",
    "scatter_plot = alt.Chart(work_importance_total_df).mark_circle(\n",
    "    stroke='white',  # 边框颜色设置为白色\n",
    "    strokeWidth=1.5,  # 边框宽度\n",
    "    opacity=0.2\n",
    ").encode(\n",
    "    y=alt.Y(\n",
    "        'MissingFields:Q',\n",
    "        title='Missing Fields Count',\n",
    "        scale=alt.Scale(\n",
    "            domain=[-max(poet_min_max_sorted[\"MissingFields\"]), max(work_importance_total_df[\"MissingFields\"])]),\n",
    "        # 包含正负方向\n",
    "    ),\n",
    "    x=alt.X('LnPoetImportance:Q', title='ln(Normalized Poet Importance+0.01)'),\n",
    "    tooltip=['workID', 'TitleHZ', 'PubStartYear', 'PoetImportance']\n",
    ").properties(\n",
    "    title='Missing Fields Count vs. Poet Importance',\n",
    "    width=1200,\n",
    "    height=400\n",
    ").interactive()\n",
    "poet_min_max_sorted['ReversedMissingFields'] = -poet_min_max_sorted['MissingFields']\n",
    "\n",
    "# 绘制 poet_min_max_sorted 的反向散点图\n",
    "reversed_plot = alt.Chart(poet_min_max_sorted).mark_circle(color='blue', stroke='white', strokeWidth=1.5,\n",
    "                                                           opacity=0.5).encode(\n",
    "    x='ln_normalized_totalWeight:Q',  # 公用横轴\n",
    "    y=alt.Y(\n",
    "        'ReversedMissingFields:Q',\n",
    "        title='Reversed Missing Fields Count'\n",
    "    ),\n",
    "    tooltip=['poetID', 'NameHZ', 'ln_normalized_totalWeight', 'MissingFields']\n",
    ").interactive()\n",
    "\n",
    "# # 绘制回归线\n",
    "# regression_line = alt.Chart(cleaned_df).mark_line(color='red').encode(\n",
    "#     x='LnPoetImportance:Q',\n",
    "#     y='RegressionLine:Q'\n",
    "# )\n",
    "\n",
    "# 合并图表并显示 X 轴在中间\n",
    "final_chart = alt.layer(\n",
    "    scatter_plot, reversed_plot\n",
    ").properties(\n",
    "    title=\"Scatter Plot with Central X-Axis\"\n",
    ").configure_axisY(\n",
    "    grid=True,\n",
    "    domain=True,\n",
    "    domainOpacity=0.8\n",
    ")\n",
    "# 展示图表\n",
    "# (scatter_plot + reversed_plot).show()\n",
    "final_chart.show()"
   ],
   "metadata": {
    "collapsed": false
   },
   "id": "2b513e2f9678b0b9",
   "execution_count": null
  },
  {
   "cell_type": "code",
   "outputs": [],
   "source": [
    "poet_min_max_sorted['aggregate_value'] = poet_min_max_sorted['MissingFields'] + poet_min_max_sorted[\n",
    "    'normalized_totalWeight']\n",
    "poet_min_max_sorted"
   ],
   "metadata": {
    "collapsed": false
   },
   "id": "d7ab4c958905e75c",
   "execution_count": null
  },
  {
   "cell_type": "code",
   "outputs": [],
   "source": [
    "duplicates = poet_min_max_sorted.groupby(['aggregate_value', 'StartYear', 'EndYear']).size()\n",
    "duplicates"
   ],
   "metadata": {
    "collapsed": false
   },
   "id": "15950e435b2d6094",
   "execution_count": null
  },
  {
   "cell_type": "code",
   "outputs": [],
   "source": [
    "work = pd.read_csv('../../CCGIV/datasets/WomenWriting/work.csv')\n",
    "work['PubPlaceHZ'] = work['PubPlaceHZ'].fillna(\"unknown\")\n",
    "work['PubPlaceHZ'].value_counts()"
   ],
   "metadata": {
    "collapsed": false
   },
   "id": "4a3b76af9766e3ce",
   "execution_count": null
  },
  {
   "cell_type": "code",
   "outputs": [],
   "source": [
    "work['PubNameHZ'] = work['PubNameHZ'].fillna(\"unknown\")\n",
    "work['PubNameHZ'].value_counts()"
   ],
   "metadata": {
    "collapsed": false
   },
   "id": "59e71a1434c80109",
   "execution_count": null
  },
  {
   "cell_type": "code",
   "outputs": [],
   "source": [
    "workpoetlinksNew = workpoetlinks.copy()\n",
    "workpoetlinksNew['workID_prefixed'] = 'work_' + workpoetlinksNew['workID'].astype(str)\n",
    "workpoetlinksNew['poetID_prefixed'] = 'poet_' + workpoetlinksNew['poetID'].astype(str)\n",
    "# 提取节点列表（nodes）\n",
    "work_nodes = workpoetlinksNew['workID_prefixed'].unique()\n",
    "poet_nodes = workpoetlinksNew['poetID_prefixed'].unique()\n",
    "\n",
    "# 创建节点的 DataFrame\n",
    "work_nodes_df = pd.DataFrame({'id': work_nodes, 'group': 'Works'})\n",
    "poet_nodes_df = pd.DataFrame({'id': poet_nodes, 'group': 'Poets'})\n",
    "\n",
    "# 合并所有节点\n",
    "nodes = pd.concat([work_nodes_df, poet_nodes_df], ignore_index=True)\n",
    "\n",
    "# 提取链接列表（links）\n",
    "links = workpoetlinksNew.groupby(['workID_prefixed', 'poetID_prefixed']).size().reset_index(name='value')\n",
    "links.rename(columns={'workID_prefixed': 'source', 'poetID_prefixed': 'target'}, inplace=True)\n",
    "\n",
    "# 转换为适合桑基图的格式\n",
    "nodes_list = nodes.to_dict(orient='records')\n",
    "links_list = links.to_dict(orient='records')\n"
   ],
   "metadata": {
    "collapsed": false
   },
   "id": "7185422cdb661962",
   "execution_count": null
  },
  {
   "cell_type": "code",
   "outputs": [],
   "source": [
    "# 添加带前缀的 ID\n",
    "workpoetlinksNew = workpoetlinks.copy()\n",
    "workpoetlinksNew['workID_prefixed'] = 'work_' + workpoetlinksNew['workID'].astype(str)\n",
    "workpoetlinksNew['poetID_prefixed'] = 'poet_' + workpoetlinksNew['poetID'].astype(str)\n",
    "\n",
    "# 提取节点列表\n",
    "work_nodes = workpoetlinksNew['workID_prefixed'].unique()\n",
    "poet_nodes = workpoetlinksNew['poetID_prefixed'].unique()\n",
    "\n",
    "# 创建节点 DataFrame\n",
    "work_nodes_df = pd.DataFrame({'id': work_nodes, 'group': 'Works'})\n",
    "poet_nodes_df = pd.DataFrame({'id': poet_nodes, 'group': 'Poets'})\n",
    "\n",
    "# 添加原始 ID 列\n",
    "work_nodes_df['original_workID'] = work_nodes_df['id'].str.replace('work_', '', regex=False).astype(float)\n",
    "poet_nodes_df['original_poetID'] = poet_nodes_df['id'].str.replace('poet_', '', regex=False).astype(str)\n",
    "\n",
    "# 确保数据类型一致\n",
    "work_importance_total_df['workID'] = work_importance_total_df['workID'].astype(float)\n",
    "poet_min_max_sorted['poetID'] = poet_min_max_sorted['poetID'].astype(str)\n",
    "\n",
    "# 检查未匹配的 Works\n",
    "unmatched_works = work_nodes_df[~work_nodes_df['original_workID'].isin(work_importance_total_df['workID'])]\n",
    "print(\"Unmatched Works:\")\n",
    "print(unmatched_works)\n",
    "\n",
    "# 合并字段\n",
    "work_nodes_enriched = work_nodes_df.merge(\n",
    "    work_importance_total_df[['workID', 'PoetImportance', 'MissingFields']],\n",
    "    left_on='original_workID',\n",
    "    right_on='workID',\n",
    "    how='left'\n",
    ").drop(columns=['original_workID', 'workID'])\n",
    "\n",
    "poet_nodes_enriched = poet_nodes_df.merge(\n",
    "    poet_min_max_sorted[['poetID', 'normalized_totalWeight', 'MissingFields']],\n",
    "    left_on='original_poetID',\n",
    "    right_on='poetID',\n",
    "    how='left'\n",
    ").drop(columns=['original_poetID', 'poetID'])\n",
    "\n",
    "# 添加 importance 列\n",
    "work_nodes_enriched['importance'] = work_nodes_enriched['PoetImportance']\n",
    "poet_nodes_enriched['importance'] = poet_nodes_enriched['normalized_totalWeight']\n",
    "\n",
    "# 保留需要的列\n",
    "work_nodes_enriched = work_nodes_enriched[['id', 'group', 'importance', 'MissingFields']]\n",
    "poet_nodes_enriched = poet_nodes_enriched[['id', 'group', 'importance', 'MissingFields']]\n",
    "\n",
    "# 合并所有节点\n",
    "nodes_enriched = pd.concat([work_nodes_enriched, poet_nodes_enriched], ignore_index=True)\n",
    "\n",
    "# 填充缺失值\n",
    "nodes_enriched.fillna({\n",
    "    'importance': 0,\n",
    "    'MissingFields': 0\n",
    "}, inplace=True)\n",
    "\n",
    "# 创建链接列表\n",
    "links = workpoetlinksNew.groupby(['workID_prefixed', 'poetID_prefixed']).size().reset_index(name='value')\n",
    "links.rename(columns={'workID_prefixed': 'source', 'poetID_prefixed': 'target'}, inplace=True)\n",
    "\n",
    "# 转换为适合桑基图的格式\n",
    "nodes_list = nodes_enriched.to_dict(orient='records')\n",
    "links_list = links.to_dict(orient='records')"
   ],
   "metadata": {
    "collapsed": false
   },
   "id": "de039dbb3e63fb1e",
   "execution_count": null
  },
  {
   "cell_type": "code",
   "outputs": [],
   "source": [
    "nodes_list"
   ],
   "metadata": {
    "collapsed": false
   },
   "id": "89d2ea0ff3b82a13",
   "execution_count": null
  },
  {
   "cell_type": "code",
   "outputs": [],
   "source": [
    "links_list"
   ],
   "metadata": {
    "collapsed": false
   },
   "id": "f169185adf95fb99",
   "execution_count": null
  },
  {
   "cell_type": "code",
   "outputs": [],
   "source": [
    "# 将 nodes 和 links 数据整合为一个字典\n",
    "output_data = {\n",
    "    \"nodes\": nodes_list,\n",
    "    \"links\": links_list\n",
    "}\n",
    "\n",
    "# 指定保存路径\n",
    "output_file = 'sankey_data.json'\n",
    "\n",
    "# 写入 JSON 文件\n",
    "with open(output_file, 'w') as f:\n",
    "    json.dump(output_data, f, indent=4)"
   ],
   "metadata": {
    "collapsed": false
   },
   "id": "1bd5a78e6c5f6d44",
   "execution_count": null
  },
  {
   "cell_type": "code",
   "outputs": [],
   "source": [
    "workpoetlinks['poetID'].value_counts()"
   ],
   "metadata": {
    "collapsed": false
   },
   "id": "180fb478e4d8e32b",
   "execution_count": null
  },
  {
   "cell_type": "code",
   "outputs": [
    {
     "data": {
      "text/plain": "array([nan, '七言絕句', '五言律詩', '五言古詩', '七言古詩', '樂府', '五言絕句', '七言排律', '七言律詩',\n       '四言詩', '雜言詩', '五言排律', '六言詩', '五言聯句', '騒體', '三言詩', '七言聯句', '未定',\n       '其他', '偈', '詞聯句'], dtype=object)"
     },
     "execution_count": 3,
     "metadata": {},
     "output_type": "execute_result"
    }
   ],
   "source": [
    "poem['Form'].unique()"
   ],
   "metadata": {
    "collapsed": false,
    "ExecuteTime": {
     "end_time": "2024-12-08T09:16:53.724165Z",
     "start_time": "2024-12-08T09:16:53.683690Z"
    }
   },
   "id": "cdd448b3ad1a6089",
   "execution_count": 3
  },
  {
   "cell_type": "code",
   "outputs": [],
   "source": [],
   "metadata": {
    "collapsed": false
   },
   "id": "17ec63e2ba763de5"
  }
 ],
 "metadata": {
  "kernelspec": {
   "display_name": "Python 3",
   "language": "python",
   "name": "python3"
  },
  "language_info": {
   "codemirror_mode": {
    "name": "ipython",
    "version": 2
   },
   "file_extension": ".py",
   "mimetype": "text/x-python",
   "name": "python",
   "nbconvert_exporter": "python",
   "pygments_lexer": "ipython2",
   "version": "2.7.6"
  }
 },
 "nbformat": 4,
 "nbformat_minor": 5
}
