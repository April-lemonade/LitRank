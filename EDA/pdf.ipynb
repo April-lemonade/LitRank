{
 "cells": [
  {
   "cell_type": "code",
   "execution_count": 3,
   "id": "initial_id",
   "metadata": {
    "collapsed": true,
    "ExecuteTime": {
     "end_time": "2024-11-06T07:12:10.108441Z",
     "start_time": "2024-11-06T07:12:10.105563Z"
    }
   },
   "outputs": [],
   "source": [
    "import pymupdf4llm\n",
    "import pathlib"
   ]
  },
  {
   "cell_type": "code",
   "outputs": [
    {
     "name": "stdout",
     "output_type": "stream",
     "text": [
      "Processing input.pdf...\n",
      "[========================================]\n",
      "糸窒\n",
      "\n",
      "###### 第\n",
      "\n",
      "一\n",
      "\n",
      "###### 《 《 《 《 《 《 《 《 《 卷 詠 澹 繡 茶 絳 清 虛 聽 嘯 雪 鞠 餘 香 珠 娛 憲 秋 餘\n",
      " 雅\n",
      " 棲 軒 續 閣 閣 閣 軒 吟\n",
      " 課\n",
      " 詩 詩 草 遺 繡 吟 詩 》\n",
      " 》\n",
      " 存 初 》 草 餘 稟 集 六 》 稿 五 》 草 》 》 卷 五 》 卷 二 》 六 佟 三 附 卷 五 卷 二 卷 佳 卷 錄 附 卷 歸 卷 氏 ] 一 懋 黃 鮑 駱 卷 卷 張 儀 婉 吳 之 嘉 綺\n",
      " 摺 瑀 秀 蕙 慶 藺 馮\n",
      " 甘 英 道 珠 已 恩 立 光 道 嘉 丑 乾 慧 媒 道 壬 光 道 慶 口 隆\n",
      " 光 辰 十 光 十 曶 六 乾\n",
      " 道 二 貪 年 七 六 巴 十 隆 光 十 墮 岔 年 年 跋 年 二 二 年 N 墮 ( 貪 2 十 十 ) o 屬 九 三 2 刻 ) 遏 蟹 清 遣 年 年 蠶 本 刻 ) 二 刻 $ 甭\n",
      " 3 本 刻 寸 本 金\n",
      " 貪 試 貿 宛 五 本 草 陵 扛 … 鄰 冊 一 園 二 龔 )\n",
      " 書 冊 一 刻 冊 氏 刻\n",
      "\n",
      "### )\n",
      "###### 徐 屋 冊 本 刻 本 心 刻 本 田 本 二 二 半 冊 冊\n",
      "\n",
      "一\n",
      "\n",
      "###### 偈 冊 齋 刻 本\n",
      "\n",
      " 六 冊\n",
      "\n",
      "\n",
      "-----\n",
      "\n",
      "###### 第 二\n",
      " 《 《 《 《 《 《 《 四 《 《 〈 卷 蓮 徐 茲 冷 芸 卿 鏽 冊 搖 信 ' 因 烈 〕暉 紅 香 夾餘 佛 禪 方 月朵 室 婦 館 軒 館 吟 棲 閣 閣 軒 詩 詩 詩 諄 造 》 寺 寺 寺 寺 詞 鈔 詞 集 詩 二 柘 韋 苧 集 》 草 》 》 卷 》 葷 汐 》 》 二 》 二 二 二 一 五 一 三 卷 卷 卷 屠 卷 卷 卷 卷 卷 阮 附 鏡 《\n",
      "\n",
      "閩\n",
      "\n",
      "###### 吳 恩 訂 那 心 錢 南 阱 哀\n",
      " 鄭 宗 澡 遜 守 淮 牢 工 蘭 愛 百 藺 同 璞 冰 逵 心 蓀 光 保 保 治 》\n",
      " 清 緒 友 九 同 一 咸 道\n",
      " 光 光 元 藺 同 年 治 卷 豐 光 緒 緒 年 治 2 八 ^ 九 二十 元 元 貪 光 十 箸 年 瑤 年 八 年 年 箸 緒 三 3 二 苹 二 年 貪 霄 巴 元 年 刻 累 閣 髒 亡 薯 箸 據 年 ( 本 巴 了 巴 蘆 M〉 巴 咸 實 屬宣 自 噩 刻 m 刻 雲 豐 箸 〉 二 刻 一 本 ) 本 鶴 四 巴 寫 冊 本 卷 刻\n",
      "\n",
      "四 本\n",
      "\n",
      "###### 仙 年 刻 刻 袖\n",
      "\n",
      "冊\n",
      "\n",
      "二 館 貪 本 本 四 迪\n",
      "冊 刻 髖 冊 一 ]\n",
      "\n",
      "冊\n",
      "\n",
      "###### 本 蕈 二 一 右\n",
      " 冊 冊\n",
      "\n",
      "二 武 榣\n",
      "冊 林 乂\n",
      "\n",
      "###### 沈 氏 口 刊 n 本 」 補\n",
      "\n",
      "## |\n",
      "\n",
      "###### 刊 二 刻 累 本 己\n",
      " 刈\n",
      "\n",
      "一一 扑\n",
      "冊\n",
      "\n",
      "\n",
      "-----\n",
      "\n",
      "-----\n",
      "\n",
      "-----\n",
      "\n",
      "-----\n",
      "\n",
      "《楚畹閣集》十二卷 季蘭韻 《墨花仙館合刻》刊本 道光二十七年（1847）刻本 六冊\n",
      "\n",
      "\n",
      "-----\n",
      "\n",
      "《南湘室詩草》一卷詩餘一卷 姚倩 姚茞 1915 年日本排印本\n",
      "\n",
      "《京江鲍氏三女史詩鈔合刻》 鮑之蘭 鮑之蕙 鮑之芬 光緒八年（1882）丹徒戴氏刊行\n",
      "\n",
      "\n",
      "-----\n",
      "\n"
     ]
    }
   ],
   "source": [
    "md_text = pymupdf4llm.to_markdown(\"input.pdf\")\n",
    "print(md_text)"
   ],
   "metadata": {
    "collapsed": false,
    "ExecuteTime": {
     "end_time": "2024-11-06T07:13:02.272533Z",
     "start_time": "2024-11-06T07:13:01.079725Z"
    }
   },
   "id": "876e7edaeecc83e8",
   "execution_count": 4
  },
  {
   "cell_type": "code",
   "outputs": [],
   "source": [],
   "metadata": {
    "collapsed": false
   },
   "id": "faf16fbc54b0ee92"
  }
 ],
 "metadata": {
  "kernelspec": {
   "display_name": "Python 3",
   "language": "python",
   "name": "python3"
  },
  "language_info": {
   "codemirror_mode": {
    "name": "ipython",
    "version": 2
   },
   "file_extension": ".py",
   "mimetype": "text/x-python",
   "name": "python",
   "nbconvert_exporter": "python",
   "pygments_lexer": "ipython2",
   "version": "2.7.6"
  }
 },
 "nbformat": 4,
 "nbformat_minor": 5
}
