{
 "cells": [
  {
   "cell_type": "code",
   "execution_count": 1,
   "id": "initial_id",
   "metadata": {
    "ExecuteTime": {
     "end_time": "2024-11-05T05:37:15.281692Z",
     "start_time": "2024-11-05T05:37:14.829119Z"
    }
   },
   "outputs": [],
   "source": [
    "import pyarrow as pa\n",
    "import pyarrow.parquet as pq\n",
    "import pyarrow.compute as pc\n",
    "import pyarrow.dataset as ds\n",
    "import pandas as pd\n",
    "import duckdb\n",
    "import numpy as np\n",
    "import altair as alt\n",
    "import json\n",
    "from urllib.request import urlopen\n",
    "import time\n",
    "import os\n",
    "import plotly.express as px"
   ]
  },
  {
   "cell_type": "code",
   "execution_count": 2,
   "id": "b76d0601e8b78a7c",
   "metadata": {
    "collapsed": false,
    "ExecuteTime": {
     "end_time": "2024-11-05T05:37:17.750035Z",
     "start_time": "2024-11-05T05:37:17.564326Z"
    }
   },
   "outputs": [
    {
     "data": {
      "text/plain": "<duckdb.duckdb.DuckDBPyConnection at 0x1208c66b0>"
     },
     "execution_count": 2,
     "metadata": {},
     "output_type": "execute_result"
    }
   ],
   "source": [
    "poet = pd.read_csv('../../CCGIV/datasets/WomenWriting/poet.csv')\n",
    "poem = pd.read_csv('../../CCGIV/datasets/WomenWriting/poem.csv')\n",
    "poempoetlinks = pd.read_csv('../../CCGIV/datasets/WomenWriting/poempoetlinks.csv')\n",
    "subwork = pd.read_csv('../../CCGIV/datasets/WomenWriting/subwork.csv')\n",
    "subworkpoemlinks = pd.read_csv('../../CCGIV/datasets/WomenWriting/subworkpoemlinks.csv')\n",
    "subworkpoetlinks = pd.read_csv('../../CCGIV/datasets/WomenWriting/subworkpoetlinks.csv')\n",
    "work = pd.read_csv('../../CCGIV/datasets/WomenWriting/work.csv')\n",
    "workpoemlinks = pd.read_csv('../../CCGIV/datasets/WomenWriting/workpoemlinks.csv')\n",
    "workpoetlinks = pd.read_csv('../../CCGIV/datasets/WomenWriting/workpoetlinks.csv')\n",
    "poetregionlinks = pd.read_csv('../../CCGIV/datasets/WomenWriting/poetregionlinks.csv')\n",
    "\n",
    "con = duckdb.connect()\n",
    "con.register('poet', poet)\n",
    "con.register('poem', poem)\n",
    "con.register('poempoetlinks', poempoetlinks)\n",
    "con.register('subwork', subwork)\n",
    "con.register('subworkpoemlinks', subworkpoemlinks)\n",
    "con.register('subworkpoetlinks', subworkpoetlinks)\n",
    "con.register('work', work)\n",
    "con.register('workpoemlinks', workpoemlinks)\n",
    "con.register('workpoetlinks', workpoetlinks)\n",
    "con.register('poetregionlinks', poetregionlinks)"
   ]
  },
  {
   "cell_type": "markdown",
   "id": "1e1b99855f1cff69",
   "metadata": {
    "collapsed": false
   },
   "source": [
    "# 1. 集（work）的 Importance：题辞作者数量、序作者数量、跋作者数量、收录的品（poem）的数量"
   ]
  },
  {
   "cell_type": "markdown",
   "id": "f8c20a3c6d82e4e",
   "metadata": {
    "collapsed": false
   },
   "source": [
    "## 1.1 题辞作者、序作者、跋作者不去重"
   ]
  },
  {
   "cell_type": "markdown",
   "id": "73ce5d2390726dc6",
   "metadata": {
    "collapsed": false
   },
   "source": [
    "### 1.1.1 题辞作者数量"
   ]
  },
  {
   "cell_type": "code",
   "execution_count": 3,
   "id": "de3bec29a96991f8",
   "metadata": {
    "collapsed": false,
    "ExecuteTime": {
     "end_time": "2024-11-05T05:37:19.681297Z",
     "start_time": "2024-11-05T05:37:19.663533Z"
    }
   },
   "outputs": [
    {
     "data": {
      "text/plain": "        ticicount\nworkID           \n125           119\n223            96\n218            73\n352            49\n112            43\n...           ...\n137             1\n63              1\n407             1\n49              1\n314             1\n\n[150 rows x 1 columns]",
      "text/html": "<div>\n<style scoped>\n    .dataframe tbody tr th:only-of-type {\n        vertical-align: middle;\n    }\n\n    .dataframe tbody tr th {\n        vertical-align: top;\n    }\n\n    .dataframe thead th {\n        text-align: right;\n    }\n</style>\n<table border=\"1\" class=\"dataframe\">\n  <thead>\n    <tr style=\"text-align: right;\">\n      <th></th>\n      <th>ticicount</th>\n    </tr>\n    <tr>\n      <th>workID</th>\n      <th></th>\n    </tr>\n  </thead>\n  <tbody>\n    <tr>\n      <th>125</th>\n      <td>119</td>\n    </tr>\n    <tr>\n      <th>223</th>\n      <td>96</td>\n    </tr>\n    <tr>\n      <th>218</th>\n      <td>73</td>\n    </tr>\n    <tr>\n      <th>352</th>\n      <td>49</td>\n    </tr>\n    <tr>\n      <th>112</th>\n      <td>43</td>\n    </tr>\n    <tr>\n      <th>...</th>\n      <td>...</td>\n    </tr>\n    <tr>\n      <th>137</th>\n      <td>1</td>\n    </tr>\n    <tr>\n      <th>63</th>\n      <td>1</td>\n    </tr>\n    <tr>\n      <th>407</th>\n      <td>1</td>\n    </tr>\n    <tr>\n      <th>49</th>\n      <td>1</td>\n    </tr>\n    <tr>\n      <th>314</th>\n      <td>1</td>\n    </tr>\n  </tbody>\n</table>\n<p>150 rows × 1 columns</p>\n</div>"
     },
     "execution_count": 3,
     "metadata": {},
     "output_type": "execute_result"
    }
   ],
   "source": [
    "ticiSQL = '''\n",
    "SELECT workID,count(DISTINCT poetID) as ticicount\n",
    "FROM workpoetlinks \n",
    "WHERE role IN ('題辭')\n",
    "Group By workID\n",
    "ORDER BY ticicount DESC\n",
    "'''\n",
    "tici = duckdb.query(ticiSQL).df()\n",
    "tici.set_index('workID', inplace=True)\n",
    "\n",
    "tici"
   ]
  },
  {
   "cell_type": "markdown",
   "id": "54833db98e616dc5",
   "metadata": {
    "collapsed": false
   },
   "source": [
    "### 1.1.2 序作者数量"
   ]
  },
  {
   "cell_type": "code",
   "execution_count": 4,
   "id": "50e5f89dea8d3757",
   "metadata": {
    "collapsed": false,
    "ExecuteTime": {
     "end_time": "2024-11-05T05:37:20.887053Z",
     "start_time": "2024-11-05T05:37:20.843396Z"
    }
   },
   "outputs": [
    {
     "data": {
      "text/plain": "        xucount\nworkID         \n158          17\n167          14\n118           9\n57            9\n283           8\n...         ...\n89            1\n355           1\n310           1\n351           1\n440           1\n\n[321 rows x 1 columns]",
      "text/html": "<div>\n<style scoped>\n    .dataframe tbody tr th:only-of-type {\n        vertical-align: middle;\n    }\n\n    .dataframe tbody tr th {\n        vertical-align: top;\n    }\n\n    .dataframe thead th {\n        text-align: right;\n    }\n</style>\n<table border=\"1\" class=\"dataframe\">\n  <thead>\n    <tr style=\"text-align: right;\">\n      <th></th>\n      <th>xucount</th>\n    </tr>\n    <tr>\n      <th>workID</th>\n      <th></th>\n    </tr>\n  </thead>\n  <tbody>\n    <tr>\n      <th>158</th>\n      <td>17</td>\n    </tr>\n    <tr>\n      <th>167</th>\n      <td>14</td>\n    </tr>\n    <tr>\n      <th>118</th>\n      <td>9</td>\n    </tr>\n    <tr>\n      <th>57</th>\n      <td>9</td>\n    </tr>\n    <tr>\n      <th>283</th>\n      <td>8</td>\n    </tr>\n    <tr>\n      <th>...</th>\n      <td>...</td>\n    </tr>\n    <tr>\n      <th>89</th>\n      <td>1</td>\n    </tr>\n    <tr>\n      <th>355</th>\n      <td>1</td>\n    </tr>\n    <tr>\n      <th>310</th>\n      <td>1</td>\n    </tr>\n    <tr>\n      <th>351</th>\n      <td>1</td>\n    </tr>\n    <tr>\n      <th>440</th>\n      <td>1</td>\n    </tr>\n  </tbody>\n</table>\n<p>321 rows × 1 columns</p>\n</div>"
     },
     "execution_count": 4,
     "metadata": {},
     "output_type": "execute_result"
    }
   ],
   "source": [
    "xuSQL = '''\n",
    "SELECT workID,count(DISTINCT poetID) as xucount\n",
    "FROM workpoetlinks \n",
    "WHERE role IN ('序作者')\n",
    "Group By workID\n",
    "ORDER BY xucount DESC\n",
    "'''\n",
    "xu = duckdb.query(xuSQL).df()\n",
    "xu.set_index('workID', inplace=True)\n",
    "xu"
   ]
  },
  {
   "cell_type": "markdown",
   "id": "6e7a6582e1bbad1e",
   "metadata": {
    "collapsed": false
   },
   "source": [
    "### 1.1.3 跋作者数量"
   ]
  },
  {
   "cell_type": "code",
   "execution_count": 5,
   "id": "4786b67b05bbe362",
   "metadata": {
    "collapsed": false,
    "ExecuteTime": {
     "end_time": "2024-11-05T05:37:22.070499Z",
     "start_time": "2024-11-05T05:37:22.044574Z"
    }
   },
   "outputs": [
    {
     "data": {
      "text/plain": "        bacount\nworkID         \n186           5\n15            4\n204           4\n245           3\n335           3\n...         ...\n41            1\n89            1\n451           1\n12            1\n69            1\n\n[156 rows x 1 columns]",
      "text/html": "<div>\n<style scoped>\n    .dataframe tbody tr th:only-of-type {\n        vertical-align: middle;\n    }\n\n    .dataframe tbody tr th {\n        vertical-align: top;\n    }\n\n    .dataframe thead th {\n        text-align: right;\n    }\n</style>\n<table border=\"1\" class=\"dataframe\">\n  <thead>\n    <tr style=\"text-align: right;\">\n      <th></th>\n      <th>bacount</th>\n    </tr>\n    <tr>\n      <th>workID</th>\n      <th></th>\n    </tr>\n  </thead>\n  <tbody>\n    <tr>\n      <th>186</th>\n      <td>5</td>\n    </tr>\n    <tr>\n      <th>15</th>\n      <td>4</td>\n    </tr>\n    <tr>\n      <th>204</th>\n      <td>4</td>\n    </tr>\n    <tr>\n      <th>245</th>\n      <td>3</td>\n    </tr>\n    <tr>\n      <th>335</th>\n      <td>3</td>\n    </tr>\n    <tr>\n      <th>...</th>\n      <td>...</td>\n    </tr>\n    <tr>\n      <th>41</th>\n      <td>1</td>\n    </tr>\n    <tr>\n      <th>89</th>\n      <td>1</td>\n    </tr>\n    <tr>\n      <th>451</th>\n      <td>1</td>\n    </tr>\n    <tr>\n      <th>12</th>\n      <td>1</td>\n    </tr>\n    <tr>\n      <th>69</th>\n      <td>1</td>\n    </tr>\n  </tbody>\n</table>\n<p>156 rows × 1 columns</p>\n</div>"
     },
     "execution_count": 5,
     "metadata": {},
     "output_type": "execute_result"
    }
   ],
   "source": [
    "baSQL = '''\n",
    "SELECT workID,count(DISTINCT poetID) as bacount\n",
    "FROM workpoetlinks \n",
    "WHERE role IN ('跋作者')\n",
    "Group By workID\n",
    "ORDER BY bacount DESC\n",
    "'''\n",
    "ba = duckdb.query(baSQL).df()\n",
    "ba.set_index('workID', inplace=True)\n",
    "ba"
   ]
  },
  {
   "cell_type": "markdown",
   "id": "cfb17c0315d86b1f",
   "metadata": {
    "collapsed": false
   },
   "source": [
    "### 1.1.4 题辞、序、跋汇总"
   ]
  },
  {
   "cell_type": "code",
   "execution_count": 6,
   "id": "7abe974aed3a0b68",
   "metadata": {
    "collapsed": false,
    "ExecuteTime": {
     "end_time": "2024-11-05T05:37:23.095087Z",
     "start_time": "2024-11-05T05:37:23.083553Z"
    }
   },
   "outputs": [
    {
     "data": {
      "text/plain": "        ticicount  xucount  bacount\nworkID                             \n9             0.0      3.0      1.0\n10            2.0      2.0      0.0\n11            0.0      3.0      0.0\n12            1.0      5.0      1.0\n13            0.0      1.0      0.0\n...           ...      ...      ...\n476           1.0      4.0      0.0\n477          14.0      5.0      1.0\n479           1.0      4.0      1.0\n480           3.0      5.0      0.0\n482           1.0      1.0      0.0\n\n[363 rows x 3 columns]",
      "text/html": "<div>\n<style scoped>\n    .dataframe tbody tr th:only-of-type {\n        vertical-align: middle;\n    }\n\n    .dataframe tbody tr th {\n        vertical-align: top;\n    }\n\n    .dataframe thead th {\n        text-align: right;\n    }\n</style>\n<table border=\"1\" class=\"dataframe\">\n  <thead>\n    <tr style=\"text-align: right;\">\n      <th></th>\n      <th>ticicount</th>\n      <th>xucount</th>\n      <th>bacount</th>\n    </tr>\n    <tr>\n      <th>workID</th>\n      <th></th>\n      <th></th>\n      <th></th>\n    </tr>\n  </thead>\n  <tbody>\n    <tr>\n      <th>9</th>\n      <td>0.0</td>\n      <td>3.0</td>\n      <td>1.0</td>\n    </tr>\n    <tr>\n      <th>10</th>\n      <td>2.0</td>\n      <td>2.0</td>\n      <td>0.0</td>\n    </tr>\n    <tr>\n      <th>11</th>\n      <td>0.0</td>\n      <td>3.0</td>\n      <td>0.0</td>\n    </tr>\n    <tr>\n      <th>12</th>\n      <td>1.0</td>\n      <td>5.0</td>\n      <td>1.0</td>\n    </tr>\n    <tr>\n      <th>13</th>\n      <td>0.0</td>\n      <td>1.0</td>\n      <td>0.0</td>\n    </tr>\n    <tr>\n      <th>...</th>\n      <td>...</td>\n      <td>...</td>\n      <td>...</td>\n    </tr>\n    <tr>\n      <th>476</th>\n      <td>1.0</td>\n      <td>4.0</td>\n      <td>0.0</td>\n    </tr>\n    <tr>\n      <th>477</th>\n      <td>14.0</td>\n      <td>5.0</td>\n      <td>1.0</td>\n    </tr>\n    <tr>\n      <th>479</th>\n      <td>1.0</td>\n      <td>4.0</td>\n      <td>1.0</td>\n    </tr>\n    <tr>\n      <th>480</th>\n      <td>3.0</td>\n      <td>5.0</td>\n      <td>0.0</td>\n    </tr>\n    <tr>\n      <th>482</th>\n      <td>1.0</td>\n      <td>1.0</td>\n      <td>0.0</td>\n    </tr>\n  </tbody>\n</table>\n<p>363 rows × 3 columns</p>\n</div>"
     },
     "execution_count": 6,
     "metadata": {},
     "output_type": "execute_result"
    }
   ],
   "source": [
    "from functools import reduce\n",
    "\n",
    "TiciXuBa = reduce(lambda left, right: pd.merge(left, right, on='workID', how='outer'), [tici, xu, ba]).fillna(0)\n",
    "TiciXuBa"
   ]
  },
  {
   "cell_type": "markdown",
   "id": "fde2af146e45f824",
   "metadata": {
    "collapsed": false
   },
   "source": [
    "## 1.2 题辞作者、序作者、跋作者去重"
   ]
  },
  {
   "cell_type": "markdown",
   "id": "7cdcb7c09eeb0052",
   "metadata": {
    "collapsed": false
   },
   "source": [
    "问题：在同一个集里有多重角色的作者，应该计数到哪种角色中？比如既是题辞作者又是序作者，算到哪类？"
   ]
  },
  {
   "cell_type": "markdown",
   "id": "35ed091b7fc0348c",
   "metadata": {
    "collapsed": false
   },
   "source": [
    "## 1.3 集收录的作品数"
   ]
  },
  {
   "cell_type": "code",
   "execution_count": 7,
   "id": "beb00f4deb219484",
   "metadata": {
    "collapsed": false,
    "ExecuteTime": {
     "end_time": "2024-11-05T05:37:25.094999Z",
     "start_time": "2024-11-05T05:37:25.070143Z"
    }
   },
   "outputs": [
    {
     "data": {
      "text/plain": "        includedcount\nworkID               \n61               5075\n120              3771\n38               2478\n63               2145\n88               2052\n...               ...\n341                 9\n358                 7\n225                 7\n373                 3\n252                 1\n\n[432 rows x 1 columns]",
      "text/html": "<div>\n<style scoped>\n    .dataframe tbody tr th:only-of-type {\n        vertical-align: middle;\n    }\n\n    .dataframe tbody tr th {\n        vertical-align: top;\n    }\n\n    .dataframe thead th {\n        text-align: right;\n    }\n</style>\n<table border=\"1\" class=\"dataframe\">\n  <thead>\n    <tr style=\"text-align: right;\">\n      <th></th>\n      <th>includedcount</th>\n    </tr>\n    <tr>\n      <th>workID</th>\n      <th></th>\n    </tr>\n  </thead>\n  <tbody>\n    <tr>\n      <th>61</th>\n      <td>5075</td>\n    </tr>\n    <tr>\n      <th>120</th>\n      <td>3771</td>\n    </tr>\n    <tr>\n      <th>38</th>\n      <td>2478</td>\n    </tr>\n    <tr>\n      <th>63</th>\n      <td>2145</td>\n    </tr>\n    <tr>\n      <th>88</th>\n      <td>2052</td>\n    </tr>\n    <tr>\n      <th>...</th>\n      <td>...</td>\n    </tr>\n    <tr>\n      <th>341</th>\n      <td>9</td>\n    </tr>\n    <tr>\n      <th>358</th>\n      <td>7</td>\n    </tr>\n    <tr>\n      <th>225</th>\n      <td>7</td>\n    </tr>\n    <tr>\n      <th>373</th>\n      <td>3</td>\n    </tr>\n    <tr>\n      <th>252</th>\n      <td>1</td>\n    </tr>\n  </tbody>\n</table>\n<p>432 rows × 1 columns</p>\n</div>"
     },
     "execution_count": 7,
     "metadata": {},
     "output_type": "execute_result"
    }
   ],
   "source": [
    "includedWorkSQL = '''\n",
    "SELECT workID,count(poemID) as includedcount\n",
    "FROM workpoemlinks \n",
    "Group By workID\n",
    "ORDER BY includedcount DESC\n",
    "'''\n",
    "includedWork = duckdb.query(includedWorkSQL).df()\n",
    "includedWork.set_index('workID', inplace=True)\n",
    "\n",
    "includedWork"
   ]
  },
  {
   "cell_type": "markdown",
   "id": "7c12639d4039b6b5",
   "metadata": {
    "collapsed": false
   },
   "source": [
    "## 1.4 集的题辞作者数、序作者数、跋作者数、收录作品数汇总"
   ]
  },
  {
   "cell_type": "code",
   "execution_count": 8,
   "id": "a9afbfdfd1e50d82",
   "metadata": {
    "collapsed": false,
    "ExecuteTime": {
     "end_time": "2024-11-05T05:37:26.386385Z",
     "start_time": "2024-11-05T05:37:26.366155Z"
    }
   },
   "outputs": [
    {
     "data": {
      "text/plain": "        ticicount  xucount  bacount  includedcount\nworkID                                            \n9             0.0      3.0      1.0          986.0\n10            2.0      2.0      0.0          404.0\n11            0.0      3.0      0.0          137.0\n12            1.0      5.0      1.0          126.0\n13            0.0      1.0      0.0          252.0\n...           ...      ...      ...            ...\n478           0.0      0.0      0.0          206.0\n479           1.0      4.0      1.0          310.0\n480           3.0      5.0      0.0           82.0\n481           0.0      0.0      0.0          885.0\n482           1.0      1.0      0.0          162.0\n\n[433 rows x 4 columns]",
      "text/html": "<div>\n<style scoped>\n    .dataframe tbody tr th:only-of-type {\n        vertical-align: middle;\n    }\n\n    .dataframe tbody tr th {\n        vertical-align: top;\n    }\n\n    .dataframe thead th {\n        text-align: right;\n    }\n</style>\n<table border=\"1\" class=\"dataframe\">\n  <thead>\n    <tr style=\"text-align: right;\">\n      <th></th>\n      <th>ticicount</th>\n      <th>xucount</th>\n      <th>bacount</th>\n      <th>includedcount</th>\n    </tr>\n    <tr>\n      <th>workID</th>\n      <th></th>\n      <th></th>\n      <th></th>\n      <th></th>\n    </tr>\n  </thead>\n  <tbody>\n    <tr>\n      <th>9</th>\n      <td>0.0</td>\n      <td>3.0</td>\n      <td>1.0</td>\n      <td>986.0</td>\n    </tr>\n    <tr>\n      <th>10</th>\n      <td>2.0</td>\n      <td>2.0</td>\n      <td>0.0</td>\n      <td>404.0</td>\n    </tr>\n    <tr>\n      <th>11</th>\n      <td>0.0</td>\n      <td>3.0</td>\n      <td>0.0</td>\n      <td>137.0</td>\n    </tr>\n    <tr>\n      <th>12</th>\n      <td>1.0</td>\n      <td>5.0</td>\n      <td>1.0</td>\n      <td>126.0</td>\n    </tr>\n    <tr>\n      <th>13</th>\n      <td>0.0</td>\n      <td>1.0</td>\n      <td>0.0</td>\n      <td>252.0</td>\n    </tr>\n    <tr>\n      <th>...</th>\n      <td>...</td>\n      <td>...</td>\n      <td>...</td>\n      <td>...</td>\n    </tr>\n    <tr>\n      <th>478</th>\n      <td>0.0</td>\n      <td>0.0</td>\n      <td>0.0</td>\n      <td>206.0</td>\n    </tr>\n    <tr>\n      <th>479</th>\n      <td>1.0</td>\n      <td>4.0</td>\n      <td>1.0</td>\n      <td>310.0</td>\n    </tr>\n    <tr>\n      <th>480</th>\n      <td>3.0</td>\n      <td>5.0</td>\n      <td>0.0</td>\n      <td>82.0</td>\n    </tr>\n    <tr>\n      <th>481</th>\n      <td>0.0</td>\n      <td>0.0</td>\n      <td>0.0</td>\n      <td>885.0</td>\n    </tr>\n    <tr>\n      <th>482</th>\n      <td>1.0</td>\n      <td>1.0</td>\n      <td>0.0</td>\n      <td>162.0</td>\n    </tr>\n  </tbody>\n</table>\n<p>433 rows × 4 columns</p>\n</div>"
     },
     "execution_count": 8,
     "metadata": {},
     "output_type": "execute_result"
    }
   ],
   "source": [
    "jiRawData = reduce(lambda left, right: pd.merge(left, right, on='workID', how='outer'), [tici, xu, ba, includedWork]).fillna(0)\n",
    "jiRawData"
   ]
  },
  {
   "cell_type": "markdown",
   "id": "b08deb1f09b08154",
   "metadata": {
    "collapsed": false
   },
   "source": [
    "## 1.5 归一化"
   ]
  },
  {
   "cell_type": "markdown",
   "id": "11148654c659f1dc",
   "metadata": {
    "collapsed": false
   },
   "source": [
    "### 1.5.1 Min-Max归一化"
   ]
  },
  {
   "cell_type": "code",
   "execution_count": 9,
   "id": "c9c56c6164416eed",
   "metadata": {
    "collapsed": false,
    "ExecuteTime": {
     "end_time": "2024-11-05T05:37:27.486069Z",
     "start_time": "2024-11-05T05:37:27.483834Z"
    }
   },
   "outputs": [],
   "source": [
    "def min_max_normalize(series):\n",
    "    return (series - series.min()) / (series.max() - series.min()) * 100"
   ]
  },
  {
   "cell_type": "code",
   "execution_count": 10,
   "id": "dfaed373c7dfcf0f",
   "metadata": {
    "collapsed": false,
    "ExecuteTime": {
     "end_time": "2024-11-05T05:37:27.724317Z",
     "start_time": "2024-11-05T05:37:27.689537Z"
    }
   },
   "outputs": [
    {
     "data": {
      "text/plain": "        ticicount    xucount  bacount  includedcount\nworkID                                              \n9        0.000000  17.647059     20.0      19.428571\n10       1.680672  11.764706      0.0       7.960591\n11       0.000000  17.647059      0.0       2.699507\n12       0.840336  29.411765     20.0       2.482759\n13       0.000000   5.882353      0.0       4.965517\n...           ...        ...      ...            ...\n478      0.000000   0.000000      0.0       4.059113\n479      0.840336  23.529412     20.0       6.108374\n480      2.521008  29.411765      0.0       1.615764\n481      0.000000   0.000000      0.0      17.438424\n482      0.840336   5.882353      0.0       3.192118\n\n[433 rows x 4 columns]",
      "text/html": "<div>\n<style scoped>\n    .dataframe tbody tr th:only-of-type {\n        vertical-align: middle;\n    }\n\n    .dataframe tbody tr th {\n        vertical-align: top;\n    }\n\n    .dataframe thead th {\n        text-align: right;\n    }\n</style>\n<table border=\"1\" class=\"dataframe\">\n  <thead>\n    <tr style=\"text-align: right;\">\n      <th></th>\n      <th>ticicount</th>\n      <th>xucount</th>\n      <th>bacount</th>\n      <th>includedcount</th>\n    </tr>\n    <tr>\n      <th>workID</th>\n      <th></th>\n      <th></th>\n      <th></th>\n      <th></th>\n    </tr>\n  </thead>\n  <tbody>\n    <tr>\n      <th>9</th>\n      <td>0.000000</td>\n      <td>17.647059</td>\n      <td>20.0</td>\n      <td>19.428571</td>\n    </tr>\n    <tr>\n      <th>10</th>\n      <td>1.680672</td>\n      <td>11.764706</td>\n      <td>0.0</td>\n      <td>7.960591</td>\n    </tr>\n    <tr>\n      <th>11</th>\n      <td>0.000000</td>\n      <td>17.647059</td>\n      <td>0.0</td>\n      <td>2.699507</td>\n    </tr>\n    <tr>\n      <th>12</th>\n      <td>0.840336</td>\n      <td>29.411765</td>\n      <td>20.0</td>\n      <td>2.482759</td>\n    </tr>\n    <tr>\n      <th>13</th>\n      <td>0.000000</td>\n      <td>5.882353</td>\n      <td>0.0</td>\n      <td>4.965517</td>\n    </tr>\n    <tr>\n      <th>...</th>\n      <td>...</td>\n      <td>...</td>\n      <td>...</td>\n      <td>...</td>\n    </tr>\n    <tr>\n      <th>478</th>\n      <td>0.000000</td>\n      <td>0.000000</td>\n      <td>0.0</td>\n      <td>4.059113</td>\n    </tr>\n    <tr>\n      <th>479</th>\n      <td>0.840336</td>\n      <td>23.529412</td>\n      <td>20.0</td>\n      <td>6.108374</td>\n    </tr>\n    <tr>\n      <th>480</th>\n      <td>2.521008</td>\n      <td>29.411765</td>\n      <td>0.0</td>\n      <td>1.615764</td>\n    </tr>\n    <tr>\n      <th>481</th>\n      <td>0.000000</td>\n      <td>0.000000</td>\n      <td>0.0</td>\n      <td>17.438424</td>\n    </tr>\n    <tr>\n      <th>482</th>\n      <td>0.840336</td>\n      <td>5.882353</td>\n      <td>0.0</td>\n      <td>3.192118</td>\n    </tr>\n  </tbody>\n</table>\n<p>433 rows × 4 columns</p>\n</div>"
     },
     "execution_count": 10,
     "metadata": {},
     "output_type": "execute_result"
    }
   ],
   "source": [
    "ji_min_max_normalize = jiRawData.copy()\n",
    "for column in ji_min_max_normalize.columns:\n",
    "    if ji_min_max_normalize[column].dtype in ['float64', 'int64']:  # 检查数据类型是否为数值类型\n",
    "        ji_min_max_normalize[column] = min_max_normalize(ji_min_max_normalize[column])\n",
    "ji_min_max_normalize"
   ]
  },
  {
   "cell_type": "markdown",
   "id": "eb98b2e22970f5ee",
   "metadata": {
    "collapsed": false
   },
   "source": [
    "### 1.5.2 对数归一化"
   ]
  },
  {
   "cell_type": "code",
   "execution_count": 11,
   "id": "283570c2de5159c3",
   "metadata": {
    "collapsed": false,
    "ExecuteTime": {
     "end_time": "2024-11-05T05:37:28.365435Z",
     "start_time": "2024-11-05T05:37:28.341820Z"
    }
   },
   "outputs": [
    {
     "data": {
      "text/plain": "        ticicount   xucount   bacount  includedcount\nworkID                                              \n9        0.000000  0.479625  0.386853       0.808069\n10       0.229476  0.380094  0.000000       0.703667\n11       0.000000  0.479625  0.000000       0.577484\n12       0.144783  0.619906  0.386853       0.567748\n13       0.000000  0.239812  0.000000       0.648524\n...           ...       ...       ...            ...\n478      0.000000  0.000000  0.000000       0.625005\n479      0.144783  0.556827  0.386853       0.672715\n480      0.289566  0.619906  0.000000       0.517897\n481      0.000000  0.000000  0.000000       0.795417\n482      0.144783  0.239812  0.000000       0.596998\n\n[433 rows x 4 columns]",
      "text/html": "<div>\n<style scoped>\n    .dataframe tbody tr th:only-of-type {\n        vertical-align: middle;\n    }\n\n    .dataframe tbody tr th {\n        vertical-align: top;\n    }\n\n    .dataframe thead th {\n        text-align: right;\n    }\n</style>\n<table border=\"1\" class=\"dataframe\">\n  <thead>\n    <tr style=\"text-align: right;\">\n      <th></th>\n      <th>ticicount</th>\n      <th>xucount</th>\n      <th>bacount</th>\n      <th>includedcount</th>\n    </tr>\n    <tr>\n      <th>workID</th>\n      <th></th>\n      <th></th>\n      <th></th>\n      <th></th>\n    </tr>\n  </thead>\n  <tbody>\n    <tr>\n      <th>9</th>\n      <td>0.000000</td>\n      <td>0.479625</td>\n      <td>0.386853</td>\n      <td>0.808069</td>\n    </tr>\n    <tr>\n      <th>10</th>\n      <td>0.229476</td>\n      <td>0.380094</td>\n      <td>0.000000</td>\n      <td>0.703667</td>\n    </tr>\n    <tr>\n      <th>11</th>\n      <td>0.000000</td>\n      <td>0.479625</td>\n      <td>0.000000</td>\n      <td>0.577484</td>\n    </tr>\n    <tr>\n      <th>12</th>\n      <td>0.144783</td>\n      <td>0.619906</td>\n      <td>0.386853</td>\n      <td>0.567748</td>\n    </tr>\n    <tr>\n      <th>13</th>\n      <td>0.000000</td>\n      <td>0.239812</td>\n      <td>0.000000</td>\n      <td>0.648524</td>\n    </tr>\n    <tr>\n      <th>...</th>\n      <td>...</td>\n      <td>...</td>\n      <td>...</td>\n      <td>...</td>\n    </tr>\n    <tr>\n      <th>478</th>\n      <td>0.000000</td>\n      <td>0.000000</td>\n      <td>0.000000</td>\n      <td>0.625005</td>\n    </tr>\n    <tr>\n      <th>479</th>\n      <td>0.144783</td>\n      <td>0.556827</td>\n      <td>0.386853</td>\n      <td>0.672715</td>\n    </tr>\n    <tr>\n      <th>480</th>\n      <td>0.289566</td>\n      <td>0.619906</td>\n      <td>0.000000</td>\n      <td>0.517897</td>\n    </tr>\n    <tr>\n      <th>481</th>\n      <td>0.000000</td>\n      <td>0.000000</td>\n      <td>0.000000</td>\n      <td>0.795417</td>\n    </tr>\n    <tr>\n      <th>482</th>\n      <td>0.144783</td>\n      <td>0.239812</td>\n      <td>0.000000</td>\n      <td>0.596998</td>\n    </tr>\n  </tbody>\n</table>\n<p>433 rows × 4 columns</p>\n</div>"
     },
     "execution_count": 11,
     "metadata": {},
     "output_type": "execute_result"
    }
   ],
   "source": [
    "ji_log_normalize = jiRawData.copy()\n",
    "\n",
    "for column in ji_log_normalize.columns:  \n",
    "    if ji_log_normalize[column].dtype in ['float64', 'int64']:\n",
    "        max_val = ji_log_normalize[column].max()\n",
    "        if max_val > 0:\n",
    "            # 应用对数归一化\n",
    "            ji_log_normalize[column] = np.log(ji_log_normalize[column] + 1) / np.log(max_val + 1)\n",
    "        # 对数据加1以避免对0取对数的问题\n",
    "        # ji_log_normalize[column] = np.log(ji_log_normalize[column] + 1)\n",
    "\n",
    "ji_log_normalize"
   ]
  },
  {
   "cell_type": "markdown",
   "id": "65f8fd873eb03992",
   "metadata": {
    "collapsed": false
   },
   "source": [
    "### 1.5.3 把题辞、序、跋统一归一化"
   ]
  },
  {
   "cell_type": "markdown",
   "id": "c3cbe5c81e04a535",
   "metadata": {
    "collapsed": false
   },
   "source": [
    "#### 1.5.3.1 min-max"
   ]
  },
  {
   "cell_type": "code",
   "execution_count": 12,
   "id": "7414da7de5ddd483",
   "metadata": {
    "collapsed": false,
    "ExecuteTime": {
     "end_time": "2024-11-05T05:37:29.716493Z",
     "start_time": "2024-11-05T05:37:29.699046Z"
    }
   },
   "outputs": [
    {
     "data": {
      "text/plain": "        ticicount  xucount  bacount  includedcount  normalized_bacount  \\\nworkID                                                                   \n9             0.0      3.0      1.0       0.194286            0.008403   \n10            2.0      2.0      0.0       0.079606            0.000000   \n11            0.0      3.0      0.0       0.026995            0.000000   \n12            1.0      5.0      1.0       0.024828            0.008403   \n13            0.0      1.0      0.0       0.049655            0.000000   \n...           ...      ...      ...            ...                 ...   \n478           0.0      0.0      0.0       0.040591            0.000000   \n479           1.0      4.0      1.0       0.061084            0.008403   \n480           3.0      5.0      0.0       0.016158            0.000000   \n481           0.0      0.0      0.0       0.174384            0.000000   \n482           1.0      1.0      0.0       0.031921            0.000000   \n\n        normalized_ticicount  normalized_xucount  \nworkID                                            \n9                   0.000000            0.025210  \n10                  0.016807            0.016807  \n11                  0.000000            0.025210  \n12                  0.008403            0.042017  \n13                  0.000000            0.008403  \n...                      ...                 ...  \n478                 0.000000            0.000000  \n479                 0.008403            0.033613  \n480                 0.025210            0.042017  \n481                 0.000000            0.000000  \n482                 0.008403            0.008403  \n\n[433 rows x 7 columns]",
      "text/html": "<div>\n<style scoped>\n    .dataframe tbody tr th:only-of-type {\n        vertical-align: middle;\n    }\n\n    .dataframe tbody tr th {\n        vertical-align: top;\n    }\n\n    .dataframe thead th {\n        text-align: right;\n    }\n</style>\n<table border=\"1\" class=\"dataframe\">\n  <thead>\n    <tr style=\"text-align: right;\">\n      <th></th>\n      <th>ticicount</th>\n      <th>xucount</th>\n      <th>bacount</th>\n      <th>includedcount</th>\n      <th>normalized_bacount</th>\n      <th>normalized_ticicount</th>\n      <th>normalized_xucount</th>\n    </tr>\n    <tr>\n      <th>workID</th>\n      <th></th>\n      <th></th>\n      <th></th>\n      <th></th>\n      <th></th>\n      <th></th>\n      <th></th>\n    </tr>\n  </thead>\n  <tbody>\n    <tr>\n      <th>9</th>\n      <td>0.0</td>\n      <td>3.0</td>\n      <td>1.0</td>\n      <td>0.194286</td>\n      <td>0.008403</td>\n      <td>0.000000</td>\n      <td>0.025210</td>\n    </tr>\n    <tr>\n      <th>10</th>\n      <td>2.0</td>\n      <td>2.0</td>\n      <td>0.0</td>\n      <td>0.079606</td>\n      <td>0.000000</td>\n      <td>0.016807</td>\n      <td>0.016807</td>\n    </tr>\n    <tr>\n      <th>11</th>\n      <td>0.0</td>\n      <td>3.0</td>\n      <td>0.0</td>\n      <td>0.026995</td>\n      <td>0.000000</td>\n      <td>0.000000</td>\n      <td>0.025210</td>\n    </tr>\n    <tr>\n      <th>12</th>\n      <td>1.0</td>\n      <td>5.0</td>\n      <td>1.0</td>\n      <td>0.024828</td>\n      <td>0.008403</td>\n      <td>0.008403</td>\n      <td>0.042017</td>\n    </tr>\n    <tr>\n      <th>13</th>\n      <td>0.0</td>\n      <td>1.0</td>\n      <td>0.0</td>\n      <td>0.049655</td>\n      <td>0.000000</td>\n      <td>0.000000</td>\n      <td>0.008403</td>\n    </tr>\n    <tr>\n      <th>...</th>\n      <td>...</td>\n      <td>...</td>\n      <td>...</td>\n      <td>...</td>\n      <td>...</td>\n      <td>...</td>\n      <td>...</td>\n    </tr>\n    <tr>\n      <th>478</th>\n      <td>0.0</td>\n      <td>0.0</td>\n      <td>0.0</td>\n      <td>0.040591</td>\n      <td>0.000000</td>\n      <td>0.000000</td>\n      <td>0.000000</td>\n    </tr>\n    <tr>\n      <th>479</th>\n      <td>1.0</td>\n      <td>4.0</td>\n      <td>1.0</td>\n      <td>0.061084</td>\n      <td>0.008403</td>\n      <td>0.008403</td>\n      <td>0.033613</td>\n    </tr>\n    <tr>\n      <th>480</th>\n      <td>3.0</td>\n      <td>5.0</td>\n      <td>0.0</td>\n      <td>0.016158</td>\n      <td>0.000000</td>\n      <td>0.025210</td>\n      <td>0.042017</td>\n    </tr>\n    <tr>\n      <th>481</th>\n      <td>0.0</td>\n      <td>0.0</td>\n      <td>0.0</td>\n      <td>0.174384</td>\n      <td>0.000000</td>\n      <td>0.000000</td>\n      <td>0.000000</td>\n    </tr>\n    <tr>\n      <th>482</th>\n      <td>1.0</td>\n      <td>1.0</td>\n      <td>0.0</td>\n      <td>0.031921</td>\n      <td>0.000000</td>\n      <td>0.008403</td>\n      <td>0.008403</td>\n    </tr>\n  </tbody>\n</table>\n<p>433 rows × 7 columns</p>\n</div>"
     },
     "execution_count": 12,
     "metadata": {},
     "output_type": "execute_result"
    }
   ],
   "source": [
    "ji_combine_normalize = jiRawData.copy()\n",
    "\n",
    "all_counts = np.concatenate((ji_combine_normalize['ticicount'], ji_combine_normalize['xucount'],ji_combine_normalize['bacount']))\n",
    "\n",
    "min_val = all_counts.min()\n",
    "max_val = all_counts.max()\n",
    "ji_combine_normalize['normalized_bacount'] = (ji_combine_normalize['bacount'] - min_val) / (max_val - min_val)\n",
    "ji_combine_normalize['normalized_ticicount'] = (ji_combine_normalize['ticicount'] - min_val) / (max_val - min_val)\n",
    "ji_combine_normalize['normalized_xucount'] = (ji_combine_normalize['xucount'] - min_val) / (max_val - min_val)\n",
    "\n",
    "def min_max_normalize_ori(series):\n",
    "    return (series - series.min()) / (series.max() - series.min())\n",
    "# 收录的作品数单独归一化\n",
    "if ji_combine_normalize['includedcount'].dtype in ['float64', 'int64']:  # 检查数据类型是否为数值类型\n",
    "        ji_combine_normalize['includedcount'] = min_max_normalize_ori(ji_combine_normalize['includedcount'])\n",
    "\n",
    "ji_combine_normalize"
   ]
  },
  {
   "cell_type": "markdown",
   "id": "e6e67153edc909a1",
   "metadata": {
    "collapsed": false
   },
   "source": [
    "#### 1.5.3.2 对数归一化"
   ]
  },
  {
   "cell_type": "code",
   "execution_count": 13,
   "id": "f6eb1c5caf8fbd4f",
   "metadata": {
    "collapsed": false,
    "ExecuteTime": {
     "end_time": "2024-11-05T05:37:30.570219Z",
     "start_time": "2024-11-05T05:37:30.565041Z"
    }
   },
   "outputs": [
    {
     "data": {
      "text/plain": "        ticicount  xucount  bacount  includedcount  normalized_bacount  \\\nworkID                                                                   \n9             0.0      3.0      1.0       0.808069            0.144783   \n10            2.0      2.0      0.0       0.703667            0.000000   \n11            0.0      3.0      0.0       0.577484            0.000000   \n12            1.0      5.0      1.0       0.567748            0.144783   \n13            0.0      1.0      0.0       0.648524            0.000000   \n...           ...      ...      ...            ...                 ...   \n478           0.0      0.0      0.0       0.625005            0.000000   \n479           1.0      4.0      1.0       0.672715            0.144783   \n480           3.0      5.0      0.0       0.517897            0.000000   \n481           0.0      0.0      0.0       0.795417            0.000000   \n482           1.0      1.0      0.0       0.596998            0.000000   \n\n        normalized_ticicount  normalized_xucount  \nworkID                                            \n9                   0.000000            0.289566  \n10                  0.229476            0.229476  \n11                  0.000000            0.289566  \n12                  0.144783            0.374258  \n13                  0.000000            0.144783  \n...                      ...                 ...  \n478                 0.000000            0.000000  \n479                 0.144783            0.336176  \n480                 0.289566            0.374258  \n481                 0.000000            0.000000  \n482                 0.144783            0.144783  \n\n[433 rows x 7 columns]",
      "text/html": "<div>\n<style scoped>\n    .dataframe tbody tr th:only-of-type {\n        vertical-align: middle;\n    }\n\n    .dataframe tbody tr th {\n        vertical-align: top;\n    }\n\n    .dataframe thead th {\n        text-align: right;\n    }\n</style>\n<table border=\"1\" class=\"dataframe\">\n  <thead>\n    <tr style=\"text-align: right;\">\n      <th></th>\n      <th>ticicount</th>\n      <th>xucount</th>\n      <th>bacount</th>\n      <th>includedcount</th>\n      <th>normalized_bacount</th>\n      <th>normalized_ticicount</th>\n      <th>normalized_xucount</th>\n    </tr>\n    <tr>\n      <th>workID</th>\n      <th></th>\n      <th></th>\n      <th></th>\n      <th></th>\n      <th></th>\n      <th></th>\n      <th></th>\n    </tr>\n  </thead>\n  <tbody>\n    <tr>\n      <th>9</th>\n      <td>0.0</td>\n      <td>3.0</td>\n      <td>1.0</td>\n      <td>0.808069</td>\n      <td>0.144783</td>\n      <td>0.000000</td>\n      <td>0.289566</td>\n    </tr>\n    <tr>\n      <th>10</th>\n      <td>2.0</td>\n      <td>2.0</td>\n      <td>0.0</td>\n      <td>0.703667</td>\n      <td>0.000000</td>\n      <td>0.229476</td>\n      <td>0.229476</td>\n    </tr>\n    <tr>\n      <th>11</th>\n      <td>0.0</td>\n      <td>3.0</td>\n      <td>0.0</td>\n      <td>0.577484</td>\n      <td>0.000000</td>\n      <td>0.000000</td>\n      <td>0.289566</td>\n    </tr>\n    <tr>\n      <th>12</th>\n      <td>1.0</td>\n      <td>5.0</td>\n      <td>1.0</td>\n      <td>0.567748</td>\n      <td>0.144783</td>\n      <td>0.144783</td>\n      <td>0.374258</td>\n    </tr>\n    <tr>\n      <th>13</th>\n      <td>0.0</td>\n      <td>1.0</td>\n      <td>0.0</td>\n      <td>0.648524</td>\n      <td>0.000000</td>\n      <td>0.000000</td>\n      <td>0.144783</td>\n    </tr>\n    <tr>\n      <th>...</th>\n      <td>...</td>\n      <td>...</td>\n      <td>...</td>\n      <td>...</td>\n      <td>...</td>\n      <td>...</td>\n      <td>...</td>\n    </tr>\n    <tr>\n      <th>478</th>\n      <td>0.0</td>\n      <td>0.0</td>\n      <td>0.0</td>\n      <td>0.625005</td>\n      <td>0.000000</td>\n      <td>0.000000</td>\n      <td>0.000000</td>\n    </tr>\n    <tr>\n      <th>479</th>\n      <td>1.0</td>\n      <td>4.0</td>\n      <td>1.0</td>\n      <td>0.672715</td>\n      <td>0.144783</td>\n      <td>0.144783</td>\n      <td>0.336176</td>\n    </tr>\n    <tr>\n      <th>480</th>\n      <td>3.0</td>\n      <td>5.0</td>\n      <td>0.0</td>\n      <td>0.517897</td>\n      <td>0.000000</td>\n      <td>0.289566</td>\n      <td>0.374258</td>\n    </tr>\n    <tr>\n      <th>481</th>\n      <td>0.0</td>\n      <td>0.0</td>\n      <td>0.0</td>\n      <td>0.795417</td>\n      <td>0.000000</td>\n      <td>0.000000</td>\n      <td>0.000000</td>\n    </tr>\n    <tr>\n      <th>482</th>\n      <td>1.0</td>\n      <td>1.0</td>\n      <td>0.0</td>\n      <td>0.596998</td>\n      <td>0.000000</td>\n      <td>0.144783</td>\n      <td>0.144783</td>\n    </tr>\n  </tbody>\n</table>\n<p>433 rows × 7 columns</p>\n</div>"
     },
     "execution_count": 13,
     "metadata": {},
     "output_type": "execute_result"
    }
   ],
   "source": [
    "ji_combine_log_normalize = jiRawData.copy()\n",
    "\n",
    "all_counts = np.concatenate((ji_combine_log_normalize['ticicount'], ji_combine_log_normalize['xucount'],ji_combine_log_normalize['bacount']))\n",
    "\n",
    "min_val = all_counts.min()\n",
    "max_val = all_counts.max()\n",
    "\n",
    "if max_val > 0:\n",
    "    # ji_log_normalize[column] = np.log10(ji_log_normalize[column] + 1) / np.log10(max_val + 1)\n",
    "    ji_combine_log_normalize['normalized_bacount'] = np.log10(ji_combine_log_normalize['bacount'] + 1) / np.log10(max_val + 1)\n",
    "    ji_combine_log_normalize['normalized_ticicount'] = np.log10(ji_combine_log_normalize['ticicount'] + 1) / np.log10(max_val + 1)\n",
    "    ji_combine_log_normalize['normalized_xucount'] = np.log10(ji_combine_log_normalize['xucount'] + 1) / np.log10(max_val + 1)\n",
    "\n",
    "def min_max_normalize_ori(series):\n",
    "    return (series - series.min()) / (series.max() - series.min())\n",
    "# 收录的作品数单独归一化\n",
    "if ji_combine_log_normalize['includedcount'].dtype in ['float64', 'int64']:  # 检查数据类型是否为数值类型\n",
    "    max_val = ji_combine_log_normalize['includedcount'].max()\n",
    "    if max_val > 0:\n",
    "        ji_combine_log_normalize['includedcount'] = np.log10(ji_combine_log_normalize['includedcount'] + 1) / np.log10(max_val + 1)\n",
    "        # ji_combine_log_normalize['includedcount'] = min_max_normalize_ori(ji_combine_log_normalize['includedcount'])\n",
    "\n",
    "ji_combine_log_normalize"
   ]
  },
  {
   "cell_type": "markdown",
   "id": "d079fe94a986ecd1",
   "metadata": {
    "collapsed": false
   },
   "source": [
    "#### 1.5.3.3 min-max和对数归一化一起"
   ]
  },
  {
   "cell_type": "code",
   "execution_count": 14,
   "id": "3cc5b8bc224c2eaa",
   "metadata": {
    "collapsed": false,
    "ExecuteTime": {
     "end_time": "2024-11-05T05:37:31.554738Z",
     "start_time": "2024-11-05T05:37:31.549741Z"
    }
   },
   "outputs": [
    {
     "data": {
      "text/plain": "        ticicount  xucount  bacount  includedcount  normalized_bacount  \\\nworkID                                                                   \n9             0.0      3.0      1.0       0.808069            0.008403   \n10            2.0      2.0      0.0       0.703667            0.000000   \n11            0.0      3.0      0.0       0.577484            0.000000   \n12            1.0      5.0      1.0       0.567748            0.008403   \n13            0.0      1.0      0.0       0.648524            0.000000   \n...           ...      ...      ...            ...                 ...   \n478           0.0      0.0      0.0       0.625005            0.000000   \n479           1.0      4.0      1.0       0.672715            0.008403   \n480           3.0      5.0      0.0       0.517897            0.000000   \n481           0.0      0.0      0.0       0.795417            0.000000   \n482           1.0      1.0      0.0       0.596998            0.000000   \n\n        normalized_ticicount  normalized_xucount  \nworkID                                            \n9                   0.000000            0.025210  \n10                  0.016807            0.016807  \n11                  0.000000            0.025210  \n12                  0.008403            0.042017  \n13                  0.000000            0.008403  \n...                      ...                 ...  \n478                 0.000000            0.000000  \n479                 0.008403            0.033613  \n480                 0.025210            0.042017  \n481                 0.000000            0.000000  \n482                 0.008403            0.008403  \n\n[433 rows x 7 columns]",
      "text/html": "<div>\n<style scoped>\n    .dataframe tbody tr th:only-of-type {\n        vertical-align: middle;\n    }\n\n    .dataframe tbody tr th {\n        vertical-align: top;\n    }\n\n    .dataframe thead th {\n        text-align: right;\n    }\n</style>\n<table border=\"1\" class=\"dataframe\">\n  <thead>\n    <tr style=\"text-align: right;\">\n      <th></th>\n      <th>ticicount</th>\n      <th>xucount</th>\n      <th>bacount</th>\n      <th>includedcount</th>\n      <th>normalized_bacount</th>\n      <th>normalized_ticicount</th>\n      <th>normalized_xucount</th>\n    </tr>\n    <tr>\n      <th>workID</th>\n      <th></th>\n      <th></th>\n      <th></th>\n      <th></th>\n      <th></th>\n      <th></th>\n      <th></th>\n    </tr>\n  </thead>\n  <tbody>\n    <tr>\n      <th>9</th>\n      <td>0.0</td>\n      <td>3.0</td>\n      <td>1.0</td>\n      <td>0.808069</td>\n      <td>0.008403</td>\n      <td>0.000000</td>\n      <td>0.025210</td>\n    </tr>\n    <tr>\n      <th>10</th>\n      <td>2.0</td>\n      <td>2.0</td>\n      <td>0.0</td>\n      <td>0.703667</td>\n      <td>0.000000</td>\n      <td>0.016807</td>\n      <td>0.016807</td>\n    </tr>\n    <tr>\n      <th>11</th>\n      <td>0.0</td>\n      <td>3.0</td>\n      <td>0.0</td>\n      <td>0.577484</td>\n      <td>0.000000</td>\n      <td>0.000000</td>\n      <td>0.025210</td>\n    </tr>\n    <tr>\n      <th>12</th>\n      <td>1.0</td>\n      <td>5.0</td>\n      <td>1.0</td>\n      <td>0.567748</td>\n      <td>0.008403</td>\n      <td>0.008403</td>\n      <td>0.042017</td>\n    </tr>\n    <tr>\n      <th>13</th>\n      <td>0.0</td>\n      <td>1.0</td>\n      <td>0.0</td>\n      <td>0.648524</td>\n      <td>0.000000</td>\n      <td>0.000000</td>\n      <td>0.008403</td>\n    </tr>\n    <tr>\n      <th>...</th>\n      <td>...</td>\n      <td>...</td>\n      <td>...</td>\n      <td>...</td>\n      <td>...</td>\n      <td>...</td>\n      <td>...</td>\n    </tr>\n    <tr>\n      <th>478</th>\n      <td>0.0</td>\n      <td>0.0</td>\n      <td>0.0</td>\n      <td>0.625005</td>\n      <td>0.000000</td>\n      <td>0.000000</td>\n      <td>0.000000</td>\n    </tr>\n    <tr>\n      <th>479</th>\n      <td>1.0</td>\n      <td>4.0</td>\n      <td>1.0</td>\n      <td>0.672715</td>\n      <td>0.008403</td>\n      <td>0.008403</td>\n      <td>0.033613</td>\n    </tr>\n    <tr>\n      <th>480</th>\n      <td>3.0</td>\n      <td>5.0</td>\n      <td>0.0</td>\n      <td>0.517897</td>\n      <td>0.000000</td>\n      <td>0.025210</td>\n      <td>0.042017</td>\n    </tr>\n    <tr>\n      <th>481</th>\n      <td>0.0</td>\n      <td>0.0</td>\n      <td>0.0</td>\n      <td>0.795417</td>\n      <td>0.000000</td>\n      <td>0.000000</td>\n      <td>0.000000</td>\n    </tr>\n    <tr>\n      <th>482</th>\n      <td>1.0</td>\n      <td>1.0</td>\n      <td>0.0</td>\n      <td>0.596998</td>\n      <td>0.000000</td>\n      <td>0.008403</td>\n      <td>0.008403</td>\n    </tr>\n  </tbody>\n</table>\n<p>433 rows × 7 columns</p>\n</div>"
     },
     "execution_count": 14,
     "metadata": {},
     "output_type": "execute_result"
    }
   ],
   "source": [
    "ji_combine_two_normalize = jiRawData.copy()\n",
    "\n",
    "all_counts = np.concatenate((ji_combine_two_normalize['ticicount'], ji_combine_two_normalize['xucount'],ji_combine_two_normalize['bacount']))\n",
    "\n",
    "min_val = all_counts.min()\n",
    "max_val = all_counts.max()\n",
    "ji_combine_two_normalize['normalized_bacount'] = (ji_combine_two_normalize['bacount'] - min_val) / (max_val - min_val)\n",
    "ji_combine_two_normalize['normalized_ticicount'] = (ji_combine_two_normalize['ticicount'] - min_val) / (max_val - min_val)\n",
    "ji_combine_two_normalize['normalized_xucount'] = (ji_combine_two_normalize['xucount'] - min_val) / (max_val - min_val)\n",
    "\n",
    "\n",
    "# 收录的作品数单独归一化\n",
    "if ji_combine_two_normalize['includedcount'].dtype in ['float64', 'int64']:  # 检查数据类型是否为数值类型\n",
    "    max_val = ji_combine_two_normalize['includedcount'].max()\n",
    "    if max_val > 0:\n",
    "        ji_combine_two_normalize['includedcount'] = np.log10(ji_combine_two_normalize['includedcount'] + 1) / np.log10(max_val + 1)\n",
    "\n",
    "ji_combine_two_normalize"
   ]
  },
  {
   "cell_type": "markdown",
   "id": "1bf0b111f4e2daf0",
   "metadata": {
    "collapsed": false
   },
   "source": [
    "## 1.6 重要性计算"
   ]
  },
  {
   "cell_type": "markdown",
   "id": "40165b008efdd3d9",
   "metadata": {
    "collapsed": false
   },
   "source": [
    "### 1.6.1 权重设置"
   ]
  },
  {
   "cell_type": "code",
   "execution_count": 15,
   "id": "f2fadb323e672dd0",
   "metadata": {
    "collapsed": false,
    "ExecuteTime": {
     "end_time": "2024-11-05T05:37:32.959746Z",
     "start_time": "2024-11-05T05:37:32.930258Z"
    }
   },
   "outputs": [],
   "source": [
    "xuweight = 0.25\n",
    "baweight = 0.25\n",
    "ticiweight = 0.25\n",
    "includedweight = 0.25"
   ]
  },
  {
   "cell_type": "markdown",
   "id": "e42189a4e1aa7435",
   "metadata": {
    "collapsed": false
   },
   "source": [
    "### 1.6.2 Min-Max归一化的结果计算"
   ]
  },
  {
   "cell_type": "code",
   "execution_count": 16,
   "id": "16ead7506b7c2308",
   "metadata": {
    "collapsed": false,
    "ExecuteTime": {
     "end_time": "2024-11-05T05:37:33.666730Z",
     "start_time": "2024-11-05T05:37:33.659107Z"
    }
   },
   "outputs": [
    {
     "data": {
      "text/plain": "        ticicount    xucount  bacount  includedcount  totalWeight\nworkID                                                           \n9        0.000000  17.647059     20.0      19.428571    14.268908\n10       1.680672  11.764706      0.0       7.960591     5.351492\n11       0.000000  17.647059      0.0       2.699507     5.086642\n12       0.840336  29.411765     20.0       2.482759    13.183715\n13       0.000000   5.882353      0.0       4.965517     2.711968\n...           ...        ...      ...            ...          ...\n478      0.000000   0.000000      0.0       4.059113     1.014778\n479      0.840336  23.529412     20.0       6.108374    12.619531\n480      2.521008  29.411765      0.0       1.615764     8.387134\n481      0.000000   0.000000      0.0      17.438424     4.359606\n482      0.840336   5.882353      0.0       3.192118     2.478702\n\n[433 rows x 5 columns]",
      "text/html": "<div>\n<style scoped>\n    .dataframe tbody tr th:only-of-type {\n        vertical-align: middle;\n    }\n\n    .dataframe tbody tr th {\n        vertical-align: top;\n    }\n\n    .dataframe thead th {\n        text-align: right;\n    }\n</style>\n<table border=\"1\" class=\"dataframe\">\n  <thead>\n    <tr style=\"text-align: right;\">\n      <th></th>\n      <th>ticicount</th>\n      <th>xucount</th>\n      <th>bacount</th>\n      <th>includedcount</th>\n      <th>totalWeight</th>\n    </tr>\n    <tr>\n      <th>workID</th>\n      <th></th>\n      <th></th>\n      <th></th>\n      <th></th>\n      <th></th>\n    </tr>\n  </thead>\n  <tbody>\n    <tr>\n      <th>9</th>\n      <td>0.000000</td>\n      <td>17.647059</td>\n      <td>20.0</td>\n      <td>19.428571</td>\n      <td>14.268908</td>\n    </tr>\n    <tr>\n      <th>10</th>\n      <td>1.680672</td>\n      <td>11.764706</td>\n      <td>0.0</td>\n      <td>7.960591</td>\n      <td>5.351492</td>\n    </tr>\n    <tr>\n      <th>11</th>\n      <td>0.000000</td>\n      <td>17.647059</td>\n      <td>0.0</td>\n      <td>2.699507</td>\n      <td>5.086642</td>\n    </tr>\n    <tr>\n      <th>12</th>\n      <td>0.840336</td>\n      <td>29.411765</td>\n      <td>20.0</td>\n      <td>2.482759</td>\n      <td>13.183715</td>\n    </tr>\n    <tr>\n      <th>13</th>\n      <td>0.000000</td>\n      <td>5.882353</td>\n      <td>0.0</td>\n      <td>4.965517</td>\n      <td>2.711968</td>\n    </tr>\n    <tr>\n      <th>...</th>\n      <td>...</td>\n      <td>...</td>\n      <td>...</td>\n      <td>...</td>\n      <td>...</td>\n    </tr>\n    <tr>\n      <th>478</th>\n      <td>0.000000</td>\n      <td>0.000000</td>\n      <td>0.0</td>\n      <td>4.059113</td>\n      <td>1.014778</td>\n    </tr>\n    <tr>\n      <th>479</th>\n      <td>0.840336</td>\n      <td>23.529412</td>\n      <td>20.0</td>\n      <td>6.108374</td>\n      <td>12.619531</td>\n    </tr>\n    <tr>\n      <th>480</th>\n      <td>2.521008</td>\n      <td>29.411765</td>\n      <td>0.0</td>\n      <td>1.615764</td>\n      <td>8.387134</td>\n    </tr>\n    <tr>\n      <th>481</th>\n      <td>0.000000</td>\n      <td>0.000000</td>\n      <td>0.0</td>\n      <td>17.438424</td>\n      <td>4.359606</td>\n    </tr>\n    <tr>\n      <th>482</th>\n      <td>0.840336</td>\n      <td>5.882353</td>\n      <td>0.0</td>\n      <td>3.192118</td>\n      <td>2.478702</td>\n    </tr>\n  </tbody>\n</table>\n<p>433 rows × 5 columns</p>\n</div>"
     },
     "execution_count": 16,
     "metadata": {},
     "output_type": "execute_result"
    }
   ],
   "source": [
    "ji_min_max = ji_min_max_normalize.copy()\n",
    "ji_min_max['totalWeight'] = xuweight*ji_min_max['xucount'] + baweight*ji_min_max['bacount'] + ticiweight*ji_min_max['ticicount'] + includedweight*ji_min_max['includedcount']\n",
    "ji_min_max"
   ]
  },
  {
   "cell_type": "markdown",
   "id": "917c517e40612ec5",
   "metadata": {
    "collapsed": false
   },
   "source": [
    "### 1.6.3 对数归一化的结果计算"
   ]
  },
  {
   "cell_type": "code",
   "execution_count": 17,
   "id": "d7bbeb37ef4e177f",
   "metadata": {
    "collapsed": false,
    "ExecuteTime": {
     "end_time": "2024-11-05T05:37:34.584439Z",
     "start_time": "2024-11-05T05:37:34.574441Z"
    }
   },
   "outputs": [
    {
     "data": {
      "text/plain": "        ticicount   xucount   bacount  includedcount  totalWeight\nworkID                                                           \n9        0.000000  0.479625  0.386853       0.808069     0.418637\n10       0.229476  0.380094  0.000000       0.703667     0.328309\n11       0.000000  0.479625  0.000000       0.577484     0.264277\n12       0.144783  0.619906  0.386853       0.567748     0.429823\n13       0.000000  0.239812  0.000000       0.648524     0.222084\n...           ...       ...       ...            ...          ...\n478      0.000000  0.000000  0.000000       0.625005     0.156251\n479      0.144783  0.556827  0.386853       0.672715     0.440295\n480      0.289566  0.619906  0.000000       0.517897     0.356842\n481      0.000000  0.000000  0.000000       0.795417     0.198854\n482      0.144783  0.239812  0.000000       0.596998     0.245398\n\n[433 rows x 5 columns]",
      "text/html": "<div>\n<style scoped>\n    .dataframe tbody tr th:only-of-type {\n        vertical-align: middle;\n    }\n\n    .dataframe tbody tr th {\n        vertical-align: top;\n    }\n\n    .dataframe thead th {\n        text-align: right;\n    }\n</style>\n<table border=\"1\" class=\"dataframe\">\n  <thead>\n    <tr style=\"text-align: right;\">\n      <th></th>\n      <th>ticicount</th>\n      <th>xucount</th>\n      <th>bacount</th>\n      <th>includedcount</th>\n      <th>totalWeight</th>\n    </tr>\n    <tr>\n      <th>workID</th>\n      <th></th>\n      <th></th>\n      <th></th>\n      <th></th>\n      <th></th>\n    </tr>\n  </thead>\n  <tbody>\n    <tr>\n      <th>9</th>\n      <td>0.000000</td>\n      <td>0.479625</td>\n      <td>0.386853</td>\n      <td>0.808069</td>\n      <td>0.418637</td>\n    </tr>\n    <tr>\n      <th>10</th>\n      <td>0.229476</td>\n      <td>0.380094</td>\n      <td>0.000000</td>\n      <td>0.703667</td>\n      <td>0.328309</td>\n    </tr>\n    <tr>\n      <th>11</th>\n      <td>0.000000</td>\n      <td>0.479625</td>\n      <td>0.000000</td>\n      <td>0.577484</td>\n      <td>0.264277</td>\n    </tr>\n    <tr>\n      <th>12</th>\n      <td>0.144783</td>\n      <td>0.619906</td>\n      <td>0.386853</td>\n      <td>0.567748</td>\n      <td>0.429823</td>\n    </tr>\n    <tr>\n      <th>13</th>\n      <td>0.000000</td>\n      <td>0.239812</td>\n      <td>0.000000</td>\n      <td>0.648524</td>\n      <td>0.222084</td>\n    </tr>\n    <tr>\n      <th>...</th>\n      <td>...</td>\n      <td>...</td>\n      <td>...</td>\n      <td>...</td>\n      <td>...</td>\n    </tr>\n    <tr>\n      <th>478</th>\n      <td>0.000000</td>\n      <td>0.000000</td>\n      <td>0.000000</td>\n      <td>0.625005</td>\n      <td>0.156251</td>\n    </tr>\n    <tr>\n      <th>479</th>\n      <td>0.144783</td>\n      <td>0.556827</td>\n      <td>0.386853</td>\n      <td>0.672715</td>\n      <td>0.440295</td>\n    </tr>\n    <tr>\n      <th>480</th>\n      <td>0.289566</td>\n      <td>0.619906</td>\n      <td>0.000000</td>\n      <td>0.517897</td>\n      <td>0.356842</td>\n    </tr>\n    <tr>\n      <th>481</th>\n      <td>0.000000</td>\n      <td>0.000000</td>\n      <td>0.000000</td>\n      <td>0.795417</td>\n      <td>0.198854</td>\n    </tr>\n    <tr>\n      <th>482</th>\n      <td>0.144783</td>\n      <td>0.239812</td>\n      <td>0.000000</td>\n      <td>0.596998</td>\n      <td>0.245398</td>\n    </tr>\n  </tbody>\n</table>\n<p>433 rows × 5 columns</p>\n</div>"
     },
     "execution_count": 17,
     "metadata": {},
     "output_type": "execute_result"
    }
   ],
   "source": [
    "ji_log = ji_log_normalize.copy()\n",
    "\n",
    "ji_log['totalWeight'] = xuweight*ji_log['xucount'] + baweight*ji_log['bacount'] + ticiweight*ji_log['ticicount'] + includedweight*ji_log['includedcount']\n",
    "ji_log"
   ]
  },
  {
   "cell_type": "markdown",
   "id": "cd2c2f61243d1ad5",
   "metadata": {
    "collapsed": false
   },
   "source": [
    "\n",
    "### 1.6.4 合并后的归一化结果计算"
   ]
  },
  {
   "cell_type": "markdown",
   "id": "4546428c1c51b45a",
   "metadata": {
    "collapsed": false
   },
   "source": [
    "#### 1.6.4.1 min-max(best)"
   ]
  },
  {
   "cell_type": "code",
   "execution_count": 18,
   "id": "807dde4be97858ce",
   "metadata": {
    "collapsed": false,
    "ExecuteTime": {
     "end_time": "2024-11-05T05:37:35.734771Z",
     "start_time": "2024-11-05T05:37:35.716058Z"
    }
   },
   "outputs": [
    {
     "data": {
      "text/plain": "        ticicount  xucount  bacount  includedcount  normalized_bacount  \\\nworkID                                                                   \n9             0.0      3.0      1.0       0.194286            0.008403   \n10            2.0      2.0      0.0       0.079606            0.000000   \n11            0.0      3.0      0.0       0.026995            0.000000   \n12            1.0      5.0      1.0       0.024828            0.008403   \n13            0.0      1.0      0.0       0.049655            0.000000   \n...           ...      ...      ...            ...                 ...   \n478           0.0      0.0      0.0       0.040591            0.000000   \n479           1.0      4.0      1.0       0.061084            0.008403   \n480           3.0      5.0      0.0       0.016158            0.000000   \n481           0.0      0.0      0.0       0.174384            0.000000   \n482           1.0      1.0      0.0       0.031921            0.000000   \n\n        normalized_ticicount  normalized_xucount  totalWeight  \nworkID                                                         \n9                   0.000000            0.025210     0.056975  \n10                  0.016807            0.016807     0.028305  \n11                  0.000000            0.025210     0.013051  \n12                  0.008403            0.042017     0.020913  \n13                  0.000000            0.008403     0.014515  \n...                      ...                 ...          ...  \n478                 0.000000            0.000000     0.010148  \n479                 0.008403            0.033613     0.027876  \n480                 0.025210            0.042017     0.020846  \n481                 0.000000            0.000000     0.043596  \n482                 0.008403            0.008403     0.012182  \n\n[433 rows x 8 columns]",
      "text/html": "<div>\n<style scoped>\n    .dataframe tbody tr th:only-of-type {\n        vertical-align: middle;\n    }\n\n    .dataframe tbody tr th {\n        vertical-align: top;\n    }\n\n    .dataframe thead th {\n        text-align: right;\n    }\n</style>\n<table border=\"1\" class=\"dataframe\">\n  <thead>\n    <tr style=\"text-align: right;\">\n      <th></th>\n      <th>ticicount</th>\n      <th>xucount</th>\n      <th>bacount</th>\n      <th>includedcount</th>\n      <th>normalized_bacount</th>\n      <th>normalized_ticicount</th>\n      <th>normalized_xucount</th>\n      <th>totalWeight</th>\n    </tr>\n    <tr>\n      <th>workID</th>\n      <th></th>\n      <th></th>\n      <th></th>\n      <th></th>\n      <th></th>\n      <th></th>\n      <th></th>\n      <th></th>\n    </tr>\n  </thead>\n  <tbody>\n    <tr>\n      <th>9</th>\n      <td>0.0</td>\n      <td>3.0</td>\n      <td>1.0</td>\n      <td>0.194286</td>\n      <td>0.008403</td>\n      <td>0.000000</td>\n      <td>0.025210</td>\n      <td>0.056975</td>\n    </tr>\n    <tr>\n      <th>10</th>\n      <td>2.0</td>\n      <td>2.0</td>\n      <td>0.0</td>\n      <td>0.079606</td>\n      <td>0.000000</td>\n      <td>0.016807</td>\n      <td>0.016807</td>\n      <td>0.028305</td>\n    </tr>\n    <tr>\n      <th>11</th>\n      <td>0.0</td>\n      <td>3.0</td>\n      <td>0.0</td>\n      <td>0.026995</td>\n      <td>0.000000</td>\n      <td>0.000000</td>\n      <td>0.025210</td>\n      <td>0.013051</td>\n    </tr>\n    <tr>\n      <th>12</th>\n      <td>1.0</td>\n      <td>5.0</td>\n      <td>1.0</td>\n      <td>0.024828</td>\n      <td>0.008403</td>\n      <td>0.008403</td>\n      <td>0.042017</td>\n      <td>0.020913</td>\n    </tr>\n    <tr>\n      <th>13</th>\n      <td>0.0</td>\n      <td>1.0</td>\n      <td>0.0</td>\n      <td>0.049655</td>\n      <td>0.000000</td>\n      <td>0.000000</td>\n      <td>0.008403</td>\n      <td>0.014515</td>\n    </tr>\n    <tr>\n      <th>...</th>\n      <td>...</td>\n      <td>...</td>\n      <td>...</td>\n      <td>...</td>\n      <td>...</td>\n      <td>...</td>\n      <td>...</td>\n      <td>...</td>\n    </tr>\n    <tr>\n      <th>478</th>\n      <td>0.0</td>\n      <td>0.0</td>\n      <td>0.0</td>\n      <td>0.040591</td>\n      <td>0.000000</td>\n      <td>0.000000</td>\n      <td>0.000000</td>\n      <td>0.010148</td>\n    </tr>\n    <tr>\n      <th>479</th>\n      <td>1.0</td>\n      <td>4.0</td>\n      <td>1.0</td>\n      <td>0.061084</td>\n      <td>0.008403</td>\n      <td>0.008403</td>\n      <td>0.033613</td>\n      <td>0.027876</td>\n    </tr>\n    <tr>\n      <th>480</th>\n      <td>3.0</td>\n      <td>5.0</td>\n      <td>0.0</td>\n      <td>0.016158</td>\n      <td>0.000000</td>\n      <td>0.025210</td>\n      <td>0.042017</td>\n      <td>0.020846</td>\n    </tr>\n    <tr>\n      <th>481</th>\n      <td>0.0</td>\n      <td>0.0</td>\n      <td>0.0</td>\n      <td>0.174384</td>\n      <td>0.000000</td>\n      <td>0.000000</td>\n      <td>0.000000</td>\n      <td>0.043596</td>\n    </tr>\n    <tr>\n      <th>482</th>\n      <td>1.0</td>\n      <td>1.0</td>\n      <td>0.0</td>\n      <td>0.031921</td>\n      <td>0.000000</td>\n      <td>0.008403</td>\n      <td>0.008403</td>\n      <td>0.012182</td>\n    </tr>\n  </tbody>\n</table>\n<p>433 rows × 8 columns</p>\n</div>"
     },
     "execution_count": 18,
     "metadata": {},
     "output_type": "execute_result"
    }
   ],
   "source": [
    "ji_combine = ji_combine_normalize.copy()\n",
    "\n",
    "ji_combine['totalWeight'] = xuweight*ji_combine['normalized_xucount'] + baweight*ji_combine['normalized_bacount'] + ticiweight*ji_combine['normalized_ticicount'] + includedweight*ji_combine['includedcount']\n",
    "ji_combine"
   ]
  },
  {
   "cell_type": "markdown",
   "id": "d3d3354c62df9205",
   "metadata": {
    "collapsed": false
   },
   "source": [
    "#### 1.6.4.2 对数归一化结果计算"
   ]
  },
  {
   "cell_type": "code",
   "execution_count": 19,
   "id": "320268d4a5584bb4",
   "metadata": {
    "collapsed": false,
    "ExecuteTime": {
     "end_time": "2024-11-05T05:37:36.576503Z",
     "start_time": "2024-11-05T05:37:36.560088Z"
    }
   },
   "outputs": [
    {
     "data": {
      "text/plain": "        ticicount  xucount  bacount  includedcount  normalized_bacount  \\\nworkID                                                                   \n9             0.0      3.0      1.0       0.808069            0.144783   \n10            2.0      2.0      0.0       0.703667            0.000000   \n11            0.0      3.0      0.0       0.577484            0.000000   \n12            1.0      5.0      1.0       0.567748            0.144783   \n13            0.0      1.0      0.0       0.648524            0.000000   \n...           ...      ...      ...            ...                 ...   \n478           0.0      0.0      0.0       0.625005            0.000000   \n479           1.0      4.0      1.0       0.672715            0.144783   \n480           3.0      5.0      0.0       0.517897            0.000000   \n481           0.0      0.0      0.0       0.795417            0.000000   \n482           1.0      1.0      0.0       0.596998            0.000000   \n\n        normalized_ticicount  normalized_xucount  totalWeight  \nworkID                                                         \n9                   0.000000            0.289566     0.310604  \n10                  0.229476            0.229476     0.290655  \n11                  0.000000            0.289566     0.216762  \n12                  0.144783            0.374258     0.307893  \n13                  0.000000            0.144783     0.198327  \n...                      ...                 ...          ...  \n478                 0.000000            0.000000     0.156251  \n479                 0.144783            0.336176     0.324614  \n480                 0.289566            0.374258     0.295430  \n481                 0.000000            0.000000     0.198854  \n482                 0.144783            0.144783     0.221641  \n\n[433 rows x 8 columns]",
      "text/html": "<div>\n<style scoped>\n    .dataframe tbody tr th:only-of-type {\n        vertical-align: middle;\n    }\n\n    .dataframe tbody tr th {\n        vertical-align: top;\n    }\n\n    .dataframe thead th {\n        text-align: right;\n    }\n</style>\n<table border=\"1\" class=\"dataframe\">\n  <thead>\n    <tr style=\"text-align: right;\">\n      <th></th>\n      <th>ticicount</th>\n      <th>xucount</th>\n      <th>bacount</th>\n      <th>includedcount</th>\n      <th>normalized_bacount</th>\n      <th>normalized_ticicount</th>\n      <th>normalized_xucount</th>\n      <th>totalWeight</th>\n    </tr>\n    <tr>\n      <th>workID</th>\n      <th></th>\n      <th></th>\n      <th></th>\n      <th></th>\n      <th></th>\n      <th></th>\n      <th></th>\n      <th></th>\n    </tr>\n  </thead>\n  <tbody>\n    <tr>\n      <th>9</th>\n      <td>0.0</td>\n      <td>3.0</td>\n      <td>1.0</td>\n      <td>0.808069</td>\n      <td>0.144783</td>\n      <td>0.000000</td>\n      <td>0.289566</td>\n      <td>0.310604</td>\n    </tr>\n    <tr>\n      <th>10</th>\n      <td>2.0</td>\n      <td>2.0</td>\n      <td>0.0</td>\n      <td>0.703667</td>\n      <td>0.000000</td>\n      <td>0.229476</td>\n      <td>0.229476</td>\n      <td>0.290655</td>\n    </tr>\n    <tr>\n      <th>11</th>\n      <td>0.0</td>\n      <td>3.0</td>\n      <td>0.0</td>\n      <td>0.577484</td>\n      <td>0.000000</td>\n      <td>0.000000</td>\n      <td>0.289566</td>\n      <td>0.216762</td>\n    </tr>\n    <tr>\n      <th>12</th>\n      <td>1.0</td>\n      <td>5.0</td>\n      <td>1.0</td>\n      <td>0.567748</td>\n      <td>0.144783</td>\n      <td>0.144783</td>\n      <td>0.374258</td>\n      <td>0.307893</td>\n    </tr>\n    <tr>\n      <th>13</th>\n      <td>0.0</td>\n      <td>1.0</td>\n      <td>0.0</td>\n      <td>0.648524</td>\n      <td>0.000000</td>\n      <td>0.000000</td>\n      <td>0.144783</td>\n      <td>0.198327</td>\n    </tr>\n    <tr>\n      <th>...</th>\n      <td>...</td>\n      <td>...</td>\n      <td>...</td>\n      <td>...</td>\n      <td>...</td>\n      <td>...</td>\n      <td>...</td>\n      <td>...</td>\n    </tr>\n    <tr>\n      <th>478</th>\n      <td>0.0</td>\n      <td>0.0</td>\n      <td>0.0</td>\n      <td>0.625005</td>\n      <td>0.000000</td>\n      <td>0.000000</td>\n      <td>0.000000</td>\n      <td>0.156251</td>\n    </tr>\n    <tr>\n      <th>479</th>\n      <td>1.0</td>\n      <td>4.0</td>\n      <td>1.0</td>\n      <td>0.672715</td>\n      <td>0.144783</td>\n      <td>0.144783</td>\n      <td>0.336176</td>\n      <td>0.324614</td>\n    </tr>\n    <tr>\n      <th>480</th>\n      <td>3.0</td>\n      <td>5.0</td>\n      <td>0.0</td>\n      <td>0.517897</td>\n      <td>0.000000</td>\n      <td>0.289566</td>\n      <td>0.374258</td>\n      <td>0.295430</td>\n    </tr>\n    <tr>\n      <th>481</th>\n      <td>0.0</td>\n      <td>0.0</td>\n      <td>0.0</td>\n      <td>0.795417</td>\n      <td>0.000000</td>\n      <td>0.000000</td>\n      <td>0.000000</td>\n      <td>0.198854</td>\n    </tr>\n    <tr>\n      <th>482</th>\n      <td>1.0</td>\n      <td>1.0</td>\n      <td>0.0</td>\n      <td>0.596998</td>\n      <td>0.000000</td>\n      <td>0.144783</td>\n      <td>0.144783</td>\n      <td>0.221641</td>\n    </tr>\n  </tbody>\n</table>\n<p>433 rows × 8 columns</p>\n</div>"
     },
     "execution_count": 19,
     "metadata": {},
     "output_type": "execute_result"
    }
   ],
   "source": [
    "ji_combine_log = ji_combine_log_normalize.copy()\n",
    "\n",
    "ji_combine_log['totalWeight'] = xuweight*ji_combine_log['normalized_xucount'] + baweight*ji_combine_log['normalized_bacount'] + ticiweight*ji_combine_log['normalized_ticicount'] + includedweight*ji_combine_log['includedcount']\n",
    "ji_combine_log"
   ]
  },
  {
   "cell_type": "markdown",
   "id": "cadadfb574b792a6",
   "metadata": {
    "collapsed": false
   },
   "source": [
    "### 把集的册书也考虑进来呢"
   ]
  },
  {
   "cell_type": "code",
   "execution_count": 20,
   "id": "4408da07e674c18b",
   "metadata": {
    "collapsed": false,
    "ExecuteTime": {
     "end_time": "2024-11-05T05:37:37.142562Z",
     "start_time": "2024-11-05T05:37:37.108879Z"
    }
   },
   "outputs": [
    {
     "data": {
      "text/plain": "        NumberCe\nworkID          \n460         24.0\n61          20.0\n195         20.0\n88          18.0\n193         16.0\n...          ...\n211          NaN\n274          NaN\n344          NaN\n363          NaN\n469          NaN\n\n[431 rows x 1 columns]",
      "text/html": "<div>\n<style scoped>\n    .dataframe tbody tr th:only-of-type {\n        vertical-align: middle;\n    }\n\n    .dataframe tbody tr th {\n        vertical-align: top;\n    }\n\n    .dataframe thead th {\n        text-align: right;\n    }\n</style>\n<table border=\"1\" class=\"dataframe\">\n  <thead>\n    <tr style=\"text-align: right;\">\n      <th></th>\n      <th>NumberCe</th>\n    </tr>\n    <tr>\n      <th>workID</th>\n      <th></th>\n    </tr>\n  </thead>\n  <tbody>\n    <tr>\n      <th>460</th>\n      <td>24.0</td>\n    </tr>\n    <tr>\n      <th>61</th>\n      <td>20.0</td>\n    </tr>\n    <tr>\n      <th>195</th>\n      <td>20.0</td>\n    </tr>\n    <tr>\n      <th>88</th>\n      <td>18.0</td>\n    </tr>\n    <tr>\n      <th>193</th>\n      <td>16.0</td>\n    </tr>\n    <tr>\n      <th>...</th>\n      <td>...</td>\n    </tr>\n    <tr>\n      <th>211</th>\n      <td>NaN</td>\n    </tr>\n    <tr>\n      <th>274</th>\n      <td>NaN</td>\n    </tr>\n    <tr>\n      <th>344</th>\n      <td>NaN</td>\n    </tr>\n    <tr>\n      <th>363</th>\n      <td>NaN</td>\n    </tr>\n    <tr>\n      <th>469</th>\n      <td>NaN</td>\n    </tr>\n  </tbody>\n</table>\n<p>431 rows × 1 columns</p>\n</div>"
     },
     "execution_count": 20,
     "metadata": {},
     "output_type": "execute_result"
    }
   ],
   "source": [
    "workCeSQL = '''\n",
    "SELECT workID, NumberCe\n",
    "FROM work \n",
    "ORDER BY NumberCe DESC\n",
    "'''\n",
    "workCe = duckdb.query(workCeSQL).df()\n",
    "workCe.set_index('workID', inplace=True)\n",
    "\n",
    "workCe"
   ]
  },
  {
   "cell_type": "code",
   "execution_count": 21,
   "id": "d3c828b8f1718693",
   "metadata": {
    "collapsed": false,
    "ExecuteTime": {
     "end_time": "2024-11-05T05:37:37.535172Z",
     "start_time": "2024-11-05T05:37:37.513184Z"
    }
   },
   "outputs": [
    {
     "data": {
      "text/plain": "        ticicount  xucount  bacount  includedcount  NumberCe\nworkID                                                      \n9             0.0      3.0      1.0          986.0       6.0\n10            2.0      2.0      0.0          404.0       4.0\n11            0.0      3.0      0.0          137.0       3.0\n12            1.0      5.0      1.0          126.0       2.0\n13            0.0      1.0      0.0          252.0       2.0\n...           ...      ...      ...            ...       ...\n478           0.0      0.0      0.0          206.0       1.0\n479           1.0      4.0      1.0          310.0       1.0\n480           3.0      5.0      0.0           82.0       1.0\n481           0.0      0.0      0.0          885.0       2.0\n482           1.0      1.0      0.0          162.0       2.0\n\n[433 rows x 5 columns]",
      "text/html": "<div>\n<style scoped>\n    .dataframe tbody tr th:only-of-type {\n        vertical-align: middle;\n    }\n\n    .dataframe tbody tr th {\n        vertical-align: top;\n    }\n\n    .dataframe thead th {\n        text-align: right;\n    }\n</style>\n<table border=\"1\" class=\"dataframe\">\n  <thead>\n    <tr style=\"text-align: right;\">\n      <th></th>\n      <th>ticicount</th>\n      <th>xucount</th>\n      <th>bacount</th>\n      <th>includedcount</th>\n      <th>NumberCe</th>\n    </tr>\n    <tr>\n      <th>workID</th>\n      <th></th>\n      <th></th>\n      <th></th>\n      <th></th>\n      <th></th>\n    </tr>\n  </thead>\n  <tbody>\n    <tr>\n      <th>9</th>\n      <td>0.0</td>\n      <td>3.0</td>\n      <td>1.0</td>\n      <td>986.0</td>\n      <td>6.0</td>\n    </tr>\n    <tr>\n      <th>10</th>\n      <td>2.0</td>\n      <td>2.0</td>\n      <td>0.0</td>\n      <td>404.0</td>\n      <td>4.0</td>\n    </tr>\n    <tr>\n      <th>11</th>\n      <td>0.0</td>\n      <td>3.0</td>\n      <td>0.0</td>\n      <td>137.0</td>\n      <td>3.0</td>\n    </tr>\n    <tr>\n      <th>12</th>\n      <td>1.0</td>\n      <td>5.0</td>\n      <td>1.0</td>\n      <td>126.0</td>\n      <td>2.0</td>\n    </tr>\n    <tr>\n      <th>13</th>\n      <td>0.0</td>\n      <td>1.0</td>\n      <td>0.0</td>\n      <td>252.0</td>\n      <td>2.0</td>\n    </tr>\n    <tr>\n      <th>...</th>\n      <td>...</td>\n      <td>...</td>\n      <td>...</td>\n      <td>...</td>\n      <td>...</td>\n    </tr>\n    <tr>\n      <th>478</th>\n      <td>0.0</td>\n      <td>0.0</td>\n      <td>0.0</td>\n      <td>206.0</td>\n      <td>1.0</td>\n    </tr>\n    <tr>\n      <th>479</th>\n      <td>1.0</td>\n      <td>4.0</td>\n      <td>1.0</td>\n      <td>310.0</td>\n      <td>1.0</td>\n    </tr>\n    <tr>\n      <th>480</th>\n      <td>3.0</td>\n      <td>5.0</td>\n      <td>0.0</td>\n      <td>82.0</td>\n      <td>1.0</td>\n    </tr>\n    <tr>\n      <th>481</th>\n      <td>0.0</td>\n      <td>0.0</td>\n      <td>0.0</td>\n      <td>885.0</td>\n      <td>2.0</td>\n    </tr>\n    <tr>\n      <th>482</th>\n      <td>1.0</td>\n      <td>1.0</td>\n      <td>0.0</td>\n      <td>162.0</td>\n      <td>2.0</td>\n    </tr>\n  </tbody>\n</table>\n<p>433 rows × 5 columns</p>\n</div>"
     },
     "execution_count": 21,
     "metadata": {},
     "output_type": "execute_result"
    }
   ],
   "source": [
    "jiRawDataWithCe = reduce(lambda left, right: pd.merge(left, right, on='workID', how='outer'), [jiRawData,workCe]).fillna(0)\n",
    "jiRawDataWithCe"
   ]
  },
  {
   "cell_type": "code",
   "execution_count": 22,
   "id": "978f6c96c89c97ba",
   "metadata": {
    "collapsed": false,
    "ExecuteTime": {
     "end_time": "2024-11-05T05:37:37.846806Z",
     "start_time": "2024-11-05T05:37:37.834811Z"
    }
   },
   "outputs": [
    {
     "data": {
      "text/plain": "        ticicount   xucount   bacount  includedcount  NumberCe\nworkID                                                        \n9        0.000000  1.386294  0.693147       6.894670  1.945910\n10       1.098612  1.098612  0.000000       6.003887  1.609438\n11       0.000000  1.386294  0.000000       4.927254  1.386294\n12       0.693147  1.791759  0.693147       4.844187  1.098612\n13       0.000000  0.693147  0.000000       5.533389  1.098612\n...           ...       ...       ...            ...       ...\n478      0.000000  0.000000  0.000000       5.332719  0.693147\n479      0.693147  1.609438  0.693147       5.739793  0.693147\n480      1.386294  1.791759  0.000000       4.418841  0.693147\n481      0.000000  0.000000  0.000000       6.786717  1.098612\n482      0.693147  0.693147  0.000000       5.093750  1.098612\n\n[433 rows x 5 columns]",
      "text/html": "<div>\n<style scoped>\n    .dataframe tbody tr th:only-of-type {\n        vertical-align: middle;\n    }\n\n    .dataframe tbody tr th {\n        vertical-align: top;\n    }\n\n    .dataframe thead th {\n        text-align: right;\n    }\n</style>\n<table border=\"1\" class=\"dataframe\">\n  <thead>\n    <tr style=\"text-align: right;\">\n      <th></th>\n      <th>ticicount</th>\n      <th>xucount</th>\n      <th>bacount</th>\n      <th>includedcount</th>\n      <th>NumberCe</th>\n    </tr>\n    <tr>\n      <th>workID</th>\n      <th></th>\n      <th></th>\n      <th></th>\n      <th></th>\n      <th></th>\n    </tr>\n  </thead>\n  <tbody>\n    <tr>\n      <th>9</th>\n      <td>0.000000</td>\n      <td>1.386294</td>\n      <td>0.693147</td>\n      <td>6.894670</td>\n      <td>1.945910</td>\n    </tr>\n    <tr>\n      <th>10</th>\n      <td>1.098612</td>\n      <td>1.098612</td>\n      <td>0.000000</td>\n      <td>6.003887</td>\n      <td>1.609438</td>\n    </tr>\n    <tr>\n      <th>11</th>\n      <td>0.000000</td>\n      <td>1.386294</td>\n      <td>0.000000</td>\n      <td>4.927254</td>\n      <td>1.386294</td>\n    </tr>\n    <tr>\n      <th>12</th>\n      <td>0.693147</td>\n      <td>1.791759</td>\n      <td>0.693147</td>\n      <td>4.844187</td>\n      <td>1.098612</td>\n    </tr>\n    <tr>\n      <th>13</th>\n      <td>0.000000</td>\n      <td>0.693147</td>\n      <td>0.000000</td>\n      <td>5.533389</td>\n      <td>1.098612</td>\n    </tr>\n    <tr>\n      <th>...</th>\n      <td>...</td>\n      <td>...</td>\n      <td>...</td>\n      <td>...</td>\n      <td>...</td>\n    </tr>\n    <tr>\n      <th>478</th>\n      <td>0.000000</td>\n      <td>0.000000</td>\n      <td>0.000000</td>\n      <td>5.332719</td>\n      <td>0.693147</td>\n    </tr>\n    <tr>\n      <th>479</th>\n      <td>0.693147</td>\n      <td>1.609438</td>\n      <td>0.693147</td>\n      <td>5.739793</td>\n      <td>0.693147</td>\n    </tr>\n    <tr>\n      <th>480</th>\n      <td>1.386294</td>\n      <td>1.791759</td>\n      <td>0.000000</td>\n      <td>4.418841</td>\n      <td>0.693147</td>\n    </tr>\n    <tr>\n      <th>481</th>\n      <td>0.000000</td>\n      <td>0.000000</td>\n      <td>0.000000</td>\n      <td>6.786717</td>\n      <td>1.098612</td>\n    </tr>\n    <tr>\n      <th>482</th>\n      <td>0.693147</td>\n      <td>0.693147</td>\n      <td>0.000000</td>\n      <td>5.093750</td>\n      <td>1.098612</td>\n    </tr>\n  </tbody>\n</table>\n<p>433 rows × 5 columns</p>\n</div>"
     },
     "execution_count": 22,
     "metadata": {},
     "output_type": "execute_result"
    }
   ],
   "source": [
    "ji_ce_log_normalize = jiRawDataWithCe.copy()\n",
    "\n",
    "for column in ji_ce_log_normalize.columns:  \n",
    "    if ji_ce_log_normalize[column].dtype in ['float64', 'int64']:\n",
    "        # 对数据加1以避免对0取对数的问题\n",
    "        ji_ce_log_normalize[column] = np.log(ji_ce_log_normalize[column] + 1)\n",
    "\n",
    "ji_ce_log_normalize"
   ]
  },
  {
   "cell_type": "code",
   "execution_count": 23,
   "id": "435507a5f43c686b",
   "metadata": {
    "collapsed": false,
    "ExecuteTime": {
     "end_time": "2024-11-05T05:37:38.209469Z",
     "start_time": "2024-11-05T05:37:38.197060Z"
    }
   },
   "outputs": [
    {
     "data": {
      "text/plain": "        ticicount   xucount   bacount  includedcount  NumberCe  totalWeight\nworkID                                                                     \n9        0.000000  1.386294  0.693147       6.894670  1.945910     2.184004\n10       1.098612  1.098612  0.000000       6.003887  1.609438     1.962110\n11       0.000000  1.386294  0.000000       4.927254  1.386294     1.539968\n12       0.693147  1.791759  0.693147       4.844187  1.098612     1.824171\n13       0.000000  0.693147  0.000000       5.533389  1.098612     1.465030\n...           ...       ...       ...            ...       ...          ...\n478      0.000000  0.000000  0.000000       5.332719  0.693147     1.205173\n479      0.693147  1.609438  0.693147       5.739793  0.693147     1.885734\n480      1.386294  1.791759  0.000000       4.418841  0.693147     1.658008\n481      0.000000  0.000000  0.000000       6.786717  1.098612     1.577066\n482      0.693147  0.693147  0.000000       5.093750  1.098612     1.515731\n\n[433 rows x 6 columns]",
      "text/html": "<div>\n<style scoped>\n    .dataframe tbody tr th:only-of-type {\n        vertical-align: middle;\n    }\n\n    .dataframe tbody tr th {\n        vertical-align: top;\n    }\n\n    .dataframe thead th {\n        text-align: right;\n    }\n</style>\n<table border=\"1\" class=\"dataframe\">\n  <thead>\n    <tr style=\"text-align: right;\">\n      <th></th>\n      <th>ticicount</th>\n      <th>xucount</th>\n      <th>bacount</th>\n      <th>includedcount</th>\n      <th>NumberCe</th>\n      <th>totalWeight</th>\n    </tr>\n    <tr>\n      <th>workID</th>\n      <th></th>\n      <th></th>\n      <th></th>\n      <th></th>\n      <th></th>\n      <th></th>\n    </tr>\n  </thead>\n  <tbody>\n    <tr>\n      <th>9</th>\n      <td>0.000000</td>\n      <td>1.386294</td>\n      <td>0.693147</td>\n      <td>6.894670</td>\n      <td>1.945910</td>\n      <td>2.184004</td>\n    </tr>\n    <tr>\n      <th>10</th>\n      <td>1.098612</td>\n      <td>1.098612</td>\n      <td>0.000000</td>\n      <td>6.003887</td>\n      <td>1.609438</td>\n      <td>1.962110</td>\n    </tr>\n    <tr>\n      <th>11</th>\n      <td>0.000000</td>\n      <td>1.386294</td>\n      <td>0.000000</td>\n      <td>4.927254</td>\n      <td>1.386294</td>\n      <td>1.539968</td>\n    </tr>\n    <tr>\n      <th>12</th>\n      <td>0.693147</td>\n      <td>1.791759</td>\n      <td>0.693147</td>\n      <td>4.844187</td>\n      <td>1.098612</td>\n      <td>1.824171</td>\n    </tr>\n    <tr>\n      <th>13</th>\n      <td>0.000000</td>\n      <td>0.693147</td>\n      <td>0.000000</td>\n      <td>5.533389</td>\n      <td>1.098612</td>\n      <td>1.465030</td>\n    </tr>\n    <tr>\n      <th>...</th>\n      <td>...</td>\n      <td>...</td>\n      <td>...</td>\n      <td>...</td>\n      <td>...</td>\n      <td>...</td>\n    </tr>\n    <tr>\n      <th>478</th>\n      <td>0.000000</td>\n      <td>0.000000</td>\n      <td>0.000000</td>\n      <td>5.332719</td>\n      <td>0.693147</td>\n      <td>1.205173</td>\n    </tr>\n    <tr>\n      <th>479</th>\n      <td>0.693147</td>\n      <td>1.609438</td>\n      <td>0.693147</td>\n      <td>5.739793</td>\n      <td>0.693147</td>\n      <td>1.885734</td>\n    </tr>\n    <tr>\n      <th>480</th>\n      <td>1.386294</td>\n      <td>1.791759</td>\n      <td>0.000000</td>\n      <td>4.418841</td>\n      <td>0.693147</td>\n      <td>1.658008</td>\n    </tr>\n    <tr>\n      <th>481</th>\n      <td>0.000000</td>\n      <td>0.000000</td>\n      <td>0.000000</td>\n      <td>6.786717</td>\n      <td>1.098612</td>\n      <td>1.577066</td>\n    </tr>\n    <tr>\n      <th>482</th>\n      <td>0.693147</td>\n      <td>0.693147</td>\n      <td>0.000000</td>\n      <td>5.093750</td>\n      <td>1.098612</td>\n      <td>1.515731</td>\n    </tr>\n  </tbody>\n</table>\n<p>433 rows × 6 columns</p>\n</div>"
     },
     "execution_count": 23,
     "metadata": {},
     "output_type": "execute_result"
    }
   ],
   "source": [
    "xuweight1 = 0.2\n",
    "baweight1 = 0.2\n",
    "ticiweight1 = 0.2\n",
    "includedweight1 = 0.2\n",
    "ceWeight = 0.2\n",
    "\n",
    "ji_ce_log = ji_ce_log_normalize.copy()\n",
    "\n",
    "ji_ce_log['totalWeight'] = xuweight1*ji_ce_log['xucount'] + baweight1*ji_ce_log['bacount'] + ticiweight1*ji_ce_log['ticicount'] + includedweight1*ji_ce_log['includedcount'] + ceWeight*ji_ce_log['NumberCe']\n",
    "\n",
    "ji_ce_log"
   ]
  },
  {
   "cell_type": "code",
   "execution_count": 23,
   "id": "a2781ed9f8617fbe",
   "metadata": {
    "collapsed": false,
    "ExecuteTime": {
     "end_time": "2024-11-05T05:37:38.586492Z",
     "start_time": "2024-11-05T05:37:38.554044Z"
    }
   },
   "outputs": [],
   "source": []
  },
  {
   "cell_type": "markdown",
   "id": "d8d6fd8cce7a7594",
   "metadata": {
    "collapsed": false
   },
   "source": [
    "# 2. 作者（poet）的Importance：参与制作书的次数（包括被收录和参与编辑）、写像赞的次数、被写像赞的次数、收到唱和诗及书信的次数、被讨论的次数"
   ]
  },
  {
   "cell_type": "markdown",
   "id": "185d06ed44ff3764",
   "metadata": {
    "collapsed": false
   },
   "source": [
    "## 2.1 参与制作书的次数"
   ]
  },
  {
   "cell_type": "code",
   "execution_count": 24,
   "id": "865443e15c898031",
   "metadata": {
    "collapsed": false,
    "ExecuteTime": {
     "end_time": "2024-11-05T05:37:39.623792Z",
     "start_time": "2024-11-05T05:37:39.590030Z"
    }
   },
   "outputs": [
    {
     "data": {
      "text/plain": "        participate_count\npoetID                   \n263                    13\n308                     9\n199                     9\n167                     7\n92                      7\n...                   ...\n6353                    1\n6159                    1\n6069                    1\n8247                    1\n6079                    1\n\n[2770 rows x 1 columns]",
      "text/html": "<div>\n<style scoped>\n    .dataframe tbody tr th:only-of-type {\n        vertical-align: middle;\n    }\n\n    .dataframe tbody tr th {\n        vertical-align: top;\n    }\n\n    .dataframe thead th {\n        text-align: right;\n    }\n</style>\n<table border=\"1\" class=\"dataframe\">\n  <thead>\n    <tr style=\"text-align: right;\">\n      <th></th>\n      <th>participate_count</th>\n    </tr>\n    <tr>\n      <th>poetID</th>\n      <th></th>\n    </tr>\n  </thead>\n  <tbody>\n    <tr>\n      <th>263</th>\n      <td>13</td>\n    </tr>\n    <tr>\n      <th>308</th>\n      <td>9</td>\n    </tr>\n    <tr>\n      <th>199</th>\n      <td>9</td>\n    </tr>\n    <tr>\n      <th>167</th>\n      <td>7</td>\n    </tr>\n    <tr>\n      <th>92</th>\n      <td>7</td>\n    </tr>\n    <tr>\n      <th>...</th>\n      <td>...</td>\n    </tr>\n    <tr>\n      <th>6353</th>\n      <td>1</td>\n    </tr>\n    <tr>\n      <th>6159</th>\n      <td>1</td>\n    </tr>\n    <tr>\n      <th>6069</th>\n      <td>1</td>\n    </tr>\n    <tr>\n      <th>8247</th>\n      <td>1</td>\n    </tr>\n    <tr>\n      <th>6079</th>\n      <td>1</td>\n    </tr>\n  </tbody>\n</table>\n<p>2770 rows × 1 columns</p>\n</div>"
     },
     "execution_count": 24,
     "metadata": {},
     "output_type": "execute_result"
    }
   ],
   "source": [
    "PoetParticipateWorkSQL = '''SELECT poetID, COUNT(DISTINCT workID) AS participate_count\n",
    "    FROM workpoetlinks\n",
    "    GROUP BY poetID\n",
    "    ORDER BY participate_count DESC'''\n",
    "\n",
    "PoetParticipateWork = duckdb.query(PoetParticipateWorkSQL).df()\n",
    "PoetParticipateWork.set_index('poetID', inplace=True)\n",
    "\n",
    "PoetParticipateWork"
   ]
  },
  {
   "cell_type": "markdown",
   "id": "6f42af2d268174cf",
   "metadata": {
    "collapsed": false
   },
   "source": [
    "## 2.2 写像赞的次数"
   ]
  },
  {
   "cell_type": "code",
   "execution_count": 25,
   "id": "dd3042f389fc7d14",
   "metadata": {
    "collapsed": false,
    "ExecuteTime": {
     "end_time": "2024-11-05T05:37:43.219515Z",
     "start_time": "2024-11-05T05:37:43.186667Z"
    }
   },
   "outputs": [
    {
     "data": {
      "text/plain": "        xiangzanauthor_count\npoetID                      \n244                        1\n7006                       1\n3813                       1\n7279                       1\n6482                       1\n4424                       1\n6430                       1\n1977                       1\n6494                       1\n225                        2\n195                        2\n42                         2\n1664                       5",
      "text/html": "<div>\n<style scoped>\n    .dataframe tbody tr th:only-of-type {\n        vertical-align: middle;\n    }\n\n    .dataframe tbody tr th {\n        vertical-align: top;\n    }\n\n    .dataframe thead th {\n        text-align: right;\n    }\n</style>\n<table border=\"1\" class=\"dataframe\">\n  <thead>\n    <tr style=\"text-align: right;\">\n      <th></th>\n      <th>xiangzanauthor_count</th>\n    </tr>\n    <tr>\n      <th>poetID</th>\n      <th></th>\n    </tr>\n  </thead>\n  <tbody>\n    <tr>\n      <th>244</th>\n      <td>1</td>\n    </tr>\n    <tr>\n      <th>7006</th>\n      <td>1</td>\n    </tr>\n    <tr>\n      <th>3813</th>\n      <td>1</td>\n    </tr>\n    <tr>\n      <th>7279</th>\n      <td>1</td>\n    </tr>\n    <tr>\n      <th>6482</th>\n      <td>1</td>\n    </tr>\n    <tr>\n      <th>4424</th>\n      <td>1</td>\n    </tr>\n    <tr>\n      <th>6430</th>\n      <td>1</td>\n    </tr>\n    <tr>\n      <th>1977</th>\n      <td>1</td>\n    </tr>\n    <tr>\n      <th>6494</th>\n      <td>1</td>\n    </tr>\n    <tr>\n      <th>225</th>\n      <td>2</td>\n    </tr>\n    <tr>\n      <th>195</th>\n      <td>2</td>\n    </tr>\n    <tr>\n      <th>42</th>\n      <td>2</td>\n    </tr>\n    <tr>\n      <th>1664</th>\n      <td>5</td>\n    </tr>\n  </tbody>\n</table>\n</div>"
     },
     "execution_count": 25,
     "metadata": {},
     "output_type": "execute_result"
    }
   ],
   "source": [
    "xiangzanauthorSQL = '''\n",
    "SELECT poempoetlinks.poetID,COUNT(DISTINCT poem.poemID) AS xiangzanauthor_count\n",
    "FROM poem,poempoetlinks\n",
    "WHERE poem.GenreHZ='文﹕像贊' AND poem.poemID = poempoetlinks.poemID\n",
    "GROUP BY poempoetlinks.poetID\n",
    "ORDER BY xiangzanauthor_count\n",
    "'''\n",
    "xiangzanauthor = duckdb.query(xiangzanauthorSQL).df()\n",
    "xiangzanauthor.set_index('poetID', inplace=True)\n",
    "xiangzanauthor"
   ]
  },
  {
   "cell_type": "markdown",
   "id": "1dc88184e7a65d69",
   "metadata": {
    "collapsed": false
   },
   "source": [
    "## 2.3 被写像赞的次数"
   ]
  },
  {
   "cell_type": "code",
   "execution_count": 26,
   "id": "8e9f5a9a896ca587",
   "metadata": {
    "collapsed": false,
    "ExecuteTime": {
     "end_time": "2024-11-05T05:37:43.923030Z",
     "start_time": "2024-11-05T05:37:43.889428Z"
    }
   },
   "outputs": [
    {
     "data": {
      "text/plain": "        bexiangzansubjectCount\npoetID                        \n4939                         1\n5                            1",
      "text/html": "<div>\n<style scoped>\n    .dataframe tbody tr th:only-of-type {\n        vertical-align: middle;\n    }\n\n    .dataframe tbody tr th {\n        vertical-align: top;\n    }\n\n    .dataframe thead th {\n        text-align: right;\n    }\n</style>\n<table border=\"1\" class=\"dataframe\">\n  <thead>\n    <tr style=\"text-align: right;\">\n      <th></th>\n      <th>bexiangzansubjectCount</th>\n    </tr>\n    <tr>\n      <th>poetID</th>\n      <th></th>\n    </tr>\n  </thead>\n  <tbody>\n    <tr>\n      <th>4939</th>\n      <td>1</td>\n    </tr>\n    <tr>\n      <th>5</th>\n      <td>1</td>\n    </tr>\n  </tbody>\n</table>\n</div>"
     },
     "execution_count": 26,
     "metadata": {},
     "output_type": "execute_result"
    }
   ],
   "source": [
    "bexiangzanSQL = '''\n",
    "SELECT poetassubjectID AS poetID,COUNT(DISTINCT poemID) AS bexiangzansubjectCount\n",
    "FROM poem\n",
    "WHERE poem.GenreHZ='文﹕像贊' AND poetassubjectID !=0\n",
    "GROUP BY poetassubjectID\n",
    "'''\n",
    "bexiangzan = duckdb.query(bexiangzanSQL).df()\n",
    "bexiangzan.set_index('poetID', inplace=True)\n",
    "\n",
    "bexiangzan"
   ]
  },
  {
   "cell_type": "markdown",
   "id": "19cbb211fe0f7fb",
   "metadata": {
    "collapsed": false
   },
   "source": [
    "## 2.4 被讨论的次数"
   ]
  },
  {
   "cell_type": "code",
   "execution_count": 27,
   "id": "395f94f6e6090b60",
   "metadata": {
    "collapsed": false,
    "ExecuteTime": {
     "end_time": "2024-11-05T05:37:44.726132Z",
     "start_time": "2024-11-05T05:37:44.705869Z"
    }
   },
   "outputs": [
    {
     "data": {
      "text/plain": "        discussedCount\npoetID                \n1986                 4\n3244                 1\n1380                14\n2003                 4\n2066                 3\n...                ...\n4995                 1\n4977                 1\n5505                 1\n7943                 1\n7978                 1\n\n[4648 rows x 1 columns]",
      "text/html": "<div>\n<style scoped>\n    .dataframe tbody tr th:only-of-type {\n        vertical-align: middle;\n    }\n\n    .dataframe tbody tr th {\n        vertical-align: top;\n    }\n\n    .dataframe thead th {\n        text-align: right;\n    }\n</style>\n<table border=\"1\" class=\"dataframe\">\n  <thead>\n    <tr style=\"text-align: right;\">\n      <th></th>\n      <th>discussedCount</th>\n    </tr>\n    <tr>\n      <th>poetID</th>\n      <th></th>\n    </tr>\n  </thead>\n  <tbody>\n    <tr>\n      <th>1986</th>\n      <td>4</td>\n    </tr>\n    <tr>\n      <th>3244</th>\n      <td>1</td>\n    </tr>\n    <tr>\n      <th>1380</th>\n      <td>14</td>\n    </tr>\n    <tr>\n      <th>2003</th>\n      <td>4</td>\n    </tr>\n    <tr>\n      <th>2066</th>\n      <td>3</td>\n    </tr>\n    <tr>\n      <th>...</th>\n      <td>...</td>\n    </tr>\n    <tr>\n      <th>4995</th>\n      <td>1</td>\n    </tr>\n    <tr>\n      <th>4977</th>\n      <td>1</td>\n    </tr>\n    <tr>\n      <th>5505</th>\n      <td>1</td>\n    </tr>\n    <tr>\n      <th>7943</th>\n      <td>1</td>\n    </tr>\n    <tr>\n      <th>7978</th>\n      <td>1</td>\n    </tr>\n  </tbody>\n</table>\n<p>4648 rows × 1 columns</p>\n</div>"
     },
     "execution_count": 27,
     "metadata": {},
     "output_type": "execute_result"
    }
   ],
   "source": [
    "discussedSQL = '''\n",
    "SELECT poetassubjectID AS poetID, COUNT(DISTINCT poemID) AS discussedCount\n",
    "FROM poem\n",
    "WHERE GenreHZ!='文﹕像贊' AND poetassubjectID != 0\n",
    "GROUP BY poetassubjectID\n",
    "'''\n",
    "discussed = duckdb.query(discussedSQL).df()\n",
    "discussed.set_index('poetID', inplace=True)\n",
    "\n",
    "discussed"
   ]
  },
  {
   "cell_type": "markdown",
   "id": "c37392fe946abe36",
   "metadata": {
    "collapsed": false
   },
   "source": [
    "## 2.5 收到唱和书信的次数"
   ]
  },
  {
   "cell_type": "code",
   "execution_count": 28,
   "id": "5d0c7319e5593f6",
   "metadata": {
    "collapsed": false,
    "ExecuteTime": {
     "end_time": "2024-11-05T05:37:45.589484Z",
     "start_time": "2024-11-05T05:37:45.569962Z"
    }
   },
   "outputs": [
    {
     "data": {
      "text/plain": "        changheshiCount\npoetID                 \n1882                  1\n789                   3\n16                    4\n32                    7\n1380                 55\n...                 ...\n3934                  1\n4801                  1\n1422                  1\n7458                  1\n1347                  1\n\n[874 rows x 1 columns]",
      "text/html": "<div>\n<style scoped>\n    .dataframe tbody tr th:only-of-type {\n        vertical-align: middle;\n    }\n\n    .dataframe tbody tr th {\n        vertical-align: top;\n    }\n\n    .dataframe thead th {\n        text-align: right;\n    }\n</style>\n<table border=\"1\" class=\"dataframe\">\n  <thead>\n    <tr style=\"text-align: right;\">\n      <th></th>\n      <th>changheshiCount</th>\n    </tr>\n    <tr>\n      <th>poetID</th>\n      <th></th>\n    </tr>\n  </thead>\n  <tbody>\n    <tr>\n      <th>1882</th>\n      <td>1</td>\n    </tr>\n    <tr>\n      <th>789</th>\n      <td>3</td>\n    </tr>\n    <tr>\n      <th>16</th>\n      <td>4</td>\n    </tr>\n    <tr>\n      <th>32</th>\n      <td>7</td>\n    </tr>\n    <tr>\n      <th>1380</th>\n      <td>55</td>\n    </tr>\n    <tr>\n      <th>...</th>\n      <td>...</td>\n    </tr>\n    <tr>\n      <th>3934</th>\n      <td>1</td>\n    </tr>\n    <tr>\n      <th>4801</th>\n      <td>1</td>\n    </tr>\n    <tr>\n      <th>1422</th>\n      <td>1</td>\n    </tr>\n    <tr>\n      <th>7458</th>\n      <td>1</td>\n    </tr>\n    <tr>\n      <th>1347</th>\n      <td>1</td>\n    </tr>\n  </tbody>\n</table>\n<p>874 rows × 1 columns</p>\n</div>"
     },
     "execution_count": 28,
     "metadata": {},
     "output_type": "execute_result"
    }
   ],
   "source": [
    "changheshiSQL = '''\n",
    "SELECT changheshuxinpoetID AS poetID, COUNT(DISTINCT poemID) AS changheshiCount\n",
    "FROM poem\n",
    "WHERE changheshuxinpoetID !=0\n",
    "GROUP BY changheshuxinpoetID\n",
    "'''\n",
    "changheshi = duckdb.query(changheshiSQL).df()\n",
    "changheshi.set_index('poetID', inplace=True)\n",
    "\n",
    "changheshi"
   ]
  },
  {
   "cell_type": "markdown",
   "id": "100eec9f8dcc5b58",
   "metadata": {
    "collapsed": false
   },
   "source": [
    "## 2.6 初始数据汇总"
   ]
  },
  {
   "cell_type": "code",
   "execution_count": 29,
   "id": "4e8ab7b50ed9600b",
   "metadata": {
    "collapsed": false,
    "ExecuteTime": {
     "end_time": "2024-11-05T05:37:46.333914Z",
     "start_time": "2024-11-05T05:37:46.307558Z"
    }
   },
   "outputs": [
    {
     "data": {
      "text/plain": "        participate_count  xiangzanauthor_count  bexiangzansubjectCount  \\\npoetID                                                                    \n5                     1.0                   0.0                     1.0   \n6                     1.0                   0.0                     0.0   \n8                     1.0                   0.0                     0.0   \n11                    1.0                   0.0                     0.0   \n12                    2.0                   0.0                     0.0   \n...                   ...                   ...                     ...   \n8457                  1.0                   0.0                     0.0   \n8458                  1.0                   0.0                     0.0   \n8459                  1.0                   0.0                     0.0   \n8460                  1.0                   0.0                     0.0   \n8461                  1.0                   0.0                     0.0   \n\n        discussedCount  changheshiCount  \npoetID                                   \n5                 38.0              0.0  \n6                  0.0              0.0  \n8                  2.0              0.0  \n11                13.0              0.0  \n12                28.0              0.0  \n...                ...              ...  \n8457               0.0              0.0  \n8458               0.0              0.0  \n8459               0.0              0.0  \n8460               0.0              0.0  \n8461               0.0              0.0  \n\n[7134 rows x 5 columns]",
      "text/html": "<div>\n<style scoped>\n    .dataframe tbody tr th:only-of-type {\n        vertical-align: middle;\n    }\n\n    .dataframe tbody tr th {\n        vertical-align: top;\n    }\n\n    .dataframe thead th {\n        text-align: right;\n    }\n</style>\n<table border=\"1\" class=\"dataframe\">\n  <thead>\n    <tr style=\"text-align: right;\">\n      <th></th>\n      <th>participate_count</th>\n      <th>xiangzanauthor_count</th>\n      <th>bexiangzansubjectCount</th>\n      <th>discussedCount</th>\n      <th>changheshiCount</th>\n    </tr>\n    <tr>\n      <th>poetID</th>\n      <th></th>\n      <th></th>\n      <th></th>\n      <th></th>\n      <th></th>\n    </tr>\n  </thead>\n  <tbody>\n    <tr>\n      <th>5</th>\n      <td>1.0</td>\n      <td>0.0</td>\n      <td>1.0</td>\n      <td>38.0</td>\n      <td>0.0</td>\n    </tr>\n    <tr>\n      <th>6</th>\n      <td>1.0</td>\n      <td>0.0</td>\n      <td>0.0</td>\n      <td>0.0</td>\n      <td>0.0</td>\n    </tr>\n    <tr>\n      <th>8</th>\n      <td>1.0</td>\n      <td>0.0</td>\n      <td>0.0</td>\n      <td>2.0</td>\n      <td>0.0</td>\n    </tr>\n    <tr>\n      <th>11</th>\n      <td>1.0</td>\n      <td>0.0</td>\n      <td>0.0</td>\n      <td>13.0</td>\n      <td>0.0</td>\n    </tr>\n    <tr>\n      <th>12</th>\n      <td>2.0</td>\n      <td>0.0</td>\n      <td>0.0</td>\n      <td>28.0</td>\n      <td>0.0</td>\n    </tr>\n    <tr>\n      <th>...</th>\n      <td>...</td>\n      <td>...</td>\n      <td>...</td>\n      <td>...</td>\n      <td>...</td>\n    </tr>\n    <tr>\n      <th>8457</th>\n      <td>1.0</td>\n      <td>0.0</td>\n      <td>0.0</td>\n      <td>0.0</td>\n      <td>0.0</td>\n    </tr>\n    <tr>\n      <th>8458</th>\n      <td>1.0</td>\n      <td>0.0</td>\n      <td>0.0</td>\n      <td>0.0</td>\n      <td>0.0</td>\n    </tr>\n    <tr>\n      <th>8459</th>\n      <td>1.0</td>\n      <td>0.0</td>\n      <td>0.0</td>\n      <td>0.0</td>\n      <td>0.0</td>\n    </tr>\n    <tr>\n      <th>8460</th>\n      <td>1.0</td>\n      <td>0.0</td>\n      <td>0.0</td>\n      <td>0.0</td>\n      <td>0.0</td>\n    </tr>\n    <tr>\n      <th>8461</th>\n      <td>1.0</td>\n      <td>0.0</td>\n      <td>0.0</td>\n      <td>0.0</td>\n      <td>0.0</td>\n    </tr>\n  </tbody>\n</table>\n<p>7134 rows × 5 columns</p>\n</div>"
     },
     "execution_count": 29,
     "metadata": {},
     "output_type": "execute_result"
    }
   ],
   "source": [
    "poetRawData = reduce(lambda left, right: pd.merge(left, right, on='poetID', how='outer'), [PoetParticipateWork, xiangzanauthor, bexiangzan,discussed, changheshi]).fillna(0)\n",
    "poetRawData"
   ]
  },
  {
   "cell_type": "markdown",
   "id": "edd8ab8808705f17",
   "metadata": {
    "collapsed": false
   },
   "source": [
    "## 2.7 归一化"
   ]
  },
  {
   "cell_type": "markdown",
   "id": "b32170dbcd9f33e8",
   "metadata": {
    "collapsed": false
   },
   "source": [
    "### 2.7.1 Min-Max归一化"
   ]
  },
  {
   "cell_type": "code",
   "execution_count": 30,
   "id": "813549d79162c8d9",
   "metadata": {
    "collapsed": false,
    "ExecuteTime": {
     "end_time": "2024-11-05T05:37:47.458446Z",
     "start_time": "2024-11-05T05:37:47.442325Z"
    }
   },
   "outputs": [
    {
     "data": {
      "text/plain": "        participate_count  xiangzanauthor_count  bexiangzansubjectCount  \\\npoetID                                                                    \n5                7.692308                   0.0                   100.0   \n6                7.692308                   0.0                     0.0   \n8                7.692308                   0.0                     0.0   \n11               7.692308                   0.0                     0.0   \n12              15.384615                   0.0                     0.0   \n...                   ...                   ...                     ...   \n8457             7.692308                   0.0                     0.0   \n8458             7.692308                   0.0                     0.0   \n8459             7.692308                   0.0                     0.0   \n8460             7.692308                   0.0                     0.0   \n8461             7.692308                   0.0                     0.0   \n\n        discussedCount  changheshiCount  \npoetID                                   \n5            49.350649              0.0  \n6             0.000000              0.0  \n8             2.597403              0.0  \n11           16.883117              0.0  \n12           36.363636              0.0  \n...                ...              ...  \n8457          0.000000              0.0  \n8458          0.000000              0.0  \n8459          0.000000              0.0  \n8460          0.000000              0.0  \n8461          0.000000              0.0  \n\n[7134 rows x 5 columns]",
      "text/html": "<div>\n<style scoped>\n    .dataframe tbody tr th:only-of-type {\n        vertical-align: middle;\n    }\n\n    .dataframe tbody tr th {\n        vertical-align: top;\n    }\n\n    .dataframe thead th {\n        text-align: right;\n    }\n</style>\n<table border=\"1\" class=\"dataframe\">\n  <thead>\n    <tr style=\"text-align: right;\">\n      <th></th>\n      <th>participate_count</th>\n      <th>xiangzanauthor_count</th>\n      <th>bexiangzansubjectCount</th>\n      <th>discussedCount</th>\n      <th>changheshiCount</th>\n    </tr>\n    <tr>\n      <th>poetID</th>\n      <th></th>\n      <th></th>\n      <th></th>\n      <th></th>\n      <th></th>\n    </tr>\n  </thead>\n  <tbody>\n    <tr>\n      <th>5</th>\n      <td>7.692308</td>\n      <td>0.0</td>\n      <td>100.0</td>\n      <td>49.350649</td>\n      <td>0.0</td>\n    </tr>\n    <tr>\n      <th>6</th>\n      <td>7.692308</td>\n      <td>0.0</td>\n      <td>0.0</td>\n      <td>0.000000</td>\n      <td>0.0</td>\n    </tr>\n    <tr>\n      <th>8</th>\n      <td>7.692308</td>\n      <td>0.0</td>\n      <td>0.0</td>\n      <td>2.597403</td>\n      <td>0.0</td>\n    </tr>\n    <tr>\n      <th>11</th>\n      <td>7.692308</td>\n      <td>0.0</td>\n      <td>0.0</td>\n      <td>16.883117</td>\n      <td>0.0</td>\n    </tr>\n    <tr>\n      <th>12</th>\n      <td>15.384615</td>\n      <td>0.0</td>\n      <td>0.0</td>\n      <td>36.363636</td>\n      <td>0.0</td>\n    </tr>\n    <tr>\n      <th>...</th>\n      <td>...</td>\n      <td>...</td>\n      <td>...</td>\n      <td>...</td>\n      <td>...</td>\n    </tr>\n    <tr>\n      <th>8457</th>\n      <td>7.692308</td>\n      <td>0.0</td>\n      <td>0.0</td>\n      <td>0.000000</td>\n      <td>0.0</td>\n    </tr>\n    <tr>\n      <th>8458</th>\n      <td>7.692308</td>\n      <td>0.0</td>\n      <td>0.0</td>\n      <td>0.000000</td>\n      <td>0.0</td>\n    </tr>\n    <tr>\n      <th>8459</th>\n      <td>7.692308</td>\n      <td>0.0</td>\n      <td>0.0</td>\n      <td>0.000000</td>\n      <td>0.0</td>\n    </tr>\n    <tr>\n      <th>8460</th>\n      <td>7.692308</td>\n      <td>0.0</td>\n      <td>0.0</td>\n      <td>0.000000</td>\n      <td>0.0</td>\n    </tr>\n    <tr>\n      <th>8461</th>\n      <td>7.692308</td>\n      <td>0.0</td>\n      <td>0.0</td>\n      <td>0.000000</td>\n      <td>0.0</td>\n    </tr>\n  </tbody>\n</table>\n<p>7134 rows × 5 columns</p>\n</div>"
     },
     "execution_count": 30,
     "metadata": {},
     "output_type": "execute_result"
    }
   ],
   "source": [
    "poet_min_max_normalize = poetRawData.copy()\n",
    "for column in poet_min_max_normalize.columns:\n",
    "    if poet_min_max_normalize[column].dtype in ['float64', 'int64']:  # 检查数据类型是否为数值类型\n",
    "        poet_min_max_normalize[column] = min_max_normalize(poet_min_max_normalize[column])\n",
    "poet_min_max_normalize"
   ]
  },
  {
   "cell_type": "markdown",
   "id": "429a5887291b2569",
   "metadata": {
    "collapsed": false
   },
   "source": [
    "### 2.7.2 对数归一化"
   ]
  },
  {
   "cell_type": "code",
   "execution_count": 31,
   "id": "cbc48ad73d7b18db",
   "metadata": {
    "collapsed": false,
    "ExecuteTime": {
     "end_time": "2024-11-05T05:37:48.175516Z",
     "start_time": "2024-11-05T05:37:48.165587Z"
    }
   },
   "outputs": [
    {
     "data": {
      "text/plain": "        participate_count  xiangzanauthor_count  bexiangzansubjectCount  \\\npoetID                                                                    \n5                 0.26265                   0.0                     1.0   \n6                 0.26265                   0.0                     0.0   \n8                 0.26265                   0.0                     0.0   \n11                0.26265                   0.0                     0.0   \n12                0.41629                   0.0                     0.0   \n...                   ...                   ...                     ...   \n8457              0.26265                   0.0                     0.0   \n8458              0.26265                   0.0                     0.0   \n8459              0.26265                   0.0                     0.0   \n8460              0.26265                   0.0                     0.0   \n8461              0.26265                   0.0                     0.0   \n\n        discussedCount  changheshiCount  \npoetID                                   \n5             0.840901              0.0  \n6             0.000000              0.0  \n8             0.252166              0.0  \n11            0.605746              0.0  \n12            0.772899              0.0  \n...                ...              ...  \n8457          0.000000              0.0  \n8458          0.000000              0.0  \n8459          0.000000              0.0  \n8460          0.000000              0.0  \n8461          0.000000              0.0  \n\n[7134 rows x 5 columns]",
      "text/html": "<div>\n<style scoped>\n    .dataframe tbody tr th:only-of-type {\n        vertical-align: middle;\n    }\n\n    .dataframe tbody tr th {\n        vertical-align: top;\n    }\n\n    .dataframe thead th {\n        text-align: right;\n    }\n</style>\n<table border=\"1\" class=\"dataframe\">\n  <thead>\n    <tr style=\"text-align: right;\">\n      <th></th>\n      <th>participate_count</th>\n      <th>xiangzanauthor_count</th>\n      <th>bexiangzansubjectCount</th>\n      <th>discussedCount</th>\n      <th>changheshiCount</th>\n    </tr>\n    <tr>\n      <th>poetID</th>\n      <th></th>\n      <th></th>\n      <th></th>\n      <th></th>\n      <th></th>\n    </tr>\n  </thead>\n  <tbody>\n    <tr>\n      <th>5</th>\n      <td>0.26265</td>\n      <td>0.0</td>\n      <td>1.0</td>\n      <td>0.840901</td>\n      <td>0.0</td>\n    </tr>\n    <tr>\n      <th>6</th>\n      <td>0.26265</td>\n      <td>0.0</td>\n      <td>0.0</td>\n      <td>0.000000</td>\n      <td>0.0</td>\n    </tr>\n    <tr>\n      <th>8</th>\n      <td>0.26265</td>\n      <td>0.0</td>\n      <td>0.0</td>\n      <td>0.252166</td>\n      <td>0.0</td>\n    </tr>\n    <tr>\n      <th>11</th>\n      <td>0.26265</td>\n      <td>0.0</td>\n      <td>0.0</td>\n      <td>0.605746</td>\n      <td>0.0</td>\n    </tr>\n    <tr>\n      <th>12</th>\n      <td>0.41629</td>\n      <td>0.0</td>\n      <td>0.0</td>\n      <td>0.772899</td>\n      <td>0.0</td>\n    </tr>\n    <tr>\n      <th>...</th>\n      <td>...</td>\n      <td>...</td>\n      <td>...</td>\n      <td>...</td>\n      <td>...</td>\n    </tr>\n    <tr>\n      <th>8457</th>\n      <td>0.26265</td>\n      <td>0.0</td>\n      <td>0.0</td>\n      <td>0.000000</td>\n      <td>0.0</td>\n    </tr>\n    <tr>\n      <th>8458</th>\n      <td>0.26265</td>\n      <td>0.0</td>\n      <td>0.0</td>\n      <td>0.000000</td>\n      <td>0.0</td>\n    </tr>\n    <tr>\n      <th>8459</th>\n      <td>0.26265</td>\n      <td>0.0</td>\n      <td>0.0</td>\n      <td>0.000000</td>\n      <td>0.0</td>\n    </tr>\n    <tr>\n      <th>8460</th>\n      <td>0.26265</td>\n      <td>0.0</td>\n      <td>0.0</td>\n      <td>0.000000</td>\n      <td>0.0</td>\n    </tr>\n    <tr>\n      <th>8461</th>\n      <td>0.26265</td>\n      <td>0.0</td>\n      <td>0.0</td>\n      <td>0.000000</td>\n      <td>0.0</td>\n    </tr>\n  </tbody>\n</table>\n<p>7134 rows × 5 columns</p>\n</div>"
     },
     "execution_count": 31,
     "metadata": {},
     "output_type": "execute_result"
    }
   ],
   "source": [
    "poet_log_normalize = poetRawData.copy()\n",
    "\n",
    "for column in poet_log_normalize.columns:  \n",
    "    if poet_log_normalize[column].dtype in ['float64', 'int64']:\n",
    "        # 对数据加1以避免对0取对数的问题\n",
    "        max_val = poet_log_normalize[column].max()\n",
    "        if max_val > 0:\n",
    "            # 应用对数归一化\n",
    "            poet_log_normalize[column] = np.log(poet_log_normalize[column] + 1) / np.log(max_val + 1)\n",
    "poet_log_normalize"
   ]
  },
  {
   "cell_type": "markdown",
   "id": "35226849cd5498a7",
   "metadata": {
    "collapsed": false
   },
   "source": [
    "## 2.8 重要性计算"
   ]
  },
  {
   "cell_type": "markdown",
   "id": "bc3af5f6c723590",
   "metadata": {
    "collapsed": false
   },
   "source": [
    "### 2.8.1 权重设置\n",
    "poet4258姚倚雲 写了很多唱和诗给丈夫 poet7909范當世，导致范當世收到唱和书信的次数很高，需要降低该项权重"
   ]
  },
  {
   "cell_type": "code",
   "execution_count": 32,
   "id": "db8653a5393d809d",
   "metadata": {
    "collapsed": false,
    "ExecuteTime": {
     "end_time": "2024-11-05T05:37:49.043772Z",
     "start_time": "2024-11-05T05:37:49.032145Z"
    }
   },
   "outputs": [],
   "source": [
    "participateWeight = 0.4\n",
    "writeXZWeight = 0.3\n",
    "inXZWeight = 0.1\n",
    "bediscussedWeight = 0.2\n",
    "changheWeight = 0.1"
   ]
  },
  {
   "cell_type": "markdown",
   "id": "e27d011710d62eaa",
   "metadata": {
    "collapsed": false
   },
   "source": [
    "### 2.8.2 Min-Max归一化结果计算"
   ]
  },
  {
   "cell_type": "code",
   "execution_count": 33,
   "id": "4e586112735aa547",
   "metadata": {
    "collapsed": false,
    "ExecuteTime": {
     "end_time": "2024-11-05T05:37:49.667524Z",
     "start_time": "2024-11-05T05:37:49.647138Z"
    }
   },
   "outputs": [
    {
     "data": {
      "text/plain": "        participate_count  xiangzanauthor_count  bexiangzansubjectCount  \\\npoetID                                                                    \n5                7.692308                   0.0                   100.0   \n6                7.692308                   0.0                     0.0   \n8                7.692308                   0.0                     0.0   \n11               7.692308                   0.0                     0.0   \n12              15.384615                   0.0                     0.0   \n...                   ...                   ...                     ...   \n8457             7.692308                   0.0                     0.0   \n8458             7.692308                   0.0                     0.0   \n8459             7.692308                   0.0                     0.0   \n8460             7.692308                   0.0                     0.0   \n8461             7.692308                   0.0                     0.0   \n\n        discussedCount  changheshiCount  totalWeight  \npoetID                                                \n5            49.350649              0.0    22.947053  \n6             0.000000              0.0     3.076923  \n8             2.597403              0.0     3.596404  \n11           16.883117              0.0     6.453546  \n12           36.363636              0.0    13.426573  \n...                ...              ...          ...  \n8457          0.000000              0.0     3.076923  \n8458          0.000000              0.0     3.076923  \n8459          0.000000              0.0     3.076923  \n8460          0.000000              0.0     3.076923  \n8461          0.000000              0.0     3.076923  \n\n[7134 rows x 6 columns]",
      "text/html": "<div>\n<style scoped>\n    .dataframe tbody tr th:only-of-type {\n        vertical-align: middle;\n    }\n\n    .dataframe tbody tr th {\n        vertical-align: top;\n    }\n\n    .dataframe thead th {\n        text-align: right;\n    }\n</style>\n<table border=\"1\" class=\"dataframe\">\n  <thead>\n    <tr style=\"text-align: right;\">\n      <th></th>\n      <th>participate_count</th>\n      <th>xiangzanauthor_count</th>\n      <th>bexiangzansubjectCount</th>\n      <th>discussedCount</th>\n      <th>changheshiCount</th>\n      <th>totalWeight</th>\n    </tr>\n    <tr>\n      <th>poetID</th>\n      <th></th>\n      <th></th>\n      <th></th>\n      <th></th>\n      <th></th>\n      <th></th>\n    </tr>\n  </thead>\n  <tbody>\n    <tr>\n      <th>5</th>\n      <td>7.692308</td>\n      <td>0.0</td>\n      <td>100.0</td>\n      <td>49.350649</td>\n      <td>0.0</td>\n      <td>22.947053</td>\n    </tr>\n    <tr>\n      <th>6</th>\n      <td>7.692308</td>\n      <td>0.0</td>\n      <td>0.0</td>\n      <td>0.000000</td>\n      <td>0.0</td>\n      <td>3.076923</td>\n    </tr>\n    <tr>\n      <th>8</th>\n      <td>7.692308</td>\n      <td>0.0</td>\n      <td>0.0</td>\n      <td>2.597403</td>\n      <td>0.0</td>\n      <td>3.596404</td>\n    </tr>\n    <tr>\n      <th>11</th>\n      <td>7.692308</td>\n      <td>0.0</td>\n      <td>0.0</td>\n      <td>16.883117</td>\n      <td>0.0</td>\n      <td>6.453546</td>\n    </tr>\n    <tr>\n      <th>12</th>\n      <td>15.384615</td>\n      <td>0.0</td>\n      <td>0.0</td>\n      <td>36.363636</td>\n      <td>0.0</td>\n      <td>13.426573</td>\n    </tr>\n    <tr>\n      <th>...</th>\n      <td>...</td>\n      <td>...</td>\n      <td>...</td>\n      <td>...</td>\n      <td>...</td>\n      <td>...</td>\n    </tr>\n    <tr>\n      <th>8457</th>\n      <td>7.692308</td>\n      <td>0.0</td>\n      <td>0.0</td>\n      <td>0.000000</td>\n      <td>0.0</td>\n      <td>3.076923</td>\n    </tr>\n    <tr>\n      <th>8458</th>\n      <td>7.692308</td>\n      <td>0.0</td>\n      <td>0.0</td>\n      <td>0.000000</td>\n      <td>0.0</td>\n      <td>3.076923</td>\n    </tr>\n    <tr>\n      <th>8459</th>\n      <td>7.692308</td>\n      <td>0.0</td>\n      <td>0.0</td>\n      <td>0.000000</td>\n      <td>0.0</td>\n      <td>3.076923</td>\n    </tr>\n    <tr>\n      <th>8460</th>\n      <td>7.692308</td>\n      <td>0.0</td>\n      <td>0.0</td>\n      <td>0.000000</td>\n      <td>0.0</td>\n      <td>3.076923</td>\n    </tr>\n    <tr>\n      <th>8461</th>\n      <td>7.692308</td>\n      <td>0.0</td>\n      <td>0.0</td>\n      <td>0.000000</td>\n      <td>0.0</td>\n      <td>3.076923</td>\n    </tr>\n  </tbody>\n</table>\n<p>7134 rows × 6 columns</p>\n</div>"
     },
     "execution_count": 33,
     "metadata": {},
     "output_type": "execute_result"
    }
   ],
   "source": [
    "poet_min_max = poet_min_max_normalize.copy()\n",
    "\n",
    "poet_min_max['totalWeight'] = participateWeight*poet_min_max['participate_count'] + writeXZWeight*poet_min_max['xiangzanauthor_count']+inXZWeight*poet_min_max['bexiangzansubjectCount']+bediscussedWeight*poet_min_max['discussedCount']+changheWeight*poet_min_max['changheshiCount']\n",
    "\n",
    "poet_min_max"
   ]
  },
  {
   "cell_type": "markdown",
   "id": "cd6b1ce6c98f3e9c",
   "metadata": {
    "collapsed": false
   },
   "source": [
    "### 2.8.3 对数归一化结果计算"
   ]
  },
  {
   "cell_type": "code",
   "execution_count": 34,
   "id": "d2dabebd8ffcca0",
   "metadata": {
    "collapsed": false,
    "ExecuteTime": {
     "end_time": "2024-11-05T05:37:50.049449Z",
     "start_time": "2024-11-05T05:37:50.039579Z"
    }
   },
   "outputs": [
    {
     "data": {
      "text/plain": "        participate_count  xiangzanauthor_count  bexiangzansubjectCount  \\\npoetID                                                                    \n5                 0.26265                   0.0                     1.0   \n6                 0.26265                   0.0                     0.0   \n8                 0.26265                   0.0                     0.0   \n11                0.26265                   0.0                     0.0   \n12                0.41629                   0.0                     0.0   \n...                   ...                   ...                     ...   \n8457              0.26265                   0.0                     0.0   \n8458              0.26265                   0.0                     0.0   \n8459              0.26265                   0.0                     0.0   \n8460              0.26265                   0.0                     0.0   \n8461              0.26265                   0.0                     0.0   \n\n        discussedCount  changheshiCount  totalWeight  \npoetID                                                \n5             0.840901              0.0     0.373240  \n6             0.000000              0.0     0.105060  \n8             0.252166              0.0     0.155493  \n11            0.605746              0.0     0.226209  \n12            0.772899              0.0     0.321096  \n...                ...              ...          ...  \n8457          0.000000              0.0     0.105060  \n8458          0.000000              0.0     0.105060  \n8459          0.000000              0.0     0.105060  \n8460          0.000000              0.0     0.105060  \n8461          0.000000              0.0     0.105060  \n\n[7134 rows x 6 columns]",
      "text/html": "<div>\n<style scoped>\n    .dataframe tbody tr th:only-of-type {\n        vertical-align: middle;\n    }\n\n    .dataframe tbody tr th {\n        vertical-align: top;\n    }\n\n    .dataframe thead th {\n        text-align: right;\n    }\n</style>\n<table border=\"1\" class=\"dataframe\">\n  <thead>\n    <tr style=\"text-align: right;\">\n      <th></th>\n      <th>participate_count</th>\n      <th>xiangzanauthor_count</th>\n      <th>bexiangzansubjectCount</th>\n      <th>discussedCount</th>\n      <th>changheshiCount</th>\n      <th>totalWeight</th>\n    </tr>\n    <tr>\n      <th>poetID</th>\n      <th></th>\n      <th></th>\n      <th></th>\n      <th></th>\n      <th></th>\n      <th></th>\n    </tr>\n  </thead>\n  <tbody>\n    <tr>\n      <th>5</th>\n      <td>0.26265</td>\n      <td>0.0</td>\n      <td>1.0</td>\n      <td>0.840901</td>\n      <td>0.0</td>\n      <td>0.373240</td>\n    </tr>\n    <tr>\n      <th>6</th>\n      <td>0.26265</td>\n      <td>0.0</td>\n      <td>0.0</td>\n      <td>0.000000</td>\n      <td>0.0</td>\n      <td>0.105060</td>\n    </tr>\n    <tr>\n      <th>8</th>\n      <td>0.26265</td>\n      <td>0.0</td>\n      <td>0.0</td>\n      <td>0.252166</td>\n      <td>0.0</td>\n      <td>0.155493</td>\n    </tr>\n    <tr>\n      <th>11</th>\n      <td>0.26265</td>\n      <td>0.0</td>\n      <td>0.0</td>\n      <td>0.605746</td>\n      <td>0.0</td>\n      <td>0.226209</td>\n    </tr>\n    <tr>\n      <th>12</th>\n      <td>0.41629</td>\n      <td>0.0</td>\n      <td>0.0</td>\n      <td>0.772899</td>\n      <td>0.0</td>\n      <td>0.321096</td>\n    </tr>\n    <tr>\n      <th>...</th>\n      <td>...</td>\n      <td>...</td>\n      <td>...</td>\n      <td>...</td>\n      <td>...</td>\n      <td>...</td>\n    </tr>\n    <tr>\n      <th>8457</th>\n      <td>0.26265</td>\n      <td>0.0</td>\n      <td>0.0</td>\n      <td>0.000000</td>\n      <td>0.0</td>\n      <td>0.105060</td>\n    </tr>\n    <tr>\n      <th>8458</th>\n      <td>0.26265</td>\n      <td>0.0</td>\n      <td>0.0</td>\n      <td>0.000000</td>\n      <td>0.0</td>\n      <td>0.105060</td>\n    </tr>\n    <tr>\n      <th>8459</th>\n      <td>0.26265</td>\n      <td>0.0</td>\n      <td>0.0</td>\n      <td>0.000000</td>\n      <td>0.0</td>\n      <td>0.105060</td>\n    </tr>\n    <tr>\n      <th>8460</th>\n      <td>0.26265</td>\n      <td>0.0</td>\n      <td>0.0</td>\n      <td>0.000000</td>\n      <td>0.0</td>\n      <td>0.105060</td>\n    </tr>\n    <tr>\n      <th>8461</th>\n      <td>0.26265</td>\n      <td>0.0</td>\n      <td>0.0</td>\n      <td>0.000000</td>\n      <td>0.0</td>\n      <td>0.105060</td>\n    </tr>\n  </tbody>\n</table>\n<p>7134 rows × 6 columns</p>\n</div>"
     },
     "execution_count": 34,
     "metadata": {},
     "output_type": "execute_result"
    }
   ],
   "source": [
    "poet_log = poet_log_normalize.copy()\n",
    "\n",
    "poet_log['totalWeight'] = participateWeight*poet_log['participate_count'] + writeXZWeight*poet_log['xiangzanauthor_count']+inXZWeight*poet_log['bexiangzansubjectCount']+bediscussedWeight*poet_log['discussedCount']+changheWeight*poet_log['changheshiCount']\n",
    "\n",
    "poet_log"
   ]
  },
  {
   "cell_type": "code",
   "execution_count": 35,
   "id": "926573e3cf005748",
   "metadata": {
    "collapsed": false,
    "ExecuteTime": {
     "end_time": "2024-11-05T05:38:00.088235Z",
     "start_time": "2024-11-05T05:37:59.941508Z"
    }
   },
   "outputs": [
    {
     "data": {
      "text/plain": "<IPython.lib.display.IFrame at 0x131370e90>",
      "text/html": "\n        <iframe\n            width=\"100%\"\n            height=\"650\"\n            src=\"http://127.0.0.1:8050/\"\n            frameborder=\"0\"\n            allowfullscreen\n            \n        ></iframe>\n        "
     },
     "metadata": {},
     "output_type": "display_data"
    }
   ],
   "source": [
    "import dash\n",
    "from dash import dcc\n",
    "from dash import html\n",
    "from dash.dependencies import Input, Output\n",
    "import requests\n",
    "\n",
    "app = dash.Dash(__name__,suppress_callback_exceptions=True)\n",
    "\n",
    "app.layout = html.Div([\n",
    "    html.Div([\n",
    "        dcc.Graph(id='work-distribution-chart', style={'height': '95vh', 'width': '100vw'}),\n",
    "        html.Div(id='work-name-output')\n",
    "    ], style={'height': '100vh'}),\n",
    "    html.Div([\n",
    "        dcc.Graph(id='poet-distribution-chart', style={'height': '95vh', 'width': '100vw'}),\n",
    "        html.Div(id='poet-info-output')\n",
    "    ], style={'height': '100vh'})\n",
    "])\n",
    "\n",
    "ji_log_reset = ji_log.reset_index()\n",
    "poet_log_reset = poet_log.reset_index()\n",
    "\n",
    "jidata = ji_log['totalWeight'].value_counts(sort=True,ascending=True).reset_index().sort_values(by='totalWeight', ascending=False)\n",
    "poetdata = poet_log['totalWeight'].value_counts(sort=True,ascending=True).reset_index().sort_values(by='totalWeight', ascending=False)\n",
    "\n",
    "\n",
    "# API 调用函数\n",
    "def fetch_work_from_api(id):\n",
    "    response = requests.get(f\"http://localhost:8000/work/{id}\")\n",
    "    print(response)\n",
    "    if response.status_code == 200 and len(response.json())>0:\n",
    "        return str(response.json()[0]['workID']) + str(response.json()[0]['TitleHZ'])\n",
    "    else:\n",
    "        return f\"Work{id} not found\"\n",
    "    \n",
    "def fetch_poet_from_api(id):\n",
    "    response = requests.get(f\"http://localhost:8000/poet/{id}\")\n",
    "    print(response)\n",
    "    if response.status_code == 200 and len(response.json())>0:\n",
    "        return str(response.json()[0]['poetID']) + str(response.json()[0]['NameHZ'])\n",
    "    else:\n",
    "        return f\"Poet{id} not found\"\n",
    "\n",
    "# 更新显示的数据\n",
    "@app.callback(\n",
    "    Output('work-distribution-chart', 'figure'),\n",
    "    Output('work-name-output', 'children'),\n",
    "    Input('work-distribution-chart', 'hoverData')\n",
    ")\n",
    "def update_graph_and_display_name(hoverData):\n",
    "    # 绘制 Total 值的分布\n",
    "    fig = px.line(jidata, x='totalWeight', y='count', text='count', title=\"Distribution of work Total Values\")\n",
    "   \n",
    "    work_name = \"Hover over a bar to see the work's name.\"\n",
    "    if hoverData:\n",
    "        total_value = float(hoverData['points'][0]['x'])\n",
    "        print(total_value)\n",
    "        ids = ji_log_reset[ji_log_reset['totalWeight'] == total_value]['workID'].tolist()\n",
    "        work_names = \"｜ \".join([fetch_work_from_api(id) for id in ids])\n",
    "        \n",
    "        work_name = f\"work: {work_names}\"\n",
    "        fig.update_layout(annotations=[dict(x=total_value, y=hoverData['points'][0]['y'],\n",
    "                                                text=work_names, showarrow=True, arrowhead=1)])\n",
    "    return fig, work_name\n",
    "\n",
    "@app.callback(\n",
    "    Output('poet-distribution-chart', 'figure'),\n",
    "    Output('poet-info-output', 'children'),\n",
    "    Input('poet-distribution-chart', 'hoverData')\n",
    ")\n",
    "\n",
    "def update_poet_graph(hoverData):\n",
    "    fig = px.line(poetdata, x='totalWeight', y='count', text='count', title=\"Distribution of Poet Weights\")\n",
    "    \n",
    "    poet_name = \"Hover over a bar to see poet details.\"\n",
    "    if hoverData:\n",
    "        total_value = float(hoverData['points'][0]['x'])\n",
    "        ids = poet_log_reset[poet_log_reset['totalWeight'] == total_value]['poetID'].tolist()\n",
    "        poet_names = \"｜\".join([fetch_poet_from_api(id) for id in ids])\n",
    "        \n",
    "        poet_name = f\"Poet: {poet_names}\"\n",
    "        fig.update_layout(annotations=[dict(x=total_value, y=hoverData['points'][0]['y'],\n",
    "                                                text=poet_names, showarrow=True, arrowhead=1)])\n",
    "    return fig, poet_name\n",
    "\n",
    "# 运行应用\n",
    "if __name__ == '__main__':\n",
    "    app.run_server(debug=True)"
   ]
  },
  {
   "cell_type": "code",
   "execution_count": 36,
   "id": "b27d5d1958a490c8",
   "metadata": {
    "collapsed": false,
    "ExecuteTime": {
     "end_time": "2024-11-05T05:38:03.991981Z",
     "start_time": "2024-11-05T05:38:03.950582Z"
    }
   },
   "outputs": [
    {
     "data": {
      "text/plain": "      poetID NameHZ        NamePY HaoHZ         HaoPY  ZiHZ       ZiPY  \\\n0          5    甘立媃     Gan Lirou  None          None    如玉       Ruyu   \n1          6    劉慧娟   Liu Huijuan  幻花女史  Huanhuanüshi    湘舲  Xiangling   \n2          8    馮思慧    Feng Sihui  None          None    睿之     Ruizhi   \n3         11    屠鏡心    Tu Jingxin  掃花主人  Saohuazhuren  None       None   \n4         12    鄭蘭孫  Zheng Lansun    蘅洲      Hengzhou    娛清     Yuqing   \n...      ...    ...           ...   ...           ...   ...        ...   \n7746    8419    陳希文    Chen Xiwen  None          None  None       None   \n7747    8424    潘宗秇    Pan Zongyi  None          None    小江  Xiaojiang   \n7748    8425    陳邦泰  Chen Bangtai  None          None  None       None   \n7749    8430     程雲     Cheng Yun  None          None    頑石     Wanshi   \n7750    8442    李稷勳      Li Jixun  None          None    姚琴     Yaoqin   \n\n     OtherZiHaoHZ OtherZiHaoPY MaritalStatus  ... StartYear EndYear  \\\n0            None         None         正室﹐寡婦  ...      1743    1819   \n1            None         None         正室﹐寡婦  ...      1830    1880   \n2             駱思慧    Luo Sihui            正室  ...      1748    1774   \n3            None         None            正室  ...      1796    1860   \n4            None         None            正室  ...      1814    1861   \n...           ...          ...           ...  ...       ...     ...   \n7746         None         None            正室  ...      1769    1848   \n7747         None         None          None  ...      1736    1850   \n7748         None         None          None  ...      1736    1850   \n7749         None         None          None  ...      1796    1861   \n7750         None         None          None  ...      1857    1918   \n\n     EthnicGroup                MainWorks  ispoet HuWenKai  \\\n0              漢   《咏雪樓稿 : 5卷, 卷首1卷, 附1卷》       1      267   \n1              漢                《曇花閣詩鈔四卷》       1      719   \n2              漢              《繡餘吟六卷附錄一卷》       1      654   \n3              漢           《玩月軒詩草》《爨餘吟二卷》       1      627   \n4              漢  《蓮因室詩集二卷詞集一卷》﹐《都梁香閣詩詞集》       1      744   \n...          ...                      ...     ...      ...   \n7746           漢                     None       1     None   \n7747           漢                     None       1     None   \n7748           漢                     None       1     None   \n7749           漢                     None       0     None   \n7750           漢                     None       1     None   \n\n                             zhuLu  \\\n0                             江西通志   \n1                          廣東女子藝文考   \n2               山西通志﹐正始續集﹐明媛詩話﹐擷芳集   \n3                清代閨閣詩人徵略﹐吳氏小殘卷齋數目   \n4     杭州府志﹐小檀欒室彙刻百家閨秀詞﹐小黛軒論詩詩﹐閨秀詞話   \n...                            ...   \n7746                          None   \n7747                          None   \n7748                          None   \n7749                          None   \n7750                          None   \n\n                                               xuZuoZhe           baZuoZhe  \\\n0                        宋鎔﹐王若閎序﹐甘立媃自序﹐劉彬士﹑顧皋作墓志詺﹐茹棻作像贊               徐心田跋   \n1                                        戴鴻慈﹐梁煦南序﹐劉慧娟自序               None   \n2                                                  劉秉恬序               None   \n3                                            張之縉﹐文廉﹐耀曾序  任珮瑛,萬秉,任凱,任治,任謙吉跋   \n4     徐鴻謨﹐錢士杓序﹐鄭蘭孫自序﹐俞繡孫﹐孫因培﹐張煒﹐顧琇瑩﹐鍾維則﹐秦緗業﹐楊昌濬﹐孫念培﹐...          許樾身跋﹐徐琪附記   \n...                                                 ...                ...   \n7746                                               None               None   \n7747                                               None               None   \n7748                                               None               None   \n7749                                               None               None   \n7750                                               None               None   \n\n     regionID  \n0        31.0  \n1       189.0  \n2        50.0  \n3       140.0  \n4        10.0  \n...       ...  \n7746      NaN  \n7747      NaN  \n7748      NaN  \n7749      NaN  \n7750      NaN  \n\n[7751 rows x 23 columns]",
      "text/html": "<div>\n<style scoped>\n    .dataframe tbody tr th:only-of-type {\n        vertical-align: middle;\n    }\n\n    .dataframe tbody tr th {\n        vertical-align: top;\n    }\n\n    .dataframe thead th {\n        text-align: right;\n    }\n</style>\n<table border=\"1\" class=\"dataframe\">\n  <thead>\n    <tr style=\"text-align: right;\">\n      <th></th>\n      <th>poetID</th>\n      <th>NameHZ</th>\n      <th>NamePY</th>\n      <th>HaoHZ</th>\n      <th>HaoPY</th>\n      <th>ZiHZ</th>\n      <th>ZiPY</th>\n      <th>OtherZiHaoHZ</th>\n      <th>OtherZiHaoPY</th>\n      <th>MaritalStatus</th>\n      <th>...</th>\n      <th>StartYear</th>\n      <th>EndYear</th>\n      <th>EthnicGroup</th>\n      <th>MainWorks</th>\n      <th>ispoet</th>\n      <th>HuWenKai</th>\n      <th>zhuLu</th>\n      <th>xuZuoZhe</th>\n      <th>baZuoZhe</th>\n      <th>regionID</th>\n    </tr>\n  </thead>\n  <tbody>\n    <tr>\n      <th>0</th>\n      <td>5</td>\n      <td>甘立媃</td>\n      <td>Gan Lirou</td>\n      <td>None</td>\n      <td>None</td>\n      <td>如玉</td>\n      <td>Ruyu</td>\n      <td>None</td>\n      <td>None</td>\n      <td>正室﹐寡婦</td>\n      <td>...</td>\n      <td>1743</td>\n      <td>1819</td>\n      <td>漢</td>\n      <td>《咏雪樓稿 : 5卷, 卷首1卷, 附1卷》</td>\n      <td>1</td>\n      <td>267</td>\n      <td>江西通志</td>\n      <td>宋鎔﹐王若閎序﹐甘立媃自序﹐劉彬士﹑顧皋作墓志詺﹐茹棻作像贊</td>\n      <td>徐心田跋</td>\n      <td>31.0</td>\n    </tr>\n    <tr>\n      <th>1</th>\n      <td>6</td>\n      <td>劉慧娟</td>\n      <td>Liu Huijuan</td>\n      <td>幻花女史</td>\n      <td>Huanhuanüshi</td>\n      <td>湘舲</td>\n      <td>Xiangling</td>\n      <td>None</td>\n      <td>None</td>\n      <td>正室﹐寡婦</td>\n      <td>...</td>\n      <td>1830</td>\n      <td>1880</td>\n      <td>漢</td>\n      <td>《曇花閣詩鈔四卷》</td>\n      <td>1</td>\n      <td>719</td>\n      <td>廣東女子藝文考</td>\n      <td>戴鴻慈﹐梁煦南序﹐劉慧娟自序</td>\n      <td>None</td>\n      <td>189.0</td>\n    </tr>\n    <tr>\n      <th>2</th>\n      <td>8</td>\n      <td>馮思慧</td>\n      <td>Feng Sihui</td>\n      <td>None</td>\n      <td>None</td>\n      <td>睿之</td>\n      <td>Ruizhi</td>\n      <td>駱思慧</td>\n      <td>Luo Sihui</td>\n      <td>正室</td>\n      <td>...</td>\n      <td>1748</td>\n      <td>1774</td>\n      <td>漢</td>\n      <td>《繡餘吟六卷附錄一卷》</td>\n      <td>1</td>\n      <td>654</td>\n      <td>山西通志﹐正始續集﹐明媛詩話﹐擷芳集</td>\n      <td>劉秉恬序</td>\n      <td>None</td>\n      <td>50.0</td>\n    </tr>\n    <tr>\n      <th>3</th>\n      <td>11</td>\n      <td>屠鏡心</td>\n      <td>Tu Jingxin</td>\n      <td>掃花主人</td>\n      <td>Saohuazhuren</td>\n      <td>None</td>\n      <td>None</td>\n      <td>None</td>\n      <td>None</td>\n      <td>正室</td>\n      <td>...</td>\n      <td>1796</td>\n      <td>1860</td>\n      <td>漢</td>\n      <td>《玩月軒詩草》《爨餘吟二卷》</td>\n      <td>1</td>\n      <td>627</td>\n      <td>清代閨閣詩人徵略﹐吳氏小殘卷齋數目</td>\n      <td>張之縉﹐文廉﹐耀曾序</td>\n      <td>任珮瑛,萬秉,任凱,任治,任謙吉跋</td>\n      <td>140.0</td>\n    </tr>\n    <tr>\n      <th>4</th>\n      <td>12</td>\n      <td>鄭蘭孫</td>\n      <td>Zheng Lansun</td>\n      <td>蘅洲</td>\n      <td>Hengzhou</td>\n      <td>娛清</td>\n      <td>Yuqing</td>\n      <td>None</td>\n      <td>None</td>\n      <td>正室</td>\n      <td>...</td>\n      <td>1814</td>\n      <td>1861</td>\n      <td>漢</td>\n      <td>《蓮因室詩集二卷詞集一卷》﹐《都梁香閣詩詞集》</td>\n      <td>1</td>\n      <td>744</td>\n      <td>杭州府志﹐小檀欒室彙刻百家閨秀詞﹐小黛軒論詩詩﹐閨秀詞話</td>\n      <td>徐鴻謨﹐錢士杓序﹐鄭蘭孫自序﹐俞繡孫﹐孫因培﹐張煒﹐顧琇瑩﹐鍾維則﹐秦緗業﹐楊昌濬﹐孫念培﹐...</td>\n      <td>許樾身跋﹐徐琪附記</td>\n      <td>10.0</td>\n    </tr>\n    <tr>\n      <th>...</th>\n      <td>...</td>\n      <td>...</td>\n      <td>...</td>\n      <td>...</td>\n      <td>...</td>\n      <td>...</td>\n      <td>...</td>\n      <td>...</td>\n      <td>...</td>\n      <td>...</td>\n      <td>...</td>\n      <td>...</td>\n      <td>...</td>\n      <td>...</td>\n      <td>...</td>\n      <td>...</td>\n      <td>...</td>\n      <td>...</td>\n      <td>...</td>\n      <td>...</td>\n      <td>...</td>\n    </tr>\n    <tr>\n      <th>7746</th>\n      <td>8419</td>\n      <td>陳希文</td>\n      <td>Chen Xiwen</td>\n      <td>None</td>\n      <td>None</td>\n      <td>None</td>\n      <td>None</td>\n      <td>None</td>\n      <td>None</td>\n      <td>正室</td>\n      <td>...</td>\n      <td>1769</td>\n      <td>1848</td>\n      <td>漢</td>\n      <td>None</td>\n      <td>1</td>\n      <td>None</td>\n      <td>None</td>\n      <td>None</td>\n      <td>None</td>\n      <td>NaN</td>\n    </tr>\n    <tr>\n      <th>7747</th>\n      <td>8424</td>\n      <td>潘宗秇</td>\n      <td>Pan Zongyi</td>\n      <td>None</td>\n      <td>None</td>\n      <td>小江</td>\n      <td>Xiaojiang</td>\n      <td>None</td>\n      <td>None</td>\n      <td>None</td>\n      <td>...</td>\n      <td>1736</td>\n      <td>1850</td>\n      <td>漢</td>\n      <td>None</td>\n      <td>1</td>\n      <td>None</td>\n      <td>None</td>\n      <td>None</td>\n      <td>None</td>\n      <td>NaN</td>\n    </tr>\n    <tr>\n      <th>7748</th>\n      <td>8425</td>\n      <td>陳邦泰</td>\n      <td>Chen Bangtai</td>\n      <td>None</td>\n      <td>None</td>\n      <td>None</td>\n      <td>None</td>\n      <td>None</td>\n      <td>None</td>\n      <td>None</td>\n      <td>...</td>\n      <td>1736</td>\n      <td>1850</td>\n      <td>漢</td>\n      <td>None</td>\n      <td>1</td>\n      <td>None</td>\n      <td>None</td>\n      <td>None</td>\n      <td>None</td>\n      <td>NaN</td>\n    </tr>\n    <tr>\n      <th>7749</th>\n      <td>8430</td>\n      <td>程雲</td>\n      <td>Cheng Yun</td>\n      <td>None</td>\n      <td>None</td>\n      <td>頑石</td>\n      <td>Wanshi</td>\n      <td>None</td>\n      <td>None</td>\n      <td>None</td>\n      <td>...</td>\n      <td>1796</td>\n      <td>1861</td>\n      <td>漢</td>\n      <td>None</td>\n      <td>0</td>\n      <td>None</td>\n      <td>None</td>\n      <td>None</td>\n      <td>None</td>\n      <td>NaN</td>\n    </tr>\n    <tr>\n      <th>7750</th>\n      <td>8442</td>\n      <td>李稷勳</td>\n      <td>Li Jixun</td>\n      <td>None</td>\n      <td>None</td>\n      <td>姚琴</td>\n      <td>Yaoqin</td>\n      <td>None</td>\n      <td>None</td>\n      <td>None</td>\n      <td>...</td>\n      <td>1857</td>\n      <td>1918</td>\n      <td>漢</td>\n      <td>None</td>\n      <td>1</td>\n      <td>None</td>\n      <td>None</td>\n      <td>None</td>\n      <td>None</td>\n      <td>NaN</td>\n    </tr>\n  </tbody>\n</table>\n<p>7751 rows × 23 columns</p>\n</div>"
     },
     "execution_count": 36,
     "metadata": {},
     "output_type": "execute_result"
    }
   ],
   "source": [
    "poetregionSQL = '''\n",
    "SELECT poet.*, poetregionlinks.regionID\n",
    "FROM poet\n",
    "LEFT JOIN poetregionlinks ON poet.poetID = poetregionlinks.poetID\n",
    "'''\n",
    "poetregion = duckdb.query(poetregionSQL).df()\n",
    "poetregion"
   ]
  },
  {
   "cell_type": "code",
   "execution_count": 37,
   "id": "917aeb2414179f43",
   "metadata": {
    "collapsed": false,
    "ExecuteTime": {
     "end_time": "2024-11-05T05:38:04.670308Z",
     "start_time": "2024-11-05T05:38:04.205833Z"
    }
   },
   "outputs": [],
   "source": [
    "columns_to_display = [col for col in poetregion.columns if 'PY' not in col]\n",
    "\n",
    "alt.renderers.enable('default')\n",
    "alt.data_transformers.disable_max_rows()\n",
    "\n",
    "poet_long = poetregion.reset_index().melt(id_vars='poetID', value_vars=columns_to_display)\n",
    "poet_long['non_null'] = poet_long['value'].notna()\n",
    "poet_long['value_or_null'] = poet_long['value'].fillna('Empty') \n",
    "\n",
    "chart = alt.Chart(poet_long).mark_rect().encode(\n",
    "    x=alt.X('variable:N', title='Column'),\n",
    "    y=alt.Y('poetID:O', title='PoetID'),\n",
    "    color=alt.Color('non_null:N', legend=None, scale=alt.Scale(domain=[True, False], range=['green', 'red'])),\n",
    "    tooltip=[alt.Tooltip('poetID:N', title='Poet ID'), alt.Tooltip('variable:N', title='Column'), alt.Tooltip('value_or_null:N', title='Value')]\n",
    ").properties(\n",
    "    width=2000,\n",
    "    height=30000\n",
    ").configure_axis(\n",
    "    grid=False\n",
    ")\n",
    "\n",
    "# 显示图表\n",
    "chart.save('poetwithregion.html')"
   ]
  },
  {
   "cell_type": "code",
   "execution_count": 38,
   "id": "58f6109c2c5a7e4f",
   "metadata": {
    "collapsed": false,
    "ExecuteTime": {
     "end_time": "2024-11-05T05:38:04.721229Z",
     "start_time": "2024-11-05T05:38:04.672865Z"
    }
   },
   "outputs": [],
   "source": [
    "columns_to_display = [col for col in work.columns if 'PY' not in col]\n",
    "\n",
    "alt.renderers.enable('default')\n",
    "alt.data_transformers.disable_max_rows()\n",
    "\n",
    "work_long = work.reset_index().melt(id_vars='workID', value_vars=columns_to_display)\n",
    "work_long['non_null'] = work_long['value'].notna()\n",
    "work_long['value_or_null'] = work_long['value'].fillna('Empty') \n",
    "\n",
    "chart = alt.Chart(work_long).mark_rect().encode(\n",
    "    x=alt.X('variable:N', title='Column'),\n",
    "    y=alt.Y('workID:O', title='WorkID'),\n",
    "    color=alt.Color('non_null:N', legend=None, scale=alt.Scale(domain=[True, False], range=['green', 'red'])),\n",
    "    tooltip=[alt.Tooltip('workID:N', title='WorkID'), alt.Tooltip('variable:N', title='Column'), alt.Tooltip('value_or_null:N', title='Value')]\n",
    ").properties(\n",
    "    width=2000,\n",
    "    height=5000\n",
    ").configure_axis(\n",
    "    grid=False\n",
    ")\n",
    "\n",
    "# 显示图表\n",
    "chart.save('work.html')"
   ]
  },
  {
   "cell_type": "code",
   "execution_count": 39,
   "id": "1c615b1a9ae32b39",
   "metadata": {
    "collapsed": false,
    "ExecuteTime": {
     "end_time": "2024-11-05T05:38:07.589347Z",
     "start_time": "2024-11-05T05:38:04.718908Z"
    }
   },
   "outputs": [],
   "source": [
    "columns_to_display = [col for col in poem.columns if 'PY' not in col]\n",
    "\n",
    "alt.renderers.enable('default')\n",
    "alt.data_transformers.disable_max_rows()\n",
    "\n",
    "poem_long = poem.reset_index().melt(id_vars='poemID',value_vars=columns_to_display)\n",
    "poem_long['non_null'] = poem_long['value'].notna()\n",
    "poem_long['value_or_null'] = poem_long['value'].fillna('Empty') \n",
    "\n",
    "chart = alt.Chart(poem_long).mark_rect().encode(\n",
    "    x=alt.X('variable:N', title='Column'),\n",
    "    y=alt.Y('poemID:O', title='PoemID'),\n",
    "    color=alt.Color('non_null:N', legend=None, scale=alt.Scale(domain=[True, False], range=['green', 'red'])),\n",
    "    tooltip=[alt.Tooltip('poemID:N', title='PoemID'), alt.Tooltip('variable:N', title='Column'), alt.Tooltip('value_or_null:N', title='Value')]\n",
    ").properties(\n",
    "    width=2000,\n",
    "    height=30000\n",
    ").configure_axis(\n",
    "    grid=False\n",
    ")\n",
    "\n",
    "# 显示图表\n",
    "chart.save('poem.html')"
   ]
  },
  {
   "cell_type": "markdown",
   "id": "90530bd5a6f69f65",
   "metadata": {
    "collapsed": false
   },
   "source": [
    "# 品（poem）重要性：所在集（work）的重要性、作者（poet）的重要性"
   ]
  },
  {
   "cell_type": "code",
   "execution_count": 40,
   "id": "ed726a8673918e7a",
   "metadata": {
    "collapsed": false,
    "ExecuteTime": {
     "end_time": "2024-11-05T05:38:07.606990Z",
     "start_time": "2024-11-05T05:38:07.590554Z"
    }
   },
   "outputs": [
    {
     "data": {
      "text/plain": "       poemID  workID  poetID\n0        1176    38.0   213.0\n1         778    38.0   922.0\n2        1175    38.0   213.0\n3           6    38.0   494.0\n4           7    38.0   495.0\n...       ...     ...     ...\n92602    3314     NaN     5.0\n92603   44503     NaN  5583.0\n92604   52397     NaN  6038.0\n92605   52407     NaN  6038.0\n92606   48171     NaN     NaN\n\n[92607 rows x 3 columns]",
      "text/html": "<div>\n<style scoped>\n    .dataframe tbody tr th:only-of-type {\n        vertical-align: middle;\n    }\n\n    .dataframe tbody tr th {\n        vertical-align: top;\n    }\n\n    .dataframe thead th {\n        text-align: right;\n    }\n</style>\n<table border=\"1\" class=\"dataframe\">\n  <thead>\n    <tr style=\"text-align: right;\">\n      <th></th>\n      <th>poemID</th>\n      <th>workID</th>\n      <th>poetID</th>\n    </tr>\n  </thead>\n  <tbody>\n    <tr>\n      <th>0</th>\n      <td>1176</td>\n      <td>38.0</td>\n      <td>213.0</td>\n    </tr>\n    <tr>\n      <th>1</th>\n      <td>778</td>\n      <td>38.0</td>\n      <td>922.0</td>\n    </tr>\n    <tr>\n      <th>2</th>\n      <td>1175</td>\n      <td>38.0</td>\n      <td>213.0</td>\n    </tr>\n    <tr>\n      <th>3</th>\n      <td>6</td>\n      <td>38.0</td>\n      <td>494.0</td>\n    </tr>\n    <tr>\n      <th>4</th>\n      <td>7</td>\n      <td>38.0</td>\n      <td>495.0</td>\n    </tr>\n    <tr>\n      <th>...</th>\n      <td>...</td>\n      <td>...</td>\n      <td>...</td>\n    </tr>\n    <tr>\n      <th>92602</th>\n      <td>3314</td>\n      <td>NaN</td>\n      <td>5.0</td>\n    </tr>\n    <tr>\n      <th>92603</th>\n      <td>44503</td>\n      <td>NaN</td>\n      <td>5583.0</td>\n    </tr>\n    <tr>\n      <th>92604</th>\n      <td>52397</td>\n      <td>NaN</td>\n      <td>6038.0</td>\n    </tr>\n    <tr>\n      <th>92605</th>\n      <td>52407</td>\n      <td>NaN</td>\n      <td>6038.0</td>\n    </tr>\n    <tr>\n      <th>92606</th>\n      <td>48171</td>\n      <td>NaN</td>\n      <td>NaN</td>\n    </tr>\n  </tbody>\n</table>\n<p>92607 rows × 3 columns</p>\n</div>"
     },
     "execution_count": 40,
     "metadata": {},
     "output_type": "execute_result"
    }
   ],
   "source": [
    "workWeight = 0.5\n",
    "poetWeight = 0.5\n",
    "\n",
    "poemWorkPoetSQL = '''\n",
    "SELECT poem.poemID, workpoemlinks.workID,poempoetlinks.poetID\n",
    "FROM poem\n",
    "LEFT JOIN workpoemlinks ON poem.poemID = workpoemlinks.poemID\n",
    "LEFT JOIN poempoetlinks ON poem.poemID = poempoetlinks.poemID\n",
    "'''\n",
    "\n",
    "poemWorkPoet = duckdb.query(poemWorkPoetSQL).df()\n",
    "# poemWorkPoet.set_index('poemID', inplace=True)\n",
    "poemWorkPoet"
   ]
  },
  {
   "cell_type": "code",
   "execution_count": 41,
   "id": "b8461935d10f9f0d",
   "metadata": {
    "collapsed": false,
    "ExecuteTime": {
     "end_time": "2024-11-05T05:38:07.639117Z",
     "start_time": "2024-11-05T05:38:07.606607Z"
    }
   },
   "outputs": [
    {
     "data": {
      "text/plain": "       poemID workID  poetID  workImportance\n0        1176     38   213.0             NaN\n1         778     38   922.0             NaN\n2        1175     38   213.0             NaN\n3           6     38   494.0             NaN\n4           7     38   495.0             NaN\n...       ...    ...     ...             ...\n92602    3314      0     5.0             NaN\n92603   44503      0  5583.0             NaN\n92604   52397      0  6038.0             NaN\n92605   52407      0  6038.0             NaN\n92606   48171      0     NaN             NaN\n\n[92607 rows x 4 columns]",
      "text/html": "<div>\n<style scoped>\n    .dataframe tbody tr th:only-of-type {\n        vertical-align: middle;\n    }\n\n    .dataframe tbody tr th {\n        vertical-align: top;\n    }\n\n    .dataframe thead th {\n        text-align: right;\n    }\n</style>\n<table border=\"1\" class=\"dataframe\">\n  <thead>\n    <tr style=\"text-align: right;\">\n      <th></th>\n      <th>poemID</th>\n      <th>workID</th>\n      <th>poetID</th>\n      <th>workImportance</th>\n    </tr>\n  </thead>\n  <tbody>\n    <tr>\n      <th>0</th>\n      <td>1176</td>\n      <td>38</td>\n      <td>213.0</td>\n      <td>NaN</td>\n    </tr>\n    <tr>\n      <th>1</th>\n      <td>778</td>\n      <td>38</td>\n      <td>922.0</td>\n      <td>NaN</td>\n    </tr>\n    <tr>\n      <th>2</th>\n      <td>1175</td>\n      <td>38</td>\n      <td>213.0</td>\n      <td>NaN</td>\n    </tr>\n    <tr>\n      <th>3</th>\n      <td>6</td>\n      <td>38</td>\n      <td>494.0</td>\n      <td>NaN</td>\n    </tr>\n    <tr>\n      <th>4</th>\n      <td>7</td>\n      <td>38</td>\n      <td>495.0</td>\n      <td>NaN</td>\n    </tr>\n    <tr>\n      <th>...</th>\n      <td>...</td>\n      <td>...</td>\n      <td>...</td>\n      <td>...</td>\n    </tr>\n    <tr>\n      <th>92602</th>\n      <td>3314</td>\n      <td>0</td>\n      <td>5.0</td>\n      <td>NaN</td>\n    </tr>\n    <tr>\n      <th>92603</th>\n      <td>44503</td>\n      <td>0</td>\n      <td>5583.0</td>\n      <td>NaN</td>\n    </tr>\n    <tr>\n      <th>92604</th>\n      <td>52397</td>\n      <td>0</td>\n      <td>6038.0</td>\n      <td>NaN</td>\n    </tr>\n    <tr>\n      <th>92605</th>\n      <td>52407</td>\n      <td>0</td>\n      <td>6038.0</td>\n      <td>NaN</td>\n    </tr>\n    <tr>\n      <th>92606</th>\n      <td>48171</td>\n      <td>0</td>\n      <td>NaN</td>\n      <td>NaN</td>\n    </tr>\n  </tbody>\n</table>\n<p>92607 rows × 4 columns</p>\n</div>"
     },
     "execution_count": 41,
     "metadata": {},
     "output_type": "execute_result"
    }
   ],
   "source": [
    "poemWorkPoet['workID'] = poemWorkPoet['workID'].fillna(0).astype(int).astype(str)\n",
    "# poemWorkPoet['workID'] = poemWorkPoet['workID'].astype(str)\n",
    "# ji_combine.index = ji_combine.index.astype(str)\n",
    "weight_mapping = ji_combine['totalWeight'].reindex(poemWorkPoet['workID']).reset_index(drop=True)\n",
    "\n",
    "poemWorkPoet = pd.concat([poemWorkPoet.reset_index(drop=True), weight_mapping.rename('workImportance')], axis=1)\n",
    "\n",
    "\n",
    "poemWorkPoet"
   ]
  },
  {
   "cell_type": "code",
   "execution_count": 42,
   "id": "1a778ab82b6270ac",
   "metadata": {
    "collapsed": false,
    "ExecuteTime": {
     "end_time": "2024-11-05T05:38:07.640845Z",
     "start_time": "2024-11-05T05:38:07.622863Z"
    }
   },
   "outputs": [
    {
     "data": {
      "text/plain": "       poemID workID  poetID  workImportance  poetImportance\n0        1176     38     213             NaN        0.350102\n1         778     38     922             NaN        0.198336\n2        1175     38     213             NaN        0.350102\n3           6     38     494             NaN        0.031820\n4           7     38     495             NaN        0.031820\n...       ...    ...     ...             ...             ...\n92602    3314      0       5             NaN        0.373240\n92603   44503      0    5583             NaN        0.105060\n92604   52397      0    6038             NaN        0.120144\n92605   52407      0    6038             NaN        0.120144\n92606   48171      0       0             NaN             NaN\n\n[92607 rows x 5 columns]",
      "text/html": "<div>\n<style scoped>\n    .dataframe tbody tr th:only-of-type {\n        vertical-align: middle;\n    }\n\n    .dataframe tbody tr th {\n        vertical-align: top;\n    }\n\n    .dataframe thead th {\n        text-align: right;\n    }\n</style>\n<table border=\"1\" class=\"dataframe\">\n  <thead>\n    <tr style=\"text-align: right;\">\n      <th></th>\n      <th>poemID</th>\n      <th>workID</th>\n      <th>poetID</th>\n      <th>workImportance</th>\n      <th>poetImportance</th>\n    </tr>\n  </thead>\n  <tbody>\n    <tr>\n      <th>0</th>\n      <td>1176</td>\n      <td>38</td>\n      <td>213</td>\n      <td>NaN</td>\n      <td>0.350102</td>\n    </tr>\n    <tr>\n      <th>1</th>\n      <td>778</td>\n      <td>38</td>\n      <td>922</td>\n      <td>NaN</td>\n      <td>0.198336</td>\n    </tr>\n    <tr>\n      <th>2</th>\n      <td>1175</td>\n      <td>38</td>\n      <td>213</td>\n      <td>NaN</td>\n      <td>0.350102</td>\n    </tr>\n    <tr>\n      <th>3</th>\n      <td>6</td>\n      <td>38</td>\n      <td>494</td>\n      <td>NaN</td>\n      <td>0.031820</td>\n    </tr>\n    <tr>\n      <th>4</th>\n      <td>7</td>\n      <td>38</td>\n      <td>495</td>\n      <td>NaN</td>\n      <td>0.031820</td>\n    </tr>\n    <tr>\n      <th>...</th>\n      <td>...</td>\n      <td>...</td>\n      <td>...</td>\n      <td>...</td>\n      <td>...</td>\n    </tr>\n    <tr>\n      <th>92602</th>\n      <td>3314</td>\n      <td>0</td>\n      <td>5</td>\n      <td>NaN</td>\n      <td>0.373240</td>\n    </tr>\n    <tr>\n      <th>92603</th>\n      <td>44503</td>\n      <td>0</td>\n      <td>5583</td>\n      <td>NaN</td>\n      <td>0.105060</td>\n    </tr>\n    <tr>\n      <th>92604</th>\n      <td>52397</td>\n      <td>0</td>\n      <td>6038</td>\n      <td>NaN</td>\n      <td>0.120144</td>\n    </tr>\n    <tr>\n      <th>92605</th>\n      <td>52407</td>\n      <td>0</td>\n      <td>6038</td>\n      <td>NaN</td>\n      <td>0.120144</td>\n    </tr>\n    <tr>\n      <th>92606</th>\n      <td>48171</td>\n      <td>0</td>\n      <td>0</td>\n      <td>NaN</td>\n      <td>NaN</td>\n    </tr>\n  </tbody>\n</table>\n<p>92607 rows × 5 columns</p>\n</div>"
     },
     "execution_count": 42,
     "metadata": {},
     "output_type": "execute_result"
    }
   ],
   "source": [
    "poemWorkPoet['poetID'] = poemWorkPoet['poetID'].fillna(0).astype(int)\n",
    "# poemWorkPoet['workID'] = poemWorkPoet['workID'].astype(str)\n",
    "# ji_combine.index = ji_combine.index.astype(str)\n",
    "weight_mapping = poet_log['totalWeight'].reindex(poemWorkPoet['poetID']).reset_index(drop=True)\n",
    "\n",
    "poemWorkPoet = pd.concat([poemWorkPoet.reset_index(drop=True), weight_mapping.rename('poetImportance')], axis=1)\n",
    "\n",
    "\n",
    "poemWorkPoet"
   ]
  },
  {
   "cell_type": "code",
   "execution_count": 43,
   "id": "b6aeda9f36f51631",
   "metadata": {
    "collapsed": false,
    "ExecuteTime": {
     "end_time": "2024-11-05T05:38:07.641804Z",
     "start_time": "2024-11-05T05:38:07.629354Z"
    }
   },
   "outputs": [],
   "source": [
    "workWeight = 0.5\n",
    "poetWeight = 0.5"
   ]
  },
  {
   "cell_type": "code",
   "execution_count": 44,
   "id": "e6fa93d151c5847c",
   "metadata": {
    "collapsed": false,
    "ExecuteTime": {
     "end_time": "2024-11-05T05:38:10.210857Z",
     "start_time": "2024-11-05T05:38:10.201730Z"
    }
   },
   "outputs": [
    {
     "data": {
      "text/plain": "       poemID workID  poetID  workImportance  poetImportance  totalWeight\n0        1176     38     213             NaN        0.350102          NaN\n1         778     38     922             NaN        0.198336          NaN\n2        1175     38     213             NaN        0.350102          NaN\n3           6     38     494             NaN        0.031820          NaN\n4           7     38     495             NaN        0.031820          NaN\n...       ...    ...     ...             ...             ...          ...\n92602    3314      0       5             NaN        0.373240          NaN\n92603   44503      0    5583             NaN        0.105060          NaN\n92604   52397      0    6038             NaN        0.120144          NaN\n92605   52407      0    6038             NaN        0.120144          NaN\n92606   48171      0       0             NaN             NaN          NaN\n\n[92607 rows x 6 columns]",
      "text/html": "<div>\n<style scoped>\n    .dataframe tbody tr th:only-of-type {\n        vertical-align: middle;\n    }\n\n    .dataframe tbody tr th {\n        vertical-align: top;\n    }\n\n    .dataframe thead th {\n        text-align: right;\n    }\n</style>\n<table border=\"1\" class=\"dataframe\">\n  <thead>\n    <tr style=\"text-align: right;\">\n      <th></th>\n      <th>poemID</th>\n      <th>workID</th>\n      <th>poetID</th>\n      <th>workImportance</th>\n      <th>poetImportance</th>\n      <th>totalWeight</th>\n    </tr>\n  </thead>\n  <tbody>\n    <tr>\n      <th>0</th>\n      <td>1176</td>\n      <td>38</td>\n      <td>213</td>\n      <td>NaN</td>\n      <td>0.350102</td>\n      <td>NaN</td>\n    </tr>\n    <tr>\n      <th>1</th>\n      <td>778</td>\n      <td>38</td>\n      <td>922</td>\n      <td>NaN</td>\n      <td>0.198336</td>\n      <td>NaN</td>\n    </tr>\n    <tr>\n      <th>2</th>\n      <td>1175</td>\n      <td>38</td>\n      <td>213</td>\n      <td>NaN</td>\n      <td>0.350102</td>\n      <td>NaN</td>\n    </tr>\n    <tr>\n      <th>3</th>\n      <td>6</td>\n      <td>38</td>\n      <td>494</td>\n      <td>NaN</td>\n      <td>0.031820</td>\n      <td>NaN</td>\n    </tr>\n    <tr>\n      <th>4</th>\n      <td>7</td>\n      <td>38</td>\n      <td>495</td>\n      <td>NaN</td>\n      <td>0.031820</td>\n      <td>NaN</td>\n    </tr>\n    <tr>\n      <th>...</th>\n      <td>...</td>\n      <td>...</td>\n      <td>...</td>\n      <td>...</td>\n      <td>...</td>\n      <td>...</td>\n    </tr>\n    <tr>\n      <th>92602</th>\n      <td>3314</td>\n      <td>0</td>\n      <td>5</td>\n      <td>NaN</td>\n      <td>0.373240</td>\n      <td>NaN</td>\n    </tr>\n    <tr>\n      <th>92603</th>\n      <td>44503</td>\n      <td>0</td>\n      <td>5583</td>\n      <td>NaN</td>\n      <td>0.105060</td>\n      <td>NaN</td>\n    </tr>\n    <tr>\n      <th>92604</th>\n      <td>52397</td>\n      <td>0</td>\n      <td>6038</td>\n      <td>NaN</td>\n      <td>0.120144</td>\n      <td>NaN</td>\n    </tr>\n    <tr>\n      <th>92605</th>\n      <td>52407</td>\n      <td>0</td>\n      <td>6038</td>\n      <td>NaN</td>\n      <td>0.120144</td>\n      <td>NaN</td>\n    </tr>\n    <tr>\n      <th>92606</th>\n      <td>48171</td>\n      <td>0</td>\n      <td>0</td>\n      <td>NaN</td>\n      <td>NaN</td>\n      <td>NaN</td>\n    </tr>\n  </tbody>\n</table>\n<p>92607 rows × 6 columns</p>\n</div>"
     },
     "execution_count": 44,
     "metadata": {},
     "output_type": "execute_result"
    }
   ],
   "source": [
    "poetImportance = poemWorkPoet.copy()\n",
    "\n",
    "poetImportance['totalWeight'] = workWeight * poetImportance['workImportance'] + poetWeight * poetImportance['poetImportance']\n",
    "\n",
    "poetImportance"
   ]
  },
  {
   "cell_type": "code",
   "execution_count": null,
   "id": "cd8a713a9f5a029b",
   "metadata": {
    "collapsed": false
   },
   "outputs": [],
   "source": []
  }
 ],
 "metadata": {
  "kernelspec": {
   "display_name": "Python 3 (ipykernel)",
   "language": "python",
   "name": "python3"
  },
  "language_info": {
   "codemirror_mode": {
    "name": "ipython",
    "version": 3
   },
   "file_extension": ".py",
   "mimetype": "text/x-python",
   "name": "python",
   "nbconvert_exporter": "python",
   "pygments_lexer": "ipython3",
   "version": "3.11.4"
  }
 },
 "nbformat": 4,
 "nbformat_minor": 5
}
