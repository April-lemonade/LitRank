{
 "cells": [
  {
   "cell_type": "code",
   "execution_count": 1,
   "id": "initial_id",
   "metadata": {
    "collapsed": true,
    "ExecuteTime": {
     "end_time": "2024-11-04T07:16:02.947660Z",
     "start_time": "2024-11-04T07:16:02.489805Z"
    }
   },
   "outputs": [],
   "source": [
    "import pyarrow as pa\n",
    "import pyarrow.parquet as pq\n",
    "import pyarrow.compute as pc\n",
    "import pyarrow.dataset as ds\n",
    "import pandas as pd\n",
    "import duckdb\n",
    "import numpy as np\n",
    "import altair as alt\n",
    "import json\n",
    "from urllib.request import urlopen\n",
    "import time\n",
    "import os\n",
    "import plotly.express as px"
   ]
  },
  {
   "cell_type": "code",
   "outputs": [
    {
     "data": {
      "text/plain": "<duckdb.duckdb.DuckDBPyConnection at 0x10f34afb0>"
     },
     "execution_count": 2,
     "metadata": {},
     "output_type": "execute_result"
    }
   ],
   "source": [
    "poet = pd.read_csv('../../CCGIV/datasets/WomenWriting/poet.csv')\n",
    "poem = pd.read_csv('../../CCGIV/datasets/WomenWriting/poem.csv')\n",
    "poempoetlinks = pd.read_csv('../../CCGIV/datasets/WomenWriting/poempoetlinks.csv')\n",
    "subwork = pd.read_csv('../../CCGIV/datasets/WomenWriting/subwork.csv')\n",
    "subworkpoemlinks = pd.read_csv('../../CCGIV/datasets/WomenWriting/subworkpoemlinks.csv')\n",
    "subworkpoetlinks = pd.read_csv('../../CCGIV/datasets/WomenWriting/subworkpoetlinks.csv')\n",
    "work = pd.read_csv('../../CCGIV/datasets/WomenWriting/work.csv')\n",
    "workpoemlinks = pd.read_csv('../../CCGIV/datasets/WomenWriting/workpoemlinks.csv')\n",
    "workpoetlinks = pd.read_csv('../../CCGIV/datasets/WomenWriting/workpoetlinks.csv')\n",
    "poetregionlinks = pd.read_csv('../../CCGIV/datasets/WomenWriting/poetregionlinks.csv')\n",
    "\n",
    "con = duckdb.connect()\n",
    "con.register('poet', poet)\n",
    "con.register('poem', poem)\n",
    "con.register('poempoetlinks', poempoetlinks)\n",
    "con.register('subwork', subwork)\n",
    "con.register('subworkpoemlinks', subworkpoemlinks)\n",
    "con.register('subworkpoetlinks', subworkpoetlinks)\n",
    "con.register('work', work)\n",
    "con.register('workpoemlinks', workpoemlinks)\n",
    "con.register('workpoetlinks', workpoetlinks)\n",
    "con.register('poetregionlinks', poetregionlinks)"
   ],
   "metadata": {
    "collapsed": false,
    "ExecuteTime": {
     "end_time": "2024-11-04T07:16:03.115985Z",
     "start_time": "2024-11-04T07:16:02.949207Z"
    }
   },
   "id": "b76d0601e8b78a7c",
   "execution_count": 2
  },
  {
   "cell_type": "markdown",
   "source": [
    "# 1. 集（work）的 Importance：题辞作者数量、序作者数量、跋作者数量、收录的品（poem）的数量"
   ],
   "metadata": {
    "collapsed": false
   },
   "id": "1e1b99855f1cff69"
  },
  {
   "cell_type": "markdown",
   "source": [
    "## 1.1 题辞作者、序作者、跋作者不去重"
   ],
   "metadata": {
    "collapsed": false
   },
   "id": "f8c20a3c6d82e4e"
  },
  {
   "cell_type": "markdown",
   "source": [
    "### 1.1.1 题辞作者数量"
   ],
   "metadata": {
    "collapsed": false
   },
   "id": "73ce5d2390726dc6"
  },
  {
   "cell_type": "code",
   "outputs": [
    {
     "data": {
      "text/plain": "        ticicount\nworkID           \n125           119\n223            96\n218            73\n352            49\n112            43\n...           ...\n390             1\n61              1\n427             1\n299             1\n400             1\n\n[150 rows x 1 columns]",
      "text/html": "<div>\n<style scoped>\n    .dataframe tbody tr th:only-of-type {\n        vertical-align: middle;\n    }\n\n    .dataframe tbody tr th {\n        vertical-align: top;\n    }\n\n    .dataframe thead th {\n        text-align: right;\n    }\n</style>\n<table border=\"1\" class=\"dataframe\">\n  <thead>\n    <tr style=\"text-align: right;\">\n      <th></th>\n      <th>ticicount</th>\n    </tr>\n    <tr>\n      <th>workID</th>\n      <th></th>\n    </tr>\n  </thead>\n  <tbody>\n    <tr>\n      <th>125</th>\n      <td>119</td>\n    </tr>\n    <tr>\n      <th>223</th>\n      <td>96</td>\n    </tr>\n    <tr>\n      <th>218</th>\n      <td>73</td>\n    </tr>\n    <tr>\n      <th>352</th>\n      <td>49</td>\n    </tr>\n    <tr>\n      <th>112</th>\n      <td>43</td>\n    </tr>\n    <tr>\n      <th>...</th>\n      <td>...</td>\n    </tr>\n    <tr>\n      <th>390</th>\n      <td>1</td>\n    </tr>\n    <tr>\n      <th>61</th>\n      <td>1</td>\n    </tr>\n    <tr>\n      <th>427</th>\n      <td>1</td>\n    </tr>\n    <tr>\n      <th>299</th>\n      <td>1</td>\n    </tr>\n    <tr>\n      <th>400</th>\n      <td>1</td>\n    </tr>\n  </tbody>\n</table>\n<p>150 rows × 1 columns</p>\n</div>"
     },
     "execution_count": 3,
     "metadata": {},
     "output_type": "execute_result"
    }
   ],
   "source": [
    "ticiSQL = '''\n",
    "SELECT workID,count(DISTINCT poetID) as ticicount\n",
    "FROM workpoetlinks \n",
    "WHERE role IN ('題辭')\n",
    "Group By workID\n",
    "ORDER BY ticicount DESC\n",
    "'''\n",
    "tici = duckdb.query(ticiSQL).df()\n",
    "tici.set_index('workID', inplace=True)\n",
    "\n",
    "tici"
   ],
   "metadata": {
    "collapsed": false,
    "ExecuteTime": {
     "end_time": "2024-11-04T07:16:04.084460Z",
     "start_time": "2024-11-04T07:16:04.060859Z"
    }
   },
   "id": "de3bec29a96991f8",
   "execution_count": 3
  },
  {
   "cell_type": "markdown",
   "source": [
    "### 1.1.2 序作者数量"
   ],
   "metadata": {
    "collapsed": false
   },
   "id": "54833db98e616dc5"
  },
  {
   "cell_type": "code",
   "outputs": [
    {
     "data": {
      "text/plain": "        xucount\nworkID         \n158          17\n167          14\n57            9\n118           9\n283           8\n...         ...\n293           1\n201           1\n164           1\n98            1\n210           1\n\n[321 rows x 1 columns]",
      "text/html": "<div>\n<style scoped>\n    .dataframe tbody tr th:only-of-type {\n        vertical-align: middle;\n    }\n\n    .dataframe tbody tr th {\n        vertical-align: top;\n    }\n\n    .dataframe thead th {\n        text-align: right;\n    }\n</style>\n<table border=\"1\" class=\"dataframe\">\n  <thead>\n    <tr style=\"text-align: right;\">\n      <th></th>\n      <th>xucount</th>\n    </tr>\n    <tr>\n      <th>workID</th>\n      <th></th>\n    </tr>\n  </thead>\n  <tbody>\n    <tr>\n      <th>158</th>\n      <td>17</td>\n    </tr>\n    <tr>\n      <th>167</th>\n      <td>14</td>\n    </tr>\n    <tr>\n      <th>57</th>\n      <td>9</td>\n    </tr>\n    <tr>\n      <th>118</th>\n      <td>9</td>\n    </tr>\n    <tr>\n      <th>283</th>\n      <td>8</td>\n    </tr>\n    <tr>\n      <th>...</th>\n      <td>...</td>\n    </tr>\n    <tr>\n      <th>293</th>\n      <td>1</td>\n    </tr>\n    <tr>\n      <th>201</th>\n      <td>1</td>\n    </tr>\n    <tr>\n      <th>164</th>\n      <td>1</td>\n    </tr>\n    <tr>\n      <th>98</th>\n      <td>1</td>\n    </tr>\n    <tr>\n      <th>210</th>\n      <td>1</td>\n    </tr>\n  </tbody>\n</table>\n<p>321 rows × 1 columns</p>\n</div>"
     },
     "execution_count": 4,
     "metadata": {},
     "output_type": "execute_result"
    }
   ],
   "source": [
    "xuSQL = '''\n",
    "SELECT workID,count(DISTINCT poetID) as xucount\n",
    "FROM workpoetlinks \n",
    "WHERE role IN ('序作者')\n",
    "Group By workID\n",
    "ORDER BY xucount DESC\n",
    "'''\n",
    "xu = duckdb.query(xuSQL).df()\n",
    "xu.set_index('workID', inplace=True)\n",
    "xu"
   ],
   "metadata": {
    "collapsed": false,
    "ExecuteTime": {
     "end_time": "2024-11-04T07:16:04.598272Z",
     "start_time": "2024-11-04T07:16:04.568502Z"
    }
   },
   "id": "50e5f89dea8d3757",
   "execution_count": 4
  },
  {
   "cell_type": "markdown",
   "source": [
    "### 1.1.3 跋作者数量"
   ],
   "metadata": {
    "collapsed": false
   },
   "id": "6e7a6582e1bbad1e"
  },
  {
   "cell_type": "code",
   "outputs": [
    {
     "data": {
      "text/plain": "        bacount\nworkID         \n186           5\n204           4\n15            4\n335           3\n275           3\n...         ...\n353           1\n435           1\n334           1\n322           1\n153           1\n\n[156 rows x 1 columns]",
      "text/html": "<div>\n<style scoped>\n    .dataframe tbody tr th:only-of-type {\n        vertical-align: middle;\n    }\n\n    .dataframe tbody tr th {\n        vertical-align: top;\n    }\n\n    .dataframe thead th {\n        text-align: right;\n    }\n</style>\n<table border=\"1\" class=\"dataframe\">\n  <thead>\n    <tr style=\"text-align: right;\">\n      <th></th>\n      <th>bacount</th>\n    </tr>\n    <tr>\n      <th>workID</th>\n      <th></th>\n    </tr>\n  </thead>\n  <tbody>\n    <tr>\n      <th>186</th>\n      <td>5</td>\n    </tr>\n    <tr>\n      <th>204</th>\n      <td>4</td>\n    </tr>\n    <tr>\n      <th>15</th>\n      <td>4</td>\n    </tr>\n    <tr>\n      <th>335</th>\n      <td>3</td>\n    </tr>\n    <tr>\n      <th>275</th>\n      <td>3</td>\n    </tr>\n    <tr>\n      <th>...</th>\n      <td>...</td>\n    </tr>\n    <tr>\n      <th>353</th>\n      <td>1</td>\n    </tr>\n    <tr>\n      <th>435</th>\n      <td>1</td>\n    </tr>\n    <tr>\n      <th>334</th>\n      <td>1</td>\n    </tr>\n    <tr>\n      <th>322</th>\n      <td>1</td>\n    </tr>\n    <tr>\n      <th>153</th>\n      <td>1</td>\n    </tr>\n  </tbody>\n</table>\n<p>156 rows × 1 columns</p>\n</div>"
     },
     "execution_count": 5,
     "metadata": {},
     "output_type": "execute_result"
    }
   ],
   "source": [
    "baSQL = '''\n",
    "SELECT workID,count(DISTINCT poetID) as bacount\n",
    "FROM workpoetlinks \n",
    "WHERE role IN ('跋作者')\n",
    "Group By workID\n",
    "ORDER BY bacount DESC\n",
    "'''\n",
    "ba = duckdb.query(baSQL).df()\n",
    "ba.set_index('workID', inplace=True)\n",
    "ba"
   ],
   "metadata": {
    "collapsed": false,
    "ExecuteTime": {
     "end_time": "2024-11-04T07:16:05.534684Z",
     "start_time": "2024-11-04T07:16:05.524177Z"
    }
   },
   "id": "4786b67b05bbe362",
   "execution_count": 5
  },
  {
   "cell_type": "markdown",
   "source": [
    "### 1.1.4 题辞、序、跋汇总"
   ],
   "metadata": {
    "collapsed": false
   },
   "id": "cfb17c0315d86b1f"
  },
  {
   "cell_type": "code",
   "outputs": [
    {
     "data": {
      "text/plain": "        ticicount  xucount  bacount\nworkID                             \n9             0.0      3.0      1.0\n10            2.0      2.0      0.0\n11            0.0      3.0      0.0\n12            1.0      5.0      1.0\n13            0.0      1.0      0.0\n...           ...      ...      ...\n476           1.0      4.0      0.0\n477          14.0      5.0      1.0\n479           1.0      4.0      1.0\n480           3.0      5.0      0.0\n482           1.0      1.0      0.0\n\n[363 rows x 3 columns]",
      "text/html": "<div>\n<style scoped>\n    .dataframe tbody tr th:only-of-type {\n        vertical-align: middle;\n    }\n\n    .dataframe tbody tr th {\n        vertical-align: top;\n    }\n\n    .dataframe thead th {\n        text-align: right;\n    }\n</style>\n<table border=\"1\" class=\"dataframe\">\n  <thead>\n    <tr style=\"text-align: right;\">\n      <th></th>\n      <th>ticicount</th>\n      <th>xucount</th>\n      <th>bacount</th>\n    </tr>\n    <tr>\n      <th>workID</th>\n      <th></th>\n      <th></th>\n      <th></th>\n    </tr>\n  </thead>\n  <tbody>\n    <tr>\n      <th>9</th>\n      <td>0.0</td>\n      <td>3.0</td>\n      <td>1.0</td>\n    </tr>\n    <tr>\n      <th>10</th>\n      <td>2.0</td>\n      <td>2.0</td>\n      <td>0.0</td>\n    </tr>\n    <tr>\n      <th>11</th>\n      <td>0.0</td>\n      <td>3.0</td>\n      <td>0.0</td>\n    </tr>\n    <tr>\n      <th>12</th>\n      <td>1.0</td>\n      <td>5.0</td>\n      <td>1.0</td>\n    </tr>\n    <tr>\n      <th>13</th>\n      <td>0.0</td>\n      <td>1.0</td>\n      <td>0.0</td>\n    </tr>\n    <tr>\n      <th>...</th>\n      <td>...</td>\n      <td>...</td>\n      <td>...</td>\n    </tr>\n    <tr>\n      <th>476</th>\n      <td>1.0</td>\n      <td>4.0</td>\n      <td>0.0</td>\n    </tr>\n    <tr>\n      <th>477</th>\n      <td>14.0</td>\n      <td>5.0</td>\n      <td>1.0</td>\n    </tr>\n    <tr>\n      <th>479</th>\n      <td>1.0</td>\n      <td>4.0</td>\n      <td>1.0</td>\n    </tr>\n    <tr>\n      <th>480</th>\n      <td>3.0</td>\n      <td>5.0</td>\n      <td>0.0</td>\n    </tr>\n    <tr>\n      <th>482</th>\n      <td>1.0</td>\n      <td>1.0</td>\n      <td>0.0</td>\n    </tr>\n  </tbody>\n</table>\n<p>363 rows × 3 columns</p>\n</div>"
     },
     "execution_count": 6,
     "metadata": {},
     "output_type": "execute_result"
    }
   ],
   "source": [
    "from functools import reduce\n",
    "\n",
    "TiciXuBa = reduce(lambda left, right: pd.merge(left, right, on='workID', how='outer'), [tici, xu, ba]).fillna(0)\n",
    "TiciXuBa"
   ],
   "metadata": {
    "collapsed": false,
    "ExecuteTime": {
     "end_time": "2024-11-04T07:16:06.935798Z",
     "start_time": "2024-11-04T07:16:06.927050Z"
    }
   },
   "id": "7abe974aed3a0b68",
   "execution_count": 6
  },
  {
   "cell_type": "markdown",
   "source": [
    "## 1.2 题辞作者、序作者、跋作者去重"
   ],
   "metadata": {
    "collapsed": false
   },
   "id": "fde2af146e45f824"
  },
  {
   "cell_type": "markdown",
   "source": [
    "问题：在同一个集里有多重角色的作者，应该计数到哪种角色中？比如既是题辞作者又是序作者，算到哪类？"
   ],
   "metadata": {
    "collapsed": false
   },
   "id": "7cdcb7c09eeb0052"
  },
  {
   "cell_type": "markdown",
   "source": [
    "## 1.3 集收录的作品数"
   ],
   "metadata": {
    "collapsed": false
   },
   "id": "35ed091b7fc0348c"
  },
  {
   "cell_type": "code",
   "outputs": [
    {
     "data": {
      "text/plain": "        includedcount\nworkID               \n61               5075\n120              3771\n38               2478\n63               2145\n88               2052\n...               ...\n341                 9\n358                 7\n225                 7\n373                 3\n252                 1\n\n[432 rows x 1 columns]",
      "text/html": "<div>\n<style scoped>\n    .dataframe tbody tr th:only-of-type {\n        vertical-align: middle;\n    }\n\n    .dataframe tbody tr th {\n        vertical-align: top;\n    }\n\n    .dataframe thead th {\n        text-align: right;\n    }\n</style>\n<table border=\"1\" class=\"dataframe\">\n  <thead>\n    <tr style=\"text-align: right;\">\n      <th></th>\n      <th>includedcount</th>\n    </tr>\n    <tr>\n      <th>workID</th>\n      <th></th>\n    </tr>\n  </thead>\n  <tbody>\n    <tr>\n      <th>61</th>\n      <td>5075</td>\n    </tr>\n    <tr>\n      <th>120</th>\n      <td>3771</td>\n    </tr>\n    <tr>\n      <th>38</th>\n      <td>2478</td>\n    </tr>\n    <tr>\n      <th>63</th>\n      <td>2145</td>\n    </tr>\n    <tr>\n      <th>88</th>\n      <td>2052</td>\n    </tr>\n    <tr>\n      <th>...</th>\n      <td>...</td>\n    </tr>\n    <tr>\n      <th>341</th>\n      <td>9</td>\n    </tr>\n    <tr>\n      <th>358</th>\n      <td>7</td>\n    </tr>\n    <tr>\n      <th>225</th>\n      <td>7</td>\n    </tr>\n    <tr>\n      <th>373</th>\n      <td>3</td>\n    </tr>\n    <tr>\n      <th>252</th>\n      <td>1</td>\n    </tr>\n  </tbody>\n</table>\n<p>432 rows × 1 columns</p>\n</div>"
     },
     "execution_count": 7,
     "metadata": {},
     "output_type": "execute_result"
    }
   ],
   "source": [
    "includedWorkSQL = '''\n",
    "SELECT workID,count(poemID) as includedcount\n",
    "FROM workpoemlinks \n",
    "Group By workID\n",
    "ORDER BY includedcount DESC\n",
    "'''\n",
    "includedWork = duckdb.query(includedWorkSQL).df()\n",
    "includedWork.set_index('workID', inplace=True)\n",
    "\n",
    "includedWork"
   ],
   "metadata": {
    "collapsed": false,
    "ExecuteTime": {
     "end_time": "2024-11-04T07:16:07.397257Z",
     "start_time": "2024-11-04T07:16:07.389178Z"
    }
   },
   "id": "beb00f4deb219484",
   "execution_count": 7
  },
  {
   "cell_type": "markdown",
   "source": [
    "## 1.4 集的题辞作者数、序作者数、跋作者数、收录作品数汇总"
   ],
   "metadata": {
    "collapsed": false
   },
   "id": "7c12639d4039b6b5"
  },
  {
   "cell_type": "code",
   "outputs": [
    {
     "data": {
      "text/plain": "        ticicount  xucount  bacount  includedcount\nworkID                                            \n9             0.0      3.0      1.0          986.0\n10            2.0      2.0      0.0          404.0\n11            0.0      3.0      0.0          137.0\n12            1.0      5.0      1.0          126.0\n13            0.0      1.0      0.0          252.0\n...           ...      ...      ...            ...\n478           0.0      0.0      0.0          206.0\n479           1.0      4.0      1.0          310.0\n480           3.0      5.0      0.0           82.0\n481           0.0      0.0      0.0          885.0\n482           1.0      1.0      0.0          162.0\n\n[433 rows x 4 columns]",
      "text/html": "<div>\n<style scoped>\n    .dataframe tbody tr th:only-of-type {\n        vertical-align: middle;\n    }\n\n    .dataframe tbody tr th {\n        vertical-align: top;\n    }\n\n    .dataframe thead th {\n        text-align: right;\n    }\n</style>\n<table border=\"1\" class=\"dataframe\">\n  <thead>\n    <tr style=\"text-align: right;\">\n      <th></th>\n      <th>ticicount</th>\n      <th>xucount</th>\n      <th>bacount</th>\n      <th>includedcount</th>\n    </tr>\n    <tr>\n      <th>workID</th>\n      <th></th>\n      <th></th>\n      <th></th>\n      <th></th>\n    </tr>\n  </thead>\n  <tbody>\n    <tr>\n      <th>9</th>\n      <td>0.0</td>\n      <td>3.0</td>\n      <td>1.0</td>\n      <td>986.0</td>\n    </tr>\n    <tr>\n      <th>10</th>\n      <td>2.0</td>\n      <td>2.0</td>\n      <td>0.0</td>\n      <td>404.0</td>\n    </tr>\n    <tr>\n      <th>11</th>\n      <td>0.0</td>\n      <td>3.0</td>\n      <td>0.0</td>\n      <td>137.0</td>\n    </tr>\n    <tr>\n      <th>12</th>\n      <td>1.0</td>\n      <td>5.0</td>\n      <td>1.0</td>\n      <td>126.0</td>\n    </tr>\n    <tr>\n      <th>13</th>\n      <td>0.0</td>\n      <td>1.0</td>\n      <td>0.0</td>\n      <td>252.0</td>\n    </tr>\n    <tr>\n      <th>...</th>\n      <td>...</td>\n      <td>...</td>\n      <td>...</td>\n      <td>...</td>\n    </tr>\n    <tr>\n      <th>478</th>\n      <td>0.0</td>\n      <td>0.0</td>\n      <td>0.0</td>\n      <td>206.0</td>\n    </tr>\n    <tr>\n      <th>479</th>\n      <td>1.0</td>\n      <td>4.0</td>\n      <td>1.0</td>\n      <td>310.0</td>\n    </tr>\n    <tr>\n      <th>480</th>\n      <td>3.0</td>\n      <td>5.0</td>\n      <td>0.0</td>\n      <td>82.0</td>\n    </tr>\n    <tr>\n      <th>481</th>\n      <td>0.0</td>\n      <td>0.0</td>\n      <td>0.0</td>\n      <td>885.0</td>\n    </tr>\n    <tr>\n      <th>482</th>\n      <td>1.0</td>\n      <td>1.0</td>\n      <td>0.0</td>\n      <td>162.0</td>\n    </tr>\n  </tbody>\n</table>\n<p>433 rows × 4 columns</p>\n</div>"
     },
     "execution_count": 8,
     "metadata": {},
     "output_type": "execute_result"
    }
   ],
   "source": [
    "jiRawData = reduce(lambda left, right: pd.merge(left, right, on='workID', how='outer'), [tici, xu, ba, includedWork]).fillna(0)\n",
    "jiRawData"
   ],
   "metadata": {
    "collapsed": false,
    "ExecuteTime": {
     "end_time": "2024-11-04T07:16:07.615237Z",
     "start_time": "2024-11-04T07:16:07.606147Z"
    }
   },
   "id": "a9afbfdfd1e50d82",
   "execution_count": 8
  },
  {
   "cell_type": "markdown",
   "source": [
    "## 1.5 归一化"
   ],
   "metadata": {
    "collapsed": false
   },
   "id": "b08deb1f09b08154"
  },
  {
   "cell_type": "markdown",
   "source": [
    "### 1.5.1 Min-Max归一化"
   ],
   "metadata": {
    "collapsed": false
   },
   "id": "11148654c659f1dc"
  },
  {
   "cell_type": "code",
   "outputs": [],
   "source": [
    "def min_max_normalize(series):\n",
    "    return (series - series.min()) / (series.max() - series.min()) * 100"
   ],
   "metadata": {
    "collapsed": false,
    "ExecuteTime": {
     "end_time": "2024-11-04T07:16:07.947903Z",
     "start_time": "2024-11-04T07:16:07.945508Z"
    }
   },
   "id": "c9c56c6164416eed",
   "execution_count": 9
  },
  {
   "cell_type": "code",
   "outputs": [
    {
     "data": {
      "text/plain": "        ticicount    xucount  bacount  includedcount\nworkID                                              \n9        0.000000  17.647059     20.0      19.428571\n10       1.680672  11.764706      0.0       7.960591\n11       0.000000  17.647059      0.0       2.699507\n12       0.840336  29.411765     20.0       2.482759\n13       0.000000   5.882353      0.0       4.965517\n...           ...        ...      ...            ...\n478      0.000000   0.000000      0.0       4.059113\n479      0.840336  23.529412     20.0       6.108374\n480      2.521008  29.411765      0.0       1.615764\n481      0.000000   0.000000      0.0      17.438424\n482      0.840336   5.882353      0.0       3.192118\n\n[433 rows x 4 columns]",
      "text/html": "<div>\n<style scoped>\n    .dataframe tbody tr th:only-of-type {\n        vertical-align: middle;\n    }\n\n    .dataframe tbody tr th {\n        vertical-align: top;\n    }\n\n    .dataframe thead th {\n        text-align: right;\n    }\n</style>\n<table border=\"1\" class=\"dataframe\">\n  <thead>\n    <tr style=\"text-align: right;\">\n      <th></th>\n      <th>ticicount</th>\n      <th>xucount</th>\n      <th>bacount</th>\n      <th>includedcount</th>\n    </tr>\n    <tr>\n      <th>workID</th>\n      <th></th>\n      <th></th>\n      <th></th>\n      <th></th>\n    </tr>\n  </thead>\n  <tbody>\n    <tr>\n      <th>9</th>\n      <td>0.000000</td>\n      <td>17.647059</td>\n      <td>20.0</td>\n      <td>19.428571</td>\n    </tr>\n    <tr>\n      <th>10</th>\n      <td>1.680672</td>\n      <td>11.764706</td>\n      <td>0.0</td>\n      <td>7.960591</td>\n    </tr>\n    <tr>\n      <th>11</th>\n      <td>0.000000</td>\n      <td>17.647059</td>\n      <td>0.0</td>\n      <td>2.699507</td>\n    </tr>\n    <tr>\n      <th>12</th>\n      <td>0.840336</td>\n      <td>29.411765</td>\n      <td>20.0</td>\n      <td>2.482759</td>\n    </tr>\n    <tr>\n      <th>13</th>\n      <td>0.000000</td>\n      <td>5.882353</td>\n      <td>0.0</td>\n      <td>4.965517</td>\n    </tr>\n    <tr>\n      <th>...</th>\n      <td>...</td>\n      <td>...</td>\n      <td>...</td>\n      <td>...</td>\n    </tr>\n    <tr>\n      <th>478</th>\n      <td>0.000000</td>\n      <td>0.000000</td>\n      <td>0.0</td>\n      <td>4.059113</td>\n    </tr>\n    <tr>\n      <th>479</th>\n      <td>0.840336</td>\n      <td>23.529412</td>\n      <td>20.0</td>\n      <td>6.108374</td>\n    </tr>\n    <tr>\n      <th>480</th>\n      <td>2.521008</td>\n      <td>29.411765</td>\n      <td>0.0</td>\n      <td>1.615764</td>\n    </tr>\n    <tr>\n      <th>481</th>\n      <td>0.000000</td>\n      <td>0.000000</td>\n      <td>0.0</td>\n      <td>17.438424</td>\n    </tr>\n    <tr>\n      <th>482</th>\n      <td>0.840336</td>\n      <td>5.882353</td>\n      <td>0.0</td>\n      <td>3.192118</td>\n    </tr>\n  </tbody>\n</table>\n<p>433 rows × 4 columns</p>\n</div>"
     },
     "execution_count": 10,
     "metadata": {},
     "output_type": "execute_result"
    }
   ],
   "source": [
    "ji_min_max_normalize = jiRawData.copy()\n",
    "for column in ji_min_max_normalize.columns:\n",
    "    if ji_min_max_normalize[column].dtype in ['float64', 'int64']:  # 检查数据类型是否为数值类型\n",
    "        ji_min_max_normalize[column] = min_max_normalize(ji_min_max_normalize[column])\n",
    "ji_min_max_normalize"
   ],
   "metadata": {
    "collapsed": false,
    "ExecuteTime": {
     "end_time": "2024-11-04T07:16:08.076800Z",
     "start_time": "2024-11-04T07:16:08.066180Z"
    }
   },
   "id": "dfaed373c7dfcf0f",
   "execution_count": 10
  },
  {
   "cell_type": "markdown",
   "source": [
    "### 1.5.2 对数归一化"
   ],
   "metadata": {
    "collapsed": false
   },
   "id": "eb98b2e22970f5ee"
  },
  {
   "cell_type": "code",
   "outputs": [
    {
     "data": {
      "text/plain": "        ticicount   xucount   bacount  includedcount\nworkID                                              \n9        0.000000  0.479625  0.386853       0.808069\n10       0.229476  0.380094  0.000000       0.703667\n11       0.000000  0.479625  0.000000       0.577484\n12       0.144783  0.619906  0.386853       0.567748\n13       0.000000  0.239812  0.000000       0.648524\n...           ...       ...       ...            ...\n478      0.000000  0.000000  0.000000       0.625005\n479      0.144783  0.556827  0.386853       0.672715\n480      0.289566  0.619906  0.000000       0.517897\n481      0.000000  0.000000  0.000000       0.795417\n482      0.144783  0.239812  0.000000       0.596998\n\n[433 rows x 4 columns]",
      "text/html": "<div>\n<style scoped>\n    .dataframe tbody tr th:only-of-type {\n        vertical-align: middle;\n    }\n\n    .dataframe tbody tr th {\n        vertical-align: top;\n    }\n\n    .dataframe thead th {\n        text-align: right;\n    }\n</style>\n<table border=\"1\" class=\"dataframe\">\n  <thead>\n    <tr style=\"text-align: right;\">\n      <th></th>\n      <th>ticicount</th>\n      <th>xucount</th>\n      <th>bacount</th>\n      <th>includedcount</th>\n    </tr>\n    <tr>\n      <th>workID</th>\n      <th></th>\n      <th></th>\n      <th></th>\n      <th></th>\n    </tr>\n  </thead>\n  <tbody>\n    <tr>\n      <th>9</th>\n      <td>0.000000</td>\n      <td>0.479625</td>\n      <td>0.386853</td>\n      <td>0.808069</td>\n    </tr>\n    <tr>\n      <th>10</th>\n      <td>0.229476</td>\n      <td>0.380094</td>\n      <td>0.000000</td>\n      <td>0.703667</td>\n    </tr>\n    <tr>\n      <th>11</th>\n      <td>0.000000</td>\n      <td>0.479625</td>\n      <td>0.000000</td>\n      <td>0.577484</td>\n    </tr>\n    <tr>\n      <th>12</th>\n      <td>0.144783</td>\n      <td>0.619906</td>\n      <td>0.386853</td>\n      <td>0.567748</td>\n    </tr>\n    <tr>\n      <th>13</th>\n      <td>0.000000</td>\n      <td>0.239812</td>\n      <td>0.000000</td>\n      <td>0.648524</td>\n    </tr>\n    <tr>\n      <th>...</th>\n      <td>...</td>\n      <td>...</td>\n      <td>...</td>\n      <td>...</td>\n    </tr>\n    <tr>\n      <th>478</th>\n      <td>0.000000</td>\n      <td>0.000000</td>\n      <td>0.000000</td>\n      <td>0.625005</td>\n    </tr>\n    <tr>\n      <th>479</th>\n      <td>0.144783</td>\n      <td>0.556827</td>\n      <td>0.386853</td>\n      <td>0.672715</td>\n    </tr>\n    <tr>\n      <th>480</th>\n      <td>0.289566</td>\n      <td>0.619906</td>\n      <td>0.000000</td>\n      <td>0.517897</td>\n    </tr>\n    <tr>\n      <th>481</th>\n      <td>0.000000</td>\n      <td>0.000000</td>\n      <td>0.000000</td>\n      <td>0.795417</td>\n    </tr>\n    <tr>\n      <th>482</th>\n      <td>0.144783</td>\n      <td>0.239812</td>\n      <td>0.000000</td>\n      <td>0.596998</td>\n    </tr>\n  </tbody>\n</table>\n<p>433 rows × 4 columns</p>\n</div>"
     },
     "execution_count": 42,
     "metadata": {},
     "output_type": "execute_result"
    }
   ],
   "source": [
    "ji_log_normalize = jiRawData.copy()\n",
    "\n",
    "for column in ji_log_normalize.columns:  \n",
    "    if ji_log_normalize[column].dtype in ['float64', 'int64']:\n",
    "        max_val = ji_log_normalize[column].max()\n",
    "        if max_val > 0:\n",
    "            # 应用对数归一化\n",
    "            ji_log_normalize[column] = np.log(ji_log_normalize[column] + 1) / np.log(max_val + 1)\n",
    "        # 对数据加1以避免对0取对数的问题\n",
    "        # ji_log_normalize[column] = np.log(ji_log_normalize[column] + 1)\n",
    "\n",
    "ji_log_normalize"
   ],
   "metadata": {
    "collapsed": false,
    "ExecuteTime": {
     "end_time": "2024-11-04T08:04:35.955585Z",
     "start_time": "2024-11-04T08:04:35.920343Z"
    }
   },
   "id": "283570c2de5159c3",
   "execution_count": 42
  },
  {
   "cell_type": "markdown",
   "source": [
    "### 1.5.3 把题辞、序、跋统一归一化"
   ],
   "metadata": {
    "collapsed": false
   },
   "id": "65f8fd873eb03992"
  },
  {
   "cell_type": "markdown",
   "source": [
    "#### 1.5.3.1 min-max"
   ],
   "metadata": {
    "collapsed": false
   },
   "id": "c3cbe5c81e04a535"
  },
  {
   "cell_type": "code",
   "outputs": [
    {
     "data": {
      "text/plain": "        ticicount  xucount  bacount  includedcount  normalized_bacount  \\\nworkID                                                                   \n9             0.0      3.0      1.0       0.194286            0.008403   \n10            2.0      2.0      0.0       0.079606            0.000000   \n11            0.0      3.0      0.0       0.026995            0.000000   \n12            1.0      5.0      1.0       0.024828            0.008403   \n13            0.0      1.0      0.0       0.049655            0.000000   \n...           ...      ...      ...            ...                 ...   \n478           0.0      0.0      0.0       0.040591            0.000000   \n479           1.0      4.0      1.0       0.061084            0.008403   \n480           3.0      5.0      0.0       0.016158            0.000000   \n481           0.0      0.0      0.0       0.174384            0.000000   \n482           1.0      1.0      0.0       0.031921            0.000000   \n\n        normalized_ticicount  normalized_xucount  \nworkID                                            \n9                   0.000000            0.025210  \n10                  0.016807            0.016807  \n11                  0.000000            0.025210  \n12                  0.008403            0.042017  \n13                  0.000000            0.008403  \n...                      ...                 ...  \n478                 0.000000            0.000000  \n479                 0.008403            0.033613  \n480                 0.025210            0.042017  \n481                 0.000000            0.000000  \n482                 0.008403            0.008403  \n\n[433 rows x 7 columns]",
      "text/html": "<div>\n<style scoped>\n    .dataframe tbody tr th:only-of-type {\n        vertical-align: middle;\n    }\n\n    .dataframe tbody tr th {\n        vertical-align: top;\n    }\n\n    .dataframe thead th {\n        text-align: right;\n    }\n</style>\n<table border=\"1\" class=\"dataframe\">\n  <thead>\n    <tr style=\"text-align: right;\">\n      <th></th>\n      <th>ticicount</th>\n      <th>xucount</th>\n      <th>bacount</th>\n      <th>includedcount</th>\n      <th>normalized_bacount</th>\n      <th>normalized_ticicount</th>\n      <th>normalized_xucount</th>\n    </tr>\n    <tr>\n      <th>workID</th>\n      <th></th>\n      <th></th>\n      <th></th>\n      <th></th>\n      <th></th>\n      <th></th>\n      <th></th>\n    </tr>\n  </thead>\n  <tbody>\n    <tr>\n      <th>9</th>\n      <td>0.0</td>\n      <td>3.0</td>\n      <td>1.0</td>\n      <td>0.194286</td>\n      <td>0.008403</td>\n      <td>0.000000</td>\n      <td>0.025210</td>\n    </tr>\n    <tr>\n      <th>10</th>\n      <td>2.0</td>\n      <td>2.0</td>\n      <td>0.0</td>\n      <td>0.079606</td>\n      <td>0.000000</td>\n      <td>0.016807</td>\n      <td>0.016807</td>\n    </tr>\n    <tr>\n      <th>11</th>\n      <td>0.0</td>\n      <td>3.0</td>\n      <td>0.0</td>\n      <td>0.026995</td>\n      <td>0.000000</td>\n      <td>0.000000</td>\n      <td>0.025210</td>\n    </tr>\n    <tr>\n      <th>12</th>\n      <td>1.0</td>\n      <td>5.0</td>\n      <td>1.0</td>\n      <td>0.024828</td>\n      <td>0.008403</td>\n      <td>0.008403</td>\n      <td>0.042017</td>\n    </tr>\n    <tr>\n      <th>13</th>\n      <td>0.0</td>\n      <td>1.0</td>\n      <td>0.0</td>\n      <td>0.049655</td>\n      <td>0.000000</td>\n      <td>0.000000</td>\n      <td>0.008403</td>\n    </tr>\n    <tr>\n      <th>...</th>\n      <td>...</td>\n      <td>...</td>\n      <td>...</td>\n      <td>...</td>\n      <td>...</td>\n      <td>...</td>\n      <td>...</td>\n    </tr>\n    <tr>\n      <th>478</th>\n      <td>0.0</td>\n      <td>0.0</td>\n      <td>0.0</td>\n      <td>0.040591</td>\n      <td>0.000000</td>\n      <td>0.000000</td>\n      <td>0.000000</td>\n    </tr>\n    <tr>\n      <th>479</th>\n      <td>1.0</td>\n      <td>4.0</td>\n      <td>1.0</td>\n      <td>0.061084</td>\n      <td>0.008403</td>\n      <td>0.008403</td>\n      <td>0.033613</td>\n    </tr>\n    <tr>\n      <th>480</th>\n      <td>3.0</td>\n      <td>5.0</td>\n      <td>0.0</td>\n      <td>0.016158</td>\n      <td>0.000000</td>\n      <td>0.025210</td>\n      <td>0.042017</td>\n    </tr>\n    <tr>\n      <th>481</th>\n      <td>0.0</td>\n      <td>0.0</td>\n      <td>0.0</td>\n      <td>0.174384</td>\n      <td>0.000000</td>\n      <td>0.000000</td>\n      <td>0.000000</td>\n    </tr>\n    <tr>\n      <th>482</th>\n      <td>1.0</td>\n      <td>1.0</td>\n      <td>0.0</td>\n      <td>0.031921</td>\n      <td>0.000000</td>\n      <td>0.008403</td>\n      <td>0.008403</td>\n    </tr>\n  </tbody>\n</table>\n<p>433 rows × 7 columns</p>\n</div>"
     },
     "execution_count": 43,
     "metadata": {},
     "output_type": "execute_result"
    }
   ],
   "source": [
    "ji_combine_normalize = jiRawData.copy()\n",
    "\n",
    "all_counts = np.concatenate((ji_combine_normalize['ticicount'], ji_combine_normalize['xucount'],ji_combine_normalize['bacount']))\n",
    "\n",
    "min_val = all_counts.min()\n",
    "max_val = all_counts.max()\n",
    "ji_combine_normalize['normalized_bacount'] = (ji_combine_normalize['bacount'] - min_val) / (max_val - min_val)\n",
    "ji_combine_normalize['normalized_ticicount'] = (ji_combine_normalize['ticicount'] - min_val) / (max_val - min_val)\n",
    "ji_combine_normalize['normalized_xucount'] = (ji_combine_normalize['xucount'] - min_val) / (max_val - min_val)\n",
    "\n",
    "def min_max_normalize_ori(series):\n",
    "    return (series - series.min()) / (series.max() - series.min())\n",
    "# 收录的作品数单独归一化\n",
    "if ji_combine_normalize['includedcount'].dtype in ['float64', 'int64']:  # 检查数据类型是否为数值类型\n",
    "        ji_combine_normalize['includedcount'] = min_max_normalize_ori(ji_combine_normalize['includedcount'])\n",
    "\n",
    "ji_combine_normalize"
   ],
   "metadata": {
    "collapsed": false,
    "ExecuteTime": {
     "end_time": "2024-11-04T08:04:38.953664Z",
     "start_time": "2024-11-04T08:04:38.921713Z"
    }
   },
   "id": "7414da7de5ddd483",
   "execution_count": 43
  },
  {
   "cell_type": "markdown",
   "source": [
    "#### 1.5.3.2 对数归一化"
   ],
   "metadata": {
    "collapsed": false
   },
   "id": "e6e67153edc909a1"
  },
  {
   "cell_type": "code",
   "outputs": [
    {
     "data": {
      "text/plain": "        ticicount  xucount  bacount  includedcount  normalized_bacount  \\\nworkID                                                                   \n9             0.0      3.0      1.0       0.808069            0.144783   \n10            2.0      2.0      0.0       0.703667            0.000000   \n11            0.0      3.0      0.0       0.577484            0.000000   \n12            1.0      5.0      1.0       0.567748            0.144783   \n13            0.0      1.0      0.0       0.648524            0.000000   \n...           ...      ...      ...            ...                 ...   \n478           0.0      0.0      0.0       0.625005            0.000000   \n479           1.0      4.0      1.0       0.672715            0.144783   \n480           3.0      5.0      0.0       0.517897            0.000000   \n481           0.0      0.0      0.0       0.795417            0.000000   \n482           1.0      1.0      0.0       0.596998            0.000000   \n\n        normalized_ticicount  normalized_xucount  \nworkID                                            \n9                   0.000000            0.289566  \n10                  0.229476            0.229476  \n11                  0.000000            0.289566  \n12                  0.144783            0.374258  \n13                  0.000000            0.144783  \n...                      ...                 ...  \n478                 0.000000            0.000000  \n479                 0.144783            0.336176  \n480                 0.289566            0.374258  \n481                 0.000000            0.000000  \n482                 0.144783            0.144783  \n\n[433 rows x 7 columns]",
      "text/html": "<div>\n<style scoped>\n    .dataframe tbody tr th:only-of-type {\n        vertical-align: middle;\n    }\n\n    .dataframe tbody tr th {\n        vertical-align: top;\n    }\n\n    .dataframe thead th {\n        text-align: right;\n    }\n</style>\n<table border=\"1\" class=\"dataframe\">\n  <thead>\n    <tr style=\"text-align: right;\">\n      <th></th>\n      <th>ticicount</th>\n      <th>xucount</th>\n      <th>bacount</th>\n      <th>includedcount</th>\n      <th>normalized_bacount</th>\n      <th>normalized_ticicount</th>\n      <th>normalized_xucount</th>\n    </tr>\n    <tr>\n      <th>workID</th>\n      <th></th>\n      <th></th>\n      <th></th>\n      <th></th>\n      <th></th>\n      <th></th>\n      <th></th>\n    </tr>\n  </thead>\n  <tbody>\n    <tr>\n      <th>9</th>\n      <td>0.0</td>\n      <td>3.0</td>\n      <td>1.0</td>\n      <td>0.808069</td>\n      <td>0.144783</td>\n      <td>0.000000</td>\n      <td>0.289566</td>\n    </tr>\n    <tr>\n      <th>10</th>\n      <td>2.0</td>\n      <td>2.0</td>\n      <td>0.0</td>\n      <td>0.703667</td>\n      <td>0.000000</td>\n      <td>0.229476</td>\n      <td>0.229476</td>\n    </tr>\n    <tr>\n      <th>11</th>\n      <td>0.0</td>\n      <td>3.0</td>\n      <td>0.0</td>\n      <td>0.577484</td>\n      <td>0.000000</td>\n      <td>0.000000</td>\n      <td>0.289566</td>\n    </tr>\n    <tr>\n      <th>12</th>\n      <td>1.0</td>\n      <td>5.0</td>\n      <td>1.0</td>\n      <td>0.567748</td>\n      <td>0.144783</td>\n      <td>0.144783</td>\n      <td>0.374258</td>\n    </tr>\n    <tr>\n      <th>13</th>\n      <td>0.0</td>\n      <td>1.0</td>\n      <td>0.0</td>\n      <td>0.648524</td>\n      <td>0.000000</td>\n      <td>0.000000</td>\n      <td>0.144783</td>\n    </tr>\n    <tr>\n      <th>...</th>\n      <td>...</td>\n      <td>...</td>\n      <td>...</td>\n      <td>...</td>\n      <td>...</td>\n      <td>...</td>\n      <td>...</td>\n    </tr>\n    <tr>\n      <th>478</th>\n      <td>0.0</td>\n      <td>0.0</td>\n      <td>0.0</td>\n      <td>0.625005</td>\n      <td>0.000000</td>\n      <td>0.000000</td>\n      <td>0.000000</td>\n    </tr>\n    <tr>\n      <th>479</th>\n      <td>1.0</td>\n      <td>4.0</td>\n      <td>1.0</td>\n      <td>0.672715</td>\n      <td>0.144783</td>\n      <td>0.144783</td>\n      <td>0.336176</td>\n    </tr>\n    <tr>\n      <th>480</th>\n      <td>3.0</td>\n      <td>5.0</td>\n      <td>0.0</td>\n      <td>0.517897</td>\n      <td>0.000000</td>\n      <td>0.289566</td>\n      <td>0.374258</td>\n    </tr>\n    <tr>\n      <th>481</th>\n      <td>0.0</td>\n      <td>0.0</td>\n      <td>0.0</td>\n      <td>0.795417</td>\n      <td>0.000000</td>\n      <td>0.000000</td>\n      <td>0.000000</td>\n    </tr>\n    <tr>\n      <th>482</th>\n      <td>1.0</td>\n      <td>1.0</td>\n      <td>0.0</td>\n      <td>0.596998</td>\n      <td>0.000000</td>\n      <td>0.144783</td>\n      <td>0.144783</td>\n    </tr>\n  </tbody>\n</table>\n<p>433 rows × 7 columns</p>\n</div>"
     },
     "execution_count": 44,
     "metadata": {},
     "output_type": "execute_result"
    }
   ],
   "source": [
    "ji_combine_log_normalize = jiRawData.copy()\n",
    "\n",
    "all_counts = np.concatenate((ji_combine_log_normalize['ticicount'], ji_combine_log_normalize['xucount'],ji_combine_log_normalize['bacount']))\n",
    "\n",
    "min_val = all_counts.min()\n",
    "max_val = all_counts.max()\n",
    "\n",
    "if max_val > 0:\n",
    "    # ji_log_normalize[column] = np.log10(ji_log_normalize[column] + 1) / np.log10(max_val + 1)\n",
    "    ji_combine_log_normalize['normalized_bacount'] = np.log10(ji_combine_log_normalize['bacount'] + 1) / np.log10(max_val + 1)\n",
    "    ji_combine_log_normalize['normalized_ticicount'] = np.log10(ji_combine_log_normalize['ticicount'] + 1) / np.log10(max_val + 1)\n",
    "    ji_combine_log_normalize['normalized_xucount'] = np.log10(ji_combine_log_normalize['xucount'] + 1) / np.log10(max_val + 1)\n",
    "\n",
    "def min_max_normalize_ori(series):\n",
    "    return (series - series.min()) / (series.max() - series.min())\n",
    "# 收录的作品数单独归一化\n",
    "if ji_combine_log_normalize['includedcount'].dtype in ['float64', 'int64']:  # 检查数据类型是否为数值类型\n",
    "    max_val = ji_combine_log_normalize['includedcount'].max()\n",
    "    if max_val > 0:\n",
    "        ji_combine_log_normalize['includedcount'] = np.log10(ji_combine_log_normalize['includedcount'] + 1) / np.log10(max_val + 1)\n",
    "        # ji_combine_log_normalize['includedcount'] = min_max_normalize_ori(ji_combine_log_normalize['includedcount'])\n",
    "\n",
    "ji_combine_log_normalize"
   ],
   "metadata": {
    "collapsed": false,
    "ExecuteTime": {
     "end_time": "2024-11-04T08:04:46.174976Z",
     "start_time": "2024-11-04T08:04:46.145268Z"
    }
   },
   "id": "f6eb1c5caf8fbd4f",
   "execution_count": 44
  },
  {
   "cell_type": "markdown",
   "source": [
    "#### 1.5.3.3 min-max和对数归一化一起"
   ],
   "metadata": {
    "collapsed": false
   },
   "id": "d079fe94a986ecd1"
  },
  {
   "cell_type": "code",
   "outputs": [
    {
     "data": {
      "text/plain": "        ticicount  xucount  bacount  includedcount  normalized_bacount  \\\nworkID                                                                   \n9             0.0      3.0      1.0       0.808069            0.008403   \n10            2.0      2.0      0.0       0.703667            0.000000   \n11            0.0      3.0      0.0       0.577484            0.000000   \n12            1.0      5.0      1.0       0.567748            0.008403   \n13            0.0      1.0      0.0       0.648524            0.000000   \n...           ...      ...      ...            ...                 ...   \n478           0.0      0.0      0.0       0.625005            0.000000   \n479           1.0      4.0      1.0       0.672715            0.008403   \n480           3.0      5.0      0.0       0.517897            0.000000   \n481           0.0      0.0      0.0       0.795417            0.000000   \n482           1.0      1.0      0.0       0.596998            0.000000   \n\n        normalized_ticicount  normalized_xucount  \nworkID                                            \n9                   0.000000            0.025210  \n10                  0.016807            0.016807  \n11                  0.000000            0.025210  \n12                  0.008403            0.042017  \n13                  0.000000            0.008403  \n...                      ...                 ...  \n478                 0.000000            0.000000  \n479                 0.008403            0.033613  \n480                 0.025210            0.042017  \n481                 0.000000            0.000000  \n482                 0.008403            0.008403  \n\n[433 rows x 7 columns]",
      "text/html": "<div>\n<style scoped>\n    .dataframe tbody tr th:only-of-type {\n        vertical-align: middle;\n    }\n\n    .dataframe tbody tr th {\n        vertical-align: top;\n    }\n\n    .dataframe thead th {\n        text-align: right;\n    }\n</style>\n<table border=\"1\" class=\"dataframe\">\n  <thead>\n    <tr style=\"text-align: right;\">\n      <th></th>\n      <th>ticicount</th>\n      <th>xucount</th>\n      <th>bacount</th>\n      <th>includedcount</th>\n      <th>normalized_bacount</th>\n      <th>normalized_ticicount</th>\n      <th>normalized_xucount</th>\n    </tr>\n    <tr>\n      <th>workID</th>\n      <th></th>\n      <th></th>\n      <th></th>\n      <th></th>\n      <th></th>\n      <th></th>\n      <th></th>\n    </tr>\n  </thead>\n  <tbody>\n    <tr>\n      <th>9</th>\n      <td>0.0</td>\n      <td>3.0</td>\n      <td>1.0</td>\n      <td>0.808069</td>\n      <td>0.008403</td>\n      <td>0.000000</td>\n      <td>0.025210</td>\n    </tr>\n    <tr>\n      <th>10</th>\n      <td>2.0</td>\n      <td>2.0</td>\n      <td>0.0</td>\n      <td>0.703667</td>\n      <td>0.000000</td>\n      <td>0.016807</td>\n      <td>0.016807</td>\n    </tr>\n    <tr>\n      <th>11</th>\n      <td>0.0</td>\n      <td>3.0</td>\n      <td>0.0</td>\n      <td>0.577484</td>\n      <td>0.000000</td>\n      <td>0.000000</td>\n      <td>0.025210</td>\n    </tr>\n    <tr>\n      <th>12</th>\n      <td>1.0</td>\n      <td>5.0</td>\n      <td>1.0</td>\n      <td>0.567748</td>\n      <td>0.008403</td>\n      <td>0.008403</td>\n      <td>0.042017</td>\n    </tr>\n    <tr>\n      <th>13</th>\n      <td>0.0</td>\n      <td>1.0</td>\n      <td>0.0</td>\n      <td>0.648524</td>\n      <td>0.000000</td>\n      <td>0.000000</td>\n      <td>0.008403</td>\n    </tr>\n    <tr>\n      <th>...</th>\n      <td>...</td>\n      <td>...</td>\n      <td>...</td>\n      <td>...</td>\n      <td>...</td>\n      <td>...</td>\n      <td>...</td>\n    </tr>\n    <tr>\n      <th>478</th>\n      <td>0.0</td>\n      <td>0.0</td>\n      <td>0.0</td>\n      <td>0.625005</td>\n      <td>0.000000</td>\n      <td>0.000000</td>\n      <td>0.000000</td>\n    </tr>\n    <tr>\n      <th>479</th>\n      <td>1.0</td>\n      <td>4.0</td>\n      <td>1.0</td>\n      <td>0.672715</td>\n      <td>0.008403</td>\n      <td>0.008403</td>\n      <td>0.033613</td>\n    </tr>\n    <tr>\n      <th>480</th>\n      <td>3.0</td>\n      <td>5.0</td>\n      <td>0.0</td>\n      <td>0.517897</td>\n      <td>0.000000</td>\n      <td>0.025210</td>\n      <td>0.042017</td>\n    </tr>\n    <tr>\n      <th>481</th>\n      <td>0.0</td>\n      <td>0.0</td>\n      <td>0.0</td>\n      <td>0.795417</td>\n      <td>0.000000</td>\n      <td>0.000000</td>\n      <td>0.000000</td>\n    </tr>\n    <tr>\n      <th>482</th>\n      <td>1.0</td>\n      <td>1.0</td>\n      <td>0.0</td>\n      <td>0.596998</td>\n      <td>0.000000</td>\n      <td>0.008403</td>\n      <td>0.008403</td>\n    </tr>\n  </tbody>\n</table>\n<p>433 rows × 7 columns</p>\n</div>"
     },
     "execution_count": 45,
     "metadata": {},
     "output_type": "execute_result"
    }
   ],
   "source": [
    "ji_combine_two_normalize = jiRawData.copy()\n",
    "\n",
    "all_counts = np.concatenate((ji_combine_two_normalize['ticicount'], ji_combine_two_normalize['xucount'],ji_combine_two_normalize['bacount']))\n",
    "\n",
    "min_val = all_counts.min()\n",
    "max_val = all_counts.max()\n",
    "ji_combine_two_normalize['normalized_bacount'] = (ji_combine_two_normalize['bacount'] - min_val) / (max_val - min_val)\n",
    "ji_combine_two_normalize['normalized_ticicount'] = (ji_combine_two_normalize['ticicount'] - min_val) / (max_val - min_val)\n",
    "ji_combine_two_normalize['normalized_xucount'] = (ji_combine_two_normalize['xucount'] - min_val) / (max_val - min_val)\n",
    "\n",
    "\n",
    "# 收录的作品数单独归一化\n",
    "if ji_combine_two_normalize['includedcount'].dtype in ['float64', 'int64']:  # 检查数据类型是否为数值类型\n",
    "    max_val = ji_combine_two_normalize['includedcount'].max()\n",
    "    if max_val > 0:\n",
    "        ji_combine_two_normalize['includedcount'] = np.log10(ji_combine_two_normalize['includedcount'] + 1) / np.log10(max_val + 1)\n",
    "\n",
    "ji_combine_two_normalize"
   ],
   "metadata": {
    "collapsed": false,
    "ExecuteTime": {
     "end_time": "2024-11-04T08:04:47.385985Z",
     "start_time": "2024-11-04T08:04:47.380373Z"
    }
   },
   "id": "3cc5b8bc224c2eaa",
   "execution_count": 45
  },
  {
   "cell_type": "markdown",
   "source": [
    "## 1.6 重要性计算"
   ],
   "metadata": {
    "collapsed": false
   },
   "id": "1bf0b111f4e2daf0"
  },
  {
   "cell_type": "markdown",
   "source": [
    "### 1.6.1 权重设置"
   ],
   "metadata": {
    "collapsed": false
   },
   "id": "40165b008efdd3d9"
  },
  {
   "cell_type": "code",
   "outputs": [],
   "source": [
    "xuweight = 0.25\n",
    "baweight = 0.25\n",
    "ticiweight = 0.25\n",
    "includedweight = 0.25"
   ],
   "metadata": {
    "collapsed": false,
    "ExecuteTime": {
     "end_time": "2024-11-04T08:04:49.095432Z",
     "start_time": "2024-11-04T08:04:49.093457Z"
    }
   },
   "id": "f2fadb323e672dd0",
   "execution_count": 46
  },
  {
   "cell_type": "markdown",
   "source": [
    "### 1.6.2 Min-Max归一化的结果计算"
   ],
   "metadata": {
    "collapsed": false
   },
   "id": "e42189a4e1aa7435"
  },
  {
   "cell_type": "code",
   "outputs": [
    {
     "data": {
      "text/plain": "        ticicount    xucount  bacount  includedcount  totalWeight\nworkID                                                           \n9        0.000000  17.647059     20.0      19.428571    14.268908\n10       1.680672  11.764706      0.0       7.960591     5.351492\n11       0.000000  17.647059      0.0       2.699507     5.086642\n12       0.840336  29.411765     20.0       2.482759    13.183715\n13       0.000000   5.882353      0.0       4.965517     2.711968\n...           ...        ...      ...            ...          ...\n478      0.000000   0.000000      0.0       4.059113     1.014778\n479      0.840336  23.529412     20.0       6.108374    12.619531\n480      2.521008  29.411765      0.0       1.615764     8.387134\n481      0.000000   0.000000      0.0      17.438424     4.359606\n482      0.840336   5.882353      0.0       3.192118     2.478702\n\n[433 rows x 5 columns]",
      "text/html": "<div>\n<style scoped>\n    .dataframe tbody tr th:only-of-type {\n        vertical-align: middle;\n    }\n\n    .dataframe tbody tr th {\n        vertical-align: top;\n    }\n\n    .dataframe thead th {\n        text-align: right;\n    }\n</style>\n<table border=\"1\" class=\"dataframe\">\n  <thead>\n    <tr style=\"text-align: right;\">\n      <th></th>\n      <th>ticicount</th>\n      <th>xucount</th>\n      <th>bacount</th>\n      <th>includedcount</th>\n      <th>totalWeight</th>\n    </tr>\n    <tr>\n      <th>workID</th>\n      <th></th>\n      <th></th>\n      <th></th>\n      <th></th>\n      <th></th>\n    </tr>\n  </thead>\n  <tbody>\n    <tr>\n      <th>9</th>\n      <td>0.000000</td>\n      <td>17.647059</td>\n      <td>20.0</td>\n      <td>19.428571</td>\n      <td>14.268908</td>\n    </tr>\n    <tr>\n      <th>10</th>\n      <td>1.680672</td>\n      <td>11.764706</td>\n      <td>0.0</td>\n      <td>7.960591</td>\n      <td>5.351492</td>\n    </tr>\n    <tr>\n      <th>11</th>\n      <td>0.000000</td>\n      <td>17.647059</td>\n      <td>0.0</td>\n      <td>2.699507</td>\n      <td>5.086642</td>\n    </tr>\n    <tr>\n      <th>12</th>\n      <td>0.840336</td>\n      <td>29.411765</td>\n      <td>20.0</td>\n      <td>2.482759</td>\n      <td>13.183715</td>\n    </tr>\n    <tr>\n      <th>13</th>\n      <td>0.000000</td>\n      <td>5.882353</td>\n      <td>0.0</td>\n      <td>4.965517</td>\n      <td>2.711968</td>\n    </tr>\n    <tr>\n      <th>...</th>\n      <td>...</td>\n      <td>...</td>\n      <td>...</td>\n      <td>...</td>\n      <td>...</td>\n    </tr>\n    <tr>\n      <th>478</th>\n      <td>0.000000</td>\n      <td>0.000000</td>\n      <td>0.0</td>\n      <td>4.059113</td>\n      <td>1.014778</td>\n    </tr>\n    <tr>\n      <th>479</th>\n      <td>0.840336</td>\n      <td>23.529412</td>\n      <td>20.0</td>\n      <td>6.108374</td>\n      <td>12.619531</td>\n    </tr>\n    <tr>\n      <th>480</th>\n      <td>2.521008</td>\n      <td>29.411765</td>\n      <td>0.0</td>\n      <td>1.615764</td>\n      <td>8.387134</td>\n    </tr>\n    <tr>\n      <th>481</th>\n      <td>0.000000</td>\n      <td>0.000000</td>\n      <td>0.0</td>\n      <td>17.438424</td>\n      <td>4.359606</td>\n    </tr>\n    <tr>\n      <th>482</th>\n      <td>0.840336</td>\n      <td>5.882353</td>\n      <td>0.0</td>\n      <td>3.192118</td>\n      <td>2.478702</td>\n    </tr>\n  </tbody>\n</table>\n<p>433 rows × 5 columns</p>\n</div>"
     },
     "execution_count": 47,
     "metadata": {},
     "output_type": "execute_result"
    }
   ],
   "source": [
    "ji_min_max = ji_min_max_normalize.copy()\n",
    "ji_min_max['totalWeight'] = xuweight*ji_min_max['xucount'] + baweight*ji_min_max['bacount'] + ticiweight*ji_min_max['ticicount'] + includedweight*ji_min_max['includedcount']\n",
    "ji_min_max"
   ],
   "metadata": {
    "collapsed": false,
    "ExecuteTime": {
     "end_time": "2024-11-04T08:04:50.333493Z",
     "start_time": "2024-11-04T08:04:50.325431Z"
    }
   },
   "id": "16ead7506b7c2308",
   "execution_count": 47
  },
  {
   "cell_type": "markdown",
   "source": [
    "### 1.6.3 对数归一化的结果计算"
   ],
   "metadata": {
    "collapsed": false
   },
   "id": "917c517e40612ec5"
  },
  {
   "cell_type": "code",
   "outputs": [
    {
     "data": {
      "text/plain": "        ticicount   xucount   bacount  includedcount  totalWeight\nworkID                                                           \n9        0.000000  0.479625  0.386853       0.808069     0.418637\n10       0.229476  0.380094  0.000000       0.703667     0.328309\n11       0.000000  0.479625  0.000000       0.577484     0.264277\n12       0.144783  0.619906  0.386853       0.567748     0.429823\n13       0.000000  0.239812  0.000000       0.648524     0.222084\n...           ...       ...       ...            ...          ...\n478      0.000000  0.000000  0.000000       0.625005     0.156251\n479      0.144783  0.556827  0.386853       0.672715     0.440295\n480      0.289566  0.619906  0.000000       0.517897     0.356842\n481      0.000000  0.000000  0.000000       0.795417     0.198854\n482      0.144783  0.239812  0.000000       0.596998     0.245398\n\n[433 rows x 5 columns]",
      "text/html": "<div>\n<style scoped>\n    .dataframe tbody tr th:only-of-type {\n        vertical-align: middle;\n    }\n\n    .dataframe tbody tr th {\n        vertical-align: top;\n    }\n\n    .dataframe thead th {\n        text-align: right;\n    }\n</style>\n<table border=\"1\" class=\"dataframe\">\n  <thead>\n    <tr style=\"text-align: right;\">\n      <th></th>\n      <th>ticicount</th>\n      <th>xucount</th>\n      <th>bacount</th>\n      <th>includedcount</th>\n      <th>totalWeight</th>\n    </tr>\n    <tr>\n      <th>workID</th>\n      <th></th>\n      <th></th>\n      <th></th>\n      <th></th>\n      <th></th>\n    </tr>\n  </thead>\n  <tbody>\n    <tr>\n      <th>9</th>\n      <td>0.000000</td>\n      <td>0.479625</td>\n      <td>0.386853</td>\n      <td>0.808069</td>\n      <td>0.418637</td>\n    </tr>\n    <tr>\n      <th>10</th>\n      <td>0.229476</td>\n      <td>0.380094</td>\n      <td>0.000000</td>\n      <td>0.703667</td>\n      <td>0.328309</td>\n    </tr>\n    <tr>\n      <th>11</th>\n      <td>0.000000</td>\n      <td>0.479625</td>\n      <td>0.000000</td>\n      <td>0.577484</td>\n      <td>0.264277</td>\n    </tr>\n    <tr>\n      <th>12</th>\n      <td>0.144783</td>\n      <td>0.619906</td>\n      <td>0.386853</td>\n      <td>0.567748</td>\n      <td>0.429823</td>\n    </tr>\n    <tr>\n      <th>13</th>\n      <td>0.000000</td>\n      <td>0.239812</td>\n      <td>0.000000</td>\n      <td>0.648524</td>\n      <td>0.222084</td>\n    </tr>\n    <tr>\n      <th>...</th>\n      <td>...</td>\n      <td>...</td>\n      <td>...</td>\n      <td>...</td>\n      <td>...</td>\n    </tr>\n    <tr>\n      <th>478</th>\n      <td>0.000000</td>\n      <td>0.000000</td>\n      <td>0.000000</td>\n      <td>0.625005</td>\n      <td>0.156251</td>\n    </tr>\n    <tr>\n      <th>479</th>\n      <td>0.144783</td>\n      <td>0.556827</td>\n      <td>0.386853</td>\n      <td>0.672715</td>\n      <td>0.440295</td>\n    </tr>\n    <tr>\n      <th>480</th>\n      <td>0.289566</td>\n      <td>0.619906</td>\n      <td>0.000000</td>\n      <td>0.517897</td>\n      <td>0.356842</td>\n    </tr>\n    <tr>\n      <th>481</th>\n      <td>0.000000</td>\n      <td>0.000000</td>\n      <td>0.000000</td>\n      <td>0.795417</td>\n      <td>0.198854</td>\n    </tr>\n    <tr>\n      <th>482</th>\n      <td>0.144783</td>\n      <td>0.239812</td>\n      <td>0.000000</td>\n      <td>0.596998</td>\n      <td>0.245398</td>\n    </tr>\n  </tbody>\n</table>\n<p>433 rows × 5 columns</p>\n</div>"
     },
     "execution_count": 48,
     "metadata": {},
     "output_type": "execute_result"
    }
   ],
   "source": [
    "ji_log = ji_log_normalize.copy()\n",
    "\n",
    "ji_log['totalWeight'] = xuweight*ji_log['xucount'] + baweight*ji_log['bacount'] + ticiweight*ji_log['ticicount'] + includedweight*ji_log['includedcount']\n",
    "ji_log"
   ],
   "metadata": {
    "collapsed": false,
    "ExecuteTime": {
     "end_time": "2024-11-04T08:04:51.958098Z",
     "start_time": "2024-11-04T08:04:51.951855Z"
    }
   },
   "id": "d7bbeb37ef4e177f",
   "execution_count": 48
  },
  {
   "cell_type": "markdown",
   "source": [
    "\n",
    "### 1.6.4 合并后的归一化结果计算"
   ],
   "metadata": {
    "collapsed": false
   },
   "id": "cd2c2f61243d1ad5"
  },
  {
   "cell_type": "markdown",
   "source": [
    "#### 1.6.4.1 min-max(best)"
   ],
   "metadata": {
    "collapsed": false
   },
   "id": "4546428c1c51b45a"
  },
  {
   "cell_type": "code",
   "outputs": [
    {
     "data": {
      "text/plain": "        ticicount  xucount  bacount  includedcount  normalized_bacount  \\\nworkID                                                                   \n9             0.0      3.0      1.0       0.194286            0.008403   \n10            2.0      2.0      0.0       0.079606            0.000000   \n11            0.0      3.0      0.0       0.026995            0.000000   \n12            1.0      5.0      1.0       0.024828            0.008403   \n13            0.0      1.0      0.0       0.049655            0.000000   \n...           ...      ...      ...            ...                 ...   \n478           0.0      0.0      0.0       0.040591            0.000000   \n479           1.0      4.0      1.0       0.061084            0.008403   \n480           3.0      5.0      0.0       0.016158            0.000000   \n481           0.0      0.0      0.0       0.174384            0.000000   \n482           1.0      1.0      0.0       0.031921            0.000000   \n\n        normalized_ticicount  normalized_xucount  totalWeight  \nworkID                                                         \n9                   0.000000            0.025210     0.056975  \n10                  0.016807            0.016807     0.028305  \n11                  0.000000            0.025210     0.013051  \n12                  0.008403            0.042017     0.020913  \n13                  0.000000            0.008403     0.014515  \n...                      ...                 ...          ...  \n478                 0.000000            0.000000     0.010148  \n479                 0.008403            0.033613     0.027876  \n480                 0.025210            0.042017     0.020846  \n481                 0.000000            0.000000     0.043596  \n482                 0.008403            0.008403     0.012182  \n\n[433 rows x 8 columns]",
      "text/html": "<div>\n<style scoped>\n    .dataframe tbody tr th:only-of-type {\n        vertical-align: middle;\n    }\n\n    .dataframe tbody tr th {\n        vertical-align: top;\n    }\n\n    .dataframe thead th {\n        text-align: right;\n    }\n</style>\n<table border=\"1\" class=\"dataframe\">\n  <thead>\n    <tr style=\"text-align: right;\">\n      <th></th>\n      <th>ticicount</th>\n      <th>xucount</th>\n      <th>bacount</th>\n      <th>includedcount</th>\n      <th>normalized_bacount</th>\n      <th>normalized_ticicount</th>\n      <th>normalized_xucount</th>\n      <th>totalWeight</th>\n    </tr>\n    <tr>\n      <th>workID</th>\n      <th></th>\n      <th></th>\n      <th></th>\n      <th></th>\n      <th></th>\n      <th></th>\n      <th></th>\n      <th></th>\n    </tr>\n  </thead>\n  <tbody>\n    <tr>\n      <th>9</th>\n      <td>0.0</td>\n      <td>3.0</td>\n      <td>1.0</td>\n      <td>0.194286</td>\n      <td>0.008403</td>\n      <td>0.000000</td>\n      <td>0.025210</td>\n      <td>0.056975</td>\n    </tr>\n    <tr>\n      <th>10</th>\n      <td>2.0</td>\n      <td>2.0</td>\n      <td>0.0</td>\n      <td>0.079606</td>\n      <td>0.000000</td>\n      <td>0.016807</td>\n      <td>0.016807</td>\n      <td>0.028305</td>\n    </tr>\n    <tr>\n      <th>11</th>\n      <td>0.0</td>\n      <td>3.0</td>\n      <td>0.0</td>\n      <td>0.026995</td>\n      <td>0.000000</td>\n      <td>0.000000</td>\n      <td>0.025210</td>\n      <td>0.013051</td>\n    </tr>\n    <tr>\n      <th>12</th>\n      <td>1.0</td>\n      <td>5.0</td>\n      <td>1.0</td>\n      <td>0.024828</td>\n      <td>0.008403</td>\n      <td>0.008403</td>\n      <td>0.042017</td>\n      <td>0.020913</td>\n    </tr>\n    <tr>\n      <th>13</th>\n      <td>0.0</td>\n      <td>1.0</td>\n      <td>0.0</td>\n      <td>0.049655</td>\n      <td>0.000000</td>\n      <td>0.000000</td>\n      <td>0.008403</td>\n      <td>0.014515</td>\n    </tr>\n    <tr>\n      <th>...</th>\n      <td>...</td>\n      <td>...</td>\n      <td>...</td>\n      <td>...</td>\n      <td>...</td>\n      <td>...</td>\n      <td>...</td>\n      <td>...</td>\n    </tr>\n    <tr>\n      <th>478</th>\n      <td>0.0</td>\n      <td>0.0</td>\n      <td>0.0</td>\n      <td>0.040591</td>\n      <td>0.000000</td>\n      <td>0.000000</td>\n      <td>0.000000</td>\n      <td>0.010148</td>\n    </tr>\n    <tr>\n      <th>479</th>\n      <td>1.0</td>\n      <td>4.0</td>\n      <td>1.0</td>\n      <td>0.061084</td>\n      <td>0.008403</td>\n      <td>0.008403</td>\n      <td>0.033613</td>\n      <td>0.027876</td>\n    </tr>\n    <tr>\n      <th>480</th>\n      <td>3.0</td>\n      <td>5.0</td>\n      <td>0.0</td>\n      <td>0.016158</td>\n      <td>0.000000</td>\n      <td>0.025210</td>\n      <td>0.042017</td>\n      <td>0.020846</td>\n    </tr>\n    <tr>\n      <th>481</th>\n      <td>0.0</td>\n      <td>0.0</td>\n      <td>0.0</td>\n      <td>0.174384</td>\n      <td>0.000000</td>\n      <td>0.000000</td>\n      <td>0.000000</td>\n      <td>0.043596</td>\n    </tr>\n    <tr>\n      <th>482</th>\n      <td>1.0</td>\n      <td>1.0</td>\n      <td>0.0</td>\n      <td>0.031921</td>\n      <td>0.000000</td>\n      <td>0.008403</td>\n      <td>0.008403</td>\n      <td>0.012182</td>\n    </tr>\n  </tbody>\n</table>\n<p>433 rows × 8 columns</p>\n</div>"
     },
     "execution_count": 18,
     "metadata": {},
     "output_type": "execute_result"
    }
   ],
   "source": [
    "ji_combine = ji_combine_normalize.copy()\n",
    "\n",
    "ji_combine['totalWeight'] = xuweight*ji_combine['normalized_xucount'] + baweight*ji_combine['normalized_bacount'] + ticiweight*ji_combine['normalized_ticicount'] + includedweight*ji_combine['includedcount']\n",
    "ji_combine"
   ],
   "metadata": {
    "collapsed": false,
    "ExecuteTime": {
     "end_time": "2024-11-04T07:16:13.741032Z",
     "start_time": "2024-11-04T07:16:13.733795Z"
    }
   },
   "id": "807dde4be97858ce",
   "execution_count": 18
  },
  {
   "cell_type": "markdown",
   "source": [
    "#### 1.6.4.2 对数归一化结果计算"
   ],
   "metadata": {
    "collapsed": false
   },
   "id": "d3d3354c62df9205"
  },
  {
   "cell_type": "code",
   "outputs": [
    {
     "data": {
      "text/plain": "        ticicount  xucount  bacount  includedcount  normalized_bacount  \\\nworkID                                                                   \n9             0.0      3.0      1.0       0.808069            0.144783   \n10            2.0      2.0      0.0       0.703667            0.000000   \n11            0.0      3.0      0.0       0.577484            0.000000   \n12            1.0      5.0      1.0       0.567748            0.144783   \n13            0.0      1.0      0.0       0.648524            0.000000   \n...           ...      ...      ...            ...                 ...   \n478           0.0      0.0      0.0       0.625005            0.000000   \n479           1.0      4.0      1.0       0.672715            0.144783   \n480           3.0      5.0      0.0       0.517897            0.000000   \n481           0.0      0.0      0.0       0.795417            0.000000   \n482           1.0      1.0      0.0       0.596998            0.000000   \n\n        normalized_ticicount  normalized_xucount  totalWeight  \nworkID                                                         \n9                   0.000000            0.289566     0.310604  \n10                  0.229476            0.229476     0.290655  \n11                  0.000000            0.289566     0.216762  \n12                  0.144783            0.374258     0.307893  \n13                  0.000000            0.144783     0.198327  \n...                      ...                 ...          ...  \n478                 0.000000            0.000000     0.156251  \n479                 0.144783            0.336176     0.324614  \n480                 0.289566            0.374258     0.295430  \n481                 0.000000            0.000000     0.198854  \n482                 0.144783            0.144783     0.221641  \n\n[433 rows x 8 columns]",
      "text/html": "<div>\n<style scoped>\n    .dataframe tbody tr th:only-of-type {\n        vertical-align: middle;\n    }\n\n    .dataframe tbody tr th {\n        vertical-align: top;\n    }\n\n    .dataframe thead th {\n        text-align: right;\n    }\n</style>\n<table border=\"1\" class=\"dataframe\">\n  <thead>\n    <tr style=\"text-align: right;\">\n      <th></th>\n      <th>ticicount</th>\n      <th>xucount</th>\n      <th>bacount</th>\n      <th>includedcount</th>\n      <th>normalized_bacount</th>\n      <th>normalized_ticicount</th>\n      <th>normalized_xucount</th>\n      <th>totalWeight</th>\n    </tr>\n    <tr>\n      <th>workID</th>\n      <th></th>\n      <th></th>\n      <th></th>\n      <th></th>\n      <th></th>\n      <th></th>\n      <th></th>\n      <th></th>\n    </tr>\n  </thead>\n  <tbody>\n    <tr>\n      <th>9</th>\n      <td>0.0</td>\n      <td>3.0</td>\n      <td>1.0</td>\n      <td>0.808069</td>\n      <td>0.144783</td>\n      <td>0.000000</td>\n      <td>0.289566</td>\n      <td>0.310604</td>\n    </tr>\n    <tr>\n      <th>10</th>\n      <td>2.0</td>\n      <td>2.0</td>\n      <td>0.0</td>\n      <td>0.703667</td>\n      <td>0.000000</td>\n      <td>0.229476</td>\n      <td>0.229476</td>\n      <td>0.290655</td>\n    </tr>\n    <tr>\n      <th>11</th>\n      <td>0.0</td>\n      <td>3.0</td>\n      <td>0.0</td>\n      <td>0.577484</td>\n      <td>0.000000</td>\n      <td>0.000000</td>\n      <td>0.289566</td>\n      <td>0.216762</td>\n    </tr>\n    <tr>\n      <th>12</th>\n      <td>1.0</td>\n      <td>5.0</td>\n      <td>1.0</td>\n      <td>0.567748</td>\n      <td>0.144783</td>\n      <td>0.144783</td>\n      <td>0.374258</td>\n      <td>0.307893</td>\n    </tr>\n    <tr>\n      <th>13</th>\n      <td>0.0</td>\n      <td>1.0</td>\n      <td>0.0</td>\n      <td>0.648524</td>\n      <td>0.000000</td>\n      <td>0.000000</td>\n      <td>0.144783</td>\n      <td>0.198327</td>\n    </tr>\n    <tr>\n      <th>...</th>\n      <td>...</td>\n      <td>...</td>\n      <td>...</td>\n      <td>...</td>\n      <td>...</td>\n      <td>...</td>\n      <td>...</td>\n      <td>...</td>\n    </tr>\n    <tr>\n      <th>478</th>\n      <td>0.0</td>\n      <td>0.0</td>\n      <td>0.0</td>\n      <td>0.625005</td>\n      <td>0.000000</td>\n      <td>0.000000</td>\n      <td>0.000000</td>\n      <td>0.156251</td>\n    </tr>\n    <tr>\n      <th>479</th>\n      <td>1.0</td>\n      <td>4.0</td>\n      <td>1.0</td>\n      <td>0.672715</td>\n      <td>0.144783</td>\n      <td>0.144783</td>\n      <td>0.336176</td>\n      <td>0.324614</td>\n    </tr>\n    <tr>\n      <th>480</th>\n      <td>3.0</td>\n      <td>5.0</td>\n      <td>0.0</td>\n      <td>0.517897</td>\n      <td>0.000000</td>\n      <td>0.289566</td>\n      <td>0.374258</td>\n      <td>0.295430</td>\n    </tr>\n    <tr>\n      <th>481</th>\n      <td>0.0</td>\n      <td>0.0</td>\n      <td>0.0</td>\n      <td>0.795417</td>\n      <td>0.000000</td>\n      <td>0.000000</td>\n      <td>0.000000</td>\n      <td>0.198854</td>\n    </tr>\n    <tr>\n      <th>482</th>\n      <td>1.0</td>\n      <td>1.0</td>\n      <td>0.0</td>\n      <td>0.596998</td>\n      <td>0.000000</td>\n      <td>0.144783</td>\n      <td>0.144783</td>\n      <td>0.221641</td>\n    </tr>\n  </tbody>\n</table>\n<p>433 rows × 8 columns</p>\n</div>"
     },
     "execution_count": 19,
     "metadata": {},
     "output_type": "execute_result"
    }
   ],
   "source": [
    "ji_combine_log = ji_combine_log_normalize.copy()\n",
    "\n",
    "ji_combine_log['totalWeight'] = xuweight*ji_combine_log['normalized_xucount'] + baweight*ji_combine_log['normalized_bacount'] + ticiweight*ji_combine_log['normalized_ticicount'] + includedweight*ji_combine_log['includedcount']\n",
    "ji_combine_log"
   ],
   "metadata": {
    "collapsed": false,
    "ExecuteTime": {
     "end_time": "2024-11-04T07:16:14.124585Z",
     "start_time": "2024-11-04T07:16:14.097506Z"
    }
   },
   "id": "320268d4a5584bb4",
   "execution_count": 19
  },
  {
   "cell_type": "markdown",
   "source": [
    "### 把集的册书也考虑进来呢"
   ],
   "metadata": {
    "collapsed": false
   },
   "id": "cadadfb574b792a6"
  },
  {
   "cell_type": "code",
   "outputs": [
    {
     "data": {
      "text/plain": "        NumberCe\nworkID          \n460         24.0\n61          20.0\n195         20.0\n88          18.0\n193         16.0\n...          ...\n211          NaN\n274          NaN\n344          NaN\n363          NaN\n469          NaN\n\n[431 rows x 1 columns]",
      "text/html": "<div>\n<style scoped>\n    .dataframe tbody tr th:only-of-type {\n        vertical-align: middle;\n    }\n\n    .dataframe tbody tr th {\n        vertical-align: top;\n    }\n\n    .dataframe thead th {\n        text-align: right;\n    }\n</style>\n<table border=\"1\" class=\"dataframe\">\n  <thead>\n    <tr style=\"text-align: right;\">\n      <th></th>\n      <th>NumberCe</th>\n    </tr>\n    <tr>\n      <th>workID</th>\n      <th></th>\n    </tr>\n  </thead>\n  <tbody>\n    <tr>\n      <th>460</th>\n      <td>24.0</td>\n    </tr>\n    <tr>\n      <th>61</th>\n      <td>20.0</td>\n    </tr>\n    <tr>\n      <th>195</th>\n      <td>20.0</td>\n    </tr>\n    <tr>\n      <th>88</th>\n      <td>18.0</td>\n    </tr>\n    <tr>\n      <th>193</th>\n      <td>16.0</td>\n    </tr>\n    <tr>\n      <th>...</th>\n      <td>...</td>\n    </tr>\n    <tr>\n      <th>211</th>\n      <td>NaN</td>\n    </tr>\n    <tr>\n      <th>274</th>\n      <td>NaN</td>\n    </tr>\n    <tr>\n      <th>344</th>\n      <td>NaN</td>\n    </tr>\n    <tr>\n      <th>363</th>\n      <td>NaN</td>\n    </tr>\n    <tr>\n      <th>469</th>\n      <td>NaN</td>\n    </tr>\n  </tbody>\n</table>\n<p>431 rows × 1 columns</p>\n</div>"
     },
     "execution_count": 20,
     "metadata": {},
     "output_type": "execute_result"
    }
   ],
   "source": [
    "workCeSQL = '''\n",
    "SELECT workID, NumberCe\n",
    "FROM work \n",
    "ORDER BY NumberCe DESC\n",
    "'''\n",
    "workCe = duckdb.query(workCeSQL).df()\n",
    "workCe.set_index('workID', inplace=True)\n",
    "\n",
    "workCe"
   ],
   "metadata": {
    "collapsed": false,
    "ExecuteTime": {
     "end_time": "2024-11-04T07:16:14.668682Z",
     "start_time": "2024-11-04T07:16:14.660921Z"
    }
   },
   "id": "4408da07e674c18b",
   "execution_count": 20
  },
  {
   "cell_type": "code",
   "outputs": [
    {
     "data": {
      "text/plain": "        ticicount  xucount  bacount  includedcount  NumberCe\nworkID                                                      \n9             0.0      3.0      1.0          986.0       6.0\n10            2.0      2.0      0.0          404.0       4.0\n11            0.0      3.0      0.0          137.0       3.0\n12            1.0      5.0      1.0          126.0       2.0\n13            0.0      1.0      0.0          252.0       2.0\n...           ...      ...      ...            ...       ...\n478           0.0      0.0      0.0          206.0       1.0\n479           1.0      4.0      1.0          310.0       1.0\n480           3.0      5.0      0.0           82.0       1.0\n481           0.0      0.0      0.0          885.0       2.0\n482           1.0      1.0      0.0          162.0       2.0\n\n[433 rows x 5 columns]",
      "text/html": "<div>\n<style scoped>\n    .dataframe tbody tr th:only-of-type {\n        vertical-align: middle;\n    }\n\n    .dataframe tbody tr th {\n        vertical-align: top;\n    }\n\n    .dataframe thead th {\n        text-align: right;\n    }\n</style>\n<table border=\"1\" class=\"dataframe\">\n  <thead>\n    <tr style=\"text-align: right;\">\n      <th></th>\n      <th>ticicount</th>\n      <th>xucount</th>\n      <th>bacount</th>\n      <th>includedcount</th>\n      <th>NumberCe</th>\n    </tr>\n    <tr>\n      <th>workID</th>\n      <th></th>\n      <th></th>\n      <th></th>\n      <th></th>\n      <th></th>\n    </tr>\n  </thead>\n  <tbody>\n    <tr>\n      <th>9</th>\n      <td>0.0</td>\n      <td>3.0</td>\n      <td>1.0</td>\n      <td>986.0</td>\n      <td>6.0</td>\n    </tr>\n    <tr>\n      <th>10</th>\n      <td>2.0</td>\n      <td>2.0</td>\n      <td>0.0</td>\n      <td>404.0</td>\n      <td>4.0</td>\n    </tr>\n    <tr>\n      <th>11</th>\n      <td>0.0</td>\n      <td>3.0</td>\n      <td>0.0</td>\n      <td>137.0</td>\n      <td>3.0</td>\n    </tr>\n    <tr>\n      <th>12</th>\n      <td>1.0</td>\n      <td>5.0</td>\n      <td>1.0</td>\n      <td>126.0</td>\n      <td>2.0</td>\n    </tr>\n    <tr>\n      <th>13</th>\n      <td>0.0</td>\n      <td>1.0</td>\n      <td>0.0</td>\n      <td>252.0</td>\n      <td>2.0</td>\n    </tr>\n    <tr>\n      <th>...</th>\n      <td>...</td>\n      <td>...</td>\n      <td>...</td>\n      <td>...</td>\n      <td>...</td>\n    </tr>\n    <tr>\n      <th>478</th>\n      <td>0.0</td>\n      <td>0.0</td>\n      <td>0.0</td>\n      <td>206.0</td>\n      <td>1.0</td>\n    </tr>\n    <tr>\n      <th>479</th>\n      <td>1.0</td>\n      <td>4.0</td>\n      <td>1.0</td>\n      <td>310.0</td>\n      <td>1.0</td>\n    </tr>\n    <tr>\n      <th>480</th>\n      <td>3.0</td>\n      <td>5.0</td>\n      <td>0.0</td>\n      <td>82.0</td>\n      <td>1.0</td>\n    </tr>\n    <tr>\n      <th>481</th>\n      <td>0.0</td>\n      <td>0.0</td>\n      <td>0.0</td>\n      <td>885.0</td>\n      <td>2.0</td>\n    </tr>\n    <tr>\n      <th>482</th>\n      <td>1.0</td>\n      <td>1.0</td>\n      <td>0.0</td>\n      <td>162.0</td>\n      <td>2.0</td>\n    </tr>\n  </tbody>\n</table>\n<p>433 rows × 5 columns</p>\n</div>"
     },
     "execution_count": 21,
     "metadata": {},
     "output_type": "execute_result"
    }
   ],
   "source": [
    "jiRawDataWithCe = reduce(lambda left, right: pd.merge(left, right, on='workID', how='outer'), [jiRawData,workCe]).fillna(0)\n",
    "jiRawDataWithCe"
   ],
   "metadata": {
    "collapsed": false,
    "ExecuteTime": {
     "end_time": "2024-11-04T07:16:14.833135Z",
     "start_time": "2024-11-04T07:16:14.824201Z"
    }
   },
   "id": "d3c828b8f1718693",
   "execution_count": 21
  },
  {
   "cell_type": "code",
   "outputs": [
    {
     "data": {
      "text/plain": "        ticicount   xucount   bacount  includedcount  NumberCe\nworkID                                                        \n9        0.000000  1.386294  0.693147       6.894670  1.945910\n10       1.098612  1.098612  0.000000       6.003887  1.609438\n11       0.000000  1.386294  0.000000       4.927254  1.386294\n12       0.693147  1.791759  0.693147       4.844187  1.098612\n13       0.000000  0.693147  0.000000       5.533389  1.098612\n...           ...       ...       ...            ...       ...\n478      0.000000  0.000000  0.000000       5.332719  0.693147\n479      0.693147  1.609438  0.693147       5.739793  0.693147\n480      1.386294  1.791759  0.000000       4.418841  0.693147\n481      0.000000  0.000000  0.000000       6.786717  1.098612\n482      0.693147  0.693147  0.000000       5.093750  1.098612\n\n[433 rows x 5 columns]",
      "text/html": "<div>\n<style scoped>\n    .dataframe tbody tr th:only-of-type {\n        vertical-align: middle;\n    }\n\n    .dataframe tbody tr th {\n        vertical-align: top;\n    }\n\n    .dataframe thead th {\n        text-align: right;\n    }\n</style>\n<table border=\"1\" class=\"dataframe\">\n  <thead>\n    <tr style=\"text-align: right;\">\n      <th></th>\n      <th>ticicount</th>\n      <th>xucount</th>\n      <th>bacount</th>\n      <th>includedcount</th>\n      <th>NumberCe</th>\n    </tr>\n    <tr>\n      <th>workID</th>\n      <th></th>\n      <th></th>\n      <th></th>\n      <th></th>\n      <th></th>\n    </tr>\n  </thead>\n  <tbody>\n    <tr>\n      <th>9</th>\n      <td>0.000000</td>\n      <td>1.386294</td>\n      <td>0.693147</td>\n      <td>6.894670</td>\n      <td>1.945910</td>\n    </tr>\n    <tr>\n      <th>10</th>\n      <td>1.098612</td>\n      <td>1.098612</td>\n      <td>0.000000</td>\n      <td>6.003887</td>\n      <td>1.609438</td>\n    </tr>\n    <tr>\n      <th>11</th>\n      <td>0.000000</td>\n      <td>1.386294</td>\n      <td>0.000000</td>\n      <td>4.927254</td>\n      <td>1.386294</td>\n    </tr>\n    <tr>\n      <th>12</th>\n      <td>0.693147</td>\n      <td>1.791759</td>\n      <td>0.693147</td>\n      <td>4.844187</td>\n      <td>1.098612</td>\n    </tr>\n    <tr>\n      <th>13</th>\n      <td>0.000000</td>\n      <td>0.693147</td>\n      <td>0.000000</td>\n      <td>5.533389</td>\n      <td>1.098612</td>\n    </tr>\n    <tr>\n      <th>...</th>\n      <td>...</td>\n      <td>...</td>\n      <td>...</td>\n      <td>...</td>\n      <td>...</td>\n    </tr>\n    <tr>\n      <th>478</th>\n      <td>0.000000</td>\n      <td>0.000000</td>\n      <td>0.000000</td>\n      <td>5.332719</td>\n      <td>0.693147</td>\n    </tr>\n    <tr>\n      <th>479</th>\n      <td>0.693147</td>\n      <td>1.609438</td>\n      <td>0.693147</td>\n      <td>5.739793</td>\n      <td>0.693147</td>\n    </tr>\n    <tr>\n      <th>480</th>\n      <td>1.386294</td>\n      <td>1.791759</td>\n      <td>0.000000</td>\n      <td>4.418841</td>\n      <td>0.693147</td>\n    </tr>\n    <tr>\n      <th>481</th>\n      <td>0.000000</td>\n      <td>0.000000</td>\n      <td>0.000000</td>\n      <td>6.786717</td>\n      <td>1.098612</td>\n    </tr>\n    <tr>\n      <th>482</th>\n      <td>0.693147</td>\n      <td>0.693147</td>\n      <td>0.000000</td>\n      <td>5.093750</td>\n      <td>1.098612</td>\n    </tr>\n  </tbody>\n</table>\n<p>433 rows × 5 columns</p>\n</div>"
     },
     "execution_count": 22,
     "metadata": {},
     "output_type": "execute_result"
    }
   ],
   "source": [
    "ji_ce_log_normalize = jiRawDataWithCe.copy()\n",
    "\n",
    "for column in ji_ce_log_normalize.columns:  \n",
    "    if ji_ce_log_normalize[column].dtype in ['float64', 'int64']:\n",
    "        # 对数据加1以避免对0取对数的问题\n",
    "        ji_ce_log_normalize[column] = np.log(ji_ce_log_normalize[column] + 1)\n",
    "\n",
    "ji_ce_log_normalize"
   ],
   "metadata": {
    "collapsed": false,
    "ExecuteTime": {
     "end_time": "2024-11-04T07:16:15.002175Z",
     "start_time": "2024-11-04T07:16:14.995713Z"
    }
   },
   "id": "978f6c96c89c97ba",
   "execution_count": 22
  },
  {
   "cell_type": "code",
   "outputs": [
    {
     "data": {
      "text/plain": "        ticicount   xucount   bacount  includedcount  NumberCe  totalWeight\nworkID                                                                     \n9        0.000000  1.386294  0.693147       6.894670  1.945910     2.184004\n10       1.098612  1.098612  0.000000       6.003887  1.609438     1.962110\n11       0.000000  1.386294  0.000000       4.927254  1.386294     1.539968\n12       0.693147  1.791759  0.693147       4.844187  1.098612     1.824171\n13       0.000000  0.693147  0.000000       5.533389  1.098612     1.465030\n...           ...       ...       ...            ...       ...          ...\n478      0.000000  0.000000  0.000000       5.332719  0.693147     1.205173\n479      0.693147  1.609438  0.693147       5.739793  0.693147     1.885734\n480      1.386294  1.791759  0.000000       4.418841  0.693147     1.658008\n481      0.000000  0.000000  0.000000       6.786717  1.098612     1.577066\n482      0.693147  0.693147  0.000000       5.093750  1.098612     1.515731\n\n[433 rows x 6 columns]",
      "text/html": "<div>\n<style scoped>\n    .dataframe tbody tr th:only-of-type {\n        vertical-align: middle;\n    }\n\n    .dataframe tbody tr th {\n        vertical-align: top;\n    }\n\n    .dataframe thead th {\n        text-align: right;\n    }\n</style>\n<table border=\"1\" class=\"dataframe\">\n  <thead>\n    <tr style=\"text-align: right;\">\n      <th></th>\n      <th>ticicount</th>\n      <th>xucount</th>\n      <th>bacount</th>\n      <th>includedcount</th>\n      <th>NumberCe</th>\n      <th>totalWeight</th>\n    </tr>\n    <tr>\n      <th>workID</th>\n      <th></th>\n      <th></th>\n      <th></th>\n      <th></th>\n      <th></th>\n      <th></th>\n    </tr>\n  </thead>\n  <tbody>\n    <tr>\n      <th>9</th>\n      <td>0.000000</td>\n      <td>1.386294</td>\n      <td>0.693147</td>\n      <td>6.894670</td>\n      <td>1.945910</td>\n      <td>2.184004</td>\n    </tr>\n    <tr>\n      <th>10</th>\n      <td>1.098612</td>\n      <td>1.098612</td>\n      <td>0.000000</td>\n      <td>6.003887</td>\n      <td>1.609438</td>\n      <td>1.962110</td>\n    </tr>\n    <tr>\n      <th>11</th>\n      <td>0.000000</td>\n      <td>1.386294</td>\n      <td>0.000000</td>\n      <td>4.927254</td>\n      <td>1.386294</td>\n      <td>1.539968</td>\n    </tr>\n    <tr>\n      <th>12</th>\n      <td>0.693147</td>\n      <td>1.791759</td>\n      <td>0.693147</td>\n      <td>4.844187</td>\n      <td>1.098612</td>\n      <td>1.824171</td>\n    </tr>\n    <tr>\n      <th>13</th>\n      <td>0.000000</td>\n      <td>0.693147</td>\n      <td>0.000000</td>\n      <td>5.533389</td>\n      <td>1.098612</td>\n      <td>1.465030</td>\n    </tr>\n    <tr>\n      <th>...</th>\n      <td>...</td>\n      <td>...</td>\n      <td>...</td>\n      <td>...</td>\n      <td>...</td>\n      <td>...</td>\n    </tr>\n    <tr>\n      <th>478</th>\n      <td>0.000000</td>\n      <td>0.000000</td>\n      <td>0.000000</td>\n      <td>5.332719</td>\n      <td>0.693147</td>\n      <td>1.205173</td>\n    </tr>\n    <tr>\n      <th>479</th>\n      <td>0.693147</td>\n      <td>1.609438</td>\n      <td>0.693147</td>\n      <td>5.739793</td>\n      <td>0.693147</td>\n      <td>1.885734</td>\n    </tr>\n    <tr>\n      <th>480</th>\n      <td>1.386294</td>\n      <td>1.791759</td>\n      <td>0.000000</td>\n      <td>4.418841</td>\n      <td>0.693147</td>\n      <td>1.658008</td>\n    </tr>\n    <tr>\n      <th>481</th>\n      <td>0.000000</td>\n      <td>0.000000</td>\n      <td>0.000000</td>\n      <td>6.786717</td>\n      <td>1.098612</td>\n      <td>1.577066</td>\n    </tr>\n    <tr>\n      <th>482</th>\n      <td>0.693147</td>\n      <td>0.693147</td>\n      <td>0.000000</td>\n      <td>5.093750</td>\n      <td>1.098612</td>\n      <td>1.515731</td>\n    </tr>\n  </tbody>\n</table>\n<p>433 rows × 6 columns</p>\n</div>"
     },
     "execution_count": 23,
     "metadata": {},
     "output_type": "execute_result"
    }
   ],
   "source": [
    "xuweight1 = 0.2\n",
    "baweight1 = 0.2\n",
    "ticiweight1 = 0.2\n",
    "includedweight1 = 0.2\n",
    "ceWeight = 0.2\n",
    "\n",
    "ji_ce_log = ji_ce_log_normalize.copy()\n",
    "\n",
    "ji_ce_log['totalWeight'] = xuweight1*ji_ce_log['xucount'] + baweight1*ji_ce_log['bacount'] + ticiweight1*ji_ce_log['ticicount'] + includedweight1*ji_ce_log['includedcount'] + ceWeight*ji_ce_log['NumberCe']\n",
    "\n",
    "ji_ce_log"
   ],
   "metadata": {
    "collapsed": false,
    "ExecuteTime": {
     "end_time": "2024-11-04T07:16:15.150715Z",
     "start_time": "2024-11-04T07:16:15.146292Z"
    }
   },
   "id": "435507a5f43c686b",
   "execution_count": 23
  },
  {
   "cell_type": "code",
   "outputs": [],
   "source": [],
   "metadata": {
    "collapsed": false,
    "ExecuteTime": {
     "end_time": "2024-11-04T07:16:15.321862Z",
     "start_time": "2024-11-04T07:16:15.305431Z"
    }
   },
   "id": "a2781ed9f8617fbe",
   "execution_count": 23
  },
  {
   "cell_type": "markdown",
   "source": [
    "# 2. 作者（poet）的Importance：参与制作书的次数（包括被收录和参与编辑）、写像赞的次数、被写像赞的次数、收到唱和诗及书信的次数、被讨论的次数"
   ],
   "metadata": {
    "collapsed": false
   },
   "id": "d8d6fd8cce7a7594"
  },
  {
   "cell_type": "markdown",
   "source": [
    "## 2.1 参与制作书的次数"
   ],
   "metadata": {
    "collapsed": false
   },
   "id": "185d06ed44ff3764"
  },
  {
   "cell_type": "code",
   "outputs": [
    {
     "data": {
      "text/plain": "        participate_count\npoetID                   \n263                    13\n308                     9\n199                     9\n202                     7\n4636                    7\n...                   ...\n6980                    1\n6024                    1\n6042                    1\n8316                    1\n2018                    1\n\n[2770 rows x 1 columns]",
      "text/html": "<div>\n<style scoped>\n    .dataframe tbody tr th:only-of-type {\n        vertical-align: middle;\n    }\n\n    .dataframe tbody tr th {\n        vertical-align: top;\n    }\n\n    .dataframe thead th {\n        text-align: right;\n    }\n</style>\n<table border=\"1\" class=\"dataframe\">\n  <thead>\n    <tr style=\"text-align: right;\">\n      <th></th>\n      <th>participate_count</th>\n    </tr>\n    <tr>\n      <th>poetID</th>\n      <th></th>\n    </tr>\n  </thead>\n  <tbody>\n    <tr>\n      <th>263</th>\n      <td>13</td>\n    </tr>\n    <tr>\n      <th>308</th>\n      <td>9</td>\n    </tr>\n    <tr>\n      <th>199</th>\n      <td>9</td>\n    </tr>\n    <tr>\n      <th>202</th>\n      <td>7</td>\n    </tr>\n    <tr>\n      <th>4636</th>\n      <td>7</td>\n    </tr>\n    <tr>\n      <th>...</th>\n      <td>...</td>\n    </tr>\n    <tr>\n      <th>6980</th>\n      <td>1</td>\n    </tr>\n    <tr>\n      <th>6024</th>\n      <td>1</td>\n    </tr>\n    <tr>\n      <th>6042</th>\n      <td>1</td>\n    </tr>\n    <tr>\n      <th>8316</th>\n      <td>1</td>\n    </tr>\n    <tr>\n      <th>2018</th>\n      <td>1</td>\n    </tr>\n  </tbody>\n</table>\n<p>2770 rows × 1 columns</p>\n</div>"
     },
     "execution_count": 24,
     "metadata": {},
     "output_type": "execute_result"
    }
   ],
   "source": [
    "PoetParticipateWorkSQL = '''SELECT poetID, COUNT(DISTINCT workID) AS participate_count\n",
    "    FROM workpoetlinks\n",
    "    GROUP BY poetID\n",
    "    ORDER BY participate_count DESC'''\n",
    "\n",
    "PoetParticipateWork = duckdb.query(PoetParticipateWorkSQL).df()\n",
    "PoetParticipateWork.set_index('poetID', inplace=True)\n",
    "\n",
    "PoetParticipateWork"
   ],
   "metadata": {
    "collapsed": false,
    "ExecuteTime": {
     "end_time": "2024-11-04T07:16:15.971459Z",
     "start_time": "2024-11-04T07:16:15.947407Z"
    }
   },
   "id": "865443e15c898031",
   "execution_count": 24
  },
  {
   "cell_type": "markdown",
   "source": [
    "## 2.2 写像赞的次数"
   ],
   "metadata": {
    "collapsed": false
   },
   "id": "6f42af2d268174cf"
  },
  {
   "cell_type": "code",
   "outputs": [
    {
     "data": {
      "text/plain": "        xiangzanauthor_count\npoetID                      \n7279                       1\n6482                       1\n1977                       1\n3813                       1\n244                        1\n7006                       1\n6430                       1\n6494                       1\n4424                       1\n225                        2\n42                         2\n195                        2\n1664                       5",
      "text/html": "<div>\n<style scoped>\n    .dataframe tbody tr th:only-of-type {\n        vertical-align: middle;\n    }\n\n    .dataframe tbody tr th {\n        vertical-align: top;\n    }\n\n    .dataframe thead th {\n        text-align: right;\n    }\n</style>\n<table border=\"1\" class=\"dataframe\">\n  <thead>\n    <tr style=\"text-align: right;\">\n      <th></th>\n      <th>xiangzanauthor_count</th>\n    </tr>\n    <tr>\n      <th>poetID</th>\n      <th></th>\n    </tr>\n  </thead>\n  <tbody>\n    <tr>\n      <th>7279</th>\n      <td>1</td>\n    </tr>\n    <tr>\n      <th>6482</th>\n      <td>1</td>\n    </tr>\n    <tr>\n      <th>1977</th>\n      <td>1</td>\n    </tr>\n    <tr>\n      <th>3813</th>\n      <td>1</td>\n    </tr>\n    <tr>\n      <th>244</th>\n      <td>1</td>\n    </tr>\n    <tr>\n      <th>7006</th>\n      <td>1</td>\n    </tr>\n    <tr>\n      <th>6430</th>\n      <td>1</td>\n    </tr>\n    <tr>\n      <th>6494</th>\n      <td>1</td>\n    </tr>\n    <tr>\n      <th>4424</th>\n      <td>1</td>\n    </tr>\n    <tr>\n      <th>225</th>\n      <td>2</td>\n    </tr>\n    <tr>\n      <th>42</th>\n      <td>2</td>\n    </tr>\n    <tr>\n      <th>195</th>\n      <td>2</td>\n    </tr>\n    <tr>\n      <th>1664</th>\n      <td>5</td>\n    </tr>\n  </tbody>\n</table>\n</div>"
     },
     "execution_count": 25,
     "metadata": {},
     "output_type": "execute_result"
    }
   ],
   "source": [
    "xiangzanauthorSQL = '''\n",
    "SELECT poempoetlinks.poetID,COUNT(DISTINCT poem.poemID) AS xiangzanauthor_count\n",
    "FROM poem,poempoetlinks\n",
    "WHERE poem.GenreHZ='文﹕像贊' AND poem.poemID = poempoetlinks.poemID\n",
    "GROUP BY poempoetlinks.poetID\n",
    "ORDER BY xiangzanauthor_count\n",
    "'''\n",
    "xiangzanauthor = duckdb.query(xiangzanauthorSQL).df()\n",
    "xiangzanauthor.set_index('poetID', inplace=True)\n",
    "xiangzanauthor"
   ],
   "metadata": {
    "collapsed": false,
    "ExecuteTime": {
     "end_time": "2024-11-04T07:16:16.291348Z",
     "start_time": "2024-11-04T07:16:16.270121Z"
    }
   },
   "id": "dd3042f389fc7d14",
   "execution_count": 25
  },
  {
   "cell_type": "markdown",
   "source": [
    "## 2.3 被写像赞的次数"
   ],
   "metadata": {
    "collapsed": false
   },
   "id": "1dc88184e7a65d69"
  },
  {
   "cell_type": "code",
   "outputs": [
    {
     "data": {
      "text/plain": "        bexiangzansubjectCount\npoetID                        \n5                            1\n4939                         1",
      "text/html": "<div>\n<style scoped>\n    .dataframe tbody tr th:only-of-type {\n        vertical-align: middle;\n    }\n\n    .dataframe tbody tr th {\n        vertical-align: top;\n    }\n\n    .dataframe thead th {\n        text-align: right;\n    }\n</style>\n<table border=\"1\" class=\"dataframe\">\n  <thead>\n    <tr style=\"text-align: right;\">\n      <th></th>\n      <th>bexiangzansubjectCount</th>\n    </tr>\n    <tr>\n      <th>poetID</th>\n      <th></th>\n    </tr>\n  </thead>\n  <tbody>\n    <tr>\n      <th>5</th>\n      <td>1</td>\n    </tr>\n    <tr>\n      <th>4939</th>\n      <td>1</td>\n    </tr>\n  </tbody>\n</table>\n</div>"
     },
     "execution_count": 26,
     "metadata": {},
     "output_type": "execute_result"
    }
   ],
   "source": [
    "bexiangzanSQL = '''\n",
    "SELECT poetassubjectID AS poetID,COUNT(DISTINCT poemID) AS bexiangzansubjectCount\n",
    "FROM poem\n",
    "WHERE poem.GenreHZ='文﹕像贊' AND poetassubjectID !=0\n",
    "GROUP BY poetassubjectID\n",
    "'''\n",
    "bexiangzan = duckdb.query(bexiangzanSQL).df()\n",
    "bexiangzan.set_index('poetID', inplace=True)\n",
    "\n",
    "bexiangzan"
   ],
   "metadata": {
    "collapsed": false,
    "ExecuteTime": {
     "end_time": "2024-11-04T07:16:16.629644Z",
     "start_time": "2024-11-04T07:16:16.603985Z"
    }
   },
   "id": "8e9f5a9a896ca587",
   "execution_count": 26
  },
  {
   "cell_type": "markdown",
   "source": [
    "## 2.4 被讨论的次数"
   ],
   "metadata": {
    "collapsed": false
   },
   "id": "19cbb211fe0f7fb"
  },
  {
   "cell_type": "code",
   "outputs": [
    {
     "data": {
      "text/plain": "        discussedCount\npoetID                \n1986                 4\n3244                 1\n1380                14\n2003                 4\n2066                 3\n...                ...\n5414                 1\n5458                 1\n5479                 1\n5029                 1\n5513                 1\n\n[4648 rows x 1 columns]",
      "text/html": "<div>\n<style scoped>\n    .dataframe tbody tr th:only-of-type {\n        vertical-align: middle;\n    }\n\n    .dataframe tbody tr th {\n        vertical-align: top;\n    }\n\n    .dataframe thead th {\n        text-align: right;\n    }\n</style>\n<table border=\"1\" class=\"dataframe\">\n  <thead>\n    <tr style=\"text-align: right;\">\n      <th></th>\n      <th>discussedCount</th>\n    </tr>\n    <tr>\n      <th>poetID</th>\n      <th></th>\n    </tr>\n  </thead>\n  <tbody>\n    <tr>\n      <th>1986</th>\n      <td>4</td>\n    </tr>\n    <tr>\n      <th>3244</th>\n      <td>1</td>\n    </tr>\n    <tr>\n      <th>1380</th>\n      <td>14</td>\n    </tr>\n    <tr>\n      <th>2003</th>\n      <td>4</td>\n    </tr>\n    <tr>\n      <th>2066</th>\n      <td>3</td>\n    </tr>\n    <tr>\n      <th>...</th>\n      <td>...</td>\n    </tr>\n    <tr>\n      <th>5414</th>\n      <td>1</td>\n    </tr>\n    <tr>\n      <th>5458</th>\n      <td>1</td>\n    </tr>\n    <tr>\n      <th>5479</th>\n      <td>1</td>\n    </tr>\n    <tr>\n      <th>5029</th>\n      <td>1</td>\n    </tr>\n    <tr>\n      <th>5513</th>\n      <td>1</td>\n    </tr>\n  </tbody>\n</table>\n<p>4648 rows × 1 columns</p>\n</div>"
     },
     "execution_count": 27,
     "metadata": {},
     "output_type": "execute_result"
    }
   ],
   "source": [
    "discussedSQL = '''\n",
    "SELECT poetassubjectID AS poetID, COUNT(DISTINCT poemID) AS discussedCount\n",
    "FROM poem\n",
    "WHERE GenreHZ!='文﹕像贊' AND poetassubjectID != 0\n",
    "GROUP BY poetassubjectID\n",
    "'''\n",
    "discussed = duckdb.query(discussedSQL).df()\n",
    "discussed.set_index('poetID', inplace=True)\n",
    "\n",
    "discussed"
   ],
   "metadata": {
    "collapsed": false,
    "ExecuteTime": {
     "end_time": "2024-11-04T07:16:16.995515Z",
     "start_time": "2024-11-04T07:16:16.970916Z"
    }
   },
   "id": "395f94f6e6090b60",
   "execution_count": 27
  },
  {
   "cell_type": "markdown",
   "source": [
    "## 2.5 收到唱和书信的次数"
   ],
   "metadata": {
    "collapsed": false
   },
   "id": "c37392fe946abe36"
  },
  {
   "cell_type": "code",
   "outputs": [
    {
     "data": {
      "text/plain": "        changheshiCount\npoetID                 \n1260                  1\n92                   10\n15                    8\n32                    7\n1380                 55\n...                 ...\n7101                  1\n529                   1\n4797                  1\n5416                  1\n1148                  1\n\n[874 rows x 1 columns]",
      "text/html": "<div>\n<style scoped>\n    .dataframe tbody tr th:only-of-type {\n        vertical-align: middle;\n    }\n\n    .dataframe tbody tr th {\n        vertical-align: top;\n    }\n\n    .dataframe thead th {\n        text-align: right;\n    }\n</style>\n<table border=\"1\" class=\"dataframe\">\n  <thead>\n    <tr style=\"text-align: right;\">\n      <th></th>\n      <th>changheshiCount</th>\n    </tr>\n    <tr>\n      <th>poetID</th>\n      <th></th>\n    </tr>\n  </thead>\n  <tbody>\n    <tr>\n      <th>1260</th>\n      <td>1</td>\n    </tr>\n    <tr>\n      <th>92</th>\n      <td>10</td>\n    </tr>\n    <tr>\n      <th>15</th>\n      <td>8</td>\n    </tr>\n    <tr>\n      <th>32</th>\n      <td>7</td>\n    </tr>\n    <tr>\n      <th>1380</th>\n      <td>55</td>\n    </tr>\n    <tr>\n      <th>...</th>\n      <td>...</td>\n    </tr>\n    <tr>\n      <th>7101</th>\n      <td>1</td>\n    </tr>\n    <tr>\n      <th>529</th>\n      <td>1</td>\n    </tr>\n    <tr>\n      <th>4797</th>\n      <td>1</td>\n    </tr>\n    <tr>\n      <th>5416</th>\n      <td>1</td>\n    </tr>\n    <tr>\n      <th>1148</th>\n      <td>1</td>\n    </tr>\n  </tbody>\n</table>\n<p>874 rows × 1 columns</p>\n</div>"
     },
     "execution_count": 28,
     "metadata": {},
     "output_type": "execute_result"
    }
   ],
   "source": [
    "changheshiSQL = '''\n",
    "SELECT changheshuxinpoetID AS poetID, COUNT(DISTINCT poemID) AS changheshiCount\n",
    "FROM poem\n",
    "WHERE changheshuxinpoetID !=0\n",
    "GROUP BY changheshuxinpoetID\n",
    "'''\n",
    "changheshi = duckdb.query(changheshiSQL).df()\n",
    "changheshi.set_index('poetID', inplace=True)\n",
    "\n",
    "changheshi"
   ],
   "metadata": {
    "collapsed": false,
    "ExecuteTime": {
     "end_time": "2024-11-04T07:16:17.330666Z",
     "start_time": "2024-11-04T07:16:17.308524Z"
    }
   },
   "id": "5d0c7319e5593f6",
   "execution_count": 28
  },
  {
   "cell_type": "markdown",
   "source": [
    "## 2.6 初始数据汇总"
   ],
   "metadata": {
    "collapsed": false
   },
   "id": "100eec9f8dcc5b58"
  },
  {
   "cell_type": "code",
   "outputs": [
    {
     "data": {
      "text/plain": "        participate_count  xiangzanauthor_count  bexiangzansubjectCount  \\\npoetID                                                                    \n5                     1.0                   0.0                     1.0   \n6                     1.0                   0.0                     0.0   \n8                     1.0                   0.0                     0.0   \n11                    1.0                   0.0                     0.0   \n12                    2.0                   0.0                     0.0   \n...                   ...                   ...                     ...   \n8457                  1.0                   0.0                     0.0   \n8458                  1.0                   0.0                     0.0   \n8459                  1.0                   0.0                     0.0   \n8460                  1.0                   0.0                     0.0   \n8461                  1.0                   0.0                     0.0   \n\n        discussedCount  changheshiCount  \npoetID                                   \n5                 38.0              0.0  \n6                  0.0              0.0  \n8                  2.0              0.0  \n11                13.0              0.0  \n12                28.0              0.0  \n...                ...              ...  \n8457               0.0              0.0  \n8458               0.0              0.0  \n8459               0.0              0.0  \n8460               0.0              0.0  \n8461               0.0              0.0  \n\n[7134 rows x 5 columns]",
      "text/html": "<div>\n<style scoped>\n    .dataframe tbody tr th:only-of-type {\n        vertical-align: middle;\n    }\n\n    .dataframe tbody tr th {\n        vertical-align: top;\n    }\n\n    .dataframe thead th {\n        text-align: right;\n    }\n</style>\n<table border=\"1\" class=\"dataframe\">\n  <thead>\n    <tr style=\"text-align: right;\">\n      <th></th>\n      <th>participate_count</th>\n      <th>xiangzanauthor_count</th>\n      <th>bexiangzansubjectCount</th>\n      <th>discussedCount</th>\n      <th>changheshiCount</th>\n    </tr>\n    <tr>\n      <th>poetID</th>\n      <th></th>\n      <th></th>\n      <th></th>\n      <th></th>\n      <th></th>\n    </tr>\n  </thead>\n  <tbody>\n    <tr>\n      <th>5</th>\n      <td>1.0</td>\n      <td>0.0</td>\n      <td>1.0</td>\n      <td>38.0</td>\n      <td>0.0</td>\n    </tr>\n    <tr>\n      <th>6</th>\n      <td>1.0</td>\n      <td>0.0</td>\n      <td>0.0</td>\n      <td>0.0</td>\n      <td>0.0</td>\n    </tr>\n    <tr>\n      <th>8</th>\n      <td>1.0</td>\n      <td>0.0</td>\n      <td>0.0</td>\n      <td>2.0</td>\n      <td>0.0</td>\n    </tr>\n    <tr>\n      <th>11</th>\n      <td>1.0</td>\n      <td>0.0</td>\n      <td>0.0</td>\n      <td>13.0</td>\n      <td>0.0</td>\n    </tr>\n    <tr>\n      <th>12</th>\n      <td>2.0</td>\n      <td>0.0</td>\n      <td>0.0</td>\n      <td>28.0</td>\n      <td>0.0</td>\n    </tr>\n    <tr>\n      <th>...</th>\n      <td>...</td>\n      <td>...</td>\n      <td>...</td>\n      <td>...</td>\n      <td>...</td>\n    </tr>\n    <tr>\n      <th>8457</th>\n      <td>1.0</td>\n      <td>0.0</td>\n      <td>0.0</td>\n      <td>0.0</td>\n      <td>0.0</td>\n    </tr>\n    <tr>\n      <th>8458</th>\n      <td>1.0</td>\n      <td>0.0</td>\n      <td>0.0</td>\n      <td>0.0</td>\n      <td>0.0</td>\n    </tr>\n    <tr>\n      <th>8459</th>\n      <td>1.0</td>\n      <td>0.0</td>\n      <td>0.0</td>\n      <td>0.0</td>\n      <td>0.0</td>\n    </tr>\n    <tr>\n      <th>8460</th>\n      <td>1.0</td>\n      <td>0.0</td>\n      <td>0.0</td>\n      <td>0.0</td>\n      <td>0.0</td>\n    </tr>\n    <tr>\n      <th>8461</th>\n      <td>1.0</td>\n      <td>0.0</td>\n      <td>0.0</td>\n      <td>0.0</td>\n      <td>0.0</td>\n    </tr>\n  </tbody>\n</table>\n<p>7134 rows × 5 columns</p>\n</div>"
     },
     "execution_count": 29,
     "metadata": {},
     "output_type": "execute_result"
    }
   ],
   "source": [
    "poetRawData = reduce(lambda left, right: pd.merge(left, right, on='poetID', how='outer'), [PoetParticipateWork, xiangzanauthor, bexiangzan,discussed, changheshi]).fillna(0)\n",
    "poetRawData"
   ],
   "metadata": {
    "collapsed": false,
    "ExecuteTime": {
     "end_time": "2024-11-04T07:16:17.674983Z",
     "start_time": "2024-11-04T07:16:17.650062Z"
    }
   },
   "id": "4e8ab7b50ed9600b",
   "execution_count": 29
  },
  {
   "cell_type": "markdown",
   "source": [
    "## 2.7 归一化"
   ],
   "metadata": {
    "collapsed": false
   },
   "id": "edd8ab8808705f17"
  },
  {
   "cell_type": "markdown",
   "source": [
    "### 2.7.1 Min-Max归一化"
   ],
   "metadata": {
    "collapsed": false
   },
   "id": "b32170dbcd9f33e8"
  },
  {
   "cell_type": "code",
   "outputs": [
    {
     "data": {
      "text/plain": "        participate_count  xiangzanauthor_count  bexiangzansubjectCount  \\\npoetID                                                                    \n5                7.692308                   0.0                   100.0   \n6                7.692308                   0.0                     0.0   \n8                7.692308                   0.0                     0.0   \n11               7.692308                   0.0                     0.0   \n12              15.384615                   0.0                     0.0   \n...                   ...                   ...                     ...   \n8457             7.692308                   0.0                     0.0   \n8458             7.692308                   0.0                     0.0   \n8459             7.692308                   0.0                     0.0   \n8460             7.692308                   0.0                     0.0   \n8461             7.692308                   0.0                     0.0   \n\n        discussedCount  changheshiCount  \npoetID                                   \n5            49.350649              0.0  \n6             0.000000              0.0  \n8             2.597403              0.0  \n11           16.883117              0.0  \n12           36.363636              0.0  \n...                ...              ...  \n8457          0.000000              0.0  \n8458          0.000000              0.0  \n8459          0.000000              0.0  \n8460          0.000000              0.0  \n8461          0.000000              0.0  \n\n[7134 rows x 5 columns]",
      "text/html": "<div>\n<style scoped>\n    .dataframe tbody tr th:only-of-type {\n        vertical-align: middle;\n    }\n\n    .dataframe tbody tr th {\n        vertical-align: top;\n    }\n\n    .dataframe thead th {\n        text-align: right;\n    }\n</style>\n<table border=\"1\" class=\"dataframe\">\n  <thead>\n    <tr style=\"text-align: right;\">\n      <th></th>\n      <th>participate_count</th>\n      <th>xiangzanauthor_count</th>\n      <th>bexiangzansubjectCount</th>\n      <th>discussedCount</th>\n      <th>changheshiCount</th>\n    </tr>\n    <tr>\n      <th>poetID</th>\n      <th></th>\n      <th></th>\n      <th></th>\n      <th></th>\n      <th></th>\n    </tr>\n  </thead>\n  <tbody>\n    <tr>\n      <th>5</th>\n      <td>7.692308</td>\n      <td>0.0</td>\n      <td>100.0</td>\n      <td>49.350649</td>\n      <td>0.0</td>\n    </tr>\n    <tr>\n      <th>6</th>\n      <td>7.692308</td>\n      <td>0.0</td>\n      <td>0.0</td>\n      <td>0.000000</td>\n      <td>0.0</td>\n    </tr>\n    <tr>\n      <th>8</th>\n      <td>7.692308</td>\n      <td>0.0</td>\n      <td>0.0</td>\n      <td>2.597403</td>\n      <td>0.0</td>\n    </tr>\n    <tr>\n      <th>11</th>\n      <td>7.692308</td>\n      <td>0.0</td>\n      <td>0.0</td>\n      <td>16.883117</td>\n      <td>0.0</td>\n    </tr>\n    <tr>\n      <th>12</th>\n      <td>15.384615</td>\n      <td>0.0</td>\n      <td>0.0</td>\n      <td>36.363636</td>\n      <td>0.0</td>\n    </tr>\n    <tr>\n      <th>...</th>\n      <td>...</td>\n      <td>...</td>\n      <td>...</td>\n      <td>...</td>\n      <td>...</td>\n    </tr>\n    <tr>\n      <th>8457</th>\n      <td>7.692308</td>\n      <td>0.0</td>\n      <td>0.0</td>\n      <td>0.000000</td>\n      <td>0.0</td>\n    </tr>\n    <tr>\n      <th>8458</th>\n      <td>7.692308</td>\n      <td>0.0</td>\n      <td>0.0</td>\n      <td>0.000000</td>\n      <td>0.0</td>\n    </tr>\n    <tr>\n      <th>8459</th>\n      <td>7.692308</td>\n      <td>0.0</td>\n      <td>0.0</td>\n      <td>0.000000</td>\n      <td>0.0</td>\n    </tr>\n    <tr>\n      <th>8460</th>\n      <td>7.692308</td>\n      <td>0.0</td>\n      <td>0.0</td>\n      <td>0.000000</td>\n      <td>0.0</td>\n    </tr>\n    <tr>\n      <th>8461</th>\n      <td>7.692308</td>\n      <td>0.0</td>\n      <td>0.0</td>\n      <td>0.000000</td>\n      <td>0.0</td>\n    </tr>\n  </tbody>\n</table>\n<p>7134 rows × 5 columns</p>\n</div>"
     },
     "execution_count": 30,
     "metadata": {},
     "output_type": "execute_result"
    }
   ],
   "source": [
    "poet_min_max_normalize = poetRawData.copy()\n",
    "for column in poet_min_max_normalize.columns:\n",
    "    if poet_min_max_normalize[column].dtype in ['float64', 'int64']:  # 检查数据类型是否为数值类型\n",
    "        poet_min_max_normalize[column] = min_max_normalize(poet_min_max_normalize[column])\n",
    "poet_min_max_normalize"
   ],
   "metadata": {
    "collapsed": false,
    "ExecuteTime": {
     "end_time": "2024-11-04T07:16:19.425161Z",
     "start_time": "2024-11-04T07:16:19.396634Z"
    }
   },
   "id": "813549d79162c8d9",
   "execution_count": 30
  },
  {
   "cell_type": "markdown",
   "source": [
    "### 2.7.2 对数归一化"
   ],
   "metadata": {
    "collapsed": false
   },
   "id": "429a5887291b2569"
  },
  {
   "cell_type": "code",
   "outputs": [
    {
     "data": {
      "text/plain": "        participate_count  xiangzanauthor_count  bexiangzansubjectCount  \\\npoetID                                                                    \n5                 0.26265                   0.0                     1.0   \n6                 0.26265                   0.0                     0.0   \n8                 0.26265                   0.0                     0.0   \n11                0.26265                   0.0                     0.0   \n12                0.41629                   0.0                     0.0   \n...                   ...                   ...                     ...   \n8457              0.26265                   0.0                     0.0   \n8458              0.26265                   0.0                     0.0   \n8459              0.26265                   0.0                     0.0   \n8460              0.26265                   0.0                     0.0   \n8461              0.26265                   0.0                     0.0   \n\n        discussedCount  changheshiCount  \npoetID                                   \n5             0.840901              0.0  \n6             0.000000              0.0  \n8             0.252166              0.0  \n11            0.605746              0.0  \n12            0.772899              0.0  \n...                ...              ...  \n8457          0.000000              0.0  \n8458          0.000000              0.0  \n8459          0.000000              0.0  \n8460          0.000000              0.0  \n8461          0.000000              0.0  \n\n[7134 rows x 5 columns]",
      "text/html": "<div>\n<style scoped>\n    .dataframe tbody tr th:only-of-type {\n        vertical-align: middle;\n    }\n\n    .dataframe tbody tr th {\n        vertical-align: top;\n    }\n\n    .dataframe thead th {\n        text-align: right;\n    }\n</style>\n<table border=\"1\" class=\"dataframe\">\n  <thead>\n    <tr style=\"text-align: right;\">\n      <th></th>\n      <th>participate_count</th>\n      <th>xiangzanauthor_count</th>\n      <th>bexiangzansubjectCount</th>\n      <th>discussedCount</th>\n      <th>changheshiCount</th>\n    </tr>\n    <tr>\n      <th>poetID</th>\n      <th></th>\n      <th></th>\n      <th></th>\n      <th></th>\n      <th></th>\n    </tr>\n  </thead>\n  <tbody>\n    <tr>\n      <th>5</th>\n      <td>0.26265</td>\n      <td>0.0</td>\n      <td>1.0</td>\n      <td>0.840901</td>\n      <td>0.0</td>\n    </tr>\n    <tr>\n      <th>6</th>\n      <td>0.26265</td>\n      <td>0.0</td>\n      <td>0.0</td>\n      <td>0.000000</td>\n      <td>0.0</td>\n    </tr>\n    <tr>\n      <th>8</th>\n      <td>0.26265</td>\n      <td>0.0</td>\n      <td>0.0</td>\n      <td>0.252166</td>\n      <td>0.0</td>\n    </tr>\n    <tr>\n      <th>11</th>\n      <td>0.26265</td>\n      <td>0.0</td>\n      <td>0.0</td>\n      <td>0.605746</td>\n      <td>0.0</td>\n    </tr>\n    <tr>\n      <th>12</th>\n      <td>0.41629</td>\n      <td>0.0</td>\n      <td>0.0</td>\n      <td>0.772899</td>\n      <td>0.0</td>\n    </tr>\n    <tr>\n      <th>...</th>\n      <td>...</td>\n      <td>...</td>\n      <td>...</td>\n      <td>...</td>\n      <td>...</td>\n    </tr>\n    <tr>\n      <th>8457</th>\n      <td>0.26265</td>\n      <td>0.0</td>\n      <td>0.0</td>\n      <td>0.000000</td>\n      <td>0.0</td>\n    </tr>\n    <tr>\n      <th>8458</th>\n      <td>0.26265</td>\n      <td>0.0</td>\n      <td>0.0</td>\n      <td>0.000000</td>\n      <td>0.0</td>\n    </tr>\n    <tr>\n      <th>8459</th>\n      <td>0.26265</td>\n      <td>0.0</td>\n      <td>0.0</td>\n      <td>0.000000</td>\n      <td>0.0</td>\n    </tr>\n    <tr>\n      <th>8460</th>\n      <td>0.26265</td>\n      <td>0.0</td>\n      <td>0.0</td>\n      <td>0.000000</td>\n      <td>0.0</td>\n    </tr>\n    <tr>\n      <th>8461</th>\n      <td>0.26265</td>\n      <td>0.0</td>\n      <td>0.0</td>\n      <td>0.000000</td>\n      <td>0.0</td>\n    </tr>\n  </tbody>\n</table>\n<p>7134 rows × 5 columns</p>\n</div>"
     },
     "execution_count": 50,
     "metadata": {},
     "output_type": "execute_result"
    }
   ],
   "source": [
    "poet_log_normalize = poetRawData.copy()\n",
    "\n",
    "for column in poet_log_normalize.columns:  \n",
    "    if poet_log_normalize[column].dtype in ['float64', 'int64']:\n",
    "        # 对数据加1以避免对0取对数的问题\n",
    "        max_val = poet_log_normalize[column].max()\n",
    "        if max_val > 0:\n",
    "            # 应用对数归一化\n",
    "            poet_log_normalize[column] = np.log(poet_log_normalize[column] + 1) / np.log(max_val + 1)\n",
    "poet_log_normalize"
   ],
   "metadata": {
    "collapsed": false,
    "ExecuteTime": {
     "end_time": "2024-11-04T08:43:57.320028Z",
     "start_time": "2024-11-04T08:43:57.285931Z"
    }
   },
   "id": "cbc48ad73d7b18db",
   "execution_count": 50
  },
  {
   "cell_type": "markdown",
   "source": [
    "## 2.8 重要性计算"
   ],
   "metadata": {
    "collapsed": false
   },
   "id": "35226849cd5498a7"
  },
  {
   "cell_type": "markdown",
   "source": [
    "### 2.8.1 权重设置\n",
    "poet4258姚倚雲 写了很多唱和诗给丈夫 poet7909范當世，导致范當世收到唱和书信的次数很高，需要降低该项权重"
   ],
   "metadata": {
    "collapsed": false
   },
   "id": "bc3af5f6c723590"
  },
  {
   "cell_type": "code",
   "outputs": [],
   "source": [
    "participateWeight = 0.4\n",
    "writeXZWeight = 0.3\n",
    "inXZWeight = 0.1\n",
    "bediscussedWeight = 0.2\n",
    "changheWeight = 0.1"
   ],
   "metadata": {
    "collapsed": false,
    "ExecuteTime": {
     "end_time": "2024-11-04T08:43:59.132037Z",
     "start_time": "2024-11-04T08:43:59.110373Z"
    }
   },
   "id": "db8653a5393d809d",
   "execution_count": 51
  },
  {
   "cell_type": "markdown",
   "source": [
    "### 2.8.2 Min-Max归一化结果计算"
   ],
   "metadata": {
    "collapsed": false
   },
   "id": "e27d011710d62eaa"
  },
  {
   "cell_type": "code",
   "outputs": [
    {
     "data": {
      "text/plain": "        participate_count  xiangzanauthor_count  bexiangzansubjectCount  \\\npoetID                                                                    \n5                7.692308                   0.0                   100.0   \n6                7.692308                   0.0                     0.0   \n8                7.692308                   0.0                     0.0   \n11               7.692308                   0.0                     0.0   \n12              15.384615                   0.0                     0.0   \n...                   ...                   ...                     ...   \n8457             7.692308                   0.0                     0.0   \n8458             7.692308                   0.0                     0.0   \n8459             7.692308                   0.0                     0.0   \n8460             7.692308                   0.0                     0.0   \n8461             7.692308                   0.0                     0.0   \n\n        discussedCount  changheshiCount  totalWeight  \npoetID                                                \n5            49.350649              0.0    22.947053  \n6             0.000000              0.0     3.076923  \n8             2.597403              0.0     3.596404  \n11           16.883117              0.0     6.453546  \n12           36.363636              0.0    13.426573  \n...                ...              ...          ...  \n8457          0.000000              0.0     3.076923  \n8458          0.000000              0.0     3.076923  \n8459          0.000000              0.0     3.076923  \n8460          0.000000              0.0     3.076923  \n8461          0.000000              0.0     3.076923  \n\n[7134 rows x 6 columns]",
      "text/html": "<div>\n<style scoped>\n    .dataframe tbody tr th:only-of-type {\n        vertical-align: middle;\n    }\n\n    .dataframe tbody tr th {\n        vertical-align: top;\n    }\n\n    .dataframe thead th {\n        text-align: right;\n    }\n</style>\n<table border=\"1\" class=\"dataframe\">\n  <thead>\n    <tr style=\"text-align: right;\">\n      <th></th>\n      <th>participate_count</th>\n      <th>xiangzanauthor_count</th>\n      <th>bexiangzansubjectCount</th>\n      <th>discussedCount</th>\n      <th>changheshiCount</th>\n      <th>totalWeight</th>\n    </tr>\n    <tr>\n      <th>poetID</th>\n      <th></th>\n      <th></th>\n      <th></th>\n      <th></th>\n      <th></th>\n      <th></th>\n    </tr>\n  </thead>\n  <tbody>\n    <tr>\n      <th>5</th>\n      <td>7.692308</td>\n      <td>0.0</td>\n      <td>100.0</td>\n      <td>49.350649</td>\n      <td>0.0</td>\n      <td>22.947053</td>\n    </tr>\n    <tr>\n      <th>6</th>\n      <td>7.692308</td>\n      <td>0.0</td>\n      <td>0.0</td>\n      <td>0.000000</td>\n      <td>0.0</td>\n      <td>3.076923</td>\n    </tr>\n    <tr>\n      <th>8</th>\n      <td>7.692308</td>\n      <td>0.0</td>\n      <td>0.0</td>\n      <td>2.597403</td>\n      <td>0.0</td>\n      <td>3.596404</td>\n    </tr>\n    <tr>\n      <th>11</th>\n      <td>7.692308</td>\n      <td>0.0</td>\n      <td>0.0</td>\n      <td>16.883117</td>\n      <td>0.0</td>\n      <td>6.453546</td>\n    </tr>\n    <tr>\n      <th>12</th>\n      <td>15.384615</td>\n      <td>0.0</td>\n      <td>0.0</td>\n      <td>36.363636</td>\n      <td>0.0</td>\n      <td>13.426573</td>\n    </tr>\n    <tr>\n      <th>...</th>\n      <td>...</td>\n      <td>...</td>\n      <td>...</td>\n      <td>...</td>\n      <td>...</td>\n      <td>...</td>\n    </tr>\n    <tr>\n      <th>8457</th>\n      <td>7.692308</td>\n      <td>0.0</td>\n      <td>0.0</td>\n      <td>0.000000</td>\n      <td>0.0</td>\n      <td>3.076923</td>\n    </tr>\n    <tr>\n      <th>8458</th>\n      <td>7.692308</td>\n      <td>0.0</td>\n      <td>0.0</td>\n      <td>0.000000</td>\n      <td>0.0</td>\n      <td>3.076923</td>\n    </tr>\n    <tr>\n      <th>8459</th>\n      <td>7.692308</td>\n      <td>0.0</td>\n      <td>0.0</td>\n      <td>0.000000</td>\n      <td>0.0</td>\n      <td>3.076923</td>\n    </tr>\n    <tr>\n      <th>8460</th>\n      <td>7.692308</td>\n      <td>0.0</td>\n      <td>0.0</td>\n      <td>0.000000</td>\n      <td>0.0</td>\n      <td>3.076923</td>\n    </tr>\n    <tr>\n      <th>8461</th>\n      <td>7.692308</td>\n      <td>0.0</td>\n      <td>0.0</td>\n      <td>0.000000</td>\n      <td>0.0</td>\n      <td>3.076923</td>\n    </tr>\n  </tbody>\n</table>\n<p>7134 rows × 6 columns</p>\n</div>"
     },
     "execution_count": 52,
     "metadata": {},
     "output_type": "execute_result"
    }
   ],
   "source": [
    "poet_min_max = poet_min_max_normalize.copy()\n",
    "\n",
    "poet_min_max['totalWeight'] = participateWeight*poet_min_max['participate_count'] + writeXZWeight*poet_min_max['xiangzanauthor_count']+inXZWeight*poet_min_max['bexiangzansubjectCount']+bediscussedWeight*poet_min_max['discussedCount']+changheWeight*poet_min_max['changheshiCount']\n",
    "\n",
    "poet_min_max"
   ],
   "metadata": {
    "collapsed": false,
    "ExecuteTime": {
     "end_time": "2024-11-04T08:44:00.207365Z",
     "start_time": "2024-11-04T08:44:00.170047Z"
    }
   },
   "id": "4e586112735aa547",
   "execution_count": 52
  },
  {
   "cell_type": "markdown",
   "source": [
    "### 2.8.3 对数归一化结果计算"
   ],
   "metadata": {
    "collapsed": false
   },
   "id": "cd6b1ce6c98f3e9c"
  },
  {
   "cell_type": "code",
   "outputs": [
    {
     "data": {
      "text/plain": "        participate_count  xiangzanauthor_count  bexiangzansubjectCount  \\\npoetID                                                                    \n5                 0.26265                   0.0                     1.0   \n6                 0.26265                   0.0                     0.0   \n8                 0.26265                   0.0                     0.0   \n11                0.26265                   0.0                     0.0   \n12                0.41629                   0.0                     0.0   \n...                   ...                   ...                     ...   \n8457              0.26265                   0.0                     0.0   \n8458              0.26265                   0.0                     0.0   \n8459              0.26265                   0.0                     0.0   \n8460              0.26265                   0.0                     0.0   \n8461              0.26265                   0.0                     0.0   \n\n        discussedCount  changheshiCount  totalWeight  \npoetID                                                \n5             0.840901              0.0     0.373240  \n6             0.000000              0.0     0.105060  \n8             0.252166              0.0     0.155493  \n11            0.605746              0.0     0.226209  \n12            0.772899              0.0     0.321096  \n...                ...              ...          ...  \n8457          0.000000              0.0     0.105060  \n8458          0.000000              0.0     0.105060  \n8459          0.000000              0.0     0.105060  \n8460          0.000000              0.0     0.105060  \n8461          0.000000              0.0     0.105060  \n\n[7134 rows x 6 columns]",
      "text/html": "<div>\n<style scoped>\n    .dataframe tbody tr th:only-of-type {\n        vertical-align: middle;\n    }\n\n    .dataframe tbody tr th {\n        vertical-align: top;\n    }\n\n    .dataframe thead th {\n        text-align: right;\n    }\n</style>\n<table border=\"1\" class=\"dataframe\">\n  <thead>\n    <tr style=\"text-align: right;\">\n      <th></th>\n      <th>participate_count</th>\n      <th>xiangzanauthor_count</th>\n      <th>bexiangzansubjectCount</th>\n      <th>discussedCount</th>\n      <th>changheshiCount</th>\n      <th>totalWeight</th>\n    </tr>\n    <tr>\n      <th>poetID</th>\n      <th></th>\n      <th></th>\n      <th></th>\n      <th></th>\n      <th></th>\n      <th></th>\n    </tr>\n  </thead>\n  <tbody>\n    <tr>\n      <th>5</th>\n      <td>0.26265</td>\n      <td>0.0</td>\n      <td>1.0</td>\n      <td>0.840901</td>\n      <td>0.0</td>\n      <td>0.373240</td>\n    </tr>\n    <tr>\n      <th>6</th>\n      <td>0.26265</td>\n      <td>0.0</td>\n      <td>0.0</td>\n      <td>0.000000</td>\n      <td>0.0</td>\n      <td>0.105060</td>\n    </tr>\n    <tr>\n      <th>8</th>\n      <td>0.26265</td>\n      <td>0.0</td>\n      <td>0.0</td>\n      <td>0.252166</td>\n      <td>0.0</td>\n      <td>0.155493</td>\n    </tr>\n    <tr>\n      <th>11</th>\n      <td>0.26265</td>\n      <td>0.0</td>\n      <td>0.0</td>\n      <td>0.605746</td>\n      <td>0.0</td>\n      <td>0.226209</td>\n    </tr>\n    <tr>\n      <th>12</th>\n      <td>0.41629</td>\n      <td>0.0</td>\n      <td>0.0</td>\n      <td>0.772899</td>\n      <td>0.0</td>\n      <td>0.321096</td>\n    </tr>\n    <tr>\n      <th>...</th>\n      <td>...</td>\n      <td>...</td>\n      <td>...</td>\n      <td>...</td>\n      <td>...</td>\n      <td>...</td>\n    </tr>\n    <tr>\n      <th>8457</th>\n      <td>0.26265</td>\n      <td>0.0</td>\n      <td>0.0</td>\n      <td>0.000000</td>\n      <td>0.0</td>\n      <td>0.105060</td>\n    </tr>\n    <tr>\n      <th>8458</th>\n      <td>0.26265</td>\n      <td>0.0</td>\n      <td>0.0</td>\n      <td>0.000000</td>\n      <td>0.0</td>\n      <td>0.105060</td>\n    </tr>\n    <tr>\n      <th>8459</th>\n      <td>0.26265</td>\n      <td>0.0</td>\n      <td>0.0</td>\n      <td>0.000000</td>\n      <td>0.0</td>\n      <td>0.105060</td>\n    </tr>\n    <tr>\n      <th>8460</th>\n      <td>0.26265</td>\n      <td>0.0</td>\n      <td>0.0</td>\n      <td>0.000000</td>\n      <td>0.0</td>\n      <td>0.105060</td>\n    </tr>\n    <tr>\n      <th>8461</th>\n      <td>0.26265</td>\n      <td>0.0</td>\n      <td>0.0</td>\n      <td>0.000000</td>\n      <td>0.0</td>\n      <td>0.105060</td>\n    </tr>\n  </tbody>\n</table>\n<p>7134 rows × 6 columns</p>\n</div>"
     },
     "execution_count": 53,
     "metadata": {},
     "output_type": "execute_result"
    }
   ],
   "source": [
    "poet_log = poet_log_normalize.copy()\n",
    "\n",
    "poet_log['totalWeight'] = participateWeight*poet_log['participate_count'] + writeXZWeight*poet_log['xiangzanauthor_count']+inXZWeight*poet_log['bexiangzansubjectCount']+bediscussedWeight*poet_log['discussedCount']+changheWeight*poet_log['changheshiCount']\n",
    "\n",
    "poet_log"
   ],
   "metadata": {
    "collapsed": false,
    "ExecuteTime": {
     "end_time": "2024-11-04T08:44:01.307367Z",
     "start_time": "2024-11-04T08:44:01.272832Z"
    }
   },
   "id": "d2dabebd8ffcca0",
   "execution_count": 53
  },
  {
   "cell_type": "code",
   "outputs": [
    {
     "data": {
      "text/plain": "<IPython.lib.display.IFrame at 0x12e4b1750>",
      "text/html": "\n        <iframe\n            width=\"100%\"\n            height=\"650\"\n            src=\"http://127.0.0.1:8050/\"\n            frameborder=\"0\"\n            allowfullscreen\n            \n        ></iframe>\n        "
     },
     "metadata": {},
     "output_type": "display_data"
    }
   ],
   "source": [
    "import dash\n",
    "from dash import dcc\n",
    "from dash import html\n",
    "from dash.dependencies import Input, Output\n",
    "import requests\n",
    "\n",
    "app = dash.Dash(__name__,suppress_callback_exceptions=True)\n",
    "\n",
    "app.layout = html.Div([\n",
    "    html.Div([\n",
    "        dcc.Graph(id='work-distribution-chart', style={'height': '95vh', 'width': '100vw'}),\n",
    "        html.Div(id='work-name-output')\n",
    "    ], style={'height': '100vh'}),\n",
    "    html.Div([\n",
    "        dcc.Graph(id='poet-distribution-chart', style={'height': '95vh', 'width': '100vw'}),\n",
    "        html.Div(id='poet-info-output')\n",
    "    ], style={'height': '100vh'})\n",
    "])\n",
    "\n",
    "ji_log_reset = ji_log.reset_index()\n",
    "poet_log_reset = poet_log.reset_index()\n",
    "\n",
    "jidata = ji_log['totalWeight'].value_counts(sort=True,ascending=True).reset_index().sort_values(by='totalWeight', ascending=False)\n",
    "poetdata = poet_log['totalWeight'].value_counts(sort=True,ascending=True).reset_index().sort_values(by='totalWeight', ascending=False)\n",
    "\n",
    "\n",
    "# API 调用函数\n",
    "def fetch_work_from_api(id):\n",
    "    response = requests.get(f\"http://localhost:8000/work/{id}\")\n",
    "    print(response)\n",
    "    if response.status_code == 200 and len(response.json())>0:\n",
    "        return str(response.json()[0]['workID']) + str(response.json()[0]['TitleHZ'])\n",
    "    else:\n",
    "        return f\"Work{id} not found\"\n",
    "    \n",
    "def fetch_poet_from_api(id):\n",
    "    response = requests.get(f\"http://localhost:8000/poet/{id}\")\n",
    "    print(response)\n",
    "    if response.status_code == 200 and len(response.json())>0:\n",
    "        return str(response.json()[0]['poetID']) + str(response.json()[0]['NameHZ'])\n",
    "    else:\n",
    "        return f\"Poet{id} not found\"\n",
    "\n",
    "# 更新显示的数据\n",
    "@app.callback(\n",
    "    Output('work-distribution-chart', 'figure'),\n",
    "    Output('work-name-output', 'children'),\n",
    "    Input('work-distribution-chart', 'hoverData')\n",
    ")\n",
    "def update_graph_and_display_name(hoverData):\n",
    "    # 绘制 Total 值的分布\n",
    "    fig = px.line(jidata, x='totalWeight', y='count', text='count', title=\"Distribution of work Total Values\")\n",
    "   \n",
    "    work_name = \"Hover over a bar to see the work's name.\"\n",
    "    if hoverData:\n",
    "        total_value = float(hoverData['points'][0]['x'])\n",
    "        print(total_value)\n",
    "        ids = ji_log_reset[ji_log_reset['totalWeight'] == total_value]['workID'].tolist()\n",
    "        work_names = \"｜ \".join([fetch_work_from_api(id) for id in ids])\n",
    "        \n",
    "        work_name = f\"work: {work_names}\"\n",
    "        fig.update_layout(annotations=[dict(x=total_value, y=hoverData['points'][0]['y'],\n",
    "                                                text=work_names, showarrow=True, arrowhead=1)])\n",
    "    return fig, work_name\n",
    "\n",
    "@app.callback(\n",
    "    Output('poet-distribution-chart', 'figure'),\n",
    "    Output('poet-info-output', 'children'),\n",
    "    Input('poet-distribution-chart', 'hoverData')\n",
    ")\n",
    "\n",
    "def update_poet_graph(hoverData):\n",
    "    fig = px.line(poetdata, x='totalWeight', y='count', text='count', title=\"Distribution of Poet Weights\")\n",
    "    \n",
    "    poet_name = \"Hover over a bar to see poet details.\"\n",
    "    if hoverData:\n",
    "        total_value = float(hoverData['points'][0]['x'])\n",
    "        ids = poet_log_reset[poet_log_reset['totalWeight'] == total_value]['poetID'].tolist()\n",
    "        poet_names = \"｜\".join([fetch_poet_from_api(id) for id in ids])\n",
    "        \n",
    "        poet_name = f\"Poet: {poet_names}\"\n",
    "        fig.update_layout(annotations=[dict(x=total_value, y=hoverData['points'][0]['y'],\n",
    "                                                text=poet_names, showarrow=True, arrowhead=1)])\n",
    "    return fig, poet_name\n",
    "\n",
    "# 运行应用\n",
    "if __name__ == '__main__':\n",
    "    app.run_server(debug=True)"
   ],
   "metadata": {
    "collapsed": false,
    "ExecuteTime": {
     "end_time": "2024-11-04T08:44:07.160712Z",
     "start_time": "2024-11-04T08:44:06.937902Z"
    }
   },
   "id": "926573e3cf005748",
   "execution_count": 54
  },
  {
   "cell_type": "code",
   "outputs": [
    {
     "data": {
      "text/plain": "      poetID NameHZ        NamePY HaoHZ         HaoPY  ZiHZ       ZiPY  \\\n0          5    甘立媃     Gan Lirou  None          None    如玉       Ruyu   \n1          6    劉慧娟   Liu Huijuan  幻花女史  Huanhuanüshi    湘舲  Xiangling   \n2          8    馮思慧    Feng Sihui  None          None    睿之     Ruizhi   \n3         11    屠鏡心    Tu Jingxin  掃花主人  Saohuazhuren  None       None   \n4         12    鄭蘭孫  Zheng Lansun    蘅洲      Hengzhou    娛清     Yuqing   \n...      ...    ...           ...   ...           ...   ...        ...   \n7746    8419    陳希文    Chen Xiwen  None          None  None       None   \n7747    8424    潘宗秇    Pan Zongyi  None          None    小江  Xiaojiang   \n7748    8425    陳邦泰  Chen Bangtai  None          None  None       None   \n7749    8430     程雲     Cheng Yun  None          None    頑石     Wanshi   \n7750    8442    李稷勳      Li Jixun  None          None    姚琴     Yaoqin   \n\n     OtherZiHaoHZ OtherZiHaoPY MaritalStatus  ... StartYear EndYear  \\\n0            None         None         正室﹐寡婦  ...      1743    1819   \n1            None         None         正室﹐寡婦  ...      1830    1880   \n2             駱思慧    Luo Sihui            正室  ...      1748    1774   \n3            None         None            正室  ...      1796    1860   \n4            None         None            正室  ...      1814    1861   \n...           ...          ...           ...  ...       ...     ...   \n7746         None         None            正室  ...      1769    1848   \n7747         None         None          None  ...      1736    1850   \n7748         None         None          None  ...      1736    1850   \n7749         None         None          None  ...      1796    1861   \n7750         None         None          None  ...      1857    1918   \n\n     EthnicGroup                MainWorks  ispoet HuWenKai  \\\n0              漢   《咏雪樓稿 : 5卷, 卷首1卷, 附1卷》       1      267   \n1              漢                《曇花閣詩鈔四卷》       1      719   \n2              漢              《繡餘吟六卷附錄一卷》       1      654   \n3              漢           《玩月軒詩草》《爨餘吟二卷》       1      627   \n4              漢  《蓮因室詩集二卷詞集一卷》﹐《都梁香閣詩詞集》       1      744   \n...          ...                      ...     ...      ...   \n7746           漢                     None       1     None   \n7747           漢                     None       1     None   \n7748           漢                     None       1     None   \n7749           漢                     None       0     None   \n7750           漢                     None       1     None   \n\n                             zhuLu  \\\n0                             江西通志   \n1                          廣東女子藝文考   \n2               山西通志﹐正始續集﹐明媛詩話﹐擷芳集   \n3                清代閨閣詩人徵略﹐吳氏小殘卷齋數目   \n4     杭州府志﹐小檀欒室彙刻百家閨秀詞﹐小黛軒論詩詩﹐閨秀詞話   \n...                            ...   \n7746                          None   \n7747                          None   \n7748                          None   \n7749                          None   \n7750                          None   \n\n                                               xuZuoZhe           baZuoZhe  \\\n0                        宋鎔﹐王若閎序﹐甘立媃自序﹐劉彬士﹑顧皋作墓志詺﹐茹棻作像贊               徐心田跋   \n1                                        戴鴻慈﹐梁煦南序﹐劉慧娟自序               None   \n2                                                  劉秉恬序               None   \n3                                            張之縉﹐文廉﹐耀曾序  任珮瑛,萬秉,任凱,任治,任謙吉跋   \n4     徐鴻謨﹐錢士杓序﹐鄭蘭孫自序﹐俞繡孫﹐孫因培﹐張煒﹐顧琇瑩﹐鍾維則﹐秦緗業﹐楊昌濬﹐孫念培﹐...          許樾身跋﹐徐琪附記   \n...                                                 ...                ...   \n7746                                               None               None   \n7747                                               None               None   \n7748                                               None               None   \n7749                                               None               None   \n7750                                               None               None   \n\n     regionID  \n0        31.0  \n1       189.0  \n2        50.0  \n3       140.0  \n4        10.0  \n...       ...  \n7746      NaN  \n7747      NaN  \n7748      NaN  \n7749      NaN  \n7750      NaN  \n\n[7751 rows x 23 columns]",
      "text/html": "<div>\n<style scoped>\n    .dataframe tbody tr th:only-of-type {\n        vertical-align: middle;\n    }\n\n    .dataframe tbody tr th {\n        vertical-align: top;\n    }\n\n    .dataframe thead th {\n        text-align: right;\n    }\n</style>\n<table border=\"1\" class=\"dataframe\">\n  <thead>\n    <tr style=\"text-align: right;\">\n      <th></th>\n      <th>poetID</th>\n      <th>NameHZ</th>\n      <th>NamePY</th>\n      <th>HaoHZ</th>\n      <th>HaoPY</th>\n      <th>ZiHZ</th>\n      <th>ZiPY</th>\n      <th>OtherZiHaoHZ</th>\n      <th>OtherZiHaoPY</th>\n      <th>MaritalStatus</th>\n      <th>...</th>\n      <th>StartYear</th>\n      <th>EndYear</th>\n      <th>EthnicGroup</th>\n      <th>MainWorks</th>\n      <th>ispoet</th>\n      <th>HuWenKai</th>\n      <th>zhuLu</th>\n      <th>xuZuoZhe</th>\n      <th>baZuoZhe</th>\n      <th>regionID</th>\n    </tr>\n  </thead>\n  <tbody>\n    <tr>\n      <th>0</th>\n      <td>5</td>\n      <td>甘立媃</td>\n      <td>Gan Lirou</td>\n      <td>None</td>\n      <td>None</td>\n      <td>如玉</td>\n      <td>Ruyu</td>\n      <td>None</td>\n      <td>None</td>\n      <td>正室﹐寡婦</td>\n      <td>...</td>\n      <td>1743</td>\n      <td>1819</td>\n      <td>漢</td>\n      <td>《咏雪樓稿 : 5卷, 卷首1卷, 附1卷》</td>\n      <td>1</td>\n      <td>267</td>\n      <td>江西通志</td>\n      <td>宋鎔﹐王若閎序﹐甘立媃自序﹐劉彬士﹑顧皋作墓志詺﹐茹棻作像贊</td>\n      <td>徐心田跋</td>\n      <td>31.0</td>\n    </tr>\n    <tr>\n      <th>1</th>\n      <td>6</td>\n      <td>劉慧娟</td>\n      <td>Liu Huijuan</td>\n      <td>幻花女史</td>\n      <td>Huanhuanüshi</td>\n      <td>湘舲</td>\n      <td>Xiangling</td>\n      <td>None</td>\n      <td>None</td>\n      <td>正室﹐寡婦</td>\n      <td>...</td>\n      <td>1830</td>\n      <td>1880</td>\n      <td>漢</td>\n      <td>《曇花閣詩鈔四卷》</td>\n      <td>1</td>\n      <td>719</td>\n      <td>廣東女子藝文考</td>\n      <td>戴鴻慈﹐梁煦南序﹐劉慧娟自序</td>\n      <td>None</td>\n      <td>189.0</td>\n    </tr>\n    <tr>\n      <th>2</th>\n      <td>8</td>\n      <td>馮思慧</td>\n      <td>Feng Sihui</td>\n      <td>None</td>\n      <td>None</td>\n      <td>睿之</td>\n      <td>Ruizhi</td>\n      <td>駱思慧</td>\n      <td>Luo Sihui</td>\n      <td>正室</td>\n      <td>...</td>\n      <td>1748</td>\n      <td>1774</td>\n      <td>漢</td>\n      <td>《繡餘吟六卷附錄一卷》</td>\n      <td>1</td>\n      <td>654</td>\n      <td>山西通志﹐正始續集﹐明媛詩話﹐擷芳集</td>\n      <td>劉秉恬序</td>\n      <td>None</td>\n      <td>50.0</td>\n    </tr>\n    <tr>\n      <th>3</th>\n      <td>11</td>\n      <td>屠鏡心</td>\n      <td>Tu Jingxin</td>\n      <td>掃花主人</td>\n      <td>Saohuazhuren</td>\n      <td>None</td>\n      <td>None</td>\n      <td>None</td>\n      <td>None</td>\n      <td>正室</td>\n      <td>...</td>\n      <td>1796</td>\n      <td>1860</td>\n      <td>漢</td>\n      <td>《玩月軒詩草》《爨餘吟二卷》</td>\n      <td>1</td>\n      <td>627</td>\n      <td>清代閨閣詩人徵略﹐吳氏小殘卷齋數目</td>\n      <td>張之縉﹐文廉﹐耀曾序</td>\n      <td>任珮瑛,萬秉,任凱,任治,任謙吉跋</td>\n      <td>140.0</td>\n    </tr>\n    <tr>\n      <th>4</th>\n      <td>12</td>\n      <td>鄭蘭孫</td>\n      <td>Zheng Lansun</td>\n      <td>蘅洲</td>\n      <td>Hengzhou</td>\n      <td>娛清</td>\n      <td>Yuqing</td>\n      <td>None</td>\n      <td>None</td>\n      <td>正室</td>\n      <td>...</td>\n      <td>1814</td>\n      <td>1861</td>\n      <td>漢</td>\n      <td>《蓮因室詩集二卷詞集一卷》﹐《都梁香閣詩詞集》</td>\n      <td>1</td>\n      <td>744</td>\n      <td>杭州府志﹐小檀欒室彙刻百家閨秀詞﹐小黛軒論詩詩﹐閨秀詞話</td>\n      <td>徐鴻謨﹐錢士杓序﹐鄭蘭孫自序﹐俞繡孫﹐孫因培﹐張煒﹐顧琇瑩﹐鍾維則﹐秦緗業﹐楊昌濬﹐孫念培﹐...</td>\n      <td>許樾身跋﹐徐琪附記</td>\n      <td>10.0</td>\n    </tr>\n    <tr>\n      <th>...</th>\n      <td>...</td>\n      <td>...</td>\n      <td>...</td>\n      <td>...</td>\n      <td>...</td>\n      <td>...</td>\n      <td>...</td>\n      <td>...</td>\n      <td>...</td>\n      <td>...</td>\n      <td>...</td>\n      <td>...</td>\n      <td>...</td>\n      <td>...</td>\n      <td>...</td>\n      <td>...</td>\n      <td>...</td>\n      <td>...</td>\n      <td>...</td>\n      <td>...</td>\n      <td>...</td>\n    </tr>\n    <tr>\n      <th>7746</th>\n      <td>8419</td>\n      <td>陳希文</td>\n      <td>Chen Xiwen</td>\n      <td>None</td>\n      <td>None</td>\n      <td>None</td>\n      <td>None</td>\n      <td>None</td>\n      <td>None</td>\n      <td>正室</td>\n      <td>...</td>\n      <td>1769</td>\n      <td>1848</td>\n      <td>漢</td>\n      <td>None</td>\n      <td>1</td>\n      <td>None</td>\n      <td>None</td>\n      <td>None</td>\n      <td>None</td>\n      <td>NaN</td>\n    </tr>\n    <tr>\n      <th>7747</th>\n      <td>8424</td>\n      <td>潘宗秇</td>\n      <td>Pan Zongyi</td>\n      <td>None</td>\n      <td>None</td>\n      <td>小江</td>\n      <td>Xiaojiang</td>\n      <td>None</td>\n      <td>None</td>\n      <td>None</td>\n      <td>...</td>\n      <td>1736</td>\n      <td>1850</td>\n      <td>漢</td>\n      <td>None</td>\n      <td>1</td>\n      <td>None</td>\n      <td>None</td>\n      <td>None</td>\n      <td>None</td>\n      <td>NaN</td>\n    </tr>\n    <tr>\n      <th>7748</th>\n      <td>8425</td>\n      <td>陳邦泰</td>\n      <td>Chen Bangtai</td>\n      <td>None</td>\n      <td>None</td>\n      <td>None</td>\n      <td>None</td>\n      <td>None</td>\n      <td>None</td>\n      <td>None</td>\n      <td>...</td>\n      <td>1736</td>\n      <td>1850</td>\n      <td>漢</td>\n      <td>None</td>\n      <td>1</td>\n      <td>None</td>\n      <td>None</td>\n      <td>None</td>\n      <td>None</td>\n      <td>NaN</td>\n    </tr>\n    <tr>\n      <th>7749</th>\n      <td>8430</td>\n      <td>程雲</td>\n      <td>Cheng Yun</td>\n      <td>None</td>\n      <td>None</td>\n      <td>頑石</td>\n      <td>Wanshi</td>\n      <td>None</td>\n      <td>None</td>\n      <td>None</td>\n      <td>...</td>\n      <td>1796</td>\n      <td>1861</td>\n      <td>漢</td>\n      <td>None</td>\n      <td>0</td>\n      <td>None</td>\n      <td>None</td>\n      <td>None</td>\n      <td>None</td>\n      <td>NaN</td>\n    </tr>\n    <tr>\n      <th>7750</th>\n      <td>8442</td>\n      <td>李稷勳</td>\n      <td>Li Jixun</td>\n      <td>None</td>\n      <td>None</td>\n      <td>姚琴</td>\n      <td>Yaoqin</td>\n      <td>None</td>\n      <td>None</td>\n      <td>None</td>\n      <td>...</td>\n      <td>1857</td>\n      <td>1918</td>\n      <td>漢</td>\n      <td>None</td>\n      <td>1</td>\n      <td>None</td>\n      <td>None</td>\n      <td>None</td>\n      <td>None</td>\n      <td>NaN</td>\n    </tr>\n  </tbody>\n</table>\n<p>7751 rows × 23 columns</p>\n</div>"
     },
     "execution_count": 62,
     "metadata": {},
     "output_type": "execute_result"
    }
   ],
   "source": [
    "poetregionSQL = '''\n",
    "SELECT poet.*, poetregionlinks.regionID\n",
    "FROM poet\n",
    "LEFT JOIN poetregionlinks ON poet.poetID = poetregionlinks.poetID\n",
    "'''\n",
    "poetregion = duckdb.query(poetregionSQL).df()\n",
    "poetregion"
   ],
   "metadata": {
    "collapsed": false,
    "ExecuteTime": {
     "end_time": "2024-11-04T07:11:44.522817Z",
     "start_time": "2024-11-04T07:11:44.491393Z"
    }
   },
   "id": "b27d5d1958a490c8",
   "execution_count": 62
  },
  {
   "cell_type": "code",
   "outputs": [],
   "source": [
    "columns_to_display = [col for col in poetregion.columns if 'PY' not in col]\n",
    "\n",
    "alt.renderers.enable('default')\n",
    "alt.data_transformers.disable_max_rows()\n",
    "\n",
    "poet_long = poetregion.reset_index().melt(id_vars='poetID', value_vars=columns_to_display)\n",
    "poet_long['non_null'] = poet_long['value'].notna()\n",
    "poet_long['value_or_null'] = poet_long['value'].fillna('Empty') \n",
    "\n",
    "chart = alt.Chart(poet_long).mark_rect().encode(\n",
    "    x=alt.X('variable:N', title='Column'),\n",
    "    y=alt.Y('poetID:O', title='PoetID'),\n",
    "    color=alt.Color('non_null:N', legend=None, scale=alt.Scale(domain=[True, False], range=['green', 'red'])),\n",
    "    tooltip=[alt.Tooltip('poetID:N', title='Poet ID'), alt.Tooltip('variable:N', title='Column'), alt.Tooltip('value_or_null:N', title='Value')]\n",
    ").properties(\n",
    "    width=2000,\n",
    "    height=30000\n",
    ").configure_axis(\n",
    "    grid=False\n",
    ")\n",
    "\n",
    "# 显示图表\n",
    "chart.save('poetwithregion.html')"
   ],
   "metadata": {
    "collapsed": false,
    "ExecuteTime": {
     "end_time": "2024-11-03T07:10:49.414179Z",
     "start_time": "2024-11-03T07:10:48.723952Z"
    }
   },
   "id": "917aeb2414179f43",
   "execution_count": 123
  },
  {
   "cell_type": "code",
   "outputs": [],
   "source": [
    "columns_to_display = [col for col in work.columns if 'PY' not in col]\n",
    "\n",
    "alt.renderers.enable('default')\n",
    "alt.data_transformers.disable_max_rows()\n",
    "\n",
    "work_long = work.reset_index().melt(id_vars='workID', value_vars=columns_to_display)\n",
    "work_long['non_null'] = work_long['value'].notna()\n",
    "work_long['value_or_null'] = work_long['value'].fillna('Empty') \n",
    "\n",
    "chart = alt.Chart(work_long).mark_rect().encode(\n",
    "    x=alt.X('variable:N', title='Column'),\n",
    "    y=alt.Y('workID:O', title='WorkID'),\n",
    "    color=alt.Color('non_null:N', legend=None, scale=alt.Scale(domain=[True, False], range=['green', 'red'])),\n",
    "    tooltip=[alt.Tooltip('workID:N', title='WorkID'), alt.Tooltip('variable:N', title='Column'), alt.Tooltip('value_or_null:N', title='Value')]\n",
    ").properties(\n",
    "    width=2000,\n",
    "    height=5000\n",
    ").configure_axis(\n",
    "    grid=False\n",
    ")\n",
    "\n",
    "# 显示图表\n",
    "chart.save('work.html')"
   ],
   "metadata": {
    "collapsed": false,
    "ExecuteTime": {
     "end_time": "2024-11-03T07:13:17.898788Z",
     "start_time": "2024-11-03T07:13:17.832465Z"
    }
   },
   "id": "58f6109c2c5a7e4f",
   "execution_count": 124
  },
  {
   "cell_type": "code",
   "outputs": [],
   "source": [
    "columns_to_display = [col for col in poem.columns if 'PY' not in col]\n",
    "\n",
    "alt.renderers.enable('default')\n",
    "alt.data_transformers.disable_max_rows()\n",
    "\n",
    "poem_long = poem.reset_index().melt(id_vars='poemID',value_vars=columns_to_display)\n",
    "poem_long['non_null'] = poem_long['value'].notna()\n",
    "poem_long['value_or_null'] = poem_long['value'].fillna('Empty') \n",
    "\n",
    "chart = alt.Chart(poem_long).mark_rect().encode(\n",
    "    x=alt.X('variable:N', title='Column'),\n",
    "    y=alt.Y('poemID:O', title='PoemID'),\n",
    "    color=alt.Color('non_null:N', legend=None, scale=alt.Scale(domain=[True, False], range=['green', 'red'])),\n",
    "    tooltip=[alt.Tooltip('poemID:N', title='PoemID'), alt.Tooltip('variable:N', title='Column'), alt.Tooltip('value_or_null:N', title='Value')]\n",
    ").properties(\n",
    "    width=2000,\n",
    "    height=30000\n",
    ").configure_axis(\n",
    "    grid=False\n",
    ")\n",
    "\n",
    "# 显示图表\n",
    "chart.save('poem.html')"
   ],
   "metadata": {
    "collapsed": false,
    "ExecuteTime": {
     "end_time": "2024-11-03T07:15:28.094179Z",
     "start_time": "2024-11-03T07:15:25.248402Z"
    }
   },
   "id": "1c615b1a9ae32b39",
   "execution_count": 125
  },
  {
   "cell_type": "markdown",
   "source": [
    "# 品（poem）重要性：所在集（work）的重要性、作者（poet）的重要性"
   ],
   "metadata": {
    "collapsed": false
   },
   "id": "90530bd5a6f69f65"
  },
  {
   "cell_type": "code",
   "outputs": [
    {
     "data": {
      "text/plain": "       poemID  workID  poetID\n0        1176    38.0   213.0\n1         778    38.0   922.0\n2        1175    38.0   213.0\n3           6    38.0   494.0\n4           7    38.0   495.0\n...       ...     ...     ...\n92602    3314     NaN     5.0\n92603   44503     NaN  5583.0\n92604   52397     NaN  6038.0\n92605   52407     NaN  6038.0\n92606   48171     NaN     NaN\n\n[92607 rows x 3 columns]",
      "text/html": "<div>\n<style scoped>\n    .dataframe tbody tr th:only-of-type {\n        vertical-align: middle;\n    }\n\n    .dataframe tbody tr th {\n        vertical-align: top;\n    }\n\n    .dataframe thead th {\n        text-align: right;\n    }\n</style>\n<table border=\"1\" class=\"dataframe\">\n  <thead>\n    <tr style=\"text-align: right;\">\n      <th></th>\n      <th>poemID</th>\n      <th>workID</th>\n      <th>poetID</th>\n    </tr>\n  </thead>\n  <tbody>\n    <tr>\n      <th>0</th>\n      <td>1176</td>\n      <td>38.0</td>\n      <td>213.0</td>\n    </tr>\n    <tr>\n      <th>1</th>\n      <td>778</td>\n      <td>38.0</td>\n      <td>922.0</td>\n    </tr>\n    <tr>\n      <th>2</th>\n      <td>1175</td>\n      <td>38.0</td>\n      <td>213.0</td>\n    </tr>\n    <tr>\n      <th>3</th>\n      <td>6</td>\n      <td>38.0</td>\n      <td>494.0</td>\n    </tr>\n    <tr>\n      <th>4</th>\n      <td>7</td>\n      <td>38.0</td>\n      <td>495.0</td>\n    </tr>\n    <tr>\n      <th>...</th>\n      <td>...</td>\n      <td>...</td>\n      <td>...</td>\n    </tr>\n    <tr>\n      <th>92602</th>\n      <td>3314</td>\n      <td>NaN</td>\n      <td>5.0</td>\n    </tr>\n    <tr>\n      <th>92603</th>\n      <td>44503</td>\n      <td>NaN</td>\n      <td>5583.0</td>\n    </tr>\n    <tr>\n      <th>92604</th>\n      <td>52397</td>\n      <td>NaN</td>\n      <td>6038.0</td>\n    </tr>\n    <tr>\n      <th>92605</th>\n      <td>52407</td>\n      <td>NaN</td>\n      <td>6038.0</td>\n    </tr>\n    <tr>\n      <th>92606</th>\n      <td>48171</td>\n      <td>NaN</td>\n      <td>NaN</td>\n    </tr>\n  </tbody>\n</table>\n<p>92607 rows × 3 columns</p>\n</div>"
     },
     "execution_count": 36,
     "metadata": {},
     "output_type": "execute_result"
    }
   ],
   "source": [
    "workWeight = 0.5\n",
    "poetWeight = 0.5\n",
    "\n",
    "poemWorkPoetSQL = '''\n",
    "SELECT poem.poemID, workpoemlinks.workID,poempoetlinks.poetID\n",
    "FROM poem\n",
    "LEFT JOIN workpoemlinks ON poem.poemID = workpoemlinks.poemID\n",
    "LEFT JOIN poempoetlinks ON poem.poemID = poempoetlinks.poemID\n",
    "'''\n",
    "\n",
    "poemWorkPoet = duckdb.query(poemWorkPoetSQL).df()\n",
    "# poemWorkPoet.set_index('poemID', inplace=True)\n",
    "poemWorkPoet"
   ],
   "metadata": {
    "collapsed": false,
    "ExecuteTime": {
     "end_time": "2024-11-04T07:38:40.038622Z",
     "start_time": "2024-11-04T07:38:40.008494Z"
    }
   },
   "id": "ed726a8673918e7a",
   "execution_count": 36
  },
  {
   "cell_type": "code",
   "outputs": [
    {
     "data": {
      "text/plain": "       poemID workID  poetID  workImportance\n0        1176     38   213.0             NaN\n1         778     38   922.0             NaN\n2        1175     38   213.0             NaN\n3           6     38   494.0             NaN\n4           7     38   495.0             NaN\n...       ...    ...     ...             ...\n92602    3314      0     5.0             NaN\n92603   44503      0  5583.0             NaN\n92604   52397      0  6038.0             NaN\n92605   52407      0  6038.0             NaN\n92606   48171      0     NaN             NaN\n\n[92607 rows x 4 columns]",
      "text/html": "<div>\n<style scoped>\n    .dataframe tbody tr th:only-of-type {\n        vertical-align: middle;\n    }\n\n    .dataframe tbody tr th {\n        vertical-align: top;\n    }\n\n    .dataframe thead th {\n        text-align: right;\n    }\n</style>\n<table border=\"1\" class=\"dataframe\">\n  <thead>\n    <tr style=\"text-align: right;\">\n      <th></th>\n      <th>poemID</th>\n      <th>workID</th>\n      <th>poetID</th>\n      <th>workImportance</th>\n    </tr>\n  </thead>\n  <tbody>\n    <tr>\n      <th>0</th>\n      <td>1176</td>\n      <td>38</td>\n      <td>213.0</td>\n      <td>NaN</td>\n    </tr>\n    <tr>\n      <th>1</th>\n      <td>778</td>\n      <td>38</td>\n      <td>922.0</td>\n      <td>NaN</td>\n    </tr>\n    <tr>\n      <th>2</th>\n      <td>1175</td>\n      <td>38</td>\n      <td>213.0</td>\n      <td>NaN</td>\n    </tr>\n    <tr>\n      <th>3</th>\n      <td>6</td>\n      <td>38</td>\n      <td>494.0</td>\n      <td>NaN</td>\n    </tr>\n    <tr>\n      <th>4</th>\n      <td>7</td>\n      <td>38</td>\n      <td>495.0</td>\n      <td>NaN</td>\n    </tr>\n    <tr>\n      <th>...</th>\n      <td>...</td>\n      <td>...</td>\n      <td>...</td>\n      <td>...</td>\n    </tr>\n    <tr>\n      <th>92602</th>\n      <td>3314</td>\n      <td>0</td>\n      <td>5.0</td>\n      <td>NaN</td>\n    </tr>\n    <tr>\n      <th>92603</th>\n      <td>44503</td>\n      <td>0</td>\n      <td>5583.0</td>\n      <td>NaN</td>\n    </tr>\n    <tr>\n      <th>92604</th>\n      <td>52397</td>\n      <td>0</td>\n      <td>6038.0</td>\n      <td>NaN</td>\n    </tr>\n    <tr>\n      <th>92605</th>\n      <td>52407</td>\n      <td>0</td>\n      <td>6038.0</td>\n      <td>NaN</td>\n    </tr>\n    <tr>\n      <th>92606</th>\n      <td>48171</td>\n      <td>0</td>\n      <td>NaN</td>\n      <td>NaN</td>\n    </tr>\n  </tbody>\n</table>\n<p>92607 rows × 4 columns</p>\n</div>"
     },
     "execution_count": 37,
     "metadata": {},
     "output_type": "execute_result"
    }
   ],
   "source": [
    "poemWorkPoet['workID'] = poemWorkPoet['workID'].fillna(0).astype(int).astype(str)\n",
    "# poemWorkPoet['workID'] = poemWorkPoet['workID'].astype(str)\n",
    "# ji_combine.index = ji_combine.index.astype(str)\n",
    "weight_mapping = ji_combine['totalWeight'].reindex(poemWorkPoet['workID']).reset_index(drop=True)\n",
    "\n",
    "poemWorkPoet = pd.concat([poemWorkPoet.reset_index(drop=True), weight_mapping.rename('workImportance')], axis=1)\n",
    "\n",
    "\n",
    "poemWorkPoet"
   ],
   "metadata": {
    "collapsed": false,
    "ExecuteTime": {
     "end_time": "2024-11-04T07:38:42.873836Z",
     "start_time": "2024-11-04T07:38:42.842461Z"
    }
   },
   "id": "b8461935d10f9f0d",
   "execution_count": 37
  },
  {
   "cell_type": "code",
   "outputs": [
    {
     "data": {
      "text/plain": "       poemID workID  poetID  workImportance  poetImportance\n0        1176     38     213             NaN        0.350102\n1         778     38     922             NaN        0.198336\n2        1175     38     213             NaN        0.350102\n3           6     38     494             NaN        0.031820\n4           7     38     495             NaN        0.031820\n...       ...    ...     ...             ...             ...\n92602    3314      0       5             NaN        0.373240\n92603   44503      0    5583             NaN        0.105060\n92604   52397      0    6038             NaN        0.120144\n92605   52407      0    6038             NaN        0.120144\n92606   48171      0       0             NaN             NaN\n\n[92607 rows x 5 columns]",
      "text/html": "<div>\n<style scoped>\n    .dataframe tbody tr th:only-of-type {\n        vertical-align: middle;\n    }\n\n    .dataframe tbody tr th {\n        vertical-align: top;\n    }\n\n    .dataframe thead th {\n        text-align: right;\n    }\n</style>\n<table border=\"1\" class=\"dataframe\">\n  <thead>\n    <tr style=\"text-align: right;\">\n      <th></th>\n      <th>poemID</th>\n      <th>workID</th>\n      <th>poetID</th>\n      <th>workImportance</th>\n      <th>poetImportance</th>\n    </tr>\n  </thead>\n  <tbody>\n    <tr>\n      <th>0</th>\n      <td>1176</td>\n      <td>38</td>\n      <td>213</td>\n      <td>NaN</td>\n      <td>0.350102</td>\n    </tr>\n    <tr>\n      <th>1</th>\n      <td>778</td>\n      <td>38</td>\n      <td>922</td>\n      <td>NaN</td>\n      <td>0.198336</td>\n    </tr>\n    <tr>\n      <th>2</th>\n      <td>1175</td>\n      <td>38</td>\n      <td>213</td>\n      <td>NaN</td>\n      <td>0.350102</td>\n    </tr>\n    <tr>\n      <th>3</th>\n      <td>6</td>\n      <td>38</td>\n      <td>494</td>\n      <td>NaN</td>\n      <td>0.031820</td>\n    </tr>\n    <tr>\n      <th>4</th>\n      <td>7</td>\n      <td>38</td>\n      <td>495</td>\n      <td>NaN</td>\n      <td>0.031820</td>\n    </tr>\n    <tr>\n      <th>...</th>\n      <td>...</td>\n      <td>...</td>\n      <td>...</td>\n      <td>...</td>\n      <td>...</td>\n    </tr>\n    <tr>\n      <th>92602</th>\n      <td>3314</td>\n      <td>0</td>\n      <td>5</td>\n      <td>NaN</td>\n      <td>0.373240</td>\n    </tr>\n    <tr>\n      <th>92603</th>\n      <td>44503</td>\n      <td>0</td>\n      <td>5583</td>\n      <td>NaN</td>\n      <td>0.105060</td>\n    </tr>\n    <tr>\n      <th>92604</th>\n      <td>52397</td>\n      <td>0</td>\n      <td>6038</td>\n      <td>NaN</td>\n      <td>0.120144</td>\n    </tr>\n    <tr>\n      <th>92605</th>\n      <td>52407</td>\n      <td>0</td>\n      <td>6038</td>\n      <td>NaN</td>\n      <td>0.120144</td>\n    </tr>\n    <tr>\n      <th>92606</th>\n      <td>48171</td>\n      <td>0</td>\n      <td>0</td>\n      <td>NaN</td>\n      <td>NaN</td>\n    </tr>\n  </tbody>\n</table>\n<p>92607 rows × 5 columns</p>\n</div>"
     },
     "execution_count": 38,
     "metadata": {},
     "output_type": "execute_result"
    }
   ],
   "source": [
    "poemWorkPoet['poetID'] = poemWorkPoet['poetID'].fillna(0).astype(int)\n",
    "# poemWorkPoet['workID'] = poemWorkPoet['workID'].astype(str)\n",
    "# ji_combine.index = ji_combine.index.astype(str)\n",
    "weight_mapping = poet_log['totalWeight'].reindex(poemWorkPoet['poetID']).reset_index(drop=True)\n",
    "\n",
    "poemWorkPoet = pd.concat([poemWorkPoet.reset_index(drop=True), weight_mapping.rename('poetImportance')], axis=1)\n",
    "\n",
    "\n",
    "poemWorkPoet"
   ],
   "metadata": {
    "collapsed": false,
    "ExecuteTime": {
     "end_time": "2024-11-04T07:38:43.312226Z",
     "start_time": "2024-11-04T07:38:43.282530Z"
    }
   },
   "id": "1a778ab82b6270ac",
   "execution_count": 38
  },
  {
   "cell_type": "code",
   "outputs": [],
   "source": [
    "workWeight = 0.5\n",
    "poetWeight = 0.5"
   ],
   "metadata": {
    "collapsed": false,
    "ExecuteTime": {
     "end_time": "2024-11-04T05:39:04.064868Z",
     "start_time": "2024-11-04T05:39:04.056010Z"
    }
   },
   "id": "b6aeda9f36f51631",
   "execution_count": 249
  },
  {
   "cell_type": "code",
   "outputs": [
    {
     "data": {
      "text/plain": "       poemID workID  poetID  workImportance  poetImportance  totalWeight\n0        1176     38     213             NaN        0.350102          NaN\n1         778     38     922             NaN        0.198336          NaN\n2        1175     38     213             NaN        0.350102          NaN\n3           6     38     494             NaN        0.031820          NaN\n4           7     38     495             NaN        0.031820          NaN\n...       ...    ...     ...             ...             ...          ...\n92602    3314      0       5             NaN        0.373240          NaN\n92603   44503      0    5583             NaN        0.105060          NaN\n92604   52397      0    6038             NaN        0.120144          NaN\n92605   52407      0    6038             NaN        0.120144          NaN\n92606   48171      0       0             NaN             NaN          NaN\n\n[92607 rows x 6 columns]",
      "text/html": "<div>\n<style scoped>\n    .dataframe tbody tr th:only-of-type {\n        vertical-align: middle;\n    }\n\n    .dataframe tbody tr th {\n        vertical-align: top;\n    }\n\n    .dataframe thead th {\n        text-align: right;\n    }\n</style>\n<table border=\"1\" class=\"dataframe\">\n  <thead>\n    <tr style=\"text-align: right;\">\n      <th></th>\n      <th>poemID</th>\n      <th>workID</th>\n      <th>poetID</th>\n      <th>workImportance</th>\n      <th>poetImportance</th>\n      <th>totalWeight</th>\n    </tr>\n  </thead>\n  <tbody>\n    <tr>\n      <th>0</th>\n      <td>1176</td>\n      <td>38</td>\n      <td>213</td>\n      <td>NaN</td>\n      <td>0.350102</td>\n      <td>NaN</td>\n    </tr>\n    <tr>\n      <th>1</th>\n      <td>778</td>\n      <td>38</td>\n      <td>922</td>\n      <td>NaN</td>\n      <td>0.198336</td>\n      <td>NaN</td>\n    </tr>\n    <tr>\n      <th>2</th>\n      <td>1175</td>\n      <td>38</td>\n      <td>213</td>\n      <td>NaN</td>\n      <td>0.350102</td>\n      <td>NaN</td>\n    </tr>\n    <tr>\n      <th>3</th>\n      <td>6</td>\n      <td>38</td>\n      <td>494</td>\n      <td>NaN</td>\n      <td>0.031820</td>\n      <td>NaN</td>\n    </tr>\n    <tr>\n      <th>4</th>\n      <td>7</td>\n      <td>38</td>\n      <td>495</td>\n      <td>NaN</td>\n      <td>0.031820</td>\n      <td>NaN</td>\n    </tr>\n    <tr>\n      <th>...</th>\n      <td>...</td>\n      <td>...</td>\n      <td>...</td>\n      <td>...</td>\n      <td>...</td>\n      <td>...</td>\n    </tr>\n    <tr>\n      <th>92602</th>\n      <td>3314</td>\n      <td>0</td>\n      <td>5</td>\n      <td>NaN</td>\n      <td>0.373240</td>\n      <td>NaN</td>\n    </tr>\n    <tr>\n      <th>92603</th>\n      <td>44503</td>\n      <td>0</td>\n      <td>5583</td>\n      <td>NaN</td>\n      <td>0.105060</td>\n      <td>NaN</td>\n    </tr>\n    <tr>\n      <th>92604</th>\n      <td>52397</td>\n      <td>0</td>\n      <td>6038</td>\n      <td>NaN</td>\n      <td>0.120144</td>\n      <td>NaN</td>\n    </tr>\n    <tr>\n      <th>92605</th>\n      <td>52407</td>\n      <td>0</td>\n      <td>6038</td>\n      <td>NaN</td>\n      <td>0.120144</td>\n      <td>NaN</td>\n    </tr>\n    <tr>\n      <th>92606</th>\n      <td>48171</td>\n      <td>0</td>\n      <td>0</td>\n      <td>NaN</td>\n      <td>NaN</td>\n      <td>NaN</td>\n    </tr>\n  </tbody>\n</table>\n<p>92607 rows × 6 columns</p>\n</div>"
     },
     "execution_count": 39,
     "metadata": {},
     "output_type": "execute_result"
    }
   ],
   "source": [
    "poetImportance = poemWorkPoet.copy()\n",
    "\n",
    "poetImportance['totalWeight'] = workWeight * poetImportance['workImportance'] + poetWeight * poetImportance['poetImportance']\n",
    "\n",
    "poetImportance"
   ],
   "metadata": {
    "collapsed": false,
    "ExecuteTime": {
     "end_time": "2024-11-04T07:38:45.977079Z",
     "start_time": "2024-11-04T07:38:45.941816Z"
    }
   },
   "id": "e6fa93d151c5847c",
   "execution_count": 39
  },
  {
   "cell_type": "code",
   "outputs": [],
   "source": [],
   "metadata": {
    "collapsed": false
   },
   "id": "cd8a713a9f5a029b"
  }
 ],
 "metadata": {
  "kernelspec": {
   "display_name": "Python 3",
   "language": "python",
   "name": "python3"
  },
  "language_info": {
   "codemirror_mode": {
    "name": "ipython",
    "version": 2
   },
   "file_extension": ".py",
   "mimetype": "text/x-python",
   "name": "python",
   "nbconvert_exporter": "python",
   "pygments_lexer": "ipython2",
   "version": "2.7.6"
  }
 },
 "nbformat": 4,
 "nbformat_minor": 5
}
