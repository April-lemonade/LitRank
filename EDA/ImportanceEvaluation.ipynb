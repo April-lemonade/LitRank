{
 "cells": [
  {
   "cell_type": "code",
   "execution_count": 1,
   "id": "initial_id",
   "metadata": {
    "collapsed": true,
    "ExecuteTime": {
     "end_time": "2024-11-02T11:09:47.900094Z",
     "start_time": "2024-11-02T11:09:47.492743Z"
    }
   },
   "outputs": [],
   "source": [
    "import pyarrow as pa\n",
    "import pyarrow.parquet as pq\n",
    "import pyarrow.compute as pc\n",
    "import pyarrow.dataset as ds\n",
    "import pandas as pd\n",
    "import duckdb\n",
    "import numpy as np\n",
    "import altair as alt\n",
    "import json\n",
    "from urllib.request import urlopen\n",
    "import time\n",
    "import os\n",
    "import plotly.express as px"
   ]
  },
  {
   "cell_type": "code",
   "outputs": [
    {
     "data": {
      "text/plain": "<duckdb.duckdb.DuckDBPyConnection at 0x13068ac30>"
     },
     "execution_count": 2,
     "metadata": {},
     "output_type": "execute_result"
    }
   ],
   "source": [
    "poet = pd.read_csv('../../CCGIV/datasets/WomenWriting/poet.csv')\n",
    "poem = pd.read_csv('../../CCGIV/datasets/WomenWriting/poem.csv')\n",
    "poempoetlinks = pd.read_csv('../../CCGIV/datasets/WomenWriting/poempoetlinks.csv')\n",
    "subwork = pd.read_csv('../../CCGIV/datasets/WomenWriting/subwork.csv')\n",
    "subworkpoemlinks = pd.read_csv('../../CCGIV/datasets/WomenWriting/subworkpoemlinks.csv')\n",
    "subworkpoetlinks = pd.read_csv('../../CCGIV/datasets/WomenWriting/subworkpoetlinks.csv')\n",
    "work = pd.read_csv('../../CCGIV/datasets/WomenWriting/work.csv')\n",
    "workpoemlinks = pd.read_csv('../../CCGIV/datasets/WomenWriting/workpoemlinks.csv')\n",
    "workpoetlinks = pd.read_csv('../../CCGIV/datasets/WomenWriting/workpoetlinks.csv')\n",
    "\n",
    "con = duckdb.connect()\n",
    "con.register('poet', poet)\n",
    "con.register('poem', poem)\n",
    "con.register('poempoetlinks', poempoetlinks)\n",
    "con.register('subwork', subwork)\n",
    "con.register('subworkpoemlinks', subworkpoemlinks)\n",
    "con.register('subworkpoetlinks', subworkpoetlinks)\n",
    "con.register('work', work)\n",
    "con.register('workpoemlinks', workpoemlinks)\n",
    "con.register('workpoetlinks', workpoetlinks)"
   ],
   "metadata": {
    "collapsed": false,
    "ExecuteTime": {
     "end_time": "2024-11-02T11:10:09.252128Z",
     "start_time": "2024-11-02T11:10:09.070697Z"
    }
   },
   "id": "b76d0601e8b78a7c",
   "execution_count": 2
  },
  {
   "cell_type": "markdown",
   "source": [
    "# 1. 集（work）的 Importance：题辞作者数量、序作者数量、跋作者数量、收录的品（poem）的数量"
   ],
   "metadata": {
    "collapsed": false
   },
   "id": "1e1b99855f1cff69"
  },
  {
   "cell_type": "markdown",
   "source": [
    "## 1.1 题辞作者、序作者、跋作者不去重"
   ],
   "metadata": {
    "collapsed": false
   },
   "id": "f8c20a3c6d82e4e"
  },
  {
   "cell_type": "markdown",
   "source": [
    "### 1.1.1 题辞作者数量"
   ],
   "metadata": {
    "collapsed": false
   },
   "id": "73ce5d2390726dc6"
  },
  {
   "cell_type": "code",
   "outputs": [
    {
     "data": {
      "text/plain": "        ticicount\nworkID           \n125           119\n223            96\n218            73\n352            49\n112            43\n...           ...\n455             1\n21              1\n400             1\n157             1\n376             1\n\n[150 rows x 1 columns]",
      "text/html": "<div>\n<style scoped>\n    .dataframe tbody tr th:only-of-type {\n        vertical-align: middle;\n    }\n\n    .dataframe tbody tr th {\n        vertical-align: top;\n    }\n\n    .dataframe thead th {\n        text-align: right;\n    }\n</style>\n<table border=\"1\" class=\"dataframe\">\n  <thead>\n    <tr style=\"text-align: right;\">\n      <th></th>\n      <th>ticicount</th>\n    </tr>\n    <tr>\n      <th>workID</th>\n      <th></th>\n    </tr>\n  </thead>\n  <tbody>\n    <tr>\n      <th>125</th>\n      <td>119</td>\n    </tr>\n    <tr>\n      <th>223</th>\n      <td>96</td>\n    </tr>\n    <tr>\n      <th>218</th>\n      <td>73</td>\n    </tr>\n    <tr>\n      <th>352</th>\n      <td>49</td>\n    </tr>\n    <tr>\n      <th>112</th>\n      <td>43</td>\n    </tr>\n    <tr>\n      <th>...</th>\n      <td>...</td>\n    </tr>\n    <tr>\n      <th>455</th>\n      <td>1</td>\n    </tr>\n    <tr>\n      <th>21</th>\n      <td>1</td>\n    </tr>\n    <tr>\n      <th>400</th>\n      <td>1</td>\n    </tr>\n    <tr>\n      <th>157</th>\n      <td>1</td>\n    </tr>\n    <tr>\n      <th>376</th>\n      <td>1</td>\n    </tr>\n  </tbody>\n</table>\n<p>150 rows × 1 columns</p>\n</div>"
     },
     "execution_count": 13,
     "metadata": {},
     "output_type": "execute_result"
    }
   ],
   "source": [
    "ticiSQL = '''\n",
    "SELECT workID,count(DISTINCT poetID) as ticicount\n",
    "FROM workpoetlinks \n",
    "WHERE role IN ('題辭')\n",
    "Group By workID\n",
    "ORDER BY ticicount DESC\n",
    "'''\n",
    "tici = duckdb.query(ticiSQL).df()\n",
    "tici.set_index('workID', inplace=True)\n",
    "\n",
    "tici"
   ],
   "metadata": {
    "collapsed": false,
    "ExecuteTime": {
     "end_time": "2024-11-02T11:26:33.788908Z",
     "start_time": "2024-11-02T11:26:33.779896Z"
    }
   },
   "id": "de3bec29a96991f8",
   "execution_count": 13
  },
  {
   "cell_type": "markdown",
   "source": [
    "### 1.1.2 序作者数量"
   ],
   "metadata": {
    "collapsed": false
   },
   "id": "54833db98e616dc5"
  },
  {
   "cell_type": "code",
   "outputs": [
    {
     "data": {
      "text/plain": "        xucount\nworkID         \n158          17\n167          14\n57            9\n118           9\n283           8\n...         ...\n108           1\n375           1\n190           1\n471           1\n130           1\n\n[321 rows x 1 columns]",
      "text/html": "<div>\n<style scoped>\n    .dataframe tbody tr th:only-of-type {\n        vertical-align: middle;\n    }\n\n    .dataframe tbody tr th {\n        vertical-align: top;\n    }\n\n    .dataframe thead th {\n        text-align: right;\n    }\n</style>\n<table border=\"1\" class=\"dataframe\">\n  <thead>\n    <tr style=\"text-align: right;\">\n      <th></th>\n      <th>xucount</th>\n    </tr>\n    <tr>\n      <th>workID</th>\n      <th></th>\n    </tr>\n  </thead>\n  <tbody>\n    <tr>\n      <th>158</th>\n      <td>17</td>\n    </tr>\n    <tr>\n      <th>167</th>\n      <td>14</td>\n    </tr>\n    <tr>\n      <th>57</th>\n      <td>9</td>\n    </tr>\n    <tr>\n      <th>118</th>\n      <td>9</td>\n    </tr>\n    <tr>\n      <th>283</th>\n      <td>8</td>\n    </tr>\n    <tr>\n      <th>...</th>\n      <td>...</td>\n    </tr>\n    <tr>\n      <th>108</th>\n      <td>1</td>\n    </tr>\n    <tr>\n      <th>375</th>\n      <td>1</td>\n    </tr>\n    <tr>\n      <th>190</th>\n      <td>1</td>\n    </tr>\n    <tr>\n      <th>471</th>\n      <td>1</td>\n    </tr>\n    <tr>\n      <th>130</th>\n      <td>1</td>\n    </tr>\n  </tbody>\n</table>\n<p>321 rows × 1 columns</p>\n</div>"
     },
     "execution_count": 14,
     "metadata": {},
     "output_type": "execute_result"
    }
   ],
   "source": [
    "xuSQL = '''\n",
    "SELECT workID,count(DISTINCT poetID) as xucount\n",
    "FROM workpoetlinks \n",
    "WHERE role IN ('序作者')\n",
    "Group By workID\n",
    "ORDER BY xucount DESC\n",
    "'''\n",
    "xu = duckdb.query(xuSQL).df()\n",
    "xu.set_index('workID', inplace=True)\n",
    "xu"
   ],
   "metadata": {
    "collapsed": false,
    "ExecuteTime": {
     "end_time": "2024-11-02T11:26:54.675794Z",
     "start_time": "2024-11-02T11:26:54.661916Z"
    }
   },
   "id": "50e5f89dea8d3757",
   "execution_count": 14
  },
  {
   "cell_type": "markdown",
   "source": [
    "### 1.1.3 跋作者数量"
   ],
   "metadata": {
    "collapsed": false
   },
   "id": "6e7a6582e1bbad1e"
  },
  {
   "cell_type": "code",
   "outputs": [],
   "source": [
    "baSQL = '''\n",
    "SELECT workID,count(DISTINCT poetID) as bacount\n",
    "FROM workpoetlinks \n",
    "WHERE role IN ('跋作者')\n",
    "Group By workID\n",
    "ORDER BY bacount DESC\n",
    "'''\n",
    "ba = duckdb.query(baSQL).df()\n",
    "ba.set_index('workID', inplace=True)\n",
    "ba"
   ],
   "metadata": {
    "collapsed": false
   },
   "id": "4786b67b05bbe362"
  },
  {
   "cell_type": "markdown",
   "source": [
    "### 1.1.4 题辞、序、跋汇总"
   ],
   "metadata": {
    "collapsed": false
   },
   "id": "cfb17c0315d86b1f"
  },
  {
   "cell_type": "code",
   "outputs": [
    {
     "data": {
      "text/plain": "        ticicount  xucount  bacount\nworkID                             \n9             0.0      3.0      1.0\n10            2.0      2.0      0.0\n11            0.0      3.0      0.0\n12            1.0      5.0      1.0\n13            0.0      1.0      0.0\n...           ...      ...      ...\n476           1.0      4.0      0.0\n477          14.0      5.0      1.0\n479           1.0      4.0      1.0\n480           3.0      5.0      0.0\n482           1.0      1.0      0.0\n\n[363 rows x 3 columns]",
      "text/html": "<div>\n<style scoped>\n    .dataframe tbody tr th:only-of-type {\n        vertical-align: middle;\n    }\n\n    .dataframe tbody tr th {\n        vertical-align: top;\n    }\n\n    .dataframe thead th {\n        text-align: right;\n    }\n</style>\n<table border=\"1\" class=\"dataframe\">\n  <thead>\n    <tr style=\"text-align: right;\">\n      <th></th>\n      <th>ticicount</th>\n      <th>xucount</th>\n      <th>bacount</th>\n    </tr>\n    <tr>\n      <th>workID</th>\n      <th></th>\n      <th></th>\n      <th></th>\n    </tr>\n  </thead>\n  <tbody>\n    <tr>\n      <th>9</th>\n      <td>0.0</td>\n      <td>3.0</td>\n      <td>1.0</td>\n    </tr>\n    <tr>\n      <th>10</th>\n      <td>2.0</td>\n      <td>2.0</td>\n      <td>0.0</td>\n    </tr>\n    <tr>\n      <th>11</th>\n      <td>0.0</td>\n      <td>3.0</td>\n      <td>0.0</td>\n    </tr>\n    <tr>\n      <th>12</th>\n      <td>1.0</td>\n      <td>5.0</td>\n      <td>1.0</td>\n    </tr>\n    <tr>\n      <th>13</th>\n      <td>0.0</td>\n      <td>1.0</td>\n      <td>0.0</td>\n    </tr>\n    <tr>\n      <th>...</th>\n      <td>...</td>\n      <td>...</td>\n      <td>...</td>\n    </tr>\n    <tr>\n      <th>476</th>\n      <td>1.0</td>\n      <td>4.0</td>\n      <td>0.0</td>\n    </tr>\n    <tr>\n      <th>477</th>\n      <td>14.0</td>\n      <td>5.0</td>\n      <td>1.0</td>\n    </tr>\n    <tr>\n      <th>479</th>\n      <td>1.0</td>\n      <td>4.0</td>\n      <td>1.0</td>\n    </tr>\n    <tr>\n      <th>480</th>\n      <td>3.0</td>\n      <td>5.0</td>\n      <td>0.0</td>\n    </tr>\n    <tr>\n      <th>482</th>\n      <td>1.0</td>\n      <td>1.0</td>\n      <td>0.0</td>\n    </tr>\n  </tbody>\n</table>\n<p>363 rows × 3 columns</p>\n</div>"
     },
     "execution_count": 16,
     "metadata": {},
     "output_type": "execute_result"
    }
   ],
   "source": [
    "from functools import reduce\n",
    "\n",
    "TiciXuBa = reduce(lambda left, right: pd.merge(left, right, on='workID', how='outer'), [tici, xu, ba]).fillna(0)\n",
    "TiciXuBa"
   ],
   "metadata": {
    "collapsed": false,
    "ExecuteTime": {
     "end_time": "2024-11-02T11:27:30.023261Z",
     "start_time": "2024-11-02T11:27:30.011821Z"
    }
   },
   "id": "7abe974aed3a0b68",
   "execution_count": 16
  },
  {
   "cell_type": "markdown",
   "source": [
    "## 1.2 题辞作者、序作者、跋作者去重"
   ],
   "metadata": {
    "collapsed": false
   },
   "id": "fde2af146e45f824"
  },
  {
   "cell_type": "markdown",
   "source": [
    "问题：在同一个集里有多重角色的作者，应该计数到哪种角色中？比如既是题辞作者又是序作者，算到哪类？"
   ],
   "metadata": {
    "collapsed": false
   },
   "id": "7cdcb7c09eeb0052"
  },
  {
   "cell_type": "markdown",
   "source": [
    "## 1.3 集收录的作品数"
   ],
   "metadata": {
    "collapsed": false
   },
   "id": "35ed091b7fc0348c"
  },
  {
   "cell_type": "code",
   "outputs": [
    {
     "data": {
      "text/plain": "        includedcount\nworkID               \n61               5075\n120              3771\n38               2478\n63               2145\n88               2052\n...               ...\n341                 9\n358                 7\n225                 7\n373                 3\n252                 1\n\n[432 rows x 1 columns]",
      "text/html": "<div>\n<style scoped>\n    .dataframe tbody tr th:only-of-type {\n        vertical-align: middle;\n    }\n\n    .dataframe tbody tr th {\n        vertical-align: top;\n    }\n\n    .dataframe thead th {\n        text-align: right;\n    }\n</style>\n<table border=\"1\" class=\"dataframe\">\n  <thead>\n    <tr style=\"text-align: right;\">\n      <th></th>\n      <th>includedcount</th>\n    </tr>\n    <tr>\n      <th>workID</th>\n      <th></th>\n    </tr>\n  </thead>\n  <tbody>\n    <tr>\n      <th>61</th>\n      <td>5075</td>\n    </tr>\n    <tr>\n      <th>120</th>\n      <td>3771</td>\n    </tr>\n    <tr>\n      <th>38</th>\n      <td>2478</td>\n    </tr>\n    <tr>\n      <th>63</th>\n      <td>2145</td>\n    </tr>\n    <tr>\n      <th>88</th>\n      <td>2052</td>\n    </tr>\n    <tr>\n      <th>...</th>\n      <td>...</td>\n    </tr>\n    <tr>\n      <th>341</th>\n      <td>9</td>\n    </tr>\n    <tr>\n      <th>358</th>\n      <td>7</td>\n    </tr>\n    <tr>\n      <th>225</th>\n      <td>7</td>\n    </tr>\n    <tr>\n      <th>373</th>\n      <td>3</td>\n    </tr>\n    <tr>\n      <th>252</th>\n      <td>1</td>\n    </tr>\n  </tbody>\n</table>\n<p>432 rows × 1 columns</p>\n</div>"
     },
     "execution_count": 17,
     "metadata": {},
     "output_type": "execute_result"
    }
   ],
   "source": [
    "includedWorkSQL = '''\n",
    "SELECT workID,count(poemID) as includedcount\n",
    "FROM workpoemlinks \n",
    "Group By workID\n",
    "ORDER BY includedcount DESC\n",
    "'''\n",
    "includedWork = duckdb.query(includedWorkSQL).df()\n",
    "includedWork.set_index('workID', inplace=True)\n",
    "\n",
    "includedWork"
   ],
   "metadata": {
    "collapsed": false,
    "ExecuteTime": {
     "end_time": "2024-11-02T11:36:36.015659Z",
     "start_time": "2024-11-02T11:36:36.002055Z"
    }
   },
   "id": "beb00f4deb219484",
   "execution_count": 17
  },
  {
   "cell_type": "markdown",
   "source": [
    "## 1.4 集的题辞作者数、序作者数、跋作者数、收录作品数汇总"
   ],
   "metadata": {
    "collapsed": false
   },
   "id": "7c12639d4039b6b5"
  },
  {
   "cell_type": "code",
   "outputs": [
    {
     "data": {
      "text/plain": "        ticicount  xucount  bacount  includedcount\nworkID                                            \n9             0.0      3.0      1.0          986.0\n10            2.0      2.0      0.0          404.0\n11            0.0      3.0      0.0          137.0\n12            1.0      5.0      1.0          126.0\n13            0.0      1.0      0.0          252.0\n...           ...      ...      ...            ...\n478           0.0      0.0      0.0          206.0\n479           1.0      4.0      1.0          310.0\n480           3.0      5.0      0.0           82.0\n481           0.0      0.0      0.0          885.0\n482           1.0      1.0      0.0          162.0\n\n[433 rows x 4 columns]",
      "text/html": "<div>\n<style scoped>\n    .dataframe tbody tr th:only-of-type {\n        vertical-align: middle;\n    }\n\n    .dataframe tbody tr th {\n        vertical-align: top;\n    }\n\n    .dataframe thead th {\n        text-align: right;\n    }\n</style>\n<table border=\"1\" class=\"dataframe\">\n  <thead>\n    <tr style=\"text-align: right;\">\n      <th></th>\n      <th>ticicount</th>\n      <th>xucount</th>\n      <th>bacount</th>\n      <th>includedcount</th>\n    </tr>\n    <tr>\n      <th>workID</th>\n      <th></th>\n      <th></th>\n      <th></th>\n      <th></th>\n    </tr>\n  </thead>\n  <tbody>\n    <tr>\n      <th>9</th>\n      <td>0.0</td>\n      <td>3.0</td>\n      <td>1.0</td>\n      <td>986.0</td>\n    </tr>\n    <tr>\n      <th>10</th>\n      <td>2.0</td>\n      <td>2.0</td>\n      <td>0.0</td>\n      <td>404.0</td>\n    </tr>\n    <tr>\n      <th>11</th>\n      <td>0.0</td>\n      <td>3.0</td>\n      <td>0.0</td>\n      <td>137.0</td>\n    </tr>\n    <tr>\n      <th>12</th>\n      <td>1.0</td>\n      <td>5.0</td>\n      <td>1.0</td>\n      <td>126.0</td>\n    </tr>\n    <tr>\n      <th>13</th>\n      <td>0.0</td>\n      <td>1.0</td>\n      <td>0.0</td>\n      <td>252.0</td>\n    </tr>\n    <tr>\n      <th>...</th>\n      <td>...</td>\n      <td>...</td>\n      <td>...</td>\n      <td>...</td>\n    </tr>\n    <tr>\n      <th>478</th>\n      <td>0.0</td>\n      <td>0.0</td>\n      <td>0.0</td>\n      <td>206.0</td>\n    </tr>\n    <tr>\n      <th>479</th>\n      <td>1.0</td>\n      <td>4.0</td>\n      <td>1.0</td>\n      <td>310.0</td>\n    </tr>\n    <tr>\n      <th>480</th>\n      <td>3.0</td>\n      <td>5.0</td>\n      <td>0.0</td>\n      <td>82.0</td>\n    </tr>\n    <tr>\n      <th>481</th>\n      <td>0.0</td>\n      <td>0.0</td>\n      <td>0.0</td>\n      <td>885.0</td>\n    </tr>\n    <tr>\n      <th>482</th>\n      <td>1.0</td>\n      <td>1.0</td>\n      <td>0.0</td>\n      <td>162.0</td>\n    </tr>\n  </tbody>\n</table>\n<p>433 rows × 4 columns</p>\n</div>"
     },
     "execution_count": 18,
     "metadata": {},
     "output_type": "execute_result"
    }
   ],
   "source": [
    "jiRawData = reduce(lambda left, right: pd.merge(left, right, on='workID', how='outer'), [tici, xu, ba, includedWork]).fillna(0)\n",
    "jiRawData"
   ],
   "metadata": {
    "collapsed": false,
    "ExecuteTime": {
     "end_time": "2024-11-02T11:40:04.850815Z",
     "start_time": "2024-11-02T11:40:04.807367Z"
    }
   },
   "id": "a9afbfdfd1e50d82",
   "execution_count": 18
  },
  {
   "cell_type": "markdown",
   "source": [
    "## 1.5 归一化"
   ],
   "metadata": {
    "collapsed": false
   },
   "id": "b08deb1f09b08154"
  },
  {
   "cell_type": "markdown",
   "source": [
    "### 1.5.1 Min-Max归一化"
   ],
   "metadata": {
    "collapsed": false
   },
   "id": "11148654c659f1dc"
  },
  {
   "cell_type": "code",
   "outputs": [],
   "source": [
    "def min_max_normalize(series):\n",
    "    return (series - series.min()) / (series.max() - series.min()) * 100"
   ],
   "metadata": {
    "collapsed": false,
    "ExecuteTime": {
     "end_time": "2024-11-02T11:44:48.592598Z",
     "start_time": "2024-11-02T11:44:48.587769Z"
    }
   },
   "id": "c9c56c6164416eed",
   "execution_count": 19
  },
  {
   "cell_type": "code",
   "outputs": [
    {
     "data": {
      "text/plain": "        ticicount    xucount  bacount  includedcount\nworkID                                              \n9        0.000000  17.647059     20.0      19.428571\n10       1.680672  11.764706      0.0       7.960591\n11       0.000000  17.647059      0.0       2.699507\n12       0.840336  29.411765     20.0       2.482759\n13       0.000000   5.882353      0.0       4.965517\n...           ...        ...      ...            ...\n478      0.000000   0.000000      0.0       4.059113\n479      0.840336  23.529412     20.0       6.108374\n480      2.521008  29.411765      0.0       1.615764\n481      0.000000   0.000000      0.0      17.438424\n482      0.840336   5.882353      0.0       3.192118\n\n[433 rows x 4 columns]",
      "text/html": "<div>\n<style scoped>\n    .dataframe tbody tr th:only-of-type {\n        vertical-align: middle;\n    }\n\n    .dataframe tbody tr th {\n        vertical-align: top;\n    }\n\n    .dataframe thead th {\n        text-align: right;\n    }\n</style>\n<table border=\"1\" class=\"dataframe\">\n  <thead>\n    <tr style=\"text-align: right;\">\n      <th></th>\n      <th>ticicount</th>\n      <th>xucount</th>\n      <th>bacount</th>\n      <th>includedcount</th>\n    </tr>\n    <tr>\n      <th>workID</th>\n      <th></th>\n      <th></th>\n      <th></th>\n      <th></th>\n    </tr>\n  </thead>\n  <tbody>\n    <tr>\n      <th>9</th>\n      <td>0.000000</td>\n      <td>17.647059</td>\n      <td>20.0</td>\n      <td>19.428571</td>\n    </tr>\n    <tr>\n      <th>10</th>\n      <td>1.680672</td>\n      <td>11.764706</td>\n      <td>0.0</td>\n      <td>7.960591</td>\n    </tr>\n    <tr>\n      <th>11</th>\n      <td>0.000000</td>\n      <td>17.647059</td>\n      <td>0.0</td>\n      <td>2.699507</td>\n    </tr>\n    <tr>\n      <th>12</th>\n      <td>0.840336</td>\n      <td>29.411765</td>\n      <td>20.0</td>\n      <td>2.482759</td>\n    </tr>\n    <tr>\n      <th>13</th>\n      <td>0.000000</td>\n      <td>5.882353</td>\n      <td>0.0</td>\n      <td>4.965517</td>\n    </tr>\n    <tr>\n      <th>...</th>\n      <td>...</td>\n      <td>...</td>\n      <td>...</td>\n      <td>...</td>\n    </tr>\n    <tr>\n      <th>478</th>\n      <td>0.000000</td>\n      <td>0.000000</td>\n      <td>0.0</td>\n      <td>4.059113</td>\n    </tr>\n    <tr>\n      <th>479</th>\n      <td>0.840336</td>\n      <td>23.529412</td>\n      <td>20.0</td>\n      <td>6.108374</td>\n    </tr>\n    <tr>\n      <th>480</th>\n      <td>2.521008</td>\n      <td>29.411765</td>\n      <td>0.0</td>\n      <td>1.615764</td>\n    </tr>\n    <tr>\n      <th>481</th>\n      <td>0.000000</td>\n      <td>0.000000</td>\n      <td>0.0</td>\n      <td>17.438424</td>\n    </tr>\n    <tr>\n      <th>482</th>\n      <td>0.840336</td>\n      <td>5.882353</td>\n      <td>0.0</td>\n      <td>3.192118</td>\n    </tr>\n  </tbody>\n</table>\n<p>433 rows × 4 columns</p>\n</div>"
     },
     "execution_count": 27,
     "metadata": {},
     "output_type": "execute_result"
    }
   ],
   "source": [
    "ji_min_max_normalize = jiRawData.copy()\n",
    "for column in ji_min_max_normalize.columns:\n",
    "    if ji_min_max_normalize[column].dtype in ['float64', 'int64']:  # 检查数据类型是否为数值类型\n",
    "        ji_min_max_normalize[column] = min_max_normalize(ji_min_max_normalize[column])\n",
    "ji_min_max_normalize"
   ],
   "metadata": {
    "collapsed": false,
    "ExecuteTime": {
     "end_time": "2024-11-02T12:08:51.475719Z",
     "start_time": "2024-11-02T12:08:51.472039Z"
    }
   },
   "id": "dfaed373c7dfcf0f",
   "execution_count": 27
  },
  {
   "cell_type": "markdown",
   "source": [
    "### 1.5.2 对数归一化"
   ],
   "metadata": {
    "collapsed": false
   },
   "id": "eb98b2e22970f5ee"
  },
  {
   "cell_type": "code",
   "outputs": [
    {
     "data": {
      "text/plain": "        ticicount   xucount   bacount  includedcount\nworkID                                              \n9        0.000000  1.386294  0.693147       6.894670\n10       1.098612  1.098612  0.000000       6.003887\n11       0.000000  1.386294  0.000000       4.927254\n12       0.693147  1.791759  0.693147       4.844187\n13       0.000000  0.693147  0.000000       5.533389\n...           ...       ...       ...            ...\n478      0.000000  0.000000  0.000000       5.332719\n479      0.693147  1.609438  0.693147       5.739793\n480      1.386294  1.791759  0.000000       4.418841\n481      0.000000  0.000000  0.000000       6.786717\n482      0.693147  0.693147  0.000000       5.093750\n\n[433 rows x 4 columns]",
      "text/html": "<div>\n<style scoped>\n    .dataframe tbody tr th:only-of-type {\n        vertical-align: middle;\n    }\n\n    .dataframe tbody tr th {\n        vertical-align: top;\n    }\n\n    .dataframe thead th {\n        text-align: right;\n    }\n</style>\n<table border=\"1\" class=\"dataframe\">\n  <thead>\n    <tr style=\"text-align: right;\">\n      <th></th>\n      <th>ticicount</th>\n      <th>xucount</th>\n      <th>bacount</th>\n      <th>includedcount</th>\n    </tr>\n    <tr>\n      <th>workID</th>\n      <th></th>\n      <th></th>\n      <th></th>\n      <th></th>\n    </tr>\n  </thead>\n  <tbody>\n    <tr>\n      <th>9</th>\n      <td>0.000000</td>\n      <td>1.386294</td>\n      <td>0.693147</td>\n      <td>6.894670</td>\n    </tr>\n    <tr>\n      <th>10</th>\n      <td>1.098612</td>\n      <td>1.098612</td>\n      <td>0.000000</td>\n      <td>6.003887</td>\n    </tr>\n    <tr>\n      <th>11</th>\n      <td>0.000000</td>\n      <td>1.386294</td>\n      <td>0.000000</td>\n      <td>4.927254</td>\n    </tr>\n    <tr>\n      <th>12</th>\n      <td>0.693147</td>\n      <td>1.791759</td>\n      <td>0.693147</td>\n      <td>4.844187</td>\n    </tr>\n    <tr>\n      <th>13</th>\n      <td>0.000000</td>\n      <td>0.693147</td>\n      <td>0.000000</td>\n      <td>5.533389</td>\n    </tr>\n    <tr>\n      <th>...</th>\n      <td>...</td>\n      <td>...</td>\n      <td>...</td>\n      <td>...</td>\n    </tr>\n    <tr>\n      <th>478</th>\n      <td>0.000000</td>\n      <td>0.000000</td>\n      <td>0.000000</td>\n      <td>5.332719</td>\n    </tr>\n    <tr>\n      <th>479</th>\n      <td>0.693147</td>\n      <td>1.609438</td>\n      <td>0.693147</td>\n      <td>5.739793</td>\n    </tr>\n    <tr>\n      <th>480</th>\n      <td>1.386294</td>\n      <td>1.791759</td>\n      <td>0.000000</td>\n      <td>4.418841</td>\n    </tr>\n    <tr>\n      <th>481</th>\n      <td>0.000000</td>\n      <td>0.000000</td>\n      <td>0.000000</td>\n      <td>6.786717</td>\n    </tr>\n    <tr>\n      <th>482</th>\n      <td>0.693147</td>\n      <td>0.693147</td>\n      <td>0.000000</td>\n      <td>5.093750</td>\n    </tr>\n  </tbody>\n</table>\n<p>433 rows × 4 columns</p>\n</div>"
     },
     "execution_count": 28,
     "metadata": {},
     "output_type": "execute_result"
    }
   ],
   "source": [
    "ji_log_normalize = jiRawData.copy()\n",
    "\n",
    "for column in ji_log_normalize.columns:  \n",
    "    if ji_log_normalize[column].dtype in ['float64', 'int64']:\n",
    "        # 对数据加1以避免对0取对数的问题\n",
    "        ji_log_normalize[column] = np.log(ji_log_normalize[column] + 1)\n",
    "\n",
    "ji_log_normalize"
   ],
   "metadata": {
    "collapsed": false,
    "ExecuteTime": {
     "end_time": "2024-11-02T12:09:49.762819Z",
     "start_time": "2024-11-02T12:09:49.754805Z"
    }
   },
   "id": "283570c2de5159c3",
   "execution_count": 28
  },
  {
   "cell_type": "markdown",
   "source": [
    "## 1.6 重要性计算"
   ],
   "metadata": {
    "collapsed": false
   },
   "id": "1bf0b111f4e2daf0"
  },
  {
   "cell_type": "markdown",
   "source": [
    "### 1.6.1 权重设置"
   ],
   "metadata": {
    "collapsed": false
   },
   "id": "40165b008efdd3d9"
  },
  {
   "cell_type": "code",
   "outputs": [],
   "source": [
    "xuweight = 0.3\n",
    "baweight = 0.3\n",
    "ticiweight = 0.3\n",
    "includedweight = 0.1"
   ],
   "metadata": {
    "collapsed": false,
    "ExecuteTime": {
     "end_time": "2024-11-02T13:19:37.442100Z",
     "start_time": "2024-11-02T13:19:37.429825Z"
    }
   },
   "id": "f2fadb323e672dd0",
   "execution_count": 69
  },
  {
   "cell_type": "markdown",
   "source": [
    "### 1.6.2 Min-Max归一化的结果计算"
   ],
   "metadata": {
    "collapsed": false
   },
   "id": "e42189a4e1aa7435"
  },
  {
   "cell_type": "code",
   "outputs": [
    {
     "data": {
      "text/plain": "        ticicount    xucount  bacount  includedcount  totalWeight\nworkID                                                           \n9        0.000000  17.647059     20.0      19.428571    13.236975\n10       1.680672  11.764706      0.0       7.960591     4.829673\n11       0.000000  17.647059      0.0       2.699507     5.564068\n12       0.840336  29.411765     20.0       2.482759    15.323906\n13       0.000000   5.882353      0.0       4.965517     2.261258\n...           ...        ...      ...            ...          ...\n478      0.000000   0.000000      0.0       4.059113     0.405911\n479      0.840336  23.529412     20.0       6.108374    13.921762\n480      2.521008  29.411765      0.0       1.615764     9.741408\n481      0.000000   0.000000      0.0      17.438424     1.743842\n482      0.840336   5.882353      0.0       3.192118     2.336019\n\n[433 rows x 5 columns]",
      "text/html": "<div>\n<style scoped>\n    .dataframe tbody tr th:only-of-type {\n        vertical-align: middle;\n    }\n\n    .dataframe tbody tr th {\n        vertical-align: top;\n    }\n\n    .dataframe thead th {\n        text-align: right;\n    }\n</style>\n<table border=\"1\" class=\"dataframe\">\n  <thead>\n    <tr style=\"text-align: right;\">\n      <th></th>\n      <th>ticicount</th>\n      <th>xucount</th>\n      <th>bacount</th>\n      <th>includedcount</th>\n      <th>totalWeight</th>\n    </tr>\n    <tr>\n      <th>workID</th>\n      <th></th>\n      <th></th>\n      <th></th>\n      <th></th>\n      <th></th>\n    </tr>\n  </thead>\n  <tbody>\n    <tr>\n      <th>9</th>\n      <td>0.000000</td>\n      <td>17.647059</td>\n      <td>20.0</td>\n      <td>19.428571</td>\n      <td>13.236975</td>\n    </tr>\n    <tr>\n      <th>10</th>\n      <td>1.680672</td>\n      <td>11.764706</td>\n      <td>0.0</td>\n      <td>7.960591</td>\n      <td>4.829673</td>\n    </tr>\n    <tr>\n      <th>11</th>\n      <td>0.000000</td>\n      <td>17.647059</td>\n      <td>0.0</td>\n      <td>2.699507</td>\n      <td>5.564068</td>\n    </tr>\n    <tr>\n      <th>12</th>\n      <td>0.840336</td>\n      <td>29.411765</td>\n      <td>20.0</td>\n      <td>2.482759</td>\n      <td>15.323906</td>\n    </tr>\n    <tr>\n      <th>13</th>\n      <td>0.000000</td>\n      <td>5.882353</td>\n      <td>0.0</td>\n      <td>4.965517</td>\n      <td>2.261258</td>\n    </tr>\n    <tr>\n      <th>...</th>\n      <td>...</td>\n      <td>...</td>\n      <td>...</td>\n      <td>...</td>\n      <td>...</td>\n    </tr>\n    <tr>\n      <th>478</th>\n      <td>0.000000</td>\n      <td>0.000000</td>\n      <td>0.0</td>\n      <td>4.059113</td>\n      <td>0.405911</td>\n    </tr>\n    <tr>\n      <th>479</th>\n      <td>0.840336</td>\n      <td>23.529412</td>\n      <td>20.0</td>\n      <td>6.108374</td>\n      <td>13.921762</td>\n    </tr>\n    <tr>\n      <th>480</th>\n      <td>2.521008</td>\n      <td>29.411765</td>\n      <td>0.0</td>\n      <td>1.615764</td>\n      <td>9.741408</td>\n    </tr>\n    <tr>\n      <th>481</th>\n      <td>0.000000</td>\n      <td>0.000000</td>\n      <td>0.0</td>\n      <td>17.438424</td>\n      <td>1.743842</td>\n    </tr>\n    <tr>\n      <th>482</th>\n      <td>0.840336</td>\n      <td>5.882353</td>\n      <td>0.0</td>\n      <td>3.192118</td>\n      <td>2.336019</td>\n    </tr>\n  </tbody>\n</table>\n<p>433 rows × 5 columns</p>\n</div>"
     },
     "execution_count": 70,
     "metadata": {},
     "output_type": "execute_result"
    }
   ],
   "source": [
    "ji_min_max = ji_min_max_normalize.copy()\n",
    "ji_min_max['totalWeight'] = xuweight*ji_min_max['xucount'] + baweight*ji_min_max['bacount'] + ticiweight*ji_min_max['ticicount'] + includedweight*ji_min_max['includedcount']\n",
    "ji_min_max"
   ],
   "metadata": {
    "collapsed": false,
    "ExecuteTime": {
     "end_time": "2024-11-02T13:19:39.060804Z",
     "start_time": "2024-11-02T13:19:39.037494Z"
    }
   },
   "id": "16ead7506b7c2308",
   "execution_count": 70
  },
  {
   "cell_type": "markdown",
   "source": [
    "### 1.6.3 对数归一化的结果计算"
   ],
   "metadata": {
    "collapsed": false
   },
   "id": "917c517e40612ec5"
  },
  {
   "cell_type": "code",
   "outputs": [
    {
     "data": {
      "text/plain": "        ticicount   xucount   bacount  includedcount  totalWeight\nworkID                                                           \n9        0.000000  1.386294  0.693147       6.894670     1.313299\n10       1.098612  1.098612  0.000000       6.003887     1.259556\n11       0.000000  1.386294  0.000000       4.927254     0.908614\n12       0.693147  1.791759  0.693147       4.844187     1.437835\n13       0.000000  0.693147  0.000000       5.533389     0.761283\n...           ...       ...       ...            ...          ...\n478      0.000000  0.000000  0.000000       5.332719     0.533272\n479      0.693147  1.609438  0.693147       5.739793     1.472699\n480      1.386294  1.791759  0.000000       4.418841     1.395300\n481      0.000000  0.000000  0.000000       6.786717     0.678672\n482      0.693147  0.693147  0.000000       5.093750     0.925263\n\n[433 rows x 5 columns]",
      "text/html": "<div>\n<style scoped>\n    .dataframe tbody tr th:only-of-type {\n        vertical-align: middle;\n    }\n\n    .dataframe tbody tr th {\n        vertical-align: top;\n    }\n\n    .dataframe thead th {\n        text-align: right;\n    }\n</style>\n<table border=\"1\" class=\"dataframe\">\n  <thead>\n    <tr style=\"text-align: right;\">\n      <th></th>\n      <th>ticicount</th>\n      <th>xucount</th>\n      <th>bacount</th>\n      <th>includedcount</th>\n      <th>totalWeight</th>\n    </tr>\n    <tr>\n      <th>workID</th>\n      <th></th>\n      <th></th>\n      <th></th>\n      <th></th>\n      <th></th>\n    </tr>\n  </thead>\n  <tbody>\n    <tr>\n      <th>9</th>\n      <td>0.000000</td>\n      <td>1.386294</td>\n      <td>0.693147</td>\n      <td>6.894670</td>\n      <td>1.313299</td>\n    </tr>\n    <tr>\n      <th>10</th>\n      <td>1.098612</td>\n      <td>1.098612</td>\n      <td>0.000000</td>\n      <td>6.003887</td>\n      <td>1.259556</td>\n    </tr>\n    <tr>\n      <th>11</th>\n      <td>0.000000</td>\n      <td>1.386294</td>\n      <td>0.000000</td>\n      <td>4.927254</td>\n      <td>0.908614</td>\n    </tr>\n    <tr>\n      <th>12</th>\n      <td>0.693147</td>\n      <td>1.791759</td>\n      <td>0.693147</td>\n      <td>4.844187</td>\n      <td>1.437835</td>\n    </tr>\n    <tr>\n      <th>13</th>\n      <td>0.000000</td>\n      <td>0.693147</td>\n      <td>0.000000</td>\n      <td>5.533389</td>\n      <td>0.761283</td>\n    </tr>\n    <tr>\n      <th>...</th>\n      <td>...</td>\n      <td>...</td>\n      <td>...</td>\n      <td>...</td>\n      <td>...</td>\n    </tr>\n    <tr>\n      <th>478</th>\n      <td>0.000000</td>\n      <td>0.000000</td>\n      <td>0.000000</td>\n      <td>5.332719</td>\n      <td>0.533272</td>\n    </tr>\n    <tr>\n      <th>479</th>\n      <td>0.693147</td>\n      <td>1.609438</td>\n      <td>0.693147</td>\n      <td>5.739793</td>\n      <td>1.472699</td>\n    </tr>\n    <tr>\n      <th>480</th>\n      <td>1.386294</td>\n      <td>1.791759</td>\n      <td>0.000000</td>\n      <td>4.418841</td>\n      <td>1.395300</td>\n    </tr>\n    <tr>\n      <th>481</th>\n      <td>0.000000</td>\n      <td>0.000000</td>\n      <td>0.000000</td>\n      <td>6.786717</td>\n      <td>0.678672</td>\n    </tr>\n    <tr>\n      <th>482</th>\n      <td>0.693147</td>\n      <td>0.693147</td>\n      <td>0.000000</td>\n      <td>5.093750</td>\n      <td>0.925263</td>\n    </tr>\n  </tbody>\n</table>\n<p>433 rows × 5 columns</p>\n</div>"
     },
     "execution_count": 71,
     "metadata": {},
     "output_type": "execute_result"
    }
   ],
   "source": [
    "ji_log = ji_log_normalize.copy()\n",
    "\n",
    "ji_log['totalWeight'] = xuweight*ji_log['xucount'] + baweight*ji_log['bacount'] + ticiweight*ji_log['ticicount'] + includedweight*ji_log['includedcount']\n",
    "ji_log"
   ],
   "metadata": {
    "collapsed": false,
    "ExecuteTime": {
     "end_time": "2024-11-02T13:19:48.758902Z",
     "start_time": "2024-11-02T13:19:48.753856Z"
    }
   },
   "id": "d7bbeb37ef4e177f",
   "execution_count": 71
  },
  {
   "cell_type": "markdown",
   "source": [
    "# 2. 作者（poet）的Importance：参与制作书的次数（包括被收录和参与编辑）、写像赞的次数、被写像赞的次数、收到唱和诗及书信的次数、被讨论的次数"
   ],
   "metadata": {
    "collapsed": false
   },
   "id": "d8d6fd8cce7a7594"
  },
  {
   "cell_type": "markdown",
   "source": [
    "## 2.1 参与制作书的次数"
   ],
   "metadata": {
    "collapsed": false
   },
   "id": "185d06ed44ff3764"
  },
  {
   "cell_type": "code",
   "outputs": [
    {
     "data": {
      "text/plain": "        participate_count\npoetID                   \n263                    13\n308                     9\n199                     9\n92                      7\n167                     7\n...                   ...\n6155                    1\n6138                    1\n6063                    1\n6198                    1\n8298                    1\n\n[2770 rows x 1 columns]",
      "text/html": "<div>\n<style scoped>\n    .dataframe tbody tr th:only-of-type {\n        vertical-align: middle;\n    }\n\n    .dataframe tbody tr th {\n        vertical-align: top;\n    }\n\n    .dataframe thead th {\n        text-align: right;\n    }\n</style>\n<table border=\"1\" class=\"dataframe\">\n  <thead>\n    <tr style=\"text-align: right;\">\n      <th></th>\n      <th>participate_count</th>\n    </tr>\n    <tr>\n      <th>poetID</th>\n      <th></th>\n    </tr>\n  </thead>\n  <tbody>\n    <tr>\n      <th>263</th>\n      <td>13</td>\n    </tr>\n    <tr>\n      <th>308</th>\n      <td>9</td>\n    </tr>\n    <tr>\n      <th>199</th>\n      <td>9</td>\n    </tr>\n    <tr>\n      <th>92</th>\n      <td>7</td>\n    </tr>\n    <tr>\n      <th>167</th>\n      <td>7</td>\n    </tr>\n    <tr>\n      <th>...</th>\n      <td>...</td>\n    </tr>\n    <tr>\n      <th>6155</th>\n      <td>1</td>\n    </tr>\n    <tr>\n      <th>6138</th>\n      <td>1</td>\n    </tr>\n    <tr>\n      <th>6063</th>\n      <td>1</td>\n    </tr>\n    <tr>\n      <th>6198</th>\n      <td>1</td>\n    </tr>\n    <tr>\n      <th>8298</th>\n      <td>1</td>\n    </tr>\n  </tbody>\n</table>\n<p>2770 rows × 1 columns</p>\n</div>"
     },
     "execution_count": 39,
     "metadata": {},
     "output_type": "execute_result"
    }
   ],
   "source": [
    "PoetParticipateWorkSQL = '''SELECT poetID, COUNT(DISTINCT workID) AS participate_count\n",
    "    FROM workpoetlinks\n",
    "    GROUP BY poetID\n",
    "    ORDER BY participate_count DESC'''\n",
    "\n",
    "PoetParticipateWork = duckdb.query(PoetParticipateWorkSQL).df()\n",
    "PoetParticipateWork.set_index('poetID', inplace=True)\n",
    "\n",
    "PoetParticipateWork"
   ],
   "metadata": {
    "collapsed": false,
    "ExecuteTime": {
     "end_time": "2024-11-02T12:28:22.000421Z",
     "start_time": "2024-11-02T12:28:21.987246Z"
    }
   },
   "id": "865443e15c898031",
   "execution_count": 39
  },
  {
   "cell_type": "markdown",
   "source": [
    "## 2.2 写像赞的次数"
   ],
   "metadata": {
    "collapsed": false
   },
   "id": "6f42af2d268174cf"
  },
  {
   "cell_type": "code",
   "outputs": [
    {
     "data": {
      "text/plain": "        xiangzanauthor_count\npoetID                      \n244                        1\n7006                       1\n3813                       1\n6482                       1\n6494                       1\n7279                       1\n4424                       1\n6430                       1\n1977                       1\n42                         2\n225                        2\n195                        2\n1664                       5",
      "text/html": "<div>\n<style scoped>\n    .dataframe tbody tr th:only-of-type {\n        vertical-align: middle;\n    }\n\n    .dataframe tbody tr th {\n        vertical-align: top;\n    }\n\n    .dataframe thead th {\n        text-align: right;\n    }\n</style>\n<table border=\"1\" class=\"dataframe\">\n  <thead>\n    <tr style=\"text-align: right;\">\n      <th></th>\n      <th>xiangzanauthor_count</th>\n    </tr>\n    <tr>\n      <th>poetID</th>\n      <th></th>\n    </tr>\n  </thead>\n  <tbody>\n    <tr>\n      <th>244</th>\n      <td>1</td>\n    </tr>\n    <tr>\n      <th>7006</th>\n      <td>1</td>\n    </tr>\n    <tr>\n      <th>3813</th>\n      <td>1</td>\n    </tr>\n    <tr>\n      <th>6482</th>\n      <td>1</td>\n    </tr>\n    <tr>\n      <th>6494</th>\n      <td>1</td>\n    </tr>\n    <tr>\n      <th>7279</th>\n      <td>1</td>\n    </tr>\n    <tr>\n      <th>4424</th>\n      <td>1</td>\n    </tr>\n    <tr>\n      <th>6430</th>\n      <td>1</td>\n    </tr>\n    <tr>\n      <th>1977</th>\n      <td>1</td>\n    </tr>\n    <tr>\n      <th>42</th>\n      <td>2</td>\n    </tr>\n    <tr>\n      <th>225</th>\n      <td>2</td>\n    </tr>\n    <tr>\n      <th>195</th>\n      <td>2</td>\n    </tr>\n    <tr>\n      <th>1664</th>\n      <td>5</td>\n    </tr>\n  </tbody>\n</table>\n</div>"
     },
     "execution_count": 44,
     "metadata": {},
     "output_type": "execute_result"
    }
   ],
   "source": [
    "xiangzanauthorSQL = '''\n",
    "SELECT poempoetlinks.poetID,COUNT(DISTINCT poem.poemID) AS xiangzanauthor_count\n",
    "FROM poem,poempoetlinks\n",
    "WHERE poem.GenreHZ='文﹕像贊' AND poem.poemID = poempoetlinks.poemID\n",
    "GROUP BY poempoetlinks.poetID\n",
    "ORDER BY xiangzanauthor_count\n",
    "'''\n",
    "xiangzanauthor = duckdb.query(xiangzanauthorSQL).df()\n",
    "xiangzanauthor.set_index('poetID', inplace=True)\n",
    "xiangzanauthor"
   ],
   "metadata": {
    "collapsed": false,
    "ExecuteTime": {
     "end_time": "2024-11-02T12:37:58.712522Z",
     "start_time": "2024-11-02T12:37:58.697726Z"
    }
   },
   "id": "dd3042f389fc7d14",
   "execution_count": 44
  },
  {
   "cell_type": "markdown",
   "source": [
    "## 2.3 被写像赞的次数"
   ],
   "metadata": {
    "collapsed": false
   },
   "id": "1dc88184e7a65d69"
  },
  {
   "cell_type": "code",
   "outputs": [
    {
     "data": {
      "text/plain": "        bexiangzansubjectCount\npoetID                        \n4939                         1\n5                            1",
      "text/html": "<div>\n<style scoped>\n    .dataframe tbody tr th:only-of-type {\n        vertical-align: middle;\n    }\n\n    .dataframe tbody tr th {\n        vertical-align: top;\n    }\n\n    .dataframe thead th {\n        text-align: right;\n    }\n</style>\n<table border=\"1\" class=\"dataframe\">\n  <thead>\n    <tr style=\"text-align: right;\">\n      <th></th>\n      <th>bexiangzansubjectCount</th>\n    </tr>\n    <tr>\n      <th>poetID</th>\n      <th></th>\n    </tr>\n  </thead>\n  <tbody>\n    <tr>\n      <th>4939</th>\n      <td>1</td>\n    </tr>\n    <tr>\n      <th>5</th>\n      <td>1</td>\n    </tr>\n  </tbody>\n</table>\n</div>"
     },
     "execution_count": 52,
     "metadata": {},
     "output_type": "execute_result"
    }
   ],
   "source": [
    "bexiangzanSQL = '''\n",
    "SELECT poetassubjectID AS poetID,COUNT(DISTINCT poemID) AS bexiangzansubjectCount\n",
    "FROM poem\n",
    "WHERE poem.GenreHZ='文﹕像贊' AND poetassubjectID !=0\n",
    "GROUP BY poetassubjectID\n",
    "'''\n",
    "bexiangzan = duckdb.query(bexiangzanSQL).df()\n",
    "bexiangzan.set_index('poetID', inplace=True)\n",
    "\n",
    "bexiangzan"
   ],
   "metadata": {
    "collapsed": false,
    "ExecuteTime": {
     "end_time": "2024-11-02T12:45:16.437379Z",
     "start_time": "2024-11-02T12:45:16.422008Z"
    }
   },
   "id": "8e9f5a9a896ca587",
   "execution_count": 52
  },
  {
   "cell_type": "markdown",
   "source": [
    "## 2.4 被讨论的次数"
   ],
   "metadata": {
    "collapsed": false
   },
   "id": "19cbb211fe0f7fb"
  },
  {
   "cell_type": "code",
   "outputs": [
    {
     "data": {
      "text/plain": "        discussedCount\npoetID                \n2009                 4\n1380                14\n2069                 3\n1392                 2\n3372                 1\n...                ...\n5894                 1\n7937                 1\n7969                 1\n7877                 1\n7965                 1\n\n[4648 rows x 1 columns]",
      "text/html": "<div>\n<style scoped>\n    .dataframe tbody tr th:only-of-type {\n        vertical-align: middle;\n    }\n\n    .dataframe tbody tr th {\n        vertical-align: top;\n    }\n\n    .dataframe thead th {\n        text-align: right;\n    }\n</style>\n<table border=\"1\" class=\"dataframe\">\n  <thead>\n    <tr style=\"text-align: right;\">\n      <th></th>\n      <th>discussedCount</th>\n    </tr>\n    <tr>\n      <th>poetID</th>\n      <th></th>\n    </tr>\n  </thead>\n  <tbody>\n    <tr>\n      <th>2009</th>\n      <td>4</td>\n    </tr>\n    <tr>\n      <th>1380</th>\n      <td>14</td>\n    </tr>\n    <tr>\n      <th>2069</th>\n      <td>3</td>\n    </tr>\n    <tr>\n      <th>1392</th>\n      <td>2</td>\n    </tr>\n    <tr>\n      <th>3372</th>\n      <td>1</td>\n    </tr>\n    <tr>\n      <th>...</th>\n      <td>...</td>\n    </tr>\n    <tr>\n      <th>5894</th>\n      <td>1</td>\n    </tr>\n    <tr>\n      <th>7937</th>\n      <td>1</td>\n    </tr>\n    <tr>\n      <th>7969</th>\n      <td>1</td>\n    </tr>\n    <tr>\n      <th>7877</th>\n      <td>1</td>\n    </tr>\n    <tr>\n      <th>7965</th>\n      <td>1</td>\n    </tr>\n  </tbody>\n</table>\n<p>4648 rows × 1 columns</p>\n</div>"
     },
     "execution_count": 53,
     "metadata": {},
     "output_type": "execute_result"
    }
   ],
   "source": [
    "discussedSQL = '''\n",
    "SELECT poetassubjectID AS poetID, COUNT(DISTINCT poemID) AS discussedCount\n",
    "FROM poem\n",
    "WHERE GenreHZ!='文﹕像贊' AND poetassubjectID != 0\n",
    "GROUP BY poetassubjectID\n",
    "'''\n",
    "discussed = duckdb.query(discussedSQL).df()\n",
    "discussed.set_index('poetID', inplace=True)\n",
    "\n",
    "discussed"
   ],
   "metadata": {
    "collapsed": false,
    "ExecuteTime": {
     "end_time": "2024-11-02T12:45:50.381466Z",
     "start_time": "2024-11-02T12:45:50.353816Z"
    }
   },
   "id": "395f94f6e6090b60",
   "execution_count": 53
  },
  {
   "cell_type": "markdown",
   "source": [
    "## 2.5 收到唱和书信的次数"
   ],
   "metadata": {
    "collapsed": false
   },
   "id": "c37392fe946abe36"
  },
  {
   "cell_type": "code",
   "outputs": [
    {
     "data": {
      "text/plain": "        changheshiCount\npoetID                 \n1882                  1\n789                   3\n16                    4\n32                    7\n1380                 55\n...                 ...\n1361                  2\n8427                  1\n8355                  2\n1097                  1\n8350                  1\n\n[874 rows x 1 columns]",
      "text/html": "<div>\n<style scoped>\n    .dataframe tbody tr th:only-of-type {\n        vertical-align: middle;\n    }\n\n    .dataframe tbody tr th {\n        vertical-align: top;\n    }\n\n    .dataframe thead th {\n        text-align: right;\n    }\n</style>\n<table border=\"1\" class=\"dataframe\">\n  <thead>\n    <tr style=\"text-align: right;\">\n      <th></th>\n      <th>changheshiCount</th>\n    </tr>\n    <tr>\n      <th>poetID</th>\n      <th></th>\n    </tr>\n  </thead>\n  <tbody>\n    <tr>\n      <th>1882</th>\n      <td>1</td>\n    </tr>\n    <tr>\n      <th>789</th>\n      <td>3</td>\n    </tr>\n    <tr>\n      <th>16</th>\n      <td>4</td>\n    </tr>\n    <tr>\n      <th>32</th>\n      <td>7</td>\n    </tr>\n    <tr>\n      <th>1380</th>\n      <td>55</td>\n    </tr>\n    <tr>\n      <th>...</th>\n      <td>...</td>\n    </tr>\n    <tr>\n      <th>1361</th>\n      <td>2</td>\n    </tr>\n    <tr>\n      <th>8427</th>\n      <td>1</td>\n    </tr>\n    <tr>\n      <th>8355</th>\n      <td>2</td>\n    </tr>\n    <tr>\n      <th>1097</th>\n      <td>1</td>\n    </tr>\n    <tr>\n      <th>8350</th>\n      <td>1</td>\n    </tr>\n  </tbody>\n</table>\n<p>874 rows × 1 columns</p>\n</div>"
     },
     "execution_count": 56,
     "metadata": {},
     "output_type": "execute_result"
    }
   ],
   "source": [
    "changheshiSQL = '''\n",
    "SELECT changheshuxinpoetID AS poetID, COUNT(DISTINCT poemID) AS changheshiCount\n",
    "FROM poem\n",
    "WHERE changheshuxinpoetID !=0\n",
    "GROUP BY changheshuxinpoetID\n",
    "'''\n",
    "changheshi = duckdb.query(changheshiSQL).df()\n",
    "changheshi.set_index('poetID', inplace=True)\n",
    "\n",
    "changheshi"
   ],
   "metadata": {
    "collapsed": false,
    "ExecuteTime": {
     "end_time": "2024-11-02T12:50:48.483155Z",
     "start_time": "2024-11-02T12:50:48.475405Z"
    }
   },
   "id": "5d0c7319e5593f6",
   "execution_count": 56
  },
  {
   "cell_type": "markdown",
   "source": [
    "## 2.6 初始数据汇总"
   ],
   "metadata": {
    "collapsed": false
   },
   "id": "100eec9f8dcc5b58"
  },
  {
   "cell_type": "code",
   "outputs": [
    {
     "data": {
      "text/plain": "        participate_count  xiangzanauthor_count  bexiangzansubjectCount  \\\npoetID                                                                    \n5                     1.0                   0.0                     1.0   \n6                     1.0                   0.0                     0.0   \n8                     1.0                   0.0                     0.0   \n11                    1.0                   0.0                     0.0   \n12                    2.0                   0.0                     0.0   \n...                   ...                   ...                     ...   \n8457                  1.0                   0.0                     0.0   \n8458                  1.0                   0.0                     0.0   \n8459                  1.0                   0.0                     0.0   \n8460                  1.0                   0.0                     0.0   \n8461                  1.0                   0.0                     0.0   \n\n        discussedCount  changheshiCount  \npoetID                                   \n5                 38.0              0.0  \n6                  0.0              0.0  \n8                  2.0              0.0  \n11                13.0              0.0  \n12                28.0              0.0  \n...                ...              ...  \n8457               0.0              0.0  \n8458               0.0              0.0  \n8459               0.0              0.0  \n8460               0.0              0.0  \n8461               0.0              0.0  \n\n[7134 rows x 5 columns]",
      "text/html": "<div>\n<style scoped>\n    .dataframe tbody tr th:only-of-type {\n        vertical-align: middle;\n    }\n\n    .dataframe tbody tr th {\n        vertical-align: top;\n    }\n\n    .dataframe thead th {\n        text-align: right;\n    }\n</style>\n<table border=\"1\" class=\"dataframe\">\n  <thead>\n    <tr style=\"text-align: right;\">\n      <th></th>\n      <th>participate_count</th>\n      <th>xiangzanauthor_count</th>\n      <th>bexiangzansubjectCount</th>\n      <th>discussedCount</th>\n      <th>changheshiCount</th>\n    </tr>\n    <tr>\n      <th>poetID</th>\n      <th></th>\n      <th></th>\n      <th></th>\n      <th></th>\n      <th></th>\n    </tr>\n  </thead>\n  <tbody>\n    <tr>\n      <th>5</th>\n      <td>1.0</td>\n      <td>0.0</td>\n      <td>1.0</td>\n      <td>38.0</td>\n      <td>0.0</td>\n    </tr>\n    <tr>\n      <th>6</th>\n      <td>1.0</td>\n      <td>0.0</td>\n      <td>0.0</td>\n      <td>0.0</td>\n      <td>0.0</td>\n    </tr>\n    <tr>\n      <th>8</th>\n      <td>1.0</td>\n      <td>0.0</td>\n      <td>0.0</td>\n      <td>2.0</td>\n      <td>0.0</td>\n    </tr>\n    <tr>\n      <th>11</th>\n      <td>1.0</td>\n      <td>0.0</td>\n      <td>0.0</td>\n      <td>13.0</td>\n      <td>0.0</td>\n    </tr>\n    <tr>\n      <th>12</th>\n      <td>2.0</td>\n      <td>0.0</td>\n      <td>0.0</td>\n      <td>28.0</td>\n      <td>0.0</td>\n    </tr>\n    <tr>\n      <th>...</th>\n      <td>...</td>\n      <td>...</td>\n      <td>...</td>\n      <td>...</td>\n      <td>...</td>\n    </tr>\n    <tr>\n      <th>8457</th>\n      <td>1.0</td>\n      <td>0.0</td>\n      <td>0.0</td>\n      <td>0.0</td>\n      <td>0.0</td>\n    </tr>\n    <tr>\n      <th>8458</th>\n      <td>1.0</td>\n      <td>0.0</td>\n      <td>0.0</td>\n      <td>0.0</td>\n      <td>0.0</td>\n    </tr>\n    <tr>\n      <th>8459</th>\n      <td>1.0</td>\n      <td>0.0</td>\n      <td>0.0</td>\n      <td>0.0</td>\n      <td>0.0</td>\n    </tr>\n    <tr>\n      <th>8460</th>\n      <td>1.0</td>\n      <td>0.0</td>\n      <td>0.0</td>\n      <td>0.0</td>\n      <td>0.0</td>\n    </tr>\n    <tr>\n      <th>8461</th>\n      <td>1.0</td>\n      <td>0.0</td>\n      <td>0.0</td>\n      <td>0.0</td>\n      <td>0.0</td>\n    </tr>\n  </tbody>\n</table>\n<p>7134 rows × 5 columns</p>\n</div>"
     },
     "execution_count": 59,
     "metadata": {},
     "output_type": "execute_result"
    }
   ],
   "source": [
    "poetRawData = reduce(lambda left, right: pd.merge(left, right, on='poetID', how='outer'), [PoetParticipateWork, xiangzanauthor, bexiangzan,discussed, changheshi]).fillna(0)\n",
    "poetRawData"
   ],
   "metadata": {
    "collapsed": false,
    "ExecuteTime": {
     "end_time": "2024-11-02T12:55:02.136265Z",
     "start_time": "2024-11-02T12:55:02.111809Z"
    }
   },
   "id": "4e8ab7b50ed9600b",
   "execution_count": 59
  },
  {
   "cell_type": "markdown",
   "source": [
    "## 2.7 归一化"
   ],
   "metadata": {
    "collapsed": false
   },
   "id": "edd8ab8808705f17"
  },
  {
   "cell_type": "markdown",
   "source": [
    "### 2.7.1 Min-Max归一化"
   ],
   "metadata": {
    "collapsed": false
   },
   "id": "b32170dbcd9f33e8"
  },
  {
   "cell_type": "code",
   "outputs": [
    {
     "data": {
      "text/plain": "        participate_count  xiangzanauthor_count  bexiangzansubjectCount  \\\npoetID                                                                    \n5                7.692308                   0.0                   100.0   \n6                7.692308                   0.0                     0.0   \n8                7.692308                   0.0                     0.0   \n11               7.692308                   0.0                     0.0   \n12              15.384615                   0.0                     0.0   \n...                   ...                   ...                     ...   \n8457             7.692308                   0.0                     0.0   \n8458             7.692308                   0.0                     0.0   \n8459             7.692308                   0.0                     0.0   \n8460             7.692308                   0.0                     0.0   \n8461             7.692308                   0.0                     0.0   \n\n        discussedCount  changheshiCount  \npoetID                                   \n5            49.350649              0.0  \n6             0.000000              0.0  \n8             2.597403              0.0  \n11           16.883117              0.0  \n12           36.363636              0.0  \n...                ...              ...  \n8457          0.000000              0.0  \n8458          0.000000              0.0  \n8459          0.000000              0.0  \n8460          0.000000              0.0  \n8461          0.000000              0.0  \n\n[7134 rows x 5 columns]",
      "text/html": "<div>\n<style scoped>\n    .dataframe tbody tr th:only-of-type {\n        vertical-align: middle;\n    }\n\n    .dataframe tbody tr th {\n        vertical-align: top;\n    }\n\n    .dataframe thead th {\n        text-align: right;\n    }\n</style>\n<table border=\"1\" class=\"dataframe\">\n  <thead>\n    <tr style=\"text-align: right;\">\n      <th></th>\n      <th>participate_count</th>\n      <th>xiangzanauthor_count</th>\n      <th>bexiangzansubjectCount</th>\n      <th>discussedCount</th>\n      <th>changheshiCount</th>\n    </tr>\n    <tr>\n      <th>poetID</th>\n      <th></th>\n      <th></th>\n      <th></th>\n      <th></th>\n      <th></th>\n    </tr>\n  </thead>\n  <tbody>\n    <tr>\n      <th>5</th>\n      <td>7.692308</td>\n      <td>0.0</td>\n      <td>100.0</td>\n      <td>49.350649</td>\n      <td>0.0</td>\n    </tr>\n    <tr>\n      <th>6</th>\n      <td>7.692308</td>\n      <td>0.0</td>\n      <td>0.0</td>\n      <td>0.000000</td>\n      <td>0.0</td>\n    </tr>\n    <tr>\n      <th>8</th>\n      <td>7.692308</td>\n      <td>0.0</td>\n      <td>0.0</td>\n      <td>2.597403</td>\n      <td>0.0</td>\n    </tr>\n    <tr>\n      <th>11</th>\n      <td>7.692308</td>\n      <td>0.0</td>\n      <td>0.0</td>\n      <td>16.883117</td>\n      <td>0.0</td>\n    </tr>\n    <tr>\n      <th>12</th>\n      <td>15.384615</td>\n      <td>0.0</td>\n      <td>0.0</td>\n      <td>36.363636</td>\n      <td>0.0</td>\n    </tr>\n    <tr>\n      <th>...</th>\n      <td>...</td>\n      <td>...</td>\n      <td>...</td>\n      <td>...</td>\n      <td>...</td>\n    </tr>\n    <tr>\n      <th>8457</th>\n      <td>7.692308</td>\n      <td>0.0</td>\n      <td>0.0</td>\n      <td>0.000000</td>\n      <td>0.0</td>\n    </tr>\n    <tr>\n      <th>8458</th>\n      <td>7.692308</td>\n      <td>0.0</td>\n      <td>0.0</td>\n      <td>0.000000</td>\n      <td>0.0</td>\n    </tr>\n    <tr>\n      <th>8459</th>\n      <td>7.692308</td>\n      <td>0.0</td>\n      <td>0.0</td>\n      <td>0.000000</td>\n      <td>0.0</td>\n    </tr>\n    <tr>\n      <th>8460</th>\n      <td>7.692308</td>\n      <td>0.0</td>\n      <td>0.0</td>\n      <td>0.000000</td>\n      <td>0.0</td>\n    </tr>\n    <tr>\n      <th>8461</th>\n      <td>7.692308</td>\n      <td>0.0</td>\n      <td>0.0</td>\n      <td>0.000000</td>\n      <td>0.0</td>\n    </tr>\n  </tbody>\n</table>\n<p>7134 rows × 5 columns</p>\n</div>"
     },
     "execution_count": 61,
     "metadata": {},
     "output_type": "execute_result"
    }
   ],
   "source": [
    "poet_min_max_normalize = poetRawData.copy()\n",
    "for column in poet_min_max_normalize.columns:\n",
    "    if poet_min_max_normalize[column].dtype in ['float64', 'int64']:  # 检查数据类型是否为数值类型\n",
    "        poet_min_max_normalize[column] = min_max_normalize(poet_min_max_normalize[column])\n",
    "poet_min_max_normalize"
   ],
   "metadata": {
    "collapsed": false,
    "ExecuteTime": {
     "end_time": "2024-11-02T12:56:26.403802Z",
     "start_time": "2024-11-02T12:56:26.386548Z"
    }
   },
   "id": "813549d79162c8d9",
   "execution_count": 61
  },
  {
   "cell_type": "markdown",
   "source": [
    "### 2.7.2 对数归一化"
   ],
   "metadata": {
    "collapsed": false
   },
   "id": "429a5887291b2569"
  },
  {
   "cell_type": "code",
   "outputs": [
    {
     "data": {
      "text/plain": "        participate_count  xiangzanauthor_count  bexiangzansubjectCount  \\\npoetID                                                                    \n5                0.693147                   0.0                0.693147   \n6                0.693147                   0.0                0.000000   \n8                0.693147                   0.0                0.000000   \n11               0.693147                   0.0                0.000000   \n12               1.098612                   0.0                0.000000   \n...                   ...                   ...                     ...   \n8457             0.693147                   0.0                0.000000   \n8458             0.693147                   0.0                0.000000   \n8459             0.693147                   0.0                0.000000   \n8460             0.693147                   0.0                0.000000   \n8461             0.693147                   0.0                0.000000   \n\n        discussedCount  changheshiCount  \npoetID                                   \n5             3.663562              0.0  \n6             0.000000              0.0  \n8             1.098612              0.0  \n11            2.639057              0.0  \n12            3.367296              0.0  \n...                ...              ...  \n8457          0.000000              0.0  \n8458          0.000000              0.0  \n8459          0.000000              0.0  \n8460          0.000000              0.0  \n8461          0.000000              0.0  \n\n[7134 rows x 5 columns]",
      "text/html": "<div>\n<style scoped>\n    .dataframe tbody tr th:only-of-type {\n        vertical-align: middle;\n    }\n\n    .dataframe tbody tr th {\n        vertical-align: top;\n    }\n\n    .dataframe thead th {\n        text-align: right;\n    }\n</style>\n<table border=\"1\" class=\"dataframe\">\n  <thead>\n    <tr style=\"text-align: right;\">\n      <th></th>\n      <th>participate_count</th>\n      <th>xiangzanauthor_count</th>\n      <th>bexiangzansubjectCount</th>\n      <th>discussedCount</th>\n      <th>changheshiCount</th>\n    </tr>\n    <tr>\n      <th>poetID</th>\n      <th></th>\n      <th></th>\n      <th></th>\n      <th></th>\n      <th></th>\n    </tr>\n  </thead>\n  <tbody>\n    <tr>\n      <th>5</th>\n      <td>0.693147</td>\n      <td>0.0</td>\n      <td>0.693147</td>\n      <td>3.663562</td>\n      <td>0.0</td>\n    </tr>\n    <tr>\n      <th>6</th>\n      <td>0.693147</td>\n      <td>0.0</td>\n      <td>0.000000</td>\n      <td>0.000000</td>\n      <td>0.0</td>\n    </tr>\n    <tr>\n      <th>8</th>\n      <td>0.693147</td>\n      <td>0.0</td>\n      <td>0.000000</td>\n      <td>1.098612</td>\n      <td>0.0</td>\n    </tr>\n    <tr>\n      <th>11</th>\n      <td>0.693147</td>\n      <td>0.0</td>\n      <td>0.000000</td>\n      <td>2.639057</td>\n      <td>0.0</td>\n    </tr>\n    <tr>\n      <th>12</th>\n      <td>1.098612</td>\n      <td>0.0</td>\n      <td>0.000000</td>\n      <td>3.367296</td>\n      <td>0.0</td>\n    </tr>\n    <tr>\n      <th>...</th>\n      <td>...</td>\n      <td>...</td>\n      <td>...</td>\n      <td>...</td>\n      <td>...</td>\n    </tr>\n    <tr>\n      <th>8457</th>\n      <td>0.693147</td>\n      <td>0.0</td>\n      <td>0.000000</td>\n      <td>0.000000</td>\n      <td>0.0</td>\n    </tr>\n    <tr>\n      <th>8458</th>\n      <td>0.693147</td>\n      <td>0.0</td>\n      <td>0.000000</td>\n      <td>0.000000</td>\n      <td>0.0</td>\n    </tr>\n    <tr>\n      <th>8459</th>\n      <td>0.693147</td>\n      <td>0.0</td>\n      <td>0.000000</td>\n      <td>0.000000</td>\n      <td>0.0</td>\n    </tr>\n    <tr>\n      <th>8460</th>\n      <td>0.693147</td>\n      <td>0.0</td>\n      <td>0.000000</td>\n      <td>0.000000</td>\n      <td>0.0</td>\n    </tr>\n    <tr>\n      <th>8461</th>\n      <td>0.693147</td>\n      <td>0.0</td>\n      <td>0.000000</td>\n      <td>0.000000</td>\n      <td>0.0</td>\n    </tr>\n  </tbody>\n</table>\n<p>7134 rows × 5 columns</p>\n</div>"
     },
     "execution_count": 62,
     "metadata": {},
     "output_type": "execute_result"
    }
   ],
   "source": [
    "poet_log_normalize = poetRawData.copy()\n",
    "\n",
    "for column in poet_log_normalize.columns:  \n",
    "    if poet_log_normalize[column].dtype in ['float64', 'int64']:\n",
    "        # 对数据加1以避免对0取对数的问题\n",
    "        poet_log_normalize[column] = np.log(poet_log_normalize[column] + 1)\n",
    "\n",
    "poet_log_normalize"
   ],
   "metadata": {
    "collapsed": false,
    "ExecuteTime": {
     "end_time": "2024-11-02T13:01:57.734307Z",
     "start_time": "2024-11-02T13:01:57.724874Z"
    }
   },
   "id": "cbc48ad73d7b18db",
   "execution_count": 62
  },
  {
   "cell_type": "markdown",
   "source": [
    "## 2.8 重要性计算"
   ],
   "metadata": {
    "collapsed": false
   },
   "id": "35226849cd5498a7"
  },
  {
   "cell_type": "markdown",
   "source": [
    "### 2.8.1 权重设置\n",
    "poet4258姚倚雲 写了很多唱和诗给丈夫 poet7909范當世，导致范當世收到唱和书信的次数很高，需要降低该项权重"
   ],
   "metadata": {
    "collapsed": false
   },
   "id": "bc3af5f6c723590"
  },
  {
   "cell_type": "code",
   "outputs": [],
   "source": [
    "participateWeight = 0.1\n",
    "writeXZWeight = 0.3\n",
    "inXZWeight = 0.3\n",
    "bediscussedWeight = 0.2\n",
    "changheWeight = 0.1"
   ],
   "metadata": {
    "collapsed": false,
    "ExecuteTime": {
     "end_time": "2024-11-02T13:23:07.803702Z",
     "start_time": "2024-11-02T13:23:07.789059Z"
    }
   },
   "id": "db8653a5393d809d",
   "execution_count": 72
  },
  {
   "cell_type": "markdown",
   "source": [
    "### 2.8.2 Min-Max归一化结果计算"
   ],
   "metadata": {
    "collapsed": false
   },
   "id": "e27d011710d62eaa"
  },
  {
   "cell_type": "code",
   "outputs": [
    {
     "data": {
      "text/plain": "        participate_count  xiangzanauthor_count  bexiangzansubjectCount  \\\npoetID                                                                    \n5                7.692308                   0.0                   100.0   \n6                7.692308                   0.0                     0.0   \n8                7.692308                   0.0                     0.0   \n11               7.692308                   0.0                     0.0   \n12              15.384615                   0.0                     0.0   \n...                   ...                   ...                     ...   \n8457             7.692308                   0.0                     0.0   \n8458             7.692308                   0.0                     0.0   \n8459             7.692308                   0.0                     0.0   \n8460             7.692308                   0.0                     0.0   \n8461             7.692308                   0.0                     0.0   \n\n        discussedCount  changheshiCount  totalWeight  \npoetID                                                \n5            49.350649              0.0    40.639361  \n6             0.000000              0.0     0.769231  \n8             2.597403              0.0     1.288711  \n11           16.883117              0.0     4.145854  \n12           36.363636              0.0     8.811189  \n...                ...              ...          ...  \n8457          0.000000              0.0     0.769231  \n8458          0.000000              0.0     0.769231  \n8459          0.000000              0.0     0.769231  \n8460          0.000000              0.0     0.769231  \n8461          0.000000              0.0     0.769231  \n\n[7134 rows x 6 columns]",
      "text/html": "<div>\n<style scoped>\n    .dataframe tbody tr th:only-of-type {\n        vertical-align: middle;\n    }\n\n    .dataframe tbody tr th {\n        vertical-align: top;\n    }\n\n    .dataframe thead th {\n        text-align: right;\n    }\n</style>\n<table border=\"1\" class=\"dataframe\">\n  <thead>\n    <tr style=\"text-align: right;\">\n      <th></th>\n      <th>participate_count</th>\n      <th>xiangzanauthor_count</th>\n      <th>bexiangzansubjectCount</th>\n      <th>discussedCount</th>\n      <th>changheshiCount</th>\n      <th>totalWeight</th>\n    </tr>\n    <tr>\n      <th>poetID</th>\n      <th></th>\n      <th></th>\n      <th></th>\n      <th></th>\n      <th></th>\n      <th></th>\n    </tr>\n  </thead>\n  <tbody>\n    <tr>\n      <th>5</th>\n      <td>7.692308</td>\n      <td>0.0</td>\n      <td>100.0</td>\n      <td>49.350649</td>\n      <td>0.0</td>\n      <td>40.639361</td>\n    </tr>\n    <tr>\n      <th>6</th>\n      <td>7.692308</td>\n      <td>0.0</td>\n      <td>0.0</td>\n      <td>0.000000</td>\n      <td>0.0</td>\n      <td>0.769231</td>\n    </tr>\n    <tr>\n      <th>8</th>\n      <td>7.692308</td>\n      <td>0.0</td>\n      <td>0.0</td>\n      <td>2.597403</td>\n      <td>0.0</td>\n      <td>1.288711</td>\n    </tr>\n    <tr>\n      <th>11</th>\n      <td>7.692308</td>\n      <td>0.0</td>\n      <td>0.0</td>\n      <td>16.883117</td>\n      <td>0.0</td>\n      <td>4.145854</td>\n    </tr>\n    <tr>\n      <th>12</th>\n      <td>15.384615</td>\n      <td>0.0</td>\n      <td>0.0</td>\n      <td>36.363636</td>\n      <td>0.0</td>\n      <td>8.811189</td>\n    </tr>\n    <tr>\n      <th>...</th>\n      <td>...</td>\n      <td>...</td>\n      <td>...</td>\n      <td>...</td>\n      <td>...</td>\n      <td>...</td>\n    </tr>\n    <tr>\n      <th>8457</th>\n      <td>7.692308</td>\n      <td>0.0</td>\n      <td>0.0</td>\n      <td>0.000000</td>\n      <td>0.0</td>\n      <td>0.769231</td>\n    </tr>\n    <tr>\n      <th>8458</th>\n      <td>7.692308</td>\n      <td>0.0</td>\n      <td>0.0</td>\n      <td>0.000000</td>\n      <td>0.0</td>\n      <td>0.769231</td>\n    </tr>\n    <tr>\n      <th>8459</th>\n      <td>7.692308</td>\n      <td>0.0</td>\n      <td>0.0</td>\n      <td>0.000000</td>\n      <td>0.0</td>\n      <td>0.769231</td>\n    </tr>\n    <tr>\n      <th>8460</th>\n      <td>7.692308</td>\n      <td>0.0</td>\n      <td>0.0</td>\n      <td>0.000000</td>\n      <td>0.0</td>\n      <td>0.769231</td>\n    </tr>\n    <tr>\n      <th>8461</th>\n      <td>7.692308</td>\n      <td>0.0</td>\n      <td>0.0</td>\n      <td>0.000000</td>\n      <td>0.0</td>\n      <td>0.769231</td>\n    </tr>\n  </tbody>\n</table>\n<p>7134 rows × 6 columns</p>\n</div>"
     },
     "execution_count": 73,
     "metadata": {},
     "output_type": "execute_result"
    }
   ],
   "source": [
    "poet_min_max = poet_min_max_normalize.copy()\n",
    "\n",
    "poet_min_max['totalWeight'] = participateWeight*poet_min_max['participate_count'] + writeXZWeight*poet_min_max['xiangzanauthor_count']+inXZWeight*poet_min_max['bexiangzansubjectCount']+bediscussedWeight*poet_min_max['discussedCount']+changheWeight*poet_min_max['changheshiCount']\n",
    "\n",
    "poet_min_max"
   ],
   "metadata": {
    "collapsed": false,
    "ExecuteTime": {
     "end_time": "2024-11-02T13:23:09.241101Z",
     "start_time": "2024-11-02T13:23:09.218602Z"
    }
   },
   "id": "4e586112735aa547",
   "execution_count": 73
  },
  {
   "cell_type": "markdown",
   "source": [
    "### 2.8.3 对数归一化结果计算"
   ],
   "metadata": {
    "collapsed": false
   },
   "id": "cd6b1ce6c98f3e9c"
  },
  {
   "cell_type": "code",
   "outputs": [
    {
     "data": {
      "text/plain": "        participate_count  xiangzanauthor_count  bexiangzansubjectCount  \\\npoetID                                                                    \n5                0.693147                   0.0                0.693147   \n6                0.693147                   0.0                0.000000   \n8                0.693147                   0.0                0.000000   \n11               0.693147                   0.0                0.000000   \n12               1.098612                   0.0                0.000000   \n...                   ...                   ...                     ...   \n8457             0.693147                   0.0                0.000000   \n8458             0.693147                   0.0                0.000000   \n8459             0.693147                   0.0                0.000000   \n8460             0.693147                   0.0                0.000000   \n8461             0.693147                   0.0                0.000000   \n\n        discussedCount  changheshiCount  totalWeight  \npoetID                                                \n5             3.663562              0.0     1.009971  \n6             0.000000              0.0     0.069315  \n8             1.098612              0.0     0.289037  \n11            2.639057              0.0     0.597126  \n12            3.367296              0.0     0.783320  \n...                ...              ...          ...  \n8457          0.000000              0.0     0.069315  \n8458          0.000000              0.0     0.069315  \n8459          0.000000              0.0     0.069315  \n8460          0.000000              0.0     0.069315  \n8461          0.000000              0.0     0.069315  \n\n[7134 rows x 6 columns]",
      "text/html": "<div>\n<style scoped>\n    .dataframe tbody tr th:only-of-type {\n        vertical-align: middle;\n    }\n\n    .dataframe tbody tr th {\n        vertical-align: top;\n    }\n\n    .dataframe thead th {\n        text-align: right;\n    }\n</style>\n<table border=\"1\" class=\"dataframe\">\n  <thead>\n    <tr style=\"text-align: right;\">\n      <th></th>\n      <th>participate_count</th>\n      <th>xiangzanauthor_count</th>\n      <th>bexiangzansubjectCount</th>\n      <th>discussedCount</th>\n      <th>changheshiCount</th>\n      <th>totalWeight</th>\n    </tr>\n    <tr>\n      <th>poetID</th>\n      <th></th>\n      <th></th>\n      <th></th>\n      <th></th>\n      <th></th>\n      <th></th>\n    </tr>\n  </thead>\n  <tbody>\n    <tr>\n      <th>5</th>\n      <td>0.693147</td>\n      <td>0.0</td>\n      <td>0.693147</td>\n      <td>3.663562</td>\n      <td>0.0</td>\n      <td>1.009971</td>\n    </tr>\n    <tr>\n      <th>6</th>\n      <td>0.693147</td>\n      <td>0.0</td>\n      <td>0.000000</td>\n      <td>0.000000</td>\n      <td>0.0</td>\n      <td>0.069315</td>\n    </tr>\n    <tr>\n      <th>8</th>\n      <td>0.693147</td>\n      <td>0.0</td>\n      <td>0.000000</td>\n      <td>1.098612</td>\n      <td>0.0</td>\n      <td>0.289037</td>\n    </tr>\n    <tr>\n      <th>11</th>\n      <td>0.693147</td>\n      <td>0.0</td>\n      <td>0.000000</td>\n      <td>2.639057</td>\n      <td>0.0</td>\n      <td>0.597126</td>\n    </tr>\n    <tr>\n      <th>12</th>\n      <td>1.098612</td>\n      <td>0.0</td>\n      <td>0.000000</td>\n      <td>3.367296</td>\n      <td>0.0</td>\n      <td>0.783320</td>\n    </tr>\n    <tr>\n      <th>...</th>\n      <td>...</td>\n      <td>...</td>\n      <td>...</td>\n      <td>...</td>\n      <td>...</td>\n      <td>...</td>\n    </tr>\n    <tr>\n      <th>8457</th>\n      <td>0.693147</td>\n      <td>0.0</td>\n      <td>0.000000</td>\n      <td>0.000000</td>\n      <td>0.0</td>\n      <td>0.069315</td>\n    </tr>\n    <tr>\n      <th>8458</th>\n      <td>0.693147</td>\n      <td>0.0</td>\n      <td>0.000000</td>\n      <td>0.000000</td>\n      <td>0.0</td>\n      <td>0.069315</td>\n    </tr>\n    <tr>\n      <th>8459</th>\n      <td>0.693147</td>\n      <td>0.0</td>\n      <td>0.000000</td>\n      <td>0.000000</td>\n      <td>0.0</td>\n      <td>0.069315</td>\n    </tr>\n    <tr>\n      <th>8460</th>\n      <td>0.693147</td>\n      <td>0.0</td>\n      <td>0.000000</td>\n      <td>0.000000</td>\n      <td>0.0</td>\n      <td>0.069315</td>\n    </tr>\n    <tr>\n      <th>8461</th>\n      <td>0.693147</td>\n      <td>0.0</td>\n      <td>0.000000</td>\n      <td>0.000000</td>\n      <td>0.0</td>\n      <td>0.069315</td>\n    </tr>\n  </tbody>\n</table>\n<p>7134 rows × 6 columns</p>\n</div>"
     },
     "execution_count": 74,
     "metadata": {},
     "output_type": "execute_result"
    }
   ],
   "source": [
    "poet_log = poet_log_normalize.copy()\n",
    "\n",
    "poet_log['totalWeight'] = participateWeight*poet_log['participate_count'] + writeXZWeight*poet_log['xiangzanauthor_count']+inXZWeight*poet_log['bexiangzansubjectCount']+bediscussedWeight*poet_log['discussedCount']+changheWeight*poet_log['changheshiCount']\n",
    "\n",
    "poet_log"
   ],
   "metadata": {
    "collapsed": false,
    "ExecuteTime": {
     "end_time": "2024-11-02T13:23:12.757023Z",
     "start_time": "2024-11-02T13:23:12.734821Z"
    }
   },
   "id": "d2dabebd8ffcca0",
   "execution_count": 74
  },
  {
   "cell_type": "code",
   "outputs": [
    {
     "data": {
      "text/plain": "<IPython.lib.display.IFrame at 0x147d580d0>",
      "text/html": "\n        <iframe\n            width=\"100%\"\n            height=\"650\"\n            src=\"http://127.0.0.1:8050/\"\n            frameborder=\"0\"\n            allowfullscreen\n            \n        ></iframe>\n        "
     },
     "metadata": {},
     "output_type": "display_data"
    }
   ],
   "source": [
    "import dash\n",
    "from dash import dcc\n",
    "from dash import html\n",
    "from dash.dependencies import Input, Output\n",
    "import requests\n",
    "\n",
    "app = dash.Dash(__name__,suppress_callback_exceptions=True)\n",
    "\n",
    "app.layout = html.Div([\n",
    "    html.Div([\n",
    "        dcc.Graph(id='work-distribution-chart', style={'height': '95vh', 'width': '100vw'}),\n",
    "        html.Div(id='work-name-output')\n",
    "    ], style={'height': '100vh'}),\n",
    "    html.Div([\n",
    "        dcc.Graph(id='poet-distribution-chart', style={'height': '95vh', 'width': '100vw'}),\n",
    "        html.Div(id='poet-info-output')\n",
    "    ], style={'height': '100vh'})\n",
    "])\n",
    "\n",
    "ji_log_reset = ji_log.reset_index()\n",
    "poet_log_reset = poet_log.reset_index()\n",
    "\n",
    "jidata = ji_log['totalWeight'].value_counts(sort=True,ascending=True).reset_index().sort_values(by='totalWeight', ascending=False)\n",
    "poetdata = poet_log['totalWeight'].value_counts(sort=True,ascending=True).reset_index().sort_values(by='totalWeight', ascending=False)\n",
    "# poetdata['totalWeight'] = normalize_data_to_100(poetdata['totalWeight'])\n",
    "\n",
    "\n",
    "def normalize_data_to_100(series):\n",
    "    return (series - series.min()) / (series.max() - series.min()) * 100\n",
    "\n",
    "\n",
    "# API 调用函数\n",
    "def fetch_work_from_api(id):\n",
    "    response = requests.get(f\"http://localhost:8000/work/{id}\")\n",
    "    print(response)\n",
    "    if response.status_code == 200 and len(response.json())>0:\n",
    "        return str(response.json()[0]['workID']) + str(response.json()[0]['TitleHZ'])\n",
    "    else:\n",
    "        return f\"Work{id} not found\"\n",
    "    \n",
    "def fetch_poet_from_api(id):\n",
    "    response = requests.get(f\"http://localhost:8000/poet/{id}\")\n",
    "    print(response)\n",
    "    if response.status_code == 200 and len(response.json())>0:\n",
    "        return str(response.json()[0]['poetID']) + str(response.json()[0]['NameHZ'])\n",
    "    else:\n",
    "        return f\"Poet{id} not found\"\n",
    "\n",
    "# 更新显示的数据\n",
    "@app.callback(\n",
    "    Output('work-distribution-chart', 'figure'),\n",
    "    Output('work-name-output', 'children'),\n",
    "    Input('work-distribution-chart', 'hoverData')\n",
    ")\n",
    "def update_graph_and_display_name(hoverData):\n",
    "    # 绘制 Total 值的分布\n",
    "    fig = px.line(jidata, x='totalWeight', y='count', text='count', title=\"Distribution of work Total Values\")\n",
    "   \n",
    "    work_name = \"Hover over a bar to see the work's name.\"\n",
    "    if hoverData:\n",
    "        total_value = float(hoverData['points'][0]['x'])\n",
    "        print(total_value)\n",
    "        ids = ji_log_reset[ji_log_reset['totalWeight'] == total_value]['workID'].tolist()\n",
    "        work_names = \"｜ \".join([fetch_work_from_api(id) for id in ids])\n",
    "        \n",
    "        work_name = f\"work: {work_names}\"\n",
    "    return fig, work_name\n",
    "\n",
    "@app.callback(\n",
    "    Output('poet-distribution-chart', 'figure'),\n",
    "    Output('poet-info-output', 'children'),\n",
    "    Input('poet-distribution-chart', 'hoverData')\n",
    ")\n",
    "\n",
    "def update_poet_graph(hoverData):\n",
    "    fig = px.line(poetdata, x='totalWeight', y='count', text='count', title=\"Distribution of Poet Weights\")\n",
    "    \n",
    "    poet_name = \"Hover over a bar to see poet details.\"\n",
    "    if hoverData:\n",
    "        total_value = float(hoverData['points'][0]['x'])\n",
    "        ids = poet_log_reset[poet_log_reset['totalWeight'] == total_value]['poetID'].tolist()\n",
    "        poet_names = \"｜\".join([fetch_poet_from_api(id) for id in ids])\n",
    "        \n",
    "        poet_name = f\"Poet: {poet_names}\"\n",
    "    return fig, poet_name\n",
    "\n",
    "# 运行应用\n",
    "if __name__ == '__main__':\n",
    "    app.run_server(debug=True)"
   ],
   "metadata": {
    "collapsed": false,
    "ExecuteTime": {
     "end_time": "2024-11-02T14:20:56.578868Z",
     "start_time": "2024-11-02T14:20:56.467702Z"
    }
   },
   "id": "926573e3cf005748",
   "execution_count": 81
  },
  {
   "cell_type": "code",
   "outputs": [],
   "source": [],
   "metadata": {
    "collapsed": false
   },
   "id": "b27d5d1958a490c8"
  }
 ],
 "metadata": {
  "kernelspec": {
   "display_name": "Python 3",
   "language": "python",
   "name": "python3"
  },
  "language_info": {
   "codemirror_mode": {
    "name": "ipython",
    "version": 2
   },
   "file_extension": ".py",
   "mimetype": "text/x-python",
   "name": "python",
   "nbconvert_exporter": "python",
   "pygments_lexer": "ipython2",
   "version": "2.7.6"
  }
 },
 "nbformat": 4,
 "nbformat_minor": 5
}
